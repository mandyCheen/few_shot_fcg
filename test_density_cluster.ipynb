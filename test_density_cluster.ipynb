{
 "cells": [
  {
   "cell_type": "code",
   "execution_count": null,
   "metadata": {},
   "outputs": [],
   "source": [
    "%load_ext autoreload\n",
    "%autoreload 2 "
   ]
  },
  {
   "cell_type": "markdown",
   "metadata": {},
   "source": [
    "### Distance Builder"
   ]
  },
  {
   "cell_type": "code",
   "execution_count": null,
   "metadata": {},
   "outputs": [],
   "source": [
    "import numpy as np\n",
    "\n",
    "class DistanceBuilder(object):\n",
    "\n",
    "  \"\"\"\n",
    "  Build distance file for cluster\n",
    "  \"\"\"  \n",
    "\n",
    "  def __init__(self):\n",
    "    self.vectors = []\n",
    "\n",
    "  def load_points(self, filename):\n",
    "    '''\n",
    "    Load all points from file(x dimension vectors)\n",
    "\n",
    "    Args:\n",
    "        filename : file's name that contains all points. Format is a vector one line, each dimension value split by blank space\n",
    "    '''\n",
    "    with open(filename, 'r') as fp:\n",
    "      for line in fp:\n",
    "        self.vectors.append(np.array(list(map(float, line.split('\\t')[:])), dtype = np.float32))\n",
    "    self.vectors = np.array(self.vectors, dtype = np.float32)\n",
    "\n",
    "\n",
    "  def build_distance_file_for_cluster(self, distance_obj, filename):\n",
    "    '''\n",
    "    Save distance and index into file\n",
    "\n",
    "    Args:\n",
    "        distance_obj : distance.Distance object for compute the distance of two point\n",
    "        filename     : file to save the result for cluster\n",
    "    '''\n",
    "    fo = open(filename, 'w')\n",
    "    for i in range(len(self.vectors) - 1):\n",
    "      for j in range(i, len(self.vectors)):\n",
    "        fo.write(str(i + 1) + ' ' + str(j + 1) + ' ' + str(distance_obj.distance(self.vectors[i], self.vectors[j])) + '\\n')\n",
    "    fo.close()"
   ]
  },
  {
   "cell_type": "code",
   "execution_count": null,
   "metadata": {},
   "outputs": [],
   "source": [
    "from math import sqrt\n",
    "from abc import ABCMeta, abstractmethod\n",
    "import numpy as np\n",
    "import numpy.linalg as linalg\n",
    "\n",
    "\n",
    "class WrongVecError(Exception):\n",
    "    '''\n",
    "    Raised when an operation use empty or not same size vector.\n",
    "    \n",
    "    Attributes:\n",
    "        value: error info\n",
    "    '''\n",
    "    def __init__(self, value):\n",
    "        self.value = value\n",
    "    \n",
    "    def __str__(self):\n",
    "        return repr(self.value)\n",
    "\n",
    "class Distance():\n",
    "  \"\"\"\n",
    "    abstract class, represent distance of two vector\n",
    "    \n",
    "    Attributes:\n",
    "    \"\"\"    \n",
    "\n",
    "  __metaclass__ = ABCMeta\n",
    "         \n",
    "  @abstractmethod\n",
    "  def distance(self, vec1, vec2):\n",
    "    \"\"\"\n",
    "    Compute distance of two vector(one line numpy array)\n",
    "    if you use scipy to store the sparse matrix, please use s.getrow(line_num).toarray() build the one dimensional array\n",
    "    \n",
    "    Args:\n",
    "        vec1: the first line vector, an instance of array\n",
    "        vec2: the second line vector, an instance of array\n",
    "      \n",
    "    Returns:\n",
    "        the computed distance\n",
    "    \n",
    "    Raises:\n",
    "        TypeError: if vec1 or vec2 is not numpy.ndarray and one line array\n",
    "    \"\"\"\n",
    "    if not isinstance(vec1, np.ndarray) or not isinstance(vec2, np.ndarray):\n",
    "      raise TypeError(\"type of vec1 or vec2 is not numpy.ndarray\")\n",
    "    if vec1.ndim is not 1 or vec2.ndim is not 1:\n",
    "      raise WrongVecError(\"vec1 or vec2 is not one line array\")\n",
    "    if vec1.size != vec2.size:\n",
    "      raise WrongVecError(\"vec1 or vec2 is not same size\")    \n",
    "    pass\n",
    "  \n",
    "class SqrtDistance(Distance):\n",
    "  \"\"\"\n",
    "  Square distance\n",
    "      \n",
    "  a sub class of Distance\n",
    "  \"\"\"  \n",
    "\n",
    "  def distance(self, vec1, vec2):\n",
    "    \"\"\"\n",
    "    Compute distance of two vector by square distance\n",
    "    \"\"\"\n",
    "    super(SqrtDistance, self).distance(vec1, vec2)      #super method\n",
    "    vec=vec1-vec2\n",
    "    return sqrt(sum([pow(item, 2) for item in vec]))"
   ]
  },
  {
   "cell_type": "code",
   "execution_count": null,
   "metadata": {},
   "outputs": [],
   "source": [
    "# test for one class\n",
    "FAMILY = \"tsunami\"\n",
    "builder = DistanceBuilder()\n",
    "builder.load_points(f'{CLUSTER_PATH}{CPU_ARCH}_{FAMILY}_train{ADDITIONAL_INFO}.txt')\n",
    "builder.build_distance_file_for_cluster(SqrtDistance(), f'{CLUSTER_PATH}{CPU_ARCH}_{FAMILY}_train{ADDITIONAL_INFO}.dat')"
   ]
  },
  {
   "cell_type": "markdown",
   "metadata": {},
   "source": [
    "### Choose Center"
   ]
  },
  {
   "cell_type": "code",
   "execution_count": null,
   "metadata": {},
   "outputs": [],
   "source": [
    "import logging\n",
    "from plot import *\n",
    "from cluster import *\n",
    "\n",
    "\n",
    "def plot(data, auto_select_dc = False, family = None):\n",
    "\tlogging.basicConfig(format='%(asctime)s : %(levelname)s : %(message)s', level=logging.INFO)\n",
    "\tdpcluster = DensityPeakCluster()\n",
    "\tdistances, max_dis, min_dis, max_id, rho, rc = dpcluster.local_density(load_paperdata, data, auto_select_dc = auto_select_dc)\n",
    "\tdelta, nneigh = min_distance(max_id, max_dis, distances, rho)\n",
    "\tplot_rho_delta(rho, delta, family + ADDITIONAL_INFO + \"_crossArch\")   #plot to choose the threthold"
   ]
  },
  {
   "cell_type": "code",
   "execution_count": null,
   "metadata": {},
   "outputs": [],
   "source": [
    "plot(f'{CLUSTER_PATH}{CPU_ARCH}_{FAMILY}_train{ADDITIONAL_INFO}.dat', False, family = FAMILY)"
   ]
  },
  {
   "cell_type": "markdown",
   "metadata": {},
   "source": [
    "### Cluster"
   ]
  },
  {
   "cell_type": "code",
   "execution_count": null,
   "metadata": {},
   "outputs": [],
   "source": [
    "import logging\n",
    "from plot import *\n",
    "from cluster import *\n",
    "\n",
    "\n",
    "def plot(data, density_threshold, distance_threshold, auto_select_dc = False, family = None):\n",
    "\tlogging.basicConfig(format='%(asctime)s : %(levelname)s : %(message)s', level=logging.INFO)\n",
    "\tdpcluster = DensityPeakCluster()\n",
    "\trho, delta, nneigh = dpcluster.cluster(load_paperdata, data, density_threshold, distance_threshold, auto_select_dc = auto_select_dc)\n",
    "\tlogger.info(str(len(dpcluster.ccenter)) + ' center as below')\n",
    "\tfor idx, center in dpcluster.ccenter.items():\n",
    "\t\tlogger.info('%d %f %f' %(idx, rho[center], delta[center]))\n",
    "\tplot_rho_delta(rho, delta, family+ADDITIONAL_INFO+\"_crossArch\")   #plot to choose the threthold\n",
    "\tplot_rhodelta_rho(rho,delta, family+ADDITIONAL_INFO+\"_crossArch\")  #plot to choose the threthold\n",
    "\tplot_cluster(dpcluster, family+ADDITIONAL_INFO+\"_crossArch\")"
   ]
  },
  {
   "cell_type": "code",
   "execution_count": null,
   "metadata": {},
   "outputs": [],
   "source": [
    "plot(f'{CLUSTER_PATH}{CPU_ARCH}_{FAMILY}_train{ADDITIONAL_INFO}.dat', 4, 0.75, False, family = FAMILY)"
   ]
  }
 ],
 "metadata": {
  "kernelspec": {
   "display_name": "prototype",
   "language": "python",
   "name": "python3"
  },
  "language_info": {
   "name": "python",
   "version": "3.11.9"
  }
 },
 "nbformat": 4,
 "nbformat_minor": 2
}
