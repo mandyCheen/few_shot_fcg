{
 "cells": [
  {
   "cell_type": "code",
   "execution_count": 1,
   "metadata": {},
   "outputs": [],
   "source": [
    "\n",
    "from utils import load_config\n",
    "from loadDataset import LoadDataset\n",
    "from trainModule import TrainModule, TestModule\n",
    "from fcgVectorize import FCGVectorize\n",
    "import warnings\n",
    "warnings.filterwarnings(\"ignore\")\n",
    "               "
   ]
  },
  {
   "cell_type": "code",
   "execution_count": 2,
   "metadata": {},
   "outputs": [],
   "source": [
    "options = {\n",
    "    \"dataset\": {\n",
    "        \"pack_filter\": \"diec\",\n",
    "        \"cpu_arch\": \"x86_64\",\n",
    "        \"reverse_tool\": \"ghidra\",\n",
    "        \"raw\": \"malware_diec_ghidra_x86_64_fcg_dataset.csv\",\n",
    "        \"split_by_cpu\": False,\n",
    "        \"pretrain_family\": [\n",
    "            \"gafgyt\",\n",
    "            \"ngioweb\",\n",
    "            \"mirai\",\n",
    "            \"tsunami\"\n",
    "        ]\n",
    "    },\n",
    "    \"pretrain\": {\n",
    "        \"name\": \"x86_pretrained\",\n",
    "        \"use\": True,\n",
    "        \"raw_dataset\": \"malware_diec_ghidra_x86_64_fcg_pretrain_dataset.csv\",\n",
    "        \"batch_size\": 128\n",
    "    },\n",
    "    \"settings\": {\n",
    "        \"name\": \"10way_5shot_ProtoNet_with_pretrain\",\n",
    "        \"model\": {\n",
    "            \"model_name\": \"GraphSAGE\",\n",
    "            \"input_size\": 128,\n",
    "            \"hidden_size\": 128,\n",
    "            \"output_size\": 128,\n",
    "            \"num_layers\": 2,\n",
    "            \"projection\": True,\n",
    "            \"load_weights\": \"x86_pretrained_20241121_1653\"\n",
    "        },\n",
    "        \"train\": {\n",
    "            \"training\": True,\n",
    "            \"validation\": True,\n",
    "            \"num_epochs\": 500,\n",
    "            \"device\": \"cuda:1\",\n",
    "            \"parallel\": False,\n",
    "            \"parallel_device\": [],\n",
    "            \"iterations\": 100,\n",
    "            \"lr\": 0.0005,\n",
    "            \"projection_lr\": 0.001,\n",
    "            \"lr_scheduler\": {\n",
    "                \"use\": True,\n",
    "                \"method\": \"ReduceLROnPlateau\",\n",
    "                \"step_size\": 20,\n",
    "                \"gamma\": 0.5,\n",
    "                \"patience\": 10,\n",
    "                \"factor\": 0.5\n",
    "            },\n",
    "            \"early_stopping\": {\n",
    "                \"use\": True,\n",
    "                \"patience\":  30\n",
    "            },\n",
    "            \"loss\": \"CrossEntropyLoss\",\n",
    "            \"distance\": \"euclidean\",\n",
    "            \"optimizer\": \"AdamW\",\n",
    "            \"save_model\": True,\n",
    "        },\n",
    "        \"few_shot\": {\n",
    "            \"method\": \"ProtoNet\",\n",
    "            \"train\": {\n",
    "                \"support_shots\": 5,\n",
    "                \"query_shots\": 15,\n",
    "                \"class_per_iter\": 10\n",
    "            },\n",
    "            \"test\": {\n",
    "                \"support_shots\": 5,\n",
    "                \"query_shots\": 15,\n",
    "                \"class_per_iter\": 10\n",
    "            }\n",
    "        },\n",
    "        \"vectorize\": {\n",
    "            \"node_embedding_method\": \"word2vec\",\n",
    "            \"node_embedding_size\": 128,\n",
    "            \"num_workers\": 4\n",
    "        },\n",
    "        \"seed\": 10\n",
    "    },\n",
    "    \"paths\": {\n",
    "        \"data\": {\n",
    "            \"fcg_dataset\": \"./dataset/data_ghidra_fcg\",\n",
    "            \"csv_folder\": \"./dataset/raw_csv\",\n",
    "            \"split_folder\": \"./dataset/split\",\n",
    "            \"embedding_folder\": \"./embeddings\",\n",
    "            \"pretrain_dataset\": \"./dataset/data_ghidra_fcg_pretrain\"\n",
    "        },\n",
    "        \"model\": {\n",
    "            \"model_folder\": \"./checkpoints\",\n",
    "            \"pretrained_folder\": \"./pretrained\"\n",
    "        }\n",
    "    }\n",
    "}\n",
    "\n"
   ]
  },
  {
   "cell_type": "code",
   "execution_count": 3,
   "metadata": {},
   "outputs": [
    {
     "name": "stdout",
     "output_type": "stream",
     "text": [
      "Loading all datasets...\n",
      "Split dataset for train does not exist, creating split dataset...\n",
      "train dataset shape: (1180, 16)\n",
      "train dataset family number: 59\n",
      "test dataset shape: (200, 16)\n",
      "test dataset family number: 10\n",
      "val dataset shape: (200, 16)\n",
      "val dataset family number: 10\n",
      "Training opcodeSet & Sentence not exist, start to get opcodeSet & Sentence...\n",
      "Start to get OpcodeSet & Sentence...\n"
     ]
    },
    {
     "name": "stderr",
     "output_type": "stream",
     "text": [
      "100%|██████████| 1180/1180 [00:55<00:00, 21.41it/s]\n"
     ]
    },
    {
     "name": "stdout",
     "output_type": "stream",
     "text": [
      "Save opcodeSet to ./embeddings/x86_64_withVal_withPretrain_ghidra_10/word2vec/opcodeSet.pkl\n",
      "Save sentence to ./embeddings/x86_64_withVal_withPretrain_ghidra_10/word2vec/opcodeSentences.pkl\n",
      "Finish getting opcodeSet & Sentence\n",
      "Number of opcodeSet:  573\n",
      "Training word2vec model...\n",
      "Finish training word2vec model, save word2vec model to ./embeddings/x86_64_withVal_withPretrain_ghidra_10/word2vec\n",
      "Start to get node embedding...\n"
     ]
    },
    {
     "name": "stderr",
     "output_type": "stream",
     "text": [
      "100%|██████████| 1580/1580 [05:36<00:00,  4.70it/s]\n"
     ]
    },
    {
     "name": "stdout",
     "output_type": "stream",
     "text": [
      "Finish getting node embedding\n",
      "Setting up the training module...\n",
      "Loading data from ./embeddings/x86_64_withVal_withPretrain_ghidra_10/word2vec...\n",
      "Loading training data...\n"
     ]
    },
    {
     "name": "stderr",
     "output_type": "stream",
     "text": [
      "100%|██████████| 1180/1180 [02:43<00:00,  7.24it/s]\n"
     ]
    },
    {
     "name": "stdout",
     "output_type": "stream",
     "text": [
      "Saving data to ./embeddings/x86_64_withVal_withPretrain_ghidra_10/word2vec/trainData.pkl\n",
      "Loading validation data...\n"
     ]
    },
    {
     "name": "stderr",
     "output_type": "stream",
     "text": [
      "100%|██████████| 200/200 [00:20<00:00,  9.82it/s]\n"
     ]
    },
    {
     "name": "stdout",
     "output_type": "stream",
     "text": [
      "Saving data to ./embeddings/x86_64_withVal_withPretrain_ghidra_10/word2vec/valData.pkl\n",
      "Model loaded from ./pretrained/x86_pretrained_20241121_1653/epoch_2060_best_backbone.pth\n",
      "Device: cuda:1\n",
      "Model: GraphSAGE(\n",
      "  (sage_convs): ModuleList(\n",
      "    (0-1): 2 x SAGEConv(128, 128, aggr=mean)\n",
      "  )\n",
      "  (norms): ModuleList(\n",
      "    (0-1): 2 x BatchNorm1d(128, eps=1e-05, momentum=0.1, affine=True, track_running_stats=True)\n",
      "  )\n",
      "  (output_proj): Sequential(\n",
      "    (0): Linear(in_features=128, out_features=128, bias=True)\n",
      "    (1): BatchNorm1d(128, eps=1e-05, momentum=0.1, affine=True, track_running_stats=True)\n",
      "    (2): ReLU()\n",
      "  )\n",
      ")\n",
      "Loss function: <loss.ProtoLoss object at 0x7ffa29feebd0>\n",
      "Optimizer: AdamW (\n",
      "Parameter Group 0\n",
      "    amsgrad: False\n",
      "    betas: (0.9, 0.999)\n",
      "    capturable: False\n",
      "    differentiable: False\n",
      "    eps: 1e-08\n",
      "    foreach: None\n",
      "    fused: None\n",
      "    lr: 0.001\n",
      "    maximize: False\n",
      "    weight_decay: 0.01\n",
      "\n",
      "Parameter Group 1\n",
      "    amsgrad: False\n",
      "    betas: (0.9, 0.999)\n",
      "    capturable: False\n",
      "    differentiable: False\n",
      "    eps: 1e-08\n",
      "    foreach: None\n",
      "    fused: None\n",
      "    lr: 0.0005\n",
      "    maximize: False\n",
      "    weight_decay: 0.01\n",
      ")\n",
      "Finish setting up the training module\n"
     ]
    }
   ],
   "source": [
    "dataset = LoadDataset(options)                                   \n",
    "vectorize = FCGVectorize(options, dataset)                  \n",
    "vectorize.node_embedding(dataset.rawDataset)                                                    \n",
    "train = TrainModule(options, dataset)\n"
   ]
  }
 ],
 "metadata": {
  "kernelspec": {
   "display_name": "prototype",
   "language": "python",
   "name": "python3"
  },
  "language_info": {
   "codemirror_mode": {
    "name": "ipython",
    "version": 3
   },
   "file_extension": ".py",
   "mimetype": "text/x-python",
   "name": "python",
   "nbconvert_exporter": "python",
   "pygments_lexer": "ipython3",
   "version": "3.11.9"
  }
 },
 "nbformat": 4,
 "nbformat_minor": 2
}
