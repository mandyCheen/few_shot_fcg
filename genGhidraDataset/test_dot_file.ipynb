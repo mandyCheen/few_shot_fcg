{
 "cells": [
  {
   "cell_type": "code",
   "execution_count": 1,
   "metadata": {},
   "outputs": [],
   "source": [
    "import networkx as nx\n",
    "from pathlib import Path\n",
    "\n",
    "def dot_to_networkx(dot_file_path):\n",
    "    \"\"\"\n",
    "    將.dot檔案轉換為NetworkX圖形對象\n",
    "    \n",
    "    參數:\n",
    "    dot_file_path (str): .dot檔案的路徑\n",
    "    \n",
    "    返回:\n",
    "    networkx.Graph: 轉換後的NetworkX圖形\n",
    "    \"\"\"\n",
    "    try:\n",
    "        # 檢查檔案是否存在\n",
    "        if not Path(dot_file_path).is_file():\n",
    "            raise FileNotFoundError(f\"找不到檔案: {dot_file_path}\")\n",
    "            \n",
    "        # 檢查檔案副檔名\n",
    "        if not dot_file_path.lower().endswith('.dot'):\n",
    "            raise ValueError(\"檔案必須是.dot格式\")\n",
    "            \n",
    "        # 讀取.dot檔案並轉換為NetworkX圖形\n",
    "        graph = nx.drawing.nx_pydot.read_dot(dot_file_path)\n",
    "        \n",
    "        # 若需要將圖形轉換為無向圖\n",
    "        # graph = graph.to_undirected()\n",
    "        \n",
    "        return graph\n",
    "        \n",
    "    except Exception as e:\n",
    "        print(f\"轉換過程中發生錯誤: {str(e)}\")\n",
    "        return None\n",
    "\n"
   ]
  },
  {
   "cell_type": "code",
   "execution_count": 41,
   "metadata": {},
   "outputs": [
    {
     "name": "stdout",
     "output_type": "stream",
     "text": [
      "節點數量: 268\n",
      "邊的數量: 477\n"
     ]
    }
   ],
   "source": [
    "name = \"03d927a00afb76d9e2dd4b27d57c673b66babcbe57681bc5a399efb66384e8e8\"\n",
    "dot_file = f\"/home/manying/Data/malware/Malware202403/fcg_ghidra/X86_64/{name}/{name}.dot\"\n",
    "G = dot_to_networkx(dot_file)\n",
    "\n",
    "if G is not None:\n",
    "    # 顯示圖形的基本信息\n",
    "    print(f\"節點數量: {G.number_of_nodes()}\")\n",
    "    print(f\"邊的數量: {G.number_of_edges()}\")\n",
    "    \n",
    "    # 存儲為其他格式（可選）\n",
    "    # nx.write_gexf(G, \"output.gexf\")\n",
    "    # nx.write_graphml(G, \"output.graphml\")"
   ]
  },
  {
   "cell_type": "code",
   "execution_count": 42,
   "metadata": {},
   "outputs": [
    {
     "name": "stdout",
     "output_type": "stream",
     "text": [
      "dict_keys(['0x102df0L', '0x31a2c0L', '0x1026b0L', '0x31a0d8L', '0x106bb0L', '0x103440L', '0x1022d0L', '0x31a070L', '0x102730L', '0x102500L', '0x31a038L', '0x31a268L', '0x102120L', '0x108490L', '0x31a220L', '0x102350L', '0x102580L', '0x1050b0L', '0x1025a0L', '0x1073c0L', '0x105b40L', '0x106840L', '0x31a1e8L', '0x31a1a0L', '0x1021c0L', '0x1023f0L', '0x107670L', '0x107b70L', '0x104910L', '0x31a180L', '0x102620L', '0x1038b0L', '0x105510L', '0x31a148L', '0x102240L', '0x31a330L', '0x109bd0L', '0x31a100L', '0x102470L', '0x1030f0L', '0x31a0a0L', '0x1026a0L', '0x31a2d0L', '0x106730L', '0x1022c0L', '0x1024f0L', '0x108be0L', '0x104ed0L', '0x31a0e8L', '0x104810L', '0x31a230L', '0x102720L', '0x31a080L', '0x102190L', '0x102340L', '0x102570L', '0x31a000L', '0x31a278L', '0x31a1b0L', '0x31a308L', '0x1021b0L', '0x1023e0L', '0x31a1f8L', '0x31a340L', '0x31a190L', '0x102610L', '0x31a158L', '0x102230L', '0x31a110L', '0x102460L', '0x102690L', '0x1022b0L', '0x31a0f0L', '0x31a0b8L', '0x31a2a0L', '0x107b10L', '0x1024e0L', '0x31a2e8L', '0x105080L', '0x31a098L', '0x102330L', '0x31a050L', '0x31a280L', '0x102710L', '0x31a018L', '0x31a248L', '0x102180L', '0x102560L', '0x31a200L', '0x102790L', '0x1021a0L', '0x1027b0L', '0x1096d0L', '0x1069d0L', '0x31a1c8L', '0x1023d0L', '0x102220L', '0x102600L', '0x31a160L', '0x31a128L', '0x102450L', '0x102680L', '0x31a358L', '0x31a310L', '0x1024d0L', '0x1022a0L', '0x31a0c8L', '0x31a2b0L', '0x31a2f8L', '0x102550L', '0x102320L', '0x31a290L', '0x102700L', '0x31a060L', '0x31a258L', '0x31a028L', '0x31a210L', '0x102170L', '0x102780L', '0x105f10L', '0x1023c0L', '0x1027a0L', '0x31a1d8L', '0x1025f0L', '0x106cd0L', '0x102440L', '0x102a70L', '0x102210L', '0x31a170L', '0x102820L', '0x31a138L', '0x102670L', '0x102290L', '0x31a320L', '0x31a0d0L', '0x1026f0L', '0x1024c0L', '0x106300L', '0x106990L', '0x31a228L', '0x1028a0L', '0x1093b0L', '0x31a2c8L', '0x31a030L', '0x31a260L', '0x102310L', '0x102770L', '0x102540L', '0x108bb0L', '0x31a1a8L', '0x106d00L', '0x102390L', '0x31a078L', '0x102160L', '0x31a1e0L', '0x1025e0L', '0x1023b0L', '0x31a338L', '0x31a108L', '0x1048d0L', '0x103510L', '0x31a140L', '0x102660L', '0x102430L', '0x105a70L', '0x31a2b8L', '0x102200L', '0x31a188L', '0x102280L', '0x1024b0L', '0x1026e0L', '0x31a008L', '0x31a0e0L', '0x31a0a8L', '0x31a2d8L', '0x102760L', '0x102530L', '0x102300L', '0x31a040L', '0x31a270L', '0x102150L', '0x102380L', '0x31a238L', '0x31a088L', '0x1023a0L', '0x1025d0L', '0x31a118L', '0x1048e0L', '0x31a1f0L', '0x1021f0L', '0x31a1b8L', '0x31a150L', '0x102420L', '0x105a80L', '0x102650L', '0x104730L', '0x31a348L', '0x31a198L', '0x102270L', '0x31a300L', '0x1024a0L', '0x31a0b0L', '0x1026d0L', '0x106c90L', '0x31a208L', '0x31a2e0L', '0x31a0f8L', '0x1022f0L', '0x102520L', '0x31a010L', '0x31a240L', '0x102750L', '0x102140L', '0x1033e0L', '0x104c90L', '0x31a058L', '0x31a288L', '0x102370L', '0x1025c0L', '0x31a1c0L', '0x31a318L', '0x1094e0L', '0x103110L', '0x31a090L', '0x1021e0L', '0x102410L', '0x102640L', '0x1086b0L', '0x31a120L', '0x31a350L', '0x1067e0L', '0x102260L', '0x102490L', '0x107ad0L', '0x31a168L', '0x31a0c0L', '0x1026c0L', '0x31a218L', '0x1020f8L', '0x31a2f0L', '0x1022e0L', '0x107b40L', '0x31a250L', '0x102740L', '0x31a020L', '0x102510L', '0x1066d0L', '0x102130L', '0x31a298L', '0x102590L', '0x102360L', '0x31a068L', '0x1025b0L', '0x31a1d0L', '0x1027e0L', '0x31a328L', '0x108340L', '0x1021d0L', '0x102630L', '0x107a20L', '0x31a130L', '0x31a2a8L', '0x102860L', '0x102400L', '0x102250L', '0x106490L', '0x31a178L', '0x102480L'])\n"
     ]
    }
   ],
   "source": [
    "import json\n",
    "\n",
    "json_file = f\"/home/manying/Data/malware/Malware202403/fcg_ghidra/X86_64/{name}/{name}.json\"\n",
    "with open(json_file, 'r') as f:\n",
    "    data = json.load(f)\n",
    "\n",
    "print(data.keys())\n",
    "\n",
    "for node in data.keys():\n",
    "    instructions = data[node]['instructions']\n",
    "    opcode = []\n",
    "    for ins in instructions:\n",
    "        opcode.append(ins['instruction'].split()[0])\n",
    "    G.nodes[node]['x'] = opcode\n",
    "    \n",
    "    \n"
   ]
  },
  {
   "cell_type": "code",
   "execution_count": 43,
   "metadata": {},
   "outputs": [
    {
     "name": "stdout",
     "output_type": "stream",
     "text": [
      "節點數量: 268\n",
      "邊的數量: 477\n",
      "268\n",
      "('0x1020f8L', {'label': '\"_init\"', 'x': ['SUB', 'MOV', 'TEST', 'JZ', 'CALL', 'ADD', 'RET']})\n"
     ]
    }
   ],
   "source": [
    "print(f\"節點數量: {G.number_of_nodes()}\")\n",
    "print(f\"邊的數量: {G.number_of_edges()}\")\n",
    "\n",
    "print(len(data.keys()))\n",
    "\n",
    "for node in G.nodes(data=True):\n",
    "    print(node)\n",
    "    break\n"
   ]
  },
  {
   "cell_type": "code",
   "execution_count": 44,
   "metadata": {},
   "outputs": [
    {
     "name": "stdout",
     "output_type": "stream",
     "text": [
      "malsource\n"
     ]
    }
   ],
   "source": [
    "CSV_PATH = \"/home/manying/Projects/fcgFewShot/dataset/raw_csv/malware_diec_ghidra_x86_64_fcg_dataset.csv\"\n",
    "ORIGINAL_PATH = \"/home/manying/Documents/malwareReport/ghidra_fcg_temp_dup.csv\"\n",
    "import pandas as pd\n",
    "replace_name = \"036d8e54a44548d9da0a545cdbbf5931f3d92ae214d933c509d17459f73a6857\"\n",
    "df = pd.read_csv(CSV_PATH)\n",
    "ori = pd.read_csv(ORIGINAL_PATH)\n",
    "if replace_name:\n",
    "    row = df[df['file_name'] == replace_name]\n",
    "    loc = row.index[0]\n",
    "    df.loc[loc] = ori[ori['file_name'] == name].values[0]\n",
    "family = df[df['file_name'] == name]['family'].values[0]\n",
    "print(family)\n"
   ]
  },
  {
   "cell_type": "code",
   "execution_count": 45,
   "metadata": {},
   "outputs": [],
   "source": [
    "output = f\"/home/manying/Projects/fcgFewShot/dataset/data_ghidra_fcg/Advanced Micro Devices X86-64/{family}/{name}.gpickle\"\n",
    "import pickle\n",
    "\n",
    "with open(output, 'wb') as f:\n",
    "    pickle.dump(G, f)\n",
    "\n",
    "df.to_csv(CSV_PATH, index=False)"
   ]
  },
  {
   "cell_type": "code",
   "execution_count": 31,
   "metadata": {},
   "outputs": [
    {
     "name": "stdout",
     "output_type": "stream",
     "text": [
      "entry0\n",
      "{'x': ['endbr64', 'xor', 'mov', 'pop', 'mov', 'and', 'push', 'push', 'xor', 'xor', 'lea', 'call']}\n",
      "reloc.__libc_start_main\n",
      "{'x': []}\n",
      "entry.fini0\n",
      "{'x': ['endbr64', 'cmp', 'jne', 'push', 'cmp', 'mov', 'je', 'mov', 'call', 'call', 'mov', 'pop', 'ret', 'ret']}\n",
      "fcn.00001150\n",
      "{'x': ['endbr64', 'bnd']}\n",
      "sym.deregister_tm_clones\n",
      "{'x': ['lea', 'lea', 'cmp', 'je', 'mov', 'test', 'je', 'jmp', 'ret']}\n",
      "sym.adore_makeroot\n",
      "{'x': ['endbr64', 'push', 'mov', 'mov', 'mov', 'lea', 'mov', 'call', 'mov', 'call', 'mov', 'call', 'call', 'pop', 'neg', 'sbb', 'ret']}\n",
      "sym.imp.open\n",
      "{'x': ['endbr64', 'bnd']}\n",
      "sym.imp.close\n",
      "{'x': ['endbr64', 'bnd']}\n",
      "sym.imp.unlink\n",
      "{'x': ['endbr64', 'bnd']}\n",
      "sym.imp.geteuid\n",
      "{'x': ['endbr64', 'bnd']}\n",
      "sym.adore_init\n",
      "{'x': ['endbr64', 'push', 'mov', 'mov', 'push', 'lea', 'sub', 'mov', 'mov', 'xor', 'call', 'mov', 'mov', 'mov', 'mov', 'mov', 'call', 'mov', 'call', 'mov', 'call', 'lea', 'lea', 'lea', 'call', 'mov', 'mov', 'mov', 'mov', 'lea', 'mov', 'call', 'call', 'cmp', 'je', 'mov', 'mov', 'mov', 'sub', 'jne', 'add', 'mov', 'pop', 'pop', 'ret', 'call', 'cmp', 'je', 'mov', 'mov', 'mov', 'lea', 'call', 'mov', 'jmp', 'call']}\n",
      "sym.imp.calloc\n",
      "{'x': ['endbr64', 'bnd']}\n",
      "sym.imp.getresuid\n",
      "{'x': ['endbr64', 'bnd']}\n",
      "sym.imp.printf\n",
      "{'x': ['endbr64', 'bnd']}\n",
      "sym.imp.getuid\n",
      "{'x': ['endbr64', 'bnd']}\n",
      "sym.imp.fwrite\n",
      "{'x': ['endbr64', 'bnd']}\n",
      "sym.imp.__stack_chk_fail\n",
      "{'x': ['endbr64', 'bnd']}\n",
      "sym.adore_free\n",
      "{'x': ['endbr64', 'sub', 'call', 'mov', 'add', 'ret']}\n",
      "sym.imp.free\n",
      "{'x': ['endbr64', 'bnd']}\n",
      "main\n",
      "{'x': ['endbr64', 'push', 'push', 'push', 'mov', 'push', 'sub', 'cmp', 'jg', 'jne', 'mov', 'movzx', 'cmp', 'setne', 'cmp', 'setne', 'test', 'jne', 'mov', 'movzx', 'mov', 'call', 'mov', 'mov', 'call', 'test', 'js', 'mov', 'call', 'mov', 'test', 'jle', 'cmp', 'jle', 'mov', 'lea', 'mov', 'call', 'jmp', 'mov', 'lea', 'mov', 'call', 'mov', 'call', 'mov', 'mov', 'mov', 'lea', 'call', 'jmp', 'cmp', 'jne', 'mov', 'lea', 'mov', 'call', 'movsx', 'sub', 'cmp', 'ja', 'lea', 'movsxd', 'add', 'notrack', 'lea', 'call', 'mov', 'call', 'mov', 'mov', 'call', 'test', 'js', 'mov', 'lea', 'mov', 'call', 'jmp', 'lea', 'call', 'jmp', 'mov', 'mov', 'call', 'test', 'js', 'mov', 'lea', 'mov', 'call', 'jmp', 'lea', 'call', 'jmp', 'mov', 'mov', 'mov', 'call', 'mov', 'mov', 'call', 'test', 'js', 'mov', 'mov', 'mov', 'call', 'lea', 'mov', 'mov', 'call', 'jmp', 'lea', 'call', 'jmp', 'mov', 'mov', 'mov', 'call', 'mov', 'mov', 'call', 'test', 'js', 'mov', 'mov', 'mov', 'call', 'lea', 'mov', 'mov', 'call', 'jmp', 'lea', 'call', 'jmp', 'mov', 'lea', 'call', 'lea', 'call', 'add', 'mov', 'pop', 'pop', 'pop', 'pop', 'ret', 'mov', 'mov', 'mov', 'call', 'mov', 'mov', 'call', 'test', 'js', 'mov', 'mov', 'mov', 'call', 'lea', 'mov', 'mov', 'call', 'jmp', 'lea', 'call', 'jmp', 'mov', 'call', 'test', 'js', 'mov', 'lea', 'mov', 'call', 'jmp', 'lea', 'call', 'jmp', 'mov', 'mov', 'mov', 'mov', 'lea', 'mov', 'call', 'jmp', 'lea', 'call', 'jmp']}\n",
      "sym.adore_getvers\n",
      "{'x': ['endbr64', 'test', 'je', 'mov', 'ret', 'mov', 'ret']}\n",
      "sym.imp.exit\n",
      "{'x': ['endbr64', 'bnd']}\n",
      "sym.imp.puts\n",
      "{'x': ['endbr64', 'bnd']}\n",
      "sym.adore_hidefile\n",
      "{'x': ['endbr64', 'mov', 'mov', 'mov', 'jmp']}\n",
      "sym.adore_unhidefile\n",
      "{'x': ['endbr64', 'mov', 'mov', 'mov', 'jmp']}\n",
      "sym.imp.strtol\n",
      "{'x': ['endbr64', 'bnd']}\n",
      "sym.adore_hideproc\n",
      "{'x': ['endbr64', 'push', 'sub', 'mov', 'mov', 'xor', 'test', 'je', 'mov', 'mov', 'lea', 'mov', 'call', 'mov', 'mov', 'mov', 'mov', 'call', 'mov', 'call', 'mov', 'call', 'mov', 'mov', 'sub', 'jne', 'add', 'pop', 'ret', 'mov', 'jmp', 'call']}\n",
      "sym.adore_unhideproc\n",
      "{'x': ['endbr64', 'push', 'sub', 'mov', 'mov', 'xor', 'test', 'je', 'mov', 'mov', 'lea', 'mov', 'call', 'mov', 'mov', 'mov', 'mov', 'call', 'mov', 'call', 'mov', 'call', 'mov', 'mov', 'sub', 'jne', 'add', 'pop', 'ret', 'mov', 'jmp', 'call']}\n",
      "sym.imp.execvp\n",
      "{'x': ['endbr64', 'bnd']}\n",
      "sym.imp.perror\n",
      "{'x': ['endbr64', 'bnd']}\n",
      "sym.adore_removeproc\n",
      "{'x': ['endbr64', 'sub', 'lea', 'call', 'mov', 'add', 'ret']}\n",
      "sym.adore_uninstall\n",
      "{'x': ['endbr64', 'sub', 'mov', 'mov', 'mov', 'lea', 'call', 'mov', 'call', 'mov', 'add', 'ret']}\n",
      "sym.imp.sprintf\n",
      "{'x': ['endbr64', 'bnd']}\n"
     ]
    }
   ],
   "source": [
    "## example file\n",
    "import pickle\n",
    "file = \"/home/manying/Projects/fcgFewShot/dataset/data_r2_5_9_4_fcg/Advanced Micro Devices X86-64/adore/9b2f229e504900957812985c538c9984ebb9e1d6194100d5b64751ec9d597115.gpickle\"\n",
    "\n",
    "with open(file, 'rb') as f:\n",
    "    example = pickle.load(f)\n",
    "\n",
    "for node in example.nodes():\n",
    "    print(node)\n",
    "    print(example.nodes[node])\n"
   ]
  },
  {
   "cell_type": "code",
   "execution_count": 46,
   "metadata": {},
   "outputs": [
    {
     "data": {
      "text/plain": [
       "32"
      ]
     },
     "execution_count": 46,
     "metadata": {},
     "output_type": "execute_result"
    }
   ],
   "source": [
    "import os\n",
    "\n",
    "os.cpu_count()"
   ]
  },
  {
   "cell_type": "code",
   "execution_count": 52,
   "metadata": {},
   "outputs": [
    {
     "name": "stdout",
     "output_type": "stream",
     "text": [
      "總 CPU 核心數: 32\n",
      "物理 CPU 核心數: 16\n",
      "閒置 CPU 數: 3\n",
      "每個核心使用率: [14.9, 82.0, 71.7, 82.8, 43.6, 68.3, 83.0, 58.0, 60.0, 76.5, 47.0, 33.7, 78.0, 93.1, 74.0, 53.5, 80.2, 43.4, 76.2, 25.5, 92.1, 90.2, 11.2, 76.2, 39.4, 12.1, 48.0, 93.0, 89.1, 100.0, 38.0, 85.9]\n"
     ]
    }
   ],
   "source": [
    "import psutil\n",
    "\n",
    "# 獲取 CPU 使用率\n",
    "def get_idle_cpu():\n",
    "    # 獲取每個 CPU 核心的使用率\n",
    "    cpu_percent_per_cpu = psutil.cpu_percent(interval=1, percpu=True)\n",
    "    \n",
    "    # 計算閒置的 CPU 數量（使用率低於某個閾值視為閒置）\n",
    "    idle_threshold = 20  # 設定閒置閾值為 20%\n",
    "    idle_cpus = sum(1 for cpu in cpu_percent_per_cpu if cpu < idle_threshold)\n",
    "    \n",
    "    return {\n",
    "        'total_cpus': psutil.cpu_count(),\n",
    "        'physical_cpus': psutil.cpu_count(logical=False),\n",
    "        'idle_cpus': idle_cpus,\n",
    "        'cpu_percent_per_core': cpu_percent_per_cpu\n",
    "    }\n",
    "\n",
    "# 使用範例\n",
    "info = get_idle_cpu()\n",
    "print(f\"總 CPU 核心數: {info['total_cpus']}\")\n",
    "print(f\"物理 CPU 核心數: {info['physical_cpus']}\")\n",
    "print(f\"閒置 CPU 數: {info['idle_cpus']}\")\n",
    "print(\"每個核心使用率:\", info['cpu_percent_per_core'])"
   ]
  }
 ],
 "metadata": {
  "kernelspec": {
   "display_name": "prototype",
   "language": "python",
   "name": "python3"
  },
  "language_info": {
   "codemirror_mode": {
    "name": "ipython",
    "version": 3
   },
   "file_extension": ".py",
   "mimetype": "text/x-python",
   "name": "python",
   "nbconvert_exporter": "python",
   "pygments_lexer": "ipython3",
   "version": "3.11.9"
  }
 },
 "nbformat": 4,
 "nbformat_minor": 2
}
