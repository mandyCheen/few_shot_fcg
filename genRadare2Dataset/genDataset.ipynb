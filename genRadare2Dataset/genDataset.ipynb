{
 "cells": [
  {
   "cell_type": "code",
   "execution_count": 5,
   "metadata": {},
   "outputs": [],
   "source": [
    "import os\n",
    "import pandas as pd\n",
    "\n",
    "FCG_PATH = \"./data_5_9_4_fcg/\"\n",
    "OUTPUT_PATH = \"./dataset/raw_csv/malware_diec_x86_64_fcg_dataset.csv\"\n",
    "# dataset = pd.read_csv(DATASET_PATH)\n",
    "# dataset.head()\n",
    "                "
   ]
  },
  {
   "cell_type": "code",
   "execution_count": 6,
   "metadata": {},
   "outputs": [
    {
     "name": "stdout",
     "output_type": "stream",
     "text": [
      "                                            file_name  \\\n",
      "0   be06c7663d5c2a24ab07d534de204c08d157076a0fb410...   \n",
      "0   65363caecf4bd5e9a7069bbe425e84d767cd082d28493d...   \n",
      "0   b112d52e95555037a95f56ae406a3894b695fd03eece38...   \n",
      "0   477a0d82b6f8551a96ee0f861f51876fab889dc0e995af...   \n",
      "0   c0c017522e8aa9f6390d2fdcb505367fc4fdd26871429b...   \n",
      "..                                                ...   \n",
      "0   5f4924a81b2db08bea72d407ae0bee2df58ec4964b0be1...   \n",
      "0   7abf05f23b1aa9aa5d4f8645c50ef5e32e19f22af63bc5...   \n",
      "0   42c7fc9b47aa6737a1a65999561b4ddae9c2f9d61d886e...   \n",
      "0   64bba6b231f41a15314f161fb93b21d96530ad8479acb5...   \n",
      "0   1087552642419f8f172ed85e2bf4f1ba0758032aa48728...   \n",
      "\n",
      "                              CPU      family  \n",
      "0                         PowerPC      gafgyt  \n",
      "0                         PowerPC      gafgyt  \n",
      "0                         PowerPC      gafgyt  \n",
      "0                         PowerPC      gafgyt  \n",
      "0                         PowerPC      gafgyt  \n",
      "..                            ...         ...  \n",
      "0   Advanced Micro Devices X86-64       apmod  \n",
      "0   Advanced Micro Devices X86-64       apmod  \n",
      "0   Advanced Micro Devices X86-64  smbpayload  \n",
      "0   Advanced Micro Devices X86-64  smbpayload  \n",
      "0   Advanced Micro Devices X86-64  smbpayload  \n",
      "\n",
      "[5768 rows x 3 columns]\n"
     ]
    }
   ],
   "source": [
    "output = pd.DataFrame(columns=[\"file_name\", \"CPU\", \"family\"])\n",
    "\n",
    "for cpuFolder in os.listdir(FCG_PATH):\n",
    "    cpuPath = FCG_PATH + cpuFolder + \"/\"\n",
    "    for familyFolder in os.listdir(cpuPath):\n",
    "        familyPath = cpuPath + familyFolder + \"/\"\n",
    "        for opcodeFile in os.listdir(familyPath):\n",
    "            opcodeFilePath = familyPath + opcodeFile\n",
    "            file_name = opcodeFile.split(\".\")[0]\n",
    "            output = pd.concat([output, pd.DataFrame([[file_name, cpuFolder, familyFolder]], columns=[\"file_name\", \"CPU\", \"family\"])])\n",
    "                \n",
    "print(output)      "
   ]
  },
  {
   "cell_type": "code",
   "execution_count": 7,
   "metadata": {},
   "outputs": [
    {
     "name": "stdout",
     "output_type": "stream",
     "text": [
      "         CPU       family  counts\n",
      "18   AArch64      fakecop      20\n",
      "26   AArch64       hiddad      20\n",
      "28   AArch64        joker      20\n",
      "29   AArch64        kaiji      20\n",
      "36   AArch64  meterpreter      21\n",
      "..       ...          ...     ...\n",
      "553  PowerPC        mirai      20\n",
      "561    Sparc       gafgyt      20\n",
      "566    Sparc        mirai      21\n",
      "570    Sparc        sunos      20\n",
      "571    Sparc      tsunami      20\n",
      "\n",
      "[169 rows x 3 columns]\n"
     ]
    }
   ],
   "source": [
    "output_cpu_family_counts = output.groupby([\"CPU\", \"family\"]).size().reset_index(name='counts')\n",
    "output_cpu_family_counts = output_cpu_family_counts[output_cpu_family_counts[\"counts\"] >= 20]\n",
    "print(output_cpu_family_counts)\n",
    "outputDataset = pd.DataFrame(columns=[\"file_name\", \"CPU\", \"family\"])\n",
    "\n",
    "for index, row in output_cpu_family_counts.iterrows():\n",
    "    cpu = row[\"CPU\"]\n",
    "    family = row[\"family\"]\n",
    "    selected = output[(output[\"CPU\"] == cpu) & (output[\"family\"] == family)].sample(n=20)\n",
    "    outputDataset = pd.concat([outputDataset, selected])\n",
    "\n"
   ]
  },
  {
   "cell_type": "code",
   "execution_count": 8,
   "metadata": {},
   "outputs": [
    {
     "name": "stdout",
     "output_type": "stream",
     "text": [
      "CPU\n",
      "Advanced Micro Devices X86-64    1340\n",
      "Intel 80386                       840\n",
      "ARM                               580\n",
      "MIPS R3000                        300\n",
      "AArch64                           140\n",
      "Sparc                              80\n",
      "MC68000                            60\n",
      "PowerPC                            40\n",
      "Name: count, dtype: int64\n",
      "1340\n"
     ]
    }
   ],
   "source": [
    "print(outputDataset['CPU'].value_counts())\n",
    "x86 = outputDataset[outputDataset[\"CPU\"] == \"Advanced Micro Devices X86-64\"]\n",
    "print(len(x86))"
   ]
  },
  {
   "cell_type": "code",
   "execution_count": 10,
   "metadata": {},
   "outputs": [],
   "source": [
    "x86.to_csv(OUTPUT_PATH, index=False)"
   ]
  }
 ],
 "metadata": {
  "kernelspec": {
   "display_name": "prototype",
   "language": "python",
   "name": "python3"
  },
  "language_info": {
   "codemirror_mode": {
    "name": "ipython",
    "version": 3
   },
   "file_extension": ".py",
   "mimetype": "text/x-python",
   "name": "python",
   "nbconvert_exporter": "python",
   "pygments_lexer": "ipython3",
   "version": "3.11.9"
  }
 },
 "nbformat": 4,
 "nbformat_minor": 2
}
