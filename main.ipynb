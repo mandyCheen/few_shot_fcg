{
 "cells": [
  {
   "cell_type": "code",
   "execution_count": 10,
   "metadata": {},
   "outputs": [
    {
     "name": "stdout",
     "output_type": "stream",
     "text": [
      "The autoreload extension is already loaded. To reload it, use:\n",
      "  %reload_ext autoreload\n"
     ]
    }
   ],
   "source": [
    "%load_ext autoreload\n",
    "%autoreload 2 \n",
    "import warnings\n",
    "warnings.filterwarnings(\"ignore\")"
   ]
  },
  {
   "cell_type": "code",
   "execution_count": 11,
   "metadata": {},
   "outputs": [],
   "source": [
    "from utils import load_config, save_config\n",
    "options = load_config(\"./config/config.json\")"
   ]
  },
  {
   "cell_type": "code",
   "execution_count": 12,
   "metadata": {},
   "outputs": [],
   "source": [
    "expList = [\"5way_5shot\", \"5way_10shot\", \"10way_5shot\", \"10way_10shot\"]"
   ]
  },
  {
   "cell_type": "code",
   "execution_count": 14,
   "metadata": {},
   "outputs": [
    {
     "name": "stdout",
     "output_type": "stream",
     "text": [
      "Loading all datasets...\n",
      "train dataset shape: (1180, 16)\n",
      "train dataset family number: 59\n",
      "test dataset shape: (200, 16)\n",
      "test dataset family number: 10\n",
      "val dataset shape: (200, 16)\n",
      "val dataset family number: 10\n",
      "Word2vec model exist, load word2vec model...\n",
      "Start to get node embedding...\n"
     ]
    },
    {
     "name": "stderr",
     "output_type": "stream",
     "text": [
      "100%|██████████| 1580/1580 [00:00<00:00, 56970.68it/s]"
     ]
    },
    {
     "name": "stdout",
     "output_type": "stream",
     "text": [
      "Finish getting node embedding\n",
      "Setting up the training module...\n",
      "Loading data from /mnt/ssd2t/mandy/Projects/few_shot_fcg/embeddings/x86_64_withVal_withPretrain_ghidra_6/word2vec...\n",
      "Loading training data...\n",
      "Loading data from /mnt/ssd2t/mandy/Projects/few_shot_fcg/embeddings/x86_64_withVal_withPretrain_ghidra_6/word2vec/trainData.pkl...\n"
     ]
    },
    {
     "name": "stderr",
     "output_type": "stream",
     "text": [
      "\n"
     ]
    },
    {
     "name": "stdout",
     "output_type": "stream",
     "text": [
      "Loading validation data...\n",
      "Loading data from /mnt/ssd2t/mandy/Projects/few_shot_fcg/embeddings/x86_64_withVal_withPretrain_ghidra_6/word2vec/valData.pkl...\n",
      "Model loaded from ./pretrained/x86_pretrained_20241121_1653/epoch_2060_best_backbone.pth\n",
      "Device: cuda:0\n",
      "Model: GraphSAGE(\n",
      "  (sage_convs): ModuleList(\n",
      "    (0-1): 2 x SAGEConv(128, 128, aggr=mean)\n",
      "  )\n",
      "  (norms): ModuleList(\n",
      "    (0-1): 2 x BatchNorm1d(128, eps=1e-05, momentum=0.1, affine=True, track_running_stats=True)\n",
      "  )\n",
      "  (output_proj): Sequential(\n",
      "    (0): Linear(in_features=128, out_features=128, bias=True)\n",
      "    (1): BatchNorm1d(128, eps=1e-05, momentum=0.1, affine=True, track_running_stats=True)\n",
      "    (2): ReLU()\n",
      "  )\n",
      ")\n",
      "Loss function: <loss.ProtoLoss object at 0x77471c33eb90>\n",
      "Optimizer: AdamW (\n",
      "Parameter Group 0\n",
      "    amsgrad: False\n",
      "    betas: (0.9, 0.999)\n",
      "    capturable: False\n",
      "    differentiable: False\n",
      "    eps: 1e-08\n",
      "    foreach: None\n",
      "    fused: None\n",
      "    lr: 0.001\n",
      "    maximize: False\n",
      "    weight_decay: 0.01\n",
      "\n",
      "Parameter Group 1\n",
      "    amsgrad: False\n",
      "    betas: (0.9, 0.999)\n",
      "    capturable: False\n",
      "    differentiable: False\n",
      "    eps: 1e-08\n",
      "    foreach: None\n",
      "    fused: None\n",
      "    lr: 0.001\n",
      "    maximize: False\n",
      "    weight_decay: 0.01\n",
      ")\n",
      "Finish setting up the training module\n",
      "Copying split files...\n",
      "Finish copying split files\n",
      "Start training...\n"
     ]
    },
    {
     "name": "stderr",
     "output_type": "stream",
     "text": [
      "Epoch 1/500 (Training): 100%|██████████| 100/100 [00:13<00:00,  7.51it/s, loss=1.2023, acc=0.9600]\n"
     ]
    },
    {
     "name": "stdout",
     "output_type": "stream",
     "text": [
      "Avg Train Loss: 1.2434, Avg Train Acc: 0.8344 (Best)\n"
     ]
    },
    {
     "name": "stderr",
     "output_type": "stream",
     "text": [
      "Epoch 1/500 (Validation): 100%|██████████| 100/100 [00:09<00:00, 10.60it/s, loss=1.2245, acc=0.8000]\n"
     ]
    },
    {
     "name": "stdout",
     "output_type": "stream",
     "text": [
      "Avg Val Loss: 1.2407, Avg Val Acc: 0.8043 (Best)\n",
      "Current learning rate: [0.001, 0.001]\n",
      "Patience: 0/20\n"
     ]
    },
    {
     "name": "stderr",
     "output_type": "stream",
     "text": [
      "Epoch 2/500 (Training): 100%|██████████| 100/100 [00:12<00:00,  7.69it/s, loss=1.1486, acc=0.8933]\n"
     ]
    },
    {
     "name": "stdout",
     "output_type": "stream",
     "text": [
      "Avg Train Loss: 1.2016, Avg Train Acc: 0.8611 (Best)\n"
     ]
    },
    {
     "name": "stderr",
     "output_type": "stream",
     "text": [
      "Epoch 2/500 (Validation): 100%|██████████| 100/100 [00:09<00:00, 10.29it/s, loss=1.2464, acc=0.7867]\n"
     ]
    },
    {
     "name": "stdout",
     "output_type": "stream",
     "text": [
      "Avg Val Loss: 1.2446, Avg Val Acc: 0.7989 (Best: 0.8043)\n",
      "Current learning rate: [0.001, 0.001]\n",
      "Patience: 1/20\n"
     ]
    },
    {
     "name": "stderr",
     "output_type": "stream",
     "text": [
      "Epoch 3/500 (Training): 100%|██████████| 100/100 [00:13<00:00,  7.49it/s, loss=1.2871, acc=0.6000]\n"
     ]
    },
    {
     "name": "stdout",
     "output_type": "stream",
     "text": [
      "Avg Train Loss: 1.1865, Avg Train Acc: 0.8615 (Best)\n"
     ]
    },
    {
     "name": "stderr",
     "output_type": "stream",
     "text": [
      "Epoch 3/500 (Validation): 100%|██████████| 100/100 [00:09<00:00, 10.38it/s, loss=1.1900, acc=0.8533]\n"
     ]
    },
    {
     "name": "stdout",
     "output_type": "stream",
     "text": [
      "Avg Val Loss: 1.2412, Avg Val Acc: 0.7902 (Best: 0.8043)\n",
      "Current learning rate: [0.001, 0.001]\n",
      "Patience: 2/20\n"
     ]
    },
    {
     "name": "stderr",
     "output_type": "stream",
     "text": [
      "Epoch 4/500 (Training): 100%|██████████| 100/100 [00:14<00:00,  6.71it/s, loss=1.0618, acc=0.9333]\n"
     ]
    },
    {
     "name": "stdout",
     "output_type": "stream",
     "text": [
      "Avg Train Loss: 1.1745, Avg Train Acc: 0.8624 (Best)\n"
     ]
    },
    {
     "name": "stderr",
     "output_type": "stream",
     "text": [
      "Epoch 4/500 (Validation): 100%|██████████| 100/100 [00:09<00:00, 10.57it/s, loss=1.2585, acc=0.8933]\n"
     ]
    },
    {
     "name": "stdout",
     "output_type": "stream",
     "text": [
      "Avg Val Loss: 1.2364, Avg Val Acc: 0.7919 (Best: 0.8043)\n",
      "Current learning rate: [0.001, 0.001]\n",
      "Patience: 3/20\n"
     ]
    },
    {
     "name": "stderr",
     "output_type": "stream",
     "text": [
      "Epoch 5/500 (Training): 100%|██████████| 100/100 [00:13<00:00,  7.57it/s, loss=1.0313, acc=0.9733]\n"
     ]
    },
    {
     "name": "stdout",
     "output_type": "stream",
     "text": [
      "Avg Train Loss: 1.1643, Avg Train Acc: 0.8661 (Best)\n"
     ]
    },
    {
     "name": "stderr",
     "output_type": "stream",
     "text": [
      "Epoch 5/500 (Validation): 100%|██████████| 100/100 [00:09<00:00, 10.51it/s, loss=1.3357, acc=0.7200]\n"
     ]
    },
    {
     "name": "stdout",
     "output_type": "stream",
     "text": [
      "Avg Val Loss: 1.2395, Avg Val Acc: 0.7941 (Best: 0.8043)\n",
      "Current learning rate: [0.001, 0.001]\n",
      "Patience: 4/20\n"
     ]
    },
    {
     "name": "stderr",
     "output_type": "stream",
     "text": [
      "Epoch 6/500 (Training): 100%|██████████| 100/100 [00:13<00:00,  7.15it/s, loss=1.0691, acc=0.9067]\n"
     ]
    },
    {
     "name": "stdout",
     "output_type": "stream",
     "text": [
      "Avg Train Loss: 1.1548, Avg Train Acc: 0.8689 (Best)\n"
     ]
    },
    {
     "name": "stderr",
     "output_type": "stream",
     "text": [
      "Epoch 6/500 (Validation): 100%|██████████| 100/100 [00:09<00:00, 10.85it/s, loss=1.1581, acc=0.7733]\n"
     ]
    },
    {
     "name": "stdout",
     "output_type": "stream",
     "text": [
      "Avg Val Loss: 1.2362, Avg Val Acc: 0.7926 (Best: 0.8043)\n",
      "Current learning rate: [0.001, 0.001]\n",
      "Patience: 5/20\n"
     ]
    },
    {
     "name": "stderr",
     "output_type": "stream",
     "text": [
      "Epoch 7/500 (Training): 100%|██████████| 100/100 [00:12<00:00,  8.24it/s, loss=1.1001, acc=0.8667]\n"
     ]
    },
    {
     "name": "stdout",
     "output_type": "stream",
     "text": [
      "Avg Train Loss: 1.1495, Avg Train Acc: 0.8714 (Best)\n"
     ]
    },
    {
     "name": "stderr",
     "output_type": "stream",
     "text": [
      "Epoch 7/500 (Validation): 100%|██████████| 100/100 [00:09<00:00, 10.67it/s, loss=1.3760, acc=0.7067]\n"
     ]
    },
    {
     "name": "stdout",
     "output_type": "stream",
     "text": [
      "Avg Val Loss: 1.2360, Avg Val Acc: 0.7937 (Best: 0.8043)\n",
      "Current learning rate: [0.001, 0.001]\n",
      "Patience: 6/20\n"
     ]
    },
    {
     "name": "stderr",
     "output_type": "stream",
     "text": [
      "Epoch 8/500 (Training): 100%|██████████| 100/100 [00:12<00:00,  7.84it/s, loss=1.1257, acc=0.9200]\n"
     ]
    },
    {
     "name": "stdout",
     "output_type": "stream",
     "text": [
      "Avg Train Loss: 1.1459, Avg Train Acc: 0.8736 (Best)\n"
     ]
    },
    {
     "name": "stderr",
     "output_type": "stream",
     "text": [
      "Epoch 8/500 (Validation): 100%|██████████| 100/100 [00:09<00:00, 10.11it/s, loss=1.3208, acc=0.6000]\n"
     ]
    },
    {
     "name": "stdout",
     "output_type": "stream",
     "text": [
      "Avg Val Loss: 1.2346, Avg Val Acc: 0.7943 (Best: 0.8043)\n",
      "Current learning rate: [0.001, 0.001]\n",
      "Patience: 7/20\n"
     ]
    },
    {
     "name": "stderr",
     "output_type": "stream",
     "text": [
      "Epoch 9/500 (Training): 100%|██████████| 100/100 [00:14<00:00,  6.93it/s, loss=1.1257, acc=0.9733]\n"
     ]
    },
    {
     "name": "stdout",
     "output_type": "stream",
     "text": [
      "Avg Train Loss: 1.1420, Avg Train Acc: 0.8756 (Best)\n"
     ]
    },
    {
     "name": "stderr",
     "output_type": "stream",
     "text": [
      "Epoch 9/500 (Validation): 100%|██████████| 100/100 [00:10<00:00,  9.69it/s, loss=1.1888, acc=0.7867]\n"
     ]
    },
    {
     "name": "stdout",
     "output_type": "stream",
     "text": [
      "Avg Val Loss: 1.2376, Avg Val Acc: 0.7937 (Best: 0.8043)\n",
      "Current learning rate: [0.001, 0.001]\n",
      "Patience: 8/20\n"
     ]
    },
    {
     "name": "stderr",
     "output_type": "stream",
     "text": [
      "Epoch 10/500 (Training): 100%|██████████| 100/100 [00:13<00:00,  7.50it/s, loss=1.0798, acc=0.9600]\n"
     ]
    },
    {
     "name": "stdout",
     "output_type": "stream",
     "text": [
      "Avg Train Loss: 1.1382, Avg Train Acc: 0.8775 (Best)\n"
     ]
    },
    {
     "name": "stderr",
     "output_type": "stream",
     "text": [
      "Epoch 10/500 (Validation): 100%|██████████| 100/100 [00:09<00:00, 10.52it/s, loss=1.3190, acc=0.7200]\n"
     ]
    },
    {
     "name": "stdout",
     "output_type": "stream",
     "text": [
      "Avg Val Loss: 1.2396, Avg Val Acc: 0.7890 (Best: 0.8043)\n",
      "Current learning rate: [0.001, 0.001]\n",
      "Patience: 9/20\n"
     ]
    },
    {
     "name": "stderr",
     "output_type": "stream",
     "text": [
      "Epoch 11/500 (Training): 100%|██████████| 100/100 [00:14<00:00,  6.77it/s, loss=1.0410, acc=0.9733]\n"
     ]
    },
    {
     "name": "stdout",
     "output_type": "stream",
     "text": [
      "Avg Train Loss: 1.1345, Avg Train Acc: 0.8790 (Best)\n"
     ]
    },
    {
     "name": "stderr",
     "output_type": "stream",
     "text": [
      "Epoch 11/500 (Validation): 100%|██████████| 100/100 [00:09<00:00, 10.45it/s, loss=1.2154, acc=0.7600]\n"
     ]
    },
    {
     "name": "stdout",
     "output_type": "stream",
     "text": [
      "Avg Val Loss: 1.2406, Avg Val Acc: 0.7859 (Best: 0.8043)\n",
      "Current learning rate: [0.001, 0.001]\n",
      "Patience: 10/20\n"
     ]
    },
    {
     "name": "stderr",
     "output_type": "stream",
     "text": [
      "Epoch 12/500 (Training): 100%|██████████| 100/100 [00:13<00:00,  7.25it/s, loss=1.0901, acc=0.9467]\n"
     ]
    },
    {
     "name": "stdout",
     "output_type": "stream",
     "text": [
      "Avg Train Loss: 1.1321, Avg Train Acc: 0.8800 (Best)\n"
     ]
    },
    {
     "name": "stderr",
     "output_type": "stream",
     "text": [
      "Epoch 12/500 (Validation): 100%|██████████| 100/100 [00:09<00:00, 10.20it/s, loss=1.3445, acc=0.5867]\n"
     ]
    },
    {
     "name": "stdout",
     "output_type": "stream",
     "text": [
      "Avg Val Loss: 1.2411, Avg Val Acc: 0.7857 (Best: 0.8043)\n",
      "Current learning rate: [0.001, 0.001]\n",
      "Patience: 11/20\n"
     ]
    },
    {
     "name": "stderr",
     "output_type": "stream",
     "text": [
      "Epoch 13/500 (Training): 100%|██████████| 100/100 [00:12<00:00,  7.70it/s, loss=1.1149, acc=0.8000]\n"
     ]
    },
    {
     "name": "stdout",
     "output_type": "stream",
     "text": [
      "Avg Train Loss: 1.1293, Avg Train Acc: 0.8809 (Best)\n"
     ]
    },
    {
     "name": "stderr",
     "output_type": "stream",
     "text": [
      "Epoch 13/500 (Validation): 100%|██████████| 100/100 [00:09<00:00, 10.79it/s, loss=1.2125, acc=0.7067]\n"
     ]
    },
    {
     "name": "stdout",
     "output_type": "stream",
     "text": [
      "Avg Val Loss: 1.2450, Avg Val Acc: 0.7811 (Best: 0.8043)\n",
      "Current learning rate: [0.001, 0.001]\n",
      "Patience: 12/20\n"
     ]
    },
    {
     "name": "stderr",
     "output_type": "stream",
     "text": [
      "Epoch 14/500 (Training): 100%|██████████| 100/100 [00:13<00:00,  7.44it/s, loss=1.1027, acc=0.9333]\n"
     ]
    },
    {
     "name": "stdout",
     "output_type": "stream",
     "text": [
      "Avg Train Loss: 1.1272, Avg Train Acc: 0.8811 (Best)\n"
     ]
    },
    {
     "name": "stderr",
     "output_type": "stream",
     "text": [
      "Epoch 14/500 (Validation): 100%|██████████| 100/100 [00:09<00:00, 10.48it/s, loss=1.2648, acc=0.6400]\n"
     ]
    },
    {
     "name": "stdout",
     "output_type": "stream",
     "text": [
      "Avg Val Loss: 1.2464, Avg Val Acc: 0.7779 (Best: 0.8043)\n",
      "Current learning rate: [0.001, 0.001]\n",
      "Patience: 13/20\n"
     ]
    },
    {
     "name": "stderr",
     "output_type": "stream",
     "text": [
      "Epoch 15/500 (Training): 100%|██████████| 100/100 [00:13<00:00,  7.19it/s, loss=1.0355, acc=0.9200]\n"
     ]
    },
    {
     "name": "stdout",
     "output_type": "stream",
     "text": [
      "Avg Train Loss: 1.1241, Avg Train Acc: 0.8821 (Best)\n"
     ]
    },
    {
     "name": "stderr",
     "output_type": "stream",
     "text": [
      "Epoch 15/500 (Validation): 100%|██████████| 100/100 [00:09<00:00, 10.31it/s, loss=1.1293, acc=0.8667]\n"
     ]
    },
    {
     "name": "stdout",
     "output_type": "stream",
     "text": [
      "Avg Val Loss: 1.2487, Avg Val Acc: 0.7750 (Best: 0.8043)\n",
      "Current learning rate: [0.001, 0.001]\n",
      "Patience: 14/20\n"
     ]
    },
    {
     "name": "stderr",
     "output_type": "stream",
     "text": [
      "Epoch 16/500 (Training): 100%|██████████| 100/100 [00:13<00:00,  7.45it/s, loss=1.0734, acc=0.9200]\n"
     ]
    },
    {
     "name": "stdout",
     "output_type": "stream",
     "text": [
      "Avg Train Loss: 1.1225, Avg Train Acc: 0.8822 (Best)\n"
     ]
    },
    {
     "name": "stderr",
     "output_type": "stream",
     "text": [
      "Epoch 16/500 (Validation): 100%|██████████| 100/100 [00:09<00:00, 10.03it/s, loss=1.1925, acc=0.8267]\n"
     ]
    },
    {
     "name": "stdout",
     "output_type": "stream",
     "text": [
      "Avg Val Loss: 1.2493, Avg Val Acc: 0.7737 (Best: 0.8043)\n",
      "Current learning rate: [0.001, 0.001]\n",
      "Patience: 15/20\n"
     ]
    },
    {
     "name": "stderr",
     "output_type": "stream",
     "text": [
      "Epoch 17/500 (Training): 100%|██████████| 100/100 [00:11<00:00,  8.58it/s, loss=0.9722, acc=0.9867]\n"
     ]
    },
    {
     "name": "stdout",
     "output_type": "stream",
     "text": [
      "Avg Train Loss: 1.1207, Avg Train Acc: 0.8823 (Best)\n"
     ]
    },
    {
     "name": "stderr",
     "output_type": "stream",
     "text": [
      "Epoch 17/500 (Validation): 100%|██████████| 100/100 [00:09<00:00, 10.26it/s, loss=1.5404, acc=0.5867]\n"
     ]
    },
    {
     "name": "stdout",
     "output_type": "stream",
     "text": [
      "Avg Val Loss: 1.2510, Avg Val Acc: 0.7717 (Best: 0.8043)\n",
      "Current learning rate: [0.001, 0.001]\n",
      "Patience: 16/20\n"
     ]
    },
    {
     "name": "stderr",
     "output_type": "stream",
     "text": [
      "Epoch 18/500 (Training): 100%|██████████| 100/100 [00:12<00:00,  8.02it/s, loss=1.0249, acc=0.9467]\n"
     ]
    },
    {
     "name": "stdout",
     "output_type": "stream",
     "text": [
      "Avg Train Loss: 1.1173, Avg Train Acc: 0.8845 (Best)\n"
     ]
    },
    {
     "name": "stderr",
     "output_type": "stream",
     "text": [
      "Epoch 18/500 (Validation): 100%|██████████| 100/100 [00:09<00:00, 10.24it/s, loss=1.2064, acc=0.6133]\n"
     ]
    },
    {
     "name": "stdout",
     "output_type": "stream",
     "text": [
      "Avg Val Loss: 1.2513, Avg Val Acc: 0.7687 (Best: 0.8043)\n",
      "Current learning rate: [0.001, 0.001]\n",
      "Patience: 17/20\n"
     ]
    },
    {
     "name": "stderr",
     "output_type": "stream",
     "text": [
      "Epoch 19/500 (Training): 100%|██████████| 100/100 [00:12<00:00,  8.15it/s, loss=1.0026, acc=1.0000]\n"
     ]
    },
    {
     "name": "stdout",
     "output_type": "stream",
     "text": [
      "Avg Train Loss: 1.1154, Avg Train Acc: 0.8858 (Best)\n"
     ]
    },
    {
     "name": "stderr",
     "output_type": "stream",
     "text": [
      "Epoch 19/500 (Validation): 100%|██████████| 100/100 [00:09<00:00, 10.14it/s, loss=1.1781, acc=0.7733]\n"
     ]
    },
    {
     "name": "stdout",
     "output_type": "stream",
     "text": [
      "Avg Val Loss: 1.2523, Avg Val Acc: 0.7668 (Best: 0.8043)\n",
      "Current learning rate: [0.0005, 0.0005]\n",
      "Patience: 18/20\n"
     ]
    },
    {
     "name": "stderr",
     "output_type": "stream",
     "text": [
      "Epoch 20/500 (Training): 100%|██████████| 100/100 [00:12<00:00,  7.70it/s, loss=1.1932, acc=0.7733]\n"
     ]
    },
    {
     "name": "stdout",
     "output_type": "stream",
     "text": [
      "Avg Train Loss: 1.1131, Avg Train Acc: 0.8871 (Best)\n"
     ]
    },
    {
     "name": "stderr",
     "output_type": "stream",
     "text": [
      "Epoch 20/500 (Validation): 100%|██████████| 100/100 [00:09<00:00, 10.45it/s, loss=1.3613, acc=0.7600]\n"
     ]
    },
    {
     "name": "stdout",
     "output_type": "stream",
     "text": [
      "Avg Val Loss: 1.2530, Avg Val Acc: 0.7665 (Best: 0.8043)\n",
      "Current learning rate: [0.0005, 0.0005]\n",
      "Patience: 19/20\n"
     ]
    },
    {
     "name": "stderr",
     "output_type": "stream",
     "text": [
      "Epoch 21/500 (Training): 100%|██████████| 100/100 [00:13<00:00,  7.25it/s, loss=1.0152, acc=0.9733]\n"
     ]
    },
    {
     "name": "stdout",
     "output_type": "stream",
     "text": [
      "Avg Train Loss: 1.1110, Avg Train Acc: 0.8884 (Best)\n"
     ]
    },
    {
     "name": "stderr",
     "output_type": "stream",
     "text": [
      "Epoch 21/500 (Validation): 100%|██████████| 100/100 [00:09<00:00, 10.23it/s, loss=1.2930, acc=0.6667]\n"
     ]
    },
    {
     "name": "stdout",
     "output_type": "stream",
     "text": [
      "Avg Val Loss: 1.2537, Avg Val Acc: 0.7664 (Best: 0.8043)\n",
      "Current learning rate: [0.0005, 0.0005]\n",
      "Early stopping\n",
      "Finish training\n",
      "Setting up the testing module...\n",
      "Loading data from /mnt/ssd2t/mandy/Projects/few_shot_fcg/embeddings/x86_64_withVal_withPretrain_ghidra_6/word2vec...\n",
      "Loading validation data...\n",
      "Loading data from /mnt/ssd2t/mandy/Projects/few_shot_fcg/embeddings/x86_64_withVal_withPretrain_ghidra_6/word2vec/valData.pkl...\n",
      "Loading testing data...\n",
      "Loading data from /mnt/ssd2t/mandy/Projects/few_shot_fcg/embeddings/x86_64_withVal_withPretrain_ghidra_6/word2vec/testData.pkl...\n",
      "Finish setting up the testing module\n",
      "Model path is not provided. Using the best model...\n",
      "Record evaluation log...\n",
      "Loading model from ./checkpoints/x86_64_withVal_withPretrain_ghidra_6_testing_for_cosine/5way_5shot_ProtoNet_20250217_152745/epoch_1_best.pth\n",
      "Best model loaded\n",
      "Model: GraphSAGE(\n",
      "  (sage_convs): ModuleList(\n",
      "    (0-1): 2 x SAGEConv(128, 128, aggr=mean)\n",
      "  )\n",
      "  (norms): ModuleList(\n",
      "    (0-1): 2 x BatchNorm1d(128, eps=1e-05, momentum=0.1, affine=True, track_running_stats=True)\n",
      "  )\n",
      "  (output_proj): Sequential(\n",
      "    (0): Linear(in_features=128, out_features=128, bias=True)\n",
      "    (1): BatchNorm1d(128, eps=1e-05, momentum=0.1, affine=True, track_running_stats=True)\n",
      "    (2): ReLU()\n",
      "  )\n",
      ")\n",
      "Start evaluation... (testing dataset)\n",
      "Epoch 1\n"
     ]
    },
    {
     "name": "stderr",
     "output_type": "stream",
     "text": [
      "Testing: 100%|██████████| 100/100 [00:06<00:00, 16.61it/s]\n"
     ]
    },
    {
     "name": "stdout",
     "output_type": "stream",
     "text": [
      "Epoch 2\n"
     ]
    },
    {
     "name": "stderr",
     "output_type": "stream",
     "text": [
      "Testing: 100%|██████████| 100/100 [00:06<00:00, 15.27it/s]\n"
     ]
    },
    {
     "name": "stdout",
     "output_type": "stream",
     "text": [
      "Epoch 3\n"
     ]
    },
    {
     "name": "stderr",
     "output_type": "stream",
     "text": [
      "Testing: 100%|██████████| 100/100 [00:06<00:00, 15.66it/s]\n"
     ]
    },
    {
     "name": "stdout",
     "output_type": "stream",
     "text": [
      "Epoch 4\n"
     ]
    },
    {
     "name": "stderr",
     "output_type": "stream",
     "text": [
      "Testing: 100%|██████████| 100/100 [00:06<00:00, 15.91it/s]\n"
     ]
    },
    {
     "name": "stdout",
     "output_type": "stream",
     "text": [
      "Epoch 5\n"
     ]
    },
    {
     "name": "stderr",
     "output_type": "stream",
     "text": [
      "Testing: 100%|██████████| 100/100 [00:06<00:00, 15.46it/s]\n"
     ]
    },
    {
     "name": "stdout",
     "output_type": "stream",
     "text": [
      "Epoch 6\n"
     ]
    },
    {
     "name": "stderr",
     "output_type": "stream",
     "text": [
      "Testing: 100%|██████████| 100/100 [00:06<00:00, 16.22it/s]\n"
     ]
    },
    {
     "name": "stdout",
     "output_type": "stream",
     "text": [
      "Epoch 7\n"
     ]
    },
    {
     "name": "stderr",
     "output_type": "stream",
     "text": [
      "Testing: 100%|██████████| 100/100 [00:06<00:00, 15.95it/s]\n"
     ]
    },
    {
     "name": "stdout",
     "output_type": "stream",
     "text": [
      "Epoch 8\n"
     ]
    },
    {
     "name": "stderr",
     "output_type": "stream",
     "text": [
      "Testing: 100%|██████████| 100/100 [00:06<00:00, 15.65it/s]\n"
     ]
    },
    {
     "name": "stdout",
     "output_type": "stream",
     "text": [
      "Epoch 9\n"
     ]
    },
    {
     "name": "stderr",
     "output_type": "stream",
     "text": [
      "Testing: 100%|██████████| 100/100 [00:06<00:00, 16.07it/s]\n"
     ]
    },
    {
     "name": "stdout",
     "output_type": "stream",
     "text": [
      "Epoch 10\n"
     ]
    },
    {
     "name": "stderr",
     "output_type": "stream",
     "text": [
      "Testing: 100%|██████████| 100/100 [00:06<00:00, 15.69it/s]\n"
     ]
    },
    {
     "name": "stdout",
     "output_type": "stream",
     "text": [
      "Testing accuracy: 0.6258\n",
      "Finish evaluation\n",
      "Loading all datasets...\n",
      "train dataset shape: (1180, 16)\n",
      "train dataset family number: 59\n",
      "test dataset shape: (200, 16)\n",
      "test dataset family number: 10\n",
      "val dataset shape: (200, 16)\n",
      "val dataset family number: 10\n",
      "Word2vec model exist, load word2vec model...\n",
      "Start to get node embedding...\n"
     ]
    },
    {
     "name": "stderr",
     "output_type": "stream",
     "text": [
      "100%|██████████| 1580/1580 [00:00<00:00, 54447.31it/s]\n"
     ]
    },
    {
     "name": "stdout",
     "output_type": "stream",
     "text": [
      "Finish getting node embedding\n",
      "Setting up the training module...\n",
      "Loading data from /mnt/ssd2t/mandy/Projects/few_shot_fcg/embeddings/x86_64_withVal_withPretrain_ghidra_6/word2vec...\n",
      "Loading training data...\n",
      "Loading data from /mnt/ssd2t/mandy/Projects/few_shot_fcg/embeddings/x86_64_withVal_withPretrain_ghidra_6/word2vec/trainData.pkl...\n",
      "Loading validation data...\n",
      "Loading data from /mnt/ssd2t/mandy/Projects/few_shot_fcg/embeddings/x86_64_withVal_withPretrain_ghidra_6/word2vec/valData.pkl...\n",
      "Model loaded from ./pretrained/x86_pretrained_20241121_1653/epoch_2060_best_backbone.pth\n",
      "Device: cuda:0\n",
      "Model: GraphSAGE(\n",
      "  (sage_convs): ModuleList(\n",
      "    (0-1): 2 x SAGEConv(128, 128, aggr=mean)\n",
      "  )\n",
      "  (norms): ModuleList(\n",
      "    (0-1): 2 x BatchNorm1d(128, eps=1e-05, momentum=0.1, affine=True, track_running_stats=True)\n",
      "  )\n",
      "  (output_proj): Sequential(\n",
      "    (0): Linear(in_features=128, out_features=128, bias=True)\n",
      "    (1): BatchNorm1d(128, eps=1e-05, momentum=0.1, affine=True, track_running_stats=True)\n",
      "    (2): ReLU()\n",
      "  )\n",
      ")\n",
      "Loss function: <loss.ProtoLoss object at 0x7747364dd4d0>\n",
      "Optimizer: AdamW (\n",
      "Parameter Group 0\n",
      "    amsgrad: False\n",
      "    betas: (0.9, 0.999)\n",
      "    capturable: False\n",
      "    differentiable: False\n",
      "    eps: 1e-08\n",
      "    foreach: None\n",
      "    fused: None\n",
      "    lr: 0.001\n",
      "    maximize: False\n",
      "    weight_decay: 0.01\n",
      "\n",
      "Parameter Group 1\n",
      "    amsgrad: False\n",
      "    betas: (0.9, 0.999)\n",
      "    capturable: False\n",
      "    differentiable: False\n",
      "    eps: 1e-08\n",
      "    foreach: None\n",
      "    fused: None\n",
      "    lr: 0.001\n",
      "    maximize: False\n",
      "    weight_decay: 0.01\n",
      ")\n",
      "Finish setting up the training module\n",
      "Copying split files...\n",
      "Finish copying split files\n",
      "Start training...\n"
     ]
    },
    {
     "name": "stderr",
     "output_type": "stream",
     "text": [
      "Epoch 1/500 (Training): 100%|██████████| 100/100 [00:13<00:00,  7.41it/s, loss=1.1484, acc=1.0000]\n"
     ]
    },
    {
     "name": "stdout",
     "output_type": "stream",
     "text": [
      "Avg Train Loss: 1.2424, Avg Train Acc: 0.8348 (Best)\n"
     ]
    },
    {
     "name": "stderr",
     "output_type": "stream",
     "text": [
      "Epoch 1/500 (Validation): 100%|██████████| 100/100 [00:10<00:00,  9.92it/s, loss=1.2977, acc=0.7400]\n"
     ]
    },
    {
     "name": "stdout",
     "output_type": "stream",
     "text": [
      "Avg Val Loss: 1.2773, Avg Val Acc: 0.7800 (Best)\n",
      "Current learning rate: [0.001, 0.001]\n",
      "Patience: 0/20\n"
     ]
    },
    {
     "name": "stderr",
     "output_type": "stream",
     "text": [
      "Epoch 2/500 (Training): 100%|██████████| 100/100 [00:13<00:00,  7.21it/s, loss=1.2456, acc=0.8400]\n"
     ]
    },
    {
     "name": "stdout",
     "output_type": "stream",
     "text": [
      "Avg Train Loss: 1.2122, Avg Train Acc: 0.8449 (Best)\n"
     ]
    },
    {
     "name": "stderr",
     "output_type": "stream",
     "text": [
      "Epoch 2/500 (Validation): 100%|██████████| 100/100 [00:09<00:00, 10.03it/s, loss=1.2692, acc=0.7600]\n"
     ]
    },
    {
     "name": "stdout",
     "output_type": "stream",
     "text": [
      "Avg Val Loss: 1.2952, Avg Val Acc: 0.7624 (Best: 0.7800)\n",
      "Current learning rate: [0.001, 0.001]\n",
      "Patience: 1/20\n"
     ]
    },
    {
     "name": "stderr",
     "output_type": "stream",
     "text": [
      "Epoch 3/500 (Training): 100%|██████████| 100/100 [00:13<00:00,  7.21it/s, loss=1.2473, acc=0.6200]\n"
     ]
    },
    {
     "name": "stdout",
     "output_type": "stream",
     "text": [
      "Avg Train Loss: 1.1923, Avg Train Acc: 0.8534 (Best)\n"
     ]
    },
    {
     "name": "stderr",
     "output_type": "stream",
     "text": [
      "Epoch 3/500 (Validation): 100%|██████████| 100/100 [00:10<00:00,  9.40it/s, loss=1.1633, acc=0.8000]\n"
     ]
    },
    {
     "name": "stdout",
     "output_type": "stream",
     "text": [
      "Avg Val Loss: 1.2831, Avg Val Acc: 0.7635 (Best: 0.7800)\n",
      "Current learning rate: [0.001, 0.001]\n",
      "Patience: 2/20\n"
     ]
    },
    {
     "name": "stderr",
     "output_type": "stream",
     "text": [
      "Epoch 4/500 (Training): 100%|██████████| 100/100 [00:15<00:00,  6.59it/s, loss=1.0210, acc=0.9600]\n"
     ]
    },
    {
     "name": "stdout",
     "output_type": "stream",
     "text": [
      "Avg Train Loss: 1.1807, Avg Train Acc: 0.8580 (Best)\n"
     ]
    },
    {
     "name": "stderr",
     "output_type": "stream",
     "text": [
      "Epoch 4/500 (Validation): 100%|██████████| 100/100 [00:10<00:00,  9.84it/s, loss=1.3731, acc=0.6400]\n"
     ]
    },
    {
     "name": "stdout",
     "output_type": "stream",
     "text": [
      "Avg Val Loss: 1.2749, Avg Val Acc: 0.7709 (Best: 0.7800)\n",
      "Current learning rate: [0.001, 0.001]\n",
      "Patience: 3/20\n"
     ]
    },
    {
     "name": "stderr",
     "output_type": "stream",
     "text": [
      "Epoch 5/500 (Training): 100%|██████████| 100/100 [00:13<00:00,  7.66it/s, loss=1.1541, acc=0.8800]\n"
     ]
    },
    {
     "name": "stdout",
     "output_type": "stream",
     "text": [
      "Avg Train Loss: 1.1723, Avg Train Acc: 0.8620 (Best)\n"
     ]
    },
    {
     "name": "stderr",
     "output_type": "stream",
     "text": [
      "Epoch 5/500 (Validation): 100%|██████████| 100/100 [00:10<00:00,  9.98it/s, loss=1.3119, acc=0.8200]\n"
     ]
    },
    {
     "name": "stdout",
     "output_type": "stream",
     "text": [
      "Avg Val Loss: 1.2685, Avg Val Acc: 0.7780 (Best: 0.7800)\n",
      "Current learning rate: [0.001, 0.001]\n",
      "Patience: 4/20\n"
     ]
    },
    {
     "name": "stderr",
     "output_type": "stream",
     "text": [
      "Epoch 6/500 (Training): 100%|██████████| 100/100 [00:15<00:00,  6.63it/s, loss=1.0796, acc=0.9000]\n"
     ]
    },
    {
     "name": "stdout",
     "output_type": "stream",
     "text": [
      "Avg Train Loss: 1.1613, Avg Train Acc: 0.8684 (Best)\n"
     ]
    },
    {
     "name": "stderr",
     "output_type": "stream",
     "text": [
      "Epoch 6/500 (Validation): 100%|██████████| 100/100 [00:09<00:00, 10.27it/s, loss=1.1638, acc=0.8000]\n"
     ]
    },
    {
     "name": "stdout",
     "output_type": "stream",
     "text": [
      "Avg Val Loss: 1.2618, Avg Val Acc: 0.7825 (Best)\n",
      "Current learning rate: [0.001, 0.001]\n",
      "Patience: 0/20\n"
     ]
    },
    {
     "name": "stderr",
     "output_type": "stream",
     "text": [
      "Epoch 7/500 (Training): 100%|██████████| 100/100 [00:13<00:00,  7.52it/s, loss=1.0989, acc=0.8600]\n"
     ]
    },
    {
     "name": "stdout",
     "output_type": "stream",
     "text": [
      "Avg Train Loss: 1.1543, Avg Train Acc: 0.8713 (Best)\n"
     ]
    },
    {
     "name": "stderr",
     "output_type": "stream",
     "text": [
      "Epoch 7/500 (Validation): 100%|██████████| 100/100 [00:10<00:00,  9.97it/s, loss=1.2159, acc=0.8600]\n"
     ]
    },
    {
     "name": "stdout",
     "output_type": "stream",
     "text": [
      "Avg Val Loss: 1.2551, Avg Val Acc: 0.7867 (Best)\n",
      "Current learning rate: [0.001, 0.001]\n",
      "Patience: 0/20\n"
     ]
    },
    {
     "name": "stderr",
     "output_type": "stream",
     "text": [
      "Epoch 8/500 (Training): 100%|██████████| 100/100 [00:14<00:00,  7.08it/s, loss=1.0203, acc=1.0000]\n"
     ]
    },
    {
     "name": "stdout",
     "output_type": "stream",
     "text": [
      "Avg Train Loss: 1.1472, Avg Train Acc: 0.8761 (Best)\n"
     ]
    },
    {
     "name": "stderr",
     "output_type": "stream",
     "text": [
      "Epoch 8/500 (Validation): 100%|██████████| 100/100 [00:09<00:00, 10.28it/s, loss=1.2000, acc=0.8000]\n"
     ]
    },
    {
     "name": "stdout",
     "output_type": "stream",
     "text": [
      "Avg Val Loss: 1.2532, Avg Val Acc: 0.7878 (Best)\n",
      "Current learning rate: [0.001, 0.001]\n",
      "Patience: 0/20\n"
     ]
    },
    {
     "name": "stderr",
     "output_type": "stream",
     "text": [
      "Epoch 9/500 (Training): 100%|██████████| 100/100 [00:15<00:00,  6.35it/s, loss=1.0975, acc=0.8600]\n"
     ]
    },
    {
     "name": "stdout",
     "output_type": "stream",
     "text": [
      "Avg Train Loss: 1.1403, Avg Train Acc: 0.8797 (Best)\n"
     ]
    },
    {
     "name": "stderr",
     "output_type": "stream",
     "text": [
      "Epoch 9/500 (Validation): 100%|██████████| 100/100 [00:09<00:00, 10.16it/s, loss=1.2734, acc=0.6200]\n"
     ]
    },
    {
     "name": "stdout",
     "output_type": "stream",
     "text": [
      "Avg Val Loss: 1.2519, Avg Val Acc: 0.7861 (Best: 0.7878)\n",
      "Current learning rate: [0.001, 0.001]\n",
      "Patience: 1/20\n"
     ]
    },
    {
     "name": "stderr",
     "output_type": "stream",
     "text": [
      "Epoch 10/500 (Training): 100%|██████████| 100/100 [00:14<00:00,  7.00it/s, loss=1.1380, acc=0.7800]\n"
     ]
    },
    {
     "name": "stdout",
     "output_type": "stream",
     "text": [
      "Avg Train Loss: 1.1361, Avg Train Acc: 0.8805 (Best)\n"
     ]
    },
    {
     "name": "stderr",
     "output_type": "stream",
     "text": [
      "Epoch 10/500 (Validation): 100%|██████████| 100/100 [00:09<00:00, 10.02it/s, loss=1.2041, acc=0.7400]\n"
     ]
    },
    {
     "name": "stdout",
     "output_type": "stream",
     "text": [
      "Avg Val Loss: 1.2505, Avg Val Acc: 0.7882 (Best)\n",
      "Current learning rate: [0.001, 0.001]\n",
      "Patience: 0/20\n"
     ]
    },
    {
     "name": "stderr",
     "output_type": "stream",
     "text": [
      "Epoch 11/500 (Training): 100%|██████████| 100/100 [00:14<00:00,  7.08it/s, loss=1.0745, acc=0.8400]\n"
     ]
    },
    {
     "name": "stdout",
     "output_type": "stream",
     "text": [
      "Avg Train Loss: 1.1324, Avg Train Acc: 0.8810 (Best)\n"
     ]
    },
    {
     "name": "stderr",
     "output_type": "stream",
     "text": [
      "Epoch 11/500 (Validation): 100%|██████████| 100/100 [00:09<00:00, 10.52it/s, loss=1.2369, acc=0.6800]\n"
     ]
    },
    {
     "name": "stdout",
     "output_type": "stream",
     "text": [
      "Avg Val Loss: 1.2493, Avg Val Acc: 0.7879 (Best: 0.7882)\n",
      "Current learning rate: [0.001, 0.001]\n",
      "Patience: 1/20\n"
     ]
    },
    {
     "name": "stderr",
     "output_type": "stream",
     "text": [
      "Epoch 12/500 (Training): 100%|██████████| 100/100 [00:12<00:00,  7.82it/s, loss=1.0079, acc=0.9200]\n"
     ]
    },
    {
     "name": "stdout",
     "output_type": "stream",
     "text": [
      "Avg Train Loss: 1.1287, Avg Train Acc: 0.8821 (Best)\n"
     ]
    },
    {
     "name": "stderr",
     "output_type": "stream",
     "text": [
      "Epoch 12/500 (Validation): 100%|██████████| 100/100 [00:10<00:00,  9.89it/s, loss=1.2566, acc=0.8600]\n"
     ]
    },
    {
     "name": "stdout",
     "output_type": "stream",
     "text": [
      "Avg Val Loss: 1.2482, Avg Val Acc: 0.7889 (Best)\n",
      "Current learning rate: [0.001, 0.001]\n",
      "Patience: 0/20\n"
     ]
    },
    {
     "name": "stderr",
     "output_type": "stream",
     "text": [
      "Epoch 13/500 (Training): 100%|██████████| 100/100 [00:14<00:00,  6.78it/s, loss=1.0243, acc=0.9600]\n"
     ]
    },
    {
     "name": "stdout",
     "output_type": "stream",
     "text": [
      "Avg Train Loss: 1.1251, Avg Train Acc: 0.8840 (Best)\n"
     ]
    },
    {
     "name": "stderr",
     "output_type": "stream",
     "text": [
      "Epoch 13/500 (Validation): 100%|██████████| 100/100 [00:09<00:00, 10.59it/s, loss=1.3054, acc=0.6400]\n"
     ]
    },
    {
     "name": "stdout",
     "output_type": "stream",
     "text": [
      "Avg Val Loss: 1.2476, Avg Val Acc: 0.7854 (Best: 0.7889)\n",
      "Current learning rate: [0.001, 0.001]\n",
      "Patience: 1/20\n"
     ]
    },
    {
     "name": "stderr",
     "output_type": "stream",
     "text": [
      "Epoch 14/500 (Training): 100%|██████████| 100/100 [00:13<00:00,  7.17it/s, loss=1.0662, acc=0.9200]\n"
     ]
    },
    {
     "name": "stdout",
     "output_type": "stream",
     "text": [
      "Avg Train Loss: 1.1227, Avg Train Acc: 0.8856 (Best)\n"
     ]
    },
    {
     "name": "stderr",
     "output_type": "stream",
     "text": [
      "Epoch 14/500 (Validation): 100%|██████████| 100/100 [00:09<00:00, 10.21it/s, loss=1.2172, acc=0.8600]\n"
     ]
    },
    {
     "name": "stdout",
     "output_type": "stream",
     "text": [
      "Avg Val Loss: 1.2453, Avg Val Acc: 0.7880 (Best: 0.7889)\n",
      "Current learning rate: [0.001, 0.001]\n",
      "Patience: 2/20\n"
     ]
    },
    {
     "name": "stderr",
     "output_type": "stream",
     "text": [
      "Epoch 15/500 (Training): 100%|██████████| 100/100 [00:15<00:00,  6.63it/s, loss=1.1476, acc=0.8000]\n"
     ]
    },
    {
     "name": "stdout",
     "output_type": "stream",
     "text": [
      "Avg Train Loss: 1.1198, Avg Train Acc: 0.8874 (Best)\n"
     ]
    },
    {
     "name": "stderr",
     "output_type": "stream",
     "text": [
      "Epoch 15/500 (Validation): 100%|██████████| 100/100 [00:09<00:00, 10.69it/s, loss=1.0587, acc=0.9000]\n"
     ]
    },
    {
     "name": "stdout",
     "output_type": "stream",
     "text": [
      "Avg Val Loss: 1.2451, Avg Val Acc: 0.7897 (Best)\n",
      "Current learning rate: [0.001, 0.001]\n",
      "Patience: 0/20\n"
     ]
    },
    {
     "name": "stderr",
     "output_type": "stream",
     "text": [
      "Epoch 16/500 (Training): 100%|██████████| 100/100 [00:14<00:00,  7.08it/s, loss=1.1107, acc=0.8600]\n"
     ]
    },
    {
     "name": "stdout",
     "output_type": "stream",
     "text": [
      "Avg Train Loss: 1.1173, Avg Train Acc: 0.8881 (Best)\n"
     ]
    },
    {
     "name": "stderr",
     "output_type": "stream",
     "text": [
      "Epoch 16/500 (Validation): 100%|██████████| 100/100 [00:10<00:00,  9.81it/s, loss=1.3483, acc=0.8000]\n"
     ]
    },
    {
     "name": "stdout",
     "output_type": "stream",
     "text": [
      "Avg Val Loss: 1.2449, Avg Val Acc: 0.7904 (Best)\n",
      "Current learning rate: [0.001, 0.001]\n",
      "Patience: 0/20\n"
     ]
    },
    {
     "name": "stderr",
     "output_type": "stream",
     "text": [
      "Epoch 17/500 (Training): 100%|██████████| 100/100 [00:13<00:00,  7.38it/s, loss=1.0906, acc=0.9600]\n"
     ]
    },
    {
     "name": "stdout",
     "output_type": "stream",
     "text": [
      "Avg Train Loss: 1.1149, Avg Train Acc: 0.8895 (Best)\n"
     ]
    },
    {
     "name": "stderr",
     "output_type": "stream",
     "text": [
      "Epoch 17/500 (Validation): 100%|██████████| 100/100 [00:09<00:00, 10.28it/s, loss=1.2440, acc=0.7600]\n"
     ]
    },
    {
     "name": "stdout",
     "output_type": "stream",
     "text": [
      "Avg Val Loss: 1.2460, Avg Val Acc: 0.7893 (Best: 0.7904)\n",
      "Current learning rate: [0.001, 0.001]\n",
      "Patience: 1/20\n"
     ]
    },
    {
     "name": "stderr",
     "output_type": "stream",
     "text": [
      "Epoch 18/500 (Training): 100%|██████████| 100/100 [00:15<00:00,  6.64it/s, loss=0.9388, acc=1.0000]\n"
     ]
    },
    {
     "name": "stdout",
     "output_type": "stream",
     "text": [
      "Avg Train Loss: 1.1119, Avg Train Acc: 0.8910 (Best)\n"
     ]
    },
    {
     "name": "stderr",
     "output_type": "stream",
     "text": [
      "Epoch 18/500 (Validation): 100%|██████████| 100/100 [00:10<00:00,  9.68it/s, loss=1.1637, acc=0.8600]\n"
     ]
    },
    {
     "name": "stdout",
     "output_type": "stream",
     "text": [
      "Avg Val Loss: 1.2471, Avg Val Acc: 0.7903 (Best: 0.7904)\n",
      "Current learning rate: [0.001, 0.001]\n",
      "Patience: 2/20\n"
     ]
    },
    {
     "name": "stderr",
     "output_type": "stream",
     "text": [
      "Epoch 19/500 (Training): 100%|██████████| 100/100 [00:13<00:00,  7.44it/s, loss=1.0764, acc=0.9400]\n"
     ]
    },
    {
     "name": "stdout",
     "output_type": "stream",
     "text": [
      "Avg Train Loss: 1.1105, Avg Train Acc: 0.8914 (Best)\n"
     ]
    },
    {
     "name": "stderr",
     "output_type": "stream",
     "text": [
      "Epoch 19/500 (Validation): 100%|██████████| 100/100 [00:09<00:00, 10.00it/s, loss=1.3011, acc=0.8200]\n"
     ]
    },
    {
     "name": "stdout",
     "output_type": "stream",
     "text": [
      "Avg Val Loss: 1.2465, Avg Val Acc: 0.7925 (Best)\n",
      "Current learning rate: [0.001, 0.001]\n",
      "Patience: 0/20\n"
     ]
    },
    {
     "name": "stderr",
     "output_type": "stream",
     "text": [
      "Epoch 20/500 (Training): 100%|██████████| 100/100 [00:13<00:00,  7.34it/s, loss=1.0350, acc=0.9600]\n"
     ]
    },
    {
     "name": "stdout",
     "output_type": "stream",
     "text": [
      "Avg Train Loss: 1.1087, Avg Train Acc: 0.8928 (Best)\n"
     ]
    },
    {
     "name": "stderr",
     "output_type": "stream",
     "text": [
      "Epoch 20/500 (Validation): 100%|██████████| 100/100 [00:09<00:00, 10.26it/s, loss=1.3335, acc=0.7000]\n"
     ]
    },
    {
     "name": "stdout",
     "output_type": "stream",
     "text": [
      "Avg Val Loss: 1.2469, Avg Val Acc: 0.7920 (Best: 0.7925)\n",
      "Current learning rate: [0.001, 0.001]\n",
      "Patience: 1/20\n"
     ]
    },
    {
     "name": "stderr",
     "output_type": "stream",
     "text": [
      "Epoch 21/500 (Training): 100%|██████████| 100/100 [00:13<00:00,  7.14it/s, loss=0.9574, acc=1.0000]\n"
     ]
    },
    {
     "name": "stdout",
     "output_type": "stream",
     "text": [
      "Avg Train Loss: 1.1064, Avg Train Acc: 0.8943 (Best)\n"
     ]
    },
    {
     "name": "stderr",
     "output_type": "stream",
     "text": [
      "Epoch 21/500 (Validation): 100%|██████████| 100/100 [00:09<00:00, 10.22it/s, loss=1.1765, acc=0.7800]\n"
     ]
    },
    {
     "name": "stdout",
     "output_type": "stream",
     "text": [
      "Avg Val Loss: 1.2460, Avg Val Acc: 0.7915 (Best: 0.7925)\n",
      "Current learning rate: [0.001, 0.001]\n",
      "Patience: 2/20\n"
     ]
    },
    {
     "name": "stderr",
     "output_type": "stream",
     "text": [
      "Epoch 22/500 (Training): 100%|██████████| 100/100 [00:13<00:00,  7.27it/s, loss=1.0170, acc=1.0000]\n"
     ]
    },
    {
     "name": "stdout",
     "output_type": "stream",
     "text": [
      "Avg Train Loss: 1.1049, Avg Train Acc: 0.8952 (Best)\n"
     ]
    },
    {
     "name": "stderr",
     "output_type": "stream",
     "text": [
      "Epoch 22/500 (Validation): 100%|██████████| 100/100 [00:09<00:00, 10.30it/s, loss=1.1622, acc=0.6400]\n"
     ]
    },
    {
     "name": "stdout",
     "output_type": "stream",
     "text": [
      "Avg Val Loss: 1.2449, Avg Val Acc: 0.7906 (Best: 0.7925)\n",
      "Current learning rate: [0.001, 0.001]\n",
      "Patience: 3/20\n"
     ]
    },
    {
     "name": "stderr",
     "output_type": "stream",
     "text": [
      "Epoch 23/500 (Training): 100%|██████████| 100/100 [00:14<00:00,  7.10it/s, loss=1.1631, acc=0.9000]\n"
     ]
    },
    {
     "name": "stdout",
     "output_type": "stream",
     "text": [
      "Avg Train Loss: 1.1030, Avg Train Acc: 0.8965 (Best)\n"
     ]
    },
    {
     "name": "stderr",
     "output_type": "stream",
     "text": [
      "Epoch 23/500 (Validation): 100%|██████████| 100/100 [00:10<00:00,  9.90it/s, loss=1.3756, acc=0.7200]\n"
     ]
    },
    {
     "name": "stdout",
     "output_type": "stream",
     "text": [
      "Avg Val Loss: 1.2452, Avg Val Acc: 0.7907 (Best: 0.7925)\n",
      "Current learning rate: [0.001, 0.001]\n",
      "Patience: 4/20\n"
     ]
    },
    {
     "name": "stderr",
     "output_type": "stream",
     "text": [
      "Epoch 24/500 (Training): 100%|██████████| 100/100 [00:13<00:00,  7.23it/s, loss=1.1729, acc=0.7200]\n"
     ]
    },
    {
     "name": "stdout",
     "output_type": "stream",
     "text": [
      "Avg Train Loss: 1.1012, Avg Train Acc: 0.8976 (Best)\n"
     ]
    },
    {
     "name": "stderr",
     "output_type": "stream",
     "text": [
      "Epoch 24/500 (Validation): 100%|██████████| 100/100 [00:09<00:00, 10.80it/s, loss=1.2544, acc=0.8400]\n"
     ]
    },
    {
     "name": "stdout",
     "output_type": "stream",
     "text": [
      "Avg Val Loss: 1.2442, Avg Val Acc: 0.7894 (Best: 0.7925)\n",
      "Current learning rate: [0.001, 0.001]\n",
      "Patience: 5/20\n"
     ]
    },
    {
     "name": "stderr",
     "output_type": "stream",
     "text": [
      "Epoch 25/500 (Training): 100%|██████████| 100/100 [00:13<00:00,  7.58it/s, loss=0.9571, acc=1.0000]\n"
     ]
    },
    {
     "name": "stdout",
     "output_type": "stream",
     "text": [
      "Avg Train Loss: 1.0993, Avg Train Acc: 0.8991 (Best)\n"
     ]
    },
    {
     "name": "stderr",
     "output_type": "stream",
     "text": [
      "Epoch 25/500 (Validation): 100%|██████████| 100/100 [00:10<00:00,  9.79it/s, loss=1.2381, acc=0.6400]\n"
     ]
    },
    {
     "name": "stdout",
     "output_type": "stream",
     "text": [
      "Avg Val Loss: 1.2432, Avg Val Acc: 0.7902 (Best: 0.7925)\n",
      "Current learning rate: [0.001, 0.001]\n",
      "Patience: 6/20\n"
     ]
    },
    {
     "name": "stderr",
     "output_type": "stream",
     "text": [
      "Epoch 26/500 (Training): 100%|██████████| 100/100 [00:12<00:00,  8.05it/s, loss=0.9990, acc=0.9800]\n"
     ]
    },
    {
     "name": "stdout",
     "output_type": "stream",
     "text": [
      "Avg Train Loss: 1.0978, Avg Train Acc: 0.8998 (Best)\n"
     ]
    },
    {
     "name": "stderr",
     "output_type": "stream",
     "text": [
      "Epoch 26/500 (Validation): 100%|██████████| 100/100 [00:09<00:00, 10.10it/s, loss=1.2430, acc=0.7400]\n"
     ]
    },
    {
     "name": "stdout",
     "output_type": "stream",
     "text": [
      "Avg Val Loss: 1.2423, Avg Val Acc: 0.7888 (Best: 0.7925)\n",
      "Current learning rate: [0.001, 0.001]\n",
      "Patience: 7/20\n"
     ]
    },
    {
     "name": "stderr",
     "output_type": "stream",
     "text": [
      "Epoch 27/500 (Training): 100%|██████████| 100/100 [00:14<00:00,  6.93it/s, loss=1.0666, acc=0.8800]\n"
     ]
    },
    {
     "name": "stdout",
     "output_type": "stream",
     "text": [
      "Avg Train Loss: 1.0963, Avg Train Acc: 0.9005 (Best)\n"
     ]
    },
    {
     "name": "stderr",
     "output_type": "stream",
     "text": [
      "Epoch 27/500 (Validation): 100%|██████████| 100/100 [00:09<00:00, 10.22it/s, loss=1.1506, acc=0.7400]\n"
     ]
    },
    {
     "name": "stdout",
     "output_type": "stream",
     "text": [
      "Avg Val Loss: 1.2422, Avg Val Acc: 0.7887 (Best: 0.7925)\n",
      "Current learning rate: [0.001, 0.001]\n",
      "Patience: 8/20\n"
     ]
    },
    {
     "name": "stderr",
     "output_type": "stream",
     "text": [
      "Epoch 28/500 (Training): 100%|██████████| 100/100 [00:12<00:00,  8.18it/s, loss=1.1001, acc=0.9400]\n"
     ]
    },
    {
     "name": "stdout",
     "output_type": "stream",
     "text": [
      "Avg Train Loss: 1.0946, Avg Train Acc: 0.9018 (Best)\n"
     ]
    },
    {
     "name": "stderr",
     "output_type": "stream",
     "text": [
      "Epoch 28/500 (Validation): 100%|██████████| 100/100 [00:10<00:00,  9.63it/s, loss=1.3884, acc=0.7400]\n"
     ]
    },
    {
     "name": "stdout",
     "output_type": "stream",
     "text": [
      "Avg Val Loss: 1.2435, Avg Val Acc: 0.7888 (Best: 0.7925)\n",
      "Current learning rate: [0.001, 0.001]\n",
      "Patience: 9/20\n"
     ]
    },
    {
     "name": "stderr",
     "output_type": "stream",
     "text": [
      "Epoch 29/500 (Training): 100%|██████████| 100/100 [00:12<00:00,  8.03it/s, loss=1.0497, acc=0.9200]\n"
     ]
    },
    {
     "name": "stdout",
     "output_type": "stream",
     "text": [
      "Avg Train Loss: 1.0928, Avg Train Acc: 0.9028 (Best)\n"
     ]
    },
    {
     "name": "stderr",
     "output_type": "stream",
     "text": [
      "Epoch 29/500 (Validation): 100%|██████████| 100/100 [00:09<00:00, 10.19it/s, loss=1.1745, acc=0.7600]\n"
     ]
    },
    {
     "name": "stdout",
     "output_type": "stream",
     "text": [
      "Avg Val Loss: 1.2435, Avg Val Acc: 0.7890 (Best: 0.7925)\n",
      "Current learning rate: [0.001, 0.001]\n",
      "Patience: 10/20\n"
     ]
    },
    {
     "name": "stderr",
     "output_type": "stream",
     "text": [
      "Epoch 30/500 (Training): 100%|██████████| 100/100 [00:14<00:00,  6.91it/s, loss=0.9852, acc=0.9600]\n"
     ]
    },
    {
     "name": "stdout",
     "output_type": "stream",
     "text": [
      "Avg Train Loss: 1.0916, Avg Train Acc: 0.9035 (Best)\n"
     ]
    },
    {
     "name": "stderr",
     "output_type": "stream",
     "text": [
      "Epoch 30/500 (Validation): 100%|██████████| 100/100 [00:10<00:00,  9.70it/s, loss=1.1924, acc=0.8000]\n"
     ]
    },
    {
     "name": "stdout",
     "output_type": "stream",
     "text": [
      "Avg Val Loss: 1.2438, Avg Val Acc: 0.7896 (Best: 0.7925)\n",
      "Current learning rate: [0.001, 0.001]\n",
      "Patience: 11/20\n"
     ]
    },
    {
     "name": "stderr",
     "output_type": "stream",
     "text": [
      "Epoch 31/500 (Training): 100%|██████████| 100/100 [00:15<00:00,  6.36it/s, loss=0.9442, acc=1.0000]\n"
     ]
    },
    {
     "name": "stdout",
     "output_type": "stream",
     "text": [
      "Avg Train Loss: 1.0901, Avg Train Acc: 0.9044 (Best)\n"
     ]
    },
    {
     "name": "stderr",
     "output_type": "stream",
     "text": [
      "Epoch 31/500 (Validation): 100%|██████████| 100/100 [00:09<00:00, 10.15it/s, loss=1.1844, acc=0.8200]\n"
     ]
    },
    {
     "name": "stdout",
     "output_type": "stream",
     "text": [
      "Avg Val Loss: 1.2436, Avg Val Acc: 0.7882 (Best: 0.7925)\n",
      "Current learning rate: [0.001, 0.001]\n",
      "Patience: 12/20\n"
     ]
    },
    {
     "name": "stderr",
     "output_type": "stream",
     "text": [
      "Epoch 32/500 (Training): 100%|██████████| 100/100 [00:14<00:00,  7.14it/s, loss=1.0787, acc=0.9400]\n"
     ]
    },
    {
     "name": "stdout",
     "output_type": "stream",
     "text": [
      "Avg Train Loss: 1.0886, Avg Train Acc: 0.9052 (Best)\n"
     ]
    },
    {
     "name": "stderr",
     "output_type": "stream",
     "text": [
      "Epoch 32/500 (Validation): 100%|██████████| 100/100 [00:10<00:00,  9.68it/s, loss=1.3534, acc=0.6200]\n"
     ]
    },
    {
     "name": "stdout",
     "output_type": "stream",
     "text": [
      "Avg Val Loss: 1.2450, Avg Val Acc: 0.7853 (Best: 0.7925)\n",
      "Current learning rate: [0.001, 0.001]\n",
      "Patience: 13/20\n"
     ]
    },
    {
     "name": "stderr",
     "output_type": "stream",
     "text": [
      "Epoch 33/500 (Training): 100%|██████████| 100/100 [00:15<00:00,  6.32it/s, loss=1.0047, acc=0.9800]\n"
     ]
    },
    {
     "name": "stdout",
     "output_type": "stream",
     "text": [
      "Avg Train Loss: 1.0872, Avg Train Acc: 0.9060 (Best)\n"
     ]
    },
    {
     "name": "stderr",
     "output_type": "stream",
     "text": [
      "Epoch 33/500 (Validation): 100%|██████████| 100/100 [00:10<00:00,  9.82it/s, loss=1.3598, acc=0.6600]\n"
     ]
    },
    {
     "name": "stdout",
     "output_type": "stream",
     "text": [
      "Avg Val Loss: 1.2457, Avg Val Acc: 0.7842 (Best: 0.7925)\n",
      "Current learning rate: [0.001, 0.001]\n",
      "Patience: 14/20\n"
     ]
    },
    {
     "name": "stderr",
     "output_type": "stream",
     "text": [
      "Epoch 34/500 (Training): 100%|██████████| 100/100 [00:14<00:00,  6.77it/s, loss=1.0267, acc=0.9400]\n"
     ]
    },
    {
     "name": "stdout",
     "output_type": "stream",
     "text": [
      "Avg Train Loss: 1.0858, Avg Train Acc: 0.9068 (Best)\n"
     ]
    },
    {
     "name": "stderr",
     "output_type": "stream",
     "text": [
      "Epoch 34/500 (Validation): 100%|██████████| 100/100 [00:09<00:00, 10.13it/s, loss=1.1792, acc=0.8400]\n"
     ]
    },
    {
     "name": "stdout",
     "output_type": "stream",
     "text": [
      "Avg Val Loss: 1.2457, Avg Val Acc: 0.7841 (Best: 0.7925)\n",
      "Current learning rate: [0.001, 0.001]\n",
      "Patience: 15/20\n"
     ]
    },
    {
     "name": "stderr",
     "output_type": "stream",
     "text": [
      "Epoch 35/500 (Training): 100%|██████████| 100/100 [00:14<00:00,  6.77it/s, loss=1.0094, acc=1.0000]\n"
     ]
    },
    {
     "name": "stdout",
     "output_type": "stream",
     "text": [
      "Avg Train Loss: 1.0845, Avg Train Acc: 0.9079 (Best)\n"
     ]
    },
    {
     "name": "stderr",
     "output_type": "stream",
     "text": [
      "Epoch 35/500 (Validation): 100%|██████████| 100/100 [00:09<00:00, 10.03it/s, loss=1.3445, acc=0.6600]\n"
     ]
    },
    {
     "name": "stdout",
     "output_type": "stream",
     "text": [
      "Avg Val Loss: 1.2462, Avg Val Acc: 0.7828 (Best: 0.7925)\n",
      "Current learning rate: [0.001, 0.001]\n",
      "Patience: 16/20\n"
     ]
    },
    {
     "name": "stderr",
     "output_type": "stream",
     "text": [
      "Epoch 36/500 (Training): 100%|██████████| 100/100 [00:12<00:00,  7.71it/s, loss=1.0983, acc=0.9600]\n"
     ]
    },
    {
     "name": "stdout",
     "output_type": "stream",
     "text": [
      "Avg Train Loss: 1.0834, Avg Train Acc: 0.9086 (Best)\n"
     ]
    },
    {
     "name": "stderr",
     "output_type": "stream",
     "text": [
      "Epoch 36/500 (Validation): 100%|██████████| 100/100 [00:10<00:00,  9.63it/s, loss=1.4349, acc=0.5400]\n"
     ]
    },
    {
     "name": "stdout",
     "output_type": "stream",
     "text": [
      "Avg Val Loss: 1.2457, Avg Val Acc: 0.7836 (Best: 0.7925)\n",
      "Current learning rate: [0.001, 0.001]\n",
      "Patience: 17/20\n"
     ]
    },
    {
     "name": "stderr",
     "output_type": "stream",
     "text": [
      "Epoch 37/500 (Training): 100%|██████████| 100/100 [00:14<00:00,  6.84it/s, loss=1.0500, acc=0.8800]\n"
     ]
    },
    {
     "name": "stdout",
     "output_type": "stream",
     "text": [
      "Avg Train Loss: 1.0825, Avg Train Acc: 0.9090 (Best)\n"
     ]
    },
    {
     "name": "stderr",
     "output_type": "stream",
     "text": [
      "Epoch 37/500 (Validation): 100%|██████████| 100/100 [00:09<00:00, 10.19it/s, loss=1.2574, acc=0.8400]\n"
     ]
    },
    {
     "name": "stdout",
     "output_type": "stream",
     "text": [
      "Avg Val Loss: 1.2452, Avg Val Acc: 0.7837 (Best: 0.7925)\n",
      "Current learning rate: [0.001, 0.001]\n",
      "Patience: 18/20\n"
     ]
    },
    {
     "name": "stderr",
     "output_type": "stream",
     "text": [
      "Epoch 38/500 (Training): 100%|██████████| 100/100 [00:13<00:00,  7.52it/s, loss=0.9962, acc=0.9800]\n"
     ]
    },
    {
     "name": "stdout",
     "output_type": "stream",
     "text": [
      "Avg Train Loss: 1.0813, Avg Train Acc: 0.9098 (Best)\n"
     ]
    },
    {
     "name": "stderr",
     "output_type": "stream",
     "text": [
      "Epoch 38/500 (Validation): 100%|██████████| 100/100 [00:09<00:00, 10.10it/s, loss=1.3219, acc=0.6200]\n"
     ]
    },
    {
     "name": "stdout",
     "output_type": "stream",
     "text": [
      "Avg Val Loss: 1.2454, Avg Val Acc: 0.7824 (Best: 0.7925)\n",
      "Current learning rate: [0.0005, 0.0005]\n",
      "Patience: 19/20\n"
     ]
    },
    {
     "name": "stderr",
     "output_type": "stream",
     "text": [
      "Epoch 39/500 (Training): 100%|██████████| 100/100 [00:12<00:00,  7.70it/s, loss=1.0168, acc=1.0000]\n"
     ]
    },
    {
     "name": "stdout",
     "output_type": "stream",
     "text": [
      "Avg Train Loss: 1.0802, Avg Train Acc: 0.9105 (Best)\n"
     ]
    },
    {
     "name": "stderr",
     "output_type": "stream",
     "text": [
      "Epoch 39/500 (Validation): 100%|██████████| 100/100 [00:09<00:00, 10.10it/s, loss=1.2620, acc=0.6800]\n"
     ]
    },
    {
     "name": "stdout",
     "output_type": "stream",
     "text": [
      "Avg Val Loss: 1.2448, Avg Val Acc: 0.7827 (Best: 0.7925)\n",
      "Current learning rate: [0.0005, 0.0005]\n",
      "Early stopping\n",
      "Finish training\n",
      "Setting up the testing module...\n",
      "Loading data from /mnt/ssd2t/mandy/Projects/few_shot_fcg/embeddings/x86_64_withVal_withPretrain_ghidra_6/word2vec...\n",
      "Loading validation data...\n",
      "Loading data from /mnt/ssd2t/mandy/Projects/few_shot_fcg/embeddings/x86_64_withVal_withPretrain_ghidra_6/word2vec/valData.pkl...\n",
      "Loading testing data...\n",
      "Loading data from /mnt/ssd2t/mandy/Projects/few_shot_fcg/embeddings/x86_64_withVal_withPretrain_ghidra_6/word2vec/testData.pkl...\n",
      "Finish setting up the testing module\n",
      "Model path is not provided. Using the best model...\n",
      "Record evaluation log...\n",
      "Loading model from ./checkpoints/x86_64_withVal_withPretrain_ghidra_6_testing_for_cosine/5way_10shot_ProtoNet_20250217_153652/epoch_19_best.pth\n",
      "Best model loaded\n",
      "Model: GraphSAGE(\n",
      "  (sage_convs): ModuleList(\n",
      "    (0-1): 2 x SAGEConv(128, 128, aggr=mean)\n",
      "  )\n",
      "  (norms): ModuleList(\n",
      "    (0-1): 2 x BatchNorm1d(128, eps=1e-05, momentum=0.1, affine=True, track_running_stats=True)\n",
      "  )\n",
      "  (output_proj): Sequential(\n",
      "    (0): Linear(in_features=128, out_features=128, bias=True)\n",
      "    (1): BatchNorm1d(128, eps=1e-05, momentum=0.1, affine=True, track_running_stats=True)\n",
      "    (2): ReLU()\n",
      "  )\n",
      ")\n",
      "Start evaluation... (testing dataset)\n",
      "Epoch 1\n"
     ]
    },
    {
     "name": "stderr",
     "output_type": "stream",
     "text": [
      "Testing: 100%|██████████| 100/100 [00:06<00:00, 16.11it/s]\n"
     ]
    },
    {
     "name": "stdout",
     "output_type": "stream",
     "text": [
      "Epoch 2\n"
     ]
    },
    {
     "name": "stderr",
     "output_type": "stream",
     "text": [
      "Testing: 100%|██████████| 100/100 [00:06<00:00, 15.09it/s]\n"
     ]
    },
    {
     "name": "stdout",
     "output_type": "stream",
     "text": [
      "Epoch 3\n"
     ]
    },
    {
     "name": "stderr",
     "output_type": "stream",
     "text": [
      "Testing: 100%|██████████| 100/100 [00:06<00:00, 15.67it/s]\n"
     ]
    },
    {
     "name": "stdout",
     "output_type": "stream",
     "text": [
      "Epoch 4\n"
     ]
    },
    {
     "name": "stderr",
     "output_type": "stream",
     "text": [
      "Testing: 100%|██████████| 100/100 [00:06<00:00, 15.72it/s]\n"
     ]
    },
    {
     "name": "stdout",
     "output_type": "stream",
     "text": [
      "Epoch 5\n"
     ]
    },
    {
     "name": "stderr",
     "output_type": "stream",
     "text": [
      "Testing: 100%|██████████| 100/100 [00:06<00:00, 16.16it/s]\n"
     ]
    },
    {
     "name": "stdout",
     "output_type": "stream",
     "text": [
      "Epoch 6\n"
     ]
    },
    {
     "name": "stderr",
     "output_type": "stream",
     "text": [
      "Testing: 100%|██████████| 100/100 [00:06<00:00, 14.64it/s]\n"
     ]
    },
    {
     "name": "stdout",
     "output_type": "stream",
     "text": [
      "Epoch 7\n"
     ]
    },
    {
     "name": "stderr",
     "output_type": "stream",
     "text": [
      "Testing: 100%|██████████| 100/100 [00:06<00:00, 15.58it/s]\n"
     ]
    },
    {
     "name": "stdout",
     "output_type": "stream",
     "text": [
      "Epoch 8\n"
     ]
    },
    {
     "name": "stderr",
     "output_type": "stream",
     "text": [
      "Testing: 100%|██████████| 100/100 [00:06<00:00, 15.35it/s]\n"
     ]
    },
    {
     "name": "stdout",
     "output_type": "stream",
     "text": [
      "Epoch 9\n"
     ]
    },
    {
     "name": "stderr",
     "output_type": "stream",
     "text": [
      "Testing: 100%|██████████| 100/100 [00:06<00:00, 15.23it/s]\n"
     ]
    },
    {
     "name": "stdout",
     "output_type": "stream",
     "text": [
      "Epoch 10\n"
     ]
    },
    {
     "name": "stderr",
     "output_type": "stream",
     "text": [
      "Testing: 100%|██████████| 100/100 [00:06<00:00, 15.54it/s]\n"
     ]
    },
    {
     "name": "stdout",
     "output_type": "stream",
     "text": [
      "Testing accuracy: 0.7192\n",
      "Finish evaluation\n",
      "Loading all datasets...\n",
      "train dataset shape: (1180, 16)\n",
      "train dataset family number: 59\n",
      "test dataset shape: (200, 16)\n",
      "test dataset family number: 10\n",
      "val dataset shape: (200, 16)\n",
      "val dataset family number: 10\n",
      "Word2vec model exist, load word2vec model...\n",
      "Start to get node embedding...\n"
     ]
    },
    {
     "name": "stderr",
     "output_type": "stream",
     "text": [
      "100%|██████████| 1580/1580 [00:00<00:00, 54260.97it/s]\n"
     ]
    },
    {
     "name": "stdout",
     "output_type": "stream",
     "text": [
      "Finish getting node embedding\n",
      "Setting up the training module...\n",
      "Loading data from /mnt/ssd2t/mandy/Projects/few_shot_fcg/embeddings/x86_64_withVal_withPretrain_ghidra_6/word2vec...\n",
      "Loading training data...\n",
      "Loading data from /mnt/ssd2t/mandy/Projects/few_shot_fcg/embeddings/x86_64_withVal_withPretrain_ghidra_6/word2vec/trainData.pkl...\n",
      "Loading validation data...\n",
      "Loading data from /mnt/ssd2t/mandy/Projects/few_shot_fcg/embeddings/x86_64_withVal_withPretrain_ghidra_6/word2vec/valData.pkl...\n",
      "Model loaded from ./pretrained/x86_pretrained_20241121_1653/epoch_2060_best_backbone.pth\n",
      "Device: cuda:0\n",
      "Model: GraphSAGE(\n",
      "  (sage_convs): ModuleList(\n",
      "    (0-1): 2 x SAGEConv(128, 128, aggr=mean)\n",
      "  )\n",
      "  (norms): ModuleList(\n",
      "    (0-1): 2 x BatchNorm1d(128, eps=1e-05, momentum=0.1, affine=True, track_running_stats=True)\n",
      "  )\n",
      "  (output_proj): Sequential(\n",
      "    (0): Linear(in_features=128, out_features=128, bias=True)\n",
      "    (1): BatchNorm1d(128, eps=1e-05, momentum=0.1, affine=True, track_running_stats=True)\n",
      "    (2): ReLU()\n",
      "  )\n",
      ")\n",
      "Loss function: <loss.ProtoLoss object at 0x774714706b90>\n",
      "Optimizer: AdamW (\n",
      "Parameter Group 0\n",
      "    amsgrad: False\n",
      "    betas: (0.9, 0.999)\n",
      "    capturable: False\n",
      "    differentiable: False\n",
      "    eps: 1e-08\n",
      "    foreach: None\n",
      "    fused: None\n",
      "    lr: 0.001\n",
      "    maximize: False\n",
      "    weight_decay: 0.01\n",
      "\n",
      "Parameter Group 1\n",
      "    amsgrad: False\n",
      "    betas: (0.9, 0.999)\n",
      "    capturable: False\n",
      "    differentiable: False\n",
      "    eps: 1e-08\n",
      "    foreach: None\n",
      "    fused: None\n",
      "    lr: 0.001\n",
      "    maximize: False\n",
      "    weight_decay: 0.01\n",
      ")\n",
      "Finish setting up the training module\n",
      "Copying split files...\n",
      "Finish copying split files\n",
      "Start training...\n"
     ]
    },
    {
     "name": "stderr",
     "output_type": "stream",
     "text": [
      "Epoch 1/500 (Training): 100%|██████████| 100/100 [00:26<00:00,  3.78it/s, loss=1.7304, acc=0.8533]\n"
     ]
    },
    {
     "name": "stdout",
     "output_type": "stream",
     "text": [
      "Avg Train Loss: 1.8802, Avg Train Acc: 0.7629 (Best)\n"
     ]
    },
    {
     "name": "stderr",
     "output_type": "stream",
     "text": [
      "Epoch 1/500 (Validation): 100%|██████████| 100/100 [00:18<00:00,  5.38it/s, loss=1.8609, acc=0.6800]\n"
     ]
    },
    {
     "name": "stdout",
     "output_type": "stream",
     "text": [
      "Avg Val Loss: 1.8748, Avg Val Acc: 0.6787 (Best)\n",
      "Current learning rate: [0.001, 0.001]\n",
      "Patience: 0/20\n"
     ]
    },
    {
     "name": "stderr",
     "output_type": "stream",
     "text": [
      "Epoch 2/500 (Training): 100%|██████████| 100/100 [00:26<00:00,  3.76it/s, loss=1.6636, acc=0.9067]\n"
     ]
    },
    {
     "name": "stdout",
     "output_type": "stream",
     "text": [
      "Avg Train Loss: 1.8332, Avg Train Acc: 0.7751 (Best)\n"
     ]
    },
    {
     "name": "stderr",
     "output_type": "stream",
     "text": [
      "Epoch 2/500 (Validation): 100%|██████████| 100/100 [00:18<00:00,  5.42it/s, loss=1.8272, acc=0.7467]\n"
     ]
    },
    {
     "name": "stdout",
     "output_type": "stream",
     "text": [
      "Avg Val Loss: 1.8688, Avg Val Acc: 0.6699 (Best: 0.6787)\n",
      "Current learning rate: [0.001, 0.001]\n",
      "Patience: 1/20\n"
     ]
    },
    {
     "name": "stderr",
     "output_type": "stream",
     "text": [
      "Epoch 3/500 (Training): 100%|██████████| 100/100 [00:26<00:00,  3.84it/s, loss=1.7074, acc=0.8600]\n"
     ]
    },
    {
     "name": "stdout",
     "output_type": "stream",
     "text": [
      "Avg Train Loss: 1.8080, Avg Train Acc: 0.7859 (Best)\n"
     ]
    },
    {
     "name": "stderr",
     "output_type": "stream",
     "text": [
      "Epoch 3/500 (Validation): 100%|██████████| 100/100 [00:18<00:00,  5.37it/s, loss=1.8501, acc=0.7000]\n"
     ]
    },
    {
     "name": "stdout",
     "output_type": "stream",
     "text": [
      "Avg Val Loss: 1.8698, Avg Val Acc: 0.6724 (Best: 0.6787)\n",
      "Current learning rate: [0.001, 0.001]\n",
      "Patience: 2/20\n"
     ]
    },
    {
     "name": "stderr",
     "output_type": "stream",
     "text": [
      "Epoch 4/500 (Training): 100%|██████████| 100/100 [00:29<00:00,  3.43it/s, loss=1.8202, acc=0.8200]\n"
     ]
    },
    {
     "name": "stdout",
     "output_type": "stream",
     "text": [
      "Avg Train Loss: 1.7938, Avg Train Acc: 0.7868 (Best)\n"
     ]
    },
    {
     "name": "stderr",
     "output_type": "stream",
     "text": [
      "Epoch 4/500 (Validation): 100%|██████████| 100/100 [00:18<00:00,  5.43it/s, loss=1.8526, acc=0.7267]\n"
     ]
    },
    {
     "name": "stdout",
     "output_type": "stream",
     "text": [
      "Avg Val Loss: 1.8661, Avg Val Acc: 0.6791 (Best)\n",
      "Current learning rate: [0.001, 0.001]\n",
      "Patience: 0/20\n"
     ]
    },
    {
     "name": "stderr",
     "output_type": "stream",
     "text": [
      "Epoch 5/500 (Training): 100%|██████████| 100/100 [00:26<00:00,  3.71it/s, loss=1.7072, acc=0.8467]\n"
     ]
    },
    {
     "name": "stdout",
     "output_type": "stream",
     "text": [
      "Avg Train Loss: 1.7852, Avg Train Acc: 0.7903 (Best)\n"
     ]
    },
    {
     "name": "stderr",
     "output_type": "stream",
     "text": [
      "Epoch 5/500 (Validation): 100%|██████████| 100/100 [00:18<00:00,  5.39it/s, loss=1.8359, acc=0.7533]\n"
     ]
    },
    {
     "name": "stdout",
     "output_type": "stream",
     "text": [
      "Avg Val Loss: 1.8624, Avg Val Acc: 0.6841 (Best)\n",
      "Current learning rate: [0.001, 0.001]\n",
      "Patience: 0/20\n"
     ]
    },
    {
     "name": "stderr",
     "output_type": "stream",
     "text": [
      "Epoch 6/500 (Training): 100%|██████████| 100/100 [00:26<00:00,  3.83it/s, loss=1.7126, acc=0.8733]\n"
     ]
    },
    {
     "name": "stdout",
     "output_type": "stream",
     "text": [
      "Avg Train Loss: 1.7783, Avg Train Acc: 0.7908 (Best)\n"
     ]
    },
    {
     "name": "stderr",
     "output_type": "stream",
     "text": [
      "Epoch 6/500 (Validation): 100%|██████████| 100/100 [00:18<00:00,  5.39it/s, loss=1.8617, acc=0.7267]\n"
     ]
    },
    {
     "name": "stdout",
     "output_type": "stream",
     "text": [
      "Avg Val Loss: 1.8634, Avg Val Acc: 0.6866 (Best)\n",
      "Current learning rate: [0.001, 0.001]\n",
      "Patience: 0/20\n"
     ]
    },
    {
     "name": "stderr",
     "output_type": "stream",
     "text": [
      "Epoch 7/500 (Training): 100%|██████████| 100/100 [00:25<00:00,  3.87it/s, loss=1.7221, acc=0.8800]\n"
     ]
    },
    {
     "name": "stdout",
     "output_type": "stream",
     "text": [
      "Avg Train Loss: 1.7703, Avg Train Acc: 0.7953 (Best)\n"
     ]
    },
    {
     "name": "stderr",
     "output_type": "stream",
     "text": [
      "Epoch 7/500 (Validation): 100%|██████████| 100/100 [00:18<00:00,  5.35it/s, loss=1.8416, acc=0.6467]\n"
     ]
    },
    {
     "name": "stdout",
     "output_type": "stream",
     "text": [
      "Avg Val Loss: 1.8611, Avg Val Acc: 0.6870 (Best)\n",
      "Current learning rate: [0.001, 0.001]\n",
      "Patience: 0/20\n"
     ]
    },
    {
     "name": "stderr",
     "output_type": "stream",
     "text": [
      "Epoch 8/500 (Training): 100%|██████████| 100/100 [00:27<00:00,  3.58it/s, loss=1.7207, acc=0.8733]\n"
     ]
    },
    {
     "name": "stdout",
     "output_type": "stream",
     "text": [
      "Avg Train Loss: 1.7643, Avg Train Acc: 0.7988 (Best)\n"
     ]
    },
    {
     "name": "stderr",
     "output_type": "stream",
     "text": [
      "Epoch 8/500 (Validation): 100%|██████████| 100/100 [00:18<00:00,  5.36it/s, loss=1.8755, acc=0.7000]\n"
     ]
    },
    {
     "name": "stdout",
     "output_type": "stream",
     "text": [
      "Avg Val Loss: 1.8611, Avg Val Acc: 0.6854 (Best: 0.6870)\n",
      "Current learning rate: [0.001, 0.001]\n",
      "Patience: 1/20\n"
     ]
    },
    {
     "name": "stderr",
     "output_type": "stream",
     "text": [
      "Epoch 9/500 (Training): 100%|██████████| 100/100 [00:25<00:00,  3.87it/s, loss=1.6822, acc=0.9067]\n"
     ]
    },
    {
     "name": "stdout",
     "output_type": "stream",
     "text": [
      "Avg Train Loss: 1.7592, Avg Train Acc: 0.8016 (Best)\n"
     ]
    },
    {
     "name": "stderr",
     "output_type": "stream",
     "text": [
      "Epoch 9/500 (Validation): 100%|██████████| 100/100 [00:18<00:00,  5.34it/s, loss=1.8960, acc=0.7467]\n"
     ]
    },
    {
     "name": "stdout",
     "output_type": "stream",
     "text": [
      "Avg Val Loss: 1.8620, Avg Val Acc: 0.6886 (Best)\n",
      "Current learning rate: [0.001, 0.001]\n",
      "Patience: 0/20\n"
     ]
    },
    {
     "name": "stderr",
     "output_type": "stream",
     "text": [
      "Epoch 10/500 (Training): 100%|██████████| 100/100 [00:28<00:00,  3.47it/s, loss=1.6809, acc=0.8333]\n"
     ]
    },
    {
     "name": "stdout",
     "output_type": "stream",
     "text": [
      "Avg Train Loss: 1.7544, Avg Train Acc: 0.8036 (Best)\n"
     ]
    },
    {
     "name": "stderr",
     "output_type": "stream",
     "text": [
      "Epoch 10/500 (Validation): 100%|██████████| 100/100 [00:18<00:00,  5.38it/s, loss=1.8369, acc=0.7333]\n"
     ]
    },
    {
     "name": "stdout",
     "output_type": "stream",
     "text": [
      "Avg Val Loss: 1.8608, Avg Val Acc: 0.6890 (Best)\n",
      "Current learning rate: [0.001, 0.001]\n",
      "Patience: 0/20\n"
     ]
    },
    {
     "name": "stderr",
     "output_type": "stream",
     "text": [
      "Epoch 11/500 (Training): 100%|██████████| 100/100 [00:26<00:00,  3.73it/s, loss=1.6702, acc=0.8667]\n"
     ]
    },
    {
     "name": "stdout",
     "output_type": "stream",
     "text": [
      "Avg Train Loss: 1.7506, Avg Train Acc: 0.8065 (Best)\n"
     ]
    },
    {
     "name": "stderr",
     "output_type": "stream",
     "text": [
      "Epoch 11/500 (Validation): 100%|██████████| 100/100 [00:18<00:00,  5.37it/s, loss=1.8592, acc=0.7600]\n"
     ]
    },
    {
     "name": "stdout",
     "output_type": "stream",
     "text": [
      "Avg Val Loss: 1.8612, Avg Val Acc: 0.6915 (Best)\n",
      "Current learning rate: [0.001, 0.001]\n",
      "Patience: 0/20\n"
     ]
    },
    {
     "name": "stderr",
     "output_type": "stream",
     "text": [
      "Epoch 12/500 (Training): 100%|██████████| 100/100 [00:27<00:00,  3.68it/s, loss=1.8053, acc=0.8400]\n"
     ]
    },
    {
     "name": "stdout",
     "output_type": "stream",
     "text": [
      "Avg Train Loss: 1.7467, Avg Train Acc: 0.8077 (Best)\n"
     ]
    },
    {
     "name": "stderr",
     "output_type": "stream",
     "text": [
      "Epoch 12/500 (Validation): 100%|██████████| 100/100 [00:18<00:00,  5.39it/s, loss=1.9450, acc=0.5867]\n"
     ]
    },
    {
     "name": "stdout",
     "output_type": "stream",
     "text": [
      "Avg Val Loss: 1.8659, Avg Val Acc: 0.6878 (Best: 0.6915)\n",
      "Current learning rate: [0.001, 0.001]\n",
      "Patience: 1/20\n"
     ]
    },
    {
     "name": "stderr",
     "output_type": "stream",
     "text": [
      "Epoch 13/500 (Training): 100%|██████████| 100/100 [00:27<00:00,  3.64it/s, loss=1.7304, acc=0.7667]\n"
     ]
    },
    {
     "name": "stdout",
     "output_type": "stream",
     "text": [
      "Avg Train Loss: 1.7433, Avg Train Acc: 0.8096 (Best)\n"
     ]
    },
    {
     "name": "stderr",
     "output_type": "stream",
     "text": [
      "Epoch 13/500 (Validation): 100%|██████████| 100/100 [00:18<00:00,  5.38it/s, loss=1.8414, acc=0.6800]\n"
     ]
    },
    {
     "name": "stdout",
     "output_type": "stream",
     "text": [
      "Avg Val Loss: 1.8644, Avg Val Acc: 0.6904 (Best: 0.6915)\n",
      "Current learning rate: [0.001, 0.001]\n",
      "Patience: 2/20\n"
     ]
    },
    {
     "name": "stderr",
     "output_type": "stream",
     "text": [
      "Epoch 14/500 (Training): 100%|██████████| 100/100 [00:26<00:00,  3.74it/s, loss=1.6728, acc=0.8733]\n"
     ]
    },
    {
     "name": "stdout",
     "output_type": "stream",
     "text": [
      "Avg Train Loss: 1.7390, Avg Train Acc: 0.8120 (Best)\n"
     ]
    },
    {
     "name": "stderr",
     "output_type": "stream",
     "text": [
      "Epoch 14/500 (Validation): 100%|██████████| 100/100 [00:18<00:00,  5.35it/s, loss=1.8531, acc=0.7133]\n"
     ]
    },
    {
     "name": "stdout",
     "output_type": "stream",
     "text": [
      "Avg Val Loss: 1.8629, Avg Val Acc: 0.6921 (Best)\n",
      "Current learning rate: [0.001, 0.001]\n",
      "Patience: 0/20\n"
     ]
    },
    {
     "name": "stderr",
     "output_type": "stream",
     "text": [
      "Epoch 15/500 (Training): 100%|██████████| 100/100 [00:27<00:00,  3.66it/s, loss=1.6728, acc=0.8267]\n"
     ]
    },
    {
     "name": "stdout",
     "output_type": "stream",
     "text": [
      "Avg Train Loss: 1.7349, Avg Train Acc: 0.8143 (Best)\n"
     ]
    },
    {
     "name": "stderr",
     "output_type": "stream",
     "text": [
      "Epoch 15/500 (Validation): 100%|██████████| 100/100 [00:18<00:00,  5.38it/s, loss=1.8406, acc=0.7600]\n"
     ]
    },
    {
     "name": "stdout",
     "output_type": "stream",
     "text": [
      "Avg Val Loss: 1.8626, Avg Val Acc: 0.6924 (Best)\n",
      "Current learning rate: [0.001, 0.001]\n",
      "Patience: 0/20\n"
     ]
    },
    {
     "name": "stderr",
     "output_type": "stream",
     "text": [
      "Epoch 16/500 (Training): 100%|██████████| 100/100 [00:27<00:00,  3.70it/s, loss=1.6664, acc=0.9000]\n"
     ]
    },
    {
     "name": "stdout",
     "output_type": "stream",
     "text": [
      "Avg Train Loss: 1.7312, Avg Train Acc: 0.8169 (Best)\n"
     ]
    },
    {
     "name": "stderr",
     "output_type": "stream",
     "text": [
      "Epoch 16/500 (Validation): 100%|██████████| 100/100 [00:18<00:00,  5.39it/s, loss=1.8948, acc=0.6533]\n"
     ]
    },
    {
     "name": "stdout",
     "output_type": "stream",
     "text": [
      "Avg Val Loss: 1.8622, Avg Val Acc: 0.6928 (Best)\n",
      "Current learning rate: [0.001, 0.001]\n",
      "Patience: 0/20\n"
     ]
    },
    {
     "name": "stderr",
     "output_type": "stream",
     "text": [
      "Epoch 17/500 (Training): 100%|██████████| 100/100 [00:25<00:00,  3.91it/s, loss=1.6601, acc=0.8067]\n"
     ]
    },
    {
     "name": "stdout",
     "output_type": "stream",
     "text": [
      "Avg Train Loss: 1.7277, Avg Train Acc: 0.8197 (Best)\n"
     ]
    },
    {
     "name": "stderr",
     "output_type": "stream",
     "text": [
      "Epoch 17/500 (Validation): 100%|██████████| 100/100 [00:18<00:00,  5.35it/s, loss=1.8118, acc=0.8000]\n"
     ]
    },
    {
     "name": "stdout",
     "output_type": "stream",
     "text": [
      "Avg Val Loss: 1.8609, Avg Val Acc: 0.6945 (Best)\n",
      "Current learning rate: [0.001, 0.001]\n",
      "Patience: 0/20\n"
     ]
    },
    {
     "name": "stderr",
     "output_type": "stream",
     "text": [
      "Epoch 18/500 (Training): 100%|██████████| 100/100 [00:24<00:00,  4.07it/s, loss=1.6225, acc=0.9067]\n"
     ]
    },
    {
     "name": "stdout",
     "output_type": "stream",
     "text": [
      "Avg Train Loss: 1.7243, Avg Train Acc: 0.8216 (Best)\n"
     ]
    },
    {
     "name": "stderr",
     "output_type": "stream",
     "text": [
      "Epoch 18/500 (Validation): 100%|██████████| 100/100 [00:18<00:00,  5.42it/s, loss=1.8660, acc=0.6467]\n"
     ]
    },
    {
     "name": "stdout",
     "output_type": "stream",
     "text": [
      "Avg Val Loss: 1.8604, Avg Val Acc: 0.6942 (Best: 0.6945)\n",
      "Current learning rate: [0.001, 0.001]\n",
      "Patience: 1/20\n"
     ]
    },
    {
     "name": "stderr",
     "output_type": "stream",
     "text": [
      "Epoch 19/500 (Training): 100%|██████████| 100/100 [00:25<00:00,  3.97it/s, loss=1.7278, acc=0.7000]\n"
     ]
    },
    {
     "name": "stdout",
     "output_type": "stream",
     "text": [
      "Avg Train Loss: 1.7217, Avg Train Acc: 0.8228 (Best)\n"
     ]
    },
    {
     "name": "stderr",
     "output_type": "stream",
     "text": [
      "Epoch 19/500 (Validation): 100%|██████████| 100/100 [00:18<00:00,  5.34it/s, loss=1.8332, acc=0.7867]\n"
     ]
    },
    {
     "name": "stdout",
     "output_type": "stream",
     "text": [
      "Avg Val Loss: 1.8596, Avg Val Acc: 0.6952 (Best)\n",
      "Current learning rate: [0.001, 0.001]\n",
      "Patience: 0/20\n"
     ]
    },
    {
     "name": "stderr",
     "output_type": "stream",
     "text": [
      "Epoch 20/500 (Training): 100%|██████████| 100/100 [00:27<00:00,  3.66it/s, loss=1.6154, acc=0.9533]\n"
     ]
    },
    {
     "name": "stdout",
     "output_type": "stream",
     "text": [
      "Avg Train Loss: 1.7186, Avg Train Acc: 0.8248 (Best)\n"
     ]
    },
    {
     "name": "stderr",
     "output_type": "stream",
     "text": [
      "Epoch 20/500 (Validation): 100%|██████████| 100/100 [00:18<00:00,  5.37it/s, loss=1.8265, acc=0.7667]\n"
     ]
    },
    {
     "name": "stdout",
     "output_type": "stream",
     "text": [
      "Avg Val Loss: 1.8598, Avg Val Acc: 0.6953 (Best)\n",
      "Current learning rate: [0.001, 0.001]\n",
      "Patience: 0/20\n"
     ]
    },
    {
     "name": "stderr",
     "output_type": "stream",
     "text": [
      "Epoch 21/500 (Training): 100%|██████████| 100/100 [00:26<00:00,  3.74it/s, loss=1.7349, acc=0.7933]\n"
     ]
    },
    {
     "name": "stdout",
     "output_type": "stream",
     "text": [
      "Avg Train Loss: 1.7156, Avg Train Acc: 0.8271 (Best)\n"
     ]
    },
    {
     "name": "stderr",
     "output_type": "stream",
     "text": [
      "Epoch 21/500 (Validation): 100%|██████████| 100/100 [00:18<00:00,  5.39it/s, loss=1.8907, acc=0.6267]\n"
     ]
    },
    {
     "name": "stdout",
     "output_type": "stream",
     "text": [
      "Avg Val Loss: 1.8604, Avg Val Acc: 0.6954 (Best)\n",
      "Current learning rate: [0.001, 0.001]\n",
      "Patience: 0/20\n"
     ]
    },
    {
     "name": "stderr",
     "output_type": "stream",
     "text": [
      "Epoch 22/500 (Training): 100%|██████████| 100/100 [00:28<00:00,  3.52it/s, loss=1.6263, acc=0.9600]\n"
     ]
    },
    {
     "name": "stdout",
     "output_type": "stream",
     "text": [
      "Avg Train Loss: 1.7128, Avg Train Acc: 0.8285 (Best)\n"
     ]
    },
    {
     "name": "stderr",
     "output_type": "stream",
     "text": [
      "Epoch 22/500 (Validation): 100%|██████████| 100/100 [00:18<00:00,  5.39it/s, loss=1.8608, acc=0.6733]\n"
     ]
    },
    {
     "name": "stdout",
     "output_type": "stream",
     "text": [
      "Avg Val Loss: 1.8601, Avg Val Acc: 0.6951 (Best: 0.6954)\n",
      "Current learning rate: [0.001, 0.001]\n",
      "Patience: 1/20\n"
     ]
    },
    {
     "name": "stderr",
     "output_type": "stream",
     "text": [
      "Epoch 23/500 (Training): 100%|██████████| 100/100 [00:25<00:00,  3.90it/s, loss=1.5978, acc=0.9667]\n"
     ]
    },
    {
     "name": "stdout",
     "output_type": "stream",
     "text": [
      "Avg Train Loss: 1.7099, Avg Train Acc: 0.8309 (Best)\n"
     ]
    },
    {
     "name": "stderr",
     "output_type": "stream",
     "text": [
      "Epoch 23/500 (Validation): 100%|██████████| 100/100 [00:18<00:00,  5.38it/s, loss=1.8585, acc=0.5800]\n"
     ]
    },
    {
     "name": "stdout",
     "output_type": "stream",
     "text": [
      "Avg Val Loss: 1.8600, Avg Val Acc: 0.6961 (Best)\n",
      "Current learning rate: [0.001, 0.001]\n",
      "Patience: 0/20\n"
     ]
    },
    {
     "name": "stderr",
     "output_type": "stream",
     "text": [
      "Epoch 24/500 (Training): 100%|██████████| 100/100 [00:26<00:00,  3.76it/s, loss=1.5804, acc=0.9800]\n"
     ]
    },
    {
     "name": "stdout",
     "output_type": "stream",
     "text": [
      "Avg Train Loss: 1.7071, Avg Train Acc: 0.8331 (Best)\n"
     ]
    },
    {
     "name": "stderr",
     "output_type": "stream",
     "text": [
      "Epoch 24/500 (Validation): 100%|██████████| 100/100 [00:18<00:00,  5.34it/s, loss=1.9337, acc=0.6000]\n"
     ]
    },
    {
     "name": "stdout",
     "output_type": "stream",
     "text": [
      "Avg Val Loss: 1.8614, Avg Val Acc: 0.6968 (Best)\n",
      "Current learning rate: [0.001, 0.001]\n",
      "Patience: 0/20\n"
     ]
    },
    {
     "name": "stderr",
     "output_type": "stream",
     "text": [
      "Epoch 25/500 (Training): 100%|██████████| 100/100 [00:28<00:00,  3.53it/s, loss=1.6504, acc=0.9267]\n"
     ]
    },
    {
     "name": "stdout",
     "output_type": "stream",
     "text": [
      "Avg Train Loss: 1.7046, Avg Train Acc: 0.8347 (Best)\n"
     ]
    },
    {
     "name": "stderr",
     "output_type": "stream",
     "text": [
      "Epoch 25/500 (Validation): 100%|██████████| 100/100 [00:18<00:00,  5.35it/s, loss=1.8510, acc=0.7200]\n"
     ]
    },
    {
     "name": "stdout",
     "output_type": "stream",
     "text": [
      "Avg Val Loss: 1.8607, Avg Val Acc: 0.6984 (Best)\n",
      "Current learning rate: [0.001, 0.001]\n",
      "Patience: 0/20\n"
     ]
    },
    {
     "name": "stderr",
     "output_type": "stream",
     "text": [
      "Epoch 26/500 (Training): 100%|██████████| 100/100 [00:24<00:00,  4.06it/s, loss=1.6740, acc=0.8467]\n"
     ]
    },
    {
     "name": "stdout",
     "output_type": "stream",
     "text": [
      "Avg Train Loss: 1.7023, Avg Train Acc: 0.8364 (Best)\n"
     ]
    },
    {
     "name": "stderr",
     "output_type": "stream",
     "text": [
      "Epoch 26/500 (Validation): 100%|██████████| 100/100 [00:18<00:00,  5.38it/s, loss=1.8888, acc=0.6867]\n"
     ]
    },
    {
     "name": "stdout",
     "output_type": "stream",
     "text": [
      "Avg Val Loss: 1.8610, Avg Val Acc: 0.6984 (Best)\n",
      "Current learning rate: [0.001, 0.001]\n",
      "Patience: 0/20\n"
     ]
    },
    {
     "name": "stderr",
     "output_type": "stream",
     "text": [
      "Epoch 27/500 (Training): 100%|██████████| 100/100 [00:28<00:00,  3.47it/s, loss=1.6132, acc=0.8933]\n"
     ]
    },
    {
     "name": "stdout",
     "output_type": "stream",
     "text": [
      "Avg Train Loss: 1.6998, Avg Train Acc: 0.8382 (Best)\n"
     ]
    },
    {
     "name": "stderr",
     "output_type": "stream",
     "text": [
      "Epoch 27/500 (Validation): 100%|██████████| 100/100 [00:18<00:00,  5.38it/s, loss=1.8040, acc=0.8133]\n"
     ]
    },
    {
     "name": "stdout",
     "output_type": "stream",
     "text": [
      "Avg Val Loss: 1.8600, Avg Val Acc: 0.6997 (Best)\n",
      "Current learning rate: [0.001, 0.001]\n",
      "Patience: 0/20\n"
     ]
    },
    {
     "name": "stderr",
     "output_type": "stream",
     "text": [
      "Epoch 28/500 (Training): 100%|██████████| 100/100 [00:26<00:00,  3.78it/s, loss=1.7190, acc=0.8667]\n"
     ]
    },
    {
     "name": "stdout",
     "output_type": "stream",
     "text": [
      "Avg Train Loss: 1.6976, Avg Train Acc: 0.8400 (Best)\n"
     ]
    },
    {
     "name": "stderr",
     "output_type": "stream",
     "text": [
      "Epoch 28/500 (Validation): 100%|██████████| 100/100 [00:18<00:00,  5.30it/s, loss=1.8142, acc=0.7333]\n"
     ]
    },
    {
     "name": "stdout",
     "output_type": "stream",
     "text": [
      "Avg Val Loss: 1.8601, Avg Val Acc: 0.6988 (Best: 0.6997)\n",
      "Current learning rate: [0.001, 0.001]\n",
      "Patience: 1/20\n"
     ]
    },
    {
     "name": "stderr",
     "output_type": "stream",
     "text": [
      "Epoch 29/500 (Training): 100%|██████████| 100/100 [00:26<00:00,  3.79it/s, loss=1.5797, acc=0.9467]\n"
     ]
    },
    {
     "name": "stdout",
     "output_type": "stream",
     "text": [
      "Avg Train Loss: 1.6950, Avg Train Acc: 0.8423 (Best)\n"
     ]
    },
    {
     "name": "stderr",
     "output_type": "stream",
     "text": [
      "Epoch 29/500 (Validation): 100%|██████████| 100/100 [00:18<00:00,  5.34it/s, loss=1.9029, acc=0.6067]\n"
     ]
    },
    {
     "name": "stdout",
     "output_type": "stream",
     "text": [
      "Avg Val Loss: 1.8601, Avg Val Acc: 0.6980 (Best: 0.6997)\n",
      "Current learning rate: [0.001, 0.001]\n",
      "Patience: 2/20\n"
     ]
    },
    {
     "name": "stderr",
     "output_type": "stream",
     "text": [
      "Epoch 30/500 (Training): 100%|██████████| 100/100 [00:26<00:00,  3.74it/s, loss=1.6491, acc=0.8933]\n"
     ]
    },
    {
     "name": "stdout",
     "output_type": "stream",
     "text": [
      "Avg Train Loss: 1.6929, Avg Train Acc: 0.8440 (Best)\n"
     ]
    },
    {
     "name": "stderr",
     "output_type": "stream",
     "text": [
      "Epoch 30/500 (Validation): 100%|██████████| 100/100 [00:18<00:00,  5.33it/s, loss=1.8709, acc=0.6667]\n"
     ]
    },
    {
     "name": "stdout",
     "output_type": "stream",
     "text": [
      "Avg Val Loss: 1.8601, Avg Val Acc: 0.6982 (Best: 0.6997)\n",
      "Current learning rate: [0.0005, 0.0005]\n",
      "Patience: 3/20\n"
     ]
    },
    {
     "name": "stderr",
     "output_type": "stream",
     "text": [
      "Epoch 31/500 (Training): 100%|██████████| 100/100 [00:25<00:00,  3.87it/s, loss=1.7402, acc=0.7600]\n"
     ]
    },
    {
     "name": "stdout",
     "output_type": "stream",
     "text": [
      "Avg Train Loss: 1.6908, Avg Train Acc: 0.8459 (Best)\n"
     ]
    },
    {
     "name": "stderr",
     "output_type": "stream",
     "text": [
      "Epoch 31/500 (Validation): 100%|██████████| 100/100 [00:18<00:00,  5.31it/s, loss=1.8652, acc=0.7333]\n"
     ]
    },
    {
     "name": "stdout",
     "output_type": "stream",
     "text": [
      "Avg Val Loss: 1.8601, Avg Val Acc: 0.6981 (Best: 0.6997)\n",
      "Current learning rate: [0.0005, 0.0005]\n",
      "Patience: 4/20\n"
     ]
    },
    {
     "name": "stderr",
     "output_type": "stream",
     "text": [
      "Epoch 32/500 (Training): 100%|██████████| 100/100 [00:28<00:00,  3.56it/s, loss=1.6018, acc=0.9000]\n"
     ]
    },
    {
     "name": "stdout",
     "output_type": "stream",
     "text": [
      "Avg Train Loss: 1.6885, Avg Train Acc: 0.8476 (Best)\n"
     ]
    },
    {
     "name": "stderr",
     "output_type": "stream",
     "text": [
      "Epoch 32/500 (Validation): 100%|██████████| 100/100 [00:18<00:00,  5.37it/s, loss=1.8591, acc=0.6733]\n"
     ]
    },
    {
     "name": "stdout",
     "output_type": "stream",
     "text": [
      "Avg Val Loss: 1.8599, Avg Val Acc: 0.6982 (Best: 0.6997)\n",
      "Current learning rate: [0.0005, 0.0005]\n",
      "Patience: 5/20\n"
     ]
    },
    {
     "name": "stderr",
     "output_type": "stream",
     "text": [
      "Epoch 33/500 (Training): 100%|██████████| 100/100 [00:26<00:00,  3.80it/s, loss=1.6425, acc=0.8400]\n"
     ]
    },
    {
     "name": "stdout",
     "output_type": "stream",
     "text": [
      "Avg Train Loss: 1.6861, Avg Train Acc: 0.8494 (Best)\n"
     ]
    },
    {
     "name": "stderr",
     "output_type": "stream",
     "text": [
      "Epoch 33/500 (Validation): 100%|██████████| 100/100 [00:18<00:00,  5.34it/s, loss=1.8464, acc=0.7067]\n"
     ]
    },
    {
     "name": "stdout",
     "output_type": "stream",
     "text": [
      "Avg Val Loss: 1.8600, Avg Val Acc: 0.6980 (Best: 0.6997)\n",
      "Current learning rate: [0.0005, 0.0005]\n",
      "Patience: 6/20\n"
     ]
    },
    {
     "name": "stderr",
     "output_type": "stream",
     "text": [
      "Epoch 34/500 (Training): 100%|██████████| 100/100 [00:25<00:00,  3.90it/s, loss=1.6184, acc=0.9467]\n"
     ]
    },
    {
     "name": "stdout",
     "output_type": "stream",
     "text": [
      "Avg Train Loss: 1.6841, Avg Train Acc: 0.8508 (Best)\n"
     ]
    },
    {
     "name": "stderr",
     "output_type": "stream",
     "text": [
      "Epoch 34/500 (Validation): 100%|██████████| 100/100 [00:18<00:00,  5.40it/s, loss=1.9129, acc=0.6867]\n"
     ]
    },
    {
     "name": "stdout",
     "output_type": "stream",
     "text": [
      "Avg Val Loss: 1.8609, Avg Val Acc: 0.6973 (Best: 0.6997)\n",
      "Current learning rate: [0.0005, 0.0005]\n",
      "Patience: 7/20\n"
     ]
    },
    {
     "name": "stderr",
     "output_type": "stream",
     "text": [
      "Epoch 35/500 (Training): 100%|██████████| 100/100 [00:27<00:00,  3.57it/s, loss=1.6139, acc=0.8800]\n"
     ]
    },
    {
     "name": "stdout",
     "output_type": "stream",
     "text": [
      "Avg Train Loss: 1.6822, Avg Train Acc: 0.8521 (Best)\n"
     ]
    },
    {
     "name": "stderr",
     "output_type": "stream",
     "text": [
      "Epoch 35/500 (Validation): 100%|██████████| 100/100 [00:18<00:00,  5.37it/s, loss=1.8950, acc=0.6600]\n"
     ]
    },
    {
     "name": "stdout",
     "output_type": "stream",
     "text": [
      "Avg Val Loss: 1.8615, Avg Val Acc: 0.6973 (Best: 0.6997)\n",
      "Current learning rate: [0.0005, 0.0005]\n",
      "Patience: 8/20\n"
     ]
    },
    {
     "name": "stderr",
     "output_type": "stream",
     "text": [
      "Epoch 36/500 (Training): 100%|██████████| 100/100 [00:25<00:00,  3.98it/s, loss=1.5850, acc=0.9333]\n"
     ]
    },
    {
     "name": "stdout",
     "output_type": "stream",
     "text": [
      "Avg Train Loss: 1.6801, Avg Train Acc: 0.8536 (Best)\n"
     ]
    },
    {
     "name": "stderr",
     "output_type": "stream",
     "text": [
      "Epoch 36/500 (Validation): 100%|██████████| 100/100 [00:18<00:00,  5.38it/s, loss=1.8912, acc=0.6267]\n"
     ]
    },
    {
     "name": "stdout",
     "output_type": "stream",
     "text": [
      "Avg Val Loss: 1.8627, Avg Val Acc: 0.6957 (Best: 0.6997)\n",
      "Current learning rate: [0.0005, 0.0005]\n",
      "Patience: 9/20\n"
     ]
    },
    {
     "name": "stderr",
     "output_type": "stream",
     "text": [
      "Epoch 37/500 (Training): 100%|██████████| 100/100 [00:26<00:00,  3.79it/s, loss=1.5873, acc=0.9000]\n"
     ]
    },
    {
     "name": "stdout",
     "output_type": "stream",
     "text": [
      "Avg Train Loss: 1.6782, Avg Train Acc: 0.8551 (Best)\n"
     ]
    },
    {
     "name": "stderr",
     "output_type": "stream",
     "text": [
      "Epoch 37/500 (Validation): 100%|██████████| 100/100 [00:18<00:00,  5.37it/s, loss=1.8964, acc=0.6733]\n"
     ]
    },
    {
     "name": "stdout",
     "output_type": "stream",
     "text": [
      "Avg Val Loss: 1.8631, Avg Val Acc: 0.6948 (Best: 0.6997)\n",
      "Current learning rate: [0.0005, 0.0005]\n",
      "Patience: 10/20\n"
     ]
    },
    {
     "name": "stderr",
     "output_type": "stream",
     "text": [
      "Epoch 38/500 (Training): 100%|██████████| 100/100 [00:27<00:00,  3.58it/s, loss=1.6726, acc=0.8333]\n"
     ]
    },
    {
     "name": "stdout",
     "output_type": "stream",
     "text": [
      "Avg Train Loss: 1.6766, Avg Train Acc: 0.8559 (Best)\n"
     ]
    },
    {
     "name": "stderr",
     "output_type": "stream",
     "text": [
      "Epoch 38/500 (Validation): 100%|██████████| 100/100 [00:18<00:00,  5.33it/s, loss=1.8609, acc=0.6867]\n"
     ]
    },
    {
     "name": "stdout",
     "output_type": "stream",
     "text": [
      "Avg Val Loss: 1.8630, Avg Val Acc: 0.6949 (Best: 0.6997)\n",
      "Current learning rate: [0.0005, 0.0005]\n",
      "Patience: 11/20\n"
     ]
    },
    {
     "name": "stderr",
     "output_type": "stream",
     "text": [
      "Epoch 39/500 (Training): 100%|██████████| 100/100 [00:26<00:00,  3.72it/s, loss=1.6169, acc=0.8867]\n"
     ]
    },
    {
     "name": "stdout",
     "output_type": "stream",
     "text": [
      "Avg Train Loss: 1.6750, Avg Train Acc: 0.8571 (Best)\n"
     ]
    },
    {
     "name": "stderr",
     "output_type": "stream",
     "text": [
      "Epoch 39/500 (Validation): 100%|██████████| 100/100 [00:18<00:00,  5.36it/s, loss=1.9053, acc=0.6733]\n"
     ]
    },
    {
     "name": "stdout",
     "output_type": "stream",
     "text": [
      "Avg Val Loss: 1.8638, Avg Val Acc: 0.6937 (Best: 0.6997)\n",
      "Current learning rate: [0.0005, 0.0005]\n",
      "Patience: 12/20\n"
     ]
    },
    {
     "name": "stderr",
     "output_type": "stream",
     "text": [
      "Epoch 40/500 (Training): 100%|██████████| 100/100 [00:26<00:00,  3.82it/s, loss=1.6305, acc=0.8067]\n"
     ]
    },
    {
     "name": "stdout",
     "output_type": "stream",
     "text": [
      "Avg Train Loss: 1.6731, Avg Train Acc: 0.8585 (Best)\n"
     ]
    },
    {
     "name": "stderr",
     "output_type": "stream",
     "text": [
      "Epoch 40/500 (Validation): 100%|██████████| 100/100 [00:18<00:00,  5.35it/s, loss=1.8722, acc=0.6933]\n"
     ]
    },
    {
     "name": "stdout",
     "output_type": "stream",
     "text": [
      "Avg Val Loss: 1.8645, Avg Val Acc: 0.6927 (Best: 0.6997)\n",
      "Current learning rate: [0.0005, 0.0005]\n",
      "Patience: 13/20\n"
     ]
    },
    {
     "name": "stderr",
     "output_type": "stream",
     "text": [
      "Epoch 41/500 (Training): 100%|██████████| 100/100 [00:26<00:00,  3.82it/s, loss=1.6198, acc=0.8867]\n"
     ]
    },
    {
     "name": "stdout",
     "output_type": "stream",
     "text": [
      "Avg Train Loss: 1.6715, Avg Train Acc: 0.8599 (Best)\n"
     ]
    },
    {
     "name": "stderr",
     "output_type": "stream",
     "text": [
      "Epoch 41/500 (Validation): 100%|██████████| 100/100 [00:18<00:00,  5.38it/s, loss=1.9165, acc=0.7200]\n"
     ]
    },
    {
     "name": "stdout",
     "output_type": "stream",
     "text": [
      "Avg Val Loss: 1.8648, Avg Val Acc: 0.6926 (Best: 0.6997)\n",
      "Current learning rate: [0.00025, 0.00025]\n",
      "Patience: 14/20\n"
     ]
    },
    {
     "name": "stderr",
     "output_type": "stream",
     "text": [
      "Epoch 42/500 (Training): 100%|██████████| 100/100 [00:25<00:00,  3.92it/s, loss=1.6947, acc=0.8467]\n"
     ]
    },
    {
     "name": "stdout",
     "output_type": "stream",
     "text": [
      "Avg Train Loss: 1.6700, Avg Train Acc: 0.8609 (Best)\n"
     ]
    },
    {
     "name": "stderr",
     "output_type": "stream",
     "text": [
      "Epoch 42/500 (Validation): 100%|██████████| 100/100 [00:18<00:00,  5.34it/s, loss=1.8328, acc=0.6533]\n"
     ]
    },
    {
     "name": "stdout",
     "output_type": "stream",
     "text": [
      "Avg Val Loss: 1.8648, Avg Val Acc: 0.6927 (Best: 0.6997)\n",
      "Current learning rate: [0.00025, 0.00025]\n",
      "Patience: 15/20\n"
     ]
    },
    {
     "name": "stderr",
     "output_type": "stream",
     "text": [
      "Epoch 43/500 (Training): 100%|██████████| 100/100 [00:27<00:00,  3.65it/s, loss=1.5664, acc=0.9133]\n"
     ]
    },
    {
     "name": "stdout",
     "output_type": "stream",
     "text": [
      "Avg Train Loss: 1.6685, Avg Train Acc: 0.8620 (Best)\n"
     ]
    },
    {
     "name": "stderr",
     "output_type": "stream",
     "text": [
      "Epoch 43/500 (Validation): 100%|██████████| 100/100 [00:18<00:00,  5.33it/s, loss=1.8743, acc=0.6533]\n"
     ]
    },
    {
     "name": "stdout",
     "output_type": "stream",
     "text": [
      "Avg Val Loss: 1.8652, Avg Val Acc: 0.6932 (Best: 0.6997)\n",
      "Current learning rate: [0.00025, 0.00025]\n",
      "Patience: 16/20\n"
     ]
    },
    {
     "name": "stderr",
     "output_type": "stream",
     "text": [
      "Epoch 44/500 (Training): 100%|██████████| 100/100 [00:25<00:00,  3.89it/s, loss=1.5866, acc=0.9133]\n"
     ]
    },
    {
     "name": "stdout",
     "output_type": "stream",
     "text": [
      "Avg Train Loss: 1.6671, Avg Train Acc: 0.8629 (Best)\n"
     ]
    },
    {
     "name": "stderr",
     "output_type": "stream",
     "text": [
      "Epoch 44/500 (Validation): 100%|██████████| 100/100 [00:18<00:00,  5.38it/s, loss=1.8447, acc=0.7333]\n"
     ]
    },
    {
     "name": "stdout",
     "output_type": "stream",
     "text": [
      "Avg Val Loss: 1.8652, Avg Val Acc: 0.6927 (Best: 0.6997)\n",
      "Current learning rate: [0.00025, 0.00025]\n",
      "Patience: 17/20\n"
     ]
    },
    {
     "name": "stderr",
     "output_type": "stream",
     "text": [
      "Epoch 45/500 (Training): 100%|██████████| 100/100 [00:28<00:00,  3.57it/s, loss=1.5362, acc=0.9867]\n"
     ]
    },
    {
     "name": "stdout",
     "output_type": "stream",
     "text": [
      "Avg Train Loss: 1.6656, Avg Train Acc: 0.8639 (Best)\n"
     ]
    },
    {
     "name": "stderr",
     "output_type": "stream",
     "text": [
      "Epoch 45/500 (Validation): 100%|██████████| 100/100 [00:18<00:00,  5.34it/s, loss=1.8991, acc=0.7467]\n"
     ]
    },
    {
     "name": "stdout",
     "output_type": "stream",
     "text": [
      "Avg Val Loss: 1.8653, Avg Val Acc: 0.6935 (Best: 0.6997)\n",
      "Current learning rate: [0.00025, 0.00025]\n",
      "Patience: 18/20\n"
     ]
    },
    {
     "name": "stderr",
     "output_type": "stream",
     "text": [
      "Epoch 46/500 (Training): 100%|██████████| 100/100 [00:26<00:00,  3.76it/s, loss=1.5229, acc=0.9000]\n"
     ]
    },
    {
     "name": "stdout",
     "output_type": "stream",
     "text": [
      "Avg Train Loss: 1.6641, Avg Train Acc: 0.8649 (Best)\n"
     ]
    },
    {
     "name": "stderr",
     "output_type": "stream",
     "text": [
      "Epoch 46/500 (Validation):  23%|██▎       | 23/100 [00:04<00:15,  4.82it/s, loss=1.8778, acc=0.6600]\n"
     ]
    },
    {
     "ename": "KeyboardInterrupt",
     "evalue": "",
     "output_type": "error",
     "traceback": [
      "\u001b[0;31m---------------------------------------------------------------------------\u001b[0m",
      "\u001b[0;31mKeyboardInterrupt\u001b[0m                         Traceback (most recent call last)",
      "Cell \u001b[0;32mIn[14], line 25\u001b[0m\n\u001b[1;32m     23\u001b[0m vectorizer\u001b[38;5;241m.\u001b[39mnode_embedding(dataset\u001b[38;5;241m.\u001b[39mrawDataset)\n\u001b[1;32m     24\u001b[0m trainModule \u001b[38;5;241m=\u001b[39m TrainModule(options, dataset)\n\u001b[0;32m---> 25\u001b[0m \u001b[43mtrainModule\u001b[49m\u001b[38;5;241;43m.\u001b[39;49m\u001b[43mtrain\u001b[49m\u001b[43m(\u001b[49m\u001b[43m)\u001b[49m\n\u001b[1;32m     27\u001b[0m test \u001b[38;5;241m=\u001b[39m TestModule(os\u001b[38;5;241m.\u001b[39mpath\u001b[38;5;241m.\u001b[39mjoin(trainModule\u001b[38;5;241m.\u001b[39mmodel_folder, \u001b[38;5;124m\"\u001b[39m\u001b[38;5;124mconfig.json\u001b[39m\u001b[38;5;124m\"\u001b[39m), dataset, options)\n\u001b[1;32m     28\u001b[0m test\u001b[38;5;241m.\u001b[39meval()\n",
      "File \u001b[0;32m~/Projects/few_shot_fcg/trainModule.py:221\u001b[0m, in \u001b[0;36mTrainModule.train\u001b[0;34m(self)\u001b[0m\n\u001b[1;32m    219\u001b[0m \u001b[38;5;28mprint\u001b[39m(\u001b[38;5;124m\"\u001b[39m\u001b[38;5;124mStart training...\u001b[39m\u001b[38;5;124m\"\u001b[39m)\n\u001b[1;32m    220\u001b[0m record_log(\u001b[38;5;28mself\u001b[39m\u001b[38;5;241m.\u001b[39mlog_file, \u001b[38;5;124m\"\u001b[39m\u001b[38;5;124mStart training...\u001b[39m\u001b[38;5;130;01m\\n\u001b[39;00m\u001b[38;5;124m\"\u001b[39m)\n\u001b[0;32m--> 221\u001b[0m \u001b[38;5;28;43mself\u001b[39;49m\u001b[38;5;241;43m.\u001b[39;49m\u001b[43mrun\u001b[49m\u001b[43m(\u001b[49m\u001b[43m)\u001b[49m\n\u001b[1;32m    222\u001b[0m \u001b[38;5;28mprint\u001b[39m(\u001b[38;5;124m\"\u001b[39m\u001b[38;5;124mFinish training\u001b[39m\u001b[38;5;124m\"\u001b[39m)\n\u001b[1;32m    223\u001b[0m record_log(\u001b[38;5;28mself\u001b[39m\u001b[38;5;241m.\u001b[39mlog_file, \u001b[38;5;124m\"\u001b[39m\u001b[38;5;124mFinish training\u001b[39m\u001b[38;5;130;01m\\n\u001b[39;00m\u001b[38;5;124m\"\u001b[39m)\n",
      "File \u001b[0;32m~/Projects/few_shot_fcg/train_utils.py:223\u001b[0m, in \u001b[0;36mTraining.run\u001b[0;34m(self, backbone, mode)\u001b[0m\n\u001b[1;32m    221\u001b[0m \u001b[38;5;28;01mwith\u001b[39;00m tqdm(\u001b[38;5;28mself\u001b[39m\u001b[38;5;241m.\u001b[39mvalLoader, desc\u001b[38;5;241m=\u001b[39m\u001b[38;5;124mf\u001b[39m\u001b[38;5;124m\"\u001b[39m\u001b[38;5;124mEpoch \u001b[39m\u001b[38;5;132;01m{\u001b[39;00mepoch\u001b[38;5;241m+\u001b[39m\u001b[38;5;241m1\u001b[39m\u001b[38;5;132;01m}\u001b[39;00m\u001b[38;5;124m/\u001b[39m\u001b[38;5;132;01m{\u001b[39;00m\u001b[38;5;28mself\u001b[39m\u001b[38;5;241m.\u001b[39mepochs\u001b[38;5;132;01m}\u001b[39;00m\u001b[38;5;124m (Validation)\u001b[39m\u001b[38;5;124m\"\u001b[39m) \u001b[38;5;28;01mas\u001b[39;00m pbar:\n\u001b[1;32m    222\u001b[0m     \u001b[38;5;28;01mfor\u001b[39;00m data \u001b[38;5;129;01min\u001b[39;00m pbar:\n\u001b[0;32m--> 223\u001b[0m         data \u001b[38;5;241m=\u001b[39m \u001b[43mdata\u001b[49m\u001b[38;5;241;43m.\u001b[39;49m\u001b[43mto\u001b[49m\u001b[43m(\u001b[49m\u001b[38;5;28;43mself\u001b[39;49m\u001b[38;5;241;43m.\u001b[39;49m\u001b[43mdevice\u001b[49m\u001b[43m)\u001b[49m\n\u001b[1;32m    224\u001b[0m         \u001b[38;5;28;01mwith\u001b[39;00m torch\u001b[38;5;241m.\u001b[39mno_grad():\n\u001b[1;32m    225\u001b[0m             model_output \u001b[38;5;241m=\u001b[39m \u001b[38;5;28mself\u001b[39m\u001b[38;5;241m.\u001b[39mmodel(data)\n",
      "File \u001b[0;32m~/Tools/anaconda3/envs/prototype/lib/python3.11/site-packages/torch_geometric/data/data.py:362\u001b[0m, in \u001b[0;36mBaseData.to\u001b[0;34m(self, device, non_blocking, *args)\u001b[0m\n\u001b[1;32m    357\u001b[0m \u001b[38;5;28;01mdef\u001b[39;00m \u001b[38;5;21mto\u001b[39m(\u001b[38;5;28mself\u001b[39m, device: Union[\u001b[38;5;28mint\u001b[39m, \u001b[38;5;28mstr\u001b[39m], \u001b[38;5;241m*\u001b[39margs: \u001b[38;5;28mstr\u001b[39m,\n\u001b[1;32m    358\u001b[0m        non_blocking: \u001b[38;5;28mbool\u001b[39m \u001b[38;5;241m=\u001b[39m \u001b[38;5;28;01mFalse\u001b[39;00m):\n\u001b[1;32m    359\u001b[0m \u001b[38;5;250m    \u001b[39m\u001b[38;5;124mr\u001b[39m\u001b[38;5;124;03m\"\"\"Performs tensor device conversion, either for all attributes or\u001b[39;00m\n\u001b[1;32m    360\u001b[0m \u001b[38;5;124;03m    only the ones given in :obj:`*args`.\u001b[39;00m\n\u001b[1;32m    361\u001b[0m \u001b[38;5;124;03m    \"\"\"\u001b[39;00m\n\u001b[0;32m--> 362\u001b[0m     \u001b[38;5;28;01mreturn\u001b[39;00m \u001b[38;5;28;43mself\u001b[39;49m\u001b[38;5;241;43m.\u001b[39;49m\u001b[43mapply\u001b[49m\u001b[43m(\u001b[49m\n\u001b[1;32m    363\u001b[0m \u001b[43m        \u001b[49m\u001b[38;5;28;43;01mlambda\u001b[39;49;00m\u001b[43m \u001b[49m\u001b[43mx\u001b[49m\u001b[43m:\u001b[49m\u001b[43m \u001b[49m\u001b[43mx\u001b[49m\u001b[38;5;241;43m.\u001b[39;49m\u001b[43mto\u001b[49m\u001b[43m(\u001b[49m\u001b[43mdevice\u001b[49m\u001b[38;5;241;43m=\u001b[39;49m\u001b[43mdevice\u001b[49m\u001b[43m,\u001b[49m\u001b[43m \u001b[49m\u001b[43mnon_blocking\u001b[49m\u001b[38;5;241;43m=\u001b[39;49m\u001b[43mnon_blocking\u001b[49m\u001b[43m)\u001b[49m\u001b[43m,\u001b[49m\u001b[43m \u001b[49m\u001b[38;5;241;43m*\u001b[39;49m\u001b[43margs\u001b[49m\u001b[43m)\u001b[49m\n",
      "File \u001b[0;32m~/Tools/anaconda3/envs/prototype/lib/python3.11/site-packages/torch_geometric/data/data.py:342\u001b[0m, in \u001b[0;36mBaseData.apply\u001b[0;34m(self, func, *args)\u001b[0m\n\u001b[1;32m    338\u001b[0m \u001b[38;5;250m\u001b[39m\u001b[38;5;124mr\u001b[39m\u001b[38;5;124;03m\"\"\"Applies the function :obj:`func`, either to all attributes or only\u001b[39;00m\n\u001b[1;32m    339\u001b[0m \u001b[38;5;124;03mthe ones given in :obj:`*args`.\u001b[39;00m\n\u001b[1;32m    340\u001b[0m \u001b[38;5;124;03m\"\"\"\u001b[39;00m\n\u001b[1;32m    341\u001b[0m \u001b[38;5;28;01mfor\u001b[39;00m store \u001b[38;5;129;01min\u001b[39;00m \u001b[38;5;28mself\u001b[39m\u001b[38;5;241m.\u001b[39mstores:\n\u001b[0;32m--> 342\u001b[0m     \u001b[43mstore\u001b[49m\u001b[38;5;241;43m.\u001b[39;49m\u001b[43mapply\u001b[49m\u001b[43m(\u001b[49m\u001b[43mfunc\u001b[49m\u001b[43m,\u001b[49m\u001b[43m \u001b[49m\u001b[38;5;241;43m*\u001b[39;49m\u001b[43margs\u001b[49m\u001b[43m)\u001b[49m\n\u001b[1;32m    343\u001b[0m \u001b[38;5;28;01mreturn\u001b[39;00m \u001b[38;5;28mself\u001b[39m\n",
      "File \u001b[0;32m~/Tools/anaconda3/envs/prototype/lib/python3.11/site-packages/torch_geometric/data/storage.py:201\u001b[0m, in \u001b[0;36mBaseStorage.apply\u001b[0;34m(self, func, *args)\u001b[0m\n\u001b[1;32m    197\u001b[0m \u001b[38;5;250m\u001b[39m\u001b[38;5;124mr\u001b[39m\u001b[38;5;124;03m\"\"\"Applies the function :obj:`func`, either to all attributes or only\u001b[39;00m\n\u001b[1;32m    198\u001b[0m \u001b[38;5;124;03mthe ones given in :obj:`*args`.\u001b[39;00m\n\u001b[1;32m    199\u001b[0m \u001b[38;5;124;03m\"\"\"\u001b[39;00m\n\u001b[1;32m    200\u001b[0m \u001b[38;5;28;01mfor\u001b[39;00m key, value \u001b[38;5;129;01min\u001b[39;00m \u001b[38;5;28mself\u001b[39m\u001b[38;5;241m.\u001b[39mitems(\u001b[38;5;241m*\u001b[39margs):\n\u001b[0;32m--> 201\u001b[0m     \u001b[38;5;28mself\u001b[39m[key] \u001b[38;5;241m=\u001b[39m \u001b[43mrecursive_apply\u001b[49m\u001b[43m(\u001b[49m\u001b[43mvalue\u001b[49m\u001b[43m,\u001b[49m\u001b[43m \u001b[49m\u001b[43mfunc\u001b[49m\u001b[43m)\u001b[49m\n\u001b[1;32m    202\u001b[0m \u001b[38;5;28;01mreturn\u001b[39;00m \u001b[38;5;28mself\u001b[39m\n",
      "File \u001b[0;32m~/Tools/anaconda3/envs/prototype/lib/python3.11/site-packages/torch_geometric/data/storage.py:903\u001b[0m, in \u001b[0;36mrecursive_apply\u001b[0;34m(data, func)\u001b[0m\n\u001b[1;32m    901\u001b[0m     \u001b[38;5;28;01mreturn\u001b[39;00m \u001b[38;5;28mtype\u001b[39m(data)(\u001b[38;5;241m*\u001b[39m(recursive_apply(d, func) \u001b[38;5;28;01mfor\u001b[39;00m d \u001b[38;5;129;01min\u001b[39;00m data))\n\u001b[1;32m    902\u001b[0m \u001b[38;5;28;01melif\u001b[39;00m \u001b[38;5;28misinstance\u001b[39m(data, Sequence) \u001b[38;5;129;01mand\u001b[39;00m \u001b[38;5;129;01mnot\u001b[39;00m \u001b[38;5;28misinstance\u001b[39m(data, \u001b[38;5;28mstr\u001b[39m):\n\u001b[0;32m--> 903\u001b[0m     \u001b[38;5;28;01mreturn\u001b[39;00m \u001b[43m[\u001b[49m\u001b[43mrecursive_apply\u001b[49m\u001b[43m(\u001b[49m\u001b[43md\u001b[49m\u001b[43m,\u001b[49m\u001b[43m \u001b[49m\u001b[43mfunc\u001b[49m\u001b[43m)\u001b[49m\u001b[43m \u001b[49m\u001b[38;5;28;43;01mfor\u001b[39;49;00m\u001b[43m \u001b[49m\u001b[43md\u001b[49m\u001b[43m \u001b[49m\u001b[38;5;129;43;01min\u001b[39;49;00m\u001b[43m \u001b[49m\u001b[43mdata\u001b[49m\u001b[43m]\u001b[49m\n\u001b[1;32m    904\u001b[0m \u001b[38;5;28;01melif\u001b[39;00m \u001b[38;5;28misinstance\u001b[39m(data, Mapping):\n\u001b[1;32m    905\u001b[0m     \u001b[38;5;28;01mreturn\u001b[39;00m {key: recursive_apply(data[key], func) \u001b[38;5;28;01mfor\u001b[39;00m key \u001b[38;5;129;01min\u001b[39;00m data}\n",
      "File \u001b[0;32m~/Tools/anaconda3/envs/prototype/lib/python3.11/site-packages/torch_geometric/data/storage.py:903\u001b[0m, in \u001b[0;36m<listcomp>\u001b[0;34m(.0)\u001b[0m\n\u001b[1;32m    901\u001b[0m     \u001b[38;5;28;01mreturn\u001b[39;00m \u001b[38;5;28mtype\u001b[39m(data)(\u001b[38;5;241m*\u001b[39m(recursive_apply(d, func) \u001b[38;5;28;01mfor\u001b[39;00m d \u001b[38;5;129;01min\u001b[39;00m data))\n\u001b[1;32m    902\u001b[0m \u001b[38;5;28;01melif\u001b[39;00m \u001b[38;5;28misinstance\u001b[39m(data, Sequence) \u001b[38;5;129;01mand\u001b[39;00m \u001b[38;5;129;01mnot\u001b[39;00m \u001b[38;5;28misinstance\u001b[39m(data, \u001b[38;5;28mstr\u001b[39m):\n\u001b[0;32m--> 903\u001b[0m     \u001b[38;5;28;01mreturn\u001b[39;00m [\u001b[43mrecursive_apply\u001b[49m\u001b[43m(\u001b[49m\u001b[43md\u001b[49m\u001b[43m,\u001b[49m\u001b[43m \u001b[49m\u001b[43mfunc\u001b[49m\u001b[43m)\u001b[49m \u001b[38;5;28;01mfor\u001b[39;00m d \u001b[38;5;129;01min\u001b[39;00m data]\n\u001b[1;32m    904\u001b[0m \u001b[38;5;28;01melif\u001b[39;00m \u001b[38;5;28misinstance\u001b[39m(data, Mapping):\n\u001b[1;32m    905\u001b[0m     \u001b[38;5;28;01mreturn\u001b[39;00m {key: recursive_apply(data[key], func) \u001b[38;5;28;01mfor\u001b[39;00m key \u001b[38;5;129;01min\u001b[39;00m data}\n",
      "File \u001b[0;32m~/Tools/anaconda3/envs/prototype/lib/python3.11/site-packages/torch_geometric/data/storage.py:903\u001b[0m, in \u001b[0;36mrecursive_apply\u001b[0;34m(data, func)\u001b[0m\n\u001b[1;32m    901\u001b[0m     \u001b[38;5;28;01mreturn\u001b[39;00m \u001b[38;5;28mtype\u001b[39m(data)(\u001b[38;5;241m*\u001b[39m(recursive_apply(d, func) \u001b[38;5;28;01mfor\u001b[39;00m d \u001b[38;5;129;01min\u001b[39;00m data))\n\u001b[1;32m    902\u001b[0m \u001b[38;5;28;01melif\u001b[39;00m \u001b[38;5;28misinstance\u001b[39m(data, Sequence) \u001b[38;5;129;01mand\u001b[39;00m \u001b[38;5;129;01mnot\u001b[39;00m \u001b[38;5;28misinstance\u001b[39m(data, \u001b[38;5;28mstr\u001b[39m):\n\u001b[0;32m--> 903\u001b[0m     \u001b[38;5;28;01mreturn\u001b[39;00m \u001b[43m[\u001b[49m\u001b[43mrecursive_apply\u001b[49m\u001b[43m(\u001b[49m\u001b[43md\u001b[49m\u001b[43m,\u001b[49m\u001b[43m \u001b[49m\u001b[43mfunc\u001b[49m\u001b[43m)\u001b[49m\u001b[43m \u001b[49m\u001b[38;5;28;43;01mfor\u001b[39;49;00m\u001b[43m \u001b[49m\u001b[43md\u001b[49m\u001b[43m \u001b[49m\u001b[38;5;129;43;01min\u001b[39;49;00m\u001b[43m \u001b[49m\u001b[43mdata\u001b[49m\u001b[43m]\u001b[49m\n\u001b[1;32m    904\u001b[0m \u001b[38;5;28;01melif\u001b[39;00m \u001b[38;5;28misinstance\u001b[39m(data, Mapping):\n\u001b[1;32m    905\u001b[0m     \u001b[38;5;28;01mreturn\u001b[39;00m {key: recursive_apply(data[key], func) \u001b[38;5;28;01mfor\u001b[39;00m key \u001b[38;5;129;01min\u001b[39;00m data}\n",
      "File \u001b[0;32m~/Tools/anaconda3/envs/prototype/lib/python3.11/site-packages/torch_geometric/data/storage.py:903\u001b[0m, in \u001b[0;36m<listcomp>\u001b[0;34m(.0)\u001b[0m\n\u001b[1;32m    901\u001b[0m     \u001b[38;5;28;01mreturn\u001b[39;00m \u001b[38;5;28mtype\u001b[39m(data)(\u001b[38;5;241m*\u001b[39m(recursive_apply(d, func) \u001b[38;5;28;01mfor\u001b[39;00m d \u001b[38;5;129;01min\u001b[39;00m data))\n\u001b[1;32m    902\u001b[0m \u001b[38;5;28;01melif\u001b[39;00m \u001b[38;5;28misinstance\u001b[39m(data, Sequence) \u001b[38;5;129;01mand\u001b[39;00m \u001b[38;5;129;01mnot\u001b[39;00m \u001b[38;5;28misinstance\u001b[39m(data, \u001b[38;5;28mstr\u001b[39m):\n\u001b[0;32m--> 903\u001b[0m     \u001b[38;5;28;01mreturn\u001b[39;00m [recursive_apply(d, func) \u001b[38;5;28;01mfor\u001b[39;00m d \u001b[38;5;129;01min\u001b[39;00m data]\n\u001b[1;32m    904\u001b[0m \u001b[38;5;28;01melif\u001b[39;00m \u001b[38;5;28misinstance\u001b[39m(data, Mapping):\n\u001b[1;32m    905\u001b[0m     \u001b[38;5;28;01mreturn\u001b[39;00m {key: recursive_apply(data[key], func) \u001b[38;5;28;01mfor\u001b[39;00m key \u001b[38;5;129;01min\u001b[39;00m data}\n",
      "\u001b[0;31mKeyboardInterrupt\u001b[0m: "
     ]
    }
   ],
   "source": [
    "from loadDataset import LoadDataset\n",
    "from fcgVectorize import FCGVectorize\n",
    "from trainModule import TrainModule\n",
    "from trainModule import TestModule\n",
    "import os\n",
    "\n",
    "# test in seed 6\n",
    "for exp in expList:\n",
    "    options[\"settings\"][\"name\"] = exp+\"_SoftNnNet\"\n",
    "    shots = int(exp.split(\"_\")[1].split(\"shot\")[0])\n",
    "    way = int(exp.split(\"_\")[0].split(\"way\")[0])\n",
    "    options[\"settings\"][\"few_shot\"][\"train\"][\"support_shots\"] = shots\n",
    "    options[\"settings\"][\"few_shot\"][\"train\"][\"query_shots\"] = 20 - shots\n",
    "    options[\"settings\"][\"few_shot\"][\"test\"][\"support_shots\"] = shots\n",
    "    options[\"settings\"][\"few_shot\"][\"test\"][\"query_shots\"] = 20 - shots\n",
    "    options[\"settings\"][\"few_shot\"][\"train\"][\"class_per_iter\"] = way\n",
    "    options[\"settings\"][\"few_shot\"][\"test\"][\"class_per_iter\"] = way\n",
    "    save_config(options, \"./config/config.json\")\n",
    "\n",
    "\n",
    "    dataset = LoadDataset(options, pretrain=False)\n",
    "    vectorizer = FCGVectorize(options, dataset)\n",
    "    vectorizer.node_embedding(dataset.rawDataset)\n",
    "    trainModule = TrainModule(options, dataset)\n",
    "    trainModule.train()\n",
    "\n",
    "    test = TestModule(os.path.join(trainModule.model_folder, \"config.json\"), dataset, options)\n",
    "    test.eval()"
   ]
  },
  {
   "cell_type": "code",
   "execution_count": null,
   "metadata": {},
   "outputs": [],
   "source": []
  }
 ],
 "metadata": {
  "kernelspec": {
   "display_name": "prototype",
   "language": "python",
   "name": "python3"
  },
  "language_info": {
   "codemirror_mode": {
    "name": "ipython",
    "version": 3
   },
   "file_extension": ".py",
   "mimetype": "text/x-python",
   "name": "python",
   "nbconvert_exporter": "python",
   "pygments_lexer": "ipython3",
   "version": "3.11.9"
  }
 },
 "nbformat": 4,
 "nbformat_minor": 2
}
