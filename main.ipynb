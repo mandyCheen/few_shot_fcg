{
 "cells": [
  {
   "cell_type": "code",
   "execution_count": 1,
   "metadata": {},
   "outputs": [],
   "source": [
    "%load_ext autoreload\n",
    "%autoreload 2 \n",
    "import warnings\n",
    "warnings.filterwarnings(\"ignore\")"
   ]
  },
  {
   "cell_type": "code",
   "execution_count": 2,
   "metadata": {},
   "outputs": [],
   "source": [
    "from utils import load_config, save_config\n",
    "options = load_config(\"config/config_arm_label_prop_openset_meta_nict_proc0.json\")"
   ]
  },
  {
   "cell_type": "code",
   "execution_count": 3,
   "metadata": {},
   "outputs": [
    {
     "name": "stdout",
     "output_type": "stream",
     "text": [
      "Loading all datasets...\n",
      "train dataset shape: (460, 14)\n",
      "train dataset family number: 23\n",
      "test dataset shape: (200, 14)\n",
      "test dataset family number: 10\n",
      "val dataset shape: (200, 14)\n",
      "val dataset family number: 10\n",
      "Loading openset data...\n",
      "Openset data shape: (135, 14)\n",
      "Word2vec model exist, load word2vec model...\n",
      "Start to get node embedding...\n"
     ]
    },
    {
     "name": "stderr",
     "output_type": "stream",
     "text": [
      "100%|██████████| 860/860 [00:00<00:00, 22839.87it/s]"
     ]
    },
    {
     "name": "stdout",
     "output_type": "stream",
     "text": [
      "Finish getting node embedding\n"
     ]
    },
    {
     "name": "stderr",
     "output_type": "stream",
     "text": [
      "\n"
     ]
    }
   ],
   "source": [
    "from loadDataset import LoadDataset\n",
    "from fcgVectorize import FCGVectorize\n",
    "from trainModule import TrainModule\n",
    "from trainModule import TestModule\n",
    "import os\n",
    "\n",
    "dataset = LoadDataset(options, pretrain=False)\n",
    "vectorizer = FCGVectorize(options, dataset)\n",
    "vectorizer.node_embedding(dataset.rawDataset)\n"
   ]
  },
  {
   "cell_type": "code",
   "execution_count": 4,
   "metadata": {},
   "outputs": [
    {
     "name": "stdout",
     "output_type": "stream",
     "text": [
      "Word2vec model exist, load word2vec model...\n",
      "Start to get node embedding...\n"
     ]
    },
    {
     "name": "stderr",
     "output_type": "stream",
     "text": [
      "100%|██████████| 135/135 [00:00<00:00, 15437.89it/s]"
     ]
    },
    {
     "name": "stdout",
     "output_type": "stream",
     "text": [
      "Finish getting node embedding\n"
     ]
    },
    {
     "name": "stderr",
     "output_type": "stream",
     "text": [
      "\n"
     ]
    }
   ],
   "source": [
    "vectorizer.node_embedding(dataset.opensetData, openset=True)"
   ]
  },
  {
   "cell_type": "code",
   "execution_count": null,
   "metadata": {},
   "outputs": [
    {
     "name": "stdout",
     "output_type": "stream",
     "text": [
      "Setting up the training module...\n",
      "Loading data from ./embeddings/arm_withVal_ghidra_42/word2vec...\n",
      "Loading training data...\n",
      "Loading data from ./embeddings/arm_withVal_ghidra_42/word2vec/trainData.pkl...\n",
      "Loading validation data...\n",
      "Loading data from ./embeddings/arm_withVal_ghidra_42/word2vec/valData.pkl...\n",
      "Generating open set testing data...\n",
      "Loading openset data...\n",
      "Loading data from ./embeddings/arm_withVal_ghidra_42/word2vec/opensetData_random_0.2.pkl...\n",
      "Device: cuda:0\n",
      "Model: LabelPropagation(\n",
      "  (encoder): GCNLayer(\n",
      "    (gcn_convs): ModuleList(\n",
      "      (0): GCNConv(128, 256)\n",
      "      (1): GCNConv(256, 256)\n",
      "      (2): GCNConv(256, 128)\n",
      "    )\n",
      "    (norms): ModuleList(\n",
      "      (0-1): 2 x BatchNorm1d(256, eps=1e-05, momentum=0.1, affine=True, track_running_stats=True)\n",
      "      (2): BatchNorm1d(128, eps=1e-05, momentum=0.1, affine=True, track_running_stats=True)\n",
      "    )\n",
      "  )\n",
      "  (relation): GraphRelationNetwork(\n",
      "    (block): GCNLayer(\n",
      "      (gcn_convs): ModuleList(\n",
      "        (0): GCNConv(128, 64)\n",
      "        (1): GCNConv(64, 32)\n",
      "      )\n",
      "      (norms): ModuleList(\n",
      "        (0): BatchNorm1d(64, eps=1e-05, momentum=0.1, affine=True, track_running_stats=True)\n",
      "        (1): BatchNorm1d(32, eps=1e-05, momentum=0.1, affine=True, track_running_stats=True)\n",
      "      )\n",
      "    )\n",
      "    (fc): Sequential(\n",
      "      (0): Linear(in_features=32, out_features=16, bias=True)\n",
      "      (1): ReLU()\n",
      "      (2): Linear(in_features=16, out_features=1, bias=True)\n",
      "    )\n",
      "  )\n",
      ")\n",
      "Loss function: LabelPropagation(\n",
      "  (encoder): GCNLayer(\n",
      "    (gcn_convs): ModuleList(\n",
      "      (0): GCNConv(128, 256)\n",
      "      (1): GCNConv(256, 256)\n",
      "      (2): GCNConv(256, 128)\n",
      "    )\n",
      "    (norms): ModuleList(\n",
      "      (0-1): 2 x BatchNorm1d(256, eps=1e-05, momentum=0.1, affine=True, track_running_stats=True)\n",
      "      (2): BatchNorm1d(128, eps=1e-05, momentum=0.1, affine=True, track_running_stats=True)\n",
      "    )\n",
      "  )\n",
      "  (relation): GraphRelationNetwork(\n",
      "    (block): GCNLayer(\n",
      "      (gcn_convs): ModuleList(\n",
      "        (0): GCNConv(128, 64)\n",
      "        (1): GCNConv(64, 32)\n",
      "      )\n",
      "      (norms): ModuleList(\n",
      "        (0): BatchNorm1d(64, eps=1e-05, momentum=0.1, affine=True, track_running_stats=True)\n",
      "        (1): BatchNorm1d(32, eps=1e-05, momentum=0.1, affine=True, track_running_stats=True)\n",
      "      )\n",
      "    )\n",
      "    (fc): Sequential(\n",
      "      (0): Linear(in_features=32, out_features=16, bias=True)\n",
      "      (1): ReLU()\n",
      "      (2): Linear(in_features=16, out_features=1, bias=True)\n",
      "    )\n",
      "  )\n",
      ")\n",
      "Optimizer: Adam (\n",
      "Parameter Group 0\n",
      "    amsgrad: False\n",
      "    betas: (0.9, 0.999)\n",
      "    capturable: False\n",
      "    differentiable: False\n",
      "    eps: 1e-08\n",
      "    foreach: None\n",
      "    fused: None\n",
      "    lr: 0.001\n",
      "    maximize: False\n",
      "    weight_decay: 0\n",
      ")\n",
      "Finish setting up the training module\n"
     ]
    }
   ],
   "source": [
    "trainModule = TrainModule(options, dataset)\n",
    "trainModule.train()"
   ]
  },
  {
   "cell_type": "code",
   "execution_count": 7,
   "metadata": {},
   "outputs": [
    {
     "name": "stdout",
     "output_type": "stream",
     "text": [
      "Setting up the testing module...\n"
     ]
    },
    {
     "name": "stderr",
     "output_type": "stream",
     "text": [
      "  0%|          | 0/200 [00:00<?, ?it/s]"
     ]
    },
    {
     "name": "stderr",
     "output_type": "stream",
     "text": [
      "100%|██████████| 200/200 [00:15<00:00, 13.30it/s]\n"
     ]
    },
    {
     "name": "stdout",
     "output_type": "stream",
     "text": [
      "Saving data to ./embeddings/arm_withVal_ghidra_42/word2vec/testData.pkl\n",
      "Loading data from ./embeddings/arm_withVal_ghidra_42/word2vec...\n",
      "Generating open set testing data...\n",
      "Loading openset data...\n",
      "Loading data from ./embeddings/arm_withVal_ghidra_42/word2vec/opensetData_random_0.2.pkl...\n",
      "Finish setting up the testing module\n",
      "Model path is not provided. Using the best model...\n",
      "Record evaluation log...\n",
      "Loading model from checkpoints/arm_withVal_ghidra_42_openset/5way_5shot_LabelPropagation_alpha0.7_k20_gcn_20250620_161805/epoch_8_0.9428000193834305_best.pth\n",
      "Model: LabelPropagation(\n",
      "  (encoder): GCNLayer(\n",
      "    (gcn_convs): ModuleList(\n",
      "      (0): GCNConv(128, 256)\n",
      "      (1): GCNConv(256, 256)\n",
      "      (2): GCNConv(256, 128)\n",
      "    )\n",
      "    (norms): ModuleList(\n",
      "      (0-1): 2 x BatchNorm1d(256, eps=1e-05, momentum=0.1, affine=True, track_running_stats=True)\n",
      "      (2): BatchNorm1d(128, eps=1e-05, momentum=0.1, affine=True, track_running_stats=True)\n",
      "    )\n",
      "  )\n",
      "  (relation): GraphRelationNetwork(\n",
      "    (block): GraphSAGELayer(\n",
      "      (sage_convs): ModuleList(\n",
      "        (0): SAGEConv(128, 64, aggr=mean)\n",
      "        (1): SAGEConv(64, 32, aggr=mean)\n",
      "      )\n",
      "      (norms): ModuleList(\n",
      "        (0): BatchNorm1d(64, eps=1e-05, momentum=0.1, affine=True, track_running_stats=True)\n",
      "        (1): BatchNorm1d(32, eps=1e-05, momentum=0.1, affine=True, track_running_stats=True)\n",
      "      )\n",
      "    )\n",
      "    (fc): Sequential(\n",
      "      (0): Linear(in_features=32, out_features=16, bias=True)\n",
      "      (1): ReLU()\n",
      "      (2): Linear(in_features=16, out_features=1, bias=True)\n",
      "    )\n",
      "  )\n",
      ")\n",
      "Start evaluation... (testing dataset)\n",
      "Open set evaluation enabled\n",
      "Open set m_samples: 50\n",
      "Epoch 1\n"
     ]
    },
    {
     "name": "stderr",
     "output_type": "stream",
     "text": [
      "Epoch 1/10 (Testing): 100%|██████████| 100/100 [00:33<00:00,  3.00it/s, loss=0.3426, acc=0.6933, openset_auc=0.8824]\n"
     ]
    },
    {
     "name": "stdout",
     "output_type": "stream",
     "text": [
      "Epoch 2\n"
     ]
    },
    {
     "name": "stderr",
     "output_type": "stream",
     "text": [
      "Epoch 2/10 (Testing): 100%|██████████| 100/100 [00:32<00:00,  3.05it/s, loss=0.3263, acc=0.7867, openset_auc=0.8896]\n"
     ]
    },
    {
     "name": "stdout",
     "output_type": "stream",
     "text": [
      "Epoch 3\n"
     ]
    },
    {
     "name": "stderr",
     "output_type": "stream",
     "text": [
      "Epoch 3/10 (Testing): 100%|██████████| 100/100 [00:33<00:00,  2.97it/s, loss=0.3413, acc=0.8667, openset_auc=0.9576]\n"
     ]
    },
    {
     "name": "stdout",
     "output_type": "stream",
     "text": [
      "Epoch 4\n"
     ]
    },
    {
     "name": "stderr",
     "output_type": "stream",
     "text": [
      "Epoch 4/10 (Testing): 100%|██████████| 100/100 [00:32<00:00,  3.03it/s, loss=0.3538, acc=0.7333, openset_auc=0.8720]\n"
     ]
    },
    {
     "name": "stdout",
     "output_type": "stream",
     "text": [
      "Epoch 5\n"
     ]
    },
    {
     "name": "stderr",
     "output_type": "stream",
     "text": [
      "Epoch 5/10 (Testing): 100%|██████████| 100/100 [00:31<00:00,  3.13it/s, loss=0.3969, acc=0.8400, openset_auc=0.8936]\n"
     ]
    },
    {
     "name": "stdout",
     "output_type": "stream",
     "text": [
      "Epoch 6\n"
     ]
    },
    {
     "name": "stderr",
     "output_type": "stream",
     "text": [
      "Epoch 6/10 (Testing): 100%|██████████| 100/100 [00:31<00:00,  3.23it/s, loss=0.2856, acc=0.9600, openset_auc=0.9781]\n"
     ]
    },
    {
     "name": "stdout",
     "output_type": "stream",
     "text": [
      "Epoch 7\n"
     ]
    },
    {
     "name": "stderr",
     "output_type": "stream",
     "text": [
      "Epoch 7/10 (Testing): 100%|██████████| 100/100 [00:32<00:00,  3.03it/s, loss=0.3056, acc=0.8400, openset_auc=0.8912]\n"
     ]
    },
    {
     "name": "stdout",
     "output_type": "stream",
     "text": [
      "Epoch 8\n"
     ]
    },
    {
     "name": "stderr",
     "output_type": "stream",
     "text": [
      "Epoch 8/10 (Testing): 100%|██████████| 100/100 [00:32<00:00,  3.09it/s, loss=0.2688, acc=0.8667, openset_auc=0.9219]\n"
     ]
    },
    {
     "name": "stdout",
     "output_type": "stream",
     "text": [
      "Epoch 9\n"
     ]
    },
    {
     "name": "stderr",
     "output_type": "stream",
     "text": [
      "Epoch 9/10 (Testing): 100%|██████████| 100/100 [00:33<00:00,  2.97it/s, loss=0.3502, acc=0.7467, openset_auc=0.9221]\n"
     ]
    },
    {
     "name": "stdout",
     "output_type": "stream",
     "text": [
      "Epoch 10\n"
     ]
    },
    {
     "name": "stderr",
     "output_type": "stream",
     "text": [
      "Epoch 10/10 (Testing): 100%|██████████| 100/100 [00:34<00:00,  2.93it/s, loss=0.3270, acc=0.8400, openset_auc=0.9275]"
     ]
    },
    {
     "name": "stdout",
     "output_type": "stream",
     "text": [
      "Testing accuracy: 0.8663, OpenSet AUROC: 0.9254\n",
      "Closed set test accuracy: 0.8662533529996872\n",
      "Open set AUROC: 0.9254399999999999\n",
      "Finish evaluation\n"
     ]
    },
    {
     "name": "stderr",
     "output_type": "stream",
     "text": [
      "\n"
     ]
    }
   ],
   "source": [
    "test = TestModule(os.path.join(\"checkpoints/arm_withVal_ghidra_42_openset/5way_5shot_LabelPropagation_alpha0.7_k20_gcn_20250620_161805\", \"config.json\"), dataset)\n",
    "test.eval()"
   ]
  }
 ],
 "metadata": {
  "kernelspec": {
   "display_name": "prototype",
   "language": "python",
   "name": "python3"
  },
  "language_info": {
   "codemirror_mode": {
    "name": "ipython",
    "version": 3
   },
   "file_extension": ".py",
   "mimetype": "text/x-python",
   "name": "python",
   "nbconvert_exporter": "python",
   "pygments_lexer": "ipython3",
   "version": "3.11.9"
  }
 },
 "nbformat": 4,
 "nbformat_minor": 2
}
