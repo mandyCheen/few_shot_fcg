{
 "cells": [
  {
   "cell_type": "code",
   "execution_count": 1,
   "metadata": {},
   "outputs": [],
   "source": [
    "%load_ext autoreload\n",
    "%autoreload 2 \n",
    "import warnings\n",
    "warnings.filterwarnings(\"ignore\")"
   ]
  },
  {
   "cell_type": "code",
   "execution_count": 2,
   "metadata": {},
   "outputs": [],
   "source": [
    "from utils import load_config, save_config\n",
    "options = load_config(\"./config/config_label_prop.json\")"
   ]
  },
  {
   "cell_type": "code",
   "execution_count": 3,
   "metadata": {},
   "outputs": [
    {
     "name": "stdout",
     "output_type": "stream",
     "text": [
      "Loading all datasets...\n",
      "train dataset shape: (1180, 16)\n",
      "train dataset family number: 59\n",
      "test dataset shape: (200, 16)\n",
      "test dataset family number: 10\n",
      "val dataset shape: (200, 16)\n",
      "val dataset family number: 10\n",
      "Word2vec model exist, load word2vec model...\n",
      "Start to get node embedding...\n"
     ]
    },
    {
     "name": "stderr",
     "output_type": "stream",
     "text": [
      "100%|██████████| 1580/1580 [00:00<00:00, 56244.43it/s]"
     ]
    },
    {
     "name": "stdout",
     "output_type": "stream",
     "text": [
      "Finish getting node embedding\n",
      "Setting up the training module...\n",
      "Loading data from /mnt/ssd2t/mandy/Projects/few_shot_fcg/embeddings/x86_64_withVal_withPretrain_ghidra_6/word2vec...\n",
      "Loading training data...\n",
      "Loading data from /mnt/ssd2t/mandy/Projects/few_shot_fcg/embeddings/x86_64_withVal_withPretrain_ghidra_6/word2vec/trainData.pkl...\n"
     ]
    },
    {
     "name": "stderr",
     "output_type": "stream",
     "text": [
      "\n"
     ]
    },
    {
     "name": "stdout",
     "output_type": "stream",
     "text": [
      "Loading validation data...\n",
      "Loading data from /mnt/ssd2t/mandy/Projects/few_shot_fcg/embeddings/x86_64_withVal_withPretrain_ghidra_6/word2vec/valData.pkl...\n",
      "Model loaded from ./pretrained/x86_pretrained_20241121_1653/epoch_2060_best_backbone.pth\n",
      "Device: cuda:0\n",
      "Model: GraphSAGELayer(\n",
      "  (sage_convs): ModuleList(\n",
      "    (0-1): 2 x SAGEConv(128, 128, aggr=mean)\n",
      "  )\n",
      "  (norms): ModuleList(\n",
      "    (0-1): 2 x BatchNorm1d(128, eps=1e-05, momentum=0.1, affine=True, track_running_stats=True)\n",
      "  )\n",
      ")\n",
      "Loss function: LabelPropagation(\n",
      "  (relation): GraphRelationNetwork(\n",
      "    (sage): GraphSAGELayer(\n",
      "      (sage_convs): ModuleList(\n",
      "        (0): SAGEConv(128, 128, aggr=mean)\n",
      "      )\n",
      "      (norms): ModuleList(\n",
      "        (0): BatchNorm1d(128, eps=1e-05, momentum=0.1, affine=True, track_running_stats=True)\n",
      "      )\n",
      "    )\n",
      "    (fc): Sequential(\n",
      "      (0): Linear(in_features=128, out_features=64, bias=True)\n",
      "      (1): ReLU()\n",
      "      (2): Linear(in_features=64, out_features=1, bias=True)\n",
      "    )\n",
      "  )\n",
      ")\n",
      "Optimizer: Adam (\n",
      "Parameter Group 0\n",
      "    amsgrad: False\n",
      "    betas: (0.9, 0.999)\n",
      "    capturable: False\n",
      "    differentiable: False\n",
      "    eps: 1e-08\n",
      "    foreach: None\n",
      "    fused: None\n",
      "    lr: 0.001\n",
      "    maximize: False\n",
      "    weight_decay: 0\n",
      ")\n",
      "Finish setting up the training module\n",
      "Copying split files...\n",
      "Finish copying split files\n",
      "Start training...\n",
      "Current learning rate: [0.001]\n"
     ]
    },
    {
     "name": "stderr",
     "output_type": "stream",
     "text": [
      "Epoch 1/500 (Training):   0%|          | 0/100 [00:00<?, ?it/s, loss=1.4094, acc=0.1867]"
     ]
    },
    {
     "name": "stdout",
     "output_type": "stream",
     "text": [
      "tensor([[ 1.9797e-01,  2.5741e-02,  1.6882e-01,  4.5427e-02,  1.5369e-01],\n",
      "        [ 1.3242e-02,  1.0836e-01,  1.8461e-01,  1.1277e-01,  2.6684e-02],\n",
      "        [ 4.7341e-03,  1.4379e-01,  2.7106e-01,  1.2916e-01,  6.2209e-03],\n",
      "        [ 7.9046e-01,  4.3396e-07,  1.4595e-05,  6.9407e-07,  2.0676e-05],\n",
      "        [ 3.8645e-03,  1.3769e-01,  2.6629e-01,  1.3041e-01,  5.4020e-03],\n",
      "        [ 4.6303e-03,  7.8246e-02,  1.1651e-01,  5.9323e-02,  9.5553e-02],\n",
      "        [ 4.3005e-03,  1.4074e-01,  2.6751e-01,  1.2973e-01,  5.8203e-03],\n",
      "        [-1.2098e-14,  1.4945e-01,  1.6380e-01,  1.4527e-02,  3.7353e-01],\n",
      "        [ 1.1594e-02,  1.3993e-01,  2.1750e-01,  5.6192e-02,  1.1687e-02],\n",
      "        [-1.2303e-14, -1.2460e-14, -1.3106e-14, -1.1952e-14, -1.2674e-14],\n",
      "        [ 3.6754e-03,  1.3633e-01,  2.6339e-01,  1.2883e-01,  4.7832e-03],\n",
      "        [ 1.6641e-01,  2.7939e-03,  9.5562e-02,  4.4608e-03,  1.2692e-01],\n",
      "        [-9.8245e-15,  2.8909e-02,  1.3387e-02,  5.0008e-01,  1.1213e-01],\n",
      "        [ 2.5726e-03,  5.4641e-02,  1.0210e-01,  5.4380e-02,  4.8216e-02],\n",
      "        [ 4.5935e-03,  8.7337e-02,  1.6328e-01,  8.7317e-02,  1.4526e-01],\n",
      "        [-1.1745e-14,  1.4665e-01,  1.6791e-01,  1.3387e-02,  3.6428e-01],\n",
      "        [ 1.1695e-03,  1.6752e-01,  1.6513e-01,  1.6712e-01,  1.5860e-01],\n",
      "        [-1.1129e-14,  1.3795e-01,  4.5047e-02,  2.4652e-02,  2.8899e-01],\n",
      "        [ 1.2131e-03,  1.6556e-01,  1.6679e-01,  1.6518e-01,  1.5679e-01],\n",
      "        [-1.2180e-14,  1.4696e-01,  5.2884e-02,  5.1976e-02,  3.6557e-01],\n",
      "        [ 2.0997e-01,  6.1345e-03,  1.6639e-01,  9.9176e-03,  1.9479e-01],\n",
      "        [ 2.9985e-01,  1.5985e-01,  2.3334e-02,  2.9599e-01,  7.6067e-03],\n",
      "        [ 2.0617e-03,  5.9878e-02,  1.5017e-01,  5.9562e-02,  5.5197e-02],\n",
      "        [ 3.1066e-01,  1.6740e-01,  9.5738e-03,  3.2957e-01,  4.1858e-03],\n",
      "        [-1.1744e-14,  1.4652e-01,  1.6790e-01,  1.3376e-02,  3.6411e-01],\n",
      "        [ 2.9341e-03,  1.2937e-01,  2.5304e-01,  1.3010e-01,  4.9696e-03],\n",
      "        [ 7.9046e-01,  4.3396e-07,  1.4595e-05,  6.9407e-07,  2.0676e-05],\n",
      "        [ 8.3325e-02,  1.5302e-01,  2.7555e-02,  5.2998e-02,  2.1967e-03],\n",
      "        [-1.1710e-14,  1.4515e-01,  1.6758e-01,  1.3241e-02,  3.6136e-01],\n",
      "        [ 2.3043e-01,  1.4561e-01,  2.9225e-02,  2.8855e-01,  1.5129e-02],\n",
      "        [-1.2722e-14,  1.5262e-01,  6.6996e-02,  3.0064e-02,  4.3416e-01],\n",
      "        [ 3.1848e-03,  1.3261e-01,  2.3783e-01,  6.1179e-02,  3.3655e-03],\n",
      "        [ 1.8965e-01,  1.0589e-02,  1.7044e-01,  1.6618e-02,  1.6329e-01],\n",
      "        [ 2.2871e-01,  1.5091e-01,  1.5157e-02,  3.0126e-01,  1.0882e-02],\n",
      "        [ 2.4501e-01,  1.6233e-01,  7.6917e-03,  3.2282e-01,  3.6656e-03],\n",
      "        [ 2.0012e-01,  6.0658e-03,  1.6940e-01,  9.7834e-03,  1.8471e-01],\n",
      "        [-1.2180e-14,  1.4696e-01,  5.2884e-02,  5.1976e-02,  3.6557e-01],\n",
      "        [ 1.0684e-02,  1.4323e-01,  2.2996e-01,  1.1290e-01,  1.0356e-02],\n",
      "        [-1.0100e-14,  9.9798e-02,  3.6355e-02,  1.0761e-01,  2.5376e-01],\n",
      "        [ 1.9477e-02,  1.3657e-01,  2.4301e-01,  6.9996e-02,  1.4180e-02],\n",
      "        [ 1.1033e-01,  1.2527e-02,  1.6626e-01,  1.8682e-02,  8.6014e-02],\n",
      "        [ 6.4139e-03,  1.1244e-01,  2.2353e-01,  1.1285e-01,  1.6613e-02],\n",
      "        [ 2.8458e-03,  1.2811e-01,  2.5096e-01,  1.2925e-01,  4.4088e-03],\n",
      "        [ 4.6651e-03,  8.9213e-02,  1.6711e-01,  8.8151e-02,  1.4424e-01],\n",
      "        [ 1.1696e-03,  1.6752e-01,  1.6513e-01,  1.6711e-01,  1.5862e-01],\n",
      "        [ 3.1066e-01,  1.6740e-01,  9.5738e-03,  3.2957e-01,  4.1858e-03],\n",
      "        [-1.4098e-14,  1.6316e-01,  1.4205e-01,  4.6352e-02,  4.5430e-01],\n",
      "        [ 1.5682e-03,  5.3710e-02,  1.2758e-01,  5.3830e-02,  5.1759e-02],\n",
      "        [ 2.0542e-01,  8.4029e-03,  1.7084e-01,  1.3301e-02,  1.8543e-01],\n",
      "        [-1.2180e-14,  1.4696e-01,  5.2887e-02,  5.1971e-02,  3.6558e-01],\n",
      "        [ 2.1278e-03,  5.8944e-02,  1.4807e-01,  5.8990e-02,  1.1746e-01],\n",
      "        [ 2.0561e-03,  5.0366e-02,  8.7106e-02,  5.0493e-02,  5.4687e-02],\n",
      "        [-1.1013e-14,  1.3408e-01,  1.6111e-01,  1.0778e-02,  3.3398e-01],\n",
      "        [ 5.7720e-02,  3.3497e-02,  1.6527e-01,  3.9083e-02,  5.2961e-02],\n",
      "        [-1.4237e-14,  1.6587e-01,  1.4662e-01,  2.8910e-02,  4.5926e-01],\n",
      "        [ 4.1772e-03,  1.2671e-01,  2.3936e-01,  1.1808e-01,  1.6061e-02],\n",
      "        [ 3.1102e-03,  1.2576e-01,  2.4511e-01,  1.1910e-01,  3.6720e-03],\n",
      "        [-1.1936e-14,  1.4582e-01,  5.2448e-02,  4.8443e-02,  3.6244e-01],\n",
      "        [ 9.0562e-02,  1.5833e-01,  2.9871e-02,  5.7664e-02,  2.3839e-03],\n",
      "        [ 2.5157e-01,  1.6462e-01,  8.6258e-03,  3.2621e-01,  3.9218e-03],\n",
      "        [ 1.1269e-02,  1.3842e-01,  1.6921e-01,  5.5880e-02,  1.1722e-02],\n",
      "        [ 2.7082e-03,  1.2108e-01,  2.3717e-01,  1.2259e-01,  4.2776e-03],\n",
      "        [ 1.9692e-01,  5.7154e-03,  1.5937e-01,  9.2715e-03,  1.8346e-01],\n",
      "        [ 1.4007e-03,  1.6594e-01,  1.6589e-01,  1.6442e-01,  1.5836e-01],\n",
      "        [ 1.6171e-01,  4.2284e-02,  1.4466e-01,  6.5383e-02,  4.5737e-02],\n",
      "        [ 2.1003e-03,  1.2081e-01,  2.3818e-01,  1.2215e-01,  2.9965e-03],\n",
      "        [ 1.3517e-03,  1.6098e-01,  1.6877e-01,  1.6063e-01,  1.5270e-01],\n",
      "        [ 1.9072e-04,  1.6175e-03,  8.7943e-05,  9.9143e-05,  5.1423e-06],\n",
      "        [ 1.0478e-04,  8.9691e-04,  4.8393e-05,  5.4465e-05,  2.8270e-06],\n",
      "        [ 3.0616e-01,  1.6687e-01,  8.8680e-03,  3.1721e-01,  3.0389e-03],\n",
      "        [ 2.1216e-01,  5.6088e-03,  1.6210e-01,  9.1569e-03,  1.9775e-01],\n",
      "        [ 1.5090e-03,  1.5718e-01,  1.7140e-01,  1.5684e-01,  1.5199e-01],\n",
      "        [ 9.3248e-02,  1.6120e-01,  3.0772e-02,  5.9317e-02,  2.4552e-03],\n",
      "        [ 1.6432e-01,  4.5865e-02,  1.5204e-01,  6.8472e-02,  5.2806e-02],\n",
      "        [ 3.0715e-01,  1.6515e-01,  8.3538e-03,  3.1896e-01,  3.0191e-03]],\n",
      "       device='cuda:0', grad_fn=<SliceBackward0>)\n",
      "tensor([0, 2, 2, 0, 2, 2, 2, 4, 2, 3, 2, 0, 3, 2, 2, 4, 1, 4, 2, 4, 0, 0, 2, 3,\n",
      "        4, 2, 0, 1, 4, 3, 4, 2, 0, 3, 3, 0, 4, 2, 4, 2, 2, 2, 2, 2, 1, 3, 4, 2,\n",
      "        0, 4, 2, 2, 4, 2, 4, 2, 2, 4, 1, 3, 2, 2, 0, 1, 0, 2, 2, 1, 1, 3, 0, 2,\n",
      "        1, 0, 3], device='cuda:0')\n",
      "tensor([0, 0, 0, 0, 0, 0, 0, 0, 0, 0, 0, 0, 0, 0, 0, 1, 1, 1, 1, 1, 1, 1, 1, 1,\n",
      "        1, 1, 1, 1, 1, 1, 2, 2, 2, 2, 2, 2, 2, 2, 2, 2, 2, 2, 2, 2, 2, 3, 3, 3,\n",
      "        3, 3, 3, 3, 3, 3, 3, 3, 3, 3, 3, 3, 4, 4, 4, 4, 4, 4, 4, 4, 4, 4, 4, 4,\n",
      "        4, 4, 4], device='cuda:0')\n",
      "Finish training\n"
     ]
    },
    {
     "name": "stderr",
     "output_type": "stream",
     "text": [
      "\n"
     ]
    }
   ],
   "source": [
    "from loadDataset import LoadDataset\n",
    "from fcgVectorize import FCGVectorize\n",
    "from trainModule import TrainModule\n",
    "from trainModule import TestModule\n",
    "import os\n",
    "\n",
    "dataset = LoadDataset(options, pretrain=False)\n",
    "vectorizer = FCGVectorize(options, dataset)\n",
    "vectorizer.node_embedding(dataset.rawDataset)\n",
    "trainModule = TrainModule(options, dataset)\n",
    "trainModule.train()\n"
   ]
  },
  {
   "cell_type": "code",
   "execution_count": 4,
   "metadata": {},
   "outputs": [
    {
     "name": "stdout",
     "output_type": "stream",
     "text": [
      "Setting up the testing module...\n",
      "Loading data from /mnt/ssd2t/mandy/Projects/few_shot_fcg/embeddings/x86_64_withVal_withPretrain_ghidra_6/word2vec...\n",
      "Loading validation data...\n",
      "Loading data from /mnt/ssd2t/mandy/Projects/few_shot_fcg/embeddings/x86_64_withVal_withPretrain_ghidra_6/word2vec/valData.pkl...\n",
      "Loading testing data...\n",
      "Loading data from /mnt/ssd2t/mandy/Projects/few_shot_fcg/embeddings/x86_64_withVal_withPretrain_ghidra_6/word2vec/testData.pkl...\n"
     ]
    },
    {
     "ename": "ValueError",
     "evalue": "Loss method not supported",
     "output_type": "error",
     "traceback": [
      "\u001b[0;31m---------------------------------------------------------------------------\u001b[0m",
      "\u001b[0;31mValueError\u001b[0m                                Traceback (most recent call last)",
      "Cell \u001b[0;32mIn[4], line 1\u001b[0m\n\u001b[0;32m----> 1\u001b[0m test \u001b[38;5;241m=\u001b[39m \u001b[43mTestModule\u001b[49m\u001b[43m(\u001b[49m\u001b[43mos\u001b[49m\u001b[38;5;241;43m.\u001b[39;49m\u001b[43mpath\u001b[49m\u001b[38;5;241;43m.\u001b[39;49m\u001b[43mjoin\u001b[49m\u001b[43m(\u001b[49m\u001b[43mtrainModule\u001b[49m\u001b[38;5;241;43m.\u001b[39;49m\u001b[43mmodel_folder\u001b[49m\u001b[43m,\u001b[49m\u001b[43m \u001b[49m\u001b[38;5;124;43m\"\u001b[39;49m\u001b[38;5;124;43mconfig.json\u001b[39;49m\u001b[38;5;124;43m\"\u001b[39;49m\u001b[43m)\u001b[49m\u001b[43m,\u001b[49m\u001b[43m \u001b[49m\u001b[43mdataset\u001b[49m\u001b[43m,\u001b[49m\u001b[43m \u001b[49m\u001b[43moptions\u001b[49m\u001b[43m)\u001b[49m\n\u001b[1;32m      2\u001b[0m test\u001b[38;5;241m.\u001b[39meval()\n",
      "File \u001b[0;32m~/Projects/few_shot_fcg/trainModule.py:258\u001b[0m, in \u001b[0;36mTestModule.__init__\u001b[0;34m(self, configPath, dataset, opt)\u001b[0m\n\u001b[1;32m    255\u001b[0m \u001b[38;5;28mself\u001b[39m\u001b[38;5;241m.\u001b[39membeddingSize \u001b[38;5;241m=\u001b[39m opt[\u001b[38;5;124m\"\u001b[39m\u001b[38;5;124msettings\u001b[39m\u001b[38;5;124m\"\u001b[39m][\u001b[38;5;124m\"\u001b[39m\u001b[38;5;124mvectorize\u001b[39m\u001b[38;5;124m\"\u001b[39m][\u001b[38;5;124m\"\u001b[39m\u001b[38;5;124mnode_embedding_size\u001b[39m\u001b[38;5;124m\"\u001b[39m]\n\u001b[1;32m    257\u001b[0m \u001b[38;5;28mself\u001b[39m\u001b[38;5;241m.\u001b[39mpretrain_folder \u001b[38;5;241m=\u001b[39m opt[\u001b[38;5;124m\"\u001b[39m\u001b[38;5;124mpaths\u001b[39m\u001b[38;5;124m\"\u001b[39m][\u001b[38;5;124m\"\u001b[39m\u001b[38;5;124mmodel\u001b[39m\u001b[38;5;124m\"\u001b[39m][\u001b[38;5;124m\"\u001b[39m\u001b[38;5;124mpretrained_folder\u001b[39m\u001b[38;5;124m\"\u001b[39m]\n\u001b[0;32m--> 258\u001b[0m \u001b[38;5;28;43mself\u001b[39;49m\u001b[38;5;241;43m.\u001b[39;49m\u001b[43msetting\u001b[49m\u001b[43m(\u001b[49m\u001b[43m)\u001b[49m\n\u001b[1;32m    260\u001b[0m \u001b[38;5;28msuper\u001b[39m()\u001b[38;5;241m.\u001b[39m\u001b[38;5;21m__init__\u001b[39m(\n\u001b[1;32m    261\u001b[0m     device\u001b[38;5;241m=\u001b[39m\u001b[38;5;28mself\u001b[39m\u001b[38;5;241m.\u001b[39mdevice,\n\u001b[1;32m    262\u001b[0m     loss_fn\u001b[38;5;241m=\u001b[39m\u001b[38;5;28mself\u001b[39m\u001b[38;5;241m.\u001b[39mloss_fn,\n\u001b[1;32m    263\u001b[0m )\n",
      "File \u001b[0;32m~/Projects/few_shot_fcg/trainModule.py:296\u001b[0m, in \u001b[0;36mTestModule.setting\u001b[0;34m(self)\u001b[0m\n\u001b[1;32m    293\u001b[0m \u001b[38;5;28mself\u001b[39m\u001b[38;5;241m.\u001b[39mmodel \u001b[38;5;241m=\u001b[39m GraphSAGE(dim_in\u001b[38;5;241m=\u001b[39m\u001b[38;5;28mself\u001b[39m\u001b[38;5;241m.\u001b[39mopt[\u001b[38;5;124m\"\u001b[39m\u001b[38;5;124msettings\u001b[39m\u001b[38;5;124m\"\u001b[39m][\u001b[38;5;124m\"\u001b[39m\u001b[38;5;124mmodel\u001b[39m\u001b[38;5;124m\"\u001b[39m][\u001b[38;5;124m\"\u001b[39m\u001b[38;5;124minput_size\u001b[39m\u001b[38;5;124m\"\u001b[39m], dim_h\u001b[38;5;241m=\u001b[39m\u001b[38;5;28mself\u001b[39m\u001b[38;5;241m.\u001b[39mopt[\u001b[38;5;124m\"\u001b[39m\u001b[38;5;124msettings\u001b[39m\u001b[38;5;124m\"\u001b[39m][\u001b[38;5;124m\"\u001b[39m\u001b[38;5;124mmodel\u001b[39m\u001b[38;5;124m\"\u001b[39m][\u001b[38;5;124m\"\u001b[39m\u001b[38;5;124mhidden_size\u001b[39m\u001b[38;5;124m\"\u001b[39m], dim_out\u001b[38;5;241m=\u001b[39m\u001b[38;5;28mself\u001b[39m\u001b[38;5;241m.\u001b[39mopt[\u001b[38;5;124m\"\u001b[39m\u001b[38;5;124msettings\u001b[39m\u001b[38;5;124m\"\u001b[39m][\u001b[38;5;124m\"\u001b[39m\u001b[38;5;124mmodel\u001b[39m\u001b[38;5;124m\"\u001b[39m][\u001b[38;5;124m\"\u001b[39m\u001b[38;5;124moutput_size\u001b[39m\u001b[38;5;124m\"\u001b[39m], num_layers\u001b[38;5;241m=\u001b[39m\u001b[38;5;28mself\u001b[39m\u001b[38;5;241m.\u001b[39mopt[\u001b[38;5;124m\"\u001b[39m\u001b[38;5;124msettings\u001b[39m\u001b[38;5;124m\"\u001b[39m][\u001b[38;5;124m\"\u001b[39m\u001b[38;5;124mmodel\u001b[39m\u001b[38;5;124m\"\u001b[39m][\u001b[38;5;124m\"\u001b[39m\u001b[38;5;124mnum_layers\u001b[39m\u001b[38;5;124m\"\u001b[39m], projection \u001b[38;5;241m=\u001b[39m \u001b[38;5;28mself\u001b[39m\u001b[38;5;241m.\u001b[39mopt[\u001b[38;5;124m\"\u001b[39m\u001b[38;5;124msettings\u001b[39m\u001b[38;5;124m\"\u001b[39m][\u001b[38;5;124m\"\u001b[39m\u001b[38;5;124mmodel\u001b[39m\u001b[38;5;124m\"\u001b[39m][\u001b[38;5;124m\"\u001b[39m\u001b[38;5;124mprojection\u001b[39m\u001b[38;5;124m\"\u001b[39m])\n\u001b[1;32m    294\u001b[0m \u001b[38;5;28mself\u001b[39m\u001b[38;5;241m.\u001b[39mpretrainModel \u001b[38;5;241m=\u001b[39m GraphSAGE(dim_in\u001b[38;5;241m=\u001b[39m\u001b[38;5;28mself\u001b[39m\u001b[38;5;241m.\u001b[39mopt[\u001b[38;5;124m\"\u001b[39m\u001b[38;5;124msettings\u001b[39m\u001b[38;5;124m\"\u001b[39m][\u001b[38;5;124m\"\u001b[39m\u001b[38;5;124mmodel\u001b[39m\u001b[38;5;124m\"\u001b[39m][\u001b[38;5;124m\"\u001b[39m\u001b[38;5;124minput_size\u001b[39m\u001b[38;5;124m\"\u001b[39m], dim_h\u001b[38;5;241m=\u001b[39m\u001b[38;5;28mself\u001b[39m\u001b[38;5;241m.\u001b[39mopt[\u001b[38;5;124m\"\u001b[39m\u001b[38;5;124msettings\u001b[39m\u001b[38;5;124m\"\u001b[39m][\u001b[38;5;124m\"\u001b[39m\u001b[38;5;124mmodel\u001b[39m\u001b[38;5;124m\"\u001b[39m][\u001b[38;5;124m\"\u001b[39m\u001b[38;5;124mhidden_size\u001b[39m\u001b[38;5;124m\"\u001b[39m], dim_out\u001b[38;5;241m=\u001b[39m\u001b[38;5;28mself\u001b[39m\u001b[38;5;241m.\u001b[39mopt[\u001b[38;5;124m\"\u001b[39m\u001b[38;5;124msettings\u001b[39m\u001b[38;5;124m\"\u001b[39m][\u001b[38;5;124m\"\u001b[39m\u001b[38;5;124mmodel\u001b[39m\u001b[38;5;124m\"\u001b[39m][\u001b[38;5;124m\"\u001b[39m\u001b[38;5;124moutput_size\u001b[39m\u001b[38;5;124m\"\u001b[39m], num_layers\u001b[38;5;241m=\u001b[39m\u001b[38;5;28mself\u001b[39m\u001b[38;5;241m.\u001b[39mopt[\u001b[38;5;124m\"\u001b[39m\u001b[38;5;124msettings\u001b[39m\u001b[38;5;124m\"\u001b[39m][\u001b[38;5;124m\"\u001b[39m\u001b[38;5;124mmodel\u001b[39m\u001b[38;5;124m\"\u001b[39m][\u001b[38;5;124m\"\u001b[39m\u001b[38;5;124mnum_layers\u001b[39m\u001b[38;5;124m\"\u001b[39m], projection \u001b[38;5;241m=\u001b[39m \u001b[38;5;28mself\u001b[39m\u001b[38;5;241m.\u001b[39mopt[\u001b[38;5;124m\"\u001b[39m\u001b[38;5;124msettings\u001b[39m\u001b[38;5;124m\"\u001b[39m][\u001b[38;5;124m\"\u001b[39m\u001b[38;5;124mmodel\u001b[39m\u001b[38;5;124m\"\u001b[39m][\u001b[38;5;124m\"\u001b[39m\u001b[38;5;124mprojection\u001b[39m\u001b[38;5;124m\"\u001b[39m])\n\u001b[0;32m--> 296\u001b[0m \u001b[38;5;28;43mself\u001b[39;49m\u001b[38;5;241;43m.\u001b[39;49m\u001b[43mget_loss_fn\u001b[49m\u001b[43m(\u001b[49m\u001b[43m)\u001b[49m\n\u001b[1;32m    298\u001b[0m \u001b[38;5;28mprint\u001b[39m(\u001b[38;5;124m\"\u001b[39m\u001b[38;5;124mFinish setting up the testing module\u001b[39m\u001b[38;5;124m\"\u001b[39m)\n",
      "File \u001b[0;32m~/Projects/few_shot_fcg/trainModule.py:273\u001b[0m, in \u001b[0;36mTestModule.get_loss_fn\u001b[0;34m(self)\u001b[0m\n\u001b[1;32m    271\u001b[0m     loss_fn \u001b[38;5;241m=\u001b[39m SoftNnLoss(\u001b[38;5;28mself\u001b[39m\u001b[38;5;241m.\u001b[39mopt)\n\u001b[1;32m    272\u001b[0m \u001b[38;5;28;01melse\u001b[39;00m:\n\u001b[0;32m--> 273\u001b[0m     \u001b[38;5;28;01mraise\u001b[39;00m \u001b[38;5;167;01mValueError\u001b[39;00m(\u001b[38;5;124m\"\u001b[39m\u001b[38;5;124mLoss method not supported\u001b[39m\u001b[38;5;124m\"\u001b[39m)\n\u001b[1;32m    274\u001b[0m \u001b[38;5;28mself\u001b[39m\u001b[38;5;241m.\u001b[39mloss_fn \u001b[38;5;241m=\u001b[39m loss_fn\n",
      "\u001b[0;31mValueError\u001b[0m: Loss method not supported"
     ]
    }
   ],
   "source": [
    "test = TestModule(os.path.join(trainModule.model_folder, \"config.json\"), dataset, options)\n",
    "test.eval()"
   ]
  }
 ],
 "metadata": {
  "kernelspec": {
   "display_name": "prototype",
   "language": "python",
   "name": "python3"
  },
  "language_info": {
   "codemirror_mode": {
    "name": "ipython",
    "version": 3
   },
   "file_extension": ".py",
   "mimetype": "text/x-python",
   "name": "python",
   "nbconvert_exporter": "python",
   "pygments_lexer": "ipython3",
   "version": "3.11.9"
  }
 },
 "nbformat": 4,
 "nbformat_minor": 2
}
