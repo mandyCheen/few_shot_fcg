{
 "cells": [
  {
   "cell_type": "code",
   "execution_count": 1,
   "metadata": {},
   "outputs": [],
   "source": [
    "%load_ext autoreload\n",
    "%autoreload 2 \n",
    "import warnings\n",
    "warnings.filterwarnings(\"ignore\")"
   ]
  },
  {
   "cell_type": "code",
   "execution_count": 2,
   "metadata": {},
   "outputs": [],
   "source": [
    "from utils import load_config, save_config\n",
    "options = load_config(\"./config/config.json\")"
   ]
  },
  {
   "cell_type": "code",
   "execution_count": 3,
   "metadata": {},
   "outputs": [],
   "source": [
    "expList = [\"5way_5shot\", \"5way_10shot\", \"10way_5shot\", \"10way_10shot\"]"
   ]
  },
  {
   "cell_type": "code",
   "execution_count": 4,
   "metadata": {},
   "outputs": [
    {
     "name": "stdout",
     "output_type": "stream",
     "text": [
      "Loading all datasets...\n",
      "train dataset shape: (1180, 16)\n",
      "train dataset family number: 59\n",
      "test dataset shape: (200, 16)\n",
      "test dataset family number: 10\n",
      "val dataset shape: (200, 16)\n",
      "val dataset family number: 10\n",
      "Word2vec model exist, load word2vec model...\n",
      "Start to get node embedding...\n"
     ]
    },
    {
     "name": "stderr",
     "output_type": "stream",
     "text": [
      "100%|██████████| 1580/1580 [00:00<00:00, 53152.07it/s]"
     ]
    },
    {
     "name": "stdout",
     "output_type": "stream",
     "text": [
      "Finish getting node embedding\n",
      "Setting up the training module...\n",
      "Loading data from /mnt/ssd2t/mandy/Projects/few_shot_fcg/embeddings/x86_64_withVal_withPretrain_ghidra_6/word2vec...\n",
      "Loading training data...\n",
      "Loading data from /mnt/ssd2t/mandy/Projects/few_shot_fcg/embeddings/x86_64_withVal_withPretrain_ghidra_6/word2vec/trainData.pkl...\n"
     ]
    },
    {
     "name": "stderr",
     "output_type": "stream",
     "text": [
      "\n"
     ]
    },
    {
     "name": "stdout",
     "output_type": "stream",
     "text": [
      "Loading validation data...\n",
      "Loading data from /mnt/ssd2t/mandy/Projects/few_shot_fcg/embeddings/x86_64_withVal_withPretrain_ghidra_6/word2vec/valData.pkl...\n",
      "Model loaded from ./pretrained/x86_pretrained_20241121_1653/epoch_2060_best_backbone.pth\n",
      "Device: cuda:0\n",
      "Model: GraphSAGE(\n",
      "  (sage_convs): ModuleList(\n",
      "    (0-1): 2 x SAGEConv(128, 128, aggr=mean)\n",
      "  )\n",
      "  (norms): ModuleList(\n",
      "    (0-1): 2 x BatchNorm1d(128, eps=1e-05, momentum=0.1, affine=True, track_running_stats=True)\n",
      "  )\n",
      "  (output_proj): Sequential(\n",
      "    (0): Linear(in_features=128, out_features=128, bias=True)\n",
      "    (1): BatchNorm1d(128, eps=1e-05, momentum=0.1, affine=True, track_running_stats=True)\n",
      "    (2): ReLU()\n",
      "  )\n",
      ")\n",
      "Loss function: <loss.SoftNnLoss object at 0x70668fc1b890>\n",
      "Optimizer: AdamW (\n",
      "Parameter Group 0\n",
      "    amsgrad: False\n",
      "    betas: (0.9, 0.999)\n",
      "    capturable: False\n",
      "    differentiable: False\n",
      "    eps: 1e-08\n",
      "    foreach: None\n",
      "    fused: None\n",
      "    lr: 0.001\n",
      "    maximize: False\n",
      "    weight_decay: 0.01\n",
      "\n",
      "Parameter Group 1\n",
      "    amsgrad: False\n",
      "    betas: (0.9, 0.999)\n",
      "    capturable: False\n",
      "    differentiable: False\n",
      "    eps: 1e-08\n",
      "    foreach: None\n",
      "    fused: None\n",
      "    lr: 0.001\n",
      "    maximize: False\n",
      "    weight_decay: 0.01\n",
      ")\n",
      "Finish setting up the training module\n",
      "Copying split files...\n",
      "Finish copying split files\n",
      "Start training...\n"
     ]
    },
    {
     "name": "stderr",
     "output_type": "stream",
     "text": [
      "Epoch 1/500 (Training): 100%|██████████| 100/100 [00:14<00:00,  7.06it/s, loss=0.7830, acc=0.7600]\n"
     ]
    },
    {
     "name": "stdout",
     "output_type": "stream",
     "text": [
      "Avg Train Loss: 2.2664, Avg Train Acc: 0.8864 (Best)\n"
     ]
    },
    {
     "name": "stderr",
     "output_type": "stream",
     "text": [
      "Epoch 1/500 (Validation): 100%|██████████| 100/100 [00:09<00:00, 10.89it/s, loss=0.4732, acc=0.8400]\n"
     ]
    },
    {
     "name": "stdout",
     "output_type": "stream",
     "text": [
      "Avg Val Loss: 0.9073, Avg Val Acc: 0.8552 (Best)\n",
      "Current learning rate: [0.001, 0.001]\n",
      "Patience: 0/20\n"
     ]
    },
    {
     "name": "stderr",
     "output_type": "stream",
     "text": [
      "Epoch 2/500 (Training): 100%|██████████| 100/100 [00:13<00:00,  7.62it/s, loss=0.1370, acc=0.9733]\n"
     ]
    },
    {
     "name": "stdout",
     "output_type": "stream",
     "text": [
      "Avg Train Loss: 1.8024, Avg Train Acc: 0.8955 (Best)\n"
     ]
    },
    {
     "name": "stderr",
     "output_type": "stream",
     "text": [
      "Epoch 2/500 (Validation): 100%|██████████| 100/100 [00:09<00:00, 10.81it/s, loss=1.7595, acc=0.9200]\n"
     ]
    },
    {
     "name": "stdout",
     "output_type": "stream",
     "text": [
      "Avg Val Loss: 1.0165, Avg Val Acc: 0.8621 (Best)\n",
      "Current learning rate: [0.001, 0.001]\n",
      "Patience: 0/20\n"
     ]
    },
    {
     "name": "stderr",
     "output_type": "stream",
     "text": [
      "Epoch 3/500 (Training): 100%|██████████| 100/100 [00:13<00:00,  7.31it/s, loss=1.5733, acc=0.9067]\n"
     ]
    },
    {
     "name": "stdout",
     "output_type": "stream",
     "text": [
      "Avg Train Loss: 1.5254, Avg Train Acc: 0.9052 (Best)\n"
     ]
    },
    {
     "name": "stderr",
     "output_type": "stream",
     "text": [
      "Epoch 3/500 (Validation): 100%|██████████| 100/100 [00:08<00:00, 11.27it/s, loss=0.6432, acc=0.9067]\n"
     ]
    },
    {
     "name": "stdout",
     "output_type": "stream",
     "text": [
      "Avg Val Loss: 0.9575, Avg Val Acc: 0.8607 (Best: 0.8621)\n",
      "Current learning rate: [0.001, 0.001]\n",
      "Patience: 1/20\n"
     ]
    },
    {
     "name": "stderr",
     "output_type": "stream",
     "text": [
      "Epoch 4/500 (Training): 100%|██████████| 100/100 [00:14<00:00,  6.96it/s, loss=0.8507, acc=0.9733]\n"
     ]
    },
    {
     "name": "stdout",
     "output_type": "stream",
     "text": [
      "Avg Train Loss: 1.3292, Avg Train Acc: 0.9056 (Best)\n"
     ]
    },
    {
     "name": "stderr",
     "output_type": "stream",
     "text": [
      "Epoch 4/500 (Validation): 100%|██████████| 100/100 [00:09<00:00, 10.74it/s, loss=0.6241, acc=0.9067]\n"
     ]
    },
    {
     "name": "stdout",
     "output_type": "stream",
     "text": [
      "Avg Val Loss: 0.8798, Avg Val Acc: 0.8632 (Best)\n",
      "Current learning rate: [0.001, 0.001]\n",
      "Patience: 0/20\n"
     ]
    },
    {
     "name": "stderr",
     "output_type": "stream",
     "text": [
      "Epoch 5/500 (Training): 100%|██████████| 100/100 [00:13<00:00,  7.61it/s, loss=2.3625, acc=0.8800]\n"
     ]
    },
    {
     "name": "stdout",
     "output_type": "stream",
     "text": [
      "Avg Train Loss: 1.1955, Avg Train Acc: 0.9077 (Best)\n"
     ]
    },
    {
     "name": "stderr",
     "output_type": "stream",
     "text": [
      "Epoch 5/500 (Validation): 100%|██████████| 100/100 [00:09<00:00, 10.70it/s, loss=0.3519, acc=0.8267]\n"
     ]
    },
    {
     "name": "stdout",
     "output_type": "stream",
     "text": [
      "Avg Val Loss: 0.8429, Avg Val Acc: 0.8645 (Best)\n",
      "Current learning rate: [0.001, 0.001]\n",
      "Patience: 0/20\n"
     ]
    },
    {
     "name": "stderr",
     "output_type": "stream",
     "text": [
      "Epoch 6/500 (Training): 100%|██████████| 100/100 [00:12<00:00,  8.13it/s, loss=0.3575, acc=0.9467]\n"
     ]
    },
    {
     "name": "stdout",
     "output_type": "stream",
     "text": [
      "Avg Train Loss: 1.0999, Avg Train Acc: 0.9083 (Best)\n"
     ]
    },
    {
     "name": "stderr",
     "output_type": "stream",
     "text": [
      "Epoch 6/500 (Validation): 100%|██████████| 100/100 [00:08<00:00, 11.31it/s, loss=0.7708, acc=0.7733]\n"
     ]
    },
    {
     "name": "stdout",
     "output_type": "stream",
     "text": [
      "Avg Val Loss: 0.8165, Avg Val Acc: 0.8650 (Best)\n",
      "Current learning rate: [0.001, 0.001]\n",
      "Patience: 0/20\n"
     ]
    },
    {
     "name": "stderr",
     "output_type": "stream",
     "text": [
      "Epoch 7/500 (Training): 100%|██████████| 100/100 [00:12<00:00,  7.74it/s, loss=0.2969, acc=0.8533]\n"
     ]
    },
    {
     "name": "stdout",
     "output_type": "stream",
     "text": [
      "Avg Train Loss: 1.0367, Avg Train Acc: 0.9082 (Best: 0.9083)\n"
     ]
    },
    {
     "name": "stderr",
     "output_type": "stream",
     "text": [
      "Epoch 7/500 (Validation): 100%|██████████| 100/100 [00:09<00:00, 11.11it/s, loss=0.5149, acc=0.9733]\n"
     ]
    },
    {
     "name": "stdout",
     "output_type": "stream",
     "text": [
      "Avg Val Loss: 0.7987, Avg Val Acc: 0.8648 (Best: 0.8650)\n",
      "Current learning rate: [0.001, 0.001]\n",
      "Patience: 1/20\n"
     ]
    },
    {
     "name": "stderr",
     "output_type": "stream",
     "text": [
      "Epoch 8/500 (Training): 100%|██████████| 100/100 [00:11<00:00,  8.94it/s, loss=0.3359, acc=0.9333]\n"
     ]
    },
    {
     "name": "stdout",
     "output_type": "stream",
     "text": [
      "Avg Train Loss: 0.9695, Avg Train Acc: 0.9096 (Best)\n"
     ]
    },
    {
     "name": "stderr",
     "output_type": "stream",
     "text": [
      "Epoch 8/500 (Validation): 100%|██████████| 100/100 [00:09<00:00, 10.96it/s, loss=0.6032, acc=0.8933]\n"
     ]
    },
    {
     "name": "stdout",
     "output_type": "stream",
     "text": [
      "Avg Val Loss: 0.7908, Avg Val Acc: 0.8649 (Best: 0.8650)\n",
      "Current learning rate: [0.001, 0.001]\n",
      "Patience: 2/20\n"
     ]
    },
    {
     "name": "stderr",
     "output_type": "stream",
     "text": [
      "Epoch 9/500 (Training): 100%|██████████| 100/100 [00:12<00:00,  7.88it/s, loss=0.8255, acc=0.9733]\n"
     ]
    },
    {
     "name": "stdout",
     "output_type": "stream",
     "text": [
      "Avg Train Loss: 0.9279, Avg Train Acc: 0.9086 (Best: 0.9096)\n"
     ]
    },
    {
     "name": "stderr",
     "output_type": "stream",
     "text": [
      "Epoch 9/500 (Validation): 100%|██████████| 100/100 [00:09<00:00, 10.86it/s, loss=0.5542, acc=0.8933]\n"
     ]
    },
    {
     "name": "stdout",
     "output_type": "stream",
     "text": [
      "Avg Val Loss: 0.7710, Avg Val Acc: 0.8663 (Best)\n",
      "Current learning rate: [0.001, 0.001]\n",
      "Patience: 0/20\n"
     ]
    },
    {
     "name": "stderr",
     "output_type": "stream",
     "text": [
      "Epoch 10/500 (Training): 100%|██████████| 100/100 [00:13<00:00,  7.46it/s, loss=0.2212, acc=0.9733]\n"
     ]
    },
    {
     "name": "stdout",
     "output_type": "stream",
     "text": [
      "Avg Train Loss: 0.8925, Avg Train Acc: 0.9095 (Best: 0.9096)\n"
     ]
    },
    {
     "name": "stderr",
     "output_type": "stream",
     "text": [
      "Epoch 10/500 (Validation): 100%|██████████| 100/100 [00:09<00:00, 10.52it/s, loss=1.0474, acc=0.8000]\n"
     ]
    },
    {
     "name": "stdout",
     "output_type": "stream",
     "text": [
      "Avg Val Loss: 0.7510, Avg Val Acc: 0.8673 (Best)\n",
      "Current learning rate: [0.001, 0.001]\n",
      "Patience: 0/20\n"
     ]
    },
    {
     "name": "stderr",
     "output_type": "stream",
     "text": [
      "Epoch 11/500 (Training): 100%|██████████| 100/100 [00:12<00:00,  7.86it/s, loss=1.3811, acc=0.8800]\n"
     ]
    },
    {
     "name": "stdout",
     "output_type": "stream",
     "text": [
      "Avg Train Loss: 0.8610, Avg Train Acc: 0.9111 (Best)\n"
     ]
    },
    {
     "name": "stderr",
     "output_type": "stream",
     "text": [
      "Epoch 11/500 (Validation): 100%|██████████| 100/100 [00:08<00:00, 11.20it/s, loss=0.8988, acc=0.8667]\n"
     ]
    },
    {
     "name": "stdout",
     "output_type": "stream",
     "text": [
      "Avg Val Loss: 0.7359, Avg Val Acc: 0.8683 (Best)\n",
      "Current learning rate: [0.001, 0.001]\n",
      "Patience: 0/20\n"
     ]
    },
    {
     "name": "stderr",
     "output_type": "stream",
     "text": [
      "Epoch 12/500 (Training): 100%|██████████| 100/100 [00:12<00:00,  7.76it/s, loss=0.3144, acc=0.9467]\n"
     ]
    },
    {
     "name": "stdout",
     "output_type": "stream",
     "text": [
      "Avg Train Loss: 0.8305, Avg Train Acc: 0.9120 (Best)\n"
     ]
    },
    {
     "name": "stderr",
     "output_type": "stream",
     "text": [
      "Epoch 12/500 (Validation): 100%|██████████| 100/100 [00:08<00:00, 11.19it/s, loss=0.8609, acc=0.7867]\n"
     ]
    },
    {
     "name": "stdout",
     "output_type": "stream",
     "text": [
      "Avg Val Loss: 0.7235, Avg Val Acc: 0.8692 (Best)\n",
      "Current learning rate: [0.001, 0.001]\n",
      "Patience: 0/20\n"
     ]
    },
    {
     "name": "stderr",
     "output_type": "stream",
     "text": [
      "Epoch 13/500 (Training): 100%|██████████| 100/100 [00:13<00:00,  7.41it/s, loss=0.0712, acc=0.9867]\n"
     ]
    },
    {
     "name": "stdout",
     "output_type": "stream",
     "text": [
      "Avg Train Loss: 0.8035, Avg Train Acc: 0.9130 (Best)\n"
     ]
    },
    {
     "name": "stderr",
     "output_type": "stream",
     "text": [
      "Epoch 13/500 (Validation): 100%|██████████| 100/100 [00:08<00:00, 11.62it/s, loss=0.6489, acc=0.8000]\n"
     ]
    },
    {
     "name": "stdout",
     "output_type": "stream",
     "text": [
      "Avg Val Loss: 0.7105, Avg Val Acc: 0.8696 (Best)\n",
      "Current learning rate: [0.001, 0.001]\n",
      "Patience: 0/20\n"
     ]
    },
    {
     "name": "stderr",
     "output_type": "stream",
     "text": [
      "Epoch 14/500 (Training): 100%|██████████| 100/100 [00:13<00:00,  7.41it/s, loss=0.6164, acc=0.9733]\n"
     ]
    },
    {
     "name": "stdout",
     "output_type": "stream",
     "text": [
      "Avg Train Loss: 0.7803, Avg Train Acc: 0.9136 (Best)\n"
     ]
    },
    {
     "name": "stderr",
     "output_type": "stream",
     "text": [
      "Epoch 14/500 (Validation): 100%|██████████| 100/100 [00:09<00:00, 10.99it/s, loss=1.0743, acc=0.7600]\n"
     ]
    },
    {
     "name": "stdout",
     "output_type": "stream",
     "text": [
      "Avg Val Loss: 0.6986, Avg Val Acc: 0.8705 (Best)\n",
      "Current learning rate: [0.001, 0.001]\n",
      "Patience: 0/20\n"
     ]
    },
    {
     "name": "stderr",
     "output_type": "stream",
     "text": [
      "Epoch 15/500 (Training): 100%|██████████| 100/100 [00:11<00:00,  8.37it/s, loss=0.3507, acc=0.9733]\n"
     ]
    },
    {
     "name": "stdout",
     "output_type": "stream",
     "text": [
      "Avg Train Loss: 0.7586, Avg Train Acc: 0.9149 (Best)\n"
     ]
    },
    {
     "name": "stderr",
     "output_type": "stream",
     "text": [
      "Epoch 15/500 (Validation): 100%|██████████| 100/100 [00:09<00:00, 10.59it/s, loss=0.7302, acc=0.8933]\n"
     ]
    },
    {
     "name": "stdout",
     "output_type": "stream",
     "text": [
      "Avg Val Loss: 0.6895, Avg Val Acc: 0.8710 (Best)\n",
      "Current learning rate: [0.001, 0.001]\n",
      "Patience: 0/20\n"
     ]
    },
    {
     "name": "stderr",
     "output_type": "stream",
     "text": [
      "Epoch 16/500 (Training): 100%|██████████| 100/100 [00:12<00:00,  7.73it/s, loss=0.0248, acc=1.0000]\n"
     ]
    },
    {
     "name": "stdout",
     "output_type": "stream",
     "text": [
      "Avg Train Loss: 0.7412, Avg Train Acc: 0.9156 (Best)\n"
     ]
    },
    {
     "name": "stderr",
     "output_type": "stream",
     "text": [
      "Epoch 16/500 (Validation): 100%|██████████| 100/100 [00:09<00:00, 10.65it/s, loss=0.3470, acc=0.9467]\n"
     ]
    },
    {
     "name": "stdout",
     "output_type": "stream",
     "text": [
      "Avg Val Loss: 0.6793, Avg Val Acc: 0.8723 (Best)\n",
      "Current learning rate: [0.001, 0.001]\n",
      "Patience: 0/20\n"
     ]
    },
    {
     "name": "stderr",
     "output_type": "stream",
     "text": [
      "Epoch 17/500 (Training): 100%|██████████| 100/100 [00:11<00:00,  8.72it/s, loss=0.5611, acc=0.8533]\n"
     ]
    },
    {
     "name": "stdout",
     "output_type": "stream",
     "text": [
      "Avg Train Loss: 0.7257, Avg Train Acc: 0.9159 (Best)\n"
     ]
    },
    {
     "name": "stderr",
     "output_type": "stream",
     "text": [
      "Epoch 17/500 (Validation): 100%|██████████| 100/100 [00:08<00:00, 11.33it/s, loss=0.4004, acc=0.9200]\n"
     ]
    },
    {
     "name": "stdout",
     "output_type": "stream",
     "text": [
      "Avg Val Loss: 0.6722, Avg Val Acc: 0.8737 (Best)\n",
      "Current learning rate: [0.001, 0.001]\n",
      "Patience: 0/20\n"
     ]
    },
    {
     "name": "stderr",
     "output_type": "stream",
     "text": [
      "Epoch 18/500 (Training): 100%|██████████| 100/100 [00:13<00:00,  7.18it/s, loss=0.8373, acc=0.9067]\n"
     ]
    },
    {
     "name": "stdout",
     "output_type": "stream",
     "text": [
      "Avg Train Loss: 0.7095, Avg Train Acc: 0.9161 (Best)\n"
     ]
    },
    {
     "name": "stderr",
     "output_type": "stream",
     "text": [
      "Epoch 18/500 (Validation): 100%|██████████| 100/100 [00:09<00:00, 11.00it/s, loss=0.9342, acc=0.8133]\n"
     ]
    },
    {
     "name": "stdout",
     "output_type": "stream",
     "text": [
      "Avg Val Loss: 0.6692, Avg Val Acc: 0.8737 (Best)\n",
      "Current learning rate: [0.001, 0.001]\n",
      "Patience: 0/20\n"
     ]
    },
    {
     "name": "stderr",
     "output_type": "stream",
     "text": [
      "Epoch 19/500 (Training): 100%|██████████| 100/100 [00:12<00:00,  8.33it/s, loss=0.5916, acc=0.8933]\n"
     ]
    },
    {
     "name": "stdout",
     "output_type": "stream",
     "text": [
      "Avg Train Loss: 0.6922, Avg Train Acc: 0.9171 (Best)\n"
     ]
    },
    {
     "name": "stderr",
     "output_type": "stream",
     "text": [
      "Epoch 19/500 (Validation): 100%|██████████| 100/100 [00:09<00:00, 10.93it/s, loss=0.5640, acc=0.8400]\n"
     ]
    },
    {
     "name": "stdout",
     "output_type": "stream",
     "text": [
      "Avg Val Loss: 0.6625, Avg Val Acc: 0.8740 (Best)\n",
      "Current learning rate: [0.001, 0.001]\n",
      "Patience: 0/20\n"
     ]
    },
    {
     "name": "stderr",
     "output_type": "stream",
     "text": [
      "Epoch 20/500 (Training): 100%|██████████| 100/100 [00:11<00:00,  8.75it/s, loss=0.0347, acc=0.9867]\n"
     ]
    },
    {
     "name": "stdout",
     "output_type": "stream",
     "text": [
      "Avg Train Loss: 0.6742, Avg Train Acc: 0.9185 (Best)\n"
     ]
    },
    {
     "name": "stderr",
     "output_type": "stream",
     "text": [
      "Epoch 20/500 (Validation): 100%|██████████| 100/100 [00:08<00:00, 11.53it/s, loss=0.4063, acc=0.8800]\n"
     ]
    },
    {
     "name": "stdout",
     "output_type": "stream",
     "text": [
      "Avg Val Loss: 0.6545, Avg Val Acc: 0.8743 (Best)\n",
      "Current learning rate: [0.001, 0.001]\n",
      "Patience: 0/20\n"
     ]
    },
    {
     "name": "stderr",
     "output_type": "stream",
     "text": [
      "Epoch 21/500 (Training): 100%|██████████| 100/100 [00:12<00:00,  8.08it/s, loss=0.6032, acc=0.9333]\n"
     ]
    },
    {
     "name": "stdout",
     "output_type": "stream",
     "text": [
      "Avg Train Loss: 0.6584, Avg Train Acc: 0.9197 (Best)\n"
     ]
    },
    {
     "name": "stderr",
     "output_type": "stream",
     "text": [
      "Epoch 21/500 (Validation): 100%|██████████| 100/100 [00:09<00:00, 10.97it/s, loss=0.3603, acc=0.9200]\n"
     ]
    },
    {
     "name": "stdout",
     "output_type": "stream",
     "text": [
      "Avg Val Loss: 0.6474, Avg Val Acc: 0.8748 (Best)\n",
      "Current learning rate: [0.001, 0.001]\n",
      "Patience: 0/20\n"
     ]
    },
    {
     "name": "stderr",
     "output_type": "stream",
     "text": [
      "Epoch 22/500 (Training): 100%|██████████| 100/100 [00:13<00:00,  7.59it/s, loss=0.1942, acc=0.9333]\n"
     ]
    },
    {
     "name": "stdout",
     "output_type": "stream",
     "text": [
      "Avg Train Loss: 0.6441, Avg Train Acc: 0.9205 (Best)\n"
     ]
    },
    {
     "name": "stderr",
     "output_type": "stream",
     "text": [
      "Epoch 22/500 (Validation): 100%|██████████| 100/100 [00:08<00:00, 11.36it/s, loss=0.5078, acc=0.8133]\n"
     ]
    },
    {
     "name": "stdout",
     "output_type": "stream",
     "text": [
      "Avg Val Loss: 0.6429, Avg Val Acc: 0.8753 (Best)\n",
      "Current learning rate: [0.001, 0.001]\n",
      "Patience: 0/20\n"
     ]
    },
    {
     "name": "stderr",
     "output_type": "stream",
     "text": [
      "Epoch 23/500 (Training): 100%|██████████| 100/100 [00:12<00:00,  7.91it/s, loss=0.2452, acc=0.9467]\n"
     ]
    },
    {
     "name": "stdout",
     "output_type": "stream",
     "text": [
      "Avg Train Loss: 0.6334, Avg Train Acc: 0.9210 (Best)\n"
     ]
    },
    {
     "name": "stderr",
     "output_type": "stream",
     "text": [
      "Epoch 23/500 (Validation): 100%|██████████| 100/100 [00:09<00:00, 11.07it/s, loss=0.7107, acc=0.8667]\n"
     ]
    },
    {
     "name": "stdout",
     "output_type": "stream",
     "text": [
      "Avg Val Loss: 0.6379, Avg Val Acc: 0.8756 (Best)\n",
      "Current learning rate: [0.001, 0.001]\n",
      "Patience: 0/20\n"
     ]
    },
    {
     "name": "stderr",
     "output_type": "stream",
     "text": [
      "Epoch 24/500 (Training): 100%|██████████| 100/100 [00:12<00:00,  8.08it/s, loss=0.1485, acc=0.9733]\n"
     ]
    },
    {
     "name": "stdout",
     "output_type": "stream",
     "text": [
      "Avg Train Loss: 0.6213, Avg Train Acc: 0.9218 (Best)\n"
     ]
    },
    {
     "name": "stderr",
     "output_type": "stream",
     "text": [
      "Epoch 24/500 (Validation): 100%|██████████| 100/100 [00:09<00:00, 11.02it/s, loss=0.6989, acc=0.8533]\n"
     ]
    },
    {
     "name": "stdout",
     "output_type": "stream",
     "text": [
      "Avg Val Loss: 0.6331, Avg Val Acc: 0.8761 (Best)\n",
      "Current learning rate: [0.001, 0.001]\n",
      "Patience: 0/20\n"
     ]
    },
    {
     "name": "stderr",
     "output_type": "stream",
     "text": [
      "Epoch 25/500 (Training): 100%|██████████| 100/100 [00:13<00:00,  7.43it/s, loss=0.0435, acc=0.9867]\n"
     ]
    },
    {
     "name": "stdout",
     "output_type": "stream",
     "text": [
      "Avg Train Loss: 0.6099, Avg Train Acc: 0.9224 (Best)\n"
     ]
    },
    {
     "name": "stderr",
     "output_type": "stream",
     "text": [
      "Epoch 25/500 (Validation): 100%|██████████| 100/100 [00:09<00:00, 10.83it/s, loss=0.5788, acc=0.8933]\n"
     ]
    },
    {
     "name": "stdout",
     "output_type": "stream",
     "text": [
      "Avg Val Loss: 0.6294, Avg Val Acc: 0.8769 (Best)\n",
      "Current learning rate: [0.001, 0.001]\n",
      "Patience: 0/20\n"
     ]
    },
    {
     "name": "stderr",
     "output_type": "stream",
     "text": [
      "Epoch 26/500 (Training): 100%|██████████| 100/100 [00:11<00:00,  8.71it/s, loss=1.2748, acc=0.7467]\n"
     ]
    },
    {
     "name": "stdout",
     "output_type": "stream",
     "text": [
      "Avg Train Loss: 0.5993, Avg Train Acc: 0.9233 (Best)\n"
     ]
    },
    {
     "name": "stderr",
     "output_type": "stream",
     "text": [
      "Epoch 26/500 (Validation): 100%|██████████| 100/100 [00:09<00:00, 11.08it/s, loss=0.5577, acc=0.8533]\n"
     ]
    },
    {
     "name": "stdout",
     "output_type": "stream",
     "text": [
      "Avg Val Loss: 0.6256, Avg Val Acc: 0.8775 (Best)\n",
      "Current learning rate: [0.001, 0.001]\n",
      "Patience: 0/20\n"
     ]
    },
    {
     "name": "stderr",
     "output_type": "stream",
     "text": [
      "Epoch 27/500 (Training): 100%|██████████| 100/100 [00:13<00:00,  7.67it/s, loss=0.4214, acc=0.9200]\n"
     ]
    },
    {
     "name": "stdout",
     "output_type": "stream",
     "text": [
      "Avg Train Loss: 0.5911, Avg Train Acc: 0.9239 (Best)\n"
     ]
    },
    {
     "name": "stderr",
     "output_type": "stream",
     "text": [
      "Epoch 27/500 (Validation): 100%|██████████| 100/100 [00:09<00:00, 10.76it/s, loss=0.4461, acc=0.9333]\n"
     ]
    },
    {
     "name": "stdout",
     "output_type": "stream",
     "text": [
      "Avg Val Loss: 0.6190, Avg Val Acc: 0.8788 (Best)\n",
      "Current learning rate: [0.001, 0.001]\n",
      "Patience: 0/20\n"
     ]
    },
    {
     "name": "stderr",
     "output_type": "stream",
     "text": [
      "Epoch 28/500 (Training): 100%|██████████| 100/100 [00:13<00:00,  7.61it/s, loss=0.7384, acc=0.7867]\n"
     ]
    },
    {
     "name": "stdout",
     "output_type": "stream",
     "text": [
      "Avg Train Loss: 0.5798, Avg Train Acc: 0.9247 (Best)\n"
     ]
    },
    {
     "name": "stderr",
     "output_type": "stream",
     "text": [
      "Epoch 28/500 (Validation): 100%|██████████| 100/100 [00:08<00:00, 11.16it/s, loss=0.2879, acc=0.9200]\n"
     ]
    },
    {
     "name": "stdout",
     "output_type": "stream",
     "text": [
      "Avg Val Loss: 0.6137, Avg Val Acc: 0.8800 (Best)\n",
      "Current learning rate: [0.001, 0.001]\n",
      "Patience: 0/20\n"
     ]
    },
    {
     "name": "stderr",
     "output_type": "stream",
     "text": [
      "Epoch 29/500 (Training): 100%|██████████| 100/100 [00:13<00:00,  7.33it/s, loss=0.6241, acc=0.9200]\n"
     ]
    },
    {
     "name": "stdout",
     "output_type": "stream",
     "text": [
      "Avg Train Loss: 0.5704, Avg Train Acc: 0.9256 (Best)\n"
     ]
    },
    {
     "name": "stderr",
     "output_type": "stream",
     "text": [
      "Epoch 29/500 (Validation): 100%|██████████| 100/100 [00:09<00:00, 11.05it/s, loss=0.3515, acc=0.9067]\n"
     ]
    },
    {
     "name": "stdout",
     "output_type": "stream",
     "text": [
      "Avg Val Loss: 0.6084, Avg Val Acc: 0.8811 (Best)\n",
      "Current learning rate: [0.001, 0.001]\n",
      "Patience: 0/20\n"
     ]
    },
    {
     "name": "stderr",
     "output_type": "stream",
     "text": [
      "Epoch 30/500 (Training): 100%|██████████| 100/100 [00:13<00:00,  7.26it/s, loss=0.3904, acc=0.9600]\n"
     ]
    },
    {
     "name": "stdout",
     "output_type": "stream",
     "text": [
      "Avg Train Loss: 0.5604, Avg Train Acc: 0.9263 (Best)\n"
     ]
    },
    {
     "name": "stderr",
     "output_type": "stream",
     "text": [
      "Epoch 30/500 (Validation): 100%|██████████| 100/100 [00:08<00:00, 11.27it/s, loss=0.3257, acc=0.9600]\n"
     ]
    },
    {
     "name": "stdout",
     "output_type": "stream",
     "text": [
      "Avg Val Loss: 0.6022, Avg Val Acc: 0.8820 (Best)\n",
      "Current learning rate: [0.001, 0.001]\n",
      "Patience: 0/20\n"
     ]
    },
    {
     "name": "stderr",
     "output_type": "stream",
     "text": [
      "Epoch 31/500 (Training): 100%|██████████| 100/100 [00:12<00:00,  8.20it/s, loss=0.2219, acc=0.9467]\n"
     ]
    },
    {
     "name": "stdout",
     "output_type": "stream",
     "text": [
      "Avg Train Loss: 0.5525, Avg Train Acc: 0.9270 (Best)\n"
     ]
    },
    {
     "name": "stderr",
     "output_type": "stream",
     "text": [
      "Epoch 31/500 (Validation): 100%|██████████| 100/100 [00:09<00:00, 10.79it/s, loss=0.5326, acc=0.8933]\n"
     ]
    },
    {
     "name": "stdout",
     "output_type": "stream",
     "text": [
      "Avg Val Loss: 0.5982, Avg Val Acc: 0.8830 (Best)\n",
      "Current learning rate: [0.001, 0.001]\n",
      "Patience: 0/20\n"
     ]
    },
    {
     "name": "stderr",
     "output_type": "stream",
     "text": [
      "Epoch 32/500 (Training): 100%|██████████| 100/100 [00:12<00:00,  7.92it/s, loss=0.2484, acc=0.9600]\n"
     ]
    },
    {
     "name": "stdout",
     "output_type": "stream",
     "text": [
      "Avg Train Loss: 0.5440, Avg Train Acc: 0.9275 (Best)\n"
     ]
    },
    {
     "name": "stderr",
     "output_type": "stream",
     "text": [
      "Epoch 32/500 (Validation): 100%|██████████| 100/100 [00:09<00:00, 10.61it/s, loss=0.3761, acc=0.9467]\n"
     ]
    },
    {
     "name": "stdout",
     "output_type": "stream",
     "text": [
      "Avg Val Loss: 0.5930, Avg Val Acc: 0.8839 (Best)\n",
      "Current learning rate: [0.001, 0.001]\n",
      "Patience: 0/20\n"
     ]
    },
    {
     "name": "stderr",
     "output_type": "stream",
     "text": [
      "Epoch 33/500 (Training): 100%|██████████| 100/100 [00:12<00:00,  8.18it/s, loss=0.0899, acc=0.9867]\n"
     ]
    },
    {
     "name": "stdout",
     "output_type": "stream",
     "text": [
      "Avg Train Loss: 0.5361, Avg Train Acc: 0.9282 (Best)\n"
     ]
    },
    {
     "name": "stderr",
     "output_type": "stream",
     "text": [
      "Epoch 33/500 (Validation): 100%|██████████| 100/100 [00:08<00:00, 11.26it/s, loss=0.4711, acc=0.8933]\n"
     ]
    },
    {
     "name": "stdout",
     "output_type": "stream",
     "text": [
      "Avg Val Loss: 0.5886, Avg Val Acc: 0.8847 (Best)\n",
      "Current learning rate: [0.001, 0.001]\n",
      "Patience: 0/20\n"
     ]
    },
    {
     "name": "stderr",
     "output_type": "stream",
     "text": [
      "Epoch 34/500 (Training): 100%|██████████| 100/100 [00:13<00:00,  7.39it/s, loss=0.5827, acc=0.9733]\n"
     ]
    },
    {
     "name": "stdout",
     "output_type": "stream",
     "text": [
      "Avg Train Loss: 0.5296, Avg Train Acc: 0.9288 (Best)\n"
     ]
    },
    {
     "name": "stderr",
     "output_type": "stream",
     "text": [
      "Epoch 34/500 (Validation): 100%|██████████| 100/100 [00:09<00:00, 10.24it/s, loss=0.5525, acc=0.7600]\n"
     ]
    },
    {
     "name": "stdout",
     "output_type": "stream",
     "text": [
      "Avg Val Loss: 0.5850, Avg Val Acc: 0.8849 (Best)\n",
      "Current learning rate: [0.001, 0.001]\n",
      "Patience: 0/20\n"
     ]
    },
    {
     "name": "stderr",
     "output_type": "stream",
     "text": [
      "Epoch 35/500 (Training): 100%|██████████| 100/100 [00:12<00:00,  8.02it/s, loss=0.0405, acc=0.9867]\n"
     ]
    },
    {
     "name": "stdout",
     "output_type": "stream",
     "text": [
      "Avg Train Loss: 0.5247, Avg Train Acc: 0.9290 (Best)\n"
     ]
    },
    {
     "name": "stderr",
     "output_type": "stream",
     "text": [
      "Epoch 35/500 (Validation): 100%|██████████| 100/100 [00:09<00:00, 10.71it/s, loss=0.6424, acc=0.8800]\n"
     ]
    },
    {
     "name": "stdout",
     "output_type": "stream",
     "text": [
      "Avg Val Loss: 0.5826, Avg Val Acc: 0.8855 (Best)\n",
      "Current learning rate: [0.001, 0.001]\n",
      "Patience: 0/20\n"
     ]
    },
    {
     "name": "stderr",
     "output_type": "stream",
     "text": [
      "Epoch 36/500 (Training): 100%|██████████| 100/100 [00:13<00:00,  7.42it/s, loss=0.1090, acc=1.0000]\n"
     ]
    },
    {
     "name": "stdout",
     "output_type": "stream",
     "text": [
      "Avg Train Loss: 0.5176, Avg Train Acc: 0.9296 (Best)\n"
     ]
    },
    {
     "name": "stderr",
     "output_type": "stream",
     "text": [
      "Epoch 36/500 (Validation): 100%|██████████| 100/100 [00:09<00:00, 11.08it/s, loss=0.7676, acc=0.8667]\n"
     ]
    },
    {
     "name": "stdout",
     "output_type": "stream",
     "text": [
      "Avg Val Loss: 0.5830, Avg Val Acc: 0.8857 (Best)\n",
      "Current learning rate: [0.001, 0.001]\n",
      "Patience: 0/20\n"
     ]
    },
    {
     "name": "stderr",
     "output_type": "stream",
     "text": [
      "Epoch 37/500 (Training): 100%|██████████| 100/100 [00:10<00:00,  9.27it/s, loss=0.0045, acc=1.0000]\n"
     ]
    },
    {
     "name": "stdout",
     "output_type": "stream",
     "text": [
      "Avg Train Loss: 0.5104, Avg Train Acc: 0.9299 (Best)\n"
     ]
    },
    {
     "name": "stderr",
     "output_type": "stream",
     "text": [
      "Epoch 37/500 (Validation): 100%|██████████| 100/100 [00:09<00:00, 10.76it/s, loss=0.2954, acc=0.9200]\n"
     ]
    },
    {
     "name": "stdout",
     "output_type": "stream",
     "text": [
      "Avg Val Loss: 0.5801, Avg Val Acc: 0.8862 (Best)\n",
      "Current learning rate: [0.001, 0.001]\n",
      "Patience: 0/20\n"
     ]
    },
    {
     "name": "stderr",
     "output_type": "stream",
     "text": [
      "Epoch 38/500 (Training): 100%|██████████| 100/100 [00:14<00:00,  7.05it/s, loss=0.5375, acc=0.9200]\n"
     ]
    },
    {
     "name": "stdout",
     "output_type": "stream",
     "text": [
      "Avg Train Loss: 0.5055, Avg Train Acc: 0.9303 (Best)\n"
     ]
    },
    {
     "name": "stderr",
     "output_type": "stream",
     "text": [
      "Epoch 38/500 (Validation): 100%|██████████| 100/100 [00:09<00:00, 10.37it/s, loss=0.1975, acc=0.9867]\n"
     ]
    },
    {
     "name": "stdout",
     "output_type": "stream",
     "text": [
      "Avg Val Loss: 0.5768, Avg Val Acc: 0.8871 (Best)\n",
      "Current learning rate: [0.001, 0.001]\n",
      "Patience: 0/20\n"
     ]
    },
    {
     "name": "stderr",
     "output_type": "stream",
     "text": [
      "Epoch 39/500 (Training): 100%|██████████| 100/100 [00:13<00:00,  7.44it/s, loss=0.2108, acc=0.9467]\n"
     ]
    },
    {
     "name": "stdout",
     "output_type": "stream",
     "text": [
      "Avg Train Loss: 0.4988, Avg Train Acc: 0.9309 (Best)\n"
     ]
    },
    {
     "name": "stderr",
     "output_type": "stream",
     "text": [
      "Epoch 39/500 (Validation): 100%|██████████| 100/100 [00:09<00:00, 11.02it/s, loss=0.6164, acc=0.9200]\n"
     ]
    },
    {
     "name": "stdout",
     "output_type": "stream",
     "text": [
      "Avg Val Loss: 0.5737, Avg Val Acc: 0.8877 (Best)\n",
      "Current learning rate: [0.001, 0.001]\n",
      "Patience: 0/20\n"
     ]
    },
    {
     "name": "stderr",
     "output_type": "stream",
     "text": [
      "Epoch 40/500 (Training): 100%|██████████| 100/100 [00:13<00:00,  7.48it/s, loss=0.2580, acc=0.9600]\n"
     ]
    },
    {
     "name": "stdout",
     "output_type": "stream",
     "text": [
      "Avg Train Loss: 0.4924, Avg Train Acc: 0.9314 (Best)\n"
     ]
    },
    {
     "name": "stderr",
     "output_type": "stream",
     "text": [
      "Epoch 40/500 (Validation): 100%|██████████| 100/100 [00:09<00:00, 10.03it/s, loss=0.5458, acc=0.9333]\n"
     ]
    },
    {
     "name": "stdout",
     "output_type": "stream",
     "text": [
      "Avg Val Loss: 0.5708, Avg Val Acc: 0.8882 (Best)\n",
      "Current learning rate: [0.001, 0.001]\n",
      "Patience: 0/20\n"
     ]
    },
    {
     "name": "stderr",
     "output_type": "stream",
     "text": [
      "Epoch 41/500 (Training): 100%|██████████| 100/100 [00:13<00:00,  7.17it/s, loss=0.4063, acc=0.9067]\n"
     ]
    },
    {
     "name": "stdout",
     "output_type": "stream",
     "text": [
      "Avg Train Loss: 0.4856, Avg Train Acc: 0.9318 (Best)\n"
     ]
    },
    {
     "name": "stderr",
     "output_type": "stream",
     "text": [
      "Epoch 41/500 (Validation): 100%|██████████| 100/100 [00:09<00:00, 10.56it/s, loss=0.4574, acc=0.9333]\n"
     ]
    },
    {
     "name": "stdout",
     "output_type": "stream",
     "text": [
      "Avg Val Loss: 0.5681, Avg Val Acc: 0.8889 (Best)\n",
      "Current learning rate: [0.001, 0.001]\n",
      "Patience: 0/20\n"
     ]
    },
    {
     "name": "stderr",
     "output_type": "stream",
     "text": [
      "Epoch 42/500 (Training): 100%|██████████| 100/100 [00:12<00:00,  8.21it/s, loss=0.3324, acc=0.7867]\n"
     ]
    },
    {
     "name": "stdout",
     "output_type": "stream",
     "text": [
      "Avg Train Loss: 0.4817, Avg Train Acc: 0.9320 (Best)\n"
     ]
    },
    {
     "name": "stderr",
     "output_type": "stream",
     "text": [
      "Epoch 42/500 (Validation): 100%|██████████| 100/100 [00:09<00:00, 10.87it/s, loss=0.3083, acc=0.9600]\n"
     ]
    },
    {
     "name": "stdout",
     "output_type": "stream",
     "text": [
      "Avg Val Loss: 0.5660, Avg Val Acc: 0.8895 (Best)\n",
      "Current learning rate: [0.001, 0.001]\n",
      "Patience: 0/20\n"
     ]
    },
    {
     "name": "stderr",
     "output_type": "stream",
     "text": [
      "Epoch 43/500 (Training): 100%|██████████| 100/100 [00:12<00:00,  8.24it/s, loss=0.1535, acc=0.9467]\n"
     ]
    },
    {
     "name": "stdout",
     "output_type": "stream",
     "text": [
      "Avg Train Loss: 0.4760, Avg Train Acc: 0.9324 (Best)\n"
     ]
    },
    {
     "name": "stderr",
     "output_type": "stream",
     "text": [
      "Epoch 43/500 (Validation): 100%|██████████| 100/100 [00:08<00:00, 11.28it/s, loss=0.4005, acc=0.8933]\n"
     ]
    },
    {
     "name": "stdout",
     "output_type": "stream",
     "text": [
      "Avg Val Loss: 0.5637, Avg Val Acc: 0.8900 (Best)\n",
      "Current learning rate: [0.001, 0.001]\n",
      "Patience: 0/20\n"
     ]
    },
    {
     "name": "stderr",
     "output_type": "stream",
     "text": [
      "Epoch 44/500 (Training): 100%|██████████| 100/100 [00:11<00:00,  8.43it/s, loss=0.2294, acc=0.9200]\n"
     ]
    },
    {
     "name": "stdout",
     "output_type": "stream",
     "text": [
      "Avg Train Loss: 0.4710, Avg Train Acc: 0.9328 (Best)\n"
     ]
    },
    {
     "name": "stderr",
     "output_type": "stream",
     "text": [
      "Epoch 44/500 (Validation): 100%|██████████| 100/100 [00:09<00:00, 10.59it/s, loss=0.2274, acc=0.9200]\n"
     ]
    },
    {
     "name": "stdout",
     "output_type": "stream",
     "text": [
      "Avg Val Loss: 0.5602, Avg Val Acc: 0.8908 (Best)\n",
      "Current learning rate: [0.001, 0.001]\n",
      "Patience: 0/20\n"
     ]
    },
    {
     "name": "stderr",
     "output_type": "stream",
     "text": [
      "Epoch 45/500 (Training): 100%|██████████| 100/100 [00:12<00:00,  7.72it/s, loss=0.1694, acc=0.9733]\n"
     ]
    },
    {
     "name": "stdout",
     "output_type": "stream",
     "text": [
      "Avg Train Loss: 0.4662, Avg Train Acc: 0.9332 (Best)\n"
     ]
    },
    {
     "name": "stderr",
     "output_type": "stream",
     "text": [
      "Epoch 45/500 (Validation): 100%|██████████| 100/100 [00:08<00:00, 11.27it/s, loss=0.5389, acc=0.8800]\n"
     ]
    },
    {
     "name": "stdout",
     "output_type": "stream",
     "text": [
      "Avg Val Loss: 0.5575, Avg Val Acc: 0.8913 (Best)\n",
      "Current learning rate: [0.001, 0.001]\n",
      "Patience: 0/20\n"
     ]
    },
    {
     "name": "stderr",
     "output_type": "stream",
     "text": [
      "Epoch 46/500 (Training): 100%|██████████| 100/100 [00:14<00:00,  6.75it/s, loss=0.1819, acc=0.9467]\n"
     ]
    },
    {
     "name": "stdout",
     "output_type": "stream",
     "text": [
      "Avg Train Loss: 0.4606, Avg Train Acc: 0.9337 (Best)\n"
     ]
    },
    {
     "name": "stderr",
     "output_type": "stream",
     "text": [
      "Epoch 46/500 (Validation): 100%|██████████| 100/100 [00:09<00:00, 10.84it/s, loss=0.2083, acc=0.9600]\n"
     ]
    },
    {
     "name": "stdout",
     "output_type": "stream",
     "text": [
      "Avg Val Loss: 0.5549, Avg Val Acc: 0.8918 (Best)\n",
      "Current learning rate: [0.001, 0.001]\n",
      "Patience: 0/20\n"
     ]
    },
    {
     "name": "stderr",
     "output_type": "stream",
     "text": [
      "Epoch 47/500 (Training): 100%|██████████| 100/100 [00:14<00:00,  6.67it/s, loss=0.0000, acc=1.0000]\n"
     ]
    },
    {
     "name": "stdout",
     "output_type": "stream",
     "text": [
      "Avg Train Loss: 0.4553, Avg Train Acc: 0.9342 (Best)\n"
     ]
    },
    {
     "name": "stderr",
     "output_type": "stream",
     "text": [
      "Epoch 47/500 (Validation): 100%|██████████| 100/100 [00:08<00:00, 11.27it/s, loss=0.7994, acc=0.8533]\n"
     ]
    },
    {
     "name": "stdout",
     "output_type": "stream",
     "text": [
      "Avg Val Loss: 0.5535, Avg Val Acc: 0.8921 (Best)\n",
      "Current learning rate: [0.001, 0.001]\n",
      "Patience: 0/20\n"
     ]
    },
    {
     "name": "stderr",
     "output_type": "stream",
     "text": [
      "Epoch 48/500 (Training): 100%|██████████| 100/100 [00:12<00:00,  7.90it/s, loss=0.0732, acc=0.9733]\n"
     ]
    },
    {
     "name": "stdout",
     "output_type": "stream",
     "text": [
      "Avg Train Loss: 0.4499, Avg Train Acc: 0.9347 (Best)\n"
     ]
    },
    {
     "name": "stderr",
     "output_type": "stream",
     "text": [
      "Epoch 48/500 (Validation): 100%|██████████| 100/100 [00:09<00:00, 10.88it/s, loss=0.7510, acc=0.8800]\n"
     ]
    },
    {
     "name": "stdout",
     "output_type": "stream",
     "text": [
      "Avg Val Loss: 0.5518, Avg Val Acc: 0.8926 (Best)\n",
      "Current learning rate: [0.001, 0.001]\n",
      "Patience: 0/20\n"
     ]
    },
    {
     "name": "stderr",
     "output_type": "stream",
     "text": [
      "Epoch 49/500 (Training): 100%|██████████| 100/100 [00:13<00:00,  7.67it/s, loss=0.4579, acc=0.9600]\n"
     ]
    },
    {
     "name": "stdout",
     "output_type": "stream",
     "text": [
      "Avg Train Loss: 0.4442, Avg Train Acc: 0.9353 (Best)\n"
     ]
    },
    {
     "name": "stderr",
     "output_type": "stream",
     "text": [
      "Epoch 49/500 (Validation): 100%|██████████| 100/100 [00:08<00:00, 11.13it/s, loss=0.5901, acc=0.9200]\n"
     ]
    },
    {
     "name": "stdout",
     "output_type": "stream",
     "text": [
      "Avg Val Loss: 0.5500, Avg Val Acc: 0.8930 (Best)\n",
      "Current learning rate: [0.001, 0.001]\n",
      "Patience: 0/20\n"
     ]
    },
    {
     "name": "stderr",
     "output_type": "stream",
     "text": [
      "Epoch 50/500 (Training): 100%|██████████| 100/100 [00:12<00:00,  8.22it/s, loss=0.3200, acc=0.8000]\n"
     ]
    },
    {
     "name": "stdout",
     "output_type": "stream",
     "text": [
      "Avg Train Loss: 0.4393, Avg Train Acc: 0.9357 (Best)\n"
     ]
    },
    {
     "name": "stderr",
     "output_type": "stream",
     "text": [
      "Epoch 50/500 (Validation): 100%|██████████| 100/100 [00:09<00:00, 10.71it/s, loss=0.3172, acc=0.8800]\n"
     ]
    },
    {
     "name": "stdout",
     "output_type": "stream",
     "text": [
      "Avg Val Loss: 0.5480, Avg Val Acc: 0.8932 (Best)\n",
      "Current learning rate: [0.001, 0.001]\n",
      "Patience: 0/20\n"
     ]
    },
    {
     "name": "stderr",
     "output_type": "stream",
     "text": [
      "Epoch 51/500 (Training): 100%|██████████| 100/100 [00:13<00:00,  7.46it/s, loss=0.0028, acc=1.0000]\n"
     ]
    },
    {
     "name": "stdout",
     "output_type": "stream",
     "text": [
      "Avg Train Loss: 0.4342, Avg Train Acc: 0.9362 (Best)\n"
     ]
    },
    {
     "name": "stderr",
     "output_type": "stream",
     "text": [
      "Epoch 51/500 (Validation): 100%|██████████| 100/100 [00:09<00:00, 10.46it/s, loss=0.4736, acc=0.9200]\n"
     ]
    },
    {
     "name": "stdout",
     "output_type": "stream",
     "text": [
      "Avg Val Loss: 0.5452, Avg Val Acc: 0.8938 (Best)\n",
      "Current learning rate: [0.001, 0.001]\n",
      "Patience: 0/20\n"
     ]
    },
    {
     "name": "stderr",
     "output_type": "stream",
     "text": [
      "Epoch 52/500 (Training): 100%|██████████| 100/100 [00:14<00:00,  6.80it/s, loss=0.0341, acc=0.9867]\n"
     ]
    },
    {
     "name": "stdout",
     "output_type": "stream",
     "text": [
      "Avg Train Loss: 0.4299, Avg Train Acc: 0.9365 (Best)\n"
     ]
    },
    {
     "name": "stderr",
     "output_type": "stream",
     "text": [
      "Epoch 52/500 (Validation): 100%|██████████| 100/100 [00:09<00:00, 10.54it/s, loss=0.2836, acc=0.9333]\n"
     ]
    },
    {
     "name": "stdout",
     "output_type": "stream",
     "text": [
      "Avg Val Loss: 0.5426, Avg Val Acc: 0.8943 (Best)\n",
      "Current learning rate: [0.001, 0.001]\n",
      "Patience: 0/20\n"
     ]
    },
    {
     "name": "stderr",
     "output_type": "stream",
     "text": [
      "Epoch 53/500 (Training): 100%|██████████| 100/100 [00:12<00:00,  7.87it/s, loss=0.0027, acc=1.0000]\n"
     ]
    },
    {
     "name": "stdout",
     "output_type": "stream",
     "text": [
      "Avg Train Loss: 0.4243, Avg Train Acc: 0.9371 (Best)\n"
     ]
    },
    {
     "name": "stderr",
     "output_type": "stream",
     "text": [
      "Epoch 53/500 (Validation): 100%|██████████| 100/100 [00:08<00:00, 11.32it/s, loss=0.4512, acc=0.9200]\n"
     ]
    },
    {
     "name": "stdout",
     "output_type": "stream",
     "text": [
      "Avg Val Loss: 0.5418, Avg Val Acc: 0.8947 (Best)\n",
      "Current learning rate: [0.001, 0.001]\n",
      "Patience: 0/20\n"
     ]
    },
    {
     "name": "stderr",
     "output_type": "stream",
     "text": [
      "Epoch 54/500 (Training): 100%|██████████| 100/100 [00:12<00:00,  7.95it/s, loss=0.0432, acc=0.9733]\n"
     ]
    },
    {
     "name": "stdout",
     "output_type": "stream",
     "text": [
      "Avg Train Loss: 0.4194, Avg Train Acc: 0.9377 (Best)\n"
     ]
    },
    {
     "name": "stderr",
     "output_type": "stream",
     "text": [
      "Epoch 54/500 (Validation): 100%|██████████| 100/100 [00:09<00:00, 10.40it/s, loss=0.2424, acc=0.9200]\n"
     ]
    },
    {
     "name": "stdout",
     "output_type": "stream",
     "text": [
      "Avg Val Loss: 0.5407, Avg Val Acc: 0.8951 (Best)\n",
      "Current learning rate: [0.001, 0.001]\n",
      "Patience: 0/20\n"
     ]
    },
    {
     "name": "stderr",
     "output_type": "stream",
     "text": [
      "Epoch 55/500 (Training): 100%|██████████| 100/100 [00:13<00:00,  7.50it/s, loss=0.6768, acc=0.8267]\n"
     ]
    },
    {
     "name": "stdout",
     "output_type": "stream",
     "text": [
      "Avg Train Loss: 0.4155, Avg Train Acc: 0.9381 (Best)\n"
     ]
    },
    {
     "name": "stderr",
     "output_type": "stream",
     "text": [
      "Epoch 55/500 (Validation): 100%|██████████| 100/100 [00:09<00:00, 10.61it/s, loss=0.4055, acc=0.8667]\n"
     ]
    },
    {
     "name": "stdout",
     "output_type": "stream",
     "text": [
      "Avg Val Loss: 0.5395, Avg Val Acc: 0.8952 (Best)\n",
      "Current learning rate: [0.001, 0.001]\n",
      "Patience: 0/20\n"
     ]
    },
    {
     "name": "stderr",
     "output_type": "stream",
     "text": [
      "Epoch 56/500 (Training): 100%|██████████| 100/100 [00:13<00:00,  7.56it/s, loss=0.4625, acc=0.9467]\n"
     ]
    },
    {
     "name": "stdout",
     "output_type": "stream",
     "text": [
      "Avg Train Loss: 0.4111, Avg Train Acc: 0.9386 (Best)\n"
     ]
    },
    {
     "name": "stderr",
     "output_type": "stream",
     "text": [
      "Epoch 56/500 (Validation): 100%|██████████| 100/100 [00:09<00:00, 11.08it/s, loss=0.3587, acc=0.9467]\n"
     ]
    },
    {
     "name": "stdout",
     "output_type": "stream",
     "text": [
      "Avg Val Loss: 0.5385, Avg Val Acc: 0.8954 (Best)\n",
      "Current learning rate: [0.001, 0.001]\n",
      "Patience: 0/20\n"
     ]
    },
    {
     "name": "stderr",
     "output_type": "stream",
     "text": [
      "Epoch 57/500 (Training): 100%|██████████| 100/100 [00:13<00:00,  7.50it/s, loss=0.0038, acc=1.0000]\n"
     ]
    },
    {
     "name": "stdout",
     "output_type": "stream",
     "text": [
      "Avg Train Loss: 0.4075, Avg Train Acc: 0.9389 (Best)\n"
     ]
    },
    {
     "name": "stderr",
     "output_type": "stream",
     "text": [
      "Epoch 57/500 (Validation): 100%|██████████| 100/100 [00:09<00:00, 11.09it/s, loss=0.4367, acc=0.9200]\n"
     ]
    },
    {
     "name": "stdout",
     "output_type": "stream",
     "text": [
      "Avg Val Loss: 0.5381, Avg Val Acc: 0.8955 (Best)\n",
      "Current learning rate: [0.001, 0.001]\n",
      "Patience: 0/20\n"
     ]
    },
    {
     "name": "stderr",
     "output_type": "stream",
     "text": [
      "Epoch 58/500 (Training): 100%|██████████| 100/100 [00:12<00:00,  8.08it/s, loss=0.1010, acc=0.9867]\n"
     ]
    },
    {
     "name": "stdout",
     "output_type": "stream",
     "text": [
      "Avg Train Loss: 0.4038, Avg Train Acc: 0.9392 (Best)\n"
     ]
    },
    {
     "name": "stderr",
     "output_type": "stream",
     "text": [
      "Epoch 58/500 (Validation): 100%|██████████| 100/100 [00:09<00:00, 10.19it/s, loss=0.4774, acc=0.8667]\n"
     ]
    },
    {
     "name": "stdout",
     "output_type": "stream",
     "text": [
      "Avg Val Loss: 0.5364, Avg Val Acc: 0.8957 (Best)\n",
      "Current learning rate: [0.001, 0.001]\n",
      "Patience: 0/20\n"
     ]
    },
    {
     "name": "stderr",
     "output_type": "stream",
     "text": [
      "Epoch 59/500 (Training): 100%|██████████| 100/100 [00:13<00:00,  7.32it/s, loss=0.0218, acc=1.0000]\n"
     ]
    },
    {
     "name": "stdout",
     "output_type": "stream",
     "text": [
      "Avg Train Loss: 0.3998, Avg Train Acc: 0.9397 (Best)\n"
     ]
    },
    {
     "name": "stderr",
     "output_type": "stream",
     "text": [
      "Epoch 59/500 (Validation): 100%|██████████| 100/100 [00:09<00:00, 10.41it/s, loss=0.3823, acc=0.9333]\n"
     ]
    },
    {
     "name": "stdout",
     "output_type": "stream",
     "text": [
      "Avg Val Loss: 0.5366, Avg Val Acc: 0.8959 (Best)\n",
      "Current learning rate: [0.001, 0.001]\n",
      "Patience: 0/20\n"
     ]
    },
    {
     "name": "stderr",
     "output_type": "stream",
     "text": [
      "Epoch 60/500 (Training): 100%|██████████| 100/100 [00:12<00:00,  7.88it/s, loss=0.0605, acc=0.9867]\n"
     ]
    },
    {
     "name": "stdout",
     "output_type": "stream",
     "text": [
      "Avg Train Loss: 0.3962, Avg Train Acc: 0.9401 (Best)\n"
     ]
    },
    {
     "name": "stderr",
     "output_type": "stream",
     "text": [
      "Epoch 60/500 (Validation): 100%|██████████| 100/100 [00:09<00:00, 10.37it/s, loss=0.1692, acc=0.9600]\n"
     ]
    },
    {
     "name": "stdout",
     "output_type": "stream",
     "text": [
      "Avg Val Loss: 0.5352, Avg Val Acc: 0.8962 (Best)\n",
      "Current learning rate: [0.001, 0.001]\n",
      "Patience: 0/20\n"
     ]
    },
    {
     "name": "stderr",
     "output_type": "stream",
     "text": [
      "Epoch 61/500 (Training): 100%|██████████| 100/100 [00:14<00:00,  7.06it/s, loss=0.0897, acc=0.9867]\n"
     ]
    },
    {
     "name": "stdout",
     "output_type": "stream",
     "text": [
      "Avg Train Loss: 0.3918, Avg Train Acc: 0.9405 (Best)\n"
     ]
    },
    {
     "name": "stderr",
     "output_type": "stream",
     "text": [
      "Epoch 61/500 (Validation): 100%|██████████| 100/100 [00:09<00:00, 10.51it/s, loss=0.2610, acc=0.9200]\n"
     ]
    },
    {
     "name": "stdout",
     "output_type": "stream",
     "text": [
      "Avg Val Loss: 0.5336, Avg Val Acc: 0.8965 (Best)\n",
      "Current learning rate: [0.001, 0.001]\n",
      "Patience: 0/20\n"
     ]
    },
    {
     "name": "stderr",
     "output_type": "stream",
     "text": [
      "Epoch 62/500 (Training): 100%|██████████| 100/100 [00:12<00:00,  7.96it/s, loss=0.0368, acc=1.0000]\n"
     ]
    },
    {
     "name": "stdout",
     "output_type": "stream",
     "text": [
      "Avg Train Loss: 0.3878, Avg Train Acc: 0.9410 (Best)\n"
     ]
    },
    {
     "name": "stderr",
     "output_type": "stream",
     "text": [
      "Epoch 62/500 (Validation): 100%|██████████| 100/100 [00:09<00:00, 10.74it/s, loss=0.7786, acc=0.8533]\n"
     ]
    },
    {
     "name": "stdout",
     "output_type": "stream",
     "text": [
      "Avg Val Loss: 0.5315, Avg Val Acc: 0.8968 (Best)\n",
      "Current learning rate: [0.001, 0.001]\n",
      "Patience: 0/20\n"
     ]
    },
    {
     "name": "stderr",
     "output_type": "stream",
     "text": [
      "Epoch 63/500 (Training): 100%|██████████| 100/100 [00:12<00:00,  8.12it/s, loss=0.5678, acc=0.8933]\n"
     ]
    },
    {
     "name": "stdout",
     "output_type": "stream",
     "text": [
      "Avg Train Loss: 0.3838, Avg Train Acc: 0.9414 (Best)\n"
     ]
    },
    {
     "name": "stderr",
     "output_type": "stream",
     "text": [
      "Epoch 63/500 (Validation): 100%|██████████| 100/100 [00:09<00:00, 10.70it/s, loss=0.2675, acc=0.9067]\n"
     ]
    },
    {
     "name": "stdout",
     "output_type": "stream",
     "text": [
      "Avg Val Loss: 0.5306, Avg Val Acc: 0.8969 (Best)\n",
      "Current learning rate: [0.001, 0.001]\n",
      "Patience: 0/20\n"
     ]
    },
    {
     "name": "stderr",
     "output_type": "stream",
     "text": [
      "Epoch 64/500 (Training): 100%|██████████| 100/100 [00:11<00:00,  8.82it/s, loss=0.1540, acc=0.9600]\n"
     ]
    },
    {
     "name": "stdout",
     "output_type": "stream",
     "text": [
      "Avg Train Loss: 0.3803, Avg Train Acc: 0.9417 (Best)\n"
     ]
    },
    {
     "name": "stderr",
     "output_type": "stream",
     "text": [
      "Epoch 64/500 (Validation): 100%|██████████| 100/100 [00:09<00:00, 11.10it/s, loss=0.5489, acc=0.8933]\n"
     ]
    },
    {
     "name": "stdout",
     "output_type": "stream",
     "text": [
      "Avg Val Loss: 0.5298, Avg Val Acc: 0.8972 (Best)\n",
      "Current learning rate: [0.001, 0.001]\n",
      "Patience: 0/20\n"
     ]
    },
    {
     "name": "stderr",
     "output_type": "stream",
     "text": [
      "Epoch 65/500 (Training): 100%|██████████| 100/100 [00:14<00:00,  7.12it/s, loss=0.0579, acc=0.9867]\n"
     ]
    },
    {
     "name": "stdout",
     "output_type": "stream",
     "text": [
      "Avg Train Loss: 0.3782, Avg Train Acc: 0.9420 (Best)\n"
     ]
    },
    {
     "name": "stderr",
     "output_type": "stream",
     "text": [
      "Epoch 65/500 (Validation): 100%|██████████| 100/100 [00:09<00:00, 10.77it/s, loss=0.4742, acc=0.8000]\n"
     ]
    },
    {
     "name": "stdout",
     "output_type": "stream",
     "text": [
      "Avg Val Loss: 0.5287, Avg Val Acc: 0.8973 (Best)\n",
      "Current learning rate: [0.001, 0.001]\n",
      "Patience: 0/20\n"
     ]
    },
    {
     "name": "stderr",
     "output_type": "stream",
     "text": [
      "Epoch 66/500 (Training): 100%|██████████| 100/100 [00:12<00:00,  7.78it/s, loss=0.0232, acc=0.9867]\n"
     ]
    },
    {
     "name": "stdout",
     "output_type": "stream",
     "text": [
      "Avg Train Loss: 0.3751, Avg Train Acc: 0.9424 (Best)\n"
     ]
    },
    {
     "name": "stderr",
     "output_type": "stream",
     "text": [
      "Epoch 66/500 (Validation): 100%|██████████| 100/100 [00:09<00:00, 10.81it/s, loss=0.2961, acc=0.9467]\n"
     ]
    },
    {
     "name": "stdout",
     "output_type": "stream",
     "text": [
      "Avg Val Loss: 0.5281, Avg Val Acc: 0.8975 (Best)\n",
      "Current learning rate: [0.001, 0.001]\n",
      "Patience: 0/20\n"
     ]
    },
    {
     "name": "stderr",
     "output_type": "stream",
     "text": [
      "Epoch 67/500 (Training): 100%|██████████| 100/100 [00:12<00:00,  8.04it/s, loss=0.0518, acc=0.9733]\n"
     ]
    },
    {
     "name": "stdout",
     "output_type": "stream",
     "text": [
      "Avg Train Loss: 0.3717, Avg Train Acc: 0.9426 (Best)\n"
     ]
    },
    {
     "name": "stderr",
     "output_type": "stream",
     "text": [
      "Epoch 67/500 (Validation): 100%|██████████| 100/100 [00:09<00:00, 10.77it/s, loss=0.1267, acc=0.9600]\n"
     ]
    },
    {
     "name": "stdout",
     "output_type": "stream",
     "text": [
      "Avg Val Loss: 0.5262, Avg Val Acc: 0.8979 (Best)\n",
      "Current learning rate: [0.001, 0.001]\n",
      "Patience: 0/20\n"
     ]
    },
    {
     "name": "stderr",
     "output_type": "stream",
     "text": [
      "Epoch 68/500 (Training): 100%|██████████| 100/100 [00:13<00:00,  7.41it/s, loss=0.0201, acc=1.0000]\n"
     ]
    },
    {
     "name": "stdout",
     "output_type": "stream",
     "text": [
      "Avg Train Loss: 0.3683, Avg Train Acc: 0.9429 (Best)\n"
     ]
    },
    {
     "name": "stderr",
     "output_type": "stream",
     "text": [
      "Epoch 68/500 (Validation): 100%|██████████| 100/100 [00:09<00:00, 10.23it/s, loss=0.4079, acc=0.9200]\n"
     ]
    },
    {
     "name": "stdout",
     "output_type": "stream",
     "text": [
      "Avg Val Loss: 0.5245, Avg Val Acc: 0.8981 (Best)\n",
      "Current learning rate: [0.001, 0.001]\n",
      "Patience: 0/20\n"
     ]
    },
    {
     "name": "stderr",
     "output_type": "stream",
     "text": [
      "Epoch 69/500 (Training): 100%|██████████| 100/100 [00:12<00:00,  7.84it/s, loss=0.1168, acc=0.9600]\n"
     ]
    },
    {
     "name": "stdout",
     "output_type": "stream",
     "text": [
      "Avg Train Loss: 0.3651, Avg Train Acc: 0.9434 (Best)\n"
     ]
    },
    {
     "name": "stderr",
     "output_type": "stream",
     "text": [
      "Epoch 69/500 (Validation): 100%|██████████| 100/100 [00:09<00:00, 10.71it/s, loss=0.1644, acc=0.9600]\n"
     ]
    },
    {
     "name": "stdout",
     "output_type": "stream",
     "text": [
      "Avg Val Loss: 0.5237, Avg Val Acc: 0.8982 (Best)\n",
      "Current learning rate: [0.001, 0.001]\n",
      "Patience: 0/20\n"
     ]
    },
    {
     "name": "stderr",
     "output_type": "stream",
     "text": [
      "Epoch 70/500 (Training): 100%|██████████| 100/100 [00:11<00:00,  8.71it/s, loss=0.0845, acc=0.9733]\n"
     ]
    },
    {
     "name": "stdout",
     "output_type": "stream",
     "text": [
      "Avg Train Loss: 0.3617, Avg Train Acc: 0.9438 (Best)\n"
     ]
    },
    {
     "name": "stderr",
     "output_type": "stream",
     "text": [
      "Epoch 70/500 (Validation): 100%|██████████| 100/100 [00:09<00:00, 10.53it/s, loss=0.5692, acc=0.9067]\n"
     ]
    },
    {
     "name": "stdout",
     "output_type": "stream",
     "text": [
      "Avg Val Loss: 0.5223, Avg Val Acc: 0.8985 (Best)\n",
      "Current learning rate: [0.001, 0.001]\n",
      "Patience: 0/20\n"
     ]
    },
    {
     "name": "stderr",
     "output_type": "stream",
     "text": [
      "Epoch 71/500 (Training): 100%|██████████| 100/100 [00:12<00:00,  7.81it/s, loss=0.0061, acc=1.0000]\n"
     ]
    },
    {
     "name": "stdout",
     "output_type": "stream",
     "text": [
      "Avg Train Loss: 0.3584, Avg Train Acc: 0.9442 (Best)\n"
     ]
    },
    {
     "name": "stderr",
     "output_type": "stream",
     "text": [
      "Epoch 71/500 (Validation): 100%|██████████| 100/100 [00:09<00:00, 10.56it/s, loss=0.3467, acc=0.9333]\n"
     ]
    },
    {
     "name": "stdout",
     "output_type": "stream",
     "text": [
      "Avg Val Loss: 0.5214, Avg Val Acc: 0.8986 (Best)\n",
      "Current learning rate: [0.001, 0.001]\n",
      "Patience: 0/20\n"
     ]
    },
    {
     "name": "stderr",
     "output_type": "stream",
     "text": [
      "Epoch 72/500 (Training): 100%|██████████| 100/100 [00:13<00:00,  7.38it/s, loss=0.1445, acc=0.9600]\n"
     ]
    },
    {
     "name": "stdout",
     "output_type": "stream",
     "text": [
      "Avg Train Loss: 0.3554, Avg Train Acc: 0.9445 (Best)\n"
     ]
    },
    {
     "name": "stderr",
     "output_type": "stream",
     "text": [
      "Epoch 72/500 (Validation): 100%|██████████| 100/100 [00:08<00:00, 11.24it/s, loss=0.2343, acc=0.9067]\n"
     ]
    },
    {
     "name": "stdout",
     "output_type": "stream",
     "text": [
      "Avg Val Loss: 0.5198, Avg Val Acc: 0.8988 (Best)\n",
      "Current learning rate: [0.001, 0.001]\n",
      "Patience: 0/20\n"
     ]
    },
    {
     "name": "stderr",
     "output_type": "stream",
     "text": [
      "Epoch 73/500 (Training): 100%|██████████| 100/100 [00:14<00:00,  7.13it/s, loss=0.2077, acc=0.9600]\n"
     ]
    },
    {
     "name": "stdout",
     "output_type": "stream",
     "text": [
      "Avg Train Loss: 0.3521, Avg Train Acc: 0.9448 (Best)\n"
     ]
    },
    {
     "name": "stderr",
     "output_type": "stream",
     "text": [
      "Epoch 73/500 (Validation): 100%|██████████| 100/100 [00:09<00:00, 11.07it/s, loss=0.4409, acc=0.9200]\n"
     ]
    },
    {
     "name": "stdout",
     "output_type": "stream",
     "text": [
      "Avg Val Loss: 0.5187, Avg Val Acc: 0.8989 (Best)\n",
      "Current learning rate: [0.001, 0.001]\n",
      "Patience: 0/20\n"
     ]
    },
    {
     "name": "stderr",
     "output_type": "stream",
     "text": [
      "Epoch 74/500 (Training): 100%|██████████| 100/100 [00:13<00:00,  7.28it/s, loss=0.0297, acc=0.9867]\n"
     ]
    },
    {
     "name": "stdout",
     "output_type": "stream",
     "text": [
      "Avg Train Loss: 0.3490, Avg Train Acc: 0.9452 (Best)\n"
     ]
    },
    {
     "name": "stderr",
     "output_type": "stream",
     "text": [
      "Epoch 74/500 (Validation): 100%|██████████| 100/100 [00:09<00:00, 10.66it/s, loss=0.4678, acc=0.9333]\n"
     ]
    },
    {
     "name": "stdout",
     "output_type": "stream",
     "text": [
      "Avg Val Loss: 0.5186, Avg Val Acc: 0.8990 (Best)\n",
      "Current learning rate: [0.001, 0.001]\n",
      "Patience: 0/20\n"
     ]
    },
    {
     "name": "stderr",
     "output_type": "stream",
     "text": [
      "Epoch 75/500 (Training): 100%|██████████| 100/100 [00:13<00:00,  7.22it/s, loss=0.0084, acc=1.0000]\n"
     ]
    },
    {
     "name": "stdout",
     "output_type": "stream",
     "text": [
      "Avg Train Loss: 0.3460, Avg Train Acc: 0.9455 (Best)\n"
     ]
    },
    {
     "name": "stderr",
     "output_type": "stream",
     "text": [
      "Epoch 75/500 (Validation): 100%|██████████| 100/100 [00:08<00:00, 11.26it/s, loss=0.5568, acc=0.8000]\n"
     ]
    },
    {
     "name": "stdout",
     "output_type": "stream",
     "text": [
      "Avg Val Loss: 0.5172, Avg Val Acc: 0.8991 (Best)\n",
      "Current learning rate: [0.001, 0.001]\n",
      "Patience: 0/20\n"
     ]
    },
    {
     "name": "stderr",
     "output_type": "stream",
     "text": [
      "Epoch 76/500 (Training): 100%|██████████| 100/100 [00:14<00:00,  6.68it/s, loss=0.0145, acc=1.0000]\n"
     ]
    },
    {
     "name": "stdout",
     "output_type": "stream",
     "text": [
      "Avg Train Loss: 0.3431, Avg Train Acc: 0.9459 (Best)\n"
     ]
    },
    {
     "name": "stderr",
     "output_type": "stream",
     "text": [
      "Epoch 76/500 (Validation): 100%|██████████| 100/100 [00:09<00:00, 10.82it/s, loss=0.6089, acc=0.8533]\n"
     ]
    },
    {
     "name": "stdout",
     "output_type": "stream",
     "text": [
      "Avg Val Loss: 0.5162, Avg Val Acc: 0.8992 (Best)\n",
      "Current learning rate: [0.001, 0.001]\n",
      "Patience: 0/20\n"
     ]
    },
    {
     "name": "stderr",
     "output_type": "stream",
     "text": [
      "Epoch 77/500 (Training): 100%|██████████| 100/100 [00:13<00:00,  7.43it/s, loss=0.0002, acc=1.0000]\n"
     ]
    },
    {
     "name": "stdout",
     "output_type": "stream",
     "text": [
      "Avg Train Loss: 0.3404, Avg Train Acc: 0.9462 (Best)\n"
     ]
    },
    {
     "name": "stderr",
     "output_type": "stream",
     "text": [
      "Epoch 77/500 (Validation): 100%|██████████| 100/100 [00:09<00:00, 10.28it/s, loss=0.3192, acc=0.9333]\n"
     ]
    },
    {
     "name": "stdout",
     "output_type": "stream",
     "text": [
      "Avg Val Loss: 0.5147, Avg Val Acc: 0.8994 (Best)\n",
      "Current learning rate: [0.001, 0.001]\n",
      "Patience: 0/20\n"
     ]
    },
    {
     "name": "stderr",
     "output_type": "stream",
     "text": [
      "Epoch 78/500 (Training): 100%|██████████| 100/100 [00:13<00:00,  7.34it/s, loss=0.0340, acc=0.9867]\n"
     ]
    },
    {
     "name": "stdout",
     "output_type": "stream",
     "text": [
      "Avg Train Loss: 0.3375, Avg Train Acc: 0.9465 (Best)\n"
     ]
    },
    {
     "name": "stderr",
     "output_type": "stream",
     "text": [
      "Epoch 78/500 (Validation): 100%|██████████| 100/100 [00:08<00:00, 11.15it/s, loss=0.3362, acc=0.9200]\n"
     ]
    },
    {
     "name": "stdout",
     "output_type": "stream",
     "text": [
      "Avg Val Loss: 0.5128, Avg Val Acc: 0.8996 (Best)\n",
      "Current learning rate: [0.001, 0.001]\n",
      "Patience: 0/20\n"
     ]
    },
    {
     "name": "stderr",
     "output_type": "stream",
     "text": [
      "Epoch 79/500 (Training): 100%|██████████| 100/100 [00:12<00:00,  8.21it/s, loss=0.0111, acc=1.0000]\n"
     ]
    },
    {
     "name": "stdout",
     "output_type": "stream",
     "text": [
      "Avg Train Loss: 0.3346, Avg Train Acc: 0.9468 (Best)\n"
     ]
    },
    {
     "name": "stderr",
     "output_type": "stream",
     "text": [
      "Epoch 79/500 (Validation): 100%|██████████| 100/100 [00:09<00:00, 10.63it/s, loss=0.4022, acc=0.9333]\n"
     ]
    },
    {
     "name": "stdout",
     "output_type": "stream",
     "text": [
      "Avg Val Loss: 0.5116, Avg Val Acc: 0.8998 (Best)\n",
      "Current learning rate: [0.001, 0.001]\n",
      "Patience: 0/20\n"
     ]
    },
    {
     "name": "stderr",
     "output_type": "stream",
     "text": [
      "Epoch 80/500 (Training): 100%|██████████| 100/100 [00:13<00:00,  7.25it/s, loss=0.0086, acc=1.0000]\n"
     ]
    },
    {
     "name": "stdout",
     "output_type": "stream",
     "text": [
      "Avg Train Loss: 0.3317, Avg Train Acc: 0.9472 (Best)\n"
     ]
    },
    {
     "name": "stderr",
     "output_type": "stream",
     "text": [
      "Epoch 80/500 (Validation): 100%|██████████| 100/100 [00:09<00:00, 10.61it/s, loss=0.3479, acc=0.9600]\n"
     ]
    },
    {
     "name": "stdout",
     "output_type": "stream",
     "text": [
      "Avg Val Loss: 0.5105, Avg Val Acc: 0.9000 (Best)\n",
      "Current learning rate: [0.001, 0.001]\n",
      "Patience: 0/20\n"
     ]
    },
    {
     "name": "stderr",
     "output_type": "stream",
     "text": [
      "Epoch 81/500 (Training): 100%|██████████| 100/100 [00:12<00:00,  8.23it/s, loss=0.0898, acc=0.9733]\n"
     ]
    },
    {
     "name": "stdout",
     "output_type": "stream",
     "text": [
      "Avg Train Loss: 0.3288, Avg Train Acc: 0.9475 (Best)\n"
     ]
    },
    {
     "name": "stderr",
     "output_type": "stream",
     "text": [
      "Epoch 81/500 (Validation): 100%|██████████| 100/100 [00:10<00:00,  9.94it/s, loss=0.5527, acc=0.8800]\n"
     ]
    },
    {
     "name": "stdout",
     "output_type": "stream",
     "text": [
      "Avg Val Loss: 0.5111, Avg Val Acc: 0.9001 (Best)\n",
      "Current learning rate: [0.001, 0.001]\n",
      "Patience: 0/20\n"
     ]
    },
    {
     "name": "stderr",
     "output_type": "stream",
     "text": [
      "Epoch 82/500 (Training): 100%|██████████| 100/100 [00:14<00:00,  7.11it/s, loss=0.0893, acc=0.9867]\n"
     ]
    },
    {
     "name": "stdout",
     "output_type": "stream",
     "text": [
      "Avg Train Loss: 0.3258, Avg Train Acc: 0.9479 (Best)\n"
     ]
    },
    {
     "name": "stderr",
     "output_type": "stream",
     "text": [
      "Epoch 82/500 (Validation): 100%|██████████| 100/100 [00:09<00:00, 10.48it/s, loss=0.8325, acc=0.8667]\n"
     ]
    },
    {
     "name": "stdout",
     "output_type": "stream",
     "text": [
      "Avg Val Loss: 0.5116, Avg Val Acc: 0.9000 (Best: 0.9001)\n",
      "Current learning rate: [0.001, 0.001]\n",
      "Patience: 1/20\n"
     ]
    },
    {
     "name": "stderr",
     "output_type": "stream",
     "text": [
      "Epoch 83/500 (Training): 100%|██████████| 100/100 [00:10<00:00,  9.60it/s, loss=0.0455, acc=1.0000]\n"
     ]
    },
    {
     "name": "stdout",
     "output_type": "stream",
     "text": [
      "Avg Train Loss: 0.3232, Avg Train Acc: 0.9482 (Best)\n"
     ]
    },
    {
     "name": "stderr",
     "output_type": "stream",
     "text": [
      "Epoch 83/500 (Validation): 100%|██████████| 100/100 [00:09<00:00, 10.57it/s, loss=0.3116, acc=0.8933]\n"
     ]
    },
    {
     "name": "stdout",
     "output_type": "stream",
     "text": [
      "Avg Val Loss: 0.5115, Avg Val Acc: 0.9000 (Best: 0.9001)\n",
      "Current learning rate: [0.001, 0.001]\n",
      "Patience: 2/20\n"
     ]
    },
    {
     "name": "stderr",
     "output_type": "stream",
     "text": [
      "Epoch 84/500 (Training): 100%|██████████| 100/100 [00:13<00:00,  7.40it/s, loss=0.2150, acc=0.9333]\n"
     ]
    },
    {
     "name": "stdout",
     "output_type": "stream",
     "text": [
      "Avg Train Loss: 0.3206, Avg Train Acc: 0.9485 (Best)\n"
     ]
    },
    {
     "name": "stderr",
     "output_type": "stream",
     "text": [
      "Epoch 84/500 (Validation): 100%|██████████| 100/100 [00:09<00:00, 10.68it/s, loss=0.2685, acc=0.9200]\n"
     ]
    },
    {
     "name": "stdout",
     "output_type": "stream",
     "text": [
      "Avg Val Loss: 0.5102, Avg Val Acc: 0.9003 (Best)\n",
      "Current learning rate: [0.001, 0.001]\n",
      "Patience: 0/20\n"
     ]
    },
    {
     "name": "stderr",
     "output_type": "stream",
     "text": [
      "Epoch 85/500 (Training): 100%|██████████| 100/100 [00:11<00:00,  8.55it/s, loss=0.0913, acc=0.9733]\n"
     ]
    },
    {
     "name": "stdout",
     "output_type": "stream",
     "text": [
      "Avg Train Loss: 0.3179, Avg Train Acc: 0.9489 (Best)\n"
     ]
    },
    {
     "name": "stderr",
     "output_type": "stream",
     "text": [
      "Epoch 85/500 (Validation): 100%|██████████| 100/100 [00:09<00:00, 10.90it/s, loss=0.2540, acc=0.9600]\n"
     ]
    },
    {
     "name": "stdout",
     "output_type": "stream",
     "text": [
      "Avg Val Loss: 0.5103, Avg Val Acc: 0.9004 (Best)\n",
      "Current learning rate: [0.001, 0.001]\n",
      "Patience: 0/20\n"
     ]
    },
    {
     "name": "stderr",
     "output_type": "stream",
     "text": [
      "Epoch 86/500 (Training): 100%|██████████| 100/100 [00:11<00:00,  8.33it/s, loss=0.0189, acc=1.0000]\n"
     ]
    },
    {
     "name": "stdout",
     "output_type": "stream",
     "text": [
      "Avg Train Loss: 0.3155, Avg Train Acc: 0.9491 (Best)\n"
     ]
    },
    {
     "name": "stderr",
     "output_type": "stream",
     "text": [
      "Epoch 86/500 (Validation): 100%|██████████| 100/100 [00:08<00:00, 11.35it/s, loss=0.2322, acc=0.9733]\n"
     ]
    },
    {
     "name": "stdout",
     "output_type": "stream",
     "text": [
      "Avg Val Loss: 0.5093, Avg Val Acc: 0.9006 (Best)\n",
      "Current learning rate: [0.001, 0.001]\n",
      "Patience: 0/20\n"
     ]
    },
    {
     "name": "stderr",
     "output_type": "stream",
     "text": [
      "Epoch 87/500 (Training): 100%|██████████| 100/100 [00:11<00:00,  8.52it/s, loss=0.1480, acc=0.9600]\n"
     ]
    },
    {
     "name": "stdout",
     "output_type": "stream",
     "text": [
      "Avg Train Loss: 0.3130, Avg Train Acc: 0.9494 (Best)\n"
     ]
    },
    {
     "name": "stderr",
     "output_type": "stream",
     "text": [
      "Epoch 87/500 (Validation): 100%|██████████| 100/100 [00:09<00:00, 10.57it/s, loss=0.6521, acc=0.8400]\n"
     ]
    },
    {
     "name": "stdout",
     "output_type": "stream",
     "text": [
      "Avg Val Loss: 0.5086, Avg Val Acc: 0.9007 (Best)\n",
      "Current learning rate: [0.001, 0.001]\n",
      "Patience: 0/20\n"
     ]
    },
    {
     "name": "stderr",
     "output_type": "stream",
     "text": [
      "Epoch 88/500 (Training): 100%|██████████| 100/100 [00:13<00:00,  7.60it/s, loss=0.5806, acc=0.8133]\n"
     ]
    },
    {
     "name": "stdout",
     "output_type": "stream",
     "text": [
      "Avg Train Loss: 0.3105, Avg Train Acc: 0.9497 (Best)\n"
     ]
    },
    {
     "name": "stderr",
     "output_type": "stream",
     "text": [
      "Epoch 88/500 (Validation): 100%|██████████| 100/100 [00:09<00:00, 10.12it/s, loss=0.8136, acc=0.8267]\n"
     ]
    },
    {
     "name": "stdout",
     "output_type": "stream",
     "text": [
      "Avg Val Loss: 0.5077, Avg Val Acc: 0.9008 (Best)\n",
      "Current learning rate: [0.001, 0.001]\n",
      "Patience: 0/20\n"
     ]
    },
    {
     "name": "stderr",
     "output_type": "stream",
     "text": [
      "Epoch 89/500 (Training): 100%|██████████| 100/100 [00:12<00:00,  8.21it/s, loss=0.1283, acc=0.9600]\n"
     ]
    },
    {
     "name": "stdout",
     "output_type": "stream",
     "text": [
      "Avg Train Loss: 0.3085, Avg Train Acc: 0.9499 (Best)\n"
     ]
    },
    {
     "name": "stderr",
     "output_type": "stream",
     "text": [
      "Epoch 89/500 (Validation): 100%|██████████| 100/100 [00:09<00:00, 10.30it/s, loss=0.3752, acc=0.9467]\n"
     ]
    },
    {
     "name": "stdout",
     "output_type": "stream",
     "text": [
      "Avg Val Loss: 0.5072, Avg Val Acc: 0.9009 (Best)\n",
      "Current learning rate: [0.001, 0.001]\n",
      "Patience: 0/20\n"
     ]
    },
    {
     "name": "stderr",
     "output_type": "stream",
     "text": [
      "Epoch 90/500 (Training): 100%|██████████| 100/100 [00:11<00:00,  8.83it/s, loss=0.0228, acc=0.9867]\n"
     ]
    },
    {
     "name": "stdout",
     "output_type": "stream",
     "text": [
      "Avg Train Loss: 0.3061, Avg Train Acc: 0.9501 (Best)\n"
     ]
    },
    {
     "name": "stderr",
     "output_type": "stream",
     "text": [
      "Epoch 90/500 (Validation): 100%|██████████| 100/100 [00:09<00:00, 11.09it/s, loss=0.5078, acc=0.8933]\n"
     ]
    },
    {
     "name": "stdout",
     "output_type": "stream",
     "text": [
      "Avg Val Loss: 0.5065, Avg Val Acc: 0.9011 (Best)\n",
      "Current learning rate: [0.001, 0.001]\n",
      "Patience: 0/20\n"
     ]
    },
    {
     "name": "stderr",
     "output_type": "stream",
     "text": [
      "Epoch 91/500 (Training): 100%|██████████| 100/100 [00:12<00:00,  8.24it/s, loss=0.0739, acc=0.9733]\n"
     ]
    },
    {
     "name": "stdout",
     "output_type": "stream",
     "text": [
      "Avg Train Loss: 0.3038, Avg Train Acc: 0.9504 (Best)\n"
     ]
    },
    {
     "name": "stderr",
     "output_type": "stream",
     "text": [
      "Epoch 91/500 (Validation): 100%|██████████| 100/100 [00:09<00:00, 10.62it/s, loss=0.4759, acc=0.9200]\n"
     ]
    },
    {
     "name": "stdout",
     "output_type": "stream",
     "text": [
      "Avg Val Loss: 0.5066, Avg Val Acc: 0.9013 (Best)\n",
      "Current learning rate: [0.001, 0.001]\n",
      "Patience: 0/20\n"
     ]
    },
    {
     "name": "stderr",
     "output_type": "stream",
     "text": [
      "Epoch 92/500 (Training): 100%|██████████| 100/100 [00:12<00:00,  8.06it/s, loss=0.1913, acc=0.9733]\n"
     ]
    },
    {
     "name": "stdout",
     "output_type": "stream",
     "text": [
      "Avg Train Loss: 0.3015, Avg Train Acc: 0.9507 (Best)\n"
     ]
    },
    {
     "name": "stderr",
     "output_type": "stream",
     "text": [
      "Epoch 92/500 (Validation): 100%|██████████| 100/100 [00:09<00:00, 10.52it/s, loss=0.2048, acc=0.9333]\n"
     ]
    },
    {
     "name": "stdout",
     "output_type": "stream",
     "text": [
      "Avg Val Loss: 0.5056, Avg Val Acc: 0.9015 (Best)\n",
      "Current learning rate: [0.001, 0.001]\n",
      "Patience: 0/20\n"
     ]
    },
    {
     "name": "stderr",
     "output_type": "stream",
     "text": [
      "Epoch 93/500 (Training): 100%|██████████| 100/100 [00:12<00:00,  8.05it/s, loss=0.1327, acc=0.9600]\n"
     ]
    },
    {
     "name": "stdout",
     "output_type": "stream",
     "text": [
      "Avg Train Loss: 0.2992, Avg Train Acc: 0.9510 (Best)\n"
     ]
    },
    {
     "name": "stderr",
     "output_type": "stream",
     "text": [
      "Epoch 93/500 (Validation): 100%|██████████| 100/100 [00:08<00:00, 11.21it/s, loss=0.4064, acc=0.9333]\n"
     ]
    },
    {
     "name": "stdout",
     "output_type": "stream",
     "text": [
      "Avg Val Loss: 0.5056, Avg Val Acc: 0.9016 (Best)\n",
      "Current learning rate: [0.001, 0.001]\n",
      "Patience: 0/20\n"
     ]
    },
    {
     "name": "stderr",
     "output_type": "stream",
     "text": [
      "Epoch 94/500 (Training): 100%|██████████| 100/100 [00:13<00:00,  7.40it/s, loss=0.0328, acc=1.0000]\n"
     ]
    },
    {
     "name": "stdout",
     "output_type": "stream",
     "text": [
      "Avg Train Loss: 0.2968, Avg Train Acc: 0.9513 (Best)\n"
     ]
    },
    {
     "name": "stderr",
     "output_type": "stream",
     "text": [
      "Epoch 94/500 (Validation): 100%|██████████| 100/100 [00:09<00:00, 10.91it/s, loss=0.7024, acc=0.8533]\n"
     ]
    },
    {
     "name": "stdout",
     "output_type": "stream",
     "text": [
      "Avg Val Loss: 0.5053, Avg Val Acc: 0.9016 (Best)\n",
      "Current learning rate: [0.001, 0.001]\n",
      "Patience: 0/20\n"
     ]
    },
    {
     "name": "stderr",
     "output_type": "stream",
     "text": [
      "Epoch 95/500 (Training): 100%|██████████| 100/100 [00:13<00:00,  7.66it/s, loss=0.2144, acc=0.9200]\n"
     ]
    },
    {
     "name": "stdout",
     "output_type": "stream",
     "text": [
      "Avg Train Loss: 0.2945, Avg Train Acc: 0.9516 (Best)\n"
     ]
    },
    {
     "name": "stderr",
     "output_type": "stream",
     "text": [
      "Epoch 95/500 (Validation): 100%|██████████| 100/100 [00:08<00:00, 11.16it/s, loss=0.3455, acc=0.9467]\n"
     ]
    },
    {
     "name": "stdout",
     "output_type": "stream",
     "text": [
      "Avg Val Loss: 0.5048, Avg Val Acc: 0.9018 (Best)\n",
      "Current learning rate: [0.001, 0.001]\n",
      "Patience: 0/20\n"
     ]
    },
    {
     "name": "stderr",
     "output_type": "stream",
     "text": [
      "Epoch 96/500 (Training): 100%|██████████| 100/100 [00:13<00:00,  7.62it/s, loss=0.0077, acc=1.0000]\n"
     ]
    },
    {
     "name": "stdout",
     "output_type": "stream",
     "text": [
      "Avg Train Loss: 0.2924, Avg Train Acc: 0.9519 (Best)\n"
     ]
    },
    {
     "name": "stderr",
     "output_type": "stream",
     "text": [
      "Epoch 96/500 (Validation): 100%|██████████| 100/100 [00:09<00:00, 10.80it/s, loss=0.9629, acc=0.9200]\n"
     ]
    },
    {
     "name": "stdout",
     "output_type": "stream",
     "text": [
      "Avg Val Loss: 0.5058, Avg Val Acc: 0.9018 (Best)\n",
      "Current learning rate: [0.001, 0.001]\n",
      "Patience: 0/20\n"
     ]
    },
    {
     "name": "stderr",
     "output_type": "stream",
     "text": [
      "Epoch 97/500 (Training): 100%|██████████| 100/100 [00:12<00:00,  8.01it/s, loss=0.0439, acc=0.9867]\n"
     ]
    },
    {
     "name": "stdout",
     "output_type": "stream",
     "text": [
      "Avg Train Loss: 0.2902, Avg Train Acc: 0.9521 (Best)\n"
     ]
    },
    {
     "name": "stderr",
     "output_type": "stream",
     "text": [
      "Epoch 97/500 (Validation): 100%|██████████| 100/100 [00:08<00:00, 11.17it/s, loss=0.6659, acc=0.8667]\n"
     ]
    },
    {
     "name": "stdout",
     "output_type": "stream",
     "text": [
      "Avg Val Loss: 0.5057, Avg Val Acc: 0.9019 (Best)\n",
      "Current learning rate: [0.001, 0.001]\n",
      "Patience: 0/20\n"
     ]
    },
    {
     "name": "stderr",
     "output_type": "stream",
     "text": [
      "Epoch 98/500 (Training): 100%|██████████| 100/100 [00:12<00:00,  7.86it/s, loss=0.1275, acc=0.9733]\n"
     ]
    },
    {
     "name": "stdout",
     "output_type": "stream",
     "text": [
      "Avg Train Loss: 0.2883, Avg Train Acc: 0.9524 (Best)\n"
     ]
    },
    {
     "name": "stderr",
     "output_type": "stream",
     "text": [
      "Epoch 98/500 (Validation): 100%|██████████| 100/100 [00:09<00:00, 10.81it/s, loss=0.4112, acc=0.9600]\n"
     ]
    },
    {
     "name": "stdout",
     "output_type": "stream",
     "text": [
      "Avg Val Loss: 0.5053, Avg Val Acc: 0.9020 (Best)\n",
      "Current learning rate: [0.001, 0.001]\n",
      "Patience: 0/20\n"
     ]
    },
    {
     "name": "stderr",
     "output_type": "stream",
     "text": [
      "Epoch 99/500 (Training): 100%|██████████| 100/100 [00:13<00:00,  7.64it/s, loss=0.0018, acc=1.0000]\n"
     ]
    },
    {
     "name": "stdout",
     "output_type": "stream",
     "text": [
      "Avg Train Loss: 0.2863, Avg Train Acc: 0.9526 (Best)\n"
     ]
    },
    {
     "name": "stderr",
     "output_type": "stream",
     "text": [
      "Epoch 99/500 (Validation): 100%|██████████| 100/100 [00:09<00:00, 11.00it/s, loss=0.3721, acc=0.9333]\n"
     ]
    },
    {
     "name": "stdout",
     "output_type": "stream",
     "text": [
      "Avg Val Loss: 0.5057, Avg Val Acc: 0.9022 (Best)\n",
      "Current learning rate: [0.001, 0.001]\n",
      "Patience: 0/20\n"
     ]
    },
    {
     "name": "stderr",
     "output_type": "stream",
     "text": [
      "Epoch 100/500 (Training): 100%|██████████| 100/100 [00:13<00:00,  7.51it/s, loss=0.0002, acc=1.0000]\n"
     ]
    },
    {
     "name": "stdout",
     "output_type": "stream",
     "text": [
      "Avg Train Loss: 0.2840, Avg Train Acc: 0.9530 (Best)\n"
     ]
    },
    {
     "name": "stderr",
     "output_type": "stream",
     "text": [
      "Epoch 100/500 (Validation): 100%|██████████| 100/100 [00:09<00:00, 10.98it/s, loss=0.4509, acc=0.9467]\n"
     ]
    },
    {
     "name": "stdout",
     "output_type": "stream",
     "text": [
      "Avg Val Loss: 0.5064, Avg Val Acc: 0.9023 (Best)\n",
      "Current learning rate: [0.001, 0.001]\n",
      "Patience: 0/20\n"
     ]
    },
    {
     "name": "stderr",
     "output_type": "stream",
     "text": [
      "Epoch 101/500 (Training): 100%|██████████| 100/100 [00:12<00:00,  8.13it/s, loss=0.0580, acc=0.9867]\n"
     ]
    },
    {
     "name": "stdout",
     "output_type": "stream",
     "text": [
      "Avg Train Loss: 0.2820, Avg Train Acc: 0.9532 (Best)\n"
     ]
    },
    {
     "name": "stderr",
     "output_type": "stream",
     "text": [
      "Epoch 101/500 (Validation): 100%|██████████| 100/100 [00:09<00:00, 10.86it/s, loss=0.4461, acc=0.9333]\n"
     ]
    },
    {
     "name": "stdout",
     "output_type": "stream",
     "text": [
      "Avg Val Loss: 0.5060, Avg Val Acc: 0.9024 (Best)\n",
      "Current learning rate: [0.001, 0.001]\n",
      "Patience: 0/20\n"
     ]
    },
    {
     "name": "stderr",
     "output_type": "stream",
     "text": [
      "Epoch 102/500 (Training): 100%|██████████| 100/100 [00:13<00:00,  7.64it/s, loss=0.0369, acc=0.9867]\n"
     ]
    },
    {
     "name": "stdout",
     "output_type": "stream",
     "text": [
      "Avg Train Loss: 0.2799, Avg Train Acc: 0.9535 (Best)\n"
     ]
    },
    {
     "name": "stderr",
     "output_type": "stream",
     "text": [
      "Epoch 102/500 (Validation): 100%|██████████| 100/100 [00:09<00:00, 10.93it/s, loss=0.4582, acc=0.8667]\n"
     ]
    },
    {
     "name": "stdout",
     "output_type": "stream",
     "text": [
      "Avg Val Loss: 0.5047, Avg Val Acc: 0.9027 (Best)\n",
      "Current learning rate: [0.001, 0.001]\n",
      "Patience: 0/20\n"
     ]
    },
    {
     "name": "stderr",
     "output_type": "stream",
     "text": [
      "Epoch 103/500 (Training): 100%|██████████| 100/100 [00:12<00:00,  8.08it/s, loss=0.0000, acc=1.0000]\n"
     ]
    },
    {
     "name": "stdout",
     "output_type": "stream",
     "text": [
      "Avg Train Loss: 0.2780, Avg Train Acc: 0.9537 (Best)\n"
     ]
    },
    {
     "name": "stderr",
     "output_type": "stream",
     "text": [
      "Epoch 103/500 (Validation): 100%|██████████| 100/100 [00:09<00:00, 10.40it/s, loss=0.2995, acc=0.9600]\n"
     ]
    },
    {
     "name": "stdout",
     "output_type": "stream",
     "text": [
      "Avg Val Loss: 0.5046, Avg Val Acc: 0.9028 (Best)\n",
      "Current learning rate: [0.001, 0.001]\n",
      "Patience: 0/20\n"
     ]
    },
    {
     "name": "stderr",
     "output_type": "stream",
     "text": [
      "Epoch 104/500 (Training): 100%|██████████| 100/100 [00:13<00:00,  7.59it/s, loss=0.0917, acc=0.9467]\n"
     ]
    },
    {
     "name": "stdout",
     "output_type": "stream",
     "text": [
      "Avg Train Loss: 0.2760, Avg Train Acc: 0.9540 (Best)\n"
     ]
    },
    {
     "name": "stderr",
     "output_type": "stream",
     "text": [
      "Epoch 104/500 (Validation): 100%|██████████| 100/100 [00:08<00:00, 11.13it/s, loss=0.7069, acc=0.9600]\n"
     ]
    },
    {
     "name": "stdout",
     "output_type": "stream",
     "text": [
      "Avg Val Loss: 0.5058, Avg Val Acc: 0.9030 (Best)\n",
      "Current learning rate: [0.001, 0.001]\n",
      "Patience: 0/20\n"
     ]
    },
    {
     "name": "stderr",
     "output_type": "stream",
     "text": [
      "Epoch 105/500 (Training): 100%|██████████| 100/100 [00:13<00:00,  7.62it/s, loss=0.0516, acc=0.9867]\n"
     ]
    },
    {
     "name": "stdout",
     "output_type": "stream",
     "text": [
      "Avg Train Loss: 0.2741, Avg Train Acc: 0.9542 (Best)\n"
     ]
    },
    {
     "name": "stderr",
     "output_type": "stream",
     "text": [
      "Epoch 105/500 (Validation): 100%|██████████| 100/100 [00:09<00:00, 10.74it/s, loss=0.2129, acc=0.9467]\n"
     ]
    },
    {
     "name": "stdout",
     "output_type": "stream",
     "text": [
      "Avg Val Loss: 0.5055, Avg Val Acc: 0.9030 (Best)\n",
      "Current learning rate: [0.001, 0.001]\n",
      "Patience: 0/20\n"
     ]
    },
    {
     "name": "stderr",
     "output_type": "stream",
     "text": [
      "Epoch 106/500 (Training): 100%|██████████| 100/100 [00:12<00:00,  8.14it/s, loss=0.0347, acc=0.9867]\n"
     ]
    },
    {
     "name": "stdout",
     "output_type": "stream",
     "text": [
      "Avg Train Loss: 0.2722, Avg Train Acc: 0.9544 (Best)\n"
     ]
    },
    {
     "name": "stderr",
     "output_type": "stream",
     "text": [
      "Epoch 106/500 (Validation): 100%|██████████| 100/100 [00:09<00:00, 10.58it/s, loss=0.4577, acc=0.9333]\n"
     ]
    },
    {
     "name": "stdout",
     "output_type": "stream",
     "text": [
      "Avg Val Loss: 0.5042, Avg Val Acc: 0.9032 (Best)\n",
      "Current learning rate: [0.001, 0.001]\n",
      "Patience: 0/20\n"
     ]
    },
    {
     "name": "stderr",
     "output_type": "stream",
     "text": [
      "Epoch 107/500 (Training): 100%|██████████| 100/100 [00:12<00:00,  7.92it/s, loss=0.0075, acc=1.0000]\n"
     ]
    },
    {
     "name": "stdout",
     "output_type": "stream",
     "text": [
      "Avg Train Loss: 0.2705, Avg Train Acc: 0.9547 (Best)\n"
     ]
    },
    {
     "name": "stderr",
     "output_type": "stream",
     "text": [
      "Epoch 107/500 (Validation): 100%|██████████| 100/100 [00:09<00:00, 10.30it/s, loss=0.3040, acc=0.9333]\n"
     ]
    },
    {
     "name": "stdout",
     "output_type": "stream",
     "text": [
      "Avg Val Loss: 0.5036, Avg Val Acc: 0.9034 (Best)\n",
      "Current learning rate: [0.001, 0.001]\n",
      "Patience: 0/20\n"
     ]
    },
    {
     "name": "stderr",
     "output_type": "stream",
     "text": [
      "Epoch 108/500 (Training): 100%|██████████| 100/100 [00:11<00:00,  8.57it/s, loss=0.3619, acc=0.9067]\n"
     ]
    },
    {
     "name": "stdout",
     "output_type": "stream",
     "text": [
      "Avg Train Loss: 0.2686, Avg Train Acc: 0.9549 (Best)\n"
     ]
    },
    {
     "name": "stderr",
     "output_type": "stream",
     "text": [
      "Epoch 108/500 (Validation): 100%|██████████| 100/100 [00:09<00:00, 10.78it/s, loss=0.5165, acc=0.8800]\n"
     ]
    },
    {
     "name": "stdout",
     "output_type": "stream",
     "text": [
      "Avg Val Loss: 0.5024, Avg Val Acc: 0.9035 (Best)\n",
      "Current learning rate: [0.001, 0.001]\n",
      "Patience: 0/20\n"
     ]
    },
    {
     "name": "stderr",
     "output_type": "stream",
     "text": [
      "Epoch 109/500 (Training): 100%|██████████| 100/100 [00:12<00:00,  7.72it/s, loss=0.1418, acc=0.9733]\n"
     ]
    },
    {
     "name": "stdout",
     "output_type": "stream",
     "text": [
      "Avg Train Loss: 0.2668, Avg Train Acc: 0.9551 (Best)\n"
     ]
    },
    {
     "name": "stderr",
     "output_type": "stream",
     "text": [
      "Epoch 109/500 (Validation): 100%|██████████| 100/100 [00:09<00:00, 10.58it/s, loss=0.3657, acc=0.9333]\n"
     ]
    },
    {
     "name": "stdout",
     "output_type": "stream",
     "text": [
      "Avg Val Loss: 0.5018, Avg Val Acc: 0.9036 (Best)\n",
      "Current learning rate: [0.001, 0.001]\n",
      "Patience: 0/20\n"
     ]
    },
    {
     "name": "stderr",
     "output_type": "stream",
     "text": [
      "Epoch 110/500 (Training): 100%|██████████| 100/100 [00:13<00:00,  7.23it/s, loss=0.0751, acc=0.9867]\n"
     ]
    },
    {
     "name": "stdout",
     "output_type": "stream",
     "text": [
      "Avg Train Loss: 0.2650, Avg Train Acc: 0.9554 (Best)\n"
     ]
    },
    {
     "name": "stderr",
     "output_type": "stream",
     "text": [
      "Epoch 110/500 (Validation): 100%|██████████| 100/100 [00:09<00:00, 10.37it/s, loss=0.3332, acc=0.8267]\n"
     ]
    },
    {
     "name": "stdout",
     "output_type": "stream",
     "text": [
      "Avg Val Loss: 0.5012, Avg Val Acc: 0.9038 (Best)\n",
      "Current learning rate: [0.001, 0.001]\n",
      "Patience: 0/20\n"
     ]
    },
    {
     "name": "stderr",
     "output_type": "stream",
     "text": [
      "Epoch 111/500 (Training): 100%|██████████| 100/100 [00:12<00:00,  7.73it/s, loss=0.1081, acc=0.9600]\n"
     ]
    },
    {
     "name": "stdout",
     "output_type": "stream",
     "text": [
      "Avg Train Loss: 0.2633, Avg Train Acc: 0.9556 (Best)\n"
     ]
    },
    {
     "name": "stderr",
     "output_type": "stream",
     "text": [
      "Epoch 111/500 (Validation): 100%|██████████| 100/100 [00:09<00:00, 10.68it/s, loss=0.8939, acc=0.8800]\n"
     ]
    },
    {
     "name": "stdout",
     "output_type": "stream",
     "text": [
      "Avg Val Loss: 0.5017, Avg Val Acc: 0.9038 (Best)\n",
      "Current learning rate: [0.001, 0.001]\n",
      "Patience: 0/20\n"
     ]
    },
    {
     "name": "stderr",
     "output_type": "stream",
     "text": [
      "Epoch 112/500 (Training): 100%|██████████| 100/100 [00:13<00:00,  7.51it/s, loss=0.0310, acc=0.9867]\n"
     ]
    },
    {
     "name": "stdout",
     "output_type": "stream",
     "text": [
      "Avg Train Loss: 0.2615, Avg Train Acc: 0.9559 (Best)\n"
     ]
    },
    {
     "name": "stderr",
     "output_type": "stream",
     "text": [
      "Epoch 112/500 (Validation): 100%|██████████| 100/100 [00:09<00:00, 10.24it/s, loss=0.8979, acc=0.8933]\n"
     ]
    },
    {
     "name": "stdout",
     "output_type": "stream",
     "text": [
      "Avg Val Loss: 0.5021, Avg Val Acc: 0.9039 (Best)\n",
      "Current learning rate: [0.001, 0.001]\n",
      "Patience: 0/20\n"
     ]
    },
    {
     "name": "stderr",
     "output_type": "stream",
     "text": [
      "Epoch 113/500 (Training): 100%|██████████| 100/100 [00:12<00:00,  8.06it/s, loss=0.0387, acc=1.0000]\n"
     ]
    },
    {
     "name": "stdout",
     "output_type": "stream",
     "text": [
      "Avg Train Loss: 0.2597, Avg Train Acc: 0.9561 (Best)\n"
     ]
    },
    {
     "name": "stderr",
     "output_type": "stream",
     "text": [
      "Epoch 113/500 (Validation): 100%|██████████| 100/100 [00:08<00:00, 11.12it/s, loss=0.2081, acc=0.9600]\n"
     ]
    },
    {
     "name": "stdout",
     "output_type": "stream",
     "text": [
      "Avg Val Loss: 0.5021, Avg Val Acc: 0.9039 (Best)\n",
      "Current learning rate: [0.001, 0.001]\n",
      "Patience: 0/20\n"
     ]
    },
    {
     "name": "stderr",
     "output_type": "stream",
     "text": [
      "Epoch 114/500 (Training): 100%|██████████| 100/100 [00:11<00:00,  8.55it/s, loss=0.1343, acc=0.9467]\n"
     ]
    },
    {
     "name": "stdout",
     "output_type": "stream",
     "text": [
      "Avg Train Loss: 0.2578, Avg Train Acc: 0.9564 (Best)\n"
     ]
    },
    {
     "name": "stderr",
     "output_type": "stream",
     "text": [
      "Epoch 114/500 (Validation): 100%|██████████| 100/100 [00:09<00:00, 10.55it/s, loss=0.2896, acc=0.9600]\n"
     ]
    },
    {
     "name": "stdout",
     "output_type": "stream",
     "text": [
      "Avg Val Loss: 0.5023, Avg Val Acc: 0.9040 (Best)\n",
      "Current learning rate: [0.001, 0.001]\n",
      "Patience: 0/20\n"
     ]
    },
    {
     "name": "stderr",
     "output_type": "stream",
     "text": [
      "Epoch 115/500 (Training): 100%|██████████| 100/100 [00:10<00:00,  9.32it/s, loss=0.0003, acc=1.0000]\n"
     ]
    },
    {
     "name": "stdout",
     "output_type": "stream",
     "text": [
      "Avg Train Loss: 0.2560, Avg Train Acc: 0.9566 (Best)\n"
     ]
    },
    {
     "name": "stderr",
     "output_type": "stream",
     "text": [
      "Epoch 115/500 (Validation): 100%|██████████| 100/100 [00:08<00:00, 11.60it/s, loss=0.3800, acc=0.8667]\n"
     ]
    },
    {
     "name": "stdout",
     "output_type": "stream",
     "text": [
      "Avg Val Loss: 0.5017, Avg Val Acc: 0.9042 (Best)\n",
      "Current learning rate: [0.001, 0.001]\n",
      "Patience: 0/20\n"
     ]
    },
    {
     "name": "stderr",
     "output_type": "stream",
     "text": [
      "Epoch 116/500 (Training): 100%|██████████| 100/100 [00:11<00:00,  8.68it/s, loss=0.0000, acc=1.0000]\n"
     ]
    },
    {
     "name": "stdout",
     "output_type": "stream",
     "text": [
      "Avg Train Loss: 0.2542, Avg Train Acc: 0.9569 (Best)\n"
     ]
    },
    {
     "name": "stderr",
     "output_type": "stream",
     "text": [
      "Epoch 116/500 (Validation): 100%|██████████| 100/100 [00:09<00:00, 10.72it/s, loss=0.3478, acc=0.9200]\n"
     ]
    },
    {
     "name": "stdout",
     "output_type": "stream",
     "text": [
      "Avg Val Loss: 0.5013, Avg Val Acc: 0.9043 (Best)\n",
      "Current learning rate: [0.001, 0.001]\n",
      "Patience: 0/20\n"
     ]
    },
    {
     "name": "stderr",
     "output_type": "stream",
     "text": [
      "Epoch 117/500 (Training): 100%|██████████| 100/100 [00:11<00:00,  8.59it/s, loss=0.0771, acc=1.0000]\n"
     ]
    },
    {
     "name": "stdout",
     "output_type": "stream",
     "text": [
      "Avg Train Loss: 0.2524, Avg Train Acc: 0.9571 (Best)\n"
     ]
    },
    {
     "name": "stderr",
     "output_type": "stream",
     "text": [
      "Epoch 117/500 (Validation): 100%|██████████| 100/100 [00:09<00:00, 10.20it/s, loss=0.4116, acc=0.9200]\n"
     ]
    },
    {
     "name": "stdout",
     "output_type": "stream",
     "text": [
      "Avg Val Loss: 0.5010, Avg Val Acc: 0.9045 (Best)\n",
      "Current learning rate: [0.001, 0.001]\n",
      "Patience: 0/20\n"
     ]
    },
    {
     "name": "stderr",
     "output_type": "stream",
     "text": [
      "Epoch 118/500 (Training): 100%|██████████| 100/100 [00:13<00:00,  7.67it/s, loss=0.0896, acc=0.9600]\n"
     ]
    },
    {
     "name": "stdout",
     "output_type": "stream",
     "text": [
      "Avg Train Loss: 0.2507, Avg Train Acc: 0.9573 (Best)\n"
     ]
    },
    {
     "name": "stderr",
     "output_type": "stream",
     "text": [
      "Epoch 118/500 (Validation): 100%|██████████| 100/100 [00:09<00:00, 11.11it/s, loss=0.8155, acc=0.8267]\n"
     ]
    },
    {
     "name": "stdout",
     "output_type": "stream",
     "text": [
      "Avg Val Loss: 0.5014, Avg Val Acc: 0.9045 (Best)\n",
      "Current learning rate: [0.001, 0.001]\n",
      "Patience: 0/20\n"
     ]
    },
    {
     "name": "stderr",
     "output_type": "stream",
     "text": [
      "Epoch 119/500 (Training): 100%|██████████| 100/100 [00:11<00:00,  8.34it/s, loss=0.1057, acc=0.9867]\n"
     ]
    },
    {
     "name": "stdout",
     "output_type": "stream",
     "text": [
      "Avg Train Loss: 0.2493, Avg Train Acc: 0.9575 (Best)\n"
     ]
    },
    {
     "name": "stderr",
     "output_type": "stream",
     "text": [
      "Epoch 119/500 (Validation): 100%|██████████| 100/100 [00:09<00:00, 11.00it/s, loss=1.1100, acc=0.8667]\n"
     ]
    },
    {
     "name": "stdout",
     "output_type": "stream",
     "text": [
      "Avg Val Loss: 0.5014, Avg Val Acc: 0.9047 (Best)\n",
      "Current learning rate: [0.001, 0.001]\n",
      "Patience: 0/20\n"
     ]
    },
    {
     "name": "stderr",
     "output_type": "stream",
     "text": [
      "Epoch 120/500 (Training): 100%|██████████| 100/100 [00:12<00:00,  7.72it/s, loss=0.0000, acc=1.0000]\n"
     ]
    },
    {
     "name": "stdout",
     "output_type": "stream",
     "text": [
      "Avg Train Loss: 0.2479, Avg Train Acc: 0.9577 (Best)\n"
     ]
    },
    {
     "name": "stderr",
     "output_type": "stream",
     "text": [
      "Epoch 120/500 (Validation): 100%|██████████| 100/100 [00:09<00:00, 10.70it/s, loss=0.2245, acc=0.9200]\n"
     ]
    },
    {
     "name": "stdout",
     "output_type": "stream",
     "text": [
      "Avg Val Loss: 0.5021, Avg Val Acc: 0.9048 (Best)\n",
      "Current learning rate: [0.001, 0.001]\n",
      "Patience: 0/20\n"
     ]
    },
    {
     "name": "stderr",
     "output_type": "stream",
     "text": [
      "Epoch 121/500 (Training): 100%|██████████| 100/100 [00:13<00:00,  7.52it/s, loss=0.0025, acc=1.0000]\n"
     ]
    },
    {
     "name": "stdout",
     "output_type": "stream",
     "text": [
      "Avg Train Loss: 0.2464, Avg Train Acc: 0.9579 (Best)\n"
     ]
    },
    {
     "name": "stderr",
     "output_type": "stream",
     "text": [
      "Epoch 121/500 (Validation): 100%|██████████| 100/100 [00:09<00:00, 10.18it/s, loss=0.4056, acc=0.9067]\n"
     ]
    },
    {
     "name": "stdout",
     "output_type": "stream",
     "text": [
      "Avg Val Loss: 0.5017, Avg Val Acc: 0.9048 (Best)\n",
      "Current learning rate: [0.001, 0.001]\n",
      "Patience: 0/20\n"
     ]
    },
    {
     "name": "stderr",
     "output_type": "stream",
     "text": [
      "Epoch 122/500 (Training): 100%|██████████| 100/100 [00:13<00:00,  7.55it/s, loss=0.0077, acc=1.0000]\n"
     ]
    },
    {
     "name": "stdout",
     "output_type": "stream",
     "text": [
      "Avg Train Loss: 0.2449, Avg Train Acc: 0.9581 (Best)\n"
     ]
    },
    {
     "name": "stderr",
     "output_type": "stream",
     "text": [
      "Epoch 122/500 (Validation): 100%|██████████| 100/100 [00:09<00:00, 11.00it/s, loss=0.2116, acc=0.9600]\n"
     ]
    },
    {
     "name": "stdout",
     "output_type": "stream",
     "text": [
      "Avg Val Loss: 0.5014, Avg Val Acc: 0.9050 (Best)\n",
      "Current learning rate: [0.001, 0.001]\n",
      "Patience: 0/20\n"
     ]
    },
    {
     "name": "stderr",
     "output_type": "stream",
     "text": [
      "Epoch 123/500 (Training): 100%|██████████| 100/100 [00:13<00:00,  7.45it/s, loss=0.1709, acc=0.9733]\n"
     ]
    },
    {
     "name": "stdout",
     "output_type": "stream",
     "text": [
      "Avg Train Loss: 0.2435, Avg Train Acc: 0.9583 (Best)\n"
     ]
    },
    {
     "name": "stderr",
     "output_type": "stream",
     "text": [
      "Epoch 123/500 (Validation): 100%|██████████| 100/100 [00:09<00:00, 11.06it/s, loss=0.4958, acc=0.9333]\n"
     ]
    },
    {
     "name": "stdout",
     "output_type": "stream",
     "text": [
      "Avg Val Loss: 0.5015, Avg Val Acc: 0.9051 (Best)\n",
      "Current learning rate: [0.001, 0.001]\n",
      "Patience: 0/20\n"
     ]
    },
    {
     "name": "stderr",
     "output_type": "stream",
     "text": [
      "Epoch 124/500 (Training): 100%|██████████| 100/100 [00:12<00:00,  8.03it/s, loss=0.1278, acc=0.9733]\n"
     ]
    },
    {
     "name": "stdout",
     "output_type": "stream",
     "text": [
      "Avg Train Loss: 0.2422, Avg Train Acc: 0.9584 (Best)\n"
     ]
    },
    {
     "name": "stderr",
     "output_type": "stream",
     "text": [
      "Epoch 124/500 (Validation): 100%|██████████| 100/100 [00:09<00:00, 10.97it/s, loss=0.4418, acc=0.9067]\n"
     ]
    },
    {
     "name": "stdout",
     "output_type": "stream",
     "text": [
      "Avg Val Loss: 0.5018, Avg Val Acc: 0.9052 (Best)\n",
      "Current learning rate: [0.001, 0.001]\n",
      "Patience: 0/20\n"
     ]
    },
    {
     "name": "stderr",
     "output_type": "stream",
     "text": [
      "Epoch 125/500 (Training): 100%|██████████| 100/100 [00:13<00:00,  7.61it/s, loss=0.3309, acc=0.8933]\n"
     ]
    },
    {
     "name": "stdout",
     "output_type": "stream",
     "text": [
      "Avg Train Loss: 0.2407, Avg Train Acc: 0.9587 (Best)\n"
     ]
    },
    {
     "name": "stderr",
     "output_type": "stream",
     "text": [
      "Epoch 125/500 (Validation): 100%|██████████| 100/100 [00:09<00:00, 10.47it/s, loss=0.3090, acc=0.9200]\n"
     ]
    },
    {
     "name": "stdout",
     "output_type": "stream",
     "text": [
      "Avg Val Loss: 0.5021, Avg Val Acc: 0.9053 (Best)\n",
      "Current learning rate: [0.001, 0.001]\n",
      "Patience: 0/20\n"
     ]
    },
    {
     "name": "stderr",
     "output_type": "stream",
     "text": [
      "Epoch 126/500 (Training): 100%|██████████| 100/100 [00:12<00:00,  7.87it/s, loss=0.0000, acc=1.0000]\n"
     ]
    },
    {
     "name": "stdout",
     "output_type": "stream",
     "text": [
      "Avg Train Loss: 0.2393, Avg Train Acc: 0.9589 (Best)\n"
     ]
    },
    {
     "name": "stderr",
     "output_type": "stream",
     "text": [
      "Epoch 126/500 (Validation): 100%|██████████| 100/100 [00:09<00:00, 10.11it/s, loss=0.4156, acc=0.8800]\n"
     ]
    },
    {
     "name": "stdout",
     "output_type": "stream",
     "text": [
      "Avg Val Loss: 0.5025, Avg Val Acc: 0.9053 (Best: 0.9053)\n",
      "Current learning rate: [0.001, 0.001]\n",
      "Patience: 1/20\n"
     ]
    },
    {
     "name": "stderr",
     "output_type": "stream",
     "text": [
      "Epoch 127/500 (Training): 100%|██████████| 100/100 [00:11<00:00,  8.92it/s, loss=0.0524, acc=0.9867]\n"
     ]
    },
    {
     "name": "stdout",
     "output_type": "stream",
     "text": [
      "Avg Train Loss: 0.2379, Avg Train Acc: 0.9591 (Best)\n"
     ]
    },
    {
     "name": "stderr",
     "output_type": "stream",
     "text": [
      "Epoch 127/500 (Validation): 100%|██████████| 100/100 [00:09<00:00, 10.33it/s, loss=0.4050, acc=0.9200]\n"
     ]
    },
    {
     "name": "stdout",
     "output_type": "stream",
     "text": [
      "Avg Val Loss: 0.5030, Avg Val Acc: 0.9054 (Best)\n",
      "Current learning rate: [0.001, 0.001]\n",
      "Patience: 0/20\n"
     ]
    },
    {
     "name": "stderr",
     "output_type": "stream",
     "text": [
      "Epoch 128/500 (Training): 100%|██████████| 100/100 [00:12<00:00,  8.20it/s, loss=0.0336, acc=0.9867]\n"
     ]
    },
    {
     "name": "stdout",
     "output_type": "stream",
     "text": [
      "Avg Train Loss: 0.2363, Avg Train Acc: 0.9593 (Best)\n"
     ]
    },
    {
     "name": "stderr",
     "output_type": "stream",
     "text": [
      "Epoch 128/500 (Validation): 100%|██████████| 100/100 [00:09<00:00, 10.60it/s, loss=0.5004, acc=0.9600]\n"
     ]
    },
    {
     "name": "stdout",
     "output_type": "stream",
     "text": [
      "Avg Val Loss: 0.5035, Avg Val Acc: 0.9055 (Best)\n",
      "Current learning rate: [0.0005, 0.0005]\n",
      "Patience: 0/20\n"
     ]
    },
    {
     "name": "stderr",
     "output_type": "stream",
     "text": [
      "Epoch 129/500 (Training): 100%|██████████| 100/100 [00:12<00:00,  8.17it/s, loss=0.0041, acc=1.0000]\n"
     ]
    },
    {
     "name": "stdout",
     "output_type": "stream",
     "text": [
      "Avg Train Loss: 0.2349, Avg Train Acc: 0.9595 (Best)\n"
     ]
    },
    {
     "name": "stderr",
     "output_type": "stream",
     "text": [
      "Epoch 129/500 (Validation): 100%|██████████| 100/100 [00:09<00:00, 10.45it/s, loss=0.5825, acc=0.9067]\n"
     ]
    },
    {
     "name": "stdout",
     "output_type": "stream",
     "text": [
      "Avg Val Loss: 0.5056, Avg Val Acc: 0.9056 (Best)\n",
      "Current learning rate: [0.0005, 0.0005]\n",
      "Patience: 0/20\n"
     ]
    },
    {
     "name": "stderr",
     "output_type": "stream",
     "text": [
      "Epoch 130/500 (Training): 100%|██████████| 100/100 [00:13<00:00,  7.51it/s, loss=0.0072, acc=1.0000]\n"
     ]
    },
    {
     "name": "stdout",
     "output_type": "stream",
     "text": [
      "Avg Train Loss: 0.2334, Avg Train Acc: 0.9597 (Best)\n"
     ]
    },
    {
     "name": "stderr",
     "output_type": "stream",
     "text": [
      "Epoch 130/500 (Validation): 100%|██████████| 100/100 [00:09<00:00, 10.75it/s, loss=0.8820, acc=0.8667]\n"
     ]
    },
    {
     "name": "stdout",
     "output_type": "stream",
     "text": [
      "Avg Val Loss: 0.5062, Avg Val Acc: 0.9057 (Best)\n",
      "Current learning rate: [0.0005, 0.0005]\n",
      "Patience: 0/20\n"
     ]
    },
    {
     "name": "stderr",
     "output_type": "stream",
     "text": [
      "Epoch 131/500 (Training): 100%|██████████| 100/100 [00:13<00:00,  7.47it/s, loss=0.0001, acc=1.0000]\n"
     ]
    },
    {
     "name": "stdout",
     "output_type": "stream",
     "text": [
      "Avg Train Loss: 0.2319, Avg Train Acc: 0.9599 (Best)\n"
     ]
    },
    {
     "name": "stderr",
     "output_type": "stream",
     "text": [
      "Epoch 131/500 (Validation): 100%|██████████| 100/100 [00:09<00:00, 10.75it/s, loss=0.2870, acc=0.9333]\n"
     ]
    },
    {
     "name": "stdout",
     "output_type": "stream",
     "text": [
      "Avg Val Loss: 0.5063, Avg Val Acc: 0.9058 (Best)\n",
      "Current learning rate: [0.0005, 0.0005]\n",
      "Patience: 0/20\n"
     ]
    },
    {
     "name": "stderr",
     "output_type": "stream",
     "text": [
      "Epoch 132/500 (Training): 100%|██████████| 100/100 [00:11<00:00,  8.75it/s, loss=0.0503, acc=0.9867]\n"
     ]
    },
    {
     "name": "stdout",
     "output_type": "stream",
     "text": [
      "Avg Train Loss: 0.2304, Avg Train Acc: 0.9601 (Best)\n"
     ]
    },
    {
     "name": "stderr",
     "output_type": "stream",
     "text": [
      "Epoch 132/500 (Validation): 100%|██████████| 100/100 [00:09<00:00, 10.87it/s, loss=0.8398, acc=0.9200]\n"
     ]
    },
    {
     "name": "stdout",
     "output_type": "stream",
     "text": [
      "Avg Val Loss: 0.5093, Avg Val Acc: 0.9058 (Best)\n",
      "Current learning rate: [0.0005, 0.0005]\n",
      "Patience: 0/20\n"
     ]
    },
    {
     "name": "stderr",
     "output_type": "stream",
     "text": [
      "Epoch 133/500 (Training): 100%|██████████| 100/100 [00:12<00:00,  8.09it/s, loss=0.0187, acc=1.0000]\n"
     ]
    },
    {
     "name": "stdout",
     "output_type": "stream",
     "text": [
      "Avg Train Loss: 0.2292, Avg Train Acc: 0.9603 (Best)\n"
     ]
    },
    {
     "name": "stderr",
     "output_type": "stream",
     "text": [
      "Epoch 133/500 (Validation): 100%|██████████| 100/100 [00:09<00:00, 10.46it/s, loss=0.4098, acc=0.9333]\n"
     ]
    },
    {
     "name": "stdout",
     "output_type": "stream",
     "text": [
      "Avg Val Loss: 0.5116, Avg Val Acc: 0.9059 (Best)\n",
      "Current learning rate: [0.0005, 0.0005]\n",
      "Patience: 0/20\n"
     ]
    },
    {
     "name": "stderr",
     "output_type": "stream",
     "text": [
      "Epoch 134/500 (Training): 100%|██████████| 100/100 [00:13<00:00,  7.29it/s, loss=0.0183, acc=1.0000]\n"
     ]
    },
    {
     "name": "stdout",
     "output_type": "stream",
     "text": [
      "Avg Train Loss: 0.2279, Avg Train Acc: 0.9605 (Best)\n"
     ]
    },
    {
     "name": "stderr",
     "output_type": "stream",
     "text": [
      "Epoch 134/500 (Validation): 100%|██████████| 100/100 [00:09<00:00, 10.41it/s, loss=0.3787, acc=0.9467]\n"
     ]
    },
    {
     "name": "stdout",
     "output_type": "stream",
     "text": [
      "Avg Val Loss: 0.5124, Avg Val Acc: 0.9060 (Best)\n",
      "Current learning rate: [0.0005, 0.0005]\n",
      "Patience: 0/20\n"
     ]
    },
    {
     "name": "stderr",
     "output_type": "stream",
     "text": [
      "Epoch 135/500 (Training): 100%|██████████| 100/100 [00:12<00:00,  7.92it/s, loss=0.0043, acc=1.0000]\n"
     ]
    },
    {
     "name": "stdout",
     "output_type": "stream",
     "text": [
      "Avg Train Loss: 0.2265, Avg Train Acc: 0.9607 (Best)\n"
     ]
    },
    {
     "name": "stderr",
     "output_type": "stream",
     "text": [
      "Epoch 135/500 (Validation): 100%|██████████| 100/100 [00:09<00:00, 10.36it/s, loss=0.5665, acc=0.9467]\n"
     ]
    },
    {
     "name": "stdout",
     "output_type": "stream",
     "text": [
      "Avg Val Loss: 0.5123, Avg Val Acc: 0.9061 (Best)\n",
      "Current learning rate: [0.0005, 0.0005]\n",
      "Patience: 0/20\n"
     ]
    },
    {
     "name": "stderr",
     "output_type": "stream",
     "text": [
      "Epoch 136/500 (Training): 100%|██████████| 100/100 [00:11<00:00,  8.53it/s, loss=0.0355, acc=0.9733]\n"
     ]
    },
    {
     "name": "stdout",
     "output_type": "stream",
     "text": [
      "Avg Train Loss: 0.2251, Avg Train Acc: 0.9609 (Best)\n"
     ]
    },
    {
     "name": "stderr",
     "output_type": "stream",
     "text": [
      "Epoch 136/500 (Validation): 100%|██████████| 100/100 [00:09<00:00, 10.99it/s, loss=1.1559, acc=0.9200]\n"
     ]
    },
    {
     "name": "stdout",
     "output_type": "stream",
     "text": [
      "Avg Val Loss: 0.5135, Avg Val Acc: 0.9062 (Best)\n",
      "Current learning rate: [0.0005, 0.0005]\n",
      "Patience: 0/20\n"
     ]
    },
    {
     "name": "stderr",
     "output_type": "stream",
     "text": [
      "Epoch 137/500 (Training): 100%|██████████| 100/100 [00:13<00:00,  7.29it/s, loss=0.0396, acc=1.0000]\n"
     ]
    },
    {
     "name": "stdout",
     "output_type": "stream",
     "text": [
      "Avg Train Loss: 0.2237, Avg Train Acc: 0.9611 (Best)\n"
     ]
    },
    {
     "name": "stderr",
     "output_type": "stream",
     "text": [
      "Epoch 137/500 (Validation): 100%|██████████| 100/100 [00:09<00:00, 10.84it/s, loss=0.6857, acc=0.8533]\n"
     ]
    },
    {
     "name": "stdout",
     "output_type": "stream",
     "text": [
      "Avg Val Loss: 0.5139, Avg Val Acc: 0.9062 (Best)\n",
      "Current learning rate: [0.0005, 0.0005]\n",
      "Patience: 0/20\n"
     ]
    },
    {
     "name": "stderr",
     "output_type": "stream",
     "text": [
      "Epoch 138/500 (Training): 100%|██████████| 100/100 [00:12<00:00,  8.10it/s, loss=0.0953, acc=0.9733]\n"
     ]
    },
    {
     "name": "stdout",
     "output_type": "stream",
     "text": [
      "Avg Train Loss: 0.2224, Avg Train Acc: 0.9613 (Best)\n"
     ]
    },
    {
     "name": "stderr",
     "output_type": "stream",
     "text": [
      "Epoch 138/500 (Validation): 100%|██████████| 100/100 [00:09<00:00, 10.41it/s, loss=0.0756, acc=0.9733]\n"
     ]
    },
    {
     "name": "stdout",
     "output_type": "stream",
     "text": [
      "Avg Val Loss: 0.5139, Avg Val Acc: 0.9063 (Best)\n",
      "Current learning rate: [0.0005, 0.0005]\n",
      "Patience: 0/20\n"
     ]
    },
    {
     "name": "stderr",
     "output_type": "stream",
     "text": [
      "Epoch 139/500 (Training): 100%|██████████| 100/100 [00:13<00:00,  7.45it/s, loss=0.0021, acc=1.0000]\n"
     ]
    },
    {
     "name": "stdout",
     "output_type": "stream",
     "text": [
      "Avg Train Loss: 0.2211, Avg Train Acc: 0.9615 (Best)\n"
     ]
    },
    {
     "name": "stderr",
     "output_type": "stream",
     "text": [
      "Epoch 139/500 (Validation): 100%|██████████| 100/100 [00:09<00:00, 10.99it/s, loss=0.6327, acc=0.9333]\n"
     ]
    },
    {
     "name": "stdout",
     "output_type": "stream",
     "text": [
      "Avg Val Loss: 0.5141, Avg Val Acc: 0.9064 (Best)\n",
      "Current learning rate: [0.00025, 0.00025]\n",
      "Patience: 0/20\n"
     ]
    },
    {
     "name": "stderr",
     "output_type": "stream",
     "text": [
      "Epoch 140/500 (Training): 100%|██████████| 100/100 [00:11<00:00,  8.60it/s, loss=0.0617, acc=0.9867]\n"
     ]
    },
    {
     "name": "stdout",
     "output_type": "stream",
     "text": [
      "Avg Train Loss: 0.2198, Avg Train Acc: 0.9617 (Best)\n"
     ]
    },
    {
     "name": "stderr",
     "output_type": "stream",
     "text": [
      "Epoch 140/500 (Validation): 100%|██████████| 100/100 [00:09<00:00, 10.71it/s, loss=0.5109, acc=0.9200]\n"
     ]
    },
    {
     "name": "stdout",
     "output_type": "stream",
     "text": [
      "Avg Val Loss: 0.5148, Avg Val Acc: 0.9065 (Best)\n",
      "Current learning rate: [0.00025, 0.00025]\n",
      "Patience: 0/20\n"
     ]
    },
    {
     "name": "stderr",
     "output_type": "stream",
     "text": [
      "Epoch 141/500 (Training): 100%|██████████| 100/100 [00:12<00:00,  7.73it/s, loss=0.0009, acc=1.0000]\n"
     ]
    },
    {
     "name": "stdout",
     "output_type": "stream",
     "text": [
      "Avg Train Loss: 0.2184, Avg Train Acc: 0.9619 (Best)\n"
     ]
    },
    {
     "name": "stderr",
     "output_type": "stream",
     "text": [
      "Epoch 141/500 (Validation): 100%|██████████| 100/100 [00:08<00:00, 11.49it/s, loss=0.1868, acc=0.9733]\n"
     ]
    },
    {
     "name": "stdout",
     "output_type": "stream",
     "text": [
      "Avg Val Loss: 0.5154, Avg Val Acc: 0.9066 (Best)\n",
      "Current learning rate: [0.00025, 0.00025]\n",
      "Patience: 0/20\n"
     ]
    },
    {
     "name": "stderr",
     "output_type": "stream",
     "text": [
      "Epoch 142/500 (Training): 100%|██████████| 100/100 [00:12<00:00,  7.81it/s, loss=0.0160, acc=1.0000]\n"
     ]
    },
    {
     "name": "stdout",
     "output_type": "stream",
     "text": [
      "Avg Train Loss: 0.2172, Avg Train Acc: 0.9621 (Best)\n"
     ]
    },
    {
     "name": "stderr",
     "output_type": "stream",
     "text": [
      "Epoch 142/500 (Validation): 100%|██████████| 100/100 [00:09<00:00, 10.34it/s, loss=0.5904, acc=0.8800]\n"
     ]
    },
    {
     "name": "stdout",
     "output_type": "stream",
     "text": [
      "Avg Val Loss: 0.5161, Avg Val Acc: 0.9067 (Best)\n",
      "Current learning rate: [0.00025, 0.00025]\n",
      "Patience: 0/20\n"
     ]
    },
    {
     "name": "stderr",
     "output_type": "stream",
     "text": [
      "Epoch 143/500 (Training): 100%|██████████| 100/100 [00:12<00:00,  8.12it/s, loss=0.0034, acc=1.0000]\n"
     ]
    },
    {
     "name": "stdout",
     "output_type": "stream",
     "text": [
      "Avg Train Loss: 0.2158, Avg Train Acc: 0.9623 (Best)\n"
     ]
    },
    {
     "name": "stderr",
     "output_type": "stream",
     "text": [
      "Epoch 143/500 (Validation): 100%|██████████| 100/100 [00:09<00:00, 10.96it/s, loss=0.5028, acc=0.8800]\n"
     ]
    },
    {
     "name": "stdout",
     "output_type": "stream",
     "text": [
      "Avg Val Loss: 0.5160, Avg Val Acc: 0.9068 (Best)\n",
      "Current learning rate: [0.00025, 0.00025]\n",
      "Patience: 0/20\n"
     ]
    },
    {
     "name": "stderr",
     "output_type": "stream",
     "text": [
      "Epoch 144/500 (Training): 100%|██████████| 100/100 [00:11<00:00,  8.39it/s, loss=0.0001, acc=1.0000]\n"
     ]
    },
    {
     "name": "stdout",
     "output_type": "stream",
     "text": [
      "Avg Train Loss: 0.2145, Avg Train Acc: 0.9625 (Best)\n"
     ]
    },
    {
     "name": "stderr",
     "output_type": "stream",
     "text": [
      "Epoch 144/500 (Validation): 100%|██████████| 100/100 [00:09<00:00, 10.09it/s, loss=2.0108, acc=0.8000]\n"
     ]
    },
    {
     "name": "stdout",
     "output_type": "stream",
     "text": [
      "Avg Val Loss: 0.5171, Avg Val Acc: 0.9068 (Best)\n",
      "Current learning rate: [0.00025, 0.00025]\n",
      "Patience: 0/20\n"
     ]
    },
    {
     "name": "stderr",
     "output_type": "stream",
     "text": [
      "Epoch 145/500 (Training): 100%|██████████| 100/100 [00:13<00:00,  7.68it/s, loss=0.0030, acc=1.0000]\n"
     ]
    },
    {
     "name": "stdout",
     "output_type": "stream",
     "text": [
      "Avg Train Loss: 0.2133, Avg Train Acc: 0.9627 (Best)\n"
     ]
    },
    {
     "name": "stderr",
     "output_type": "stream",
     "text": [
      "Epoch 145/500 (Validation): 100%|██████████| 100/100 [00:08<00:00, 11.21it/s, loss=2.1018, acc=0.7867]\n"
     ]
    },
    {
     "name": "stdout",
     "output_type": "stream",
     "text": [
      "Avg Val Loss: 0.5194, Avg Val Acc: 0.9069 (Best)\n",
      "Current learning rate: [0.00025, 0.00025]\n",
      "Patience: 0/20\n"
     ]
    },
    {
     "name": "stderr",
     "output_type": "stream",
     "text": [
      "Epoch 146/500 (Training): 100%|██████████| 100/100 [00:11<00:00,  8.40it/s, loss=0.0653, acc=0.9867]\n"
     ]
    },
    {
     "name": "stdout",
     "output_type": "stream",
     "text": [
      "Avg Train Loss: 0.2121, Avg Train Acc: 0.9629 (Best)\n"
     ]
    },
    {
     "name": "stderr",
     "output_type": "stream",
     "text": [
      "Epoch 146/500 (Validation): 100%|██████████| 100/100 [00:09<00:00, 11.02it/s, loss=0.6084, acc=0.9467]\n"
     ]
    },
    {
     "name": "stdout",
     "output_type": "stream",
     "text": [
      "Avg Val Loss: 0.5231, Avg Val Acc: 0.9069 (Best)\n",
      "Current learning rate: [0.00025, 0.00025]\n",
      "Patience: 0/20\n"
     ]
    },
    {
     "name": "stderr",
     "output_type": "stream",
     "text": [
      "Epoch 147/500 (Training): 100%|██████████| 100/100 [00:12<00:00,  7.85it/s, loss=0.0134, acc=0.9867]\n"
     ]
    },
    {
     "name": "stdout",
     "output_type": "stream",
     "text": [
      "Avg Train Loss: 0.2109, Avg Train Acc: 0.9631 (Best)\n"
     ]
    },
    {
     "name": "stderr",
     "output_type": "stream",
     "text": [
      "Epoch 147/500 (Validation): 100%|██████████| 100/100 [00:09<00:00, 11.08it/s, loss=0.7647, acc=0.9067]\n"
     ]
    },
    {
     "name": "stdout",
     "output_type": "stream",
     "text": [
      "Avg Val Loss: 0.5237, Avg Val Acc: 0.9070 (Best)\n",
      "Current learning rate: [0.00025, 0.00025]\n",
      "Patience: 0/20\n"
     ]
    },
    {
     "name": "stderr",
     "output_type": "stream",
     "text": [
      "Epoch 148/500 (Training): 100%|██████████| 100/100 [00:13<00:00,  7.25it/s, loss=0.0043, acc=1.0000]\n"
     ]
    },
    {
     "name": "stdout",
     "output_type": "stream",
     "text": [
      "Avg Train Loss: 0.2098, Avg Train Acc: 0.9633 (Best)\n"
     ]
    },
    {
     "name": "stderr",
     "output_type": "stream",
     "text": [
      "Epoch 148/500 (Validation): 100%|██████████| 100/100 [00:08<00:00, 11.41it/s, loss=0.2914, acc=0.9333]\n"
     ]
    },
    {
     "name": "stdout",
     "output_type": "stream",
     "text": [
      "Avg Val Loss: 0.5237, Avg Val Acc: 0.9070 (Best)\n",
      "Current learning rate: [0.00025, 0.00025]\n",
      "Patience: 0/20\n"
     ]
    },
    {
     "name": "stderr",
     "output_type": "stream",
     "text": [
      "Epoch 149/500 (Training): 100%|██████████| 100/100 [00:12<00:00,  8.23it/s, loss=0.0000, acc=1.0000]\n"
     ]
    },
    {
     "name": "stdout",
     "output_type": "stream",
     "text": [
      "Avg Train Loss: 0.2085, Avg Train Acc: 0.9635 (Best)\n"
     ]
    },
    {
     "name": "stderr",
     "output_type": "stream",
     "text": [
      "Epoch 149/500 (Validation): 100%|██████████| 100/100 [00:09<00:00, 10.83it/s, loss=0.7430, acc=0.9200]\n"
     ]
    },
    {
     "name": "stdout",
     "output_type": "stream",
     "text": [
      "Avg Val Loss: 0.5236, Avg Val Acc: 0.9071 (Best)\n",
      "Current learning rate: [0.00025, 0.00025]\n",
      "Patience: 0/20\n"
     ]
    },
    {
     "name": "stderr",
     "output_type": "stream",
     "text": [
      "Epoch 150/500 (Training): 100%|██████████| 100/100 [00:11<00:00,  8.35it/s, loss=0.1599, acc=0.9467]\n"
     ]
    },
    {
     "name": "stdout",
     "output_type": "stream",
     "text": [
      "Avg Train Loss: 0.2073, Avg Train Acc: 0.9636 (Best)\n"
     ]
    },
    {
     "name": "stderr",
     "output_type": "stream",
     "text": [
      "Epoch 150/500 (Validation): 100%|██████████| 100/100 [00:08<00:00, 11.34it/s, loss=0.2270, acc=0.9733]\n"
     ]
    },
    {
     "name": "stdout",
     "output_type": "stream",
     "text": [
      "Avg Val Loss: 0.5239, Avg Val Acc: 0.9072 (Best)\n",
      "Current learning rate: [0.000125, 0.000125]\n",
      "Patience: 0/20\n"
     ]
    },
    {
     "name": "stderr",
     "output_type": "stream",
     "text": [
      "Epoch 151/500 (Training): 100%|██████████| 100/100 [00:13<00:00,  7.29it/s, loss=0.0000, acc=1.0000]\n"
     ]
    },
    {
     "name": "stdout",
     "output_type": "stream",
     "text": [
      "Avg Train Loss: 0.2061, Avg Train Acc: 0.9638 (Best)\n"
     ]
    },
    {
     "name": "stderr",
     "output_type": "stream",
     "text": [
      "Epoch 151/500 (Validation): 100%|██████████| 100/100 [00:09<00:00, 10.28it/s, loss=0.5808, acc=0.8800]\n"
     ]
    },
    {
     "name": "stdout",
     "output_type": "stream",
     "text": [
      "Avg Val Loss: 0.5242, Avg Val Acc: 0.9073 (Best)\n",
      "Current learning rate: [0.000125, 0.000125]\n",
      "Patience: 0/20\n"
     ]
    },
    {
     "name": "stderr",
     "output_type": "stream",
     "text": [
      "Epoch 152/500 (Training): 100%|██████████| 100/100 [00:11<00:00,  8.66it/s, loss=0.0002, acc=1.0000]\n"
     ]
    },
    {
     "name": "stdout",
     "output_type": "stream",
     "text": [
      "Avg Train Loss: 0.2050, Avg Train Acc: 0.9640 (Best)\n"
     ]
    },
    {
     "name": "stderr",
     "output_type": "stream",
     "text": [
      "Epoch 152/500 (Validation): 100%|██████████| 100/100 [00:09<00:00, 11.01it/s, loss=0.3918, acc=0.9600]\n"
     ]
    },
    {
     "name": "stdout",
     "output_type": "stream",
     "text": [
      "Avg Val Loss: 0.5253, Avg Val Acc: 0.9074 (Best)\n",
      "Current learning rate: [0.000125, 0.000125]\n",
      "Patience: 0/20\n"
     ]
    },
    {
     "name": "stderr",
     "output_type": "stream",
     "text": [
      "Epoch 153/500 (Training): 100%|██████████| 100/100 [00:13<00:00,  7.27it/s, loss=0.0080, acc=1.0000]\n"
     ]
    },
    {
     "name": "stdout",
     "output_type": "stream",
     "text": [
      "Avg Train Loss: 0.2038, Avg Train Acc: 0.9642 (Best)\n"
     ]
    },
    {
     "name": "stderr",
     "output_type": "stream",
     "text": [
      "Epoch 153/500 (Validation): 100%|██████████| 100/100 [00:09<00:00, 11.10it/s, loss=0.9361, acc=0.9333]\n"
     ]
    },
    {
     "name": "stdout",
     "output_type": "stream",
     "text": [
      "Avg Val Loss: 0.5267, Avg Val Acc: 0.9074 (Best)\n",
      "Current learning rate: [0.000125, 0.000125]\n",
      "Patience: 0/20\n"
     ]
    },
    {
     "name": "stderr",
     "output_type": "stream",
     "text": [
      "Epoch 154/500 (Training): 100%|██████████| 100/100 [00:13<00:00,  7.42it/s, loss=0.0021, acc=1.0000]\n"
     ]
    },
    {
     "name": "stdout",
     "output_type": "stream",
     "text": [
      "Avg Train Loss: 0.2027, Avg Train Acc: 0.9644 (Best)\n"
     ]
    },
    {
     "name": "stderr",
     "output_type": "stream",
     "text": [
      "Epoch 154/500 (Validation): 100%|██████████| 100/100 [00:09<00:00, 10.78it/s, loss=0.1361, acc=0.9600]\n"
     ]
    },
    {
     "name": "stdout",
     "output_type": "stream",
     "text": [
      "Avg Val Loss: 0.5274, Avg Val Acc: 0.9075 (Best)\n",
      "Current learning rate: [0.000125, 0.000125]\n",
      "Patience: 0/20\n"
     ]
    },
    {
     "name": "stderr",
     "output_type": "stream",
     "text": [
      "Epoch 155/500 (Training): 100%|██████████| 100/100 [00:13<00:00,  7.60it/s, loss=0.0006, acc=1.0000]\n"
     ]
    },
    {
     "name": "stdout",
     "output_type": "stream",
     "text": [
      "Avg Train Loss: 0.2015, Avg Train Acc: 0.9645 (Best)\n"
     ]
    },
    {
     "name": "stderr",
     "output_type": "stream",
     "text": [
      "Epoch 155/500 (Validation): 100%|██████████| 100/100 [00:09<00:00, 11.03it/s, loss=2.1461, acc=0.8667]\n"
     ]
    },
    {
     "name": "stdout",
     "output_type": "stream",
     "text": [
      "Avg Val Loss: 0.5290, Avg Val Acc: 0.9076 (Best)\n",
      "Current learning rate: [0.000125, 0.000125]\n",
      "Patience: 0/20\n"
     ]
    },
    {
     "name": "stderr",
     "output_type": "stream",
     "text": [
      "Epoch 156/500 (Training): 100%|██████████| 100/100 [00:12<00:00,  7.99it/s, loss=0.3194, acc=0.8667]\n"
     ]
    },
    {
     "name": "stdout",
     "output_type": "stream",
     "text": [
      "Avg Train Loss: 0.2004, Avg Train Acc: 0.9647 (Best)\n"
     ]
    },
    {
     "name": "stderr",
     "output_type": "stream",
     "text": [
      "Epoch 156/500 (Validation): 100%|██████████| 100/100 [00:09<00:00, 10.98it/s, loss=0.3346, acc=0.9600]\n"
     ]
    },
    {
     "name": "stdout",
     "output_type": "stream",
     "text": [
      "Avg Val Loss: 0.5297, Avg Val Acc: 0.9076 (Best)\n",
      "Current learning rate: [0.000125, 0.000125]\n",
      "Patience: 0/20\n"
     ]
    },
    {
     "name": "stderr",
     "output_type": "stream",
     "text": [
      "Epoch 157/500 (Training): 100%|██████████| 100/100 [00:10<00:00,  9.52it/s, loss=0.0614, acc=0.9733]\n"
     ]
    },
    {
     "name": "stdout",
     "output_type": "stream",
     "text": [
      "Avg Train Loss: 0.1995, Avg Train Acc: 0.9649 (Best)\n"
     ]
    },
    {
     "name": "stderr",
     "output_type": "stream",
     "text": [
      "Epoch 157/500 (Validation): 100%|██████████| 100/100 [00:09<00:00, 11.11it/s, loss=1.5208, acc=0.9067]\n"
     ]
    },
    {
     "name": "stdout",
     "output_type": "stream",
     "text": [
      "Avg Val Loss: 0.5308, Avg Val Acc: 0.9077 (Best)\n",
      "Current learning rate: [0.000125, 0.000125]\n",
      "Patience: 0/20\n"
     ]
    },
    {
     "name": "stderr",
     "output_type": "stream",
     "text": [
      "Epoch 158/500 (Training): 100%|██████████| 100/100 [00:13<00:00,  7.30it/s, loss=0.0067, acc=1.0000]\n"
     ]
    },
    {
     "name": "stdout",
     "output_type": "stream",
     "text": [
      "Avg Train Loss: 0.1984, Avg Train Acc: 0.9650 (Best)\n"
     ]
    },
    {
     "name": "stderr",
     "output_type": "stream",
     "text": [
      "Epoch 158/500 (Validation): 100%|██████████| 100/100 [00:08<00:00, 11.14it/s, loss=0.8348, acc=0.8800]\n"
     ]
    },
    {
     "name": "stdout",
     "output_type": "stream",
     "text": [
      "Avg Val Loss: 0.5324, Avg Val Acc: 0.9078 (Best)\n",
      "Current learning rate: [0.000125, 0.000125]\n",
      "Patience: 0/20\n"
     ]
    },
    {
     "name": "stderr",
     "output_type": "stream",
     "text": [
      "Epoch 159/500 (Training): 100%|██████████| 100/100 [00:13<00:00,  7.34it/s, loss=0.0013, acc=1.0000]\n"
     ]
    },
    {
     "name": "stdout",
     "output_type": "stream",
     "text": [
      "Avg Train Loss: 0.1973, Avg Train Acc: 0.9652 (Best)\n"
     ]
    },
    {
     "name": "stderr",
     "output_type": "stream",
     "text": [
      "Epoch 159/500 (Validation): 100%|██████████| 100/100 [00:08<00:00, 11.23it/s, loss=0.2661, acc=0.9467]\n"
     ]
    },
    {
     "name": "stdout",
     "output_type": "stream",
     "text": [
      "Avg Val Loss: 0.5330, Avg Val Acc: 0.9078 (Best)\n",
      "Current learning rate: [0.000125, 0.000125]\n",
      "Patience: 0/20\n"
     ]
    },
    {
     "name": "stderr",
     "output_type": "stream",
     "text": [
      "Epoch 160/500 (Training): 100%|██████████| 100/100 [00:12<00:00,  7.74it/s, loss=0.0052, acc=1.0000]\n"
     ]
    },
    {
     "name": "stdout",
     "output_type": "stream",
     "text": [
      "Avg Train Loss: 0.1963, Avg Train Acc: 0.9653 (Best)\n"
     ]
    },
    {
     "name": "stderr",
     "output_type": "stream",
     "text": [
      "Epoch 160/500 (Validation): 100%|██████████| 100/100 [00:09<00:00, 11.02it/s, loss=0.7543, acc=0.9200]\n"
     ]
    },
    {
     "name": "stdout",
     "output_type": "stream",
     "text": [
      "Avg Val Loss: 0.5338, Avg Val Acc: 0.9079 (Best)\n",
      "Current learning rate: [0.000125, 0.000125]\n",
      "Patience: 0/20\n"
     ]
    },
    {
     "name": "stderr",
     "output_type": "stream",
     "text": [
      "Epoch 161/500 (Training): 100%|██████████| 100/100 [00:13<00:00,  7.55it/s, loss=0.0028, acc=1.0000]\n"
     ]
    },
    {
     "name": "stdout",
     "output_type": "stream",
     "text": [
      "Avg Train Loss: 0.1953, Avg Train Acc: 0.9655 (Best)\n"
     ]
    },
    {
     "name": "stderr",
     "output_type": "stream",
     "text": [
      "Epoch 161/500 (Validation): 100%|██████████| 100/100 [00:09<00:00, 10.87it/s, loss=0.5234, acc=0.8667]\n"
     ]
    },
    {
     "name": "stdout",
     "output_type": "stream",
     "text": [
      "Avg Val Loss: 0.5346, Avg Val Acc: 0.9079 (Best)\n",
      "Current learning rate: [6.25e-05, 6.25e-05]\n",
      "Patience: 0/20\n"
     ]
    },
    {
     "name": "stderr",
     "output_type": "stream",
     "text": [
      "Epoch 162/500 (Training): 100%|██████████| 100/100 [00:12<00:00,  8.27it/s, loss=0.0526, acc=0.9733]\n"
     ]
    },
    {
     "name": "stdout",
     "output_type": "stream",
     "text": [
      "Avg Train Loss: 0.1943, Avg Train Acc: 0.9656 (Best)\n"
     ]
    },
    {
     "name": "stderr",
     "output_type": "stream",
     "text": [
      "Epoch 162/500 (Validation): 100%|██████████| 100/100 [00:08<00:00, 11.12it/s, loss=0.6900, acc=0.9200]\n"
     ]
    },
    {
     "name": "stdout",
     "output_type": "stream",
     "text": [
      "Avg Val Loss: 0.5348, Avg Val Acc: 0.9080 (Best)\n",
      "Current learning rate: [6.25e-05, 6.25e-05]\n",
      "Patience: 0/20\n"
     ]
    },
    {
     "name": "stderr",
     "output_type": "stream",
     "text": [
      "Epoch 163/500 (Training): 100%|██████████| 100/100 [00:12<00:00,  8.20it/s, loss=0.0000, acc=1.0000]\n"
     ]
    },
    {
     "name": "stdout",
     "output_type": "stream",
     "text": [
      "Avg Train Loss: 0.1933, Avg Train Acc: 0.9658 (Best)\n"
     ]
    },
    {
     "name": "stderr",
     "output_type": "stream",
     "text": [
      "Epoch 163/500 (Validation): 100%|██████████| 100/100 [00:09<00:00, 10.58it/s, loss=0.4239, acc=0.9600]\n"
     ]
    },
    {
     "name": "stdout",
     "output_type": "stream",
     "text": [
      "Avg Val Loss: 0.5356, Avg Val Acc: 0.9080 (Best)\n",
      "Current learning rate: [6.25e-05, 6.25e-05]\n",
      "Patience: 0/20\n"
     ]
    },
    {
     "name": "stderr",
     "output_type": "stream",
     "text": [
      "Epoch 164/500 (Training): 100%|██████████| 100/100 [00:12<00:00,  7.98it/s, loss=0.0178, acc=0.9867]\n"
     ]
    },
    {
     "name": "stdout",
     "output_type": "stream",
     "text": [
      "Avg Train Loss: 0.1923, Avg Train Acc: 0.9659 (Best)\n"
     ]
    },
    {
     "name": "stderr",
     "output_type": "stream",
     "text": [
      "Epoch 164/500 (Validation): 100%|██████████| 100/100 [00:09<00:00, 10.40it/s, loss=0.0046, acc=1.0000]\n"
     ]
    },
    {
     "name": "stdout",
     "output_type": "stream",
     "text": [
      "Avg Val Loss: 0.5355, Avg Val Acc: 0.9081 (Best)\n",
      "Current learning rate: [6.25e-05, 6.25e-05]\n",
      "Patience: 0/20\n"
     ]
    },
    {
     "name": "stderr",
     "output_type": "stream",
     "text": [
      "Epoch 165/500 (Training): 100%|██████████| 100/100 [00:12<00:00,  8.02it/s, loss=0.0000, acc=1.0000]\n"
     ]
    },
    {
     "name": "stdout",
     "output_type": "stream",
     "text": [
      "Avg Train Loss: 0.1913, Avg Train Acc: 0.9661 (Best)\n"
     ]
    },
    {
     "name": "stderr",
     "output_type": "stream",
     "text": [
      "Epoch 165/500 (Validation): 100%|██████████| 100/100 [00:09<00:00, 10.60it/s, loss=0.5466, acc=0.9333]\n"
     ]
    },
    {
     "name": "stdout",
     "output_type": "stream",
     "text": [
      "Avg Val Loss: 0.5366, Avg Val Acc: 0.9082 (Best)\n",
      "Current learning rate: [6.25e-05, 6.25e-05]\n",
      "Patience: 0/20\n"
     ]
    },
    {
     "name": "stderr",
     "output_type": "stream",
     "text": [
      "Epoch 166/500 (Training): 100%|██████████| 100/100 [00:11<00:00,  8.52it/s, loss=0.0000, acc=1.0000]\n"
     ]
    },
    {
     "name": "stdout",
     "output_type": "stream",
     "text": [
      "Avg Train Loss: 0.1903, Avg Train Acc: 0.9662 (Best)\n"
     ]
    },
    {
     "name": "stderr",
     "output_type": "stream",
     "text": [
      "Epoch 166/500 (Validation): 100%|██████████| 100/100 [00:09<00:00, 10.69it/s, loss=0.2042, acc=0.9733]\n"
     ]
    },
    {
     "name": "stdout",
     "output_type": "stream",
     "text": [
      "Avg Val Loss: 0.5361, Avg Val Acc: 0.9083 (Best)\n",
      "Current learning rate: [6.25e-05, 6.25e-05]\n",
      "Patience: 0/20\n"
     ]
    },
    {
     "name": "stderr",
     "output_type": "stream",
     "text": [
      "Epoch 167/500 (Training): 100%|██████████| 100/100 [00:12<00:00,  8.17it/s, loss=0.0000, acc=1.0000]\n"
     ]
    },
    {
     "name": "stdout",
     "output_type": "stream",
     "text": [
      "Avg Train Loss: 0.1893, Avg Train Acc: 0.9664 (Best)\n"
     ]
    },
    {
     "name": "stderr",
     "output_type": "stream",
     "text": [
      "Epoch 167/500 (Validation): 100%|██████████| 100/100 [00:09<00:00, 11.03it/s, loss=0.5338, acc=0.8800]\n"
     ]
    },
    {
     "name": "stdout",
     "output_type": "stream",
     "text": [
      "Avg Val Loss: 0.5370, Avg Val Acc: 0.9084 (Best)\n",
      "Current learning rate: [6.25e-05, 6.25e-05]\n",
      "Patience: 0/20\n"
     ]
    },
    {
     "name": "stderr",
     "output_type": "stream",
     "text": [
      "Epoch 168/500 (Training): 100%|██████████| 100/100 [00:13<00:00,  7.63it/s, loss=0.0196, acc=1.0000]\n"
     ]
    },
    {
     "name": "stdout",
     "output_type": "stream",
     "text": [
      "Avg Train Loss: 0.1883, Avg Train Acc: 0.9665 (Best)\n"
     ]
    },
    {
     "name": "stderr",
     "output_type": "stream",
     "text": [
      "Epoch 168/500 (Validation): 100%|██████████| 100/100 [00:09<00:00, 10.56it/s, loss=0.7988, acc=0.8933]\n"
     ]
    },
    {
     "name": "stdout",
     "output_type": "stream",
     "text": [
      "Avg Val Loss: 0.5380, Avg Val Acc: 0.9084 (Best)\n",
      "Current learning rate: [6.25e-05, 6.25e-05]\n",
      "Patience: 0/20\n"
     ]
    },
    {
     "name": "stderr",
     "output_type": "stream",
     "text": [
      "Epoch 169/500 (Training): 100%|██████████| 100/100 [00:13<00:00,  7.20it/s, loss=0.0526, acc=0.9733]\n"
     ]
    },
    {
     "name": "stdout",
     "output_type": "stream",
     "text": [
      "Avg Train Loss: 0.1873, Avg Train Acc: 0.9667 (Best)\n"
     ]
    },
    {
     "name": "stderr",
     "output_type": "stream",
     "text": [
      "Epoch 169/500 (Validation): 100%|██████████| 100/100 [00:09<00:00, 10.35it/s, loss=0.8535, acc=0.8667]\n"
     ]
    },
    {
     "name": "stdout",
     "output_type": "stream",
     "text": [
      "Avg Val Loss: 0.5382, Avg Val Acc: 0.9085 (Best)\n",
      "Current learning rate: [6.25e-05, 6.25e-05]\n",
      "Patience: 0/20\n"
     ]
    },
    {
     "name": "stderr",
     "output_type": "stream",
     "text": [
      "Epoch 170/500 (Training): 100%|██████████| 100/100 [00:13<00:00,  7.40it/s, loss=0.0003, acc=1.0000]\n"
     ]
    },
    {
     "name": "stdout",
     "output_type": "stream",
     "text": [
      "Avg Train Loss: 0.1864, Avg Train Acc: 0.9668 (Best)\n"
     ]
    },
    {
     "name": "stderr",
     "output_type": "stream",
     "text": [
      "Epoch 170/500 (Validation): 100%|██████████| 100/100 [00:09<00:00, 10.21it/s, loss=0.4634, acc=0.9067]\n"
     ]
    },
    {
     "name": "stdout",
     "output_type": "stream",
     "text": [
      "Avg Val Loss: 0.5384, Avg Val Acc: 0.9085 (Best)\n",
      "Current learning rate: [6.25e-05, 6.25e-05]\n",
      "Patience: 0/20\n"
     ]
    },
    {
     "name": "stderr",
     "output_type": "stream",
     "text": [
      "Epoch 171/500 (Training): 100%|██████████| 100/100 [00:12<00:00,  7.93it/s, loss=0.0001, acc=1.0000]\n"
     ]
    },
    {
     "name": "stdout",
     "output_type": "stream",
     "text": [
      "Avg Train Loss: 0.1855, Avg Train Acc: 0.9670 (Best)\n"
     ]
    },
    {
     "name": "stderr",
     "output_type": "stream",
     "text": [
      "Epoch 171/500 (Validation): 100%|██████████| 100/100 [00:08<00:00, 11.22it/s, loss=0.6368, acc=0.8933]\n"
     ]
    },
    {
     "name": "stdout",
     "output_type": "stream",
     "text": [
      "Avg Val Loss: 0.5391, Avg Val Acc: 0.9086 (Best)\n",
      "Current learning rate: [6.25e-05, 6.25e-05]\n",
      "Patience: 0/20\n"
     ]
    },
    {
     "name": "stderr",
     "output_type": "stream",
     "text": [
      "Epoch 172/500 (Training): 100%|██████████| 100/100 [00:13<00:00,  7.61it/s, loss=0.0059, acc=1.0000]\n"
     ]
    },
    {
     "name": "stdout",
     "output_type": "stream",
     "text": [
      "Avg Train Loss: 0.1846, Avg Train Acc: 0.9671 (Best)\n"
     ]
    },
    {
     "name": "stderr",
     "output_type": "stream",
     "text": [
      "Epoch 172/500 (Validation): 100%|██████████| 100/100 [00:09<00:00, 11.03it/s, loss=0.3285, acc=0.9467]\n"
     ]
    },
    {
     "name": "stdout",
     "output_type": "stream",
     "text": [
      "Avg Val Loss: 0.5404, Avg Val Acc: 0.9087 (Best)\n",
      "Current learning rate: [3.125e-05, 3.125e-05]\n",
      "Patience: 0/20\n"
     ]
    },
    {
     "name": "stderr",
     "output_type": "stream",
     "text": [
      "Epoch 173/500 (Training): 100%|██████████| 100/100 [00:13<00:00,  7.41it/s, loss=0.0027, acc=1.0000]\n"
     ]
    },
    {
     "name": "stdout",
     "output_type": "stream",
     "text": [
      "Avg Train Loss: 0.1838, Avg Train Acc: 0.9672 (Best)\n"
     ]
    },
    {
     "name": "stderr",
     "output_type": "stream",
     "text": [
      "Epoch 173/500 (Validation): 100%|██████████| 100/100 [00:08<00:00, 11.22it/s, loss=0.1142, acc=0.9733]\n"
     ]
    },
    {
     "name": "stdout",
     "output_type": "stream",
     "text": [
      "Avg Val Loss: 0.5414, Avg Val Acc: 0.9088 (Best)\n",
      "Current learning rate: [3.125e-05, 3.125e-05]\n",
      "Patience: 0/20\n"
     ]
    },
    {
     "name": "stderr",
     "output_type": "stream",
     "text": [
      "Epoch 174/500 (Training): 100%|██████████| 100/100 [00:13<00:00,  7.59it/s, loss=0.0157, acc=1.0000]\n"
     ]
    },
    {
     "name": "stdout",
     "output_type": "stream",
     "text": [
      "Avg Train Loss: 0.1828, Avg Train Acc: 0.9674 (Best)\n"
     ]
    },
    {
     "name": "stderr",
     "output_type": "stream",
     "text": [
      "Epoch 174/500 (Validation): 100%|██████████| 100/100 [00:09<00:00, 10.51it/s, loss=0.6196, acc=0.9333]\n"
     ]
    },
    {
     "name": "stdout",
     "output_type": "stream",
     "text": [
      "Avg Val Loss: 0.5416, Avg Val Acc: 0.9088 (Best)\n",
      "Current learning rate: [3.125e-05, 3.125e-05]\n",
      "Patience: 0/20\n"
     ]
    },
    {
     "name": "stderr",
     "output_type": "stream",
     "text": [
      "Epoch 175/500 (Training): 100%|██████████| 100/100 [00:12<00:00,  7.98it/s, loss=0.0030, acc=1.0000]\n"
     ]
    },
    {
     "name": "stdout",
     "output_type": "stream",
     "text": [
      "Avg Train Loss: 0.1820, Avg Train Acc: 0.9675 (Best)\n"
     ]
    },
    {
     "name": "stderr",
     "output_type": "stream",
     "text": [
      "Epoch 175/500 (Validation): 100%|██████████| 100/100 [00:09<00:00, 10.15it/s, loss=0.3589, acc=0.9467]\n"
     ]
    },
    {
     "name": "stdout",
     "output_type": "stream",
     "text": [
      "Avg Val Loss: 0.5416, Avg Val Acc: 0.9089 (Best)\n",
      "Current learning rate: [3.125e-05, 3.125e-05]\n",
      "Patience: 0/20\n"
     ]
    },
    {
     "name": "stderr",
     "output_type": "stream",
     "text": [
      "Epoch 176/500 (Training): 100%|██████████| 100/100 [00:14<00:00,  7.05it/s, loss=0.0448, acc=0.9867]\n"
     ]
    },
    {
     "name": "stdout",
     "output_type": "stream",
     "text": [
      "Avg Train Loss: 0.1811, Avg Train Acc: 0.9676 (Best)\n"
     ]
    },
    {
     "name": "stderr",
     "output_type": "stream",
     "text": [
      "Epoch 176/500 (Validation): 100%|██████████| 100/100 [00:09<00:00, 10.86it/s, loss=0.5142, acc=0.9467]\n"
     ]
    },
    {
     "name": "stdout",
     "output_type": "stream",
     "text": [
      "Avg Val Loss: 0.5420, Avg Val Acc: 0.9090 (Best)\n",
      "Current learning rate: [3.125e-05, 3.125e-05]\n",
      "Patience: 0/20\n"
     ]
    },
    {
     "name": "stderr",
     "output_type": "stream",
     "text": [
      "Epoch 177/500 (Training): 100%|██████████| 100/100 [00:13<00:00,  7.54it/s, loss=0.0297, acc=0.9867]\n"
     ]
    },
    {
     "name": "stdout",
     "output_type": "stream",
     "text": [
      "Avg Train Loss: 0.1802, Avg Train Acc: 0.9678 (Best)\n"
     ]
    },
    {
     "name": "stderr",
     "output_type": "stream",
     "text": [
      "Epoch 177/500 (Validation): 100%|██████████| 100/100 [00:09<00:00, 10.79it/s, loss=0.7736, acc=0.9200]\n"
     ]
    },
    {
     "name": "stdout",
     "output_type": "stream",
     "text": [
      "Avg Val Loss: 0.5419, Avg Val Acc: 0.9091 (Best)\n",
      "Current learning rate: [3.125e-05, 3.125e-05]\n",
      "Patience: 0/20\n"
     ]
    },
    {
     "name": "stderr",
     "output_type": "stream",
     "text": [
      "Epoch 178/500 (Training): 100%|██████████| 100/100 [00:14<00:00,  6.89it/s, loss=0.0003, acc=1.0000]\n"
     ]
    },
    {
     "name": "stdout",
     "output_type": "stream",
     "text": [
      "Avg Train Loss: 0.1794, Avg Train Acc: 0.9679 (Best)\n"
     ]
    },
    {
     "name": "stderr",
     "output_type": "stream",
     "text": [
      "Epoch 178/500 (Validation): 100%|██████████| 100/100 [00:09<00:00, 10.95it/s, loss=0.4848, acc=0.9067]\n"
     ]
    },
    {
     "name": "stdout",
     "output_type": "stream",
     "text": [
      "Avg Val Loss: 0.5414, Avg Val Acc: 0.9091 (Best)\n",
      "Current learning rate: [3.125e-05, 3.125e-05]\n",
      "Patience: 0/20\n"
     ]
    },
    {
     "name": "stderr",
     "output_type": "stream",
     "text": [
      "Epoch 179/500 (Training): 100%|██████████| 100/100 [00:12<00:00,  7.79it/s, loss=0.0395, acc=0.9867]\n"
     ]
    },
    {
     "name": "stdout",
     "output_type": "stream",
     "text": [
      "Avg Train Loss: 0.1785, Avg Train Acc: 0.9680 (Best)\n"
     ]
    },
    {
     "name": "stderr",
     "output_type": "stream",
     "text": [
      "Epoch 179/500 (Validation): 100%|██████████| 100/100 [00:08<00:00, 11.25it/s, loss=0.3612, acc=0.9200]\n"
     ]
    },
    {
     "name": "stdout",
     "output_type": "stream",
     "text": [
      "Avg Val Loss: 0.5420, Avg Val Acc: 0.9092 (Best)\n",
      "Current learning rate: [3.125e-05, 3.125e-05]\n",
      "Patience: 0/20\n"
     ]
    },
    {
     "name": "stderr",
     "output_type": "stream",
     "text": [
      "Epoch 180/500 (Training): 100%|██████████| 100/100 [00:13<00:00,  7.48it/s, loss=0.0001, acc=1.0000]\n"
     ]
    },
    {
     "name": "stdout",
     "output_type": "stream",
     "text": [
      "Avg Train Loss: 0.1776, Avg Train Acc: 0.9682 (Best)\n"
     ]
    },
    {
     "name": "stderr",
     "output_type": "stream",
     "text": [
      "Epoch 180/500 (Validation): 100%|██████████| 100/100 [00:09<00:00, 10.52it/s, loss=0.6287, acc=0.8667]\n"
     ]
    },
    {
     "name": "stdout",
     "output_type": "stream",
     "text": [
      "Avg Val Loss: 0.5419, Avg Val Acc: 0.9093 (Best)\n",
      "Current learning rate: [3.125e-05, 3.125e-05]\n",
      "Patience: 0/20\n"
     ]
    },
    {
     "name": "stderr",
     "output_type": "stream",
     "text": [
      "Epoch 181/500 (Training): 100%|██████████| 100/100 [00:12<00:00,  8.01it/s, loss=0.0004, acc=1.0000]\n"
     ]
    },
    {
     "name": "stdout",
     "output_type": "stream",
     "text": [
      "Avg Train Loss: 0.1768, Avg Train Acc: 0.9683 (Best)\n"
     ]
    },
    {
     "name": "stderr",
     "output_type": "stream",
     "text": [
      "Epoch 181/500 (Validation): 100%|██████████| 100/100 [00:09<00:00, 10.54it/s, loss=0.5880, acc=0.8400]\n"
     ]
    },
    {
     "name": "stdout",
     "output_type": "stream",
     "text": [
      "Avg Val Loss: 0.5426, Avg Val Acc: 0.9094 (Best)\n",
      "Current learning rate: [3.125e-05, 3.125e-05]\n",
      "Patience: 0/20\n"
     ]
    },
    {
     "name": "stderr",
     "output_type": "stream",
     "text": [
      "Epoch 182/500 (Training): 100%|██████████| 100/100 [00:12<00:00,  7.86it/s, loss=0.0028, acc=1.0000]\n"
     ]
    },
    {
     "name": "stdout",
     "output_type": "stream",
     "text": [
      "Avg Train Loss: 0.1759, Avg Train Acc: 0.9684 (Best)\n"
     ]
    },
    {
     "name": "stderr",
     "output_type": "stream",
     "text": [
      "Epoch 182/500 (Validation): 100%|██████████| 100/100 [00:09<00:00, 11.07it/s, loss=0.5556, acc=0.8933]\n"
     ]
    },
    {
     "name": "stdout",
     "output_type": "stream",
     "text": [
      "Avg Val Loss: 0.5426, Avg Val Acc: 0.9095 (Best)\n",
      "Current learning rate: [3.125e-05, 3.125e-05]\n",
      "Patience: 0/20\n"
     ]
    },
    {
     "name": "stderr",
     "output_type": "stream",
     "text": [
      "Epoch 183/500 (Training): 100%|██████████| 100/100 [00:12<00:00,  7.92it/s, loss=0.0018, acc=1.0000]\n"
     ]
    },
    {
     "name": "stdout",
     "output_type": "stream",
     "text": [
      "Avg Train Loss: 0.1752, Avg Train Acc: 0.9685 (Best)\n"
     ]
    },
    {
     "name": "stderr",
     "output_type": "stream",
     "text": [
      "Epoch 183/500 (Validation): 100%|██████████| 100/100 [00:09<00:00, 10.53it/s, loss=0.2522, acc=0.9467]\n"
     ]
    },
    {
     "name": "stdout",
     "output_type": "stream",
     "text": [
      "Avg Val Loss: 0.5427, Avg Val Acc: 0.9096 (Best)\n",
      "Current learning rate: [1.5625e-05, 1.5625e-05]\n",
      "Patience: 0/20\n"
     ]
    },
    {
     "name": "stderr",
     "output_type": "stream",
     "text": [
      "Epoch 184/500 (Training): 100%|██████████| 100/100 [00:12<00:00,  8.15it/s, loss=0.2299, acc=0.9200]\n"
     ]
    },
    {
     "name": "stdout",
     "output_type": "stream",
     "text": [
      "Avg Train Loss: 0.1743, Avg Train Acc: 0.9687 (Best)\n"
     ]
    },
    {
     "name": "stderr",
     "output_type": "stream",
     "text": [
      "Epoch 184/500 (Validation): 100%|██████████| 100/100 [00:08<00:00, 11.23it/s, loss=0.4097, acc=0.8667]\n"
     ]
    },
    {
     "name": "stdout",
     "output_type": "stream",
     "text": [
      "Avg Val Loss: 0.5422, Avg Val Acc: 0.9097 (Best)\n",
      "Current learning rate: [1.5625e-05, 1.5625e-05]\n",
      "Patience: 0/20\n"
     ]
    },
    {
     "name": "stderr",
     "output_type": "stream",
     "text": [
      "Epoch 185/500 (Training): 100%|██████████| 100/100 [00:13<00:00,  7.38it/s, loss=0.0009, acc=1.0000]\n"
     ]
    },
    {
     "name": "stdout",
     "output_type": "stream",
     "text": [
      "Avg Train Loss: 0.1736, Avg Train Acc: 0.9688 (Best)\n"
     ]
    },
    {
     "name": "stderr",
     "output_type": "stream",
     "text": [
      "Epoch 185/500 (Validation): 100%|██████████| 100/100 [00:09<00:00, 10.72it/s, loss=0.3472, acc=0.9467]\n"
     ]
    },
    {
     "name": "stdout",
     "output_type": "stream",
     "text": [
      "Avg Val Loss: 0.5418, Avg Val Acc: 0.9098 (Best)\n",
      "Current learning rate: [1.5625e-05, 1.5625e-05]\n",
      "Patience: 0/20\n"
     ]
    },
    {
     "name": "stderr",
     "output_type": "stream",
     "text": [
      "Epoch 186/500 (Training): 100%|██████████| 100/100 [00:14<00:00,  6.79it/s, loss=0.1742, acc=0.9600]\n"
     ]
    },
    {
     "name": "stdout",
     "output_type": "stream",
     "text": [
      "Avg Train Loss: 0.1728, Avg Train Acc: 0.9689 (Best)\n"
     ]
    },
    {
     "name": "stderr",
     "output_type": "stream",
     "text": [
      "Epoch 186/500 (Validation): 100%|██████████| 100/100 [00:09<00:00, 11.09it/s, loss=0.5642, acc=0.9467]\n"
     ]
    },
    {
     "name": "stdout",
     "output_type": "stream",
     "text": [
      "Avg Val Loss: 0.5423, Avg Val Acc: 0.9099 (Best)\n",
      "Current learning rate: [1.5625e-05, 1.5625e-05]\n",
      "Patience: 0/20\n"
     ]
    },
    {
     "name": "stderr",
     "output_type": "stream",
     "text": [
      "Epoch 187/500 (Training): 100%|██████████| 100/100 [00:12<00:00,  8.25it/s, loss=0.0001, acc=1.0000]\n"
     ]
    },
    {
     "name": "stdout",
     "output_type": "stream",
     "text": [
      "Avg Train Loss: 0.1720, Avg Train Acc: 0.9691 (Best)\n"
     ]
    },
    {
     "name": "stderr",
     "output_type": "stream",
     "text": [
      "Epoch 187/500 (Validation): 100%|██████████| 100/100 [00:09<00:00, 10.65it/s, loss=0.2144, acc=0.9733]\n"
     ]
    },
    {
     "name": "stdout",
     "output_type": "stream",
     "text": [
      "Avg Val Loss: 0.5424, Avg Val Acc: 0.9100 (Best)\n",
      "Current learning rate: [1.5625e-05, 1.5625e-05]\n",
      "Patience: 0/20\n"
     ]
    },
    {
     "name": "stderr",
     "output_type": "stream",
     "text": [
      "Epoch 188/500 (Training): 100%|██████████| 100/100 [00:12<00:00,  8.18it/s, loss=0.0834, acc=0.9067]\n"
     ]
    },
    {
     "name": "stdout",
     "output_type": "stream",
     "text": [
      "Avg Train Loss: 0.1712, Avg Train Acc: 0.9692 (Best)\n"
     ]
    },
    {
     "name": "stderr",
     "output_type": "stream",
     "text": [
      "Epoch 188/500 (Validation): 100%|██████████| 100/100 [00:08<00:00, 11.29it/s, loss=0.3051, acc=0.9600]\n"
     ]
    },
    {
     "name": "stdout",
     "output_type": "stream",
     "text": [
      "Avg Val Loss: 0.5425, Avg Val Acc: 0.9100 (Best)\n",
      "Current learning rate: [1.5625e-05, 1.5625e-05]\n",
      "Patience: 0/20\n"
     ]
    },
    {
     "name": "stderr",
     "output_type": "stream",
     "text": [
      "Epoch 189/500 (Training): 100%|██████████| 100/100 [00:13<00:00,  7.48it/s, loss=0.0024, acc=1.0000]\n"
     ]
    },
    {
     "name": "stdout",
     "output_type": "stream",
     "text": [
      "Avg Train Loss: 0.1704, Avg Train Acc: 0.9693 (Best)\n"
     ]
    },
    {
     "name": "stderr",
     "output_type": "stream",
     "text": [
      "Epoch 189/500 (Validation): 100%|██████████| 100/100 [00:09<00:00, 10.72it/s, loss=0.6932, acc=0.9333]\n"
     ]
    },
    {
     "name": "stdout",
     "output_type": "stream",
     "text": [
      "Avg Val Loss: 0.5421, Avg Val Acc: 0.9101 (Best)\n",
      "Current learning rate: [1.5625e-05, 1.5625e-05]\n",
      "Patience: 0/20\n"
     ]
    },
    {
     "name": "stderr",
     "output_type": "stream",
     "text": [
      "Epoch 190/500 (Training): 100%|██████████| 100/100 [00:13<00:00,  7.33it/s, loss=0.0030, acc=1.0000]\n"
     ]
    },
    {
     "name": "stdout",
     "output_type": "stream",
     "text": [
      "Avg Train Loss: 0.1697, Avg Train Acc: 0.9694 (Best)\n"
     ]
    },
    {
     "name": "stderr",
     "output_type": "stream",
     "text": [
      "Epoch 190/500 (Validation): 100%|██████████| 100/100 [00:08<00:00, 11.22it/s, loss=0.1609, acc=0.8800]\n"
     ]
    },
    {
     "name": "stdout",
     "output_type": "stream",
     "text": [
      "Avg Val Loss: 0.5423, Avg Val Acc: 0.9101 (Best)\n",
      "Current learning rate: [1.5625e-05, 1.5625e-05]\n",
      "Patience: 0/20\n"
     ]
    },
    {
     "name": "stderr",
     "output_type": "stream",
     "text": [
      "Epoch 191/500 (Training): 100%|██████████| 100/100 [00:12<00:00,  7.80it/s, loss=0.0360, acc=1.0000]\n"
     ]
    },
    {
     "name": "stdout",
     "output_type": "stream",
     "text": [
      "Avg Train Loss: 0.1689, Avg Train Acc: 0.9695 (Best)\n"
     ]
    },
    {
     "name": "stderr",
     "output_type": "stream",
     "text": [
      "Epoch 191/500 (Validation): 100%|██████████| 100/100 [00:09<00:00, 10.91it/s, loss=0.2733, acc=0.9467]\n"
     ]
    },
    {
     "name": "stdout",
     "output_type": "stream",
     "text": [
      "Avg Val Loss: 0.5431, Avg Val Acc: 0.9102 (Best)\n",
      "Current learning rate: [1.5625e-05, 1.5625e-05]\n",
      "Patience: 0/20\n"
     ]
    },
    {
     "name": "stderr",
     "output_type": "stream",
     "text": [
      "Epoch 192/500 (Training): 100%|██████████| 100/100 [00:12<00:00,  7.75it/s, loss=0.0011, acc=1.0000]\n"
     ]
    },
    {
     "name": "stdout",
     "output_type": "stream",
     "text": [
      "Avg Train Loss: 0.1683, Avg Train Acc: 0.9696 (Best)\n"
     ]
    },
    {
     "name": "stderr",
     "output_type": "stream",
     "text": [
      "Epoch 192/500 (Validation): 100%|██████████| 100/100 [00:09<00:00, 10.67it/s, loss=0.7458, acc=0.9333]\n"
     ]
    },
    {
     "name": "stdout",
     "output_type": "stream",
     "text": [
      "Avg Val Loss: 0.5430, Avg Val Acc: 0.9103 (Best)\n",
      "Current learning rate: [1.5625e-05, 1.5625e-05]\n",
      "Patience: 0/20\n"
     ]
    },
    {
     "name": "stderr",
     "output_type": "stream",
     "text": [
      "Epoch 193/500 (Training): 100%|██████████| 100/100 [00:11<00:00,  8.93it/s, loss=0.0014, acc=1.0000]\n"
     ]
    },
    {
     "name": "stdout",
     "output_type": "stream",
     "text": [
      "Avg Train Loss: 0.1676, Avg Train Acc: 0.9697 (Best)\n"
     ]
    },
    {
     "name": "stderr",
     "output_type": "stream",
     "text": [
      "Epoch 193/500 (Validation): 100%|██████████| 100/100 [00:09<00:00, 10.98it/s, loss=0.6998, acc=0.8933]\n"
     ]
    },
    {
     "name": "stdout",
     "output_type": "stream",
     "text": [
      "Avg Val Loss: 0.5431, Avg Val Acc: 0.9103 (Best)\n",
      "Current learning rate: [1.5625e-05, 1.5625e-05]\n",
      "Patience: 0/20\n"
     ]
    },
    {
     "name": "stderr",
     "output_type": "stream",
     "text": [
      "Epoch 194/500 (Training): 100%|██████████| 100/100 [00:13<00:00,  7.68it/s, loss=0.0153, acc=0.9867]\n"
     ]
    },
    {
     "name": "stdout",
     "output_type": "stream",
     "text": [
      "Avg Train Loss: 0.1668, Avg Train Acc: 0.9698 (Best)\n"
     ]
    },
    {
     "name": "stderr",
     "output_type": "stream",
     "text": [
      "Epoch 194/500 (Validation): 100%|██████████| 100/100 [00:09<00:00, 10.99it/s, loss=1.2878, acc=0.8400]\n"
     ]
    },
    {
     "name": "stdout",
     "output_type": "stream",
     "text": [
      "Avg Val Loss: 0.5447, Avg Val Acc: 0.9104 (Best)\n",
      "Current learning rate: [7.8125e-06, 7.8125e-06]\n",
      "Patience: 0/20\n"
     ]
    },
    {
     "name": "stderr",
     "output_type": "stream",
     "text": [
      "Epoch 195/500 (Training): 100%|██████████| 100/100 [00:12<00:00,  8.11it/s, loss=0.0754, acc=0.9600]\n"
     ]
    },
    {
     "name": "stdout",
     "output_type": "stream",
     "text": [
      "Avg Train Loss: 0.1661, Avg Train Acc: 0.9700 (Best)\n"
     ]
    },
    {
     "name": "stderr",
     "output_type": "stream",
     "text": [
      "Epoch 195/500 (Validation): 100%|██████████| 100/100 [00:09<00:00, 10.46it/s, loss=0.3599, acc=0.9467]\n"
     ]
    },
    {
     "name": "stdout",
     "output_type": "stream",
     "text": [
      "Avg Val Loss: 0.5457, Avg Val Acc: 0.9104 (Best)\n",
      "Current learning rate: [7.8125e-06, 7.8125e-06]\n",
      "Patience: 0/20\n"
     ]
    },
    {
     "name": "stderr",
     "output_type": "stream",
     "text": [
      "Epoch 196/500 (Training): 100%|██████████| 100/100 [00:13<00:00,  7.45it/s, loss=0.0033, acc=1.0000]\n"
     ]
    },
    {
     "name": "stdout",
     "output_type": "stream",
     "text": [
      "Avg Train Loss: 0.1654, Avg Train Acc: 0.9701 (Best)\n"
     ]
    },
    {
     "name": "stderr",
     "output_type": "stream",
     "text": [
      "Epoch 196/500 (Validation): 100%|██████████| 100/100 [00:09<00:00, 10.81it/s, loss=0.7835, acc=0.9467]\n"
     ]
    },
    {
     "name": "stdout",
     "output_type": "stream",
     "text": [
      "Avg Val Loss: 0.5458, Avg Val Acc: 0.9105 (Best)\n",
      "Current learning rate: [7.8125e-06, 7.8125e-06]\n",
      "Patience: 0/20\n"
     ]
    },
    {
     "name": "stderr",
     "output_type": "stream",
     "text": [
      "Epoch 197/500 (Training): 100%|██████████| 100/100 [00:12<00:00,  8.21it/s, loss=0.1130, acc=0.9467]\n"
     ]
    },
    {
     "name": "stdout",
     "output_type": "stream",
     "text": [
      "Avg Train Loss: 0.1647, Avg Train Acc: 0.9702 (Best)\n"
     ]
    },
    {
     "name": "stderr",
     "output_type": "stream",
     "text": [
      "Epoch 197/500 (Validation): 100%|██████████| 100/100 [00:09<00:00, 10.79it/s, loss=0.2021, acc=0.9733]\n"
     ]
    },
    {
     "name": "stdout",
     "output_type": "stream",
     "text": [
      "Avg Val Loss: 0.5458, Avg Val Acc: 0.9106 (Best)\n",
      "Current learning rate: [7.8125e-06, 7.8125e-06]\n",
      "Patience: 0/20\n"
     ]
    },
    {
     "name": "stderr",
     "output_type": "stream",
     "text": [
      "Epoch 198/500 (Training): 100%|██████████| 100/100 [00:12<00:00,  8.02it/s, loss=0.0144, acc=0.9867]\n"
     ]
    },
    {
     "name": "stdout",
     "output_type": "stream",
     "text": [
      "Avg Train Loss: 0.1640, Avg Train Acc: 0.9703 (Best)\n"
     ]
    },
    {
     "name": "stderr",
     "output_type": "stream",
     "text": [
      "Epoch 198/500 (Validation): 100%|██████████| 100/100 [00:09<00:00, 10.74it/s, loss=0.3343, acc=0.9467]\n"
     ]
    },
    {
     "name": "stdout",
     "output_type": "stream",
     "text": [
      "Avg Val Loss: 0.5457, Avg Val Acc: 0.9106 (Best)\n",
      "Current learning rate: [7.8125e-06, 7.8125e-06]\n",
      "Patience: 0/20\n"
     ]
    },
    {
     "name": "stderr",
     "output_type": "stream",
     "text": [
      "Epoch 199/500 (Training): 100%|██████████| 100/100 [00:13<00:00,  7.45it/s, loss=0.0017, acc=1.0000]\n"
     ]
    },
    {
     "name": "stdout",
     "output_type": "stream",
     "text": [
      "Avg Train Loss: 0.1634, Avg Train Acc: 0.9704 (Best)\n"
     ]
    },
    {
     "name": "stderr",
     "output_type": "stream",
     "text": [
      "Epoch 199/500 (Validation): 100%|██████████| 100/100 [00:09<00:00, 10.52it/s, loss=1.3282, acc=0.9200]\n"
     ]
    },
    {
     "name": "stdout",
     "output_type": "stream",
     "text": [
      "Avg Val Loss: 0.5464, Avg Val Acc: 0.9107 (Best)\n",
      "Current learning rate: [7.8125e-06, 7.8125e-06]\n",
      "Patience: 0/20\n"
     ]
    },
    {
     "name": "stderr",
     "output_type": "stream",
     "text": [
      "Epoch 200/500 (Training): 100%|██████████| 100/100 [00:12<00:00,  7.99it/s, loss=0.0070, acc=1.0000]\n"
     ]
    },
    {
     "name": "stdout",
     "output_type": "stream",
     "text": [
      "Avg Train Loss: 0.1626, Avg Train Acc: 0.9705 (Best)\n"
     ]
    },
    {
     "name": "stderr",
     "output_type": "stream",
     "text": [
      "Epoch 200/500 (Validation): 100%|██████████| 100/100 [00:09<00:00, 10.92it/s, loss=1.1012, acc=0.9200]\n"
     ]
    },
    {
     "name": "stdout",
     "output_type": "stream",
     "text": [
      "Avg Val Loss: 0.5462, Avg Val Acc: 0.9108 (Best)\n",
      "Current learning rate: [7.8125e-06, 7.8125e-06]\n",
      "Patience: 0/20\n"
     ]
    },
    {
     "name": "stderr",
     "output_type": "stream",
     "text": [
      "Epoch 201/500 (Training): 100%|██████████| 100/100 [00:13<00:00,  7.66it/s, loss=0.0007, acc=1.0000]\n"
     ]
    },
    {
     "name": "stdout",
     "output_type": "stream",
     "text": [
      "Avg Train Loss: 0.1620, Avg Train Acc: 0.9706 (Best)\n"
     ]
    },
    {
     "name": "stderr",
     "output_type": "stream",
     "text": [
      "Epoch 201/500 (Validation): 100%|██████████| 100/100 [00:09<00:00, 10.85it/s, loss=1.3712, acc=0.8933]\n"
     ]
    },
    {
     "name": "stdout",
     "output_type": "stream",
     "text": [
      "Avg Val Loss: 0.5463, Avg Val Acc: 0.9108 (Best)\n",
      "Current learning rate: [7.8125e-06, 7.8125e-06]\n",
      "Patience: 0/20\n"
     ]
    },
    {
     "name": "stderr",
     "output_type": "stream",
     "text": [
      "Epoch 202/500 (Training): 100%|██████████| 100/100 [00:13<00:00,  7.67it/s, loss=0.0108, acc=1.0000]\n"
     ]
    },
    {
     "name": "stdout",
     "output_type": "stream",
     "text": [
      "Avg Train Loss: 0.1613, Avg Train Acc: 0.9707 (Best)\n"
     ]
    },
    {
     "name": "stderr",
     "output_type": "stream",
     "text": [
      "Epoch 202/500 (Validation): 100%|██████████| 100/100 [00:09<00:00, 10.32it/s, loss=0.3930, acc=0.8933]\n"
     ]
    },
    {
     "name": "stdout",
     "output_type": "stream",
     "text": [
      "Avg Val Loss: 0.5474, Avg Val Acc: 0.9109 (Best)\n",
      "Current learning rate: [7.8125e-06, 7.8125e-06]\n",
      "Patience: 0/20\n"
     ]
    },
    {
     "name": "stderr",
     "output_type": "stream",
     "text": [
      "Epoch 203/500 (Training): 100%|██████████| 100/100 [00:13<00:00,  7.24it/s, loss=0.0195, acc=0.9867]\n"
     ]
    },
    {
     "name": "stdout",
     "output_type": "stream",
     "text": [
      "Avg Train Loss: 0.1606, Avg Train Acc: 0.9708 (Best)\n"
     ]
    },
    {
     "name": "stderr",
     "output_type": "stream",
     "text": [
      "Epoch 203/500 (Validation): 100%|██████████| 100/100 [00:09<00:00, 10.17it/s, loss=0.3316, acc=0.9600]\n"
     ]
    },
    {
     "name": "stdout",
     "output_type": "stream",
     "text": [
      "Avg Val Loss: 0.5469, Avg Val Acc: 0.9110 (Best)\n",
      "Current learning rate: [7.8125e-06, 7.8125e-06]\n",
      "Patience: 0/20\n"
     ]
    },
    {
     "name": "stderr",
     "output_type": "stream",
     "text": [
      "Epoch 204/500 (Training): 100%|██████████| 100/100 [00:12<00:00,  7.74it/s, loss=0.0829, acc=0.9733]\n"
     ]
    },
    {
     "name": "stdout",
     "output_type": "stream",
     "text": [
      "Avg Train Loss: 0.1600, Avg Train Acc: 0.9709 (Best)\n"
     ]
    },
    {
     "name": "stderr",
     "output_type": "stream",
     "text": [
      "Epoch 204/500 (Validation): 100%|██████████| 100/100 [00:09<00:00, 10.41it/s, loss=0.3321, acc=0.9867]\n"
     ]
    },
    {
     "name": "stdout",
     "output_type": "stream",
     "text": [
      "Avg Val Loss: 0.5475, Avg Val Acc: 0.9111 (Best)\n",
      "Current learning rate: [7.8125e-06, 7.8125e-06]\n",
      "Patience: 0/20\n"
     ]
    },
    {
     "name": "stderr",
     "output_type": "stream",
     "text": [
      "Epoch 205/500 (Training): 100%|██████████| 100/100 [00:13<00:00,  7.41it/s, loss=0.0213, acc=1.0000]\n"
     ]
    },
    {
     "name": "stdout",
     "output_type": "stream",
     "text": [
      "Avg Train Loss: 0.1593, Avg Train Acc: 0.9710 (Best)\n"
     ]
    },
    {
     "name": "stderr",
     "output_type": "stream",
     "text": [
      "Epoch 205/500 (Validation): 100%|██████████| 100/100 [00:09<00:00, 10.90it/s, loss=0.8105, acc=0.8667]\n"
     ]
    },
    {
     "name": "stdout",
     "output_type": "stream",
     "text": [
      "Avg Val Loss: 0.5475, Avg Val Acc: 0.9111 (Best)\n",
      "Current learning rate: [3.90625e-06, 3.90625e-06]\n",
      "Patience: 0/20\n"
     ]
    },
    {
     "name": "stderr",
     "output_type": "stream",
     "text": [
      "Epoch 206/500 (Training): 100%|██████████| 100/100 [00:13<00:00,  7.43it/s, loss=0.0901, acc=1.0000]\n"
     ]
    },
    {
     "name": "stdout",
     "output_type": "stream",
     "text": [
      "Avg Train Loss: 0.1587, Avg Train Acc: 0.9710 (Best)\n"
     ]
    },
    {
     "name": "stderr",
     "output_type": "stream",
     "text": [
      "Epoch 206/500 (Validation): 100%|██████████| 100/100 [00:09<00:00, 10.81it/s, loss=0.1445, acc=0.9733]\n"
     ]
    },
    {
     "name": "stdout",
     "output_type": "stream",
     "text": [
      "Avg Val Loss: 0.5470, Avg Val Acc: 0.9112 (Best)\n",
      "Current learning rate: [3.90625e-06, 3.90625e-06]\n",
      "Patience: 0/20\n"
     ]
    },
    {
     "name": "stderr",
     "output_type": "stream",
     "text": [
      "Epoch 207/500 (Training): 100%|██████████| 100/100 [00:14<00:00,  7.13it/s, loss=0.0101, acc=1.0000]\n"
     ]
    },
    {
     "name": "stdout",
     "output_type": "stream",
     "text": [
      "Avg Train Loss: 0.1581, Avg Train Acc: 0.9712 (Best)\n"
     ]
    },
    {
     "name": "stderr",
     "output_type": "stream",
     "text": [
      "Epoch 207/500 (Validation): 100%|██████████| 100/100 [00:09<00:00, 10.89it/s, loss=1.0096, acc=0.9067]\n"
     ]
    },
    {
     "name": "stdout",
     "output_type": "stream",
     "text": [
      "Avg Val Loss: 0.5472, Avg Val Acc: 0.9113 (Best)\n",
      "Current learning rate: [3.90625e-06, 3.90625e-06]\n",
      "Patience: 0/20\n"
     ]
    },
    {
     "name": "stderr",
     "output_type": "stream",
     "text": [
      "Epoch 208/500 (Training): 100%|██████████| 100/100 [00:12<00:00,  7.97it/s, loss=0.0093, acc=1.0000]\n"
     ]
    },
    {
     "name": "stdout",
     "output_type": "stream",
     "text": [
      "Avg Train Loss: 0.1574, Avg Train Acc: 0.9713 (Best)\n"
     ]
    },
    {
     "name": "stderr",
     "output_type": "stream",
     "text": [
      "Epoch 208/500 (Validation): 100%|██████████| 100/100 [00:09<00:00, 10.79it/s, loss=1.1973, acc=0.8800]\n"
     ]
    },
    {
     "name": "stdout",
     "output_type": "stream",
     "text": [
      "Avg Val Loss: 0.5473, Avg Val Acc: 0.9114 (Best)\n",
      "Current learning rate: [3.90625e-06, 3.90625e-06]\n",
      "Patience: 0/20\n"
     ]
    },
    {
     "name": "stderr",
     "output_type": "stream",
     "text": [
      "Epoch 209/500 (Training): 100%|██████████| 100/100 [00:12<00:00,  7.81it/s, loss=0.0306, acc=1.0000]\n"
     ]
    },
    {
     "name": "stdout",
     "output_type": "stream",
     "text": [
      "Avg Train Loss: 0.1569, Avg Train Acc: 0.9714 (Best)\n"
     ]
    },
    {
     "name": "stderr",
     "output_type": "stream",
     "text": [
      "Epoch 209/500 (Validation): 100%|██████████| 100/100 [00:09<00:00, 10.43it/s, loss=0.4219, acc=0.9200]\n"
     ]
    },
    {
     "name": "stdout",
     "output_type": "stream",
     "text": [
      "Avg Val Loss: 0.5478, Avg Val Acc: 0.9114 (Best)\n",
      "Current learning rate: [3.90625e-06, 3.90625e-06]\n",
      "Patience: 0/20\n"
     ]
    },
    {
     "name": "stderr",
     "output_type": "stream",
     "text": [
      "Epoch 210/500 (Training): 100%|██████████| 100/100 [00:13<00:00,  7.40it/s, loss=0.0090, acc=1.0000]\n"
     ]
    },
    {
     "name": "stdout",
     "output_type": "stream",
     "text": [
      "Avg Train Loss: 0.1562, Avg Train Acc: 0.9714 (Best)\n"
     ]
    },
    {
     "name": "stderr",
     "output_type": "stream",
     "text": [
      "Epoch 210/500 (Validation): 100%|██████████| 100/100 [00:09<00:00, 10.77it/s, loss=0.4122, acc=0.9467]\n"
     ]
    },
    {
     "name": "stdout",
     "output_type": "stream",
     "text": [
      "Avg Val Loss: 0.5482, Avg Val Acc: 0.9115 (Best)\n",
      "Current learning rate: [3.90625e-06, 3.90625e-06]\n",
      "Patience: 0/20\n"
     ]
    },
    {
     "name": "stderr",
     "output_type": "stream",
     "text": [
      "Epoch 211/500 (Training): 100%|██████████| 100/100 [00:11<00:00,  8.98it/s, loss=0.0106, acc=1.0000]\n"
     ]
    },
    {
     "name": "stdout",
     "output_type": "stream",
     "text": [
      "Avg Train Loss: 0.1556, Avg Train Acc: 0.9716 (Best)\n"
     ]
    },
    {
     "name": "stderr",
     "output_type": "stream",
     "text": [
      "Epoch 211/500 (Validation): 100%|██████████| 100/100 [00:09<00:00, 10.81it/s, loss=0.1141, acc=0.9600]\n"
     ]
    },
    {
     "name": "stdout",
     "output_type": "stream",
     "text": [
      "Avg Val Loss: 0.5481, Avg Val Acc: 0.9116 (Best)\n",
      "Current learning rate: [3.90625e-06, 3.90625e-06]\n",
      "Patience: 0/20\n"
     ]
    },
    {
     "name": "stderr",
     "output_type": "stream",
     "text": [
      "Epoch 212/500 (Training): 100%|██████████| 100/100 [00:11<00:00,  8.72it/s, loss=0.0151, acc=0.9867]\n"
     ]
    },
    {
     "name": "stdout",
     "output_type": "stream",
     "text": [
      "Avg Train Loss: 0.1550, Avg Train Acc: 0.9716 (Best)\n"
     ]
    },
    {
     "name": "stderr",
     "output_type": "stream",
     "text": [
      "Epoch 212/500 (Validation): 100%|██████████| 100/100 [00:09<00:00, 11.04it/s, loss=0.6720, acc=0.8400]\n"
     ]
    },
    {
     "name": "stdout",
     "output_type": "stream",
     "text": [
      "Avg Val Loss: 0.5486, Avg Val Acc: 0.9116 (Best)\n",
      "Current learning rate: [3.90625e-06, 3.90625e-06]\n",
      "Patience: 0/20\n"
     ]
    },
    {
     "name": "stderr",
     "output_type": "stream",
     "text": [
      "Epoch 213/500 (Training): 100%|██████████| 100/100 [00:14<00:00,  6.97it/s, loss=0.1400, acc=0.9867]\n"
     ]
    },
    {
     "name": "stdout",
     "output_type": "stream",
     "text": [
      "Avg Train Loss: 0.1544, Avg Train Acc: 0.9717 (Best)\n"
     ]
    },
    {
     "name": "stderr",
     "output_type": "stream",
     "text": [
      "Epoch 213/500 (Validation): 100%|██████████| 100/100 [00:08<00:00, 11.70it/s, loss=0.2427, acc=0.9333]\n"
     ]
    },
    {
     "name": "stdout",
     "output_type": "stream",
     "text": [
      "Avg Val Loss: 0.5488, Avg Val Acc: 0.9117 (Best)\n",
      "Current learning rate: [3.90625e-06, 3.90625e-06]\n",
      "Patience: 0/20\n"
     ]
    },
    {
     "name": "stderr",
     "output_type": "stream",
     "text": [
      "Epoch 214/500 (Training): 100%|██████████| 100/100 [00:12<00:00,  7.85it/s, loss=0.0019, acc=1.0000]\n"
     ]
    },
    {
     "name": "stdout",
     "output_type": "stream",
     "text": [
      "Avg Train Loss: 0.1538, Avg Train Acc: 0.9718 (Best)\n"
     ]
    },
    {
     "name": "stderr",
     "output_type": "stream",
     "text": [
      "Epoch 214/500 (Validation): 100%|██████████| 100/100 [00:09<00:00, 10.43it/s, loss=1.1054, acc=0.8400]\n"
     ]
    },
    {
     "name": "stdout",
     "output_type": "stream",
     "text": [
      "Avg Val Loss: 0.5490, Avg Val Acc: 0.9118 (Best)\n",
      "Current learning rate: [3.90625e-06, 3.90625e-06]\n",
      "Patience: 0/20\n"
     ]
    },
    {
     "name": "stderr",
     "output_type": "stream",
     "text": [
      "Epoch 215/500 (Training): 100%|██████████| 100/100 [00:13<00:00,  7.37it/s, loss=0.0001, acc=1.0000]\n"
     ]
    },
    {
     "name": "stdout",
     "output_type": "stream",
     "text": [
      "Avg Train Loss: 0.1532, Avg Train Acc: 0.9719 (Best)\n"
     ]
    },
    {
     "name": "stderr",
     "output_type": "stream",
     "text": [
      "Epoch 215/500 (Validation): 100%|██████████| 100/100 [00:09<00:00, 10.89it/s, loss=0.2491, acc=0.9467]\n"
     ]
    },
    {
     "name": "stdout",
     "output_type": "stream",
     "text": [
      "Avg Val Loss: 0.5497, Avg Val Acc: 0.9118 (Best)\n",
      "Current learning rate: [3.90625e-06, 3.90625e-06]\n",
      "Patience: 0/20\n"
     ]
    },
    {
     "name": "stderr",
     "output_type": "stream",
     "text": [
      "Epoch 216/500 (Training): 100%|██████████| 100/100 [00:13<00:00,  7.56it/s, loss=0.0000, acc=1.0000]\n"
     ]
    },
    {
     "name": "stdout",
     "output_type": "stream",
     "text": [
      "Avg Train Loss: 0.1527, Avg Train Acc: 0.9720 (Best)\n"
     ]
    },
    {
     "name": "stderr",
     "output_type": "stream",
     "text": [
      "Epoch 216/500 (Validation): 100%|██████████| 100/100 [00:09<00:00, 11.00it/s, loss=0.5374, acc=0.9600]\n"
     ]
    },
    {
     "name": "stdout",
     "output_type": "stream",
     "text": [
      "Avg Val Loss: 0.5503, Avg Val Acc: 0.9119 (Best)\n",
      "Current learning rate: [1.953125e-06, 1.953125e-06]\n",
      "Patience: 0/20\n"
     ]
    },
    {
     "name": "stderr",
     "output_type": "stream",
     "text": [
      "Epoch 217/500 (Training): 100%|██████████| 100/100 [00:13<00:00,  7.40it/s, loss=0.0064, acc=1.0000]\n"
     ]
    },
    {
     "name": "stdout",
     "output_type": "stream",
     "text": [
      "Avg Train Loss: 0.1521, Avg Train Acc: 0.9721 (Best)\n"
     ]
    },
    {
     "name": "stderr",
     "output_type": "stream",
     "text": [
      "Epoch 217/500 (Validation): 100%|██████████| 100/100 [00:09<00:00, 11.00it/s, loss=0.4233, acc=0.9333]\n"
     ]
    },
    {
     "name": "stdout",
     "output_type": "stream",
     "text": [
      "Avg Val Loss: 0.5509, Avg Val Acc: 0.9119 (Best)\n",
      "Current learning rate: [1.953125e-06, 1.953125e-06]\n",
      "Patience: 0/20\n"
     ]
    },
    {
     "name": "stderr",
     "output_type": "stream",
     "text": [
      "Epoch 218/500 (Training): 100%|██████████| 100/100 [00:12<00:00,  8.12it/s, loss=0.0000, acc=1.0000]\n"
     ]
    },
    {
     "name": "stdout",
     "output_type": "stream",
     "text": [
      "Avg Train Loss: 0.1516, Avg Train Acc: 0.9721 (Best)\n"
     ]
    },
    {
     "name": "stderr",
     "output_type": "stream",
     "text": [
      "Epoch 218/500 (Validation): 100%|██████████| 100/100 [00:09<00:00, 10.55it/s, loss=0.5187, acc=0.9333]\n"
     ]
    },
    {
     "name": "stdout",
     "output_type": "stream",
     "text": [
      "Avg Val Loss: 0.5508, Avg Val Acc: 0.9119 (Best)\n",
      "Current learning rate: [1.953125e-06, 1.953125e-06]\n",
      "Patience: 0/20\n"
     ]
    },
    {
     "name": "stderr",
     "output_type": "stream",
     "text": [
      "Epoch 219/500 (Training): 100%|██████████| 100/100 [00:14<00:00,  6.93it/s, loss=0.0056, acc=1.0000]\n"
     ]
    },
    {
     "name": "stdout",
     "output_type": "stream",
     "text": [
      "Avg Train Loss: 0.1510, Avg Train Acc: 0.9722 (Best)\n"
     ]
    },
    {
     "name": "stderr",
     "output_type": "stream",
     "text": [
      "Epoch 219/500 (Validation): 100%|██████████| 100/100 [00:09<00:00, 10.84it/s, loss=0.5203, acc=0.9600]\n"
     ]
    },
    {
     "name": "stdout",
     "output_type": "stream",
     "text": [
      "Avg Val Loss: 0.5511, Avg Val Acc: 0.9120 (Best)\n",
      "Current learning rate: [1.953125e-06, 1.953125e-06]\n",
      "Patience: 0/20\n"
     ]
    },
    {
     "name": "stderr",
     "output_type": "stream",
     "text": [
      "Epoch 220/500 (Training): 100%|██████████| 100/100 [00:12<00:00,  8.15it/s, loss=0.0747, acc=0.9600]\n"
     ]
    },
    {
     "name": "stdout",
     "output_type": "stream",
     "text": [
      "Avg Train Loss: 0.1505, Avg Train Acc: 0.9723 (Best)\n"
     ]
    },
    {
     "name": "stderr",
     "output_type": "stream",
     "text": [
      "Epoch 220/500 (Validation): 100%|██████████| 100/100 [00:08<00:00, 11.19it/s, loss=0.7493, acc=0.9067]\n"
     ]
    },
    {
     "name": "stdout",
     "output_type": "stream",
     "text": [
      "Avg Val Loss: 0.5514, Avg Val Acc: 0.9120 (Best)\n",
      "Current learning rate: [1.953125e-06, 1.953125e-06]\n",
      "Patience: 0/20\n"
     ]
    },
    {
     "name": "stderr",
     "output_type": "stream",
     "text": [
      "Epoch 221/500 (Training): 100%|██████████| 100/100 [00:12<00:00,  8.02it/s, loss=0.0903, acc=0.9867]\n"
     ]
    },
    {
     "name": "stdout",
     "output_type": "stream",
     "text": [
      "Avg Train Loss: 0.1499, Avg Train Acc: 0.9724 (Best)\n"
     ]
    },
    {
     "name": "stderr",
     "output_type": "stream",
     "text": [
      "Epoch 221/500 (Validation): 100%|██████████| 100/100 [00:09<00:00, 10.46it/s, loss=0.3960, acc=0.9733]\n"
     ]
    },
    {
     "name": "stdout",
     "output_type": "stream",
     "text": [
      "Avg Val Loss: 0.5520, Avg Val Acc: 0.9121 (Best)\n",
      "Current learning rate: [1.953125e-06, 1.953125e-06]\n",
      "Patience: 0/20\n"
     ]
    },
    {
     "name": "stderr",
     "output_type": "stream",
     "text": [
      "Epoch 222/500 (Training): 100%|██████████| 100/100 [00:12<00:00,  8.32it/s, loss=0.0297, acc=0.9867]\n"
     ]
    },
    {
     "name": "stdout",
     "output_type": "stream",
     "text": [
      "Avg Train Loss: 0.1494, Avg Train Acc: 0.9725 (Best)\n"
     ]
    },
    {
     "name": "stderr",
     "output_type": "stream",
     "text": [
      "Epoch 222/500 (Validation): 100%|██████████| 100/100 [00:09<00:00, 11.10it/s, loss=0.5479, acc=0.9333]\n"
     ]
    },
    {
     "name": "stdout",
     "output_type": "stream",
     "text": [
      "Avg Val Loss: 0.5515, Avg Val Acc: 0.9121 (Best)\n",
      "Current learning rate: [1.953125e-06, 1.953125e-06]\n",
      "Patience: 0/20\n"
     ]
    },
    {
     "name": "stderr",
     "output_type": "stream",
     "text": [
      "Epoch 223/500 (Training): 100%|██████████| 100/100 [00:13<00:00,  7.63it/s, loss=0.0102, acc=1.0000]\n"
     ]
    },
    {
     "name": "stdout",
     "output_type": "stream",
     "text": [
      "Avg Train Loss: 0.1488, Avg Train Acc: 0.9726 (Best)\n"
     ]
    },
    {
     "name": "stderr",
     "output_type": "stream",
     "text": [
      "Epoch 223/500 (Validation): 100%|██████████| 100/100 [00:09<00:00, 10.77it/s, loss=0.6565, acc=0.8933]\n"
     ]
    },
    {
     "name": "stdout",
     "output_type": "stream",
     "text": [
      "Avg Val Loss: 0.5523, Avg Val Acc: 0.9121 (Best)\n",
      "Current learning rate: [1.953125e-06, 1.953125e-06]\n",
      "Patience: 0/20\n"
     ]
    },
    {
     "name": "stderr",
     "output_type": "stream",
     "text": [
      "Epoch 224/500 (Training): 100%|██████████| 100/100 [00:12<00:00,  7.76it/s, loss=0.0034, acc=1.0000]\n"
     ]
    },
    {
     "name": "stdout",
     "output_type": "stream",
     "text": [
      "Avg Train Loss: 0.1482, Avg Train Acc: 0.9727 (Best)\n"
     ]
    },
    {
     "name": "stderr",
     "output_type": "stream",
     "text": [
      "Epoch 224/500 (Validation): 100%|██████████| 100/100 [00:08<00:00, 11.23it/s, loss=0.7123, acc=0.9467]\n"
     ]
    },
    {
     "name": "stdout",
     "output_type": "stream",
     "text": [
      "Avg Val Loss: 0.5527, Avg Val Acc: 0.9122 (Best)\n",
      "Current learning rate: [1.953125e-06, 1.953125e-06]\n",
      "Patience: 0/20\n"
     ]
    },
    {
     "name": "stderr",
     "output_type": "stream",
     "text": [
      "Epoch 225/500 (Training): 100%|██████████| 100/100 [00:12<00:00,  8.33it/s, loss=0.0166, acc=0.9867]\n"
     ]
    },
    {
     "name": "stdout",
     "output_type": "stream",
     "text": [
      "Avg Train Loss: 0.1477, Avg Train Acc: 0.9728 (Best)\n"
     ]
    },
    {
     "name": "stderr",
     "output_type": "stream",
     "text": [
      "Epoch 225/500 (Validation): 100%|██████████| 100/100 [00:09<00:00, 10.82it/s, loss=0.4962, acc=0.9467]\n"
     ]
    },
    {
     "name": "stdout",
     "output_type": "stream",
     "text": [
      "Avg Val Loss: 0.5534, Avg Val Acc: 0.9122 (Best)\n",
      "Current learning rate: [1.953125e-06, 1.953125e-06]\n",
      "Patience: 0/20\n"
     ]
    },
    {
     "name": "stderr",
     "output_type": "stream",
     "text": [
      "Epoch 226/500 (Training): 100%|██████████| 100/100 [00:13<00:00,  7.56it/s, loss=0.0022, acc=1.0000]\n"
     ]
    },
    {
     "name": "stdout",
     "output_type": "stream",
     "text": [
      "Avg Train Loss: 0.1472, Avg Train Acc: 0.9728 (Best)\n"
     ]
    },
    {
     "name": "stderr",
     "output_type": "stream",
     "text": [
      "Epoch 226/500 (Validation): 100%|██████████| 100/100 [00:08<00:00, 11.29it/s, loss=1.0375, acc=0.9067]\n"
     ]
    },
    {
     "name": "stdout",
     "output_type": "stream",
     "text": [
      "Avg Val Loss: 0.5535, Avg Val Acc: 0.9123 (Best)\n",
      "Current learning rate: [1.953125e-06, 1.953125e-06]\n",
      "Patience: 0/20\n"
     ]
    },
    {
     "name": "stderr",
     "output_type": "stream",
     "text": [
      "Epoch 227/500 (Training): 100%|██████████| 100/100 [00:11<00:00,  8.37it/s, loss=0.0504, acc=0.9733]\n"
     ]
    },
    {
     "name": "stdout",
     "output_type": "stream",
     "text": [
      "Avg Train Loss: 0.1467, Avg Train Acc: 0.9729 (Best)\n"
     ]
    },
    {
     "name": "stderr",
     "output_type": "stream",
     "text": [
      "Epoch 227/500 (Validation): 100%|██████████| 100/100 [00:09<00:00, 10.59it/s, loss=0.6608, acc=0.9067]\n"
     ]
    },
    {
     "name": "stdout",
     "output_type": "stream",
     "text": [
      "Avg Val Loss: 0.5540, Avg Val Acc: 0.9123 (Best)\n",
      "Current learning rate: [9.765625e-07, 9.765625e-07]\n",
      "Patience: 0/20\n"
     ]
    },
    {
     "name": "stderr",
     "output_type": "stream",
     "text": [
      "Epoch 228/500 (Training): 100%|██████████| 100/100 [00:14<00:00,  7.01it/s, loss=0.0052, acc=1.0000]\n"
     ]
    },
    {
     "name": "stdout",
     "output_type": "stream",
     "text": [
      "Avg Train Loss: 0.1462, Avg Train Acc: 0.9730 (Best)\n"
     ]
    },
    {
     "name": "stderr",
     "output_type": "stream",
     "text": [
      "Epoch 228/500 (Validation): 100%|██████████| 100/100 [00:08<00:00, 11.13it/s, loss=0.7421, acc=0.8533]\n"
     ]
    },
    {
     "name": "stdout",
     "output_type": "stream",
     "text": [
      "Avg Val Loss: 0.5540, Avg Val Acc: 0.9123 (Best)\n",
      "Current learning rate: [9.765625e-07, 9.765625e-07]\n",
      "Patience: 0/20\n"
     ]
    },
    {
     "name": "stderr",
     "output_type": "stream",
     "text": [
      "Epoch 229/500 (Training): 100%|██████████| 100/100 [00:12<00:00,  8.01it/s, loss=0.1781, acc=0.9467]\n"
     ]
    },
    {
     "name": "stdout",
     "output_type": "stream",
     "text": [
      "Avg Train Loss: 0.1457, Avg Train Acc: 0.9731 (Best)\n"
     ]
    },
    {
     "name": "stderr",
     "output_type": "stream",
     "text": [
      "Epoch 229/500 (Validation): 100%|██████████| 100/100 [00:09<00:00, 10.35it/s, loss=0.3580, acc=0.9467]\n"
     ]
    },
    {
     "name": "stdout",
     "output_type": "stream",
     "text": [
      "Avg Val Loss: 0.5539, Avg Val Acc: 0.9124 (Best)\n",
      "Current learning rate: [9.765625e-07, 9.765625e-07]\n",
      "Patience: 0/20\n"
     ]
    },
    {
     "name": "stderr",
     "output_type": "stream",
     "text": [
      "Epoch 230/500 (Training): 100%|██████████| 100/100 [00:12<00:00,  7.78it/s, loss=0.0263, acc=1.0000]\n"
     ]
    },
    {
     "name": "stdout",
     "output_type": "stream",
     "text": [
      "Avg Train Loss: 0.1452, Avg Train Acc: 0.9732 (Best)\n"
     ]
    },
    {
     "name": "stderr",
     "output_type": "stream",
     "text": [
      "Epoch 230/500 (Validation): 100%|██████████| 100/100 [00:08<00:00, 11.22it/s, loss=0.8141, acc=0.9467]\n"
     ]
    },
    {
     "name": "stdout",
     "output_type": "stream",
     "text": [
      "Avg Val Loss: 0.5544, Avg Val Acc: 0.9124 (Best)\n",
      "Current learning rate: [9.765625e-07, 9.765625e-07]\n",
      "Patience: 0/20\n"
     ]
    },
    {
     "name": "stderr",
     "output_type": "stream",
     "text": [
      "Epoch 231/500 (Training): 100%|██████████| 100/100 [00:14<00:00,  7.09it/s, loss=0.1276, acc=0.9733]\n"
     ]
    },
    {
     "name": "stdout",
     "output_type": "stream",
     "text": [
      "Avg Train Loss: 0.1447, Avg Train Acc: 0.9733 (Best)\n"
     ]
    },
    {
     "name": "stderr",
     "output_type": "stream",
     "text": [
      "Epoch 231/500 (Validation): 100%|██████████| 100/100 [00:09<00:00, 10.85it/s, loss=0.2702, acc=0.9467]\n"
     ]
    },
    {
     "name": "stdout",
     "output_type": "stream",
     "text": [
      "Avg Val Loss: 0.5541, Avg Val Acc: 0.9125 (Best)\n",
      "Current learning rate: [9.765625e-07, 9.765625e-07]\n",
      "Patience: 0/20\n"
     ]
    },
    {
     "name": "stderr",
     "output_type": "stream",
     "text": [
      "Epoch 232/500 (Training): 100%|██████████| 100/100 [00:14<00:00,  6.86it/s, loss=0.0000, acc=1.0000]\n"
     ]
    },
    {
     "name": "stdout",
     "output_type": "stream",
     "text": [
      "Avg Train Loss: 0.1441, Avg Train Acc: 0.9733 (Best)\n"
     ]
    },
    {
     "name": "stderr",
     "output_type": "stream",
     "text": [
      "Epoch 232/500 (Validation): 100%|██████████| 100/100 [00:09<00:00, 10.94it/s, loss=1.2926, acc=0.9200]\n"
     ]
    },
    {
     "name": "stdout",
     "output_type": "stream",
     "text": [
      "Avg Val Loss: 0.5545, Avg Val Acc: 0.9125 (Best)\n",
      "Current learning rate: [9.765625e-07, 9.765625e-07]\n",
      "Patience: 0/20\n"
     ]
    },
    {
     "name": "stderr",
     "output_type": "stream",
     "text": [
      "Epoch 233/500 (Training): 100%|██████████| 100/100 [00:11<00:00,  8.79it/s, loss=0.4871, acc=0.9067]\n"
     ]
    },
    {
     "name": "stdout",
     "output_type": "stream",
     "text": [
      "Avg Train Loss: 0.1437, Avg Train Acc: 0.9734 (Best)\n"
     ]
    },
    {
     "name": "stderr",
     "output_type": "stream",
     "text": [
      "Epoch 233/500 (Validation): 100%|██████████| 100/100 [00:09<00:00, 10.78it/s, loss=0.0926, acc=0.9867]\n"
     ]
    },
    {
     "name": "stdout",
     "output_type": "stream",
     "text": [
      "Avg Val Loss: 0.5546, Avg Val Acc: 0.9126 (Best)\n",
      "Current learning rate: [9.765625e-07, 9.765625e-07]\n",
      "Patience: 0/20\n"
     ]
    },
    {
     "name": "stderr",
     "output_type": "stream",
     "text": [
      "Epoch 234/500 (Training): 100%|██████████| 100/100 [00:12<00:00,  8.10it/s, loss=0.0671, acc=0.9867]\n"
     ]
    },
    {
     "name": "stdout",
     "output_type": "stream",
     "text": [
      "Avg Train Loss: 0.1432, Avg Train Acc: 0.9735 (Best)\n"
     ]
    },
    {
     "name": "stderr",
     "output_type": "stream",
     "text": [
      "Epoch 234/500 (Validation): 100%|██████████| 100/100 [00:09<00:00, 10.65it/s, loss=0.8956, acc=0.9333]\n"
     ]
    },
    {
     "name": "stdout",
     "output_type": "stream",
     "text": [
      "Avg Val Loss: 0.5545, Avg Val Acc: 0.9126 (Best)\n",
      "Current learning rate: [9.765625e-07, 9.765625e-07]\n",
      "Patience: 0/20\n"
     ]
    },
    {
     "name": "stderr",
     "output_type": "stream",
     "text": [
      "Epoch 235/500 (Training): 100%|██████████| 100/100 [00:12<00:00,  7.92it/s, loss=0.0013, acc=1.0000]\n"
     ]
    },
    {
     "name": "stdout",
     "output_type": "stream",
     "text": [
      "Avg Train Loss: 0.1427, Avg Train Acc: 0.9736 (Best)\n"
     ]
    },
    {
     "name": "stderr",
     "output_type": "stream",
     "text": [
      "Epoch 235/500 (Validation): 100%|██████████| 100/100 [00:09<00:00, 11.03it/s, loss=0.2819, acc=0.9600]\n"
     ]
    },
    {
     "name": "stdout",
     "output_type": "stream",
     "text": [
      "Avg Val Loss: 0.5554, Avg Val Acc: 0.9126 (Best)\n",
      "Current learning rate: [9.765625e-07, 9.765625e-07]\n",
      "Patience: 0/20\n"
     ]
    },
    {
     "name": "stderr",
     "output_type": "stream",
     "text": [
      "Epoch 236/500 (Training): 100%|██████████| 100/100 [00:13<00:00,  7.49it/s, loss=0.0222, acc=1.0000]\n"
     ]
    },
    {
     "name": "stdout",
     "output_type": "stream",
     "text": [
      "Avg Train Loss: 0.1422, Avg Train Acc: 0.9736 (Best)\n"
     ]
    },
    {
     "name": "stderr",
     "output_type": "stream",
     "text": [
      "Epoch 236/500 (Validation): 100%|██████████| 100/100 [00:09<00:00, 11.10it/s, loss=0.3291, acc=0.9067]\n"
     ]
    },
    {
     "name": "stdout",
     "output_type": "stream",
     "text": [
      "Avg Val Loss: 0.5559, Avg Val Acc: 0.9126 (Best)\n",
      "Current learning rate: [9.765625e-07, 9.765625e-07]\n",
      "Patience: 0/20\n"
     ]
    },
    {
     "name": "stderr",
     "output_type": "stream",
     "text": [
      "Epoch 237/500 (Training): 100%|██████████| 100/100 [00:11<00:00,  8.80it/s, loss=0.0028, acc=1.0000]\n"
     ]
    },
    {
     "name": "stdout",
     "output_type": "stream",
     "text": [
      "Avg Train Loss: 0.1417, Avg Train Acc: 0.9737 (Best)\n"
     ]
    },
    {
     "name": "stderr",
     "output_type": "stream",
     "text": [
      "Epoch 237/500 (Validation): 100%|██████████| 100/100 [00:09<00:00, 10.45it/s, loss=0.4870, acc=0.9067]\n"
     ]
    },
    {
     "name": "stdout",
     "output_type": "stream",
     "text": [
      "Avg Val Loss: 0.5578, Avg Val Acc: 0.9127 (Best)\n",
      "Current learning rate: [9.765625e-07, 9.765625e-07]\n",
      "Patience: 0/20\n"
     ]
    },
    {
     "name": "stderr",
     "output_type": "stream",
     "text": [
      "Epoch 238/500 (Training): 100%|██████████| 100/100 [00:12<00:00,  8.01it/s, loss=0.0018, acc=1.0000]\n"
     ]
    },
    {
     "name": "stdout",
     "output_type": "stream",
     "text": [
      "Avg Train Loss: 0.1412, Avg Train Acc: 0.9738 (Best)\n"
     ]
    },
    {
     "name": "stderr",
     "output_type": "stream",
     "text": [
      "Epoch 238/500 (Validation): 100%|██████████| 100/100 [00:09<00:00, 10.67it/s, loss=0.3128, acc=0.9467]\n"
     ]
    },
    {
     "name": "stdout",
     "output_type": "stream",
     "text": [
      "Avg Val Loss: 0.5574, Avg Val Acc: 0.9128 (Best)\n",
      "Current learning rate: [4.8828125e-07, 4.8828125e-07]\n",
      "Patience: 0/20\n"
     ]
    },
    {
     "name": "stderr",
     "output_type": "stream",
     "text": [
      "Epoch 239/500 (Training): 100%|██████████| 100/100 [00:13<00:00,  7.41it/s, loss=0.0000, acc=1.0000]\n"
     ]
    },
    {
     "name": "stdout",
     "output_type": "stream",
     "text": [
      "Avg Train Loss: 0.1407, Avg Train Acc: 0.9739 (Best)\n"
     ]
    },
    {
     "name": "stderr",
     "output_type": "stream",
     "text": [
      "Epoch 239/500 (Validation): 100%|██████████| 100/100 [00:08<00:00, 11.16it/s, loss=0.0893, acc=0.9867]\n"
     ]
    },
    {
     "name": "stdout",
     "output_type": "stream",
     "text": [
      "Avg Val Loss: 0.5581, Avg Val Acc: 0.9128 (Best)\n",
      "Current learning rate: [4.8828125e-07, 4.8828125e-07]\n",
      "Patience: 0/20\n"
     ]
    },
    {
     "name": "stderr",
     "output_type": "stream",
     "text": [
      "Epoch 240/500 (Training): 100%|██████████| 100/100 [00:12<00:00,  8.19it/s, loss=0.0046, acc=1.0000]\n"
     ]
    },
    {
     "name": "stdout",
     "output_type": "stream",
     "text": [
      "Avg Train Loss: 0.1403, Avg Train Acc: 0.9740 (Best)\n"
     ]
    },
    {
     "name": "stderr",
     "output_type": "stream",
     "text": [
      "Epoch 240/500 (Validation): 100%|██████████| 100/100 [00:09<00:00, 10.83it/s, loss=0.9315, acc=0.8400]\n"
     ]
    },
    {
     "name": "stdout",
     "output_type": "stream",
     "text": [
      "Avg Val Loss: 0.5577, Avg Val Acc: 0.9129 (Best)\n",
      "Current learning rate: [4.8828125e-07, 4.8828125e-07]\n",
      "Patience: 0/20\n"
     ]
    },
    {
     "name": "stderr",
     "output_type": "stream",
     "text": [
      "Epoch 241/500 (Training): 100%|██████████| 100/100 [00:12<00:00,  8.11it/s, loss=0.0000, acc=1.0000]\n"
     ]
    },
    {
     "name": "stdout",
     "output_type": "stream",
     "text": [
      "Avg Train Loss: 0.1398, Avg Train Acc: 0.9740 (Best)\n"
     ]
    },
    {
     "name": "stderr",
     "output_type": "stream",
     "text": [
      "Epoch 241/500 (Validation): 100%|██████████| 100/100 [00:09<00:00, 10.71it/s, loss=0.5072, acc=0.9467]\n"
     ]
    },
    {
     "name": "stdout",
     "output_type": "stream",
     "text": [
      "Avg Val Loss: 0.5587, Avg Val Acc: 0.9129 (Best)\n",
      "Current learning rate: [4.8828125e-07, 4.8828125e-07]\n",
      "Patience: 0/20\n"
     ]
    },
    {
     "name": "stderr",
     "output_type": "stream",
     "text": [
      "Epoch 242/500 (Training): 100%|██████████| 100/100 [00:12<00:00,  8.20it/s, loss=0.0330, acc=1.0000]\n"
     ]
    },
    {
     "name": "stdout",
     "output_type": "stream",
     "text": [
      "Avg Train Loss: 0.1394, Avg Train Acc: 0.9741 (Best)\n"
     ]
    },
    {
     "name": "stderr",
     "output_type": "stream",
     "text": [
      "Epoch 242/500 (Validation): 100%|██████████| 100/100 [00:09<00:00, 10.83it/s, loss=0.8964, acc=0.8667]\n"
     ]
    },
    {
     "name": "stdout",
     "output_type": "stream",
     "text": [
      "Avg Val Loss: 0.5591, Avg Val Acc: 0.9130 (Best)\n",
      "Current learning rate: [4.8828125e-07, 4.8828125e-07]\n",
      "Patience: 0/20\n"
     ]
    },
    {
     "name": "stderr",
     "output_type": "stream",
     "text": [
      "Epoch 243/500 (Training): 100%|██████████| 100/100 [00:13<00:00,  7.58it/s, loss=0.0063, acc=1.0000]\n"
     ]
    },
    {
     "name": "stdout",
     "output_type": "stream",
     "text": [
      "Avg Train Loss: 0.1389, Avg Train Acc: 0.9741 (Best)\n"
     ]
    },
    {
     "name": "stderr",
     "output_type": "stream",
     "text": [
      "Epoch 243/500 (Validation): 100%|██████████| 100/100 [00:08<00:00, 11.36it/s, loss=0.3871, acc=0.9467]\n"
     ]
    },
    {
     "name": "stdout",
     "output_type": "stream",
     "text": [
      "Avg Val Loss: 0.5596, Avg Val Acc: 0.9130 (Best)\n",
      "Current learning rate: [4.8828125e-07, 4.8828125e-07]\n",
      "Patience: 0/20\n"
     ]
    },
    {
     "name": "stderr",
     "output_type": "stream",
     "text": [
      "Epoch 244/500 (Training): 100%|██████████| 100/100 [00:13<00:00,  7.25it/s, loss=0.8244, acc=0.8667]\n"
     ]
    },
    {
     "name": "stdout",
     "output_type": "stream",
     "text": [
      "Avg Train Loss: 0.1385, Avg Train Acc: 0.9742 (Best)\n"
     ]
    },
    {
     "name": "stderr",
     "output_type": "stream",
     "text": [
      "Epoch 244/500 (Validation): 100%|██████████| 100/100 [00:09<00:00, 10.76it/s, loss=0.2819, acc=0.9200]\n"
     ]
    },
    {
     "name": "stdout",
     "output_type": "stream",
     "text": [
      "Avg Val Loss: 0.5592, Avg Val Acc: 0.9130 (Best)\n",
      "Current learning rate: [4.8828125e-07, 4.8828125e-07]\n",
      "Patience: 0/20\n"
     ]
    },
    {
     "name": "stderr",
     "output_type": "stream",
     "text": [
      "Epoch 245/500 (Training): 100%|██████████| 100/100 [00:13<00:00,  7.31it/s, loss=0.0004, acc=1.0000]\n"
     ]
    },
    {
     "name": "stdout",
     "output_type": "stream",
     "text": [
      "Avg Train Loss: 0.1381, Avg Train Acc: 0.9743 (Best)\n"
     ]
    },
    {
     "name": "stderr",
     "output_type": "stream",
     "text": [
      "Epoch 245/500 (Validation): 100%|██████████| 100/100 [00:09<00:00, 10.95it/s, loss=0.3770, acc=0.9600]\n"
     ]
    },
    {
     "name": "stdout",
     "output_type": "stream",
     "text": [
      "Avg Val Loss: 0.5594, Avg Val Acc: 0.9130 (Best)\n",
      "Current learning rate: [4.8828125e-07, 4.8828125e-07]\n",
      "Patience: 0/20\n"
     ]
    },
    {
     "name": "stderr",
     "output_type": "stream",
     "text": [
      "Epoch 246/500 (Training): 100%|██████████| 100/100 [00:12<00:00,  7.75it/s, loss=0.0232, acc=0.9867]\n"
     ]
    },
    {
     "name": "stdout",
     "output_type": "stream",
     "text": [
      "Avg Train Loss: 0.1376, Avg Train Acc: 0.9743 (Best)\n"
     ]
    },
    {
     "name": "stderr",
     "output_type": "stream",
     "text": [
      "Epoch 246/500 (Validation): 100%|██████████| 100/100 [00:09<00:00, 10.36it/s, loss=0.0385, acc=0.9867]\n"
     ]
    },
    {
     "name": "stdout",
     "output_type": "stream",
     "text": [
      "Avg Val Loss: 0.5600, Avg Val Acc: 0.9131 (Best)\n",
      "Current learning rate: [4.8828125e-07, 4.8828125e-07]\n",
      "Patience: 0/20\n"
     ]
    },
    {
     "name": "stderr",
     "output_type": "stream",
     "text": [
      "Epoch 247/500 (Training): 100%|██████████| 100/100 [00:12<00:00,  7.71it/s, loss=0.0752, acc=0.9733]\n"
     ]
    },
    {
     "name": "stdout",
     "output_type": "stream",
     "text": [
      "Avg Train Loss: 0.1371, Avg Train Acc: 0.9744 (Best)\n"
     ]
    },
    {
     "name": "stderr",
     "output_type": "stream",
     "text": [
      "Epoch 247/500 (Validation): 100%|██████████| 100/100 [00:09<00:00, 10.95it/s, loss=0.5004, acc=0.8533]\n"
     ]
    },
    {
     "name": "stdout",
     "output_type": "stream",
     "text": [
      "Avg Val Loss: 0.5603, Avg Val Acc: 0.9131 (Best)\n",
      "Current learning rate: [4.8828125e-07, 4.8828125e-07]\n",
      "Patience: 0/20\n"
     ]
    },
    {
     "name": "stderr",
     "output_type": "stream",
     "text": [
      "Epoch 248/500 (Training): 100%|██████████| 100/100 [00:13<00:00,  7.42it/s, loss=0.0046, acc=1.0000]\n"
     ]
    },
    {
     "name": "stdout",
     "output_type": "stream",
     "text": [
      "Avg Train Loss: 0.1367, Avg Train Acc: 0.9745 (Best)\n"
     ]
    },
    {
     "name": "stderr",
     "output_type": "stream",
     "text": [
      "Epoch 248/500 (Validation): 100%|██████████| 100/100 [00:08<00:00, 11.22it/s, loss=0.9585, acc=0.8800]\n"
     ]
    },
    {
     "name": "stdout",
     "output_type": "stream",
     "text": [
      "Avg Val Loss: 0.5610, Avg Val Acc: 0.9131 (Best)\n",
      "Current learning rate: [4.8828125e-07, 4.8828125e-07]\n",
      "Patience: 0/20\n"
     ]
    },
    {
     "name": "stderr",
     "output_type": "stream",
     "text": [
      "Epoch 249/500 (Training): 100%|██████████| 100/100 [00:12<00:00,  8.26it/s, loss=0.0102, acc=0.9867]\n"
     ]
    },
    {
     "name": "stdout",
     "output_type": "stream",
     "text": [
      "Avg Train Loss: 0.1363, Avg Train Acc: 0.9746 (Best)\n"
     ]
    },
    {
     "name": "stderr",
     "output_type": "stream",
     "text": [
      "Epoch 249/500 (Validation): 100%|██████████| 100/100 [00:09<00:00, 10.82it/s, loss=0.3821, acc=0.9200]\n"
     ]
    },
    {
     "name": "stdout",
     "output_type": "stream",
     "text": [
      "Avg Val Loss: 0.5611, Avg Val Acc: 0.9132 (Best)\n",
      "Current learning rate: [2.44140625e-07, 2.44140625e-07]\n",
      "Patience: 0/20\n"
     ]
    },
    {
     "name": "stderr",
     "output_type": "stream",
     "text": [
      "Epoch 250/500 (Training): 100%|██████████| 100/100 [00:12<00:00,  7.98it/s, loss=0.0041, acc=1.0000]\n"
     ]
    },
    {
     "name": "stdout",
     "output_type": "stream",
     "text": [
      "Avg Train Loss: 0.1358, Avg Train Acc: 0.9746 (Best)\n"
     ]
    },
    {
     "name": "stderr",
     "output_type": "stream",
     "text": [
      "Epoch 250/500 (Validation): 100%|██████████| 100/100 [00:09<00:00, 10.62it/s, loss=0.6069, acc=0.9067]\n"
     ]
    },
    {
     "name": "stdout",
     "output_type": "stream",
     "text": [
      "Avg Val Loss: 0.5609, Avg Val Acc: 0.9132 (Best)\n",
      "Current learning rate: [2.44140625e-07, 2.44140625e-07]\n",
      "Patience: 0/20\n"
     ]
    },
    {
     "name": "stderr",
     "output_type": "stream",
     "text": [
      "Epoch 251/500 (Training): 100%|██████████| 100/100 [00:12<00:00,  8.00it/s, loss=0.0209, acc=0.9867]\n"
     ]
    },
    {
     "name": "stdout",
     "output_type": "stream",
     "text": [
      "Avg Train Loss: 0.1354, Avg Train Acc: 0.9747 (Best)\n"
     ]
    },
    {
     "name": "stderr",
     "output_type": "stream",
     "text": [
      "Epoch 251/500 (Validation): 100%|██████████| 100/100 [00:09<00:00, 10.70it/s, loss=0.8750, acc=0.9067]\n"
     ]
    },
    {
     "name": "stdout",
     "output_type": "stream",
     "text": [
      "Avg Val Loss: 0.5611, Avg Val Acc: 0.9132 (Best)\n",
      "Current learning rate: [2.44140625e-07, 2.44140625e-07]\n",
      "Patience: 0/20\n"
     ]
    },
    {
     "name": "stderr",
     "output_type": "stream",
     "text": [
      "Epoch 252/500 (Training): 100%|██████████| 100/100 [00:14<00:00,  7.06it/s, loss=0.0000, acc=1.0000]\n"
     ]
    },
    {
     "name": "stdout",
     "output_type": "stream",
     "text": [
      "Avg Train Loss: 0.1349, Avg Train Acc: 0.9748 (Best)\n"
     ]
    },
    {
     "name": "stderr",
     "output_type": "stream",
     "text": [
      "Epoch 252/500 (Validation): 100%|██████████| 100/100 [00:08<00:00, 11.31it/s, loss=0.1058, acc=0.9600]\n"
     ]
    },
    {
     "name": "stdout",
     "output_type": "stream",
     "text": [
      "Avg Val Loss: 0.5611, Avg Val Acc: 0.9133 (Best)\n",
      "Current learning rate: [2.44140625e-07, 2.44140625e-07]\n",
      "Patience: 0/20\n"
     ]
    },
    {
     "name": "stderr",
     "output_type": "stream",
     "text": [
      "Epoch 253/500 (Training): 100%|██████████| 100/100 [00:12<00:00,  8.13it/s, loss=0.0043, acc=1.0000]\n"
     ]
    },
    {
     "name": "stdout",
     "output_type": "stream",
     "text": [
      "Avg Train Loss: 0.1345, Avg Train Acc: 0.9749 (Best)\n"
     ]
    },
    {
     "name": "stderr",
     "output_type": "stream",
     "text": [
      "Epoch 253/500 (Validation): 100%|██████████| 100/100 [00:09<00:00, 10.97it/s, loss=0.4826, acc=0.9200]\n"
     ]
    },
    {
     "name": "stdout",
     "output_type": "stream",
     "text": [
      "Avg Val Loss: 0.5610, Avg Val Acc: 0.9133 (Best)\n",
      "Current learning rate: [2.44140625e-07, 2.44140625e-07]\n",
      "Patience: 0/20\n"
     ]
    },
    {
     "name": "stderr",
     "output_type": "stream",
     "text": [
      "Epoch 254/500 (Training): 100%|██████████| 100/100 [00:12<00:00,  8.00it/s, loss=0.0062, acc=1.0000]\n"
     ]
    },
    {
     "name": "stdout",
     "output_type": "stream",
     "text": [
      "Avg Train Loss: 0.1341, Avg Train Acc: 0.9749 (Best)\n"
     ]
    },
    {
     "name": "stderr",
     "output_type": "stream",
     "text": [
      "Epoch 254/500 (Validation): 100%|██████████| 100/100 [00:09<00:00, 10.96it/s, loss=0.7925, acc=0.8800]\n"
     ]
    },
    {
     "name": "stdout",
     "output_type": "stream",
     "text": [
      "Avg Val Loss: 0.5604, Avg Val Acc: 0.9134 (Best)\n",
      "Current learning rate: [2.44140625e-07, 2.44140625e-07]\n",
      "Patience: 0/20\n"
     ]
    },
    {
     "name": "stderr",
     "output_type": "stream",
     "text": [
      "Epoch 255/500 (Training): 100%|██████████| 100/100 [00:13<00:00,  7.69it/s, loss=0.0079, acc=1.0000]\n"
     ]
    },
    {
     "name": "stdout",
     "output_type": "stream",
     "text": [
      "Avg Train Loss: 0.1337, Avg Train Acc: 0.9750 (Best)\n"
     ]
    },
    {
     "name": "stderr",
     "output_type": "stream",
     "text": [
      "Epoch 255/500 (Validation): 100%|██████████| 100/100 [00:09<00:00, 10.37it/s, loss=0.4319, acc=0.9333]\n"
     ]
    },
    {
     "name": "stdout",
     "output_type": "stream",
     "text": [
      "Avg Val Loss: 0.5603, Avg Val Acc: 0.9134 (Best)\n",
      "Current learning rate: [2.44140625e-07, 2.44140625e-07]\n",
      "Patience: 0/20\n"
     ]
    },
    {
     "name": "stderr",
     "output_type": "stream",
     "text": [
      "Epoch 256/500 (Training): 100%|██████████| 100/100 [00:12<00:00,  7.83it/s, loss=0.4965, acc=0.8667]\n"
     ]
    },
    {
     "name": "stdout",
     "output_type": "stream",
     "text": [
      "Avg Train Loss: 0.1333, Avg Train Acc: 0.9750 (Best)\n"
     ]
    },
    {
     "name": "stderr",
     "output_type": "stream",
     "text": [
      "Epoch 256/500 (Validation): 100%|██████████| 100/100 [00:09<00:00, 10.92it/s, loss=0.5359, acc=0.9467]\n"
     ]
    },
    {
     "name": "stdout",
     "output_type": "stream",
     "text": [
      "Avg Val Loss: 0.5605, Avg Val Acc: 0.9134 (Best)\n",
      "Current learning rate: [2.44140625e-07, 2.44140625e-07]\n",
      "Patience: 0/20\n"
     ]
    },
    {
     "name": "stderr",
     "output_type": "stream",
     "text": [
      "Epoch 257/500 (Training): 100%|██████████| 100/100 [00:13<00:00,  7.22it/s, loss=0.0072, acc=1.0000]\n"
     ]
    },
    {
     "name": "stdout",
     "output_type": "stream",
     "text": [
      "Avg Train Loss: 0.1329, Avg Train Acc: 0.9751 (Best)\n"
     ]
    },
    {
     "name": "stderr",
     "output_type": "stream",
     "text": [
      "Epoch 257/500 (Validation): 100%|██████████| 100/100 [00:09<00:00, 10.77it/s, loss=1.4033, acc=0.9333]\n"
     ]
    },
    {
     "name": "stdout",
     "output_type": "stream",
     "text": [
      "Avg Val Loss: 0.5608, Avg Val Acc: 0.9135 (Best)\n",
      "Current learning rate: [2.44140625e-07, 2.44140625e-07]\n",
      "Patience: 0/20\n"
     ]
    },
    {
     "name": "stderr",
     "output_type": "stream",
     "text": [
      "Epoch 258/500 (Training): 100%|██████████| 100/100 [00:12<00:00,  7.79it/s, loss=0.0047, acc=1.0000]\n"
     ]
    },
    {
     "name": "stdout",
     "output_type": "stream",
     "text": [
      "Avg Train Loss: 0.1325, Avg Train Acc: 0.9752 (Best)\n"
     ]
    },
    {
     "name": "stderr",
     "output_type": "stream",
     "text": [
      "Epoch 258/500 (Validation): 100%|██████████| 100/100 [00:09<00:00, 10.88it/s, loss=0.7483, acc=0.9467]\n"
     ]
    },
    {
     "name": "stdout",
     "output_type": "stream",
     "text": [
      "Avg Val Loss: 0.5615, Avg Val Acc: 0.9135 (Best)\n",
      "Current learning rate: [2.44140625e-07, 2.44140625e-07]\n",
      "Patience: 0/20\n"
     ]
    },
    {
     "name": "stderr",
     "output_type": "stream",
     "text": [
      "Epoch 259/500 (Training): 100%|██████████| 100/100 [00:13<00:00,  7.61it/s, loss=0.0011, acc=1.0000]\n"
     ]
    },
    {
     "name": "stdout",
     "output_type": "stream",
     "text": [
      "Avg Train Loss: 0.1320, Avg Train Acc: 0.9752 (Best)\n"
     ]
    },
    {
     "name": "stderr",
     "output_type": "stream",
     "text": [
      "Epoch 259/500 (Validation): 100%|██████████| 100/100 [00:09<00:00, 10.52it/s, loss=1.2257, acc=0.8667]\n"
     ]
    },
    {
     "name": "stdout",
     "output_type": "stream",
     "text": [
      "Avg Val Loss: 0.5618, Avg Val Acc: 0.9135 (Best)\n",
      "Current learning rate: [2.44140625e-07, 2.44140625e-07]\n",
      "Patience: 0/20\n"
     ]
    },
    {
     "name": "stderr",
     "output_type": "stream",
     "text": [
      "Epoch 260/500 (Training): 100%|██████████| 100/100 [00:11<00:00,  8.59it/s, loss=0.0029, acc=1.0000]\n"
     ]
    },
    {
     "name": "stdout",
     "output_type": "stream",
     "text": [
      "Avg Train Loss: 0.1316, Avg Train Acc: 0.9753 (Best)\n"
     ]
    },
    {
     "name": "stderr",
     "output_type": "stream",
     "text": [
      "Epoch 260/500 (Validation): 100%|██████████| 100/100 [00:09<00:00, 10.03it/s, loss=0.6957, acc=0.9200]\n"
     ]
    },
    {
     "name": "stdout",
     "output_type": "stream",
     "text": [
      "Avg Val Loss: 0.5617, Avg Val Acc: 0.9136 (Best)\n",
      "Current learning rate: [1.220703125e-07, 1.220703125e-07]\n",
      "Patience: 0/20\n"
     ]
    },
    {
     "name": "stderr",
     "output_type": "stream",
     "text": [
      "Epoch 261/500 (Training): 100%|██████████| 100/100 [00:13<00:00,  7.38it/s, loss=0.0006, acc=1.0000]\n"
     ]
    },
    {
     "name": "stdout",
     "output_type": "stream",
     "text": [
      "Avg Train Loss: 0.1313, Avg Train Acc: 0.9753 (Best)\n"
     ]
    },
    {
     "name": "stderr",
     "output_type": "stream",
     "text": [
      "Epoch 261/500 (Validation): 100%|██████████| 100/100 [00:09<00:00, 11.04it/s, loss=0.9514, acc=0.8667]\n"
     ]
    },
    {
     "name": "stdout",
     "output_type": "stream",
     "text": [
      "Avg Val Loss: 0.5625, Avg Val Acc: 0.9136 (Best)\n",
      "Current learning rate: [1.220703125e-07, 1.220703125e-07]\n",
      "Patience: 0/20\n"
     ]
    },
    {
     "name": "stderr",
     "output_type": "stream",
     "text": [
      "Epoch 262/500 (Training): 100%|██████████| 100/100 [00:13<00:00,  7.34it/s, loss=0.0001, acc=1.0000]\n"
     ]
    },
    {
     "name": "stdout",
     "output_type": "stream",
     "text": [
      "Avg Train Loss: 0.1309, Avg Train Acc: 0.9754 (Best)\n"
     ]
    },
    {
     "name": "stderr",
     "output_type": "stream",
     "text": [
      "Epoch 262/500 (Validation): 100%|██████████| 100/100 [00:09<00:00, 10.64it/s, loss=0.8472, acc=0.8533]\n"
     ]
    },
    {
     "name": "stdout",
     "output_type": "stream",
     "text": [
      "Avg Val Loss: 0.5624, Avg Val Acc: 0.9136 (Best)\n",
      "Current learning rate: [1.220703125e-07, 1.220703125e-07]\n",
      "Patience: 0/20\n"
     ]
    },
    {
     "name": "stderr",
     "output_type": "stream",
     "text": [
      "Epoch 263/500 (Training): 100%|██████████| 100/100 [00:12<00:00,  8.04it/s, loss=0.0255, acc=1.0000]\n"
     ]
    },
    {
     "name": "stdout",
     "output_type": "stream",
     "text": [
      "Avg Train Loss: 0.1305, Avg Train Acc: 0.9755 (Best)\n"
     ]
    },
    {
     "name": "stderr",
     "output_type": "stream",
     "text": [
      "Epoch 263/500 (Validation): 100%|██████████| 100/100 [00:09<00:00, 10.59it/s, loss=0.0988, acc=0.9733]\n"
     ]
    },
    {
     "name": "stdout",
     "output_type": "stream",
     "text": [
      "Avg Val Loss: 0.5625, Avg Val Acc: 0.9137 (Best)\n",
      "Current learning rate: [1.220703125e-07, 1.220703125e-07]\n",
      "Patience: 0/20\n"
     ]
    },
    {
     "name": "stderr",
     "output_type": "stream",
     "text": [
      "Epoch 264/500 (Training): 100%|██████████| 100/100 [00:13<00:00,  7.37it/s, loss=0.0020, acc=1.0000]\n"
     ]
    },
    {
     "name": "stdout",
     "output_type": "stream",
     "text": [
      "Avg Train Loss: 0.1301, Avg Train Acc: 0.9755 (Best)\n"
     ]
    },
    {
     "name": "stderr",
     "output_type": "stream",
     "text": [
      "Epoch 264/500 (Validation): 100%|██████████| 100/100 [00:09<00:00, 10.98it/s, loss=0.7332, acc=0.8800]\n"
     ]
    },
    {
     "name": "stdout",
     "output_type": "stream",
     "text": [
      "Avg Val Loss: 0.5633, Avg Val Acc: 0.9137 (Best)\n",
      "Current learning rate: [1.220703125e-07, 1.220703125e-07]\n",
      "Patience: 0/20\n"
     ]
    },
    {
     "name": "stderr",
     "output_type": "stream",
     "text": [
      "Epoch 265/500 (Training): 100%|██████████| 100/100 [00:13<00:00,  7.50it/s, loss=0.0000, acc=1.0000]\n"
     ]
    },
    {
     "name": "stdout",
     "output_type": "stream",
     "text": [
      "Avg Train Loss: 0.1297, Avg Train Acc: 0.9756 (Best)\n"
     ]
    },
    {
     "name": "stderr",
     "output_type": "stream",
     "text": [
      "Epoch 265/500 (Validation): 100%|██████████| 100/100 [00:09<00:00, 10.31it/s, loss=0.5134, acc=0.9467]\n"
     ]
    },
    {
     "name": "stdout",
     "output_type": "stream",
     "text": [
      "Avg Val Loss: 0.5637, Avg Val Acc: 0.9137 (Best)\n",
      "Current learning rate: [1.220703125e-07, 1.220703125e-07]\n",
      "Patience: 0/20\n"
     ]
    },
    {
     "name": "stderr",
     "output_type": "stream",
     "text": [
      "Epoch 266/500 (Training): 100%|██████████| 100/100 [00:12<00:00,  8.06it/s, loss=0.0024, acc=1.0000]\n"
     ]
    },
    {
     "name": "stdout",
     "output_type": "stream",
     "text": [
      "Avg Train Loss: 0.1293, Avg Train Acc: 0.9756 (Best)\n"
     ]
    },
    {
     "name": "stderr",
     "output_type": "stream",
     "text": [
      "Epoch 266/500 (Validation): 100%|██████████| 100/100 [00:08<00:00, 11.27it/s, loss=0.5755, acc=0.9200]\n"
     ]
    },
    {
     "name": "stdout",
     "output_type": "stream",
     "text": [
      "Avg Val Loss: 0.5635, Avg Val Acc: 0.9138 (Best)\n",
      "Current learning rate: [1.220703125e-07, 1.220703125e-07]\n",
      "Patience: 0/20\n"
     ]
    },
    {
     "name": "stderr",
     "output_type": "stream",
     "text": [
      "Epoch 267/500 (Training): 100%|██████████| 100/100 [00:12<00:00,  8.26it/s, loss=0.0035, acc=1.0000]\n"
     ]
    },
    {
     "name": "stdout",
     "output_type": "stream",
     "text": [
      "Avg Train Loss: 0.1289, Avg Train Acc: 0.9757 (Best)\n"
     ]
    },
    {
     "name": "stderr",
     "output_type": "stream",
     "text": [
      "Epoch 267/500 (Validation): 100%|██████████| 100/100 [00:09<00:00, 10.69it/s, loss=0.9421, acc=0.9600]\n"
     ]
    },
    {
     "name": "stdout",
     "output_type": "stream",
     "text": [
      "Avg Val Loss: 0.5637, Avg Val Acc: 0.9138 (Best: 0.9138)\n",
      "Current learning rate: [1.220703125e-07, 1.220703125e-07]\n",
      "Patience: 1/20\n"
     ]
    },
    {
     "name": "stderr",
     "output_type": "stream",
     "text": [
      "Epoch 268/500 (Training): 100%|██████████| 100/100 [00:12<00:00,  7.83it/s, loss=0.0000, acc=1.0000]\n"
     ]
    },
    {
     "name": "stdout",
     "output_type": "stream",
     "text": [
      "Avg Train Loss: 0.1286, Avg Train Acc: 0.9757 (Best)\n"
     ]
    },
    {
     "name": "stderr",
     "output_type": "stream",
     "text": [
      "Epoch 268/500 (Validation): 100%|██████████| 100/100 [00:09<00:00, 11.05it/s, loss=0.0933, acc=0.9600]\n"
     ]
    },
    {
     "name": "stdout",
     "output_type": "stream",
     "text": [
      "Avg Val Loss: 0.5637, Avg Val Acc: 0.9138 (Best)\n",
      "Current learning rate: [1.220703125e-07, 1.220703125e-07]\n",
      "Patience: 0/20\n"
     ]
    },
    {
     "name": "stderr",
     "output_type": "stream",
     "text": [
      "Epoch 269/500 (Training): 100%|██████████| 100/100 [00:12<00:00,  7.88it/s, loss=0.0000, acc=1.0000]\n"
     ]
    },
    {
     "name": "stdout",
     "output_type": "stream",
     "text": [
      "Avg Train Loss: 0.1282, Avg Train Acc: 0.9758 (Best)\n"
     ]
    },
    {
     "name": "stderr",
     "output_type": "stream",
     "text": [
      "Epoch 269/500 (Validation): 100%|██████████| 100/100 [00:09<00:00, 10.49it/s, loss=1.3870, acc=0.8400]\n"
     ]
    },
    {
     "name": "stdout",
     "output_type": "stream",
     "text": [
      "Avg Val Loss: 0.5635, Avg Val Acc: 0.9138 (Best)\n",
      "Current learning rate: [1.220703125e-07, 1.220703125e-07]\n",
      "Patience: 0/20\n"
     ]
    },
    {
     "name": "stderr",
     "output_type": "stream",
     "text": [
      "Epoch 270/500 (Training): 100%|██████████| 100/100 [00:13<00:00,  7.28it/s, loss=0.0367, acc=0.9867]\n"
     ]
    },
    {
     "name": "stdout",
     "output_type": "stream",
     "text": [
      "Avg Train Loss: 0.1279, Avg Train Acc: 0.9758 (Best)\n"
     ]
    },
    {
     "name": "stderr",
     "output_type": "stream",
     "text": [
      "Epoch 270/500 (Validation): 100%|██████████| 100/100 [00:09<00:00, 10.93it/s, loss=0.3191, acc=0.9467]\n"
     ]
    },
    {
     "name": "stdout",
     "output_type": "stream",
     "text": [
      "Avg Val Loss: 0.5637, Avg Val Acc: 0.9139 (Best)\n",
      "Current learning rate: [1.220703125e-07, 1.220703125e-07]\n",
      "Patience: 0/20\n"
     ]
    },
    {
     "name": "stderr",
     "output_type": "stream",
     "text": [
      "Epoch 271/500 (Training): 100%|██████████| 100/100 [00:13<00:00,  7.18it/s, loss=0.0269, acc=0.9867]\n"
     ]
    },
    {
     "name": "stdout",
     "output_type": "stream",
     "text": [
      "Avg Train Loss: 0.1275, Avg Train Acc: 0.9759 (Best)\n"
     ]
    },
    {
     "name": "stderr",
     "output_type": "stream",
     "text": [
      "Epoch 271/500 (Validation): 100%|██████████| 100/100 [00:09<00:00, 10.68it/s, loss=0.4493, acc=0.9600]\n"
     ]
    },
    {
     "name": "stdout",
     "output_type": "stream",
     "text": [
      "Avg Val Loss: 0.5640, Avg Val Acc: 0.9139 (Best)\n",
      "Current learning rate: [6.103515625e-08, 6.103515625e-08]\n",
      "Patience: 0/20\n"
     ]
    },
    {
     "name": "stderr",
     "output_type": "stream",
     "text": [
      "Epoch 272/500 (Training): 100%|██████████| 100/100 [00:12<00:00,  8.05it/s, loss=0.0164, acc=1.0000]\n"
     ]
    },
    {
     "name": "stdout",
     "output_type": "stream",
     "text": [
      "Avg Train Loss: 0.1272, Avg Train Acc: 0.9759 (Best)\n"
     ]
    },
    {
     "name": "stderr",
     "output_type": "stream",
     "text": [
      "Epoch 272/500 (Validation): 100%|██████████| 100/100 [00:09<00:00, 10.83it/s, loss=0.1349, acc=0.9467]\n"
     ]
    },
    {
     "name": "stdout",
     "output_type": "stream",
     "text": [
      "Avg Val Loss: 0.5645, Avg Val Acc: 0.9140 (Best)\n",
      "Current learning rate: [6.103515625e-08, 6.103515625e-08]\n",
      "Patience: 0/20\n"
     ]
    },
    {
     "name": "stderr",
     "output_type": "stream",
     "text": [
      "Epoch 273/500 (Training): 100%|██████████| 100/100 [00:13<00:00,  7.62it/s, loss=0.0013, acc=1.0000]\n"
     ]
    },
    {
     "name": "stdout",
     "output_type": "stream",
     "text": [
      "Avg Train Loss: 0.1268, Avg Train Acc: 0.9760 (Best)\n"
     ]
    },
    {
     "name": "stderr",
     "output_type": "stream",
     "text": [
      "Epoch 273/500 (Validation): 100%|██████████| 100/100 [00:09<00:00, 10.54it/s, loss=0.3552, acc=0.9600]\n"
     ]
    },
    {
     "name": "stdout",
     "output_type": "stream",
     "text": [
      "Avg Val Loss: 0.5646, Avg Val Acc: 0.9140 (Best)\n",
      "Current learning rate: [6.103515625e-08, 6.103515625e-08]\n",
      "Patience: 0/20\n"
     ]
    },
    {
     "name": "stderr",
     "output_type": "stream",
     "text": [
      "Epoch 274/500 (Training): 100%|██████████| 100/100 [00:13<00:00,  7.42it/s, loss=0.0320, acc=0.9733]\n"
     ]
    },
    {
     "name": "stdout",
     "output_type": "stream",
     "text": [
      "Avg Train Loss: 0.1264, Avg Train Acc: 0.9761 (Best)\n"
     ]
    },
    {
     "name": "stderr",
     "output_type": "stream",
     "text": [
      "Epoch 274/500 (Validation): 100%|██████████| 100/100 [00:09<00:00, 10.60it/s, loss=0.4300, acc=0.9333]\n"
     ]
    },
    {
     "name": "stdout",
     "output_type": "stream",
     "text": [
      "Avg Val Loss: 0.5642, Avg Val Acc: 0.9140 (Best)\n",
      "Current learning rate: [6.103515625e-08, 6.103515625e-08]\n",
      "Patience: 0/20\n"
     ]
    },
    {
     "name": "stderr",
     "output_type": "stream",
     "text": [
      "Epoch 275/500 (Training): 100%|██████████| 100/100 [00:12<00:00,  7.93it/s, loss=0.0004, acc=1.0000]\n"
     ]
    },
    {
     "name": "stdout",
     "output_type": "stream",
     "text": [
      "Avg Train Loss: 0.1261, Avg Train Acc: 0.9761 (Best)\n"
     ]
    },
    {
     "name": "stderr",
     "output_type": "stream",
     "text": [
      "Epoch 275/500 (Validation): 100%|██████████| 100/100 [00:09<00:00, 10.80it/s, loss=0.6940, acc=0.8133]\n"
     ]
    },
    {
     "name": "stdout",
     "output_type": "stream",
     "text": [
      "Avg Val Loss: 0.5642, Avg Val Acc: 0.9140 (Best)\n",
      "Current learning rate: [6.103515625e-08, 6.103515625e-08]\n",
      "Patience: 0/20\n"
     ]
    },
    {
     "name": "stderr",
     "output_type": "stream",
     "text": [
      "Epoch 276/500 (Training): 100%|██████████| 100/100 [00:12<00:00,  8.03it/s, loss=0.0435, acc=0.9733]\n"
     ]
    },
    {
     "name": "stdout",
     "output_type": "stream",
     "text": [
      "Avg Train Loss: 0.1257, Avg Train Acc: 0.9762 (Best)\n"
     ]
    },
    {
     "name": "stderr",
     "output_type": "stream",
     "text": [
      "Epoch 276/500 (Validation): 100%|██████████| 100/100 [00:09<00:00, 11.03it/s, loss=2.0311, acc=0.7600]\n"
     ]
    },
    {
     "name": "stdout",
     "output_type": "stream",
     "text": [
      "Avg Val Loss: 0.5644, Avg Val Acc: 0.9141 (Best)\n",
      "Current learning rate: [6.103515625e-08, 6.103515625e-08]\n",
      "Patience: 0/20\n"
     ]
    },
    {
     "name": "stderr",
     "output_type": "stream",
     "text": [
      "Epoch 277/500 (Training): 100%|██████████| 100/100 [00:13<00:00,  7.18it/s, loss=0.0054, acc=1.0000]\n"
     ]
    },
    {
     "name": "stdout",
     "output_type": "stream",
     "text": [
      "Avg Train Loss: 0.1253, Avg Train Acc: 0.9762 (Best)\n"
     ]
    },
    {
     "name": "stderr",
     "output_type": "stream",
     "text": [
      "Epoch 277/500 (Validation): 100%|██████████| 100/100 [00:09<00:00, 10.90it/s, loss=0.5371, acc=0.9467]\n"
     ]
    },
    {
     "name": "stdout",
     "output_type": "stream",
     "text": [
      "Avg Val Loss: 0.5648, Avg Val Acc: 0.9141 (Best)\n",
      "Current learning rate: [6.103515625e-08, 6.103515625e-08]\n",
      "Patience: 0/20\n"
     ]
    },
    {
     "name": "stderr",
     "output_type": "stream",
     "text": [
      "Epoch 278/500 (Training): 100%|██████████| 100/100 [00:12<00:00,  7.84it/s, loss=0.0000, acc=1.0000]\n"
     ]
    },
    {
     "name": "stdout",
     "output_type": "stream",
     "text": [
      "Avg Train Loss: 0.1250, Avg Train Acc: 0.9763 (Best)\n"
     ]
    },
    {
     "name": "stderr",
     "output_type": "stream",
     "text": [
      "Epoch 278/500 (Validation): 100%|██████████| 100/100 [00:09<00:00, 11.04it/s, loss=0.8034, acc=0.9067]\n"
     ]
    },
    {
     "name": "stdout",
     "output_type": "stream",
     "text": [
      "Avg Val Loss: 0.5653, Avg Val Acc: 0.9141 (Best)\n",
      "Current learning rate: [6.103515625e-08, 6.103515625e-08]\n",
      "Patience: 0/20\n"
     ]
    },
    {
     "name": "stderr",
     "output_type": "stream",
     "text": [
      "Epoch 279/500 (Training): 100%|██████████| 100/100 [00:12<00:00,  8.31it/s, loss=0.0157, acc=0.9867]\n"
     ]
    },
    {
     "name": "stdout",
     "output_type": "stream",
     "text": [
      "Avg Train Loss: 0.1247, Avg Train Acc: 0.9763 (Best)\n"
     ]
    },
    {
     "name": "stderr",
     "output_type": "stream",
     "text": [
      "Epoch 279/500 (Validation): 100%|██████████| 100/100 [00:09<00:00, 10.54it/s, loss=0.3368, acc=0.9067]\n"
     ]
    },
    {
     "name": "stdout",
     "output_type": "stream",
     "text": [
      "Avg Val Loss: 0.5658, Avg Val Acc: 0.9141 (Best)\n",
      "Current learning rate: [6.103515625e-08, 6.103515625e-08]\n",
      "Patience: 0/20\n"
     ]
    },
    {
     "name": "stderr",
     "output_type": "stream",
     "text": [
      "Epoch 280/500 (Training): 100%|██████████| 100/100 [00:13<00:00,  7.62it/s, loss=0.0001, acc=1.0000]\n"
     ]
    },
    {
     "name": "stdout",
     "output_type": "stream",
     "text": [
      "Avg Train Loss: 0.1244, Avg Train Acc: 0.9764 (Best)\n"
     ]
    },
    {
     "name": "stderr",
     "output_type": "stream",
     "text": [
      "Epoch 280/500 (Validation): 100%|██████████| 100/100 [00:09<00:00, 10.42it/s, loss=0.2791, acc=0.9467]\n"
     ]
    },
    {
     "name": "stdout",
     "output_type": "stream",
     "text": [
      "Avg Val Loss: 0.5660, Avg Val Acc: 0.9142 (Best)\n",
      "Current learning rate: [6.103515625e-08, 6.103515625e-08]\n",
      "Patience: 0/20\n"
     ]
    },
    {
     "name": "stderr",
     "output_type": "stream",
     "text": [
      "Epoch 281/500 (Training): 100%|██████████| 100/100 [00:12<00:00,  8.20it/s, loss=0.0033, acc=1.0000]\n"
     ]
    },
    {
     "name": "stdout",
     "output_type": "stream",
     "text": [
      "Avg Train Loss: 0.1240, Avg Train Acc: 0.9764 (Best)\n"
     ]
    },
    {
     "name": "stderr",
     "output_type": "stream",
     "text": [
      "Epoch 281/500 (Validation): 100%|██████████| 100/100 [00:09<00:00, 10.74it/s, loss=1.9023, acc=0.8267]\n"
     ]
    },
    {
     "name": "stdout",
     "output_type": "stream",
     "text": [
      "Avg Val Loss: 0.5666, Avg Val Acc: 0.9142 (Best: 0.9142)\n",
      "Current learning rate: [6.103515625e-08, 6.103515625e-08]\n",
      "Patience: 1/20\n"
     ]
    },
    {
     "name": "stderr",
     "output_type": "stream",
     "text": [
      "Epoch 282/500 (Training): 100%|██████████| 100/100 [00:11<00:00,  8.52it/s, loss=0.0253, acc=0.9867]\n"
     ]
    },
    {
     "name": "stdout",
     "output_type": "stream",
     "text": [
      "Avg Train Loss: 0.1237, Avg Train Acc: 0.9765 (Best)\n"
     ]
    },
    {
     "name": "stderr",
     "output_type": "stream",
     "text": [
      "Epoch 282/500 (Validation): 100%|██████████| 100/100 [00:09<00:00, 10.73it/s, loss=1.8087, acc=0.9200]\n"
     ]
    },
    {
     "name": "stdout",
     "output_type": "stream",
     "text": [
      "Avg Val Loss: 0.5671, Avg Val Acc: 0.9142 (Best)\n",
      "Current learning rate: [3.0517578125e-08, 3.0517578125e-08]\n",
      "Patience: 0/20\n"
     ]
    },
    {
     "name": "stderr",
     "output_type": "stream",
     "text": [
      "Epoch 283/500 (Training): 100%|██████████| 100/100 [00:12<00:00,  8.04it/s, loss=0.0309, acc=1.0000]\n"
     ]
    },
    {
     "name": "stdout",
     "output_type": "stream",
     "text": [
      "Avg Train Loss: 0.1234, Avg Train Acc: 0.9765 (Best)\n"
     ]
    },
    {
     "name": "stderr",
     "output_type": "stream",
     "text": [
      "Epoch 283/500 (Validation): 100%|██████████| 100/100 [00:09<00:00, 10.90it/s, loss=0.6674, acc=0.9200]\n"
     ]
    },
    {
     "name": "stdout",
     "output_type": "stream",
     "text": [
      "Avg Val Loss: 0.5673, Avg Val Acc: 0.9142 (Best)\n",
      "Current learning rate: [3.0517578125e-08, 3.0517578125e-08]\n",
      "Patience: 0/20\n"
     ]
    },
    {
     "name": "stderr",
     "output_type": "stream",
     "text": [
      "Epoch 284/500 (Training): 100%|██████████| 100/100 [00:14<00:00,  7.12it/s, loss=0.0107, acc=1.0000]\n"
     ]
    },
    {
     "name": "stdout",
     "output_type": "stream",
     "text": [
      "Avg Train Loss: 0.1230, Avg Train Acc: 0.9766 (Best)\n"
     ]
    },
    {
     "name": "stderr",
     "output_type": "stream",
     "text": [
      "Epoch 284/500 (Validation): 100%|██████████| 100/100 [00:09<00:00, 11.07it/s, loss=0.4622, acc=0.9067]\n"
     ]
    },
    {
     "name": "stdout",
     "output_type": "stream",
     "text": [
      "Avg Val Loss: 0.5675, Avg Val Acc: 0.9143 (Best)\n",
      "Current learning rate: [3.0517578125e-08, 3.0517578125e-08]\n",
      "Patience: 0/20\n"
     ]
    },
    {
     "name": "stderr",
     "output_type": "stream",
     "text": [
      "Epoch 285/500 (Training): 100%|██████████| 100/100 [00:12<00:00,  7.74it/s, loss=0.0320, acc=0.9867]\n"
     ]
    },
    {
     "name": "stdout",
     "output_type": "stream",
     "text": [
      "Avg Train Loss: 0.1227, Avg Train Acc: 0.9766 (Best)\n"
     ]
    },
    {
     "name": "stderr",
     "output_type": "stream",
     "text": [
      "Epoch 285/500 (Validation): 100%|██████████| 100/100 [00:09<00:00, 11.01it/s, loss=0.5334, acc=0.9467]\n"
     ]
    },
    {
     "name": "stdout",
     "output_type": "stream",
     "text": [
      "Avg Val Loss: 0.5674, Avg Val Acc: 0.9143 (Best)\n",
      "Current learning rate: [3.0517578125e-08, 3.0517578125e-08]\n",
      "Patience: 0/20\n"
     ]
    },
    {
     "name": "stderr",
     "output_type": "stream",
     "text": [
      "Epoch 286/500 (Training): 100%|██████████| 100/100 [00:12<00:00,  7.90it/s, loss=0.0106, acc=1.0000]\n"
     ]
    },
    {
     "name": "stdout",
     "output_type": "stream",
     "text": [
      "Avg Train Loss: 0.1223, Avg Train Acc: 0.9767 (Best)\n"
     ]
    },
    {
     "name": "stderr",
     "output_type": "stream",
     "text": [
      "Epoch 286/500 (Validation): 100%|██████████| 100/100 [00:09<00:00, 10.76it/s, loss=0.2001, acc=0.9467]\n"
     ]
    },
    {
     "name": "stdout",
     "output_type": "stream",
     "text": [
      "Avg Val Loss: 0.5673, Avg Val Acc: 0.9143 (Best)\n",
      "Current learning rate: [3.0517578125e-08, 3.0517578125e-08]\n",
      "Patience: 0/20\n"
     ]
    },
    {
     "name": "stderr",
     "output_type": "stream",
     "text": [
      "Epoch 287/500 (Training): 100%|██████████| 100/100 [00:14<00:00,  7.12it/s, loss=0.0003, acc=1.0000]\n"
     ]
    },
    {
     "name": "stdout",
     "output_type": "stream",
     "text": [
      "Avg Train Loss: 0.1220, Avg Train Acc: 0.9768 (Best)\n"
     ]
    },
    {
     "name": "stderr",
     "output_type": "stream",
     "text": [
      "Epoch 287/500 (Validation): 100%|██████████| 100/100 [00:09<00:00, 10.44it/s, loss=0.9618, acc=0.8933]\n"
     ]
    },
    {
     "name": "stdout",
     "output_type": "stream",
     "text": [
      "Avg Val Loss: 0.5670, Avg Val Acc: 0.9144 (Best)\n",
      "Current learning rate: [3.0517578125e-08, 3.0517578125e-08]\n",
      "Patience: 0/20\n"
     ]
    },
    {
     "name": "stderr",
     "output_type": "stream",
     "text": [
      "Epoch 288/500 (Training): 100%|██████████| 100/100 [00:14<00:00,  7.12it/s, loss=0.0008, acc=1.0000]\n"
     ]
    },
    {
     "name": "stdout",
     "output_type": "stream",
     "text": [
      "Avg Train Loss: 0.1217, Avg Train Acc: 0.9768 (Best)\n"
     ]
    },
    {
     "name": "stderr",
     "output_type": "stream",
     "text": [
      "Epoch 288/500 (Validation): 100%|██████████| 100/100 [00:09<00:00, 11.08it/s, loss=0.7540, acc=0.8267]\n"
     ]
    },
    {
     "name": "stdout",
     "output_type": "stream",
     "text": [
      "Avg Val Loss: 0.5668, Avg Val Acc: 0.9144 (Best)\n",
      "Current learning rate: [3.0517578125e-08, 3.0517578125e-08]\n",
      "Patience: 0/20\n"
     ]
    },
    {
     "name": "stderr",
     "output_type": "stream",
     "text": [
      "Epoch 289/500 (Training): 100%|██████████| 100/100 [00:11<00:00,  8.89it/s, loss=0.0451, acc=0.9733]\n"
     ]
    },
    {
     "name": "stdout",
     "output_type": "stream",
     "text": [
      "Avg Train Loss: 0.1214, Avg Train Acc: 0.9768 (Best)\n"
     ]
    },
    {
     "name": "stderr",
     "output_type": "stream",
     "text": [
      "Epoch 289/500 (Validation): 100%|██████████| 100/100 [00:09<00:00, 11.08it/s, loss=1.0586, acc=0.8267]\n"
     ]
    },
    {
     "name": "stdout",
     "output_type": "stream",
     "text": [
      "Avg Val Loss: 0.5668, Avg Val Acc: 0.9144 (Best)\n",
      "Current learning rate: [3.0517578125e-08, 3.0517578125e-08]\n",
      "Patience: 0/20\n"
     ]
    },
    {
     "name": "stderr",
     "output_type": "stream",
     "text": [
      "Epoch 290/500 (Training): 100%|██████████| 100/100 [00:12<00:00,  7.71it/s, loss=0.0175, acc=1.0000]\n"
     ]
    },
    {
     "name": "stdout",
     "output_type": "stream",
     "text": [
      "Avg Train Loss: 0.1211, Avg Train Acc: 0.9769 (Best)\n"
     ]
    },
    {
     "name": "stderr",
     "output_type": "stream",
     "text": [
      "Epoch 290/500 (Validation): 100%|██████████| 100/100 [00:09<00:00, 10.77it/s, loss=1.6685, acc=0.9067]\n"
     ]
    },
    {
     "name": "stdout",
     "output_type": "stream",
     "text": [
      "Avg Val Loss: 0.5680, Avg Val Acc: 0.9144 (Best)\n",
      "Current learning rate: [3.0517578125e-08, 3.0517578125e-08]\n",
      "Patience: 0/20\n"
     ]
    },
    {
     "name": "stderr",
     "output_type": "stream",
     "text": [
      "Epoch 291/500 (Training): 100%|██████████| 100/100 [00:12<00:00,  8.30it/s, loss=0.0191, acc=1.0000]\n"
     ]
    },
    {
     "name": "stdout",
     "output_type": "stream",
     "text": [
      "Avg Train Loss: 0.1207, Avg Train Acc: 0.9769 (Best)\n"
     ]
    },
    {
     "name": "stderr",
     "output_type": "stream",
     "text": [
      "Epoch 291/500 (Validation): 100%|██████████| 100/100 [00:09<00:00, 10.39it/s, loss=0.2712, acc=0.9333]\n"
     ]
    },
    {
     "name": "stdout",
     "output_type": "stream",
     "text": [
      "Avg Val Loss: 0.5680, Avg Val Acc: 0.9144 (Best)\n",
      "Current learning rate: [3.0517578125e-08, 3.0517578125e-08]\n",
      "Patience: 0/20\n"
     ]
    },
    {
     "name": "stderr",
     "output_type": "stream",
     "text": [
      "Epoch 292/500 (Training): 100%|██████████| 100/100 [00:13<00:00,  7.69it/s, loss=0.0003, acc=1.0000]\n"
     ]
    },
    {
     "name": "stdout",
     "output_type": "stream",
     "text": [
      "Avg Train Loss: 0.1204, Avg Train Acc: 0.9770 (Best)\n"
     ]
    },
    {
     "name": "stderr",
     "output_type": "stream",
     "text": [
      "Epoch 292/500 (Validation): 100%|██████████| 100/100 [00:09<00:00, 10.90it/s, loss=0.2415, acc=0.9600]\n"
     ]
    },
    {
     "name": "stdout",
     "output_type": "stream",
     "text": [
      "Avg Val Loss: 0.5680, Avg Val Acc: 0.9144 (Best)\n",
      "Current learning rate: [3.0517578125e-08, 3.0517578125e-08]\n",
      "Patience: 0/20\n"
     ]
    },
    {
     "name": "stderr",
     "output_type": "stream",
     "text": [
      "Epoch 293/500 (Training): 100%|██████████| 100/100 [00:13<00:00,  7.68it/s, loss=0.0000, acc=1.0000]\n"
     ]
    },
    {
     "name": "stdout",
     "output_type": "stream",
     "text": [
      "Avg Train Loss: 0.1201, Avg Train Acc: 0.9770 (Best)\n"
     ]
    },
    {
     "name": "stderr",
     "output_type": "stream",
     "text": [
      "Epoch 293/500 (Validation): 100%|██████████| 100/100 [00:09<00:00, 10.55it/s, loss=0.2754, acc=0.9333]\n"
     ]
    },
    {
     "name": "stdout",
     "output_type": "stream",
     "text": [
      "Avg Val Loss: 0.5684, Avg Val Acc: 0.9145 (Best)\n",
      "Current learning rate: [1.52587890625e-08, 1.52587890625e-08]\n",
      "Patience: 0/20\n"
     ]
    },
    {
     "name": "stderr",
     "output_type": "stream",
     "text": [
      "Epoch 294/500 (Training): 100%|██████████| 100/100 [00:12<00:00,  7.94it/s, loss=0.1564, acc=0.9733]\n"
     ]
    },
    {
     "name": "stdout",
     "output_type": "stream",
     "text": [
      "Avg Train Loss: 0.1198, Avg Train Acc: 0.9771 (Best)\n"
     ]
    },
    {
     "name": "stderr",
     "output_type": "stream",
     "text": [
      "Epoch 294/500 (Validation): 100%|██████████| 100/100 [00:08<00:00, 11.24it/s, loss=0.8573, acc=0.9200]\n"
     ]
    },
    {
     "name": "stdout",
     "output_type": "stream",
     "text": [
      "Avg Val Loss: 0.5687, Avg Val Acc: 0.9145 (Best)\n",
      "Current learning rate: [1.52587890625e-08, 1.52587890625e-08]\n",
      "Patience: 0/20\n"
     ]
    },
    {
     "name": "stderr",
     "output_type": "stream",
     "text": [
      "Epoch 295/500 (Training): 100%|██████████| 100/100 [00:13<00:00,  7.65it/s, loss=0.0017, acc=1.0000]\n"
     ]
    },
    {
     "name": "stdout",
     "output_type": "stream",
     "text": [
      "Avg Train Loss: 0.1195, Avg Train Acc: 0.9771 (Best)\n"
     ]
    },
    {
     "name": "stderr",
     "output_type": "stream",
     "text": [
      "Epoch 295/500 (Validation): 100%|██████████| 100/100 [00:09<00:00, 10.80it/s, loss=0.4447, acc=0.9467]\n"
     ]
    },
    {
     "name": "stdout",
     "output_type": "stream",
     "text": [
      "Avg Val Loss: 0.5692, Avg Val Acc: 0.9145 (Best)\n",
      "Current learning rate: [1.52587890625e-08, 1.52587890625e-08]\n",
      "Patience: 0/20\n"
     ]
    },
    {
     "name": "stderr",
     "output_type": "stream",
     "text": [
      "Epoch 296/500 (Training): 100%|██████████| 100/100 [00:11<00:00,  8.42it/s, loss=0.0168, acc=1.0000]\n"
     ]
    },
    {
     "name": "stdout",
     "output_type": "stream",
     "text": [
      "Avg Train Loss: 0.1192, Avg Train Acc: 0.9772 (Best)\n"
     ]
    },
    {
     "name": "stderr",
     "output_type": "stream",
     "text": [
      "Epoch 296/500 (Validation): 100%|██████████| 100/100 [00:09<00:00, 10.69it/s, loss=0.6681, acc=0.9467]\n"
     ]
    },
    {
     "name": "stdout",
     "output_type": "stream",
     "text": [
      "Avg Val Loss: 0.5692, Avg Val Acc: 0.9145 (Best)\n",
      "Current learning rate: [1.52587890625e-08, 1.52587890625e-08]\n",
      "Patience: 0/20\n"
     ]
    },
    {
     "name": "stderr",
     "output_type": "stream",
     "text": [
      "Epoch 297/500 (Training): 100%|██████████| 100/100 [00:13<00:00,  7.53it/s, loss=0.0010, acc=1.0000]\n"
     ]
    },
    {
     "name": "stdout",
     "output_type": "stream",
     "text": [
      "Avg Train Loss: 0.1189, Avg Train Acc: 0.9772 (Best)\n"
     ]
    },
    {
     "name": "stderr",
     "output_type": "stream",
     "text": [
      "Epoch 297/500 (Validation): 100%|██████████| 100/100 [00:09<00:00, 10.37it/s, loss=0.4660, acc=0.8933]\n"
     ]
    },
    {
     "name": "stdout",
     "output_type": "stream",
     "text": [
      "Avg Val Loss: 0.5691, Avg Val Acc: 0.9146 (Best)\n",
      "Current learning rate: [1.52587890625e-08, 1.52587890625e-08]\n",
      "Patience: 0/20\n"
     ]
    },
    {
     "name": "stderr",
     "output_type": "stream",
     "text": [
      "Epoch 298/500 (Training): 100%|██████████| 100/100 [00:12<00:00,  8.08it/s, loss=0.0002, acc=1.0000]\n"
     ]
    },
    {
     "name": "stdout",
     "output_type": "stream",
     "text": [
      "Avg Train Loss: 0.1186, Avg Train Acc: 0.9773 (Best)\n"
     ]
    },
    {
     "name": "stderr",
     "output_type": "stream",
     "text": [
      "Epoch 298/500 (Validation): 100%|██████████| 100/100 [00:09<00:00, 10.97it/s, loss=0.3487, acc=0.9600]\n"
     ]
    },
    {
     "name": "stdout",
     "output_type": "stream",
     "text": [
      "Avg Val Loss: 0.5693, Avg Val Acc: 0.9146 (Best)\n",
      "Current learning rate: [1.52587890625e-08, 1.52587890625e-08]\n",
      "Patience: 0/20\n"
     ]
    },
    {
     "name": "stderr",
     "output_type": "stream",
     "text": [
      "Epoch 299/500 (Training): 100%|██████████| 100/100 [00:12<00:00,  8.08it/s, loss=0.0854, acc=0.9733]\n"
     ]
    },
    {
     "name": "stdout",
     "output_type": "stream",
     "text": [
      "Avg Train Loss: 0.1183, Avg Train Acc: 0.9773 (Best)\n"
     ]
    },
    {
     "name": "stderr",
     "output_type": "stream",
     "text": [
      "Epoch 299/500 (Validation): 100%|██████████| 100/100 [00:09<00:00, 11.02it/s, loss=0.9669, acc=0.9200]\n"
     ]
    },
    {
     "name": "stdout",
     "output_type": "stream",
     "text": [
      "Avg Val Loss: 0.5693, Avg Val Acc: 0.9146 (Best)\n",
      "Current learning rate: [1.52587890625e-08, 1.52587890625e-08]\n",
      "Patience: 0/20\n"
     ]
    },
    {
     "name": "stderr",
     "output_type": "stream",
     "text": [
      "Epoch 300/500 (Training): 100%|██████████| 100/100 [00:13<00:00,  7.39it/s, loss=0.0000, acc=1.0000]\n"
     ]
    },
    {
     "name": "stdout",
     "output_type": "stream",
     "text": [
      "Avg Train Loss: 0.1180, Avg Train Acc: 0.9773 (Best)\n"
     ]
    },
    {
     "name": "stderr",
     "output_type": "stream",
     "text": [
      "Epoch 300/500 (Validation): 100%|██████████| 100/100 [00:09<00:00, 10.50it/s, loss=0.7045, acc=0.8667]\n"
     ]
    },
    {
     "name": "stdout",
     "output_type": "stream",
     "text": [
      "Avg Val Loss: 0.5689, Avg Val Acc: 0.9147 (Best)\n",
      "Current learning rate: [1.52587890625e-08, 1.52587890625e-08]\n",
      "Patience: 0/20\n"
     ]
    },
    {
     "name": "stderr",
     "output_type": "stream",
     "text": [
      "Epoch 301/500 (Training): 100%|██████████| 100/100 [00:12<00:00,  8.05it/s, loss=0.0311, acc=1.0000]\n"
     ]
    },
    {
     "name": "stdout",
     "output_type": "stream",
     "text": [
      "Avg Train Loss: 0.1177, Avg Train Acc: 0.9774 (Best)\n"
     ]
    },
    {
     "name": "stderr",
     "output_type": "stream",
     "text": [
      "Epoch 301/500 (Validation): 100%|██████████| 100/100 [00:09<00:00, 10.60it/s, loss=0.3645, acc=0.9733]\n"
     ]
    },
    {
     "name": "stdout",
     "output_type": "stream",
     "text": [
      "Avg Val Loss: 0.5691, Avg Val Acc: 0.9147 (Best)\n",
      "Current learning rate: [1.52587890625e-08, 1.52587890625e-08]\n",
      "Patience: 0/20\n"
     ]
    },
    {
     "name": "stderr",
     "output_type": "stream",
     "text": [
      "Epoch 302/500 (Training): 100%|██████████| 100/100 [00:12<00:00,  8.10it/s, loss=0.0000, acc=1.0000]\n"
     ]
    },
    {
     "name": "stdout",
     "output_type": "stream",
     "text": [
      "Avg Train Loss: 0.1174, Avg Train Acc: 0.9774 (Best)\n"
     ]
    },
    {
     "name": "stderr",
     "output_type": "stream",
     "text": [
      "Epoch 302/500 (Validation): 100%|██████████| 100/100 [00:09<00:00, 10.73it/s, loss=1.1630, acc=0.9067]\n"
     ]
    },
    {
     "name": "stdout",
     "output_type": "stream",
     "text": [
      "Avg Val Loss: 0.5691, Avg Val Acc: 0.9147 (Best)\n",
      "Current learning rate: [1.52587890625e-08, 1.52587890625e-08]\n",
      "Patience: 0/20\n"
     ]
    },
    {
     "name": "stderr",
     "output_type": "stream",
     "text": [
      "Epoch 303/500 (Training): 100%|██████████| 100/100 [00:11<00:00,  8.84it/s, loss=0.0000, acc=1.0000]\n"
     ]
    },
    {
     "name": "stdout",
     "output_type": "stream",
     "text": [
      "Avg Train Loss: 0.1171, Avg Train Acc: 0.9775 (Best)\n"
     ]
    },
    {
     "name": "stderr",
     "output_type": "stream",
     "text": [
      "Epoch 303/500 (Validation): 100%|██████████| 100/100 [00:08<00:00, 11.31it/s, loss=0.9769, acc=0.8267]\n"
     ]
    },
    {
     "name": "stdout",
     "output_type": "stream",
     "text": [
      "Avg Val Loss: 0.5688, Avg Val Acc: 0.9148 (Best)\n",
      "Current learning rate: [1.52587890625e-08, 1.52587890625e-08]\n",
      "Patience: 0/20\n"
     ]
    },
    {
     "name": "stderr",
     "output_type": "stream",
     "text": [
      "Epoch 304/500 (Training): 100%|██████████| 100/100 [00:11<00:00,  8.95it/s, loss=0.0043, acc=1.0000]\n"
     ]
    },
    {
     "name": "stdout",
     "output_type": "stream",
     "text": [
      "Avg Train Loss: 0.1168, Avg Train Acc: 0.9775 (Best)\n"
     ]
    },
    {
     "name": "stderr",
     "output_type": "stream",
     "text": [
      "Epoch 304/500 (Validation): 100%|██████████| 100/100 [00:09<00:00, 11.06it/s, loss=1.0541, acc=0.8933]\n"
     ]
    },
    {
     "name": "stdout",
     "output_type": "stream",
     "text": [
      "Avg Val Loss: 0.5689, Avg Val Acc: 0.9148 (Best)\n",
      "Current learning rate: [1.52587890625e-08, 1.52587890625e-08]\n",
      "Patience: 0/20\n"
     ]
    },
    {
     "name": "stderr",
     "output_type": "stream",
     "text": [
      "Epoch 305/500 (Training): 100%|██████████| 100/100 [00:12<00:00,  8.09it/s, loss=0.0001, acc=1.0000]\n"
     ]
    },
    {
     "name": "stdout",
     "output_type": "stream",
     "text": [
      "Avg Train Loss: 0.1165, Avg Train Acc: 0.9776 (Best)\n"
     ]
    },
    {
     "name": "stderr",
     "output_type": "stream",
     "text": [
      "Epoch 305/500 (Validation): 100%|██████████| 100/100 [00:09<00:00, 10.77it/s, loss=0.7062, acc=0.9067]\n"
     ]
    },
    {
     "name": "stdout",
     "output_type": "stream",
     "text": [
      "Avg Val Loss: 0.5690, Avg Val Acc: 0.9148 (Best)\n",
      "Current learning rate: [1.52587890625e-08, 1.52587890625e-08]\n",
      "Patience: 0/20\n"
     ]
    },
    {
     "name": "stderr",
     "output_type": "stream",
     "text": [
      "Epoch 306/500 (Training): 100%|██████████| 100/100 [00:13<00:00,  7.52it/s, loss=0.0001, acc=1.0000]\n"
     ]
    },
    {
     "name": "stdout",
     "output_type": "stream",
     "text": [
      "Avg Train Loss: 0.1162, Avg Train Acc: 0.9776 (Best)\n"
     ]
    },
    {
     "name": "stderr",
     "output_type": "stream",
     "text": [
      "Epoch 306/500 (Validation): 100%|██████████| 100/100 [00:09<00:00, 10.96it/s, loss=0.3969, acc=0.8667]\n"
     ]
    },
    {
     "name": "stdout",
     "output_type": "stream",
     "text": [
      "Avg Val Loss: 0.5692, Avg Val Acc: 0.9148 (Best)\n",
      "Current learning rate: [1.52587890625e-08, 1.52587890625e-08]\n",
      "Patience: 0/20\n"
     ]
    },
    {
     "name": "stderr",
     "output_type": "stream",
     "text": [
      "Epoch 307/500 (Training): 100%|██████████| 100/100 [00:13<00:00,  7.32it/s, loss=0.0315, acc=0.9867]\n"
     ]
    },
    {
     "name": "stdout",
     "output_type": "stream",
     "text": [
      "Avg Train Loss: 0.1159, Avg Train Acc: 0.9777 (Best)\n"
     ]
    },
    {
     "name": "stderr",
     "output_type": "stream",
     "text": [
      "Epoch 307/500 (Validation): 100%|██████████| 100/100 [00:09<00:00, 10.45it/s, loss=0.2063, acc=0.9467]\n"
     ]
    },
    {
     "name": "stdout",
     "output_type": "stream",
     "text": [
      "Avg Val Loss: 0.5691, Avg Val Acc: 0.9149 (Best)\n",
      "Current learning rate: [1.52587890625e-08, 1.52587890625e-08]\n",
      "Patience: 0/20\n"
     ]
    },
    {
     "name": "stderr",
     "output_type": "stream",
     "text": [
      "Epoch 308/500 (Training): 100%|██████████| 100/100 [00:13<00:00,  7.63it/s, loss=0.0003, acc=1.0000]\n"
     ]
    },
    {
     "name": "stdout",
     "output_type": "stream",
     "text": [
      "Avg Train Loss: 0.1156, Avg Train Acc: 0.9777 (Best)\n"
     ]
    },
    {
     "name": "stderr",
     "output_type": "stream",
     "text": [
      "Epoch 308/500 (Validation): 100%|██████████| 100/100 [00:09<00:00, 10.96it/s, loss=0.6019, acc=0.9467]\n"
     ]
    },
    {
     "name": "stdout",
     "output_type": "stream",
     "text": [
      "Avg Val Loss: 0.5698, Avg Val Acc: 0.9149 (Best)\n",
      "Current learning rate: [1.52587890625e-08, 1.52587890625e-08]\n",
      "Patience: 0/20\n"
     ]
    },
    {
     "name": "stderr",
     "output_type": "stream",
     "text": [
      "Epoch 309/500 (Training): 100%|██████████| 100/100 [00:12<00:00,  7.86it/s, loss=0.2608, acc=0.8533]\n"
     ]
    },
    {
     "name": "stdout",
     "output_type": "stream",
     "text": [
      "Avg Train Loss: 0.1153, Avg Train Acc: 0.9778 (Best)\n"
     ]
    },
    {
     "name": "stderr",
     "output_type": "stream",
     "text": [
      "Epoch 309/500 (Validation): 100%|██████████| 100/100 [00:09<00:00, 10.65it/s, loss=1.0223, acc=0.9067]\n"
     ]
    },
    {
     "name": "stdout",
     "output_type": "stream",
     "text": [
      "Avg Val Loss: 0.5699, Avg Val Acc: 0.9149 (Best)\n",
      "Current learning rate: [1.52587890625e-08, 1.52587890625e-08]\n",
      "Patience: 0/20\n"
     ]
    },
    {
     "name": "stderr",
     "output_type": "stream",
     "text": [
      "Epoch 310/500 (Training): 100%|██████████| 100/100 [00:12<00:00,  7.73it/s, loss=0.0156, acc=0.9867]\n"
     ]
    },
    {
     "name": "stdout",
     "output_type": "stream",
     "text": [
      "Avg Train Loss: 0.1150, Avg Train Acc: 0.9778 (Best)\n"
     ]
    },
    {
     "name": "stderr",
     "output_type": "stream",
     "text": [
      "Epoch 310/500 (Validation): 100%|██████████| 100/100 [00:09<00:00, 10.70it/s, loss=0.5257, acc=0.9200]\n"
     ]
    },
    {
     "name": "stdout",
     "output_type": "stream",
     "text": [
      "Avg Val Loss: 0.5697, Avg Val Acc: 0.9150 (Best)\n",
      "Current learning rate: [1.52587890625e-08, 1.52587890625e-08]\n",
      "Patience: 0/20\n"
     ]
    },
    {
     "name": "stderr",
     "output_type": "stream",
     "text": [
      "Epoch 311/500 (Training): 100%|██████████| 100/100 [00:12<00:00,  8.05it/s, loss=0.0771, acc=0.9733]\n"
     ]
    },
    {
     "name": "stdout",
     "output_type": "stream",
     "text": [
      "Avg Train Loss: 0.1148, Avg Train Acc: 0.9779 (Best)\n"
     ]
    },
    {
     "name": "stderr",
     "output_type": "stream",
     "text": [
      "Epoch 311/500 (Validation): 100%|██████████| 100/100 [00:08<00:00, 11.58it/s, loss=0.5906, acc=0.9200]\n"
     ]
    },
    {
     "name": "stdout",
     "output_type": "stream",
     "text": [
      "Avg Val Loss: 0.5700, Avg Val Acc: 0.9150 (Best: 0.9150)\n",
      "Current learning rate: [1.52587890625e-08, 1.52587890625e-08]\n",
      "Patience: 1/20\n"
     ]
    },
    {
     "name": "stderr",
     "output_type": "stream",
     "text": [
      "Epoch 312/500 (Training): 100%|██████████| 100/100 [00:13<00:00,  7.26it/s, loss=0.1617, acc=0.9600]\n"
     ]
    },
    {
     "name": "stdout",
     "output_type": "stream",
     "text": [
      "Avg Train Loss: 0.1144, Avg Train Acc: 0.9779 (Best)\n"
     ]
    },
    {
     "name": "stderr",
     "output_type": "stream",
     "text": [
      "Epoch 312/500 (Validation): 100%|██████████| 100/100 [00:09<00:00, 10.73it/s, loss=0.3754, acc=0.9067]\n"
     ]
    },
    {
     "name": "stdout",
     "output_type": "stream",
     "text": [
      "Avg Val Loss: 0.5701, Avg Val Acc: 0.9150 (Best)\n",
      "Current learning rate: [1.52587890625e-08, 1.52587890625e-08]\n",
      "Patience: 0/20\n"
     ]
    },
    {
     "name": "stderr",
     "output_type": "stream",
     "text": [
      "Epoch 313/500 (Training): 100%|██████████| 100/100 [00:12<00:00,  7.98it/s, loss=0.0003, acc=1.0000]\n"
     ]
    },
    {
     "name": "stdout",
     "output_type": "stream",
     "text": [
      "Avg Train Loss: 0.1142, Avg Train Acc: 0.9780 (Best)\n"
     ]
    },
    {
     "name": "stderr",
     "output_type": "stream",
     "text": [
      "Epoch 313/500 (Validation): 100%|██████████| 100/100 [00:09<00:00, 10.03it/s, loss=0.8533, acc=0.9067]\n"
     ]
    },
    {
     "name": "stdout",
     "output_type": "stream",
     "text": [
      "Avg Val Loss: 0.5696, Avg Val Acc: 0.9150 (Best)\n",
      "Current learning rate: [1.52587890625e-08, 1.52587890625e-08]\n",
      "Patience: 0/20\n"
     ]
    },
    {
     "name": "stderr",
     "output_type": "stream",
     "text": [
      "Epoch 314/500 (Training): 100%|██████████| 100/100 [00:13<00:00,  7.35it/s, loss=0.0002, acc=1.0000]\n"
     ]
    },
    {
     "name": "stdout",
     "output_type": "stream",
     "text": [
      "Avg Train Loss: 0.1139, Avg Train Acc: 0.9780 (Best)\n"
     ]
    },
    {
     "name": "stderr",
     "output_type": "stream",
     "text": [
      "Epoch 314/500 (Validation): 100%|██████████| 100/100 [00:09<00:00, 10.53it/s, loss=0.1701, acc=0.9867]\n"
     ]
    },
    {
     "name": "stdout",
     "output_type": "stream",
     "text": [
      "Avg Val Loss: 0.5703, Avg Val Acc: 0.9150 (Best)\n",
      "Current learning rate: [1.52587890625e-08, 1.52587890625e-08]\n",
      "Patience: 0/20\n"
     ]
    },
    {
     "name": "stderr",
     "output_type": "stream",
     "text": [
      "Epoch 315/500 (Training): 100%|██████████| 100/100 [00:12<00:00,  7.98it/s, loss=0.0000, acc=1.0000]\n"
     ]
    },
    {
     "name": "stdout",
     "output_type": "stream",
     "text": [
      "Avg Train Loss: 0.1136, Avg Train Acc: 0.9780 (Best)\n"
     ]
    },
    {
     "name": "stderr",
     "output_type": "stream",
     "text": [
      "Epoch 315/500 (Validation): 100%|██████████| 100/100 [00:09<00:00, 11.00it/s, loss=0.5871, acc=0.8933]\n"
     ]
    },
    {
     "name": "stdout",
     "output_type": "stream",
     "text": [
      "Avg Val Loss: 0.5703, Avg Val Acc: 0.9150 (Best)\n",
      "Current learning rate: [1.52587890625e-08, 1.52587890625e-08]\n",
      "Patience: 0/20\n"
     ]
    },
    {
     "name": "stderr",
     "output_type": "stream",
     "text": [
      "Epoch 316/500 (Training): 100%|██████████| 100/100 [00:12<00:00,  7.79it/s, loss=0.0016, acc=1.0000]\n"
     ]
    },
    {
     "name": "stdout",
     "output_type": "stream",
     "text": [
      "Avg Train Loss: 0.1134, Avg Train Acc: 0.9781 (Best)\n"
     ]
    },
    {
     "name": "stderr",
     "output_type": "stream",
     "text": [
      "Epoch 316/500 (Validation): 100%|██████████| 100/100 [00:09<00:00, 10.80it/s, loss=0.6402, acc=0.9067]\n"
     ]
    },
    {
     "name": "stdout",
     "output_type": "stream",
     "text": [
      "Avg Val Loss: 0.5700, Avg Val Acc: 0.9151 (Best)\n",
      "Current learning rate: [1.52587890625e-08, 1.52587890625e-08]\n",
      "Patience: 0/20\n"
     ]
    },
    {
     "name": "stderr",
     "output_type": "stream",
     "text": [
      "Epoch 317/500 (Training): 100%|██████████| 100/100 [00:12<00:00,  7.95it/s, loss=0.0932, acc=0.9867]\n"
     ]
    },
    {
     "name": "stdout",
     "output_type": "stream",
     "text": [
      "Avg Train Loss: 0.1131, Avg Train Acc: 0.9781 (Best)\n"
     ]
    },
    {
     "name": "stderr",
     "output_type": "stream",
     "text": [
      "Epoch 317/500 (Validation): 100%|██████████| 100/100 [00:09<00:00, 10.76it/s, loss=0.0882, acc=0.9867]\n"
     ]
    },
    {
     "name": "stdout",
     "output_type": "stream",
     "text": [
      "Avg Val Loss: 0.5696, Avg Val Acc: 0.9151 (Best)\n",
      "Current learning rate: [1.52587890625e-08, 1.52587890625e-08]\n",
      "Patience: 0/20\n"
     ]
    },
    {
     "name": "stderr",
     "output_type": "stream",
     "text": [
      "Epoch 318/500 (Training): 100%|██████████| 100/100 [00:12<00:00,  7.98it/s, loss=0.0440, acc=1.0000]\n"
     ]
    },
    {
     "name": "stdout",
     "output_type": "stream",
     "text": [
      "Avg Train Loss: 0.1128, Avg Train Acc: 0.9782 (Best)\n"
     ]
    },
    {
     "name": "stderr",
     "output_type": "stream",
     "text": [
      "Epoch 318/500 (Validation): 100%|██████████| 100/100 [00:09<00:00, 10.63it/s, loss=0.1336, acc=0.9600]\n"
     ]
    },
    {
     "name": "stdout",
     "output_type": "stream",
     "text": [
      "Avg Val Loss: 0.5697, Avg Val Acc: 0.9151 (Best)\n",
      "Current learning rate: [1.52587890625e-08, 1.52587890625e-08]\n",
      "Patience: 0/20\n"
     ]
    },
    {
     "name": "stderr",
     "output_type": "stream",
     "text": [
      "Epoch 319/500 (Training): 100%|██████████| 100/100 [00:12<00:00,  7.74it/s, loss=0.0530, acc=0.9733]\n"
     ]
    },
    {
     "name": "stdout",
     "output_type": "stream",
     "text": [
      "Avg Train Loss: 0.1126, Avg Train Acc: 0.9782 (Best)\n"
     ]
    },
    {
     "name": "stderr",
     "output_type": "stream",
     "text": [
      "Epoch 319/500 (Validation): 100%|██████████| 100/100 [00:09<00:00, 10.69it/s, loss=0.6525, acc=0.9333]\n"
     ]
    },
    {
     "name": "stdout",
     "output_type": "stream",
     "text": [
      "Avg Val Loss: 0.5696, Avg Val Acc: 0.9152 (Best)\n",
      "Current learning rate: [1.52587890625e-08, 1.52587890625e-08]\n",
      "Patience: 0/20\n"
     ]
    },
    {
     "name": "stderr",
     "output_type": "stream",
     "text": [
      "Epoch 320/500 (Training): 100%|██████████| 100/100 [00:13<00:00,  7.28it/s, loss=0.0087, acc=1.0000]\n"
     ]
    },
    {
     "name": "stdout",
     "output_type": "stream",
     "text": [
      "Avg Train Loss: 0.1123, Avg Train Acc: 0.9782 (Best)\n"
     ]
    },
    {
     "name": "stderr",
     "output_type": "stream",
     "text": [
      "Epoch 320/500 (Validation): 100%|██████████| 100/100 [00:09<00:00, 10.83it/s, loss=0.0320, acc=1.0000]\n"
     ]
    },
    {
     "name": "stdout",
     "output_type": "stream",
     "text": [
      "Avg Val Loss: 0.5697, Avg Val Acc: 0.9152 (Best)\n",
      "Current learning rate: [1.52587890625e-08, 1.52587890625e-08]\n",
      "Patience: 0/20\n"
     ]
    },
    {
     "name": "stderr",
     "output_type": "stream",
     "text": [
      "Epoch 321/500 (Training): 100%|██████████| 100/100 [00:13<00:00,  7.57it/s, loss=0.0042, acc=1.0000]\n"
     ]
    },
    {
     "name": "stdout",
     "output_type": "stream",
     "text": [
      "Avg Train Loss: 0.1120, Avg Train Acc: 0.9783 (Best)\n"
     ]
    },
    {
     "name": "stderr",
     "output_type": "stream",
     "text": [
      "Epoch 321/500 (Validation): 100%|██████████| 100/100 [00:08<00:00, 11.29it/s, loss=0.5399, acc=0.9200]\n"
     ]
    },
    {
     "name": "stdout",
     "output_type": "stream",
     "text": [
      "Avg Val Loss: 0.5698, Avg Val Acc: 0.9152 (Best)\n",
      "Current learning rate: [1.52587890625e-08, 1.52587890625e-08]\n",
      "Patience: 0/20\n"
     ]
    },
    {
     "name": "stderr",
     "output_type": "stream",
     "text": [
      "Epoch 322/500 (Training): 100%|██████████| 100/100 [00:14<00:00,  7.06it/s, loss=0.0596, acc=0.9867]\n"
     ]
    },
    {
     "name": "stdout",
     "output_type": "stream",
     "text": [
      "Avg Train Loss: 0.1117, Avg Train Acc: 0.9783 (Best)\n"
     ]
    },
    {
     "name": "stderr",
     "output_type": "stream",
     "text": [
      "Epoch 322/500 (Validation): 100%|██████████| 100/100 [00:09<00:00, 10.98it/s, loss=0.2148, acc=0.9600]\n"
     ]
    },
    {
     "name": "stdout",
     "output_type": "stream",
     "text": [
      "Avg Val Loss: 0.5703, Avg Val Acc: 0.9152 (Best)\n",
      "Current learning rate: [1.52587890625e-08, 1.52587890625e-08]\n",
      "Patience: 0/20\n"
     ]
    },
    {
     "name": "stderr",
     "output_type": "stream",
     "text": [
      "Epoch 323/500 (Training): 100%|██████████| 100/100 [00:12<00:00,  7.97it/s, loss=0.0024, acc=1.0000]\n"
     ]
    },
    {
     "name": "stdout",
     "output_type": "stream",
     "text": [
      "Avg Train Loss: 0.1114, Avg Train Acc: 0.9784 (Best)\n"
     ]
    },
    {
     "name": "stderr",
     "output_type": "stream",
     "text": [
      "Epoch 323/500 (Validation): 100%|██████████| 100/100 [00:09<00:00, 11.03it/s, loss=0.2926, acc=0.9600]\n"
     ]
    },
    {
     "name": "stdout",
     "output_type": "stream",
     "text": [
      "Avg Val Loss: 0.5707, Avg Val Acc: 0.9153 (Best)\n",
      "Current learning rate: [1.52587890625e-08, 1.52587890625e-08]\n",
      "Patience: 0/20\n"
     ]
    },
    {
     "name": "stderr",
     "output_type": "stream",
     "text": [
      "Epoch 324/500 (Training): 100%|██████████| 100/100 [00:12<00:00,  8.14it/s, loss=0.0415, acc=0.9867]\n"
     ]
    },
    {
     "name": "stdout",
     "output_type": "stream",
     "text": [
      "Avg Train Loss: 0.1112, Avg Train Acc: 0.9784 (Best)\n"
     ]
    },
    {
     "name": "stderr",
     "output_type": "stream",
     "text": [
      "Epoch 324/500 (Validation): 100%|██████████| 100/100 [00:09<00:00, 10.66it/s, loss=0.5302, acc=0.9600]\n"
     ]
    },
    {
     "name": "stdout",
     "output_type": "stream",
     "text": [
      "Avg Val Loss: 0.5707, Avg Val Acc: 0.9153 (Best)\n",
      "Current learning rate: [1.52587890625e-08, 1.52587890625e-08]\n",
      "Patience: 0/20\n"
     ]
    },
    {
     "name": "stderr",
     "output_type": "stream",
     "text": [
      "Epoch 325/500 (Training): 100%|██████████| 100/100 [00:14<00:00,  7.09it/s, loss=0.1354, acc=0.9733]\n"
     ]
    },
    {
     "name": "stdout",
     "output_type": "stream",
     "text": [
      "Avg Train Loss: 0.1110, Avg Train Acc: 0.9785 (Best)\n"
     ]
    },
    {
     "name": "stderr",
     "output_type": "stream",
     "text": [
      "Epoch 325/500 (Validation): 100%|██████████| 100/100 [00:09<00:00, 10.82it/s, loss=0.7843, acc=0.8267]\n"
     ]
    },
    {
     "name": "stdout",
     "output_type": "stream",
     "text": [
      "Avg Val Loss: 0.5707, Avg Val Acc: 0.9153 (Best: 0.9153)\n",
      "Current learning rate: [1.52587890625e-08, 1.52587890625e-08]\n",
      "Patience: 1/20\n"
     ]
    },
    {
     "name": "stderr",
     "output_type": "stream",
     "text": [
      "Epoch 326/500 (Training): 100%|██████████| 100/100 [00:11<00:00,  8.41it/s, loss=0.0000, acc=1.0000]\n"
     ]
    },
    {
     "name": "stdout",
     "output_type": "stream",
     "text": [
      "Avg Train Loss: 0.1107, Avg Train Acc: 0.9785 (Best)\n"
     ]
    },
    {
     "name": "stderr",
     "output_type": "stream",
     "text": [
      "Epoch 326/500 (Validation): 100%|██████████| 100/100 [00:09<00:00, 10.87it/s, loss=1.0134, acc=0.8800]\n"
     ]
    },
    {
     "name": "stdout",
     "output_type": "stream",
     "text": [
      "Avg Val Loss: 0.5709, Avg Val Acc: 0.9153 (Best: 0.9153)\n",
      "Current learning rate: [1.52587890625e-08, 1.52587890625e-08]\n",
      "Patience: 2/20\n"
     ]
    },
    {
     "name": "stderr",
     "output_type": "stream",
     "text": [
      "Epoch 327/500 (Training): 100%|██████████| 100/100 [00:12<00:00,  8.06it/s, loss=0.0005, acc=1.0000]\n"
     ]
    },
    {
     "name": "stdout",
     "output_type": "stream",
     "text": [
      "Avg Train Loss: 0.1105, Avg Train Acc: 0.9785 (Best)\n"
     ]
    },
    {
     "name": "stderr",
     "output_type": "stream",
     "text": [
      "Epoch 327/500 (Validation): 100%|██████████| 100/100 [00:09<00:00, 10.85it/s, loss=0.4490, acc=0.9600]\n"
     ]
    },
    {
     "name": "stdout",
     "output_type": "stream",
     "text": [
      "Avg Val Loss: 0.5712, Avg Val Acc: 0.9153 (Best: 0.9153)\n",
      "Current learning rate: [1.52587890625e-08, 1.52587890625e-08]\n",
      "Patience: 3/20\n"
     ]
    },
    {
     "name": "stderr",
     "output_type": "stream",
     "text": [
      "Epoch 328/500 (Training): 100%|██████████| 100/100 [00:12<00:00,  7.93it/s, loss=0.0453, acc=1.0000]\n"
     ]
    },
    {
     "name": "stdout",
     "output_type": "stream",
     "text": [
      "Avg Train Loss: 0.1102, Avg Train Acc: 0.9786 (Best)\n"
     ]
    },
    {
     "name": "stderr",
     "output_type": "stream",
     "text": [
      "Epoch 328/500 (Validation): 100%|██████████| 100/100 [00:09<00:00, 10.30it/s, loss=0.2904, acc=0.9467]\n"
     ]
    },
    {
     "name": "stdout",
     "output_type": "stream",
     "text": [
      "Avg Val Loss: 0.5719, Avg Val Acc: 0.9153 (Best)\n",
      "Current learning rate: [1.52587890625e-08, 1.52587890625e-08]\n",
      "Patience: 0/20\n"
     ]
    },
    {
     "name": "stderr",
     "output_type": "stream",
     "text": [
      "Epoch 329/500 (Training): 100%|██████████| 100/100 [00:13<00:00,  7.23it/s, loss=0.0086, acc=1.0000]\n"
     ]
    },
    {
     "name": "stdout",
     "output_type": "stream",
     "text": [
      "Avg Train Loss: 0.1100, Avg Train Acc: 0.9786 (Best)\n"
     ]
    },
    {
     "name": "stderr",
     "output_type": "stream",
     "text": [
      "Epoch 329/500 (Validation): 100%|██████████| 100/100 [00:09<00:00, 10.64it/s, loss=0.7527, acc=0.8667]\n"
     ]
    },
    {
     "name": "stdout",
     "output_type": "stream",
     "text": [
      "Avg Val Loss: 0.5722, Avg Val Acc: 0.9153 (Best)\n",
      "Current learning rate: [1.52587890625e-08, 1.52587890625e-08]\n",
      "Patience: 0/20\n"
     ]
    },
    {
     "name": "stderr",
     "output_type": "stream",
     "text": [
      "Epoch 330/500 (Training): 100%|██████████| 100/100 [00:12<00:00,  8.31it/s, loss=0.0136, acc=1.0000]\n"
     ]
    },
    {
     "name": "stdout",
     "output_type": "stream",
     "text": [
      "Avg Train Loss: 0.1097, Avg Train Acc: 0.9787 (Best)\n"
     ]
    },
    {
     "name": "stderr",
     "output_type": "stream",
     "text": [
      "Epoch 330/500 (Validation): 100%|██████████| 100/100 [00:09<00:00, 10.84it/s, loss=0.2718, acc=0.9200]\n"
     ]
    },
    {
     "name": "stdout",
     "output_type": "stream",
     "text": [
      "Avg Val Loss: 0.5725, Avg Val Acc: 0.9154 (Best)\n",
      "Current learning rate: [1.52587890625e-08, 1.52587890625e-08]\n",
      "Patience: 0/20\n"
     ]
    },
    {
     "name": "stderr",
     "output_type": "stream",
     "text": [
      "Epoch 331/500 (Training): 100%|██████████| 100/100 [00:12<00:00,  7.75it/s, loss=0.0001, acc=1.0000]\n"
     ]
    },
    {
     "name": "stdout",
     "output_type": "stream",
     "text": [
      "Avg Train Loss: 0.1094, Avg Train Acc: 0.9787 (Best)\n"
     ]
    },
    {
     "name": "stderr",
     "output_type": "stream",
     "text": [
      "Epoch 331/500 (Validation): 100%|██████████| 100/100 [00:08<00:00, 11.17it/s, loss=0.1362, acc=0.9467]\n"
     ]
    },
    {
     "name": "stdout",
     "output_type": "stream",
     "text": [
      "Avg Val Loss: 0.5726, Avg Val Acc: 0.9154 (Best)\n",
      "Current learning rate: [1.52587890625e-08, 1.52587890625e-08]\n",
      "Patience: 0/20\n"
     ]
    },
    {
     "name": "stderr",
     "output_type": "stream",
     "text": [
      "Epoch 332/500 (Training): 100%|██████████| 100/100 [00:13<00:00,  7.21it/s, loss=0.0015, acc=1.0000]\n"
     ]
    },
    {
     "name": "stdout",
     "output_type": "stream",
     "text": [
      "Avg Train Loss: 0.1092, Avg Train Acc: 0.9788 (Best)\n"
     ]
    },
    {
     "name": "stderr",
     "output_type": "stream",
     "text": [
      "Epoch 332/500 (Validation): 100%|██████████| 100/100 [00:09<00:00, 10.56it/s, loss=0.6421, acc=0.8533]\n"
     ]
    },
    {
     "name": "stdout",
     "output_type": "stream",
     "text": [
      "Avg Val Loss: 0.5722, Avg Val Acc: 0.9154 (Best)\n",
      "Current learning rate: [1.52587890625e-08, 1.52587890625e-08]\n",
      "Patience: 0/20\n"
     ]
    },
    {
     "name": "stderr",
     "output_type": "stream",
     "text": [
      "Epoch 333/500 (Training): 100%|██████████| 100/100 [00:13<00:00,  7.27it/s, loss=0.0002, acc=1.0000]\n"
     ]
    },
    {
     "name": "stdout",
     "output_type": "stream",
     "text": [
      "Avg Train Loss: 0.1089, Avg Train Acc: 0.9788 (Best)\n"
     ]
    },
    {
     "name": "stderr",
     "output_type": "stream",
     "text": [
      "Epoch 333/500 (Validation): 100%|██████████| 100/100 [00:09<00:00, 10.98it/s, loss=1.3172, acc=0.9200]\n"
     ]
    },
    {
     "name": "stdout",
     "output_type": "stream",
     "text": [
      "Avg Val Loss: 0.5726, Avg Val Acc: 0.9155 (Best)\n",
      "Current learning rate: [1.52587890625e-08, 1.52587890625e-08]\n",
      "Patience: 0/20\n"
     ]
    },
    {
     "name": "stderr",
     "output_type": "stream",
     "text": [
      "Epoch 334/500 (Training): 100%|██████████| 100/100 [00:12<00:00,  8.11it/s, loss=0.0001, acc=1.0000]\n"
     ]
    },
    {
     "name": "stdout",
     "output_type": "stream",
     "text": [
      "Avg Train Loss: 0.1087, Avg Train Acc: 0.9788 (Best)\n"
     ]
    },
    {
     "name": "stderr",
     "output_type": "stream",
     "text": [
      "Epoch 334/500 (Validation): 100%|██████████| 100/100 [00:09<00:00, 10.91it/s, loss=0.8460, acc=0.8933]\n"
     ]
    },
    {
     "name": "stdout",
     "output_type": "stream",
     "text": [
      "Avg Val Loss: 0.5729, Avg Val Acc: 0.9155 (Best)\n",
      "Current learning rate: [1.52587890625e-08, 1.52587890625e-08]\n",
      "Patience: 0/20\n"
     ]
    },
    {
     "name": "stderr",
     "output_type": "stream",
     "text": [
      "Epoch 335/500 (Training): 100%|██████████| 100/100 [00:12<00:00,  7.78it/s, loss=0.0000, acc=1.0000]\n"
     ]
    },
    {
     "name": "stdout",
     "output_type": "stream",
     "text": [
      "Avg Train Loss: 0.1084, Avg Train Acc: 0.9789 (Best)\n"
     ]
    },
    {
     "name": "stderr",
     "output_type": "stream",
     "text": [
      "Epoch 335/500 (Validation): 100%|██████████| 100/100 [00:09<00:00, 11.04it/s, loss=0.3200, acc=0.9600]\n"
     ]
    },
    {
     "name": "stdout",
     "output_type": "stream",
     "text": [
      "Avg Val Loss: 0.5729, Avg Val Acc: 0.9155 (Best)\n",
      "Current learning rate: [1.52587890625e-08, 1.52587890625e-08]\n",
      "Patience: 0/20\n"
     ]
    },
    {
     "name": "stderr",
     "output_type": "stream",
     "text": [
      "Epoch 336/500 (Training): 100%|██████████| 100/100 [00:12<00:00,  8.02it/s, loss=0.0007, acc=1.0000]\n"
     ]
    },
    {
     "name": "stdout",
     "output_type": "stream",
     "text": [
      "Avg Train Loss: 0.1082, Avg Train Acc: 0.9789 (Best)\n"
     ]
    },
    {
     "name": "stderr",
     "output_type": "stream",
     "text": [
      "Epoch 336/500 (Validation): 100%|██████████| 100/100 [00:09<00:00, 10.77it/s, loss=0.7610, acc=0.9200]\n"
     ]
    },
    {
     "name": "stdout",
     "output_type": "stream",
     "text": [
      "Avg Val Loss: 0.5727, Avg Val Acc: 0.9155 (Best)\n",
      "Current learning rate: [1.52587890625e-08, 1.52587890625e-08]\n",
      "Patience: 0/20\n"
     ]
    },
    {
     "name": "stderr",
     "output_type": "stream",
     "text": [
      "Epoch 337/500 (Training): 100%|██████████| 100/100 [00:13<00:00,  7.41it/s, loss=0.0017, acc=1.0000]\n"
     ]
    },
    {
     "name": "stdout",
     "output_type": "stream",
     "text": [
      "Avg Train Loss: 0.1079, Avg Train Acc: 0.9789 (Best)\n"
     ]
    },
    {
     "name": "stderr",
     "output_type": "stream",
     "text": [
      "Epoch 337/500 (Validation): 100%|██████████| 100/100 [00:09<00:00, 10.97it/s, loss=0.0465, acc=0.9867]\n"
     ]
    },
    {
     "name": "stdout",
     "output_type": "stream",
     "text": [
      "Avg Val Loss: 0.5727, Avg Val Acc: 0.9156 (Best)\n",
      "Current learning rate: [1.52587890625e-08, 1.52587890625e-08]\n",
      "Patience: 0/20\n"
     ]
    },
    {
     "name": "stderr",
     "output_type": "stream",
     "text": [
      "Epoch 338/500 (Training): 100%|██████████| 100/100 [00:12<00:00,  7.81it/s, loss=0.0051, acc=1.0000]\n"
     ]
    },
    {
     "name": "stdout",
     "output_type": "stream",
     "text": [
      "Avg Train Loss: 0.1077, Avg Train Acc: 0.9790 (Best)\n"
     ]
    },
    {
     "name": "stderr",
     "output_type": "stream",
     "text": [
      "Epoch 338/500 (Validation): 100%|██████████| 100/100 [00:09<00:00, 10.26it/s, loss=0.7655, acc=0.8667]\n"
     ]
    },
    {
     "name": "stdout",
     "output_type": "stream",
     "text": [
      "Avg Val Loss: 0.5728, Avg Val Acc: 0.9156 (Best)\n",
      "Current learning rate: [1.52587890625e-08, 1.52587890625e-08]\n",
      "Patience: 0/20\n"
     ]
    },
    {
     "name": "stderr",
     "output_type": "stream",
     "text": [
      "Epoch 339/500 (Training): 100%|██████████| 100/100 [00:12<00:00,  8.07it/s, loss=0.0000, acc=1.0000]\n"
     ]
    },
    {
     "name": "stdout",
     "output_type": "stream",
     "text": [
      "Avg Train Loss: 0.1075, Avg Train Acc: 0.9790 (Best)\n"
     ]
    },
    {
     "name": "stderr",
     "output_type": "stream",
     "text": [
      "Epoch 339/500 (Validation): 100%|██████████| 100/100 [00:09<00:00, 10.63it/s, loss=1.3551, acc=0.8400]\n"
     ]
    },
    {
     "name": "stdout",
     "output_type": "stream",
     "text": [
      "Avg Val Loss: 0.5732, Avg Val Acc: 0.9156 (Best)\n",
      "Current learning rate: [1.52587890625e-08, 1.52587890625e-08]\n",
      "Patience: 0/20\n"
     ]
    },
    {
     "name": "stderr",
     "output_type": "stream",
     "text": [
      "Epoch 340/500 (Training): 100%|██████████| 100/100 [00:12<00:00,  8.27it/s, loss=0.0001, acc=1.0000]\n"
     ]
    },
    {
     "name": "stdout",
     "output_type": "stream",
     "text": [
      "Avg Train Loss: 0.1072, Avg Train Acc: 0.9791 (Best)\n"
     ]
    },
    {
     "name": "stderr",
     "output_type": "stream",
     "text": [
      "Epoch 340/500 (Validation): 100%|██████████| 100/100 [00:09<00:00, 10.91it/s, loss=1.0056, acc=0.8800]\n"
     ]
    },
    {
     "name": "stdout",
     "output_type": "stream",
     "text": [
      "Avg Val Loss: 0.5732, Avg Val Acc: 0.9157 (Best)\n",
      "Current learning rate: [1.52587890625e-08, 1.52587890625e-08]\n",
      "Patience: 0/20\n"
     ]
    },
    {
     "name": "stderr",
     "output_type": "stream",
     "text": [
      "Epoch 341/500 (Training): 100%|██████████| 100/100 [00:13<00:00,  7.26it/s, loss=0.0004, acc=1.0000]\n"
     ]
    },
    {
     "name": "stdout",
     "output_type": "stream",
     "text": [
      "Avg Train Loss: 0.1070, Avg Train Acc: 0.9791 (Best)\n"
     ]
    },
    {
     "name": "stderr",
     "output_type": "stream",
     "text": [
      "Epoch 341/500 (Validation): 100%|██████████| 100/100 [00:09<00:00, 10.89it/s, loss=0.6247, acc=0.9467]\n"
     ]
    },
    {
     "name": "stdout",
     "output_type": "stream",
     "text": [
      "Avg Val Loss: 0.5733, Avg Val Acc: 0.9157 (Best)\n",
      "Current learning rate: [1.52587890625e-08, 1.52587890625e-08]\n",
      "Patience: 0/20\n"
     ]
    },
    {
     "name": "stderr",
     "output_type": "stream",
     "text": [
      "Epoch 342/500 (Training): 100%|██████████| 100/100 [00:12<00:00,  7.92it/s, loss=0.0073, acc=1.0000]\n"
     ]
    },
    {
     "name": "stdout",
     "output_type": "stream",
     "text": [
      "Avg Train Loss: 0.1067, Avg Train Acc: 0.9791 (Best)\n"
     ]
    },
    {
     "name": "stderr",
     "output_type": "stream",
     "text": [
      "Epoch 342/500 (Validation): 100%|██████████| 100/100 [00:09<00:00, 10.38it/s, loss=0.3629, acc=0.9467]\n"
     ]
    },
    {
     "name": "stdout",
     "output_type": "stream",
     "text": [
      "Avg Val Loss: 0.5734, Avg Val Acc: 0.9157 (Best)\n",
      "Current learning rate: [1.52587890625e-08, 1.52587890625e-08]\n",
      "Patience: 0/20\n"
     ]
    },
    {
     "name": "stderr",
     "output_type": "stream",
     "text": [
      "Epoch 343/500 (Training): 100%|██████████| 100/100 [00:12<00:00,  7.84it/s, loss=0.3046, acc=0.8000]\n"
     ]
    },
    {
     "name": "stdout",
     "output_type": "stream",
     "text": [
      "Avg Train Loss: 0.1065, Avg Train Acc: 0.9792 (Best)\n"
     ]
    },
    {
     "name": "stderr",
     "output_type": "stream",
     "text": [
      "Epoch 343/500 (Validation): 100%|██████████| 100/100 [00:08<00:00, 11.61it/s, loss=0.4242, acc=0.9333]\n"
     ]
    },
    {
     "name": "stdout",
     "output_type": "stream",
     "text": [
      "Avg Val Loss: 0.5732, Avg Val Acc: 0.9158 (Best)\n",
      "Current learning rate: [1.52587890625e-08, 1.52587890625e-08]\n",
      "Patience: 0/20\n"
     ]
    },
    {
     "name": "stderr",
     "output_type": "stream",
     "text": [
      "Epoch 344/500 (Training): 100%|██████████| 100/100 [00:13<00:00,  7.43it/s, loss=0.0001, acc=1.0000]\n"
     ]
    },
    {
     "name": "stdout",
     "output_type": "stream",
     "text": [
      "Avg Train Loss: 0.1063, Avg Train Acc: 0.9792 (Best)\n"
     ]
    },
    {
     "name": "stderr",
     "output_type": "stream",
     "text": [
      "Epoch 344/500 (Validation): 100%|██████████| 100/100 [00:08<00:00, 11.23it/s, loss=0.9706, acc=0.8933]\n"
     ]
    },
    {
     "name": "stdout",
     "output_type": "stream",
     "text": [
      "Avg Val Loss: 0.5732, Avg Val Acc: 0.9158 (Best)\n",
      "Current learning rate: [1.52587890625e-08, 1.52587890625e-08]\n",
      "Patience: 0/20\n"
     ]
    },
    {
     "name": "stderr",
     "output_type": "stream",
     "text": [
      "Epoch 345/500 (Training): 100%|██████████| 100/100 [00:13<00:00,  7.65it/s, loss=0.0002, acc=1.0000]\n"
     ]
    },
    {
     "name": "stdout",
     "output_type": "stream",
     "text": [
      "Avg Train Loss: 0.1060, Avg Train Acc: 0.9792 (Best)\n"
     ]
    },
    {
     "name": "stderr",
     "output_type": "stream",
     "text": [
      "Epoch 345/500 (Validation): 100%|██████████| 100/100 [00:09<00:00, 10.72it/s, loss=0.0683, acc=0.9867]\n"
     ]
    },
    {
     "name": "stdout",
     "output_type": "stream",
     "text": [
      "Avg Val Loss: 0.5730, Avg Val Acc: 0.9158 (Best)\n",
      "Current learning rate: [1.52587890625e-08, 1.52587890625e-08]\n",
      "Patience: 0/20\n"
     ]
    },
    {
     "name": "stderr",
     "output_type": "stream",
     "text": [
      "Epoch 346/500 (Training): 100%|██████████| 100/100 [00:13<00:00,  7.64it/s, loss=0.1000, acc=0.9867]\n"
     ]
    },
    {
     "name": "stdout",
     "output_type": "stream",
     "text": [
      "Avg Train Loss: 0.1058, Avg Train Acc: 0.9793 (Best)\n"
     ]
    },
    {
     "name": "stderr",
     "output_type": "stream",
     "text": [
      "Epoch 346/500 (Validation): 100%|██████████| 100/100 [00:08<00:00, 11.36it/s, loss=0.3440, acc=0.9067]\n"
     ]
    },
    {
     "name": "stdout",
     "output_type": "stream",
     "text": [
      "Avg Val Loss: 0.5735, Avg Val Acc: 0.9158 (Best)\n",
      "Current learning rate: [1.52587890625e-08, 1.52587890625e-08]\n",
      "Patience: 0/20\n"
     ]
    },
    {
     "name": "stderr",
     "output_type": "stream",
     "text": [
      "Epoch 347/500 (Training): 100%|██████████| 100/100 [00:12<00:00,  8.25it/s, loss=0.0514, acc=0.9867]\n"
     ]
    },
    {
     "name": "stdout",
     "output_type": "stream",
     "text": [
      "Avg Train Loss: 0.1056, Avg Train Acc: 0.9793 (Best)\n"
     ]
    },
    {
     "name": "stderr",
     "output_type": "stream",
     "text": [
      "Epoch 347/500 (Validation): 100%|██████████| 100/100 [00:09<00:00, 10.66it/s, loss=0.2862, acc=0.9467]\n"
     ]
    },
    {
     "name": "stdout",
     "output_type": "stream",
     "text": [
      "Avg Val Loss: 0.5734, Avg Val Acc: 0.9159 (Best)\n",
      "Current learning rate: [1.52587890625e-08, 1.52587890625e-08]\n",
      "Patience: 0/20\n"
     ]
    },
    {
     "name": "stderr",
     "output_type": "stream",
     "text": [
      "Epoch 348/500 (Training): 100%|██████████| 100/100 [00:11<00:00,  8.70it/s, loss=0.0192, acc=1.0000]\n"
     ]
    },
    {
     "name": "stdout",
     "output_type": "stream",
     "text": [
      "Avg Train Loss: 0.1054, Avg Train Acc: 0.9793 (Best)\n"
     ]
    },
    {
     "name": "stderr",
     "output_type": "stream",
     "text": [
      "Epoch 348/500 (Validation): 100%|██████████| 100/100 [00:08<00:00, 11.70it/s, loss=0.6155, acc=0.9600]\n"
     ]
    },
    {
     "name": "stdout",
     "output_type": "stream",
     "text": [
      "Avg Val Loss: 0.5732, Avg Val Acc: 0.9159 (Best)\n",
      "Current learning rate: [1.52587890625e-08, 1.52587890625e-08]\n",
      "Patience: 0/20\n"
     ]
    },
    {
     "name": "stderr",
     "output_type": "stream",
     "text": [
      "Epoch 349/500 (Training): 100%|██████████| 100/100 [00:13<00:00,  7.54it/s, loss=0.0031, acc=1.0000]\n"
     ]
    },
    {
     "name": "stdout",
     "output_type": "stream",
     "text": [
      "Avg Train Loss: 0.1052, Avg Train Acc: 0.9794 (Best)\n"
     ]
    },
    {
     "name": "stderr",
     "output_type": "stream",
     "text": [
      "Epoch 349/500 (Validation): 100%|██████████| 100/100 [00:09<00:00, 10.35it/s, loss=0.2305, acc=0.9467]\n"
     ]
    },
    {
     "name": "stdout",
     "output_type": "stream",
     "text": [
      "Avg Val Loss: 0.5731, Avg Val Acc: 0.9159 (Best)\n",
      "Current learning rate: [1.52587890625e-08, 1.52587890625e-08]\n",
      "Patience: 0/20\n"
     ]
    },
    {
     "name": "stderr",
     "output_type": "stream",
     "text": [
      "Epoch 350/500 (Training): 100%|██████████| 100/100 [00:13<00:00,  7.34it/s, loss=0.0001, acc=1.0000]\n"
     ]
    },
    {
     "name": "stdout",
     "output_type": "stream",
     "text": [
      "Avg Train Loss: 0.1049, Avg Train Acc: 0.9794 (Best)\n"
     ]
    },
    {
     "name": "stderr",
     "output_type": "stream",
     "text": [
      "Epoch 350/500 (Validation): 100%|██████████| 100/100 [00:09<00:00, 10.05it/s, loss=0.6443, acc=0.8667]\n"
     ]
    },
    {
     "name": "stdout",
     "output_type": "stream",
     "text": [
      "Avg Val Loss: 0.5734, Avg Val Acc: 0.9159 (Best)\n",
      "Current learning rate: [1.52587890625e-08, 1.52587890625e-08]\n",
      "Patience: 0/20\n"
     ]
    },
    {
     "name": "stderr",
     "output_type": "stream",
     "text": [
      "Epoch 351/500 (Training): 100%|██████████| 100/100 [00:12<00:00,  7.85it/s, loss=0.0014, acc=1.0000]\n"
     ]
    },
    {
     "name": "stdout",
     "output_type": "stream",
     "text": [
      "Avg Train Loss: 0.1047, Avg Train Acc: 0.9795 (Best)\n"
     ]
    },
    {
     "name": "stderr",
     "output_type": "stream",
     "text": [
      "Epoch 351/500 (Validation): 100%|██████████| 100/100 [00:09<00:00, 11.07it/s, loss=0.2318, acc=0.9467]\n"
     ]
    },
    {
     "name": "stdout",
     "output_type": "stream",
     "text": [
      "Avg Val Loss: 0.5733, Avg Val Acc: 0.9159 (Best)\n",
      "Current learning rate: [1.52587890625e-08, 1.52587890625e-08]\n",
      "Patience: 0/20\n"
     ]
    },
    {
     "name": "stderr",
     "output_type": "stream",
     "text": [
      "Epoch 352/500 (Training): 100%|██████████| 100/100 [00:12<00:00,  8.28it/s, loss=0.0077, acc=1.0000]\n"
     ]
    },
    {
     "name": "stdout",
     "output_type": "stream",
     "text": [
      "Avg Train Loss: 0.1045, Avg Train Acc: 0.9795 (Best)\n"
     ]
    },
    {
     "name": "stderr",
     "output_type": "stream",
     "text": [
      "Epoch 352/500 (Validation): 100%|██████████| 100/100 [00:08<00:00, 11.30it/s, loss=0.1219, acc=0.9600]\n"
     ]
    },
    {
     "name": "stdout",
     "output_type": "stream",
     "text": [
      "Avg Val Loss: 0.5733, Avg Val Acc: 0.9160 (Best)\n",
      "Current learning rate: [1.52587890625e-08, 1.52587890625e-08]\n",
      "Patience: 0/20\n"
     ]
    },
    {
     "name": "stderr",
     "output_type": "stream",
     "text": [
      "Epoch 353/500 (Training): 100%|██████████| 100/100 [00:12<00:00,  8.06it/s, loss=0.0131, acc=0.9867]\n"
     ]
    },
    {
     "name": "stdout",
     "output_type": "stream",
     "text": [
      "Avg Train Loss: 0.1043, Avg Train Acc: 0.9795 (Best)\n"
     ]
    },
    {
     "name": "stderr",
     "output_type": "stream",
     "text": [
      "Epoch 353/500 (Validation): 100%|██████████| 100/100 [00:08<00:00, 11.56it/s, loss=0.3524, acc=0.9733]\n"
     ]
    },
    {
     "name": "stdout",
     "output_type": "stream",
     "text": [
      "Avg Val Loss: 0.5729, Avg Val Acc: 0.9160 (Best)\n",
      "Current learning rate: [1.52587890625e-08, 1.52587890625e-08]\n",
      "Patience: 0/20\n"
     ]
    },
    {
     "name": "stderr",
     "output_type": "stream",
     "text": [
      "Epoch 354/500 (Training): 100%|██████████| 100/100 [00:14<00:00,  7.07it/s, loss=0.0001, acc=1.0000]\n"
     ]
    },
    {
     "name": "stdout",
     "output_type": "stream",
     "text": [
      "Avg Train Loss: 0.1041, Avg Train Acc: 0.9796 (Best)\n"
     ]
    },
    {
     "name": "stderr",
     "output_type": "stream",
     "text": [
      "Epoch 354/500 (Validation): 100%|██████████| 100/100 [00:09<00:00, 10.89it/s, loss=0.0102, acc=1.0000]\n"
     ]
    },
    {
     "name": "stdout",
     "output_type": "stream",
     "text": [
      "Avg Val Loss: 0.5733, Avg Val Acc: 0.9160 (Best)\n",
      "Current learning rate: [1.52587890625e-08, 1.52587890625e-08]\n",
      "Patience: 0/20\n"
     ]
    },
    {
     "name": "stderr",
     "output_type": "stream",
     "text": [
      "Epoch 355/500 (Training): 100%|██████████| 100/100 [00:13<00:00,  7.49it/s, loss=0.0453, acc=1.0000]\n"
     ]
    },
    {
     "name": "stdout",
     "output_type": "stream",
     "text": [
      "Avg Train Loss: 0.1038, Avg Train Acc: 0.9796 (Best)\n"
     ]
    },
    {
     "name": "stderr",
     "output_type": "stream",
     "text": [
      "Epoch 355/500 (Validation): 100%|██████████| 100/100 [00:09<00:00, 10.79it/s, loss=1.3556, acc=0.8933]\n"
     ]
    },
    {
     "name": "stdout",
     "output_type": "stream",
     "text": [
      "Avg Val Loss: 0.5741, Avg Val Acc: 0.9160 (Best: 0.9160)\n",
      "Current learning rate: [1.52587890625e-08, 1.52587890625e-08]\n",
      "Patience: 1/20\n"
     ]
    },
    {
     "name": "stderr",
     "output_type": "stream",
     "text": [
      "Epoch 356/500 (Training): 100%|██████████| 100/100 [00:12<00:00,  7.77it/s, loss=0.0002, acc=1.0000]\n"
     ]
    },
    {
     "name": "stdout",
     "output_type": "stream",
     "text": [
      "Avg Train Loss: 0.1037, Avg Train Acc: 0.9796 (Best)\n"
     ]
    },
    {
     "name": "stderr",
     "output_type": "stream",
     "text": [
      "Epoch 356/500 (Validation): 100%|██████████| 100/100 [00:08<00:00, 11.34it/s, loss=0.2770, acc=0.9467]\n"
     ]
    },
    {
     "name": "stdout",
     "output_type": "stream",
     "text": [
      "Avg Val Loss: 0.5742, Avg Val Acc: 0.9160 (Best)\n",
      "Current learning rate: [1.52587890625e-08, 1.52587890625e-08]\n",
      "Patience: 0/20\n"
     ]
    },
    {
     "name": "stderr",
     "output_type": "stream",
     "text": [
      "Epoch 357/500 (Training): 100%|██████████| 100/100 [00:13<00:00,  7.42it/s, loss=0.0049, acc=1.0000]\n"
     ]
    },
    {
     "name": "stdout",
     "output_type": "stream",
     "text": [
      "Avg Train Loss: 0.1035, Avg Train Acc: 0.9797 (Best)\n"
     ]
    },
    {
     "name": "stderr",
     "output_type": "stream",
     "text": [
      "Epoch 357/500 (Validation): 100%|██████████| 100/100 [00:09<00:00, 10.84it/s, loss=0.1279, acc=0.9467]\n"
     ]
    },
    {
     "name": "stdout",
     "output_type": "stream",
     "text": [
      "Avg Val Loss: 0.5740, Avg Val Acc: 0.9160 (Best)\n",
      "Current learning rate: [1.52587890625e-08, 1.52587890625e-08]\n",
      "Patience: 0/20\n"
     ]
    },
    {
     "name": "stderr",
     "output_type": "stream",
     "text": [
      "Epoch 358/500 (Training): 100%|██████████| 100/100 [00:13<00:00,  7.42it/s, loss=0.0000, acc=1.0000]\n"
     ]
    },
    {
     "name": "stdout",
     "output_type": "stream",
     "text": [
      "Avg Train Loss: 0.1032, Avg Train Acc: 0.9797 (Best)\n"
     ]
    },
    {
     "name": "stderr",
     "output_type": "stream",
     "text": [
      "Epoch 358/500 (Validation): 100%|██████████| 100/100 [00:08<00:00, 11.37it/s, loss=0.8494, acc=0.9200]\n"
     ]
    },
    {
     "name": "stdout",
     "output_type": "stream",
     "text": [
      "Avg Val Loss: 0.5738, Avg Val Acc: 0.9161 (Best)\n",
      "Current learning rate: [1.52587890625e-08, 1.52587890625e-08]\n",
      "Patience: 0/20\n"
     ]
    },
    {
     "name": "stderr",
     "output_type": "stream",
     "text": [
      "Epoch 359/500 (Training): 100%|██████████| 100/100 [00:11<00:00,  8.48it/s, loss=0.0012, acc=1.0000]\n"
     ]
    },
    {
     "name": "stdout",
     "output_type": "stream",
     "text": [
      "Avg Train Loss: 0.1030, Avg Train Acc: 0.9797 (Best)\n"
     ]
    },
    {
     "name": "stderr",
     "output_type": "stream",
     "text": [
      "Epoch 359/500 (Validation): 100%|██████████| 100/100 [00:09<00:00, 10.78it/s, loss=1.1342, acc=0.9067]\n"
     ]
    },
    {
     "name": "stdout",
     "output_type": "stream",
     "text": [
      "Avg Val Loss: 0.5740, Avg Val Acc: 0.9161 (Best: 0.9161)\n",
      "Current learning rate: [1.52587890625e-08, 1.52587890625e-08]\n",
      "Patience: 1/20\n"
     ]
    },
    {
     "name": "stderr",
     "output_type": "stream",
     "text": [
      "Epoch 360/500 (Training): 100%|██████████| 100/100 [00:12<00:00,  8.04it/s, loss=0.0702, acc=0.9867]\n"
     ]
    },
    {
     "name": "stdout",
     "output_type": "stream",
     "text": [
      "Avg Train Loss: 0.1028, Avg Train Acc: 0.9798 (Best)\n"
     ]
    },
    {
     "name": "stderr",
     "output_type": "stream",
     "text": [
      "Epoch 360/500 (Validation): 100%|██████████| 100/100 [00:09<00:00, 10.69it/s, loss=0.2717, acc=0.9467]\n"
     ]
    },
    {
     "name": "stdout",
     "output_type": "stream",
     "text": [
      "Avg Val Loss: 0.5743, Avg Val Acc: 0.9161 (Best)\n",
      "Current learning rate: [1.52587890625e-08, 1.52587890625e-08]\n",
      "Patience: 0/20\n"
     ]
    },
    {
     "name": "stderr",
     "output_type": "stream",
     "text": [
      "Epoch 361/500 (Training): 100%|██████████| 100/100 [00:12<00:00,  7.88it/s, loss=0.0001, acc=1.0000]\n"
     ]
    },
    {
     "name": "stdout",
     "output_type": "stream",
     "text": [
      "Avg Train Loss: 0.1026, Avg Train Acc: 0.9798 (Best)\n"
     ]
    },
    {
     "name": "stderr",
     "output_type": "stream",
     "text": [
      "Epoch 361/500 (Validation): 100%|██████████| 100/100 [00:09<00:00, 11.01it/s, loss=0.4606, acc=0.9467]\n"
     ]
    },
    {
     "name": "stdout",
     "output_type": "stream",
     "text": [
      "Avg Val Loss: 0.5749, Avg Val Acc: 0.9161 (Best)\n",
      "Current learning rate: [1.52587890625e-08, 1.52587890625e-08]\n",
      "Patience: 0/20\n"
     ]
    },
    {
     "name": "stderr",
     "output_type": "stream",
     "text": [
      "Epoch 362/500 (Training): 100%|██████████| 100/100 [00:15<00:00,  6.44it/s, loss=0.0000, acc=1.0000]\n"
     ]
    },
    {
     "name": "stdout",
     "output_type": "stream",
     "text": [
      "Avg Train Loss: 0.1024, Avg Train Acc: 0.9798 (Best)\n"
     ]
    },
    {
     "name": "stderr",
     "output_type": "stream",
     "text": [
      "Epoch 362/500 (Validation): 100%|██████████| 100/100 [00:09<00:00, 10.75it/s, loss=0.0795, acc=0.9733]\n"
     ]
    },
    {
     "name": "stdout",
     "output_type": "stream",
     "text": [
      "Avg Val Loss: 0.5747, Avg Val Acc: 0.9161 (Best)\n",
      "Current learning rate: [1.52587890625e-08, 1.52587890625e-08]\n",
      "Patience: 0/20\n"
     ]
    },
    {
     "name": "stderr",
     "output_type": "stream",
     "text": [
      "Epoch 363/500 (Training): 100%|██████████| 100/100 [00:13<00:00,  7.37it/s, loss=0.0362, acc=0.9733]\n"
     ]
    },
    {
     "name": "stdout",
     "output_type": "stream",
     "text": [
      "Avg Train Loss: 0.1022, Avg Train Acc: 0.9799 (Best)\n"
     ]
    },
    {
     "name": "stderr",
     "output_type": "stream",
     "text": [
      "Epoch 363/500 (Validation): 100%|██████████| 100/100 [00:08<00:00, 11.24it/s, loss=1.0587, acc=0.8267]\n"
     ]
    },
    {
     "name": "stdout",
     "output_type": "stream",
     "text": [
      "Avg Val Loss: 0.5749, Avg Val Acc: 0.9161 (Best)\n",
      "Current learning rate: [1.52587890625e-08, 1.52587890625e-08]\n",
      "Patience: 0/20\n"
     ]
    },
    {
     "name": "stderr",
     "output_type": "stream",
     "text": [
      "Epoch 364/500 (Training): 100%|██████████| 100/100 [00:13<00:00,  7.23it/s, loss=0.0116, acc=1.0000]\n"
     ]
    },
    {
     "name": "stdout",
     "output_type": "stream",
     "text": [
      "Avg Train Loss: 0.1019, Avg Train Acc: 0.9799 (Best)\n"
     ]
    },
    {
     "name": "stderr",
     "output_type": "stream",
     "text": [
      "Epoch 364/500 (Validation): 100%|██████████| 100/100 [00:09<00:00, 11.11it/s, loss=0.7820, acc=0.8667]\n"
     ]
    },
    {
     "name": "stdout",
     "output_type": "stream",
     "text": [
      "Avg Val Loss: 0.5749, Avg Val Acc: 0.9162 (Best)\n",
      "Current learning rate: [1.52587890625e-08, 1.52587890625e-08]\n",
      "Patience: 0/20\n"
     ]
    },
    {
     "name": "stderr",
     "output_type": "stream",
     "text": [
      "Epoch 365/500 (Training): 100%|██████████| 100/100 [00:12<00:00,  8.03it/s, loss=0.0012, acc=1.0000]\n"
     ]
    },
    {
     "name": "stdout",
     "output_type": "stream",
     "text": [
      "Avg Train Loss: 0.1017, Avg Train Acc: 0.9800 (Best)\n"
     ]
    },
    {
     "name": "stderr",
     "output_type": "stream",
     "text": [
      "Epoch 365/500 (Validation): 100%|██████████| 100/100 [00:09<00:00, 11.11it/s, loss=0.9128, acc=0.8267]\n"
     ]
    },
    {
     "name": "stdout",
     "output_type": "stream",
     "text": [
      "Avg Val Loss: 0.5749, Avg Val Acc: 0.9162 (Best)\n",
      "Current learning rate: [1.52587890625e-08, 1.52587890625e-08]\n",
      "Patience: 0/20\n"
     ]
    },
    {
     "name": "stderr",
     "output_type": "stream",
     "text": [
      "Epoch 366/500 (Training): 100%|██████████| 100/100 [00:13<00:00,  7.33it/s, loss=0.0001, acc=1.0000]\n"
     ]
    },
    {
     "name": "stdout",
     "output_type": "stream",
     "text": [
      "Avg Train Loss: 0.1015, Avg Train Acc: 0.9800 (Best)\n"
     ]
    },
    {
     "name": "stderr",
     "output_type": "stream",
     "text": [
      "Epoch 366/500 (Validation): 100%|██████████| 100/100 [00:09<00:00, 11.09it/s, loss=0.5677, acc=0.9467]\n"
     ]
    },
    {
     "name": "stdout",
     "output_type": "stream",
     "text": [
      "Avg Val Loss: 0.5753, Avg Val Acc: 0.9162 (Best)\n",
      "Current learning rate: [1.52587890625e-08, 1.52587890625e-08]\n",
      "Patience: 0/20\n"
     ]
    },
    {
     "name": "stderr",
     "output_type": "stream",
     "text": [
      "Epoch 367/500 (Training): 100%|██████████| 100/100 [00:13<00:00,  7.62it/s, loss=0.0117, acc=1.0000]\n"
     ]
    },
    {
     "name": "stdout",
     "output_type": "stream",
     "text": [
      "Avg Train Loss: 0.1013, Avg Train Acc: 0.9800 (Best)\n"
     ]
    },
    {
     "name": "stderr",
     "output_type": "stream",
     "text": [
      "Epoch 367/500 (Validation): 100%|██████████| 100/100 [00:08<00:00, 11.16it/s, loss=0.2237, acc=0.9733]\n"
     ]
    },
    {
     "name": "stdout",
     "output_type": "stream",
     "text": [
      "Avg Val Loss: 0.5756, Avg Val Acc: 0.9162 (Best)\n",
      "Current learning rate: [1.52587890625e-08, 1.52587890625e-08]\n",
      "Patience: 0/20\n"
     ]
    },
    {
     "name": "stderr",
     "output_type": "stream",
     "text": [
      "Epoch 368/500 (Training): 100%|██████████| 100/100 [00:14<00:00,  6.87it/s, loss=0.0045, acc=1.0000]\n"
     ]
    },
    {
     "name": "stdout",
     "output_type": "stream",
     "text": [
      "Avg Train Loss: 0.1011, Avg Train Acc: 0.9801 (Best)\n"
     ]
    },
    {
     "name": "stderr",
     "output_type": "stream",
     "text": [
      "Epoch 368/500 (Validation): 100%|██████████| 100/100 [00:09<00:00, 10.64it/s, loss=0.4139, acc=0.9467]\n"
     ]
    },
    {
     "name": "stdout",
     "output_type": "stream",
     "text": [
      "Avg Val Loss: 0.5758, Avg Val Acc: 0.9162 (Best)\n",
      "Current learning rate: [1.52587890625e-08, 1.52587890625e-08]\n",
      "Patience: 0/20\n"
     ]
    },
    {
     "name": "stderr",
     "output_type": "stream",
     "text": [
      "Epoch 369/500 (Training): 100%|██████████| 100/100 [00:11<00:00,  8.79it/s, loss=0.1100, acc=0.9600]\n"
     ]
    },
    {
     "name": "stdout",
     "output_type": "stream",
     "text": [
      "Avg Train Loss: 0.1009, Avg Train Acc: 0.9801 (Best)\n"
     ]
    },
    {
     "name": "stderr",
     "output_type": "stream",
     "text": [
      "Epoch 369/500 (Validation): 100%|██████████| 100/100 [00:08<00:00, 11.50it/s, loss=0.5266, acc=0.8400]\n"
     ]
    },
    {
     "name": "stdout",
     "output_type": "stream",
     "text": [
      "Avg Val Loss: 0.5759, Avg Val Acc: 0.9163 (Best)\n",
      "Current learning rate: [1.52587890625e-08, 1.52587890625e-08]\n",
      "Patience: 0/20\n"
     ]
    },
    {
     "name": "stderr",
     "output_type": "stream",
     "text": [
      "Epoch 370/500 (Training): 100%|██████████| 100/100 [00:11<00:00,  8.74it/s, loss=0.0526, acc=0.9733]\n"
     ]
    },
    {
     "name": "stdout",
     "output_type": "stream",
     "text": [
      "Avg Train Loss: 0.1007, Avg Train Acc: 0.9801 (Best)\n"
     ]
    },
    {
     "name": "stderr",
     "output_type": "stream",
     "text": [
      "Epoch 370/500 (Validation): 100%|██████████| 100/100 [00:09<00:00, 11.06it/s, loss=0.1970, acc=0.9733]\n"
     ]
    },
    {
     "name": "stdout",
     "output_type": "stream",
     "text": [
      "Avg Val Loss: 0.5761, Avg Val Acc: 0.9162 (Best: 0.9163)\n",
      "Current learning rate: [1.52587890625e-08, 1.52587890625e-08]\n",
      "Patience: 1/20\n"
     ]
    },
    {
     "name": "stderr",
     "output_type": "stream",
     "text": [
      "Epoch 371/500 (Training): 100%|██████████| 100/100 [00:12<00:00,  8.19it/s, loss=0.0000, acc=1.0000]\n"
     ]
    },
    {
     "name": "stdout",
     "output_type": "stream",
     "text": [
      "Avg Train Loss: 0.1005, Avg Train Acc: 0.9801 (Best)\n"
     ]
    },
    {
     "name": "stderr",
     "output_type": "stream",
     "text": [
      "Epoch 371/500 (Validation): 100%|██████████| 100/100 [00:09<00:00, 10.96it/s, loss=0.2726, acc=0.9067]\n"
     ]
    },
    {
     "name": "stdout",
     "output_type": "stream",
     "text": [
      "Avg Val Loss: 0.5760, Avg Val Acc: 0.9163 (Best)\n",
      "Current learning rate: [1.52587890625e-08, 1.52587890625e-08]\n",
      "Patience: 0/20\n"
     ]
    },
    {
     "name": "stderr",
     "output_type": "stream",
     "text": [
      "Epoch 372/500 (Training): 100%|██████████| 100/100 [00:12<00:00,  7.85it/s, loss=0.0276, acc=0.9867]\n"
     ]
    },
    {
     "name": "stdout",
     "output_type": "stream",
     "text": [
      "Avg Train Loss: 0.1003, Avg Train Acc: 0.9802 (Best)\n"
     ]
    },
    {
     "name": "stderr",
     "output_type": "stream",
     "text": [
      "Epoch 372/500 (Validation): 100%|██████████| 100/100 [00:09<00:00, 10.77it/s, loss=0.3778, acc=0.9467]\n"
     ]
    },
    {
     "name": "stdout",
     "output_type": "stream",
     "text": [
      "Avg Val Loss: 0.5759, Avg Val Acc: 0.9163 (Best: 0.9163)\n",
      "Current learning rate: [1.52587890625e-08, 1.52587890625e-08]\n",
      "Patience: 1/20\n"
     ]
    },
    {
     "name": "stderr",
     "output_type": "stream",
     "text": [
      "Epoch 373/500 (Training): 100%|██████████| 100/100 [00:12<00:00,  8.31it/s, loss=0.0001, acc=1.0000]\n"
     ]
    },
    {
     "name": "stdout",
     "output_type": "stream",
     "text": [
      "Avg Train Loss: 0.1001, Avg Train Acc: 0.9802 (Best)\n"
     ]
    },
    {
     "name": "stderr",
     "output_type": "stream",
     "text": [
      "Epoch 373/500 (Validation): 100%|██████████| 100/100 [00:09<00:00, 11.08it/s, loss=0.9342, acc=0.8800]\n"
     ]
    },
    {
     "name": "stdout",
     "output_type": "stream",
     "text": [
      "Avg Val Loss: 0.5758, Avg Val Acc: 0.9163 (Best)\n",
      "Current learning rate: [1.52587890625e-08, 1.52587890625e-08]\n",
      "Patience: 0/20\n"
     ]
    },
    {
     "name": "stderr",
     "output_type": "stream",
     "text": [
      "Epoch 374/500 (Training): 100%|██████████| 100/100 [00:12<00:00,  8.04it/s, loss=0.2006, acc=0.9733]\n"
     ]
    },
    {
     "name": "stdout",
     "output_type": "stream",
     "text": [
      "Avg Train Loss: 0.0999, Avg Train Acc: 0.9802 (Best)\n"
     ]
    },
    {
     "name": "stderr",
     "output_type": "stream",
     "text": [
      "Epoch 374/500 (Validation): 100%|██████████| 100/100 [00:09<00:00, 11.03it/s, loss=0.8805, acc=0.8933]\n"
     ]
    },
    {
     "name": "stdout",
     "output_type": "stream",
     "text": [
      "Avg Val Loss: 0.5758, Avg Val Acc: 0.9163 (Best)\n",
      "Current learning rate: [1.52587890625e-08, 1.52587890625e-08]\n",
      "Patience: 0/20\n"
     ]
    },
    {
     "name": "stderr",
     "output_type": "stream",
     "text": [
      "Epoch 375/500 (Training): 100%|██████████| 100/100 [00:13<00:00,  7.68it/s, loss=0.0019, acc=1.0000]\n"
     ]
    },
    {
     "name": "stdout",
     "output_type": "stream",
     "text": [
      "Avg Train Loss: 0.0997, Avg Train Acc: 0.9803 (Best)\n"
     ]
    },
    {
     "name": "stderr",
     "output_type": "stream",
     "text": [
      "Epoch 375/500 (Validation): 100%|██████████| 100/100 [00:09<00:00, 10.68it/s, loss=0.8139, acc=0.9333]\n"
     ]
    },
    {
     "name": "stdout",
     "output_type": "stream",
     "text": [
      "Avg Val Loss: 0.5763, Avg Val Acc: 0.9163 (Best: 0.9163)\n",
      "Current learning rate: [1.52587890625e-08, 1.52587890625e-08]\n",
      "Patience: 1/20\n"
     ]
    },
    {
     "name": "stderr",
     "output_type": "stream",
     "text": [
      "Epoch 376/500 (Training): 100%|██████████| 100/100 [00:13<00:00,  7.57it/s, loss=0.1009, acc=0.9733]\n"
     ]
    },
    {
     "name": "stdout",
     "output_type": "stream",
     "text": [
      "Avg Train Loss: 0.0996, Avg Train Acc: 0.9803 (Best)\n"
     ]
    },
    {
     "name": "stderr",
     "output_type": "stream",
     "text": [
      "Epoch 376/500 (Validation): 100%|██████████| 100/100 [00:09<00:00, 10.52it/s, loss=0.6071, acc=0.9600]\n"
     ]
    },
    {
     "name": "stdout",
     "output_type": "stream",
     "text": [
      "Avg Val Loss: 0.5764, Avg Val Acc: 0.9163 (Best)\n",
      "Current learning rate: [1.52587890625e-08, 1.52587890625e-08]\n",
      "Patience: 0/20\n"
     ]
    },
    {
     "name": "stderr",
     "output_type": "stream",
     "text": [
      "Epoch 377/500 (Training): 100%|██████████| 100/100 [00:12<00:00,  8.14it/s, loss=0.0001, acc=1.0000]\n"
     ]
    },
    {
     "name": "stdout",
     "output_type": "stream",
     "text": [
      "Avg Train Loss: 0.0994, Avg Train Acc: 0.9803 (Best)\n"
     ]
    },
    {
     "name": "stderr",
     "output_type": "stream",
     "text": [
      "Epoch 377/500 (Validation): 100%|██████████| 100/100 [00:09<00:00, 10.86it/s, loss=0.3251, acc=0.9467]\n"
     ]
    },
    {
     "name": "stdout",
     "output_type": "stream",
     "text": [
      "Avg Val Loss: 0.5764, Avg Val Acc: 0.9163 (Best)\n",
      "Current learning rate: [1.52587890625e-08, 1.52587890625e-08]\n",
      "Patience: 0/20\n"
     ]
    },
    {
     "name": "stderr",
     "output_type": "stream",
     "text": [
      "Epoch 378/500 (Training): 100%|██████████| 100/100 [00:14<00:00,  6.72it/s, loss=0.0000, acc=1.0000]\n"
     ]
    },
    {
     "name": "stdout",
     "output_type": "stream",
     "text": [
      "Avg Train Loss: 0.0992, Avg Train Acc: 0.9804 (Best)\n"
     ]
    },
    {
     "name": "stderr",
     "output_type": "stream",
     "text": [
      "Epoch 378/500 (Validation): 100%|██████████| 100/100 [00:09<00:00, 11.02it/s, loss=0.8695, acc=0.9333]\n"
     ]
    },
    {
     "name": "stdout",
     "output_type": "stream",
     "text": [
      "Avg Val Loss: 0.5773, Avg Val Acc: 0.9164 (Best)\n",
      "Current learning rate: [1.52587890625e-08, 1.52587890625e-08]\n",
      "Patience: 0/20\n"
     ]
    },
    {
     "name": "stderr",
     "output_type": "stream",
     "text": [
      "Epoch 379/500 (Training): 100%|██████████| 100/100 [00:13<00:00,  7.65it/s, loss=0.0001, acc=1.0000]\n"
     ]
    },
    {
     "name": "stdout",
     "output_type": "stream",
     "text": [
      "Avg Train Loss: 0.0990, Avg Train Acc: 0.9804 (Best)\n"
     ]
    },
    {
     "name": "stderr",
     "output_type": "stream",
     "text": [
      "Epoch 379/500 (Validation): 100%|██████████| 100/100 [00:09<00:00, 10.49it/s, loss=1.2267, acc=0.9333]\n"
     ]
    },
    {
     "name": "stdout",
     "output_type": "stream",
     "text": [
      "Avg Val Loss: 0.5780, Avg Val Acc: 0.9164 (Best)\n",
      "Current learning rate: [1.52587890625e-08, 1.52587890625e-08]\n",
      "Patience: 0/20\n"
     ]
    },
    {
     "name": "stderr",
     "output_type": "stream",
     "text": [
      "Epoch 380/500 (Training): 100%|██████████| 100/100 [00:13<00:00,  7.45it/s, loss=0.0000, acc=1.0000]\n"
     ]
    },
    {
     "name": "stdout",
     "output_type": "stream",
     "text": [
      "Avg Train Loss: 0.0988, Avg Train Acc: 0.9804 (Best)\n"
     ]
    },
    {
     "name": "stderr",
     "output_type": "stream",
     "text": [
      "Epoch 380/500 (Validation): 100%|██████████| 100/100 [00:09<00:00, 10.91it/s, loss=0.2903, acc=0.9467]\n"
     ]
    },
    {
     "name": "stdout",
     "output_type": "stream",
     "text": [
      "Avg Val Loss: 0.5783, Avg Val Acc: 0.9164 (Best)\n",
      "Current learning rate: [1.52587890625e-08, 1.52587890625e-08]\n",
      "Patience: 0/20\n"
     ]
    },
    {
     "name": "stderr",
     "output_type": "stream",
     "text": [
      "Epoch 381/500 (Training): 100%|██████████| 100/100 [00:12<00:00,  8.21it/s, loss=0.0007, acc=1.0000]\n"
     ]
    },
    {
     "name": "stdout",
     "output_type": "stream",
     "text": [
      "Avg Train Loss: 0.0987, Avg Train Acc: 0.9804 (Best)\n"
     ]
    },
    {
     "name": "stderr",
     "output_type": "stream",
     "text": [
      "Epoch 381/500 (Validation): 100%|██████████| 100/100 [00:09<00:00, 10.71it/s, loss=0.4720, acc=0.9333]\n"
     ]
    },
    {
     "name": "stdout",
     "output_type": "stream",
     "text": [
      "Avg Val Loss: 0.5783, Avg Val Acc: 0.9164 (Best)\n",
      "Current learning rate: [1.52587890625e-08, 1.52587890625e-08]\n",
      "Patience: 0/20\n"
     ]
    },
    {
     "name": "stderr",
     "output_type": "stream",
     "text": [
      "Epoch 382/500 (Training): 100%|██████████| 100/100 [00:12<00:00,  7.75it/s, loss=0.0112, acc=1.0000]\n"
     ]
    },
    {
     "name": "stdout",
     "output_type": "stream",
     "text": [
      "Avg Train Loss: 0.0985, Avg Train Acc: 0.9804 (Best)\n"
     ]
    },
    {
     "name": "stderr",
     "output_type": "stream",
     "text": [
      "Epoch 382/500 (Validation): 100%|██████████| 100/100 [00:09<00:00, 10.76it/s, loss=0.7041, acc=0.8800]\n"
     ]
    },
    {
     "name": "stdout",
     "output_type": "stream",
     "text": [
      "Avg Val Loss: 0.5785, Avg Val Acc: 0.9164 (Best: 0.9164)\n",
      "Current learning rate: [1.52587890625e-08, 1.52587890625e-08]\n",
      "Patience: 1/20\n"
     ]
    },
    {
     "name": "stderr",
     "output_type": "stream",
     "text": [
      "Epoch 383/500 (Training): 100%|██████████| 100/100 [00:11<00:00,  8.35it/s, loss=0.0004, acc=1.0000]\n"
     ]
    },
    {
     "name": "stdout",
     "output_type": "stream",
     "text": [
      "Avg Train Loss: 0.0983, Avg Train Acc: 0.9805 (Best)\n"
     ]
    },
    {
     "name": "stderr",
     "output_type": "stream",
     "text": [
      "Epoch 383/500 (Validation): 100%|██████████| 100/100 [00:09<00:00, 10.45it/s, loss=0.9153, acc=0.9200]\n"
     ]
    },
    {
     "name": "stdout",
     "output_type": "stream",
     "text": [
      "Avg Val Loss: 0.5786, Avg Val Acc: 0.9164 (Best: 0.9164)\n",
      "Current learning rate: [1.52587890625e-08, 1.52587890625e-08]\n",
      "Patience: 2/20\n"
     ]
    },
    {
     "name": "stderr",
     "output_type": "stream",
     "text": [
      "Epoch 384/500 (Training): 100%|██████████| 100/100 [00:13<00:00,  7.18it/s, loss=0.0011, acc=1.0000]\n"
     ]
    },
    {
     "name": "stdout",
     "output_type": "stream",
     "text": [
      "Avg Train Loss: 0.0982, Avg Train Acc: 0.9805 (Best)\n"
     ]
    },
    {
     "name": "stderr",
     "output_type": "stream",
     "text": [
      "Epoch 384/500 (Validation): 100%|██████████| 100/100 [00:09<00:00, 10.72it/s, loss=0.2287, acc=0.9467]\n"
     ]
    },
    {
     "name": "stdout",
     "output_type": "stream",
     "text": [
      "Avg Val Loss: 0.5789, Avg Val Acc: 0.9164 (Best: 0.9164)\n",
      "Current learning rate: [1.52587890625e-08, 1.52587890625e-08]\n",
      "Patience: 3/20\n"
     ]
    },
    {
     "name": "stderr",
     "output_type": "stream",
     "text": [
      "Epoch 385/500 (Training): 100%|██████████| 100/100 [00:12<00:00,  7.78it/s, loss=0.0512, acc=0.9867]\n"
     ]
    },
    {
     "name": "stdout",
     "output_type": "stream",
     "text": [
      "Avg Train Loss: 0.0980, Avg Train Acc: 0.9805 (Best)\n"
     ]
    },
    {
     "name": "stderr",
     "output_type": "stream",
     "text": [
      "Epoch 385/500 (Validation): 100%|██████████| 100/100 [00:09<00:00, 10.65it/s, loss=0.5231, acc=0.9200]\n"
     ]
    },
    {
     "name": "stdout",
     "output_type": "stream",
     "text": [
      "Avg Val Loss: 0.5786, Avg Val Acc: 0.9164 (Best: 0.9164)\n",
      "Current learning rate: [1.52587890625e-08, 1.52587890625e-08]\n",
      "Patience: 4/20\n"
     ]
    },
    {
     "name": "stderr",
     "output_type": "stream",
     "text": [
      "Epoch 386/500 (Training): 100%|██████████| 100/100 [00:14<00:00,  6.96it/s, loss=0.0300, acc=0.9867]\n"
     ]
    },
    {
     "name": "stdout",
     "output_type": "stream",
     "text": [
      "Avg Train Loss: 0.0978, Avg Train Acc: 0.9806 (Best)\n"
     ]
    },
    {
     "name": "stderr",
     "output_type": "stream",
     "text": [
      "Epoch 386/500 (Validation): 100%|██████████| 100/100 [00:09<00:00, 10.90it/s, loss=0.2932, acc=0.9333]\n"
     ]
    },
    {
     "name": "stdout",
     "output_type": "stream",
     "text": [
      "Avg Val Loss: 0.5788, Avg Val Acc: 0.9164 (Best: 0.9164)\n",
      "Current learning rate: [1.52587890625e-08, 1.52587890625e-08]\n",
      "Patience: 5/20\n"
     ]
    },
    {
     "name": "stderr",
     "output_type": "stream",
     "text": [
      "Epoch 387/500 (Training): 100%|██████████| 100/100 [00:12<00:00,  7.92it/s, loss=0.0047, acc=1.0000]\n"
     ]
    },
    {
     "name": "stdout",
     "output_type": "stream",
     "text": [
      "Avg Train Loss: 0.0976, Avg Train Acc: 0.9806 (Best)\n"
     ]
    },
    {
     "name": "stderr",
     "output_type": "stream",
     "text": [
      "Epoch 387/500 (Validation): 100%|██████████| 100/100 [00:09<00:00, 10.81it/s, loss=1.2525, acc=0.8000]\n"
     ]
    },
    {
     "name": "stdout",
     "output_type": "stream",
     "text": [
      "Avg Val Loss: 0.5789, Avg Val Acc: 0.9164 (Best)\n",
      "Current learning rate: [1.52587890625e-08, 1.52587890625e-08]\n",
      "Patience: 0/20\n"
     ]
    },
    {
     "name": "stderr",
     "output_type": "stream",
     "text": [
      "Epoch 388/500 (Training): 100%|██████████| 100/100 [00:13<00:00,  7.30it/s, loss=0.0491, acc=0.9867]\n"
     ]
    },
    {
     "name": "stdout",
     "output_type": "stream",
     "text": [
      "Avg Train Loss: 0.0974, Avg Train Acc: 0.9806 (Best)\n"
     ]
    },
    {
     "name": "stderr",
     "output_type": "stream",
     "text": [
      "Epoch 388/500 (Validation): 100%|██████████| 100/100 [00:09<00:00, 10.63it/s, loss=0.7002, acc=0.9067]\n"
     ]
    },
    {
     "name": "stdout",
     "output_type": "stream",
     "text": [
      "Avg Val Loss: 0.5789, Avg Val Acc: 0.9164 (Best)\n",
      "Current learning rate: [1.52587890625e-08, 1.52587890625e-08]\n",
      "Patience: 0/20\n"
     ]
    },
    {
     "name": "stderr",
     "output_type": "stream",
     "text": [
      "Epoch 389/500 (Training): 100%|██████████| 100/100 [00:13<00:00,  7.42it/s, loss=0.0013, acc=1.0000]\n"
     ]
    },
    {
     "name": "stdout",
     "output_type": "stream",
     "text": [
      "Avg Train Loss: 0.0972, Avg Train Acc: 0.9807 (Best)\n"
     ]
    },
    {
     "name": "stderr",
     "output_type": "stream",
     "text": [
      "Epoch 389/500 (Validation): 100%|██████████| 100/100 [00:09<00:00, 10.59it/s, loss=0.5310, acc=0.8533]\n"
     ]
    },
    {
     "name": "stdout",
     "output_type": "stream",
     "text": [
      "Avg Val Loss: 0.5790, Avg Val Acc: 0.9164 (Best)\n",
      "Current learning rate: [1.52587890625e-08, 1.52587890625e-08]\n",
      "Patience: 0/20\n"
     ]
    },
    {
     "name": "stderr",
     "output_type": "stream",
     "text": [
      "Epoch 390/500 (Training): 100%|██████████| 100/100 [00:14<00:00,  7.09it/s, loss=0.0330, acc=0.9867]\n"
     ]
    },
    {
     "name": "stdout",
     "output_type": "stream",
     "text": [
      "Avg Train Loss: 0.0970, Avg Train Acc: 0.9807 (Best)\n"
     ]
    },
    {
     "name": "stderr",
     "output_type": "stream",
     "text": [
      "Epoch 390/500 (Validation): 100%|██████████| 100/100 [00:09<00:00, 10.78it/s, loss=0.5363, acc=0.9333]\n"
     ]
    },
    {
     "name": "stdout",
     "output_type": "stream",
     "text": [
      "Avg Val Loss: 0.5787, Avg Val Acc: 0.9165 (Best)\n",
      "Current learning rate: [1.52587890625e-08, 1.52587890625e-08]\n",
      "Patience: 0/20\n"
     ]
    },
    {
     "name": "stderr",
     "output_type": "stream",
     "text": [
      "Epoch 391/500 (Training): 100%|██████████| 100/100 [00:13<00:00,  7.45it/s, loss=0.0061, acc=1.0000]\n"
     ]
    },
    {
     "name": "stdout",
     "output_type": "stream",
     "text": [
      "Avg Train Loss: 0.0968, Avg Train Acc: 0.9807 (Best)\n"
     ]
    },
    {
     "name": "stderr",
     "output_type": "stream",
     "text": [
      "Epoch 391/500 (Validation): 100%|██████████| 100/100 [00:10<00:00,  9.73it/s, loss=0.6499, acc=0.9200]\n"
     ]
    },
    {
     "name": "stdout",
     "output_type": "stream",
     "text": [
      "Avg Val Loss: 0.5785, Avg Val Acc: 0.9165 (Best)\n",
      "Current learning rate: [1.52587890625e-08, 1.52587890625e-08]\n",
      "Patience: 0/20\n"
     ]
    },
    {
     "name": "stderr",
     "output_type": "stream",
     "text": [
      "Epoch 392/500 (Training): 100%|██████████| 100/100 [00:13<00:00,  7.39it/s, loss=0.0044, acc=1.0000]\n"
     ]
    },
    {
     "name": "stdout",
     "output_type": "stream",
     "text": [
      "Avg Train Loss: 0.0967, Avg Train Acc: 0.9808 (Best)\n"
     ]
    },
    {
     "name": "stderr",
     "output_type": "stream",
     "text": [
      "Epoch 392/500 (Validation): 100%|██████████| 100/100 [00:09<00:00, 10.68it/s, loss=0.5144, acc=0.9600]\n"
     ]
    },
    {
     "name": "stdout",
     "output_type": "stream",
     "text": [
      "Avg Val Loss: 0.5783, Avg Val Acc: 0.9165 (Best)\n",
      "Current learning rate: [1.52587890625e-08, 1.52587890625e-08]\n",
      "Patience: 0/20\n"
     ]
    },
    {
     "name": "stderr",
     "output_type": "stream",
     "text": [
      "Epoch 393/500 (Training): 100%|██████████| 100/100 [00:12<00:00,  7.97it/s, loss=0.0018, acc=1.0000]\n"
     ]
    },
    {
     "name": "stdout",
     "output_type": "stream",
     "text": [
      "Avg Train Loss: 0.0965, Avg Train Acc: 0.9808 (Best)\n"
     ]
    },
    {
     "name": "stderr",
     "output_type": "stream",
     "text": [
      "Epoch 393/500 (Validation): 100%|██████████| 100/100 [00:08<00:00, 11.12it/s, loss=0.5035, acc=0.9067]\n"
     ]
    },
    {
     "name": "stdout",
     "output_type": "stream",
     "text": [
      "Avg Val Loss: 0.5784, Avg Val Acc: 0.9165 (Best)\n",
      "Current learning rate: [1.52587890625e-08, 1.52587890625e-08]\n",
      "Patience: 0/20\n"
     ]
    },
    {
     "name": "stderr",
     "output_type": "stream",
     "text": [
      "Epoch 394/500 (Training): 100%|██████████| 100/100 [00:13<00:00,  7.69it/s, loss=0.0352, acc=0.9867]\n"
     ]
    },
    {
     "name": "stdout",
     "output_type": "stream",
     "text": [
      "Avg Train Loss: 0.0964, Avg Train Acc: 0.9808 (Best)\n"
     ]
    },
    {
     "name": "stderr",
     "output_type": "stream",
     "text": [
      "Epoch 394/500 (Validation): 100%|██████████| 100/100 [00:09<00:00, 10.58it/s, loss=0.3935, acc=0.9600]\n"
     ]
    },
    {
     "name": "stdout",
     "output_type": "stream",
     "text": [
      "Avg Val Loss: 0.5786, Avg Val Acc: 0.9166 (Best)\n",
      "Current learning rate: [1.52587890625e-08, 1.52587890625e-08]\n",
      "Patience: 0/20\n"
     ]
    },
    {
     "name": "stderr",
     "output_type": "stream",
     "text": [
      "Epoch 395/500 (Training): 100%|██████████| 100/100 [00:12<00:00,  8.12it/s, loss=0.0123, acc=1.0000]\n"
     ]
    },
    {
     "name": "stdout",
     "output_type": "stream",
     "text": [
      "Avg Train Loss: 0.0962, Avg Train Acc: 0.9808 (Best)\n"
     ]
    },
    {
     "name": "stderr",
     "output_type": "stream",
     "text": [
      "Epoch 395/500 (Validation): 100%|██████████| 100/100 [00:09<00:00, 10.64it/s, loss=0.9313, acc=0.8533]\n"
     ]
    },
    {
     "name": "stdout",
     "output_type": "stream",
     "text": [
      "Avg Val Loss: 0.5785, Avg Val Acc: 0.9166 (Best)\n",
      "Current learning rate: [1.52587890625e-08, 1.52587890625e-08]\n",
      "Patience: 0/20\n"
     ]
    },
    {
     "name": "stderr",
     "output_type": "stream",
     "text": [
      "Epoch 396/500 (Training): 100%|██████████| 100/100 [00:13<00:00,  7.52it/s, loss=0.0039, acc=1.0000]\n"
     ]
    },
    {
     "name": "stdout",
     "output_type": "stream",
     "text": [
      "Avg Train Loss: 0.0960, Avg Train Acc: 0.9808 (Best)\n"
     ]
    },
    {
     "name": "stderr",
     "output_type": "stream",
     "text": [
      "Epoch 396/500 (Validation): 100%|██████████| 100/100 [00:09<00:00, 10.85it/s, loss=1.0328, acc=0.8933]\n"
     ]
    },
    {
     "name": "stdout",
     "output_type": "stream",
     "text": [
      "Avg Val Loss: 0.5787, Avg Val Acc: 0.9166 (Best)\n",
      "Current learning rate: [1.52587890625e-08, 1.52587890625e-08]\n",
      "Patience: 0/20\n"
     ]
    },
    {
     "name": "stderr",
     "output_type": "stream",
     "text": [
      "Epoch 397/500 (Training): 100%|██████████| 100/100 [00:12<00:00,  8.11it/s, loss=0.0019, acc=1.0000]\n"
     ]
    },
    {
     "name": "stdout",
     "output_type": "stream",
     "text": [
      "Avg Train Loss: 0.0958, Avg Train Acc: 0.9809 (Best)\n"
     ]
    },
    {
     "name": "stderr",
     "output_type": "stream",
     "text": [
      "Epoch 397/500 (Validation): 100%|██████████| 100/100 [00:09<00:00, 10.51it/s, loss=0.3114, acc=0.9333]\n"
     ]
    },
    {
     "name": "stdout",
     "output_type": "stream",
     "text": [
      "Avg Val Loss: 0.5793, Avg Val Acc: 0.9166 (Best)\n",
      "Current learning rate: [1.52587890625e-08, 1.52587890625e-08]\n",
      "Patience: 0/20\n"
     ]
    },
    {
     "name": "stderr",
     "output_type": "stream",
     "text": [
      "Epoch 398/500 (Training): 100%|██████████| 100/100 [00:12<00:00,  7.99it/s, loss=0.1510, acc=0.9467]\n"
     ]
    },
    {
     "name": "stdout",
     "output_type": "stream",
     "text": [
      "Avg Train Loss: 0.0957, Avg Train Acc: 0.9809 (Best)\n"
     ]
    },
    {
     "name": "stderr",
     "output_type": "stream",
     "text": [
      "Epoch 398/500 (Validation): 100%|██████████| 100/100 [00:09<00:00, 10.74it/s, loss=0.6922, acc=0.9067]\n"
     ]
    },
    {
     "name": "stdout",
     "output_type": "stream",
     "text": [
      "Avg Val Loss: 0.5791, Avg Val Acc: 0.9167 (Best)\n",
      "Current learning rate: [1.52587890625e-08, 1.52587890625e-08]\n",
      "Patience: 0/20\n"
     ]
    },
    {
     "name": "stderr",
     "output_type": "stream",
     "text": [
      "Epoch 399/500 (Training): 100%|██████████| 100/100 [00:12<00:00,  8.05it/s, loss=0.0034, acc=1.0000]\n"
     ]
    },
    {
     "name": "stdout",
     "output_type": "stream",
     "text": [
      "Avg Train Loss: 0.0955, Avg Train Acc: 0.9809 (Best)\n"
     ]
    },
    {
     "name": "stderr",
     "output_type": "stream",
     "text": [
      "Epoch 399/500 (Validation): 100%|██████████| 100/100 [00:09<00:00, 10.76it/s, loss=0.5593, acc=0.9467]\n"
     ]
    },
    {
     "name": "stdout",
     "output_type": "stream",
     "text": [
      "Avg Val Loss: 0.5794, Avg Val Acc: 0.9167 (Best)\n",
      "Current learning rate: [1.52587890625e-08, 1.52587890625e-08]\n",
      "Patience: 0/20\n"
     ]
    },
    {
     "name": "stderr",
     "output_type": "stream",
     "text": [
      "Epoch 400/500 (Training): 100%|██████████| 100/100 [00:13<00:00,  7.33it/s, loss=0.0023, acc=1.0000]\n"
     ]
    },
    {
     "name": "stdout",
     "output_type": "stream",
     "text": [
      "Avg Train Loss: 0.0953, Avg Train Acc: 0.9810 (Best)\n"
     ]
    },
    {
     "name": "stderr",
     "output_type": "stream",
     "text": [
      "Epoch 400/500 (Validation): 100%|██████████| 100/100 [00:09<00:00, 10.59it/s, loss=0.4480, acc=0.9333]\n"
     ]
    },
    {
     "name": "stdout",
     "output_type": "stream",
     "text": [
      "Avg Val Loss: 0.5798, Avg Val Acc: 0.9167 (Best)\n",
      "Current learning rate: [1.52587890625e-08, 1.52587890625e-08]\n",
      "Patience: 0/20\n"
     ]
    },
    {
     "name": "stderr",
     "output_type": "stream",
     "text": [
      "Epoch 401/500 (Training): 100%|██████████| 100/100 [00:13<00:00,  7.48it/s, loss=0.0075, acc=1.0000]\n"
     ]
    },
    {
     "name": "stdout",
     "output_type": "stream",
     "text": [
      "Avg Train Loss: 0.0951, Avg Train Acc: 0.9810 (Best)\n"
     ]
    },
    {
     "name": "stderr",
     "output_type": "stream",
     "text": [
      "Epoch 401/500 (Validation): 100%|██████████| 100/100 [00:09<00:00, 11.09it/s, loss=0.5165, acc=0.9467]\n"
     ]
    },
    {
     "name": "stdout",
     "output_type": "stream",
     "text": [
      "Avg Val Loss: 0.5797, Avg Val Acc: 0.9167 (Best)\n",
      "Current learning rate: [1.52587890625e-08, 1.52587890625e-08]\n",
      "Patience: 0/20\n"
     ]
    },
    {
     "name": "stderr",
     "output_type": "stream",
     "text": [
      "Epoch 402/500 (Training): 100%|██████████| 100/100 [00:12<00:00,  7.70it/s, loss=0.0071, acc=1.0000]\n"
     ]
    },
    {
     "name": "stdout",
     "output_type": "stream",
     "text": [
      "Avg Train Loss: 0.0950, Avg Train Acc: 0.9810 (Best)\n"
     ]
    },
    {
     "name": "stderr",
     "output_type": "stream",
     "text": [
      "Epoch 402/500 (Validation): 100%|██████████| 100/100 [00:09<00:00, 10.48it/s, loss=0.6530, acc=0.8533]\n"
     ]
    },
    {
     "name": "stdout",
     "output_type": "stream",
     "text": [
      "Avg Val Loss: 0.5796, Avg Val Acc: 0.9168 (Best)\n",
      "Current learning rate: [1.52587890625e-08, 1.52587890625e-08]\n",
      "Patience: 0/20\n"
     ]
    },
    {
     "name": "stderr",
     "output_type": "stream",
     "text": [
      "Epoch 403/500 (Training): 100%|██████████| 100/100 [00:12<00:00,  7.69it/s, loss=0.0091, acc=1.0000]\n"
     ]
    },
    {
     "name": "stdout",
     "output_type": "stream",
     "text": [
      "Avg Train Loss: 0.0948, Avg Train Acc: 0.9810 (Best)\n"
     ]
    },
    {
     "name": "stderr",
     "output_type": "stream",
     "text": [
      "Epoch 403/500 (Validation): 100%|██████████| 100/100 [00:09<00:00, 10.54it/s, loss=0.5807, acc=0.9333]\n"
     ]
    },
    {
     "name": "stdout",
     "output_type": "stream",
     "text": [
      "Avg Val Loss: 0.5795, Avg Val Acc: 0.9168 (Best)\n",
      "Current learning rate: [1.52587890625e-08, 1.52587890625e-08]\n",
      "Patience: 0/20\n"
     ]
    },
    {
     "name": "stderr",
     "output_type": "stream",
     "text": [
      "Epoch 404/500 (Training): 100%|██████████| 100/100 [00:14<00:00,  7.13it/s, loss=0.0012, acc=1.0000]\n"
     ]
    },
    {
     "name": "stdout",
     "output_type": "stream",
     "text": [
      "Avg Train Loss: 0.0946, Avg Train Acc: 0.9811 (Best)\n"
     ]
    },
    {
     "name": "stderr",
     "output_type": "stream",
     "text": [
      "Epoch 404/500 (Validation): 100%|██████████| 100/100 [00:09<00:00, 10.62it/s, loss=0.6185, acc=0.8667]\n"
     ]
    },
    {
     "name": "stdout",
     "output_type": "stream",
     "text": [
      "Avg Val Loss: 0.5800, Avg Val Acc: 0.9168 (Best)\n",
      "Current learning rate: [1.52587890625e-08, 1.52587890625e-08]\n",
      "Patience: 0/20\n"
     ]
    },
    {
     "name": "stderr",
     "output_type": "stream",
     "text": [
      "Epoch 405/500 (Training): 100%|██████████| 100/100 [00:12<00:00,  7.93it/s, loss=0.0001, acc=1.0000]\n"
     ]
    },
    {
     "name": "stdout",
     "output_type": "stream",
     "text": [
      "Avg Train Loss: 0.0945, Avg Train Acc: 0.9811 (Best)\n"
     ]
    },
    {
     "name": "stderr",
     "output_type": "stream",
     "text": [
      "Epoch 405/500 (Validation): 100%|██████████| 100/100 [00:09<00:00, 10.48it/s, loss=0.6719, acc=0.9333]\n"
     ]
    },
    {
     "name": "stdout",
     "output_type": "stream",
     "text": [
      "Avg Val Loss: 0.5802, Avg Val Acc: 0.9168 (Best)\n",
      "Current learning rate: [1.52587890625e-08, 1.52587890625e-08]\n",
      "Patience: 0/20\n"
     ]
    },
    {
     "name": "stderr",
     "output_type": "stream",
     "text": [
      "Epoch 406/500 (Training): 100%|██████████| 100/100 [00:12<00:00,  8.29it/s, loss=0.0219, acc=0.9867]\n"
     ]
    },
    {
     "name": "stdout",
     "output_type": "stream",
     "text": [
      "Avg Train Loss: 0.0943, Avg Train Acc: 0.9811 (Best)\n"
     ]
    },
    {
     "name": "stderr",
     "output_type": "stream",
     "text": [
      "Epoch 406/500 (Validation): 100%|██████████| 100/100 [00:09<00:00, 10.83it/s, loss=1.7570, acc=0.8667]\n"
     ]
    },
    {
     "name": "stdout",
     "output_type": "stream",
     "text": [
      "Avg Val Loss: 0.5804, Avg Val Acc: 0.9168 (Best: 0.9168)\n",
      "Current learning rate: [1.52587890625e-08, 1.52587890625e-08]\n",
      "Patience: 1/20\n"
     ]
    },
    {
     "name": "stderr",
     "output_type": "stream",
     "text": [
      "Epoch 407/500 (Training): 100%|██████████| 100/100 [00:13<00:00,  7.61it/s, loss=0.0701, acc=0.9867]\n"
     ]
    },
    {
     "name": "stdout",
     "output_type": "stream",
     "text": [
      "Avg Train Loss: 0.0942, Avg Train Acc: 0.9811 (Best)\n"
     ]
    },
    {
     "name": "stderr",
     "output_type": "stream",
     "text": [
      "Epoch 407/500 (Validation): 100%|██████████| 100/100 [00:09<00:00, 10.70it/s, loss=0.7310, acc=0.9600]\n"
     ]
    },
    {
     "name": "stdout",
     "output_type": "stream",
     "text": [
      "Avg Val Loss: 0.5803, Avg Val Acc: 0.9168 (Best)\n",
      "Current learning rate: [1.52587890625e-08, 1.52587890625e-08]\n",
      "Patience: 0/20\n"
     ]
    },
    {
     "name": "stderr",
     "output_type": "stream",
     "text": [
      "Epoch 408/500 (Training): 100%|██████████| 100/100 [00:13<00:00,  7.67it/s, loss=0.0356, acc=0.9867]\n"
     ]
    },
    {
     "name": "stdout",
     "output_type": "stream",
     "text": [
      "Avg Train Loss: 0.0940, Avg Train Acc: 0.9812 (Best)\n"
     ]
    },
    {
     "name": "stderr",
     "output_type": "stream",
     "text": [
      "Epoch 408/500 (Validation): 100%|██████████| 100/100 [00:09<00:00, 11.02it/s, loss=1.1429, acc=0.8933]\n"
     ]
    },
    {
     "name": "stdout",
     "output_type": "stream",
     "text": [
      "Avg Val Loss: 0.5807, Avg Val Acc: 0.9168 (Best)\n",
      "Current learning rate: [1.52587890625e-08, 1.52587890625e-08]\n",
      "Patience: 0/20\n"
     ]
    },
    {
     "name": "stderr",
     "output_type": "stream",
     "text": [
      "Epoch 409/500 (Training): 100%|██████████| 100/100 [00:11<00:00,  8.35it/s, loss=0.0000, acc=1.0000]\n"
     ]
    },
    {
     "name": "stdout",
     "output_type": "stream",
     "text": [
      "Avg Train Loss: 0.0938, Avg Train Acc: 0.9812 (Best)\n"
     ]
    },
    {
     "name": "stderr",
     "output_type": "stream",
     "text": [
      "Epoch 409/500 (Validation): 100%|██████████| 100/100 [00:09<00:00, 10.40it/s, loss=0.6492, acc=0.9200]\n"
     ]
    },
    {
     "name": "stdout",
     "output_type": "stream",
     "text": [
      "Avg Val Loss: 0.5808, Avg Val Acc: 0.9168 (Best)\n",
      "Current learning rate: [1.52587890625e-08, 1.52587890625e-08]\n",
      "Patience: 0/20\n"
     ]
    },
    {
     "name": "stderr",
     "output_type": "stream",
     "text": [
      "Epoch 410/500 (Training): 100%|██████████| 100/100 [00:13<00:00,  7.69it/s, loss=0.0474, acc=0.9867]\n"
     ]
    },
    {
     "name": "stdout",
     "output_type": "stream",
     "text": [
      "Avg Train Loss: 0.0936, Avg Train Acc: 0.9812 (Best)\n"
     ]
    },
    {
     "name": "stderr",
     "output_type": "stream",
     "text": [
      "Epoch 410/500 (Validation): 100%|██████████| 100/100 [00:09<00:00, 10.94it/s, loss=0.0512, acc=0.9733]\n"
     ]
    },
    {
     "name": "stdout",
     "output_type": "stream",
     "text": [
      "Avg Val Loss: 0.5811, Avg Val Acc: 0.9168 (Best: 0.9168)\n",
      "Current learning rate: [1.52587890625e-08, 1.52587890625e-08]\n",
      "Patience: 1/20\n"
     ]
    },
    {
     "name": "stderr",
     "output_type": "stream",
     "text": [
      "Epoch 411/500 (Training): 100%|██████████| 100/100 [00:12<00:00,  8.21it/s, loss=0.0015, acc=1.0000]\n"
     ]
    },
    {
     "name": "stdout",
     "output_type": "stream",
     "text": [
      "Avg Train Loss: 0.0935, Avg Train Acc: 0.9813 (Best)\n"
     ]
    },
    {
     "name": "stderr",
     "output_type": "stream",
     "text": [
      "Epoch 411/500 (Validation): 100%|██████████| 100/100 [00:09<00:00, 10.83it/s, loss=0.1100, acc=0.9867]\n"
     ]
    },
    {
     "name": "stdout",
     "output_type": "stream",
     "text": [
      "Avg Val Loss: 0.5809, Avg Val Acc: 0.9169 (Best)\n",
      "Current learning rate: [1.52587890625e-08, 1.52587890625e-08]\n",
      "Patience: 0/20\n"
     ]
    },
    {
     "name": "stderr",
     "output_type": "stream",
     "text": [
      "Epoch 412/500 (Training): 100%|██████████| 100/100 [00:13<00:00,  7.55it/s, loss=0.0098, acc=1.0000]\n"
     ]
    },
    {
     "name": "stdout",
     "output_type": "stream",
     "text": [
      "Avg Train Loss: 0.0933, Avg Train Acc: 0.9813 (Best)\n"
     ]
    },
    {
     "name": "stderr",
     "output_type": "stream",
     "text": [
      "Epoch 412/500 (Validation): 100%|██████████| 100/100 [00:09<00:00, 10.36it/s, loss=0.2875, acc=0.9467]\n"
     ]
    },
    {
     "name": "stdout",
     "output_type": "stream",
     "text": [
      "Avg Val Loss: 0.5809, Avg Val Acc: 0.9169 (Best)\n",
      "Current learning rate: [1.52587890625e-08, 1.52587890625e-08]\n",
      "Patience: 0/20\n"
     ]
    },
    {
     "name": "stderr",
     "output_type": "stream",
     "text": [
      "Epoch 413/500 (Training): 100%|██████████| 100/100 [00:13<00:00,  7.41it/s, loss=0.0028, acc=1.0000]\n"
     ]
    },
    {
     "name": "stdout",
     "output_type": "stream",
     "text": [
      "Avg Train Loss: 0.0931, Avg Train Acc: 0.9813 (Best)\n"
     ]
    },
    {
     "name": "stderr",
     "output_type": "stream",
     "text": [
      "Epoch 413/500 (Validation): 100%|██████████| 100/100 [00:09<00:00, 11.04it/s, loss=0.7618, acc=0.9200]\n"
     ]
    },
    {
     "name": "stdout",
     "output_type": "stream",
     "text": [
      "Avg Val Loss: 0.5810, Avg Val Acc: 0.9169 (Best)\n",
      "Current learning rate: [1.52587890625e-08, 1.52587890625e-08]\n",
      "Patience: 0/20\n"
     ]
    },
    {
     "name": "stderr",
     "output_type": "stream",
     "text": [
      "Epoch 414/500 (Training): 100%|██████████| 100/100 [00:13<00:00,  7.59it/s, loss=0.0152, acc=1.0000]\n"
     ]
    },
    {
     "name": "stdout",
     "output_type": "stream",
     "text": [
      "Avg Train Loss: 0.0930, Avg Train Acc: 0.9813 (Best)\n"
     ]
    },
    {
     "name": "stderr",
     "output_type": "stream",
     "text": [
      "Epoch 414/500 (Validation): 100%|██████████| 100/100 [00:09<00:00, 10.97it/s, loss=1.0072, acc=0.9067]\n"
     ]
    },
    {
     "name": "stdout",
     "output_type": "stream",
     "text": [
      "Avg Val Loss: 0.5811, Avg Val Acc: 0.9169 (Best: 0.9169)\n",
      "Current learning rate: [1.52587890625e-08, 1.52587890625e-08]\n",
      "Patience: 1/20\n"
     ]
    },
    {
     "name": "stderr",
     "output_type": "stream",
     "text": [
      "Epoch 415/500 (Training): 100%|██████████| 100/100 [00:12<00:00,  7.80it/s, loss=0.0013, acc=1.0000]\n"
     ]
    },
    {
     "name": "stdout",
     "output_type": "stream",
     "text": [
      "Avg Train Loss: 0.0928, Avg Train Acc: 0.9814 (Best)\n"
     ]
    },
    {
     "name": "stderr",
     "output_type": "stream",
     "text": [
      "Epoch 415/500 (Validation): 100%|██████████| 100/100 [00:09<00:00, 10.55it/s, loss=0.0932, acc=0.9867]\n"
     ]
    },
    {
     "name": "stdout",
     "output_type": "stream",
     "text": [
      "Avg Val Loss: 0.5812, Avg Val Acc: 0.9169 (Best)\n",
      "Current learning rate: [1.52587890625e-08, 1.52587890625e-08]\n",
      "Patience: 0/20\n"
     ]
    },
    {
     "name": "stderr",
     "output_type": "stream",
     "text": [
      "Epoch 416/500 (Training): 100%|██████████| 100/100 [00:12<00:00,  7.85it/s, loss=0.0024, acc=1.0000]\n"
     ]
    },
    {
     "name": "stdout",
     "output_type": "stream",
     "text": [
      "Avg Train Loss: 0.0927, Avg Train Acc: 0.9814 (Best)\n"
     ]
    },
    {
     "name": "stderr",
     "output_type": "stream",
     "text": [
      "Epoch 416/500 (Validation): 100%|██████████| 100/100 [00:08<00:00, 11.15it/s, loss=0.3202, acc=0.9200]\n"
     ]
    },
    {
     "name": "stdout",
     "output_type": "stream",
     "text": [
      "Avg Val Loss: 0.5810, Avg Val Acc: 0.9169 (Best)\n",
      "Current learning rate: [1.52587890625e-08, 1.52587890625e-08]\n",
      "Patience: 0/20\n"
     ]
    },
    {
     "name": "stderr",
     "output_type": "stream",
     "text": [
      "Epoch 417/500 (Training): 100%|██████████| 100/100 [00:12<00:00,  7.94it/s, loss=0.0004, acc=1.0000]\n"
     ]
    },
    {
     "name": "stdout",
     "output_type": "stream",
     "text": [
      "Avg Train Loss: 0.0925, Avg Train Acc: 0.9814 (Best)\n"
     ]
    },
    {
     "name": "stderr",
     "output_type": "stream",
     "text": [
      "Epoch 417/500 (Validation): 100%|██████████| 100/100 [00:09<00:00, 10.82it/s, loss=0.3953, acc=0.9200]\n"
     ]
    },
    {
     "name": "stdout",
     "output_type": "stream",
     "text": [
      "Avg Val Loss: 0.5816, Avg Val Acc: 0.9169 (Best: 0.9169)\n",
      "Current learning rate: [1.52587890625e-08, 1.52587890625e-08]\n",
      "Patience: 1/20\n"
     ]
    },
    {
     "name": "stderr",
     "output_type": "stream",
     "text": [
      "Epoch 418/500 (Training): 100%|██████████| 100/100 [00:13<00:00,  7.48it/s, loss=0.0002, acc=1.0000]\n"
     ]
    },
    {
     "name": "stdout",
     "output_type": "stream",
     "text": [
      "Avg Train Loss: 0.0924, Avg Train Acc: 0.9814 (Best)\n"
     ]
    },
    {
     "name": "stderr",
     "output_type": "stream",
     "text": [
      "Epoch 418/500 (Validation): 100%|██████████| 100/100 [00:09<00:00, 10.94it/s, loss=2.0196, acc=0.9067]\n"
     ]
    },
    {
     "name": "stdout",
     "output_type": "stream",
     "text": [
      "Avg Val Loss: 0.5819, Avg Val Acc: 0.9169 (Best)\n",
      "Current learning rate: [1.52587890625e-08, 1.52587890625e-08]\n",
      "Patience: 0/20\n"
     ]
    },
    {
     "name": "stderr",
     "output_type": "stream",
     "text": [
      "Epoch 419/500 (Training): 100%|██████████| 100/100 [00:11<00:00,  8.71it/s, loss=0.0012, acc=1.0000]\n"
     ]
    },
    {
     "name": "stdout",
     "output_type": "stream",
     "text": [
      "Avg Train Loss: 0.0922, Avg Train Acc: 0.9815 (Best)\n"
     ]
    },
    {
     "name": "stderr",
     "output_type": "stream",
     "text": [
      "Epoch 419/500 (Validation): 100%|██████████| 100/100 [00:08<00:00, 11.11it/s, loss=0.8166, acc=0.9067]\n"
     ]
    },
    {
     "name": "stdout",
     "output_type": "stream",
     "text": [
      "Avg Val Loss: 0.5819, Avg Val Acc: 0.9169 (Best: 0.9169)\n",
      "Current learning rate: [1.52587890625e-08, 1.52587890625e-08]\n",
      "Patience: 1/20\n"
     ]
    },
    {
     "name": "stderr",
     "output_type": "stream",
     "text": [
      "Epoch 420/500 (Training): 100%|██████████| 100/100 [00:13<00:00,  7.42it/s, loss=0.0153, acc=1.0000]\n"
     ]
    },
    {
     "name": "stdout",
     "output_type": "stream",
     "text": [
      "Avg Train Loss: 0.0921, Avg Train Acc: 0.9815 (Best)\n"
     ]
    },
    {
     "name": "stderr",
     "output_type": "stream",
     "text": [
      "Epoch 420/500 (Validation): 100%|██████████| 100/100 [00:09<00:00, 11.06it/s, loss=0.1776, acc=0.9600]\n"
     ]
    },
    {
     "name": "stdout",
     "output_type": "stream",
     "text": [
      "Avg Val Loss: 0.5817, Avg Val Acc: 0.9170 (Best)\n",
      "Current learning rate: [1.52587890625e-08, 1.52587890625e-08]\n",
      "Patience: 0/20\n"
     ]
    },
    {
     "name": "stderr",
     "output_type": "stream",
     "text": [
      "Epoch 421/500 (Training): 100%|██████████| 100/100 [00:12<00:00,  7.91it/s, loss=0.0001, acc=1.0000]\n"
     ]
    },
    {
     "name": "stdout",
     "output_type": "stream",
     "text": [
      "Avg Train Loss: 0.0919, Avg Train Acc: 0.9815 (Best)\n"
     ]
    },
    {
     "name": "stderr",
     "output_type": "stream",
     "text": [
      "Epoch 421/500 (Validation): 100%|██████████| 100/100 [00:09<00:00, 10.81it/s, loss=2.1213, acc=0.9200]\n"
     ]
    },
    {
     "name": "stdout",
     "output_type": "stream",
     "text": [
      "Avg Val Loss: 0.5821, Avg Val Acc: 0.9170 (Best)\n",
      "Current learning rate: [1.52587890625e-08, 1.52587890625e-08]\n",
      "Patience: 0/20\n"
     ]
    },
    {
     "name": "stderr",
     "output_type": "stream",
     "text": [
      "Epoch 422/500 (Training): 100%|██████████| 100/100 [00:12<00:00,  7.93it/s, loss=0.0395, acc=0.9867]\n"
     ]
    },
    {
     "name": "stdout",
     "output_type": "stream",
     "text": [
      "Avg Train Loss: 0.0918, Avg Train Acc: 0.9815 (Best)\n"
     ]
    },
    {
     "name": "stderr",
     "output_type": "stream",
     "text": [
      "Epoch 422/500 (Validation): 100%|██████████| 100/100 [00:09<00:00, 10.58it/s, loss=0.7394, acc=0.8533]\n"
     ]
    },
    {
     "name": "stdout",
     "output_type": "stream",
     "text": [
      "Avg Val Loss: 0.5827, Avg Val Acc: 0.9170 (Best)\n",
      "Current learning rate: [1.52587890625e-08, 1.52587890625e-08]\n",
      "Patience: 0/20\n"
     ]
    },
    {
     "name": "stderr",
     "output_type": "stream",
     "text": [
      "Epoch 423/500 (Training): 100%|██████████| 100/100 [00:13<00:00,  7.31it/s, loss=0.0002, acc=1.0000]\n"
     ]
    },
    {
     "name": "stdout",
     "output_type": "stream",
     "text": [
      "Avg Train Loss: 0.0916, Avg Train Acc: 0.9816 (Best)\n"
     ]
    },
    {
     "name": "stderr",
     "output_type": "stream",
     "text": [
      "Epoch 423/500 (Validation): 100%|██████████| 100/100 [00:09<00:00, 10.81it/s, loss=1.0438, acc=0.8400]\n"
     ]
    },
    {
     "name": "stdout",
     "output_type": "stream",
     "text": [
      "Avg Val Loss: 0.5829, Avg Val Acc: 0.9170 (Best)\n",
      "Current learning rate: [1.52587890625e-08, 1.52587890625e-08]\n",
      "Patience: 0/20\n"
     ]
    },
    {
     "name": "stderr",
     "output_type": "stream",
     "text": [
      "Epoch 424/500 (Training): 100%|██████████| 100/100 [00:12<00:00,  7.83it/s, loss=0.0693, acc=0.9733]\n"
     ]
    },
    {
     "name": "stdout",
     "output_type": "stream",
     "text": [
      "Avg Train Loss: 0.0914, Avg Train Acc: 0.9816 (Best)\n"
     ]
    },
    {
     "name": "stderr",
     "output_type": "stream",
     "text": [
      "Epoch 424/500 (Validation): 100%|██████████| 100/100 [00:09<00:00, 10.25it/s, loss=0.9464, acc=0.9333]\n"
     ]
    },
    {
     "name": "stdout",
     "output_type": "stream",
     "text": [
      "Avg Val Loss: 0.5827, Avg Val Acc: 0.9170 (Best)\n",
      "Current learning rate: [1.52587890625e-08, 1.52587890625e-08]\n",
      "Patience: 0/20\n"
     ]
    },
    {
     "name": "stderr",
     "output_type": "stream",
     "text": [
      "Epoch 425/500 (Training): 100%|██████████| 100/100 [00:12<00:00,  7.95it/s, loss=0.0003, acc=1.0000]\n"
     ]
    },
    {
     "name": "stdout",
     "output_type": "stream",
     "text": [
      "Avg Train Loss: 0.0913, Avg Train Acc: 0.9816 (Best)\n"
     ]
    },
    {
     "name": "stderr",
     "output_type": "stream",
     "text": [
      "Epoch 425/500 (Validation): 100%|██████████| 100/100 [00:09<00:00, 10.73it/s, loss=0.3109, acc=0.9733]\n"
     ]
    },
    {
     "name": "stdout",
     "output_type": "stream",
     "text": [
      "Avg Val Loss: 0.5828, Avg Val Acc: 0.9170 (Best)\n",
      "Current learning rate: [1.52587890625e-08, 1.52587890625e-08]\n",
      "Patience: 0/20\n"
     ]
    },
    {
     "name": "stderr",
     "output_type": "stream",
     "text": [
      "Epoch 426/500 (Training): 100%|██████████| 100/100 [00:11<00:00,  8.92it/s, loss=0.0006, acc=1.0000]\n"
     ]
    },
    {
     "name": "stdout",
     "output_type": "stream",
     "text": [
      "Avg Train Loss: 0.0911, Avg Train Acc: 0.9816 (Best)\n"
     ]
    },
    {
     "name": "stderr",
     "output_type": "stream",
     "text": [
      "Epoch 426/500 (Validation): 100%|██████████| 100/100 [00:09<00:00, 10.48it/s, loss=0.7047, acc=0.8533]\n"
     ]
    },
    {
     "name": "stdout",
     "output_type": "stream",
     "text": [
      "Avg Val Loss: 0.5829, Avg Val Acc: 0.9170 (Best: 0.9170)\n",
      "Current learning rate: [1.52587890625e-08, 1.52587890625e-08]\n",
      "Patience: 1/20\n"
     ]
    },
    {
     "name": "stderr",
     "output_type": "stream",
     "text": [
      "Epoch 427/500 (Training): 100%|██████████| 100/100 [00:12<00:00,  7.89it/s, loss=0.0244, acc=1.0000]\n"
     ]
    },
    {
     "name": "stdout",
     "output_type": "stream",
     "text": [
      "Avg Train Loss: 0.0910, Avg Train Acc: 0.9817 (Best)\n"
     ]
    },
    {
     "name": "stderr",
     "output_type": "stream",
     "text": [
      "Epoch 427/500 (Validation): 100%|██████████| 100/100 [00:09<00:00, 10.79it/s, loss=0.5371, acc=0.9333]\n"
     ]
    },
    {
     "name": "stdout",
     "output_type": "stream",
     "text": [
      "Avg Val Loss: 0.5829, Avg Val Acc: 0.9170 (Best: 0.9170)\n",
      "Current learning rate: [1.52587890625e-08, 1.52587890625e-08]\n",
      "Patience: 2/20\n"
     ]
    },
    {
     "name": "stderr",
     "output_type": "stream",
     "text": [
      "Epoch 428/500 (Training): 100%|██████████| 100/100 [00:12<00:00,  7.78it/s, loss=0.0042, acc=1.0000]\n"
     ]
    },
    {
     "name": "stdout",
     "output_type": "stream",
     "text": [
      "Avg Train Loss: 0.0908, Avg Train Acc: 0.9817 (Best)\n"
     ]
    },
    {
     "name": "stderr",
     "output_type": "stream",
     "text": [
      "Epoch 428/500 (Validation): 100%|██████████| 100/100 [00:09<00:00, 10.59it/s, loss=0.2678, acc=0.9467]\n"
     ]
    },
    {
     "name": "stdout",
     "output_type": "stream",
     "text": [
      "Avg Val Loss: 0.5829, Avg Val Acc: 0.9171 (Best)\n",
      "Current learning rate: [1.52587890625e-08, 1.52587890625e-08]\n",
      "Patience: 0/20\n"
     ]
    },
    {
     "name": "stderr",
     "output_type": "stream",
     "text": [
      "Epoch 429/500 (Training): 100%|██████████| 100/100 [00:13<00:00,  7.69it/s, loss=0.0001, acc=1.0000]\n"
     ]
    },
    {
     "name": "stdout",
     "output_type": "stream",
     "text": [
      "Avg Train Loss: 0.0906, Avg Train Acc: 0.9817 (Best)\n"
     ]
    },
    {
     "name": "stderr",
     "output_type": "stream",
     "text": [
      "Epoch 429/500 (Validation): 100%|██████████| 100/100 [00:09<00:00, 10.55it/s, loss=0.4416, acc=0.9600]\n"
     ]
    },
    {
     "name": "stdout",
     "output_type": "stream",
     "text": [
      "Avg Val Loss: 0.5830, Avg Val Acc: 0.9171 (Best)\n",
      "Current learning rate: [1.52587890625e-08, 1.52587890625e-08]\n",
      "Patience: 0/20\n"
     ]
    },
    {
     "name": "stderr",
     "output_type": "stream",
     "text": [
      "Epoch 430/500 (Training): 100%|██████████| 100/100 [00:12<00:00,  7.98it/s, loss=0.0023, acc=1.0000]\n"
     ]
    },
    {
     "name": "stdout",
     "output_type": "stream",
     "text": [
      "Avg Train Loss: 0.0905, Avg Train Acc: 0.9817 (Best)\n"
     ]
    },
    {
     "name": "stderr",
     "output_type": "stream",
     "text": [
      "Epoch 430/500 (Validation): 100%|██████████| 100/100 [00:09<00:00, 10.84it/s, loss=1.0194, acc=0.8533]\n"
     ]
    },
    {
     "name": "stdout",
     "output_type": "stream",
     "text": [
      "Avg Val Loss: 0.5828, Avg Val Acc: 0.9171 (Best)\n",
      "Current learning rate: [1.52587890625e-08, 1.52587890625e-08]\n",
      "Patience: 0/20\n"
     ]
    },
    {
     "name": "stderr",
     "output_type": "stream",
     "text": [
      "Epoch 431/500 (Training): 100%|██████████| 100/100 [00:12<00:00,  7.88it/s, loss=0.0025, acc=1.0000]\n"
     ]
    },
    {
     "name": "stdout",
     "output_type": "stream",
     "text": [
      "Avg Train Loss: 0.0904, Avg Train Acc: 0.9818 (Best)\n"
     ]
    },
    {
     "name": "stderr",
     "output_type": "stream",
     "text": [
      "Epoch 431/500 (Validation): 100%|██████████| 100/100 [00:09<00:00, 10.92it/s, loss=1.3324, acc=0.8800]\n"
     ]
    },
    {
     "name": "stdout",
     "output_type": "stream",
     "text": [
      "Avg Val Loss: 0.5828, Avg Val Acc: 0.9171 (Best)\n",
      "Current learning rate: [1.52587890625e-08, 1.52587890625e-08]\n",
      "Patience: 0/20\n"
     ]
    },
    {
     "name": "stderr",
     "output_type": "stream",
     "text": [
      "Epoch 432/500 (Training): 100%|██████████| 100/100 [00:12<00:00,  8.09it/s, loss=0.0568, acc=1.0000]\n"
     ]
    },
    {
     "name": "stdout",
     "output_type": "stream",
     "text": [
      "Avg Train Loss: 0.0902, Avg Train Acc: 0.9818 (Best)\n"
     ]
    },
    {
     "name": "stderr",
     "output_type": "stream",
     "text": [
      "Epoch 432/500 (Validation): 100%|██████████| 100/100 [00:08<00:00, 11.18it/s, loss=1.1763, acc=0.9333]\n"
     ]
    },
    {
     "name": "stdout",
     "output_type": "stream",
     "text": [
      "Avg Val Loss: 0.5828, Avg Val Acc: 0.9171 (Best)\n",
      "Current learning rate: [1.52587890625e-08, 1.52587890625e-08]\n",
      "Patience: 0/20\n"
     ]
    },
    {
     "name": "stderr",
     "output_type": "stream",
     "text": [
      "Epoch 433/500 (Training): 100%|██████████| 100/100 [00:12<00:00,  7.78it/s, loss=0.0001, acc=1.0000]\n"
     ]
    },
    {
     "name": "stdout",
     "output_type": "stream",
     "text": [
      "Avg Train Loss: 0.0901, Avg Train Acc: 0.9818 (Best)\n"
     ]
    },
    {
     "name": "stderr",
     "output_type": "stream",
     "text": [
      "Epoch 433/500 (Validation): 100%|██████████| 100/100 [00:09<00:00, 10.63it/s, loss=0.1997, acc=0.9467]\n"
     ]
    },
    {
     "name": "stdout",
     "output_type": "stream",
     "text": [
      "Avg Val Loss: 0.5826, Avg Val Acc: 0.9171 (Best)\n",
      "Current learning rate: [1.52587890625e-08, 1.52587890625e-08]\n",
      "Patience: 0/20\n"
     ]
    },
    {
     "name": "stderr",
     "output_type": "stream",
     "text": [
      "Epoch 434/500 (Training): 100%|██████████| 100/100 [00:14<00:00,  7.12it/s, loss=0.0002, acc=1.0000]\n"
     ]
    },
    {
     "name": "stdout",
     "output_type": "stream",
     "text": [
      "Avg Train Loss: 0.0900, Avg Train Acc: 0.9818 (Best)\n"
     ]
    },
    {
     "name": "stderr",
     "output_type": "stream",
     "text": [
      "Epoch 434/500 (Validation): 100%|██████████| 100/100 [00:09<00:00, 11.06it/s, loss=0.7439, acc=0.8400]\n"
     ]
    },
    {
     "name": "stdout",
     "output_type": "stream",
     "text": [
      "Avg Val Loss: 0.5828, Avg Val Acc: 0.9172 (Best)\n",
      "Current learning rate: [1.52587890625e-08, 1.52587890625e-08]\n",
      "Patience: 0/20\n"
     ]
    },
    {
     "name": "stderr",
     "output_type": "stream",
     "text": [
      "Epoch 435/500 (Training): 100%|██████████| 100/100 [00:12<00:00,  8.09it/s, loss=0.0419, acc=0.9867]\n"
     ]
    },
    {
     "name": "stdout",
     "output_type": "stream",
     "text": [
      "Avg Train Loss: 0.0898, Avg Train Acc: 0.9819 (Best)\n"
     ]
    },
    {
     "name": "stderr",
     "output_type": "stream",
     "text": [
      "Epoch 435/500 (Validation): 100%|██████████| 100/100 [00:09<00:00, 10.82it/s, loss=0.2414, acc=0.9600]\n"
     ]
    },
    {
     "name": "stdout",
     "output_type": "stream",
     "text": [
      "Avg Val Loss: 0.5828, Avg Val Acc: 0.9172 (Best)\n",
      "Current learning rate: [1.52587890625e-08, 1.52587890625e-08]\n",
      "Patience: 0/20\n"
     ]
    },
    {
     "name": "stderr",
     "output_type": "stream",
     "text": [
      "Epoch 436/500 (Training): 100%|██████████| 100/100 [00:13<00:00,  7.69it/s, loss=0.0004, acc=1.0000]\n"
     ]
    },
    {
     "name": "stdout",
     "output_type": "stream",
     "text": [
      "Avg Train Loss: 0.0897, Avg Train Acc: 0.9819 (Best)\n"
     ]
    },
    {
     "name": "stderr",
     "output_type": "stream",
     "text": [
      "Epoch 436/500 (Validation): 100%|██████████| 100/100 [00:09<00:00, 10.89it/s, loss=0.5025, acc=0.9333]\n"
     ]
    },
    {
     "name": "stdout",
     "output_type": "stream",
     "text": [
      "Avg Val Loss: 0.5830, Avg Val Acc: 0.9172 (Best)\n",
      "Current learning rate: [1.52587890625e-08, 1.52587890625e-08]\n",
      "Patience: 0/20\n"
     ]
    },
    {
     "name": "stderr",
     "output_type": "stream",
     "text": [
      "Epoch 437/500 (Training): 100%|██████████| 100/100 [00:14<00:00,  7.09it/s, loss=0.0088, acc=1.0000]\n"
     ]
    },
    {
     "name": "stdout",
     "output_type": "stream",
     "text": [
      "Avg Train Loss: 0.0895, Avg Train Acc: 0.9819 (Best)\n"
     ]
    },
    {
     "name": "stderr",
     "output_type": "stream",
     "text": [
      "Epoch 437/500 (Validation): 100%|██████████| 100/100 [00:09<00:00, 10.73it/s, loss=0.5092, acc=0.9467]\n"
     ]
    },
    {
     "name": "stdout",
     "output_type": "stream",
     "text": [
      "Avg Val Loss: 0.5828, Avg Val Acc: 0.9172 (Best)\n",
      "Current learning rate: [1.52587890625e-08, 1.52587890625e-08]\n",
      "Patience: 0/20\n"
     ]
    },
    {
     "name": "stderr",
     "output_type": "stream",
     "text": [
      "Epoch 438/500 (Training): 100%|██████████| 100/100 [00:14<00:00,  6.87it/s, loss=0.0006, acc=1.0000]\n"
     ]
    },
    {
     "name": "stdout",
     "output_type": "stream",
     "text": [
      "Avg Train Loss: 0.0893, Avg Train Acc: 0.9819 (Best)\n"
     ]
    },
    {
     "name": "stderr",
     "output_type": "stream",
     "text": [
      "Epoch 438/500 (Validation): 100%|██████████| 100/100 [00:09<00:00, 10.46it/s, loss=0.4947, acc=0.9333]\n"
     ]
    },
    {
     "name": "stdout",
     "output_type": "stream",
     "text": [
      "Avg Val Loss: 0.5826, Avg Val Acc: 0.9172 (Best)\n",
      "Current learning rate: [1.52587890625e-08, 1.52587890625e-08]\n",
      "Patience: 0/20\n"
     ]
    },
    {
     "name": "stderr",
     "output_type": "stream",
     "text": [
      "Epoch 439/500 (Training): 100%|██████████| 100/100 [00:13<00:00,  7.20it/s, loss=0.0217, acc=0.9867]\n"
     ]
    },
    {
     "name": "stdout",
     "output_type": "stream",
     "text": [
      "Avg Train Loss: 0.0892, Avg Train Acc: 0.9820 (Best)\n"
     ]
    },
    {
     "name": "stderr",
     "output_type": "stream",
     "text": [
      "Epoch 439/500 (Validation): 100%|██████████| 100/100 [00:09<00:00, 10.66it/s, loss=0.6148, acc=0.9333]\n"
     ]
    },
    {
     "name": "stdout",
     "output_type": "stream",
     "text": [
      "Avg Val Loss: 0.5825, Avg Val Acc: 0.9173 (Best)\n",
      "Current learning rate: [1.52587890625e-08, 1.52587890625e-08]\n",
      "Patience: 0/20\n"
     ]
    },
    {
     "name": "stderr",
     "output_type": "stream",
     "text": [
      "Epoch 440/500 (Training): 100%|██████████| 100/100 [00:12<00:00,  8.19it/s, loss=0.0023, acc=1.0000]\n"
     ]
    },
    {
     "name": "stdout",
     "output_type": "stream",
     "text": [
      "Avg Train Loss: 0.0890, Avg Train Acc: 0.9820 (Best)\n"
     ]
    },
    {
     "name": "stderr",
     "output_type": "stream",
     "text": [
      "Epoch 440/500 (Validation): 100%|██████████| 100/100 [00:09<00:00, 10.66it/s, loss=0.4984, acc=0.9467]\n"
     ]
    },
    {
     "name": "stdout",
     "output_type": "stream",
     "text": [
      "Avg Val Loss: 0.5829, Avg Val Acc: 0.9173 (Best: 0.9173)\n",
      "Current learning rate: [1.52587890625e-08, 1.52587890625e-08]\n",
      "Patience: 1/20\n"
     ]
    },
    {
     "name": "stderr",
     "output_type": "stream",
     "text": [
      "Epoch 441/500 (Training): 100%|██████████| 100/100 [00:12<00:00,  8.30it/s, loss=0.0000, acc=1.0000]\n"
     ]
    },
    {
     "name": "stdout",
     "output_type": "stream",
     "text": [
      "Avg Train Loss: 0.0889, Avg Train Acc: 0.9820 (Best)\n"
     ]
    },
    {
     "name": "stderr",
     "output_type": "stream",
     "text": [
      "Epoch 441/500 (Validation): 100%|██████████| 100/100 [00:09<00:00, 10.50it/s, loss=0.7133, acc=0.9067]\n"
     ]
    },
    {
     "name": "stdout",
     "output_type": "stream",
     "text": [
      "Avg Val Loss: 0.5828, Avg Val Acc: 0.9173 (Best)\n",
      "Current learning rate: [1.52587890625e-08, 1.52587890625e-08]\n",
      "Patience: 0/20\n"
     ]
    },
    {
     "name": "stderr",
     "output_type": "stream",
     "text": [
      "Epoch 442/500 (Training): 100%|██████████| 100/100 [00:12<00:00,  8.18it/s, loss=0.0031, acc=1.0000]\n"
     ]
    },
    {
     "name": "stdout",
     "output_type": "stream",
     "text": [
      "Avg Train Loss: 0.0888, Avg Train Acc: 0.9820 (Best)\n"
     ]
    },
    {
     "name": "stderr",
     "output_type": "stream",
     "text": [
      "Epoch 442/500 (Validation): 100%|██████████| 100/100 [00:08<00:00, 11.33it/s, loss=0.3417, acc=0.9733]\n"
     ]
    },
    {
     "name": "stdout",
     "output_type": "stream",
     "text": [
      "Avg Val Loss: 0.5827, Avg Val Acc: 0.9173 (Best)\n",
      "Current learning rate: [1.52587890625e-08, 1.52587890625e-08]\n",
      "Patience: 0/20\n"
     ]
    },
    {
     "name": "stderr",
     "output_type": "stream",
     "text": [
      "Epoch 443/500 (Training): 100%|██████████| 100/100 [00:12<00:00,  8.15it/s, loss=0.2304, acc=0.9733]\n"
     ]
    },
    {
     "name": "stdout",
     "output_type": "stream",
     "text": [
      "Avg Train Loss: 0.0887, Avg Train Acc: 0.9820 (Best)\n"
     ]
    },
    {
     "name": "stderr",
     "output_type": "stream",
     "text": [
      "Epoch 443/500 (Validation): 100%|██████████| 100/100 [00:08<00:00, 11.22it/s, loss=0.7454, acc=0.9067]\n"
     ]
    },
    {
     "name": "stdout",
     "output_type": "stream",
     "text": [
      "Avg Val Loss: 0.5825, Avg Val Acc: 0.9173 (Best)\n",
      "Current learning rate: [1.52587890625e-08, 1.52587890625e-08]\n",
      "Patience: 0/20\n"
     ]
    },
    {
     "name": "stderr",
     "output_type": "stream",
     "text": [
      "Epoch 444/500 (Training): 100%|██████████| 100/100 [00:12<00:00,  7.78it/s, loss=0.0141, acc=0.9867]\n"
     ]
    },
    {
     "name": "stdout",
     "output_type": "stream",
     "text": [
      "Avg Train Loss: 0.0885, Avg Train Acc: 0.9821 (Best)\n"
     ]
    },
    {
     "name": "stderr",
     "output_type": "stream",
     "text": [
      "Epoch 444/500 (Validation): 100%|██████████| 100/100 [00:09<00:00, 10.46it/s, loss=1.5276, acc=0.8533]\n"
     ]
    },
    {
     "name": "stdout",
     "output_type": "stream",
     "text": [
      "Avg Val Loss: 0.5825, Avg Val Acc: 0.9173 (Best)\n",
      "Current learning rate: [1.52587890625e-08, 1.52587890625e-08]\n",
      "Patience: 0/20\n"
     ]
    },
    {
     "name": "stderr",
     "output_type": "stream",
     "text": [
      "Epoch 445/500 (Training): 100%|██████████| 100/100 [00:12<00:00,  8.29it/s, loss=0.0132, acc=0.9867]\n"
     ]
    },
    {
     "name": "stdout",
     "output_type": "stream",
     "text": [
      "Avg Train Loss: 0.0884, Avg Train Acc: 0.9821 (Best)\n"
     ]
    },
    {
     "name": "stderr",
     "output_type": "stream",
     "text": [
      "Epoch 445/500 (Validation): 100%|██████████| 100/100 [00:09<00:00, 10.28it/s, loss=0.2563, acc=0.8667]\n"
     ]
    },
    {
     "name": "stdout",
     "output_type": "stream",
     "text": [
      "Avg Val Loss: 0.5825, Avg Val Acc: 0.9174 (Best)\n",
      "Current learning rate: [1.52587890625e-08, 1.52587890625e-08]\n",
      "Patience: 0/20\n"
     ]
    },
    {
     "name": "stderr",
     "output_type": "stream",
     "text": [
      "Epoch 446/500 (Training): 100%|██████████| 100/100 [00:12<00:00,  8.21it/s, loss=0.0457, acc=0.9733]\n"
     ]
    },
    {
     "name": "stdout",
     "output_type": "stream",
     "text": [
      "Avg Train Loss: 0.0883, Avg Train Acc: 0.9821 (Best)\n"
     ]
    },
    {
     "name": "stderr",
     "output_type": "stream",
     "text": [
      "Epoch 446/500 (Validation): 100%|██████████| 100/100 [00:09<00:00, 10.19it/s, loss=1.3900, acc=0.9333]\n"
     ]
    },
    {
     "name": "stdout",
     "output_type": "stream",
     "text": [
      "Avg Val Loss: 0.5826, Avg Val Acc: 0.9174 (Best)\n",
      "Current learning rate: [1.52587890625e-08, 1.52587890625e-08]\n",
      "Patience: 0/20\n"
     ]
    },
    {
     "name": "stderr",
     "output_type": "stream",
     "text": [
      "Epoch 447/500 (Training): 100%|██████████| 100/100 [00:13<00:00,  7.52it/s, loss=0.0006, acc=1.0000]\n"
     ]
    },
    {
     "name": "stdout",
     "output_type": "stream",
     "text": [
      "Avg Train Loss: 0.0881, Avg Train Acc: 0.9821 (Best)\n"
     ]
    },
    {
     "name": "stderr",
     "output_type": "stream",
     "text": [
      "Epoch 447/500 (Validation): 100%|██████████| 100/100 [00:09<00:00, 10.49it/s, loss=0.3630, acc=0.9600]\n"
     ]
    },
    {
     "name": "stdout",
     "output_type": "stream",
     "text": [
      "Avg Val Loss: 0.5830, Avg Val Acc: 0.9174 (Best: 0.9174)\n",
      "Current learning rate: [1.52587890625e-08, 1.52587890625e-08]\n",
      "Patience: 1/20\n"
     ]
    },
    {
     "name": "stderr",
     "output_type": "stream",
     "text": [
      "Epoch 448/500 (Training): 100%|██████████| 100/100 [00:12<00:00,  8.27it/s, loss=0.0052, acc=1.0000]\n"
     ]
    },
    {
     "name": "stdout",
     "output_type": "stream",
     "text": [
      "Avg Train Loss: 0.0880, Avg Train Acc: 0.9821 (Best)\n"
     ]
    },
    {
     "name": "stderr",
     "output_type": "stream",
     "text": [
      "Epoch 448/500 (Validation): 100%|██████████| 100/100 [00:08<00:00, 11.79it/s, loss=0.3245, acc=0.9467]\n"
     ]
    },
    {
     "name": "stdout",
     "output_type": "stream",
     "text": [
      "Avg Val Loss: 0.5830, Avg Val Acc: 0.9174 (Best)\n",
      "Current learning rate: [1.52587890625e-08, 1.52587890625e-08]\n",
      "Patience: 0/20\n"
     ]
    },
    {
     "name": "stderr",
     "output_type": "stream",
     "text": [
      "Epoch 449/500 (Training): 100%|██████████| 100/100 [00:12<00:00,  8.28it/s, loss=0.0148, acc=1.0000]\n"
     ]
    },
    {
     "name": "stdout",
     "output_type": "stream",
     "text": [
      "Avg Train Loss: 0.0878, Avg Train Acc: 0.9821 (Best)\n"
     ]
    },
    {
     "name": "stderr",
     "output_type": "stream",
     "text": [
      "Epoch 449/500 (Validation): 100%|██████████| 100/100 [00:09<00:00, 11.03it/s, loss=0.2835, acc=0.9200]\n"
     ]
    },
    {
     "name": "stdout",
     "output_type": "stream",
     "text": [
      "Avg Val Loss: 0.5829, Avg Val Acc: 0.9174 (Best)\n",
      "Current learning rate: [1.52587890625e-08, 1.52587890625e-08]\n",
      "Patience: 0/20\n"
     ]
    },
    {
     "name": "stderr",
     "output_type": "stream",
     "text": [
      "Epoch 450/500 (Training): 100%|██████████| 100/100 [00:11<00:00,  8.42it/s, loss=0.0002, acc=1.0000]\n"
     ]
    },
    {
     "name": "stdout",
     "output_type": "stream",
     "text": [
      "Avg Train Loss: 0.0877, Avg Train Acc: 0.9822 (Best)\n"
     ]
    },
    {
     "name": "stderr",
     "output_type": "stream",
     "text": [
      "Epoch 450/500 (Validation): 100%|██████████| 100/100 [00:09<00:00, 10.91it/s, loss=1.6463, acc=0.9067]\n"
     ]
    },
    {
     "name": "stdout",
     "output_type": "stream",
     "text": [
      "Avg Val Loss: 0.5830, Avg Val Acc: 0.9174 (Best)\n",
      "Current learning rate: [1.52587890625e-08, 1.52587890625e-08]\n",
      "Patience: 0/20\n"
     ]
    },
    {
     "name": "stderr",
     "output_type": "stream",
     "text": [
      "Epoch 451/500 (Training): 100%|██████████| 100/100 [00:12<00:00,  8.10it/s, loss=0.0001, acc=1.0000]\n"
     ]
    },
    {
     "name": "stdout",
     "output_type": "stream",
     "text": [
      "Avg Train Loss: 0.0875, Avg Train Acc: 0.9822 (Best)\n"
     ]
    },
    {
     "name": "stderr",
     "output_type": "stream",
     "text": [
      "Epoch 451/500 (Validation): 100%|██████████| 100/100 [00:09<00:00, 10.92it/s, loss=0.5632, acc=0.9200]\n"
     ]
    },
    {
     "name": "stdout",
     "output_type": "stream",
     "text": [
      "Avg Val Loss: 0.5832, Avg Val Acc: 0.9174 (Best)\n",
      "Current learning rate: [1.52587890625e-08, 1.52587890625e-08]\n",
      "Patience: 0/20\n"
     ]
    },
    {
     "name": "stderr",
     "output_type": "stream",
     "text": [
      "Epoch 452/500 (Training): 100%|██████████| 100/100 [00:12<00:00,  7.98it/s, loss=0.0029, acc=1.0000]\n"
     ]
    },
    {
     "name": "stdout",
     "output_type": "stream",
     "text": [
      "Avg Train Loss: 0.0874, Avg Train Acc: 0.9822 (Best)\n"
     ]
    },
    {
     "name": "stderr",
     "output_type": "stream",
     "text": [
      "Epoch 452/500 (Validation): 100%|██████████| 100/100 [00:09<00:00, 10.60it/s, loss=0.6205, acc=0.8667]\n"
     ]
    },
    {
     "name": "stdout",
     "output_type": "stream",
     "text": [
      "Avg Val Loss: 0.5834, Avg Val Acc: 0.9174 (Best: 0.9174)\n",
      "Current learning rate: [1.52587890625e-08, 1.52587890625e-08]\n",
      "Patience: 1/20\n"
     ]
    },
    {
     "name": "stderr",
     "output_type": "stream",
     "text": [
      "Epoch 453/500 (Training): 100%|██████████| 100/100 [00:12<00:00,  8.15it/s, loss=0.0002, acc=1.0000]\n"
     ]
    },
    {
     "name": "stdout",
     "output_type": "stream",
     "text": [
      "Avg Train Loss: 0.0873, Avg Train Acc: 0.9822 (Best)\n"
     ]
    },
    {
     "name": "stderr",
     "output_type": "stream",
     "text": [
      "Epoch 453/500 (Validation): 100%|██████████| 100/100 [00:09<00:00, 10.79it/s, loss=1.5324, acc=0.9200]\n"
     ]
    },
    {
     "name": "stdout",
     "output_type": "stream",
     "text": [
      "Avg Val Loss: 0.5836, Avg Val Acc: 0.9174 (Best)\n",
      "Current learning rate: [1.52587890625e-08, 1.52587890625e-08]\n",
      "Patience: 0/20\n"
     ]
    },
    {
     "name": "stderr",
     "output_type": "stream",
     "text": [
      "Epoch 454/500 (Training): 100%|██████████| 100/100 [00:14<00:00,  7.11it/s, loss=0.0140, acc=1.0000]\n"
     ]
    },
    {
     "name": "stdout",
     "output_type": "stream",
     "text": [
      "Avg Train Loss: 0.0872, Avg Train Acc: 0.9823 (Best)\n"
     ]
    },
    {
     "name": "stderr",
     "output_type": "stream",
     "text": [
      "Epoch 454/500 (Validation): 100%|██████████| 100/100 [00:09<00:00, 10.72it/s, loss=1.2473, acc=0.8267]\n"
     ]
    },
    {
     "name": "stdout",
     "output_type": "stream",
     "text": [
      "Avg Val Loss: 0.5836, Avg Val Acc: 0.9174 (Best)\n",
      "Current learning rate: [1.52587890625e-08, 1.52587890625e-08]\n",
      "Patience: 0/20\n"
     ]
    },
    {
     "name": "stderr",
     "output_type": "stream",
     "text": [
      "Epoch 455/500 (Training): 100%|██████████| 100/100 [00:12<00:00,  7.75it/s, loss=0.0012, acc=1.0000]\n"
     ]
    },
    {
     "name": "stdout",
     "output_type": "stream",
     "text": [
      "Avg Train Loss: 0.0871, Avg Train Acc: 0.9823 (Best)\n"
     ]
    },
    {
     "name": "stderr",
     "output_type": "stream",
     "text": [
      "Epoch 455/500 (Validation): 100%|██████████| 100/100 [00:09<00:00, 11.00it/s, loss=0.9772, acc=0.9467]\n"
     ]
    },
    {
     "name": "stdout",
     "output_type": "stream",
     "text": [
      "Avg Val Loss: 0.5838, Avg Val Acc: 0.9174 (Best: 0.9174)\n",
      "Current learning rate: [1.52587890625e-08, 1.52587890625e-08]\n",
      "Patience: 1/20\n"
     ]
    },
    {
     "name": "stderr",
     "output_type": "stream",
     "text": [
      "Epoch 456/500 (Training): 100%|██████████| 100/100 [00:12<00:00,  7.87it/s, loss=0.0021, acc=1.0000]\n"
     ]
    },
    {
     "name": "stdout",
     "output_type": "stream",
     "text": [
      "Avg Train Loss: 0.0870, Avg Train Acc: 0.9823 (Best)\n"
     ]
    },
    {
     "name": "stderr",
     "output_type": "stream",
     "text": [
      "Epoch 456/500 (Validation): 100%|██████████| 100/100 [00:08<00:00, 11.34it/s, loss=0.2814, acc=0.9600]\n"
     ]
    },
    {
     "name": "stdout",
     "output_type": "stream",
     "text": [
      "Avg Val Loss: 0.5841, Avg Val Acc: 0.9174 (Best: 0.9174)\n",
      "Current learning rate: [1.52587890625e-08, 1.52587890625e-08]\n",
      "Patience: 2/20\n"
     ]
    },
    {
     "name": "stderr",
     "output_type": "stream",
     "text": [
      "Epoch 457/500 (Training): 100%|██████████| 100/100 [00:13<00:00,  7.69it/s, loss=0.0134, acc=1.0000]\n"
     ]
    },
    {
     "name": "stdout",
     "output_type": "stream",
     "text": [
      "Avg Train Loss: 0.0868, Avg Train Acc: 0.9823 (Best)\n"
     ]
    },
    {
     "name": "stderr",
     "output_type": "stream",
     "text": [
      "Epoch 457/500 (Validation): 100%|██████████| 100/100 [00:08<00:00, 11.55it/s, loss=0.3739, acc=0.9600]\n"
     ]
    },
    {
     "name": "stdout",
     "output_type": "stream",
     "text": [
      "Avg Val Loss: 0.5839, Avg Val Acc: 0.9174 (Best: 0.9174)\n",
      "Current learning rate: [1.52587890625e-08, 1.52587890625e-08]\n",
      "Patience: 3/20\n"
     ]
    },
    {
     "name": "stderr",
     "output_type": "stream",
     "text": [
      "Epoch 458/500 (Training): 100%|██████████| 100/100 [00:13<00:00,  7.67it/s, loss=0.0005, acc=1.0000]\n"
     ]
    },
    {
     "name": "stdout",
     "output_type": "stream",
     "text": [
      "Avg Train Loss: 0.0867, Avg Train Acc: 0.9823 (Best)\n"
     ]
    },
    {
     "name": "stderr",
     "output_type": "stream",
     "text": [
      "Epoch 458/500 (Validation): 100%|██████████| 100/100 [00:09<00:00, 10.77it/s, loss=0.9477, acc=0.9200]\n"
     ]
    },
    {
     "name": "stdout",
     "output_type": "stream",
     "text": [
      "Avg Val Loss: 0.5841, Avg Val Acc: 0.9175 (Best)\n",
      "Current learning rate: [1.52587890625e-08, 1.52587890625e-08]\n",
      "Patience: 0/20\n"
     ]
    },
    {
     "name": "stderr",
     "output_type": "stream",
     "text": [
      "Epoch 459/500 (Training): 100%|██████████| 100/100 [00:12<00:00,  7.86it/s, loss=0.0123, acc=1.0000]\n"
     ]
    },
    {
     "name": "stdout",
     "output_type": "stream",
     "text": [
      "Avg Train Loss: 0.0865, Avg Train Acc: 0.9824 (Best)\n"
     ]
    },
    {
     "name": "stderr",
     "output_type": "stream",
     "text": [
      "Epoch 459/500 (Validation): 100%|██████████| 100/100 [00:09<00:00, 10.93it/s, loss=0.0270, acc=1.0000]\n"
     ]
    },
    {
     "name": "stdout",
     "output_type": "stream",
     "text": [
      "Avg Val Loss: 0.5844, Avg Val Acc: 0.9174 (Best: 0.9175)\n",
      "Current learning rate: [1.52587890625e-08, 1.52587890625e-08]\n",
      "Patience: 1/20\n"
     ]
    },
    {
     "name": "stderr",
     "output_type": "stream",
     "text": [
      "Epoch 460/500 (Training): 100%|██████████| 100/100 [00:12<00:00,  7.79it/s, loss=0.0018, acc=1.0000]\n"
     ]
    },
    {
     "name": "stdout",
     "output_type": "stream",
     "text": [
      "Avg Train Loss: 0.0864, Avg Train Acc: 0.9824 (Best)\n"
     ]
    },
    {
     "name": "stderr",
     "output_type": "stream",
     "text": [
      "Epoch 460/500 (Validation): 100%|██████████| 100/100 [00:09<00:00, 11.07it/s, loss=0.6367, acc=0.9333]\n"
     ]
    },
    {
     "name": "stdout",
     "output_type": "stream",
     "text": [
      "Avg Val Loss: 0.5846, Avg Val Acc: 0.9174 (Best: 0.9175)\n",
      "Current learning rate: [1.52587890625e-08, 1.52587890625e-08]\n",
      "Patience: 2/20\n"
     ]
    },
    {
     "name": "stderr",
     "output_type": "stream",
     "text": [
      "Epoch 461/500 (Training): 100%|██████████| 100/100 [00:12<00:00,  7.87it/s, loss=0.0001, acc=1.0000]\n"
     ]
    },
    {
     "name": "stdout",
     "output_type": "stream",
     "text": [
      "Avg Train Loss: 0.0862, Avg Train Acc: 0.9824 (Best)\n"
     ]
    },
    {
     "name": "stderr",
     "output_type": "stream",
     "text": [
      "Epoch 461/500 (Validation): 100%|██████████| 100/100 [00:09<00:00, 10.68it/s, loss=0.4704, acc=0.8800]\n"
     ]
    },
    {
     "name": "stdout",
     "output_type": "stream",
     "text": [
      "Avg Val Loss: 0.5851, Avg Val Acc: 0.9175 (Best)\n",
      "Current learning rate: [1.52587890625e-08, 1.52587890625e-08]\n",
      "Patience: 0/20\n"
     ]
    },
    {
     "name": "stderr",
     "output_type": "stream",
     "text": [
      "Epoch 462/500 (Training): 100%|██████████| 100/100 [00:14<00:00,  7.01it/s, loss=0.0009, acc=1.0000]\n"
     ]
    },
    {
     "name": "stdout",
     "output_type": "stream",
     "text": [
      "Avg Train Loss: 0.0861, Avg Train Acc: 0.9824 (Best)\n"
     ]
    },
    {
     "name": "stderr",
     "output_type": "stream",
     "text": [
      "Epoch 462/500 (Validation): 100%|██████████| 100/100 [00:09<00:00, 10.15it/s, loss=0.6705, acc=0.9200]\n"
     ]
    },
    {
     "name": "stdout",
     "output_type": "stream",
     "text": [
      "Avg Val Loss: 0.5853, Avg Val Acc: 0.9175 (Best)\n",
      "Current learning rate: [1.52587890625e-08, 1.52587890625e-08]\n",
      "Patience: 0/20\n"
     ]
    },
    {
     "name": "stderr",
     "output_type": "stream",
     "text": [
      "Epoch 463/500 (Training): 100%|██████████| 100/100 [00:12<00:00,  7.73it/s, loss=0.0010, acc=1.0000]\n"
     ]
    },
    {
     "name": "stdout",
     "output_type": "stream",
     "text": [
      "Avg Train Loss: 0.0860, Avg Train Acc: 0.9824 (Best)\n"
     ]
    },
    {
     "name": "stderr",
     "output_type": "stream",
     "text": [
      "Epoch 463/500 (Validation): 100%|██████████| 100/100 [00:08<00:00, 11.20it/s, loss=0.5345, acc=0.9600]\n"
     ]
    },
    {
     "name": "stdout",
     "output_type": "stream",
     "text": [
      "Avg Val Loss: 0.5853, Avg Val Acc: 0.9175 (Best)\n",
      "Current learning rate: [1.52587890625e-08, 1.52587890625e-08]\n",
      "Patience: 0/20\n"
     ]
    },
    {
     "name": "stderr",
     "output_type": "stream",
     "text": [
      "Epoch 464/500 (Training): 100%|██████████| 100/100 [00:12<00:00,  7.85it/s, loss=0.0014, acc=1.0000]\n"
     ]
    },
    {
     "name": "stdout",
     "output_type": "stream",
     "text": [
      "Avg Train Loss: 0.0859, Avg Train Acc: 0.9825 (Best)\n"
     ]
    },
    {
     "name": "stderr",
     "output_type": "stream",
     "text": [
      "Epoch 464/500 (Validation): 100%|██████████| 100/100 [00:09<00:00, 10.88it/s, loss=0.7088, acc=0.9333]\n"
     ]
    },
    {
     "name": "stdout",
     "output_type": "stream",
     "text": [
      "Avg Val Loss: 0.5853, Avg Val Acc: 0.9175 (Best)\n",
      "Current learning rate: [1.52587890625e-08, 1.52587890625e-08]\n",
      "Patience: 0/20\n"
     ]
    },
    {
     "name": "stderr",
     "output_type": "stream",
     "text": [
      "Epoch 465/500 (Training): 100%|██████████| 100/100 [00:13<00:00,  7.66it/s, loss=0.0113, acc=1.0000]\n"
     ]
    },
    {
     "name": "stdout",
     "output_type": "stream",
     "text": [
      "Avg Train Loss: 0.0857, Avg Train Acc: 0.9825 (Best)\n"
     ]
    },
    {
     "name": "stderr",
     "output_type": "stream",
     "text": [
      "Epoch 465/500 (Validation): 100%|██████████| 100/100 [00:08<00:00, 11.45it/s, loss=0.1999, acc=0.9200]\n"
     ]
    },
    {
     "name": "stdout",
     "output_type": "stream",
     "text": [
      "Avg Val Loss: 0.5853, Avg Val Acc: 0.9175 (Best)\n",
      "Current learning rate: [1.52587890625e-08, 1.52587890625e-08]\n",
      "Patience: 0/20\n"
     ]
    },
    {
     "name": "stderr",
     "output_type": "stream",
     "text": [
      "Epoch 466/500 (Training): 100%|██████████| 100/100 [00:13<00:00,  7.39it/s, loss=0.2048, acc=0.9467]\n"
     ]
    },
    {
     "name": "stdout",
     "output_type": "stream",
     "text": [
      "Avg Train Loss: 0.0856, Avg Train Acc: 0.9825 (Best)\n"
     ]
    },
    {
     "name": "stderr",
     "output_type": "stream",
     "text": [
      "Epoch 466/500 (Validation): 100%|██████████| 100/100 [00:09<00:00, 10.45it/s, loss=0.6922, acc=0.9467]\n"
     ]
    },
    {
     "name": "stdout",
     "output_type": "stream",
     "text": [
      "Avg Val Loss: 0.5852, Avg Val Acc: 0.9175 (Best)\n",
      "Current learning rate: [1.52587890625e-08, 1.52587890625e-08]\n",
      "Patience: 0/20\n"
     ]
    },
    {
     "name": "stderr",
     "output_type": "stream",
     "text": [
      "Epoch 467/500 (Training): 100%|██████████| 100/100 [00:13<00:00,  7.55it/s, loss=0.0009, acc=1.0000]\n"
     ]
    },
    {
     "name": "stdout",
     "output_type": "stream",
     "text": [
      "Avg Train Loss: 0.0855, Avg Train Acc: 0.9825 (Best)\n"
     ]
    },
    {
     "name": "stderr",
     "output_type": "stream",
     "text": [
      "Epoch 467/500 (Validation): 100%|██████████| 100/100 [00:09<00:00, 10.66it/s, loss=0.1540, acc=0.9600]\n"
     ]
    },
    {
     "name": "stdout",
     "output_type": "stream",
     "text": [
      "Avg Val Loss: 0.5850, Avg Val Acc: 0.9175 (Best)\n",
      "Current learning rate: [1.52587890625e-08, 1.52587890625e-08]\n",
      "Patience: 0/20\n"
     ]
    },
    {
     "name": "stderr",
     "output_type": "stream",
     "text": [
      "Epoch 468/500 (Training): 100%|██████████| 100/100 [00:13<00:00,  7.51it/s, loss=0.1966, acc=0.9600]\n"
     ]
    },
    {
     "name": "stdout",
     "output_type": "stream",
     "text": [
      "Avg Train Loss: 0.0854, Avg Train Acc: 0.9825 (Best)\n"
     ]
    },
    {
     "name": "stderr",
     "output_type": "stream",
     "text": [
      "Epoch 468/500 (Validation): 100%|██████████| 100/100 [00:09<00:00, 10.86it/s, loss=0.2675, acc=0.9600]\n"
     ]
    },
    {
     "name": "stdout",
     "output_type": "stream",
     "text": [
      "Avg Val Loss: 0.5853, Avg Val Acc: 0.9176 (Best)\n",
      "Current learning rate: [1.52587890625e-08, 1.52587890625e-08]\n",
      "Patience: 0/20\n"
     ]
    },
    {
     "name": "stderr",
     "output_type": "stream",
     "text": [
      "Epoch 469/500 (Training): 100%|██████████| 100/100 [00:12<00:00,  7.70it/s, loss=0.0100, acc=1.0000]\n"
     ]
    },
    {
     "name": "stdout",
     "output_type": "stream",
     "text": [
      "Avg Train Loss: 0.0852, Avg Train Acc: 0.9826 (Best)\n"
     ]
    },
    {
     "name": "stderr",
     "output_type": "stream",
     "text": [
      "Epoch 469/500 (Validation): 100%|██████████| 100/100 [00:09<00:00, 11.01it/s, loss=0.3606, acc=0.9333]\n"
     ]
    },
    {
     "name": "stdout",
     "output_type": "stream",
     "text": [
      "Avg Val Loss: 0.5853, Avg Val Acc: 0.9176 (Best)\n",
      "Current learning rate: [1.52587890625e-08, 1.52587890625e-08]\n",
      "Patience: 0/20\n"
     ]
    },
    {
     "name": "stderr",
     "output_type": "stream",
     "text": [
      "Epoch 470/500 (Training): 100%|██████████| 100/100 [00:12<00:00,  8.31it/s, loss=0.0003, acc=1.0000]\n"
     ]
    },
    {
     "name": "stdout",
     "output_type": "stream",
     "text": [
      "Avg Train Loss: 0.0851, Avg Train Acc: 0.9826 (Best)\n"
     ]
    },
    {
     "name": "stderr",
     "output_type": "stream",
     "text": [
      "Epoch 470/500 (Validation): 100%|██████████| 100/100 [00:09<00:00, 10.93it/s, loss=0.7697, acc=0.9200]\n"
     ]
    },
    {
     "name": "stdout",
     "output_type": "stream",
     "text": [
      "Avg Val Loss: 0.5852, Avg Val Acc: 0.9176 (Best)\n",
      "Current learning rate: [1.52587890625e-08, 1.52587890625e-08]\n",
      "Patience: 0/20\n"
     ]
    },
    {
     "name": "stderr",
     "output_type": "stream",
     "text": [
      "Epoch 471/500 (Training): 100%|██████████| 100/100 [00:14<00:00,  6.92it/s, loss=0.0001, acc=1.0000]\n"
     ]
    },
    {
     "name": "stdout",
     "output_type": "stream",
     "text": [
      "Avg Train Loss: 0.0850, Avg Train Acc: 0.9826 (Best)\n"
     ]
    },
    {
     "name": "stderr",
     "output_type": "stream",
     "text": [
      "Epoch 471/500 (Validation): 100%|██████████| 100/100 [00:08<00:00, 11.64it/s, loss=0.2310, acc=0.9600]\n"
     ]
    },
    {
     "name": "stdout",
     "output_type": "stream",
     "text": [
      "Avg Val Loss: 0.5854, Avg Val Acc: 0.9176 (Best)\n",
      "Current learning rate: [1.52587890625e-08, 1.52587890625e-08]\n",
      "Patience: 0/20\n"
     ]
    },
    {
     "name": "stderr",
     "output_type": "stream",
     "text": [
      "Epoch 472/500 (Training): 100%|██████████| 100/100 [00:12<00:00,  7.70it/s, loss=0.0142, acc=1.0000]\n"
     ]
    },
    {
     "name": "stdout",
     "output_type": "stream",
     "text": [
      "Avg Train Loss: 0.0848, Avg Train Acc: 0.9826 (Best)\n"
     ]
    },
    {
     "name": "stderr",
     "output_type": "stream",
     "text": [
      "Epoch 472/500 (Validation): 100%|██████████| 100/100 [00:09<00:00, 10.66it/s, loss=0.3247, acc=0.9333]\n"
     ]
    },
    {
     "name": "stdout",
     "output_type": "stream",
     "text": [
      "Avg Val Loss: 0.5852, Avg Val Acc: 0.9176 (Best: 0.9176)\n",
      "Current learning rate: [1.52587890625e-08, 1.52587890625e-08]\n",
      "Patience: 1/20\n"
     ]
    },
    {
     "name": "stderr",
     "output_type": "stream",
     "text": [
      "Epoch 473/500 (Training): 100%|██████████| 100/100 [00:12<00:00,  7.84it/s, loss=0.0000, acc=1.0000]\n"
     ]
    },
    {
     "name": "stdout",
     "output_type": "stream",
     "text": [
      "Avg Train Loss: 0.0847, Avg Train Acc: 0.9826 (Best)\n"
     ]
    },
    {
     "name": "stderr",
     "output_type": "stream",
     "text": [
      "Epoch 473/500 (Validation): 100%|██████████| 100/100 [00:09<00:00, 10.95it/s, loss=0.7424, acc=0.9200]\n"
     ]
    },
    {
     "name": "stdout",
     "output_type": "stream",
     "text": [
      "Avg Val Loss: 0.5851, Avg Val Acc: 0.9176 (Best)\n",
      "Current learning rate: [1.52587890625e-08, 1.52587890625e-08]\n",
      "Patience: 0/20\n"
     ]
    },
    {
     "name": "stderr",
     "output_type": "stream",
     "text": [
      "Epoch 474/500 (Training): 100%|██████████| 100/100 [00:13<00:00,  7.46it/s, loss=0.0000, acc=1.0000]\n"
     ]
    },
    {
     "name": "stdout",
     "output_type": "stream",
     "text": [
      "Avg Train Loss: 0.0846, Avg Train Acc: 0.9827 (Best)\n"
     ]
    },
    {
     "name": "stderr",
     "output_type": "stream",
     "text": [
      "Epoch 474/500 (Validation): 100%|██████████| 100/100 [00:08<00:00, 11.46it/s, loss=0.4506, acc=0.9200]\n"
     ]
    },
    {
     "name": "stdout",
     "output_type": "stream",
     "text": [
      "Avg Val Loss: 0.5852, Avg Val Acc: 0.9176 (Best)\n",
      "Current learning rate: [1.52587890625e-08, 1.52587890625e-08]\n",
      "Patience: 0/20\n"
     ]
    },
    {
     "name": "stderr",
     "output_type": "stream",
     "text": [
      "Epoch 475/500 (Training): 100%|██████████| 100/100 [00:12<00:00,  8.15it/s, loss=0.0000, acc=1.0000]\n"
     ]
    },
    {
     "name": "stdout",
     "output_type": "stream",
     "text": [
      "Avg Train Loss: 0.0845, Avg Train Acc: 0.9827 (Best)\n"
     ]
    },
    {
     "name": "stderr",
     "output_type": "stream",
     "text": [
      "Epoch 475/500 (Validation): 100%|██████████| 100/100 [00:09<00:00, 10.52it/s, loss=0.8765, acc=0.8667]\n"
     ]
    },
    {
     "name": "stdout",
     "output_type": "stream",
     "text": [
      "Avg Val Loss: 0.5853, Avg Val Acc: 0.9176 (Best)\n",
      "Current learning rate: [1.52587890625e-08, 1.52587890625e-08]\n",
      "Patience: 0/20\n"
     ]
    },
    {
     "name": "stderr",
     "output_type": "stream",
     "text": [
      "Epoch 476/500 (Training): 100%|██████████| 100/100 [00:13<00:00,  7.45it/s, loss=0.0042, acc=1.0000]\n"
     ]
    },
    {
     "name": "stdout",
     "output_type": "stream",
     "text": [
      "Avg Train Loss: 0.0844, Avg Train Acc: 0.9827 (Best)\n"
     ]
    },
    {
     "name": "stderr",
     "output_type": "stream",
     "text": [
      "Epoch 476/500 (Validation): 100%|██████████| 100/100 [00:09<00:00, 10.69it/s, loss=0.4028, acc=0.9467]\n"
     ]
    },
    {
     "name": "stdout",
     "output_type": "stream",
     "text": [
      "Avg Val Loss: 0.5853, Avg Val Acc: 0.9176 (Best)\n",
      "Current learning rate: [1.52587890625e-08, 1.52587890625e-08]\n",
      "Patience: 0/20\n"
     ]
    },
    {
     "name": "stderr",
     "output_type": "stream",
     "text": [
      "Epoch 477/500 (Training): 100%|██████████| 100/100 [00:12<00:00,  8.21it/s, loss=0.0148, acc=0.9867]\n"
     ]
    },
    {
     "name": "stdout",
     "output_type": "stream",
     "text": [
      "Avg Train Loss: 0.0843, Avg Train Acc: 0.9827 (Best)\n"
     ]
    },
    {
     "name": "stderr",
     "output_type": "stream",
     "text": [
      "Epoch 477/500 (Validation): 100%|██████████| 100/100 [00:08<00:00, 11.25it/s, loss=0.2301, acc=0.9600]\n"
     ]
    },
    {
     "name": "stdout",
     "output_type": "stream",
     "text": [
      "Avg Val Loss: 0.5851, Avg Val Acc: 0.9176 (Best: 0.9176)\n",
      "Current learning rate: [1.52587890625e-08, 1.52587890625e-08]\n",
      "Patience: 1/20\n"
     ]
    },
    {
     "name": "stderr",
     "output_type": "stream",
     "text": [
      "Epoch 478/500 (Training): 100%|██████████| 100/100 [00:14<00:00,  6.93it/s, loss=0.0022, acc=1.0000]\n"
     ]
    },
    {
     "name": "stdout",
     "output_type": "stream",
     "text": [
      "Avg Train Loss: 0.0842, Avg Train Acc: 0.9827 (Best)\n"
     ]
    },
    {
     "name": "stderr",
     "output_type": "stream",
     "text": [
      "Epoch 478/500 (Validation): 100%|██████████| 100/100 [00:09<00:00, 10.64it/s, loss=0.0022, acc=1.0000]\n"
     ]
    },
    {
     "name": "stdout",
     "output_type": "stream",
     "text": [
      "Avg Val Loss: 0.5851, Avg Val Acc: 0.9176 (Best)\n",
      "Current learning rate: [1.52587890625e-08, 1.52587890625e-08]\n",
      "Patience: 0/20\n"
     ]
    },
    {
     "name": "stderr",
     "output_type": "stream",
     "text": [
      "Epoch 479/500 (Training): 100%|██████████| 100/100 [00:13<00:00,  7.18it/s, loss=0.0000, acc=1.0000]\n"
     ]
    },
    {
     "name": "stdout",
     "output_type": "stream",
     "text": [
      "Avg Train Loss: 0.0841, Avg Train Acc: 0.9827 (Best)\n"
     ]
    },
    {
     "name": "stderr",
     "output_type": "stream",
     "text": [
      "Epoch 479/500 (Validation): 100%|██████████| 100/100 [00:09<00:00, 10.74it/s, loss=0.1686, acc=0.9467]\n"
     ]
    },
    {
     "name": "stdout",
     "output_type": "stream",
     "text": [
      "Avg Val Loss: 0.5855, Avg Val Acc: 0.9176 (Best: 0.9176)\n",
      "Current learning rate: [1.52587890625e-08, 1.52587890625e-08]\n",
      "Patience: 1/20\n"
     ]
    },
    {
     "name": "stderr",
     "output_type": "stream",
     "text": [
      "Epoch 480/500 (Training): 100%|██████████| 100/100 [00:13<00:00,  7.35it/s, loss=0.2394, acc=0.9333]\n"
     ]
    },
    {
     "name": "stdout",
     "output_type": "stream",
     "text": [
      "Avg Train Loss: 0.0840, Avg Train Acc: 0.9827 (Best)\n"
     ]
    },
    {
     "name": "stderr",
     "output_type": "stream",
     "text": [
      "Epoch 480/500 (Validation): 100%|██████████| 100/100 [00:09<00:00, 10.58it/s, loss=0.1091, acc=0.9733]\n"
     ]
    },
    {
     "name": "stdout",
     "output_type": "stream",
     "text": [
      "Avg Val Loss: 0.5862, Avg Val Acc: 0.9177 (Best)\n",
      "Current learning rate: [1.52587890625e-08, 1.52587890625e-08]\n",
      "Patience: 0/20\n"
     ]
    },
    {
     "name": "stderr",
     "output_type": "stream",
     "text": [
      "Epoch 481/500 (Training): 100%|██████████| 100/100 [00:12<00:00,  8.05it/s, loss=0.0120, acc=1.0000]\n"
     ]
    },
    {
     "name": "stdout",
     "output_type": "stream",
     "text": [
      "Avg Train Loss: 0.0839, Avg Train Acc: 0.9828 (Best)\n"
     ]
    },
    {
     "name": "stderr",
     "output_type": "stream",
     "text": [
      "Epoch 481/500 (Validation): 100%|██████████| 100/100 [00:08<00:00, 11.20it/s, loss=0.5603, acc=0.9200]\n"
     ]
    },
    {
     "name": "stdout",
     "output_type": "stream",
     "text": [
      "Avg Val Loss: 0.5862, Avg Val Acc: 0.9177 (Best)\n",
      "Current learning rate: [1.52587890625e-08, 1.52587890625e-08]\n",
      "Patience: 0/20\n"
     ]
    },
    {
     "name": "stderr",
     "output_type": "stream",
     "text": [
      "Epoch 482/500 (Training): 100%|██████████| 100/100 [00:12<00:00,  7.79it/s, loss=0.0003, acc=1.0000]\n"
     ]
    },
    {
     "name": "stdout",
     "output_type": "stream",
     "text": [
      "Avg Train Loss: 0.0837, Avg Train Acc: 0.9828 (Best)\n"
     ]
    },
    {
     "name": "stderr",
     "output_type": "stream",
     "text": [
      "Epoch 482/500 (Validation): 100%|██████████| 100/100 [00:09<00:00, 10.75it/s, loss=0.4992, acc=0.9333]\n"
     ]
    },
    {
     "name": "stdout",
     "output_type": "stream",
     "text": [
      "Avg Val Loss: 0.5860, Avg Val Acc: 0.9177 (Best)\n",
      "Current learning rate: [1.52587890625e-08, 1.52587890625e-08]\n",
      "Patience: 0/20\n"
     ]
    },
    {
     "name": "stderr",
     "output_type": "stream",
     "text": [
      "Epoch 483/500 (Training): 100%|██████████| 100/100 [00:13<00:00,  7.50it/s, loss=0.1169, acc=1.0000]\n"
     ]
    },
    {
     "name": "stdout",
     "output_type": "stream",
     "text": [
      "Avg Train Loss: 0.0836, Avg Train Acc: 0.9828 (Best)\n"
     ]
    },
    {
     "name": "stderr",
     "output_type": "stream",
     "text": [
      "Epoch 483/500 (Validation): 100%|██████████| 100/100 [00:09<00:00, 10.30it/s, loss=0.4070, acc=0.9600]\n"
     ]
    },
    {
     "name": "stdout",
     "output_type": "stream",
     "text": [
      "Avg Val Loss: 0.5858, Avg Val Acc: 0.9177 (Best)\n",
      "Current learning rate: [1.52587890625e-08, 1.52587890625e-08]\n",
      "Patience: 0/20\n"
     ]
    },
    {
     "name": "stderr",
     "output_type": "stream",
     "text": [
      "Epoch 484/500 (Training): 100%|██████████| 100/100 [00:11<00:00,  8.86it/s, loss=0.0196, acc=1.0000]\n"
     ]
    },
    {
     "name": "stdout",
     "output_type": "stream",
     "text": [
      "Avg Train Loss: 0.0835, Avg Train Acc: 0.9828 (Best)\n"
     ]
    },
    {
     "name": "stderr",
     "output_type": "stream",
     "text": [
      "Epoch 484/500 (Validation): 100%|██████████| 100/100 [00:09<00:00, 10.79it/s, loss=1.4354, acc=0.9600]\n"
     ]
    },
    {
     "name": "stdout",
     "output_type": "stream",
     "text": [
      "Avg Val Loss: 0.5859, Avg Val Acc: 0.9177 (Best)\n",
      "Current learning rate: [1.52587890625e-08, 1.52587890625e-08]\n",
      "Patience: 0/20\n"
     ]
    },
    {
     "name": "stderr",
     "output_type": "stream",
     "text": [
      "Epoch 485/500 (Training): 100%|██████████| 100/100 [00:12<00:00,  8.04it/s, loss=0.0304, acc=1.0000]\n"
     ]
    },
    {
     "name": "stdout",
     "output_type": "stream",
     "text": [
      "Avg Train Loss: 0.0834, Avg Train Acc: 0.9828 (Best)\n"
     ]
    },
    {
     "name": "stderr",
     "output_type": "stream",
     "text": [
      "Epoch 485/500 (Validation): 100%|██████████| 100/100 [00:09<00:00, 10.62it/s, loss=0.2379, acc=0.9600]\n"
     ]
    },
    {
     "name": "stdout",
     "output_type": "stream",
     "text": [
      "Avg Val Loss: 0.5857, Avg Val Acc: 0.9177 (Best)\n",
      "Current learning rate: [1.52587890625e-08, 1.52587890625e-08]\n",
      "Patience: 0/20\n"
     ]
    },
    {
     "name": "stderr",
     "output_type": "stream",
     "text": [
      "Epoch 486/500 (Training): 100%|██████████| 100/100 [00:13<00:00,  7.45it/s, loss=0.0126, acc=0.9867]\n"
     ]
    },
    {
     "name": "stdout",
     "output_type": "stream",
     "text": [
      "Avg Train Loss: 0.0832, Avg Train Acc: 0.9829 (Best)\n"
     ]
    },
    {
     "name": "stderr",
     "output_type": "stream",
     "text": [
      "Epoch 486/500 (Validation): 100%|██████████| 100/100 [00:09<00:00, 11.10it/s, loss=0.5316, acc=0.9333]\n"
     ]
    },
    {
     "name": "stdout",
     "output_type": "stream",
     "text": [
      "Avg Val Loss: 0.5856, Avg Val Acc: 0.9177 (Best)\n",
      "Current learning rate: [1.52587890625e-08, 1.52587890625e-08]\n",
      "Patience: 0/20\n"
     ]
    },
    {
     "name": "stderr",
     "output_type": "stream",
     "text": [
      "Epoch 487/500 (Training): 100%|██████████| 100/100 [00:12<00:00,  7.95it/s, loss=0.0053, acc=1.0000]\n"
     ]
    },
    {
     "name": "stdout",
     "output_type": "stream",
     "text": [
      "Avg Train Loss: 0.0831, Avg Train Acc: 0.9829 (Best)\n"
     ]
    },
    {
     "name": "stderr",
     "output_type": "stream",
     "text": [
      "Epoch 487/500 (Validation): 100%|██████████| 100/100 [00:09<00:00, 10.95it/s, loss=0.3932, acc=0.8933]\n"
     ]
    },
    {
     "name": "stdout",
     "output_type": "stream",
     "text": [
      "Avg Val Loss: 0.5854, Avg Val Acc: 0.9177 (Best: 0.9177)\n",
      "Current learning rate: [1.52587890625e-08, 1.52587890625e-08]\n",
      "Patience: 1/20\n"
     ]
    },
    {
     "name": "stderr",
     "output_type": "stream",
     "text": [
      "Epoch 488/500 (Training): 100%|██████████| 100/100 [00:12<00:00,  7.88it/s, loss=0.0000, acc=1.0000]\n"
     ]
    },
    {
     "name": "stdout",
     "output_type": "stream",
     "text": [
      "Avg Train Loss: 0.0830, Avg Train Acc: 0.9829 (Best)\n"
     ]
    },
    {
     "name": "stderr",
     "output_type": "stream",
     "text": [
      "Epoch 488/500 (Validation): 100%|██████████| 100/100 [00:09<00:00, 10.95it/s, loss=0.4193, acc=0.9333]\n"
     ]
    },
    {
     "name": "stdout",
     "output_type": "stream",
     "text": [
      "Avg Val Loss: 0.5853, Avg Val Acc: 0.9177 (Best)\n",
      "Current learning rate: [1.52587890625e-08, 1.52587890625e-08]\n",
      "Patience: 0/20\n"
     ]
    },
    {
     "name": "stderr",
     "output_type": "stream",
     "text": [
      "Epoch 489/500 (Training): 100%|██████████| 100/100 [00:12<00:00,  8.29it/s, loss=0.0019, acc=1.0000]\n"
     ]
    },
    {
     "name": "stdout",
     "output_type": "stream",
     "text": [
      "Avg Train Loss: 0.0829, Avg Train Acc: 0.9829 (Best)\n"
     ]
    },
    {
     "name": "stderr",
     "output_type": "stream",
     "text": [
      "Epoch 489/500 (Validation): 100%|██████████| 100/100 [00:08<00:00, 11.34it/s, loss=0.7534, acc=0.9200]\n"
     ]
    },
    {
     "name": "stdout",
     "output_type": "stream",
     "text": [
      "Avg Val Loss: 0.5854, Avg Val Acc: 0.9177 (Best)\n",
      "Current learning rate: [1.52587890625e-08, 1.52587890625e-08]\n",
      "Patience: 0/20\n"
     ]
    },
    {
     "name": "stderr",
     "output_type": "stream",
     "text": [
      "Epoch 490/500 (Training): 100%|██████████| 100/100 [00:12<00:00,  8.06it/s, loss=0.0003, acc=1.0000]\n"
     ]
    },
    {
     "name": "stdout",
     "output_type": "stream",
     "text": [
      "Avg Train Loss: 0.0828, Avg Train Acc: 0.9829 (Best)\n"
     ]
    },
    {
     "name": "stderr",
     "output_type": "stream",
     "text": [
      "Epoch 490/500 (Validation): 100%|██████████| 100/100 [00:09<00:00, 10.35it/s, loss=0.2368, acc=0.9333]\n"
     ]
    },
    {
     "name": "stdout",
     "output_type": "stream",
     "text": [
      "Avg Val Loss: 0.5854, Avg Val Acc: 0.9178 (Best)\n",
      "Current learning rate: [1.52587890625e-08, 1.52587890625e-08]\n",
      "Patience: 0/20\n"
     ]
    },
    {
     "name": "stderr",
     "output_type": "stream",
     "text": [
      "Epoch 491/500 (Training): 100%|██████████| 100/100 [00:12<00:00,  8.33it/s, loss=0.0125, acc=1.0000]\n"
     ]
    },
    {
     "name": "stdout",
     "output_type": "stream",
     "text": [
      "Avg Train Loss: 0.0826, Avg Train Acc: 0.9830 (Best)\n"
     ]
    },
    {
     "name": "stderr",
     "output_type": "stream",
     "text": [
      "Epoch 491/500 (Validation): 100%|██████████| 100/100 [00:09<00:00, 10.89it/s, loss=0.4532, acc=0.9067]\n"
     ]
    },
    {
     "name": "stdout",
     "output_type": "stream",
     "text": [
      "Avg Val Loss: 0.5854, Avg Val Acc: 0.9177 (Best: 0.9178)\n",
      "Current learning rate: [1.52587890625e-08, 1.52587890625e-08]\n",
      "Patience: 1/20\n"
     ]
    },
    {
     "name": "stderr",
     "output_type": "stream",
     "text": [
      "Epoch 492/500 (Training): 100%|██████████| 100/100 [00:11<00:00,  8.55it/s, loss=0.0001, acc=1.0000]\n"
     ]
    },
    {
     "name": "stdout",
     "output_type": "stream",
     "text": [
      "Avg Train Loss: 0.0825, Avg Train Acc: 0.9830 (Best)\n"
     ]
    },
    {
     "name": "stderr",
     "output_type": "stream",
     "text": [
      "Epoch 492/500 (Validation): 100%|██████████| 100/100 [00:09<00:00, 11.01it/s, loss=1.0733, acc=0.8800]\n"
     ]
    },
    {
     "name": "stdout",
     "output_type": "stream",
     "text": [
      "Avg Val Loss: 0.5858, Avg Val Acc: 0.9177 (Best: 0.9178)\n",
      "Current learning rate: [1.52587890625e-08, 1.52587890625e-08]\n",
      "Patience: 2/20\n"
     ]
    },
    {
     "name": "stderr",
     "output_type": "stream",
     "text": [
      "Epoch 493/500 (Training): 100%|██████████| 100/100 [00:12<00:00,  7.94it/s, loss=0.0033, acc=1.0000]\n"
     ]
    },
    {
     "name": "stdout",
     "output_type": "stream",
     "text": [
      "Avg Train Loss: 0.0824, Avg Train Acc: 0.9830 (Best)\n"
     ]
    },
    {
     "name": "stderr",
     "output_type": "stream",
     "text": [
      "Epoch 493/500 (Validation): 100%|██████████| 100/100 [00:09<00:00, 10.70it/s, loss=1.0799, acc=0.8267]\n"
     ]
    },
    {
     "name": "stdout",
     "output_type": "stream",
     "text": [
      "Avg Val Loss: 0.5856, Avg Val Acc: 0.9177 (Best: 0.9178)\n",
      "Current learning rate: [1.52587890625e-08, 1.52587890625e-08]\n",
      "Patience: 3/20\n"
     ]
    },
    {
     "name": "stderr",
     "output_type": "stream",
     "text": [
      "Epoch 494/500 (Training): 100%|██████████| 100/100 [00:11<00:00,  8.61it/s, loss=0.0003, acc=1.0000]\n"
     ]
    },
    {
     "name": "stdout",
     "output_type": "stream",
     "text": [
      "Avg Train Loss: 0.0823, Avg Train Acc: 0.9830 (Best)\n"
     ]
    },
    {
     "name": "stderr",
     "output_type": "stream",
     "text": [
      "Epoch 494/500 (Validation): 100%|██████████| 100/100 [00:09<00:00, 10.66it/s, loss=0.9174, acc=0.8267]\n"
     ]
    },
    {
     "name": "stdout",
     "output_type": "stream",
     "text": [
      "Avg Val Loss: 0.5855, Avg Val Acc: 0.9178 (Best)\n",
      "Current learning rate: [1.52587890625e-08, 1.52587890625e-08]\n",
      "Patience: 0/20\n"
     ]
    },
    {
     "name": "stderr",
     "output_type": "stream",
     "text": [
      "Epoch 495/500 (Training): 100%|██████████| 100/100 [00:12<00:00,  7.77it/s, loss=0.0347, acc=0.9867]\n"
     ]
    },
    {
     "name": "stdout",
     "output_type": "stream",
     "text": [
      "Avg Train Loss: 0.0822, Avg Train Acc: 0.9830 (Best)\n"
     ]
    },
    {
     "name": "stderr",
     "output_type": "stream",
     "text": [
      "Epoch 495/500 (Validation): 100%|██████████| 100/100 [00:09<00:00, 10.84it/s, loss=0.3120, acc=0.9733]\n"
     ]
    },
    {
     "name": "stdout",
     "output_type": "stream",
     "text": [
      "Avg Val Loss: 0.5856, Avg Val Acc: 0.9178 (Best)\n",
      "Current learning rate: [1.52587890625e-08, 1.52587890625e-08]\n",
      "Patience: 0/20\n"
     ]
    },
    {
     "name": "stderr",
     "output_type": "stream",
     "text": [
      "Epoch 496/500 (Training): 100%|██████████| 100/100 [00:13<00:00,  7.34it/s, loss=0.1581, acc=0.8933]\n"
     ]
    },
    {
     "name": "stdout",
     "output_type": "stream",
     "text": [
      "Avg Train Loss: 0.0821, Avg Train Acc: 0.9830 (Best)\n"
     ]
    },
    {
     "name": "stderr",
     "output_type": "stream",
     "text": [
      "Epoch 496/500 (Validation): 100%|██████████| 100/100 [00:09<00:00, 10.83it/s, loss=0.4737, acc=0.9467]\n"
     ]
    },
    {
     "name": "stdout",
     "output_type": "stream",
     "text": [
      "Avg Val Loss: 0.5859, Avg Val Acc: 0.9178 (Best)\n",
      "Current learning rate: [1.52587890625e-08, 1.52587890625e-08]\n",
      "Patience: 0/20\n"
     ]
    },
    {
     "name": "stderr",
     "output_type": "stream",
     "text": [
      "Epoch 497/500 (Training): 100%|██████████| 100/100 [00:13<00:00,  7.24it/s, loss=0.0005, acc=1.0000]\n"
     ]
    },
    {
     "name": "stdout",
     "output_type": "stream",
     "text": [
      "Avg Train Loss: 0.0820, Avg Train Acc: 0.9831 (Best)\n"
     ]
    },
    {
     "name": "stderr",
     "output_type": "stream",
     "text": [
      "Epoch 497/500 (Validation): 100%|██████████| 100/100 [00:09<00:00, 10.31it/s, loss=0.0472, acc=1.0000]\n"
     ]
    },
    {
     "name": "stdout",
     "output_type": "stream",
     "text": [
      "Avg Val Loss: 0.5859, Avg Val Acc: 0.9178 (Best)\n",
      "Current learning rate: [1.52587890625e-08, 1.52587890625e-08]\n",
      "Patience: 0/20\n"
     ]
    },
    {
     "name": "stderr",
     "output_type": "stream",
     "text": [
      "Epoch 498/500 (Training): 100%|██████████| 100/100 [00:12<00:00,  7.71it/s, loss=0.0127, acc=0.9867]\n"
     ]
    },
    {
     "name": "stdout",
     "output_type": "stream",
     "text": [
      "Avg Train Loss: 0.0819, Avg Train Acc: 0.9831 (Best)\n"
     ]
    },
    {
     "name": "stderr",
     "output_type": "stream",
     "text": [
      "Epoch 498/500 (Validation): 100%|██████████| 100/100 [00:09<00:00, 10.59it/s, loss=0.4831, acc=0.9200]\n"
     ]
    },
    {
     "name": "stdout",
     "output_type": "stream",
     "text": [
      "Avg Val Loss: 0.5859, Avg Val Acc: 0.9178 (Best)\n",
      "Current learning rate: [1.52587890625e-08, 1.52587890625e-08]\n",
      "Patience: 0/20\n"
     ]
    },
    {
     "name": "stderr",
     "output_type": "stream",
     "text": [
      "Epoch 499/500 (Training): 100%|██████████| 100/100 [00:12<00:00,  7.73it/s, loss=0.0002, acc=1.0000]\n"
     ]
    },
    {
     "name": "stdout",
     "output_type": "stream",
     "text": [
      "Avg Train Loss: 0.0818, Avg Train Acc: 0.9831 (Best)\n"
     ]
    },
    {
     "name": "stderr",
     "output_type": "stream",
     "text": [
      "Epoch 499/500 (Validation): 100%|██████████| 100/100 [00:09<00:00, 10.93it/s, loss=0.4071, acc=0.9600]\n"
     ]
    },
    {
     "name": "stdout",
     "output_type": "stream",
     "text": [
      "Avg Val Loss: 0.5860, Avg Val Acc: 0.9178 (Best)\n",
      "Current learning rate: [1.52587890625e-08, 1.52587890625e-08]\n",
      "Patience: 0/20\n"
     ]
    },
    {
     "name": "stderr",
     "output_type": "stream",
     "text": [
      "Epoch 500/500 (Training): 100%|██████████| 100/100 [00:12<00:00,  7.72it/s, loss=0.0004, acc=1.0000]\n"
     ]
    },
    {
     "name": "stdout",
     "output_type": "stream",
     "text": [
      "Avg Train Loss: 0.0816, Avg Train Acc: 0.9831 (Best)\n"
     ]
    },
    {
     "name": "stderr",
     "output_type": "stream",
     "text": [
      "Epoch 500/500 (Validation): 100%|██████████| 100/100 [00:09<00:00, 10.96it/s, loss=0.7154, acc=0.9333]\n"
     ]
    },
    {
     "name": "stdout",
     "output_type": "stream",
     "text": [
      "Avg Val Loss: 0.5860, Avg Val Acc: 0.9178 (Best)\n",
      "Current learning rate: [1.52587890625e-08, 1.52587890625e-08]\n",
      "Patience: 0/20\n",
      "Finish training\n",
      "Setting up the testing module...\n",
      "Loading data from /mnt/ssd2t/mandy/Projects/few_shot_fcg/embeddings/x86_64_withVal_withPretrain_ghidra_6/word2vec...\n",
      "Loading validation data...\n",
      "Loading data from /mnt/ssd2t/mandy/Projects/few_shot_fcg/embeddings/x86_64_withVal_withPretrain_ghidra_6/word2vec/valData.pkl...\n",
      "Loading testing data...\n",
      "Loading data from /mnt/ssd2t/mandy/Projects/few_shot_fcg/embeddings/x86_64_withVal_withPretrain_ghidra_6/word2vec/testData.pkl...\n"
     ]
    },
    {
     "ename": "ValueError",
     "evalue": "Loss method not supported",
     "output_type": "error",
     "traceback": [
      "\u001b[0;31m---------------------------------------------------------------------------\u001b[0m",
      "\u001b[0;31mValueError\u001b[0m                                Traceback (most recent call last)",
      "Cell \u001b[0;32mIn[4], line 27\u001b[0m\n\u001b[1;32m     24\u001b[0m trainModule \u001b[38;5;241m=\u001b[39m TrainModule(options, dataset)\n\u001b[1;32m     25\u001b[0m trainModule\u001b[38;5;241m.\u001b[39mtrain()\n\u001b[0;32m---> 27\u001b[0m test \u001b[38;5;241m=\u001b[39m \u001b[43mTestModule\u001b[49m\u001b[43m(\u001b[49m\u001b[43mos\u001b[49m\u001b[38;5;241;43m.\u001b[39;49m\u001b[43mpath\u001b[49m\u001b[38;5;241;43m.\u001b[39;49m\u001b[43mjoin\u001b[49m\u001b[43m(\u001b[49m\u001b[43mtrainModule\u001b[49m\u001b[38;5;241;43m.\u001b[39;49m\u001b[43mmodel_folder\u001b[49m\u001b[43m,\u001b[49m\u001b[43m \u001b[49m\u001b[38;5;124;43m\"\u001b[39;49m\u001b[38;5;124;43mconfig.json\u001b[39;49m\u001b[38;5;124;43m\"\u001b[39;49m\u001b[43m)\u001b[49m\u001b[43m,\u001b[49m\u001b[43m \u001b[49m\u001b[43mdataset\u001b[49m\u001b[43m,\u001b[49m\u001b[43m \u001b[49m\u001b[43moptions\u001b[49m\u001b[43m)\u001b[49m\n\u001b[1;32m     28\u001b[0m test\u001b[38;5;241m.\u001b[39meval()\n",
      "File \u001b[0;32m~/Projects/few_shot_fcg/trainModule.py:249\u001b[0m, in \u001b[0;36mTestModule.__init__\u001b[0;34m(self, configPath, dataset, opt)\u001b[0m\n\u001b[1;32m    246\u001b[0m \u001b[38;5;28mself\u001b[39m\u001b[38;5;241m.\u001b[39membeddingSize \u001b[38;5;241m=\u001b[39m opt[\u001b[38;5;124m\"\u001b[39m\u001b[38;5;124msettings\u001b[39m\u001b[38;5;124m\"\u001b[39m][\u001b[38;5;124m\"\u001b[39m\u001b[38;5;124mvectorize\u001b[39m\u001b[38;5;124m\"\u001b[39m][\u001b[38;5;124m\"\u001b[39m\u001b[38;5;124mnode_embedding_size\u001b[39m\u001b[38;5;124m\"\u001b[39m]\n\u001b[1;32m    248\u001b[0m \u001b[38;5;28mself\u001b[39m\u001b[38;5;241m.\u001b[39mpretrain_folder \u001b[38;5;241m=\u001b[39m opt[\u001b[38;5;124m\"\u001b[39m\u001b[38;5;124mpaths\u001b[39m\u001b[38;5;124m\"\u001b[39m][\u001b[38;5;124m\"\u001b[39m\u001b[38;5;124mmodel\u001b[39m\u001b[38;5;124m\"\u001b[39m][\u001b[38;5;124m\"\u001b[39m\u001b[38;5;124mpretrained_folder\u001b[39m\u001b[38;5;124m\"\u001b[39m]\n\u001b[0;32m--> 249\u001b[0m \u001b[38;5;28;43mself\u001b[39;49m\u001b[38;5;241;43m.\u001b[39;49m\u001b[43msetting\u001b[49m\u001b[43m(\u001b[49m\u001b[43m)\u001b[49m\n\u001b[1;32m    251\u001b[0m \u001b[38;5;28msuper\u001b[39m()\u001b[38;5;241m.\u001b[39m\u001b[38;5;21m__init__\u001b[39m(\n\u001b[1;32m    252\u001b[0m     device\u001b[38;5;241m=\u001b[39m\u001b[38;5;28mself\u001b[39m\u001b[38;5;241m.\u001b[39mdevice,\n\u001b[1;32m    253\u001b[0m     loss_fn\u001b[38;5;241m=\u001b[39m\u001b[38;5;28mself\u001b[39m\u001b[38;5;241m.\u001b[39mloss_fn,\n\u001b[1;32m    254\u001b[0m )\n",
      "File \u001b[0;32m~/Projects/few_shot_fcg/trainModule.py:285\u001b[0m, in \u001b[0;36mTestModule.setting\u001b[0;34m(self)\u001b[0m\n\u001b[1;32m    282\u001b[0m \u001b[38;5;28mself\u001b[39m\u001b[38;5;241m.\u001b[39mmodel \u001b[38;5;241m=\u001b[39m GraphSAGE(dim_in\u001b[38;5;241m=\u001b[39m\u001b[38;5;28mself\u001b[39m\u001b[38;5;241m.\u001b[39mopt[\u001b[38;5;124m\"\u001b[39m\u001b[38;5;124msettings\u001b[39m\u001b[38;5;124m\"\u001b[39m][\u001b[38;5;124m\"\u001b[39m\u001b[38;5;124mmodel\u001b[39m\u001b[38;5;124m\"\u001b[39m][\u001b[38;5;124m\"\u001b[39m\u001b[38;5;124minput_size\u001b[39m\u001b[38;5;124m\"\u001b[39m], dim_h\u001b[38;5;241m=\u001b[39m\u001b[38;5;28mself\u001b[39m\u001b[38;5;241m.\u001b[39mopt[\u001b[38;5;124m\"\u001b[39m\u001b[38;5;124msettings\u001b[39m\u001b[38;5;124m\"\u001b[39m][\u001b[38;5;124m\"\u001b[39m\u001b[38;5;124mmodel\u001b[39m\u001b[38;5;124m\"\u001b[39m][\u001b[38;5;124m\"\u001b[39m\u001b[38;5;124mhidden_size\u001b[39m\u001b[38;5;124m\"\u001b[39m], dim_out\u001b[38;5;241m=\u001b[39m\u001b[38;5;28mself\u001b[39m\u001b[38;5;241m.\u001b[39mopt[\u001b[38;5;124m\"\u001b[39m\u001b[38;5;124msettings\u001b[39m\u001b[38;5;124m\"\u001b[39m][\u001b[38;5;124m\"\u001b[39m\u001b[38;5;124mmodel\u001b[39m\u001b[38;5;124m\"\u001b[39m][\u001b[38;5;124m\"\u001b[39m\u001b[38;5;124moutput_size\u001b[39m\u001b[38;5;124m\"\u001b[39m], num_layers\u001b[38;5;241m=\u001b[39m\u001b[38;5;28mself\u001b[39m\u001b[38;5;241m.\u001b[39mopt[\u001b[38;5;124m\"\u001b[39m\u001b[38;5;124msettings\u001b[39m\u001b[38;5;124m\"\u001b[39m][\u001b[38;5;124m\"\u001b[39m\u001b[38;5;124mmodel\u001b[39m\u001b[38;5;124m\"\u001b[39m][\u001b[38;5;124m\"\u001b[39m\u001b[38;5;124mnum_layers\u001b[39m\u001b[38;5;124m\"\u001b[39m], projection \u001b[38;5;241m=\u001b[39m \u001b[38;5;28mself\u001b[39m\u001b[38;5;241m.\u001b[39mopt[\u001b[38;5;124m\"\u001b[39m\u001b[38;5;124msettings\u001b[39m\u001b[38;5;124m\"\u001b[39m][\u001b[38;5;124m\"\u001b[39m\u001b[38;5;124mmodel\u001b[39m\u001b[38;5;124m\"\u001b[39m][\u001b[38;5;124m\"\u001b[39m\u001b[38;5;124mprojection\u001b[39m\u001b[38;5;124m\"\u001b[39m])\n\u001b[1;32m    283\u001b[0m \u001b[38;5;28mself\u001b[39m\u001b[38;5;241m.\u001b[39mpretrainModel \u001b[38;5;241m=\u001b[39m GraphSAGE(dim_in\u001b[38;5;241m=\u001b[39m\u001b[38;5;28mself\u001b[39m\u001b[38;5;241m.\u001b[39mopt[\u001b[38;5;124m\"\u001b[39m\u001b[38;5;124msettings\u001b[39m\u001b[38;5;124m\"\u001b[39m][\u001b[38;5;124m\"\u001b[39m\u001b[38;5;124mmodel\u001b[39m\u001b[38;5;124m\"\u001b[39m][\u001b[38;5;124m\"\u001b[39m\u001b[38;5;124minput_size\u001b[39m\u001b[38;5;124m\"\u001b[39m], dim_h\u001b[38;5;241m=\u001b[39m\u001b[38;5;28mself\u001b[39m\u001b[38;5;241m.\u001b[39mopt[\u001b[38;5;124m\"\u001b[39m\u001b[38;5;124msettings\u001b[39m\u001b[38;5;124m\"\u001b[39m][\u001b[38;5;124m\"\u001b[39m\u001b[38;5;124mmodel\u001b[39m\u001b[38;5;124m\"\u001b[39m][\u001b[38;5;124m\"\u001b[39m\u001b[38;5;124mhidden_size\u001b[39m\u001b[38;5;124m\"\u001b[39m], dim_out\u001b[38;5;241m=\u001b[39m\u001b[38;5;28mself\u001b[39m\u001b[38;5;241m.\u001b[39mopt[\u001b[38;5;124m\"\u001b[39m\u001b[38;5;124msettings\u001b[39m\u001b[38;5;124m\"\u001b[39m][\u001b[38;5;124m\"\u001b[39m\u001b[38;5;124mmodel\u001b[39m\u001b[38;5;124m\"\u001b[39m][\u001b[38;5;124m\"\u001b[39m\u001b[38;5;124moutput_size\u001b[39m\u001b[38;5;124m\"\u001b[39m], num_layers\u001b[38;5;241m=\u001b[39m\u001b[38;5;28mself\u001b[39m\u001b[38;5;241m.\u001b[39mopt[\u001b[38;5;124m\"\u001b[39m\u001b[38;5;124msettings\u001b[39m\u001b[38;5;124m\"\u001b[39m][\u001b[38;5;124m\"\u001b[39m\u001b[38;5;124mmodel\u001b[39m\u001b[38;5;124m\"\u001b[39m][\u001b[38;5;124m\"\u001b[39m\u001b[38;5;124mnum_layers\u001b[39m\u001b[38;5;124m\"\u001b[39m], projection \u001b[38;5;241m=\u001b[39m \u001b[38;5;28mself\u001b[39m\u001b[38;5;241m.\u001b[39mopt[\u001b[38;5;124m\"\u001b[39m\u001b[38;5;124msettings\u001b[39m\u001b[38;5;124m\"\u001b[39m][\u001b[38;5;124m\"\u001b[39m\u001b[38;5;124mmodel\u001b[39m\u001b[38;5;124m\"\u001b[39m][\u001b[38;5;124m\"\u001b[39m\u001b[38;5;124mprojection\u001b[39m\u001b[38;5;124m\"\u001b[39m])\n\u001b[0;32m--> 285\u001b[0m \u001b[38;5;28;43mself\u001b[39;49m\u001b[38;5;241;43m.\u001b[39;49m\u001b[43mget_loss_fn\u001b[49m\u001b[43m(\u001b[49m\u001b[43m)\u001b[49m\n\u001b[1;32m    287\u001b[0m \u001b[38;5;28mprint\u001b[39m(\u001b[38;5;124m\"\u001b[39m\u001b[38;5;124mFinish setting up the testing module\u001b[39m\u001b[38;5;124m\"\u001b[39m)\n",
      "File \u001b[0;32m~/Projects/few_shot_fcg/trainModule.py:262\u001b[0m, in \u001b[0;36mTestModule.get_loss_fn\u001b[0;34m(self)\u001b[0m\n\u001b[1;32m    260\u001b[0m     loss_fn \u001b[38;5;241m=\u001b[39m NnLoss(\u001b[38;5;28mself\u001b[39m\u001b[38;5;241m.\u001b[39mopt)\n\u001b[1;32m    261\u001b[0m \u001b[38;5;28;01melse\u001b[39;00m:\n\u001b[0;32m--> 262\u001b[0m     \u001b[38;5;28;01mraise\u001b[39;00m \u001b[38;5;167;01mValueError\u001b[39;00m(\u001b[38;5;124m\"\u001b[39m\u001b[38;5;124mLoss method not supported\u001b[39m\u001b[38;5;124m\"\u001b[39m)\n\u001b[1;32m    263\u001b[0m \u001b[38;5;28mself\u001b[39m\u001b[38;5;241m.\u001b[39mloss_fn \u001b[38;5;241m=\u001b[39m loss_fn\n",
      "\u001b[0;31mValueError\u001b[0m: Loss method not supported"
     ]
    }
   ],
   "source": [
    "from loadDataset import LoadDataset\n",
    "from fcgVectorize import FCGVectorize\n",
    "from trainModule import TrainModule\n",
    "from trainModule import TestModule\n",
    "import os\n",
    "\n",
    "# test in seed 6\n",
    "for exp in expList:\n",
    "    options[\"settings\"][\"name\"] = exp+\"_SoftNnNet\"\n",
    "    shots = int(exp.split(\"_\")[1].split(\"shot\")[0])\n",
    "    way = int(exp.split(\"_\")[0].split(\"way\")[0])\n",
    "    options[\"settings\"][\"few_shot\"][\"train\"][\"support_shots\"] = shots\n",
    "    options[\"settings\"][\"few_shot\"][\"train\"][\"query_shots\"] = 20 - shots\n",
    "    options[\"settings\"][\"few_shot\"][\"test\"][\"support_shots\"] = shots\n",
    "    options[\"settings\"][\"few_shot\"][\"test\"][\"query_shots\"] = 20 - shots\n",
    "    options[\"settings\"][\"few_shot\"][\"train\"][\"class_per_iter\"] = way\n",
    "    options[\"settings\"][\"few_shot\"][\"test\"][\"class_per_iter\"] = way\n",
    "    save_config(options, \"./config/config.json\")\n",
    "\n",
    "\n",
    "    dataset = LoadDataset(options, pretrain=False)\n",
    "    vectorizer = FCGVectorize(options, dataset)\n",
    "    vectorizer.node_embedding(dataset.rawDataset)\n",
    "    trainModule = TrainModule(options, dataset)\n",
    "    trainModule.train()\n",
    "\n",
    "    test = TestModule(os.path.join(trainModule.model_folder, \"config.json\"), dataset, options)\n",
    "    test.eval()"
   ]
  },
  {
   "cell_type": "code",
   "execution_count": null,
   "metadata": {},
   "outputs": [],
   "source": []
  },
  {
   "cell_type": "code",
   "execution_count": null,
   "metadata": {},
   "outputs": [],
   "source": []
  }
 ],
 "metadata": {
  "kernelspec": {
   "display_name": "prototype",
   "language": "python",
   "name": "python3"
  },
  "language_info": {
   "codemirror_mode": {
    "name": "ipython",
    "version": 3
   },
   "file_extension": ".py",
   "mimetype": "text/x-python",
   "name": "python",
   "nbconvert_exporter": "python",
   "pygments_lexer": "ipython3",
   "version": "3.11.9"
  }
 },
 "nbformat": 4,
 "nbformat_minor": 2
}
