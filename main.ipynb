{
 "cells": [
  {
   "cell_type": "code",
   "execution_count": 6,
   "metadata": {},
   "outputs": [
    {
     "name": "stdout",
     "output_type": "stream",
     "text": [
      "The autoreload extension is already loaded. To reload it, use:\n",
      "  %reload_ext autoreload\n"
     ]
    }
   ],
   "source": [
    "%load_ext autoreload\n",
    "%autoreload 2 "
   ]
  },
  {
   "cell_type": "code",
   "execution_count": 7,
   "metadata": {},
   "outputs": [],
   "source": [
    "from utils import load_config\n",
    "options = load_config(\"./config/config.json\")"
   ]
  },
  {
   "cell_type": "code",
   "execution_count": 8,
   "metadata": {},
   "outputs": [
    {
     "name": "stdout",
     "output_type": "stream",
     "text": [
      "Loading all datasets...\n",
      "train dataset shape: (1180, 16)\n",
      "train dataset family number: 59\n",
      "test dataset shape: (200, 16)\n",
      "test dataset family number: 10\n",
      "val dataset shape: (200, 16)\n",
      "val dataset family number: 10\n"
     ]
    }
   ],
   "source": [
    "from loadDataset import LoadDataset\n",
    "dataset = LoadDataset(options, pretrain=False)"
   ]
  },
  {
   "cell_type": "code",
   "execution_count": 9,
   "metadata": {},
   "outputs": [
    {
     "name": "stdout",
     "output_type": "stream",
     "text": [
      "Training opcodeSet & Sentence not exist, start to get opcodeSet & Sentence...\n",
      "Start to get OpcodeSet & Sentence...\n"
     ]
    },
    {
     "name": "stderr",
     "output_type": "stream",
     "text": [
      "  0%|          | 0/1180 [00:00<?, ?it/s]"
     ]
    },
    {
     "name": "stderr",
     "output_type": "stream",
     "text": [
      "100%|██████████| 1180/1180 [00:48<00:00, 24.26it/s]\n"
     ]
    },
    {
     "name": "stdout",
     "output_type": "stream",
     "text": [
      "Save opcodeSet to ./embeddings/x86_64_withVal_withPretrain_ghidra_7/word2vec/opcodeSet.pkl\n",
      "Save sentence to ./embeddings/x86_64_withVal_withPretrain_ghidra_7/word2vec/opcodeSentences.pkl\n",
      "Finish getting opcodeSet & Sentence\n",
      "Number of opcodeSet:  492\n",
      "Training word2vec model...\n",
      "Finish training word2vec model, save word2vec model to ./embeddings/x86_64_withVal_withPretrain_ghidra_7/word2vec\n",
      "Start to get node embedding...\n"
     ]
    },
    {
     "name": "stderr",
     "output_type": "stream",
     "text": [
      "100%|██████████| 1580/1580 [05:38<00:00,  4.67it/s]"
     ]
    },
    {
     "name": "stdout",
     "output_type": "stream",
     "text": [
      "Finish getting node embedding\n"
     ]
    },
    {
     "name": "stderr",
     "output_type": "stream",
     "text": [
      "\n"
     ]
    }
   ],
   "source": [
    "from fcgVectorize import FCGVectorize\n",
    "\n",
    "vectorizer = FCGVectorize(options, dataset)\n",
    "# node embedding for raw data\n",
    "vectorizer.node_embedding(dataset.rawDataset)"
   ]
  },
  {
   "cell_type": "code",
   "execution_count": 7,
   "metadata": {},
   "outputs": [
    {
     "name": "stdout",
     "output_type": "stream",
     "text": [
      "Setting up the training module...\n",
      "Loading data from /mnt/ssd2t/mandy/Projects/few_shot_fcg/embeddings/x86_64_withVal_withPretrain_ghidra_42/word2vec...\n",
      "Loading training data...\n",
      "Loading data from /mnt/ssd2t/mandy/Projects/few_shot_fcg/embeddings/x86_64_withVal_withPretrain_ghidra_42/word2vec/trainData.pkl...\n",
      "Loading validation data...\n",
      "Loading data from /mnt/ssd2t/mandy/Projects/few_shot_fcg/embeddings/x86_64_withVal_withPretrain_ghidra_42/word2vec/valData.pkl...\n"
     ]
    },
    {
     "name": "stderr",
     "output_type": "stream",
     "text": [
      "/home/mandy/Projects/few_shot_fcg/trainModule.py:76: FutureWarning: You are using `torch.load` with `weights_only=False` (the current default value), which uses the default pickle module implicitly. It is possible to construct malicious pickle data which will execute arbitrary code during unpickling (See https://github.com/pytorch/pytorch/blob/main/SECURITY.md#untrusted-models for more details). In a future release, the default value for `weights_only` will be flipped to `True`. This limits the functions that could be executed during unpickling. Arbitrary objects will no longer be allowed to be loaded via this mode unless they are explicitly allowlisted by the user via `torch.serialization.add_safe_globals`. We recommend you start setting `weights_only=True` for any use case where you don't have full control of the loaded file. Please open an issue on GitHub for any issues related to this experimental feature.\n",
      "  checkpoint = torch.load(info[\"load_weights\"], map_location=self.device)\n"
     ]
    },
    {
     "name": "stdout",
     "output_type": "stream",
     "text": [
      "Model loaded from pretrained/x86_pretrained_20241121_1653/epoch_2060_best_backbone.pth\n",
      "Device: cuda:0\n",
      "Model: GraphSAGE(\n",
      "  (sage_convs): ModuleList(\n",
      "    (0-1): 2 x SAGEConv(128, 128, aggr=mean)\n",
      "  )\n",
      "  (norms): ModuleList(\n",
      "    (0-1): 2 x BatchNorm1d(128, eps=1e-05, momentum=0.1, affine=True, track_running_stats=True)\n",
      "  )\n",
      "  (output_proj): Sequential(\n",
      "    (0): Linear(in_features=128, out_features=128, bias=True)\n",
      "    (1): BatchNorm1d(128, eps=1e-05, momentum=0.1, affine=True, track_running_stats=True)\n",
      "    (2): ReLU()\n",
      "  )\n",
      ")\n",
      "Loss function: <loss.ProtoLoss object at 0x753d8c12cc10>\n",
      "Optimizer: AdamW (\n",
      "Parameter Group 0\n",
      "    amsgrad: False\n",
      "    betas: (0.9, 0.999)\n",
      "    capturable: False\n",
      "    differentiable: False\n",
      "    eps: 1e-08\n",
      "    foreach: None\n",
      "    fused: None\n",
      "    lr: 0.0001\n",
      "    maximize: False\n",
      "    weight_decay: 0.01\n",
      "\n",
      "Parameter Group 1\n",
      "    amsgrad: False\n",
      "    betas: (0.9, 0.999)\n",
      "    capturable: False\n",
      "    differentiable: False\n",
      "    eps: 1e-08\n",
      "    foreach: None\n",
      "    fused: None\n",
      "    lr: 0.0001\n",
      "    maximize: False\n",
      "    weight_decay: 0.01\n",
      ")\n",
      "Finish setting up the training module\n"
     ]
    }
   ],
   "source": [
    "from trainModule import TrainModule\n",
    "trainModule = TrainModule(options, dataset)"
   ]
  },
  {
   "cell_type": "code",
   "execution_count": 6,
   "metadata": {},
   "outputs": [
    {
     "name": "stdout",
     "output_type": "stream",
     "text": [
      "Start training...\n"
     ]
    },
    {
     "name": "stderr",
     "output_type": "stream",
     "text": [
      "Epoch 1/5000 (Training):   0%|          | 0/100 [00:00<?, ?it/s]"
     ]
    },
    {
     "name": "stderr",
     "output_type": "stream",
     "text": [
      "Epoch 1/5000 (Training): 100%|██████████| 100/100 [00:08<00:00, 11.62it/s, loss=1.2091, acc=0.9333]\n"
     ]
    },
    {
     "name": "stdout",
     "output_type": "stream",
     "text": [
      "Avg Train Loss: 1.2398, Avg Train Acc: 0.7891 (Best)\n"
     ]
    },
    {
     "name": "stderr",
     "output_type": "stream",
     "text": [
      "Epoch 1/5000 (Validation): 100%|██████████| 100/100 [00:11<00:00,  8.36it/s, loss=1.2480, acc=0.7600]\n"
     ]
    },
    {
     "name": "stdout",
     "output_type": "stream",
     "text": [
      "Avg Val Loss: 1.1727, Avg Val Acc: 0.8725 (Best)\n",
      "Patience: 0/20\n"
     ]
    },
    {
     "name": "stderr",
     "output_type": "stream",
     "text": [
      "Epoch 2/5000 (Training): 100%|██████████| 100/100 [00:08<00:00, 11.87it/s, loss=1.0450, acc=1.0000]\n"
     ]
    },
    {
     "name": "stdout",
     "output_type": "stream",
     "text": [
      "Avg Train Loss: 1.2147, Avg Train Acc: 0.7979 (Best)\n"
     ]
    },
    {
     "name": "stderr",
     "output_type": "stream",
     "text": [
      "Epoch 2/5000 (Validation): 100%|██████████| 100/100 [00:11<00:00,  8.62it/s, loss=1.1896, acc=0.9600]\n"
     ]
    },
    {
     "name": "stdout",
     "output_type": "stream",
     "text": [
      "Avg Val Loss: 1.1546, Avg Val Acc: 0.8857 (Best)\n",
      "Patience: 0/20\n"
     ]
    },
    {
     "name": "stderr",
     "output_type": "stream",
     "text": [
      "Epoch 3/5000 (Training): 100%|██████████| 100/100 [00:08<00:00, 11.48it/s, loss=1.0446, acc=0.9200]\n"
     ]
    },
    {
     "name": "stdout",
     "output_type": "stream",
     "text": [
      "Avg Train Loss: 1.1944, Avg Train Acc: 0.8072 (Best)\n"
     ]
    },
    {
     "name": "stderr",
     "output_type": "stream",
     "text": [
      "Epoch 3/5000 (Validation): 100%|██████████| 100/100 [00:12<00:00,  7.84it/s, loss=1.1081, acc=0.9200]\n"
     ]
    },
    {
     "name": "stdout",
     "output_type": "stream",
     "text": [
      "Avg Val Loss: 1.1509, Avg Val Acc: 0.8882 (Best)\n",
      "Patience: 0/20\n"
     ]
    },
    {
     "name": "stderr",
     "output_type": "stream",
     "text": [
      "Epoch 4/5000 (Training): 100%|██████████| 100/100 [00:09<00:00, 10.70it/s, loss=1.2454, acc=0.6400]\n"
     ]
    },
    {
     "name": "stdout",
     "output_type": "stream",
     "text": [
      "Avg Train Loss: 1.1818, Avg Train Acc: 0.8129 (Best)\n"
     ]
    },
    {
     "name": "stderr",
     "output_type": "stream",
     "text": [
      "Epoch 4/5000 (Validation): 100%|██████████| 100/100 [00:11<00:00,  8.36it/s, loss=1.1983, acc=0.9467]\n"
     ]
    },
    {
     "name": "stdout",
     "output_type": "stream",
     "text": [
      "Avg Val Loss: 1.1548, Avg Val Acc: 0.8833 (Best: 0.8882)\n",
      "Patience: 1/20\n"
     ]
    },
    {
     "name": "stderr",
     "output_type": "stream",
     "text": [
      "Epoch 5/5000 (Training): 100%|██████████| 100/100 [00:10<00:00,  9.50it/s, loss=1.1536, acc=0.7600]\n"
     ]
    },
    {
     "name": "stdout",
     "output_type": "stream",
     "text": [
      "Avg Train Loss: 1.1746, Avg Train Acc: 0.8173 (Best)\n"
     ]
    },
    {
     "name": "stderr",
     "output_type": "stream",
     "text": [
      "Epoch 5/5000 (Validation): 100%|██████████| 100/100 [00:12<00:00,  8.24it/s, loss=1.0663, acc=0.8933]\n"
     ]
    },
    {
     "name": "stdout",
     "output_type": "stream",
     "text": [
      "Avg Val Loss: 1.1533, Avg Val Acc: 0.8735 (Best: 0.8882)\n",
      "Patience: 2/20\n"
     ]
    },
    {
     "name": "stderr",
     "output_type": "stream",
     "text": [
      "Epoch 6/5000 (Training): 100%|██████████| 100/100 [00:09<00:00, 10.21it/s, loss=1.0603, acc=0.9600]\n"
     ]
    },
    {
     "name": "stdout",
     "output_type": "stream",
     "text": [
      "Avg Train Loss: 1.1644, Avg Train Acc: 0.8228 (Best)\n"
     ]
    },
    {
     "name": "stderr",
     "output_type": "stream",
     "text": [
      "Epoch 6/5000 (Validation): 100%|██████████| 100/100 [00:11<00:00,  8.65it/s, loss=1.2739, acc=0.8000]\n"
     ]
    },
    {
     "name": "stdout",
     "output_type": "stream",
     "text": [
      "Avg Val Loss: 1.1518, Avg Val Acc: 0.8736 (Best: 0.8882)\n",
      "Patience: 3/20\n"
     ]
    },
    {
     "name": "stderr",
     "output_type": "stream",
     "text": [
      "Epoch 7/5000 (Training): 100%|██████████| 100/100 [00:09<00:00, 10.55it/s, loss=1.0241, acc=0.9867]\n"
     ]
    },
    {
     "name": "stdout",
     "output_type": "stream",
     "text": [
      "Avg Train Loss: 1.1584, Avg Train Acc: 0.8265 (Best)\n"
     ]
    },
    {
     "name": "stderr",
     "output_type": "stream",
     "text": [
      "Epoch 7/5000 (Validation): 100%|██████████| 100/100 [00:12<00:00,  8.17it/s, loss=1.1544, acc=0.8933]\n"
     ]
    },
    {
     "name": "stdout",
     "output_type": "stream",
     "text": [
      "Avg Val Loss: 1.1468, Avg Val Acc: 0.8748 (Best: 0.8882)\n",
      "Patience: 4/20\n"
     ]
    },
    {
     "name": "stderr",
     "output_type": "stream",
     "text": [
      "Epoch 8/5000 (Training): 100%|██████████| 100/100 [00:10<00:00,  9.22it/s, loss=1.0487, acc=0.9733]\n"
     ]
    },
    {
     "name": "stdout",
     "output_type": "stream",
     "text": [
      "Avg Train Loss: 1.1545, Avg Train Acc: 0.8294 (Best)\n"
     ]
    },
    {
     "name": "stderr",
     "output_type": "stream",
     "text": [
      "Epoch 8/5000 (Validation): 100%|██████████| 100/100 [00:12<00:00,  8.05it/s, loss=1.2013, acc=0.8133]\n"
     ]
    },
    {
     "name": "stdout",
     "output_type": "stream",
     "text": [
      "Avg Val Loss: 1.1433, Avg Val Acc: 0.8744 (Best: 0.8882)\n",
      "Patience: 5/20\n"
     ]
    },
    {
     "name": "stderr",
     "output_type": "stream",
     "text": [
      "Epoch 9/5000 (Training): 100%|██████████| 100/100 [00:09<00:00, 10.47it/s, loss=1.0786, acc=0.8933]\n"
     ]
    },
    {
     "name": "stdout",
     "output_type": "stream",
     "text": [
      "Avg Train Loss: 1.1514, Avg Train Acc: 0.8315 (Best)\n"
     ]
    },
    {
     "name": "stderr",
     "output_type": "stream",
     "text": [
      "Epoch 9/5000 (Validation): 100%|██████████| 100/100 [00:11<00:00,  8.37it/s, loss=1.1172, acc=0.8000]\n"
     ]
    },
    {
     "name": "stdout",
     "output_type": "stream",
     "text": [
      "Avg Val Loss: 1.1389, Avg Val Acc: 0.8769 (Best: 0.8882)\n",
      "Patience: 6/20\n"
     ]
    },
    {
     "name": "stderr",
     "output_type": "stream",
     "text": [
      "Epoch 10/5000 (Training): 100%|██████████| 100/100 [00:09<00:00, 10.73it/s, loss=1.0535, acc=0.9333]\n"
     ]
    },
    {
     "name": "stdout",
     "output_type": "stream",
     "text": [
      "Avg Train Loss: 1.1476, Avg Train Acc: 0.8337 (Best)\n"
     ]
    },
    {
     "name": "stderr",
     "output_type": "stream",
     "text": [
      "Epoch 10/5000 (Validation): 100%|██████████| 100/100 [00:12<00:00,  8.06it/s, loss=1.1772, acc=0.8800]\n"
     ]
    },
    {
     "name": "stdout",
     "output_type": "stream",
     "text": [
      "Avg Val Loss: 1.1383, Avg Val Acc: 0.8774 (Best: 0.8882)\n",
      "Patience: 7/20\n"
     ]
    },
    {
     "name": "stderr",
     "output_type": "stream",
     "text": [
      "Epoch 11/5000 (Training): 100%|██████████| 100/100 [00:08<00:00, 11.29it/s, loss=1.1369, acc=0.7067]\n"
     ]
    },
    {
     "name": "stdout",
     "output_type": "stream",
     "text": [
      "Avg Train Loss: 1.1425, Avg Train Acc: 0.8374 (Best)\n"
     ]
    },
    {
     "name": "stderr",
     "output_type": "stream",
     "text": [
      "Epoch 11/5000 (Validation): 100%|██████████| 100/100 [00:12<00:00,  8.10it/s, loss=1.1058, acc=0.9600]\n"
     ]
    },
    {
     "name": "stdout",
     "output_type": "stream",
     "text": [
      "Avg Val Loss: 1.1354, Avg Val Acc: 0.8806 (Best: 0.8882)\n",
      "Patience: 8/20\n"
     ]
    },
    {
     "name": "stderr",
     "output_type": "stream",
     "text": [
      "Epoch 12/5000 (Training): 100%|██████████| 100/100 [00:08<00:00, 11.30it/s, loss=1.0970, acc=0.9333]\n"
     ]
    },
    {
     "name": "stdout",
     "output_type": "stream",
     "text": [
      "Avg Train Loss: 1.1391, Avg Train Acc: 0.8398 (Best)\n"
     ]
    },
    {
     "name": "stderr",
     "output_type": "stream",
     "text": [
      "Epoch 12/5000 (Validation): 100%|██████████| 100/100 [00:12<00:00,  8.11it/s, loss=1.0121, acc=0.9200]\n"
     ]
    },
    {
     "name": "stdout",
     "output_type": "stream",
     "text": [
      "Avg Val Loss: 1.1322, Avg Val Acc: 0.8818 (Best: 0.8882)\n",
      "Patience: 9/20\n"
     ]
    },
    {
     "name": "stderr",
     "output_type": "stream",
     "text": [
      "Epoch 13/5000 (Training): 100%|██████████| 100/100 [00:09<00:00, 10.79it/s, loss=1.2462, acc=0.7067]\n"
     ]
    },
    {
     "name": "stdout",
     "output_type": "stream",
     "text": [
      "Avg Train Loss: 1.1360, Avg Train Acc: 0.8417 (Best)\n"
     ]
    },
    {
     "name": "stderr",
     "output_type": "stream",
     "text": [
      "Epoch 13/5000 (Validation): 100%|██████████| 100/100 [00:12<00:00,  8.32it/s, loss=1.0798, acc=0.9200]\n"
     ]
    },
    {
     "name": "stdout",
     "output_type": "stream",
     "text": [
      "Avg Val Loss: 1.1305, Avg Val Acc: 0.8827 (Best: 0.8882)\n",
      "Patience: 10/20\n"
     ]
    },
    {
     "name": "stderr",
     "output_type": "stream",
     "text": [
      "Epoch 14/5000 (Training): 100%|██████████| 100/100 [00:08<00:00, 11.12it/s, loss=1.0558, acc=0.8933]\n"
     ]
    },
    {
     "name": "stdout",
     "output_type": "stream",
     "text": [
      "Avg Train Loss: 1.1324, Avg Train Acc: 0.8444 (Best)\n"
     ]
    },
    {
     "name": "stderr",
     "output_type": "stream",
     "text": [
      "Epoch 14/5000 (Validation): 100%|██████████| 100/100 [00:12<00:00,  8.00it/s, loss=1.0912, acc=0.9200]\n"
     ]
    },
    {
     "name": "stdout",
     "output_type": "stream",
     "text": [
      "Avg Val Loss: 1.1270, Avg Val Acc: 0.8839 (Best: 0.8882)\n",
      "Patience: 11/20\n"
     ]
    },
    {
     "name": "stderr",
     "output_type": "stream",
     "text": [
      "Epoch 15/5000 (Training): 100%|██████████| 100/100 [00:08<00:00, 11.36it/s, loss=1.1725, acc=0.8533]\n"
     ]
    },
    {
     "name": "stdout",
     "output_type": "stream",
     "text": [
      "Avg Train Loss: 1.1305, Avg Train Acc: 0.8457 (Best)\n"
     ]
    },
    {
     "name": "stderr",
     "output_type": "stream",
     "text": [
      "Epoch 15/5000 (Validation): 100%|██████████| 100/100 [00:11<00:00,  8.47it/s, loss=1.0126, acc=0.9600]\n"
     ]
    },
    {
     "name": "stdout",
     "output_type": "stream",
     "text": [
      "Avg Val Loss: 1.1245, Avg Val Acc: 0.8848 (Best: 0.8882)\n",
      "Patience: 12/20\n"
     ]
    },
    {
     "name": "stderr",
     "output_type": "stream",
     "text": [
      "Epoch 16/5000 (Training): 100%|██████████| 100/100 [00:09<00:00, 11.02it/s, loss=1.1605, acc=0.8133]\n"
     ]
    },
    {
     "name": "stdout",
     "output_type": "stream",
     "text": [
      "Avg Train Loss: 1.1281, Avg Train Acc: 0.8474 (Best)\n"
     ]
    },
    {
     "name": "stderr",
     "output_type": "stream",
     "text": [
      "Epoch 16/5000 (Validation): 100%|██████████| 100/100 [00:12<00:00,  8.33it/s, loss=0.9692, acc=0.9600]\n"
     ]
    },
    {
     "name": "stdout",
     "output_type": "stream",
     "text": [
      "Avg Val Loss: 1.1221, Avg Val Acc: 0.8869 (Best: 0.8882)\n",
      "Patience: 13/20\n"
     ]
    },
    {
     "name": "stderr",
     "output_type": "stream",
     "text": [
      "Epoch 17/5000 (Training): 100%|██████████| 100/100 [00:09<00:00, 10.09it/s, loss=1.1771, acc=0.8133]\n"
     ]
    },
    {
     "name": "stdout",
     "output_type": "stream",
     "text": [
      "Avg Train Loss: 1.1261, Avg Train Acc: 0.8489 (Best)\n"
     ]
    },
    {
     "name": "stderr",
     "output_type": "stream",
     "text": [
      "Epoch 17/5000 (Validation): 100%|██████████| 100/100 [00:12<00:00,  8.30it/s, loss=0.9647, acc=0.9733]\n"
     ]
    },
    {
     "name": "stdout",
     "output_type": "stream",
     "text": [
      "Avg Val Loss: 1.1201, Avg Val Acc: 0.8894 (Best)\n",
      "Patience: 0/20\n"
     ]
    },
    {
     "name": "stderr",
     "output_type": "stream",
     "text": [
      "Epoch 18/5000 (Training): 100%|██████████| 100/100 [00:08<00:00, 11.64it/s, loss=1.0790, acc=0.9067]\n"
     ]
    },
    {
     "name": "stdout",
     "output_type": "stream",
     "text": [
      "Avg Train Loss: 1.1246, Avg Train Acc: 0.8501 (Best)\n"
     ]
    },
    {
     "name": "stderr",
     "output_type": "stream",
     "text": [
      "Epoch 18/5000 (Validation): 100%|██████████| 100/100 [00:12<00:00,  8.17it/s, loss=1.1502, acc=0.8533]\n"
     ]
    },
    {
     "name": "stdout",
     "output_type": "stream",
     "text": [
      "Avg Val Loss: 1.1170, Avg Val Acc: 0.8910 (Best)\n",
      "Patience: 0/20\n"
     ]
    },
    {
     "name": "stderr",
     "output_type": "stream",
     "text": [
      "Epoch 19/5000 (Training): 100%|██████████| 100/100 [00:08<00:00, 11.45it/s, loss=1.1265, acc=0.7600]\n"
     ]
    },
    {
     "name": "stdout",
     "output_type": "stream",
     "text": [
      "Avg Train Loss: 1.1228, Avg Train Acc: 0.8514 (Best)\n"
     ]
    },
    {
     "name": "stderr",
     "output_type": "stream",
     "text": [
      "Epoch 19/5000 (Validation): 100%|██████████| 100/100 [00:11<00:00,  8.51it/s, loss=1.0763, acc=0.9200]\n"
     ]
    },
    {
     "name": "stdout",
     "output_type": "stream",
     "text": [
      "Avg Val Loss: 1.1146, Avg Val Acc: 0.8923 (Best)\n",
      "Patience: 0/20\n"
     ]
    },
    {
     "name": "stderr",
     "output_type": "stream",
     "text": [
      "Epoch 20/5000 (Training): 100%|██████████| 100/100 [00:08<00:00, 11.61it/s, loss=1.0945, acc=0.8933]\n"
     ]
    },
    {
     "name": "stdout",
     "output_type": "stream",
     "text": [
      "Avg Train Loss: 1.1210, Avg Train Acc: 0.8537 (Best)\n"
     ]
    },
    {
     "name": "stderr",
     "output_type": "stream",
     "text": [
      "Epoch 20/5000 (Validation): 100%|██████████| 100/100 [00:12<00:00,  7.75it/s, loss=1.0884, acc=0.9333]\n"
     ]
    },
    {
     "name": "stdout",
     "output_type": "stream",
     "text": [
      "Avg Val Loss: 1.1133, Avg Val Acc: 0.8916 (Best: 0.8923)\n",
      "Patience: 1/20\n"
     ]
    },
    {
     "name": "stderr",
     "output_type": "stream",
     "text": [
      "Epoch 21/5000 (Training): 100%|██████████| 100/100 [00:09<00:00, 10.17it/s, loss=1.1508, acc=0.8267]\n"
     ]
    },
    {
     "name": "stdout",
     "output_type": "stream",
     "text": [
      "Avg Train Loss: 1.1199, Avg Train Acc: 0.8549 (Best)\n"
     ]
    },
    {
     "name": "stderr",
     "output_type": "stream",
     "text": [
      "Epoch 21/5000 (Validation): 100%|██████████| 100/100 [00:11<00:00,  8.53it/s, loss=1.1586, acc=0.8533]\n"
     ]
    },
    {
     "name": "stdout",
     "output_type": "stream",
     "text": [
      "Avg Val Loss: 1.1114, Avg Val Acc: 0.8918 (Best: 0.8923)\n",
      "Patience: 2/20\n"
     ]
    },
    {
     "name": "stderr",
     "output_type": "stream",
     "text": [
      "Epoch 22/5000 (Training): 100%|██████████| 100/100 [00:10<00:00,  9.97it/s, loss=1.0946, acc=0.9200]\n"
     ]
    },
    {
     "name": "stdout",
     "output_type": "stream",
     "text": [
      "Avg Train Loss: 1.1177, Avg Train Acc: 0.8571 (Best)\n"
     ]
    },
    {
     "name": "stderr",
     "output_type": "stream",
     "text": [
      "Epoch 22/5000 (Validation): 100%|██████████| 100/100 [00:11<00:00,  8.51it/s, loss=1.0519, acc=0.9333]\n"
     ]
    },
    {
     "name": "stdout",
     "output_type": "stream",
     "text": [
      "Avg Val Loss: 1.1107, Avg Val Acc: 0.8912 (Best: 0.8923)\n",
      "Patience: 3/20\n"
     ]
    },
    {
     "name": "stderr",
     "output_type": "stream",
     "text": [
      "Epoch 23/5000 (Training): 100%|██████████| 100/100 [00:09<00:00, 10.02it/s, loss=1.1469, acc=0.8267]\n"
     ]
    },
    {
     "name": "stdout",
     "output_type": "stream",
     "text": [
      "Avg Train Loss: 1.1161, Avg Train Acc: 0.8585 (Best)\n"
     ]
    },
    {
     "name": "stderr",
     "output_type": "stream",
     "text": [
      "Epoch 23/5000 (Validation): 100%|██████████| 100/100 [00:11<00:00,  8.91it/s, loss=1.2120, acc=0.9067]\n"
     ]
    },
    {
     "name": "stdout",
     "output_type": "stream",
     "text": [
      "Avg Val Loss: 1.1106, Avg Val Acc: 0.8905 (Best: 0.8923)\n",
      "Patience: 4/20\n"
     ]
    },
    {
     "name": "stderr",
     "output_type": "stream",
     "text": [
      "Epoch 24/5000 (Training): 100%|██████████| 100/100 [00:08<00:00, 11.14it/s, loss=1.0672, acc=0.9600]\n"
     ]
    },
    {
     "name": "stdout",
     "output_type": "stream",
     "text": [
      "Avg Train Loss: 1.1146, Avg Train Acc: 0.8596 (Best)\n"
     ]
    },
    {
     "name": "stderr",
     "output_type": "stream",
     "text": [
      "Epoch 24/5000 (Validation): 100%|██████████| 100/100 [00:11<00:00,  8.76it/s, loss=1.1220, acc=0.9067]\n"
     ]
    },
    {
     "name": "stdout",
     "output_type": "stream",
     "text": [
      "Avg Val Loss: 1.1095, Avg Val Acc: 0.8906 (Best: 0.8923)\n",
      "Patience: 5/20\n"
     ]
    },
    {
     "name": "stderr",
     "output_type": "stream",
     "text": [
      "Epoch 25/5000 (Training): 100%|██████████| 100/100 [00:09<00:00, 10.08it/s, loss=1.0431, acc=0.9867]\n"
     ]
    },
    {
     "name": "stdout",
     "output_type": "stream",
     "text": [
      "Avg Train Loss: 1.1133, Avg Train Acc: 0.8609 (Best)\n"
     ]
    },
    {
     "name": "stderr",
     "output_type": "stream",
     "text": [
      "Epoch 25/5000 (Validation): 100%|██████████| 100/100 [00:12<00:00,  8.32it/s, loss=1.0465, acc=0.9467]\n"
     ]
    },
    {
     "name": "stdout",
     "output_type": "stream",
     "text": [
      "Avg Val Loss: 1.1081, Avg Val Acc: 0.8911 (Best: 0.8923)\n",
      "Patience: 6/20\n"
     ]
    },
    {
     "name": "stderr",
     "output_type": "stream",
     "text": [
      "Epoch 26/5000 (Training): 100%|██████████| 100/100 [00:09<00:00, 10.01it/s, loss=1.1657, acc=0.7467]\n"
     ]
    },
    {
     "name": "stdout",
     "output_type": "stream",
     "text": [
      "Avg Train Loss: 1.1121, Avg Train Acc: 0.8618 (Best)\n"
     ]
    },
    {
     "name": "stderr",
     "output_type": "stream",
     "text": [
      "Epoch 26/5000 (Validation): 100%|██████████| 100/100 [00:12<00:00,  8.06it/s, loss=1.2328, acc=0.7600]\n"
     ]
    },
    {
     "name": "stdout",
     "output_type": "stream",
     "text": [
      "Avg Val Loss: 1.1090, Avg Val Acc: 0.8899 (Best: 0.8923)\n",
      "Patience: 7/20\n"
     ]
    },
    {
     "name": "stderr",
     "output_type": "stream",
     "text": [
      "Epoch 27/5000 (Training): 100%|██████████| 100/100 [00:10<00:00,  9.89it/s, loss=0.9662, acc=0.9867]\n"
     ]
    },
    {
     "name": "stdout",
     "output_type": "stream",
     "text": [
      "Avg Train Loss: 1.1105, Avg Train Acc: 0.8633 (Best)\n"
     ]
    },
    {
     "name": "stderr",
     "output_type": "stream",
     "text": [
      "Epoch 27/5000 (Validation): 100%|██████████| 100/100 [00:12<00:00,  8.05it/s, loss=1.1167, acc=0.8667]\n"
     ]
    },
    {
     "name": "stdout",
     "output_type": "stream",
     "text": [
      "Avg Val Loss: 1.1083, Avg Val Acc: 0.8901 (Best: 0.8923)\n",
      "Patience: 8/20\n"
     ]
    },
    {
     "name": "stderr",
     "output_type": "stream",
     "text": [
      "Epoch 28/5000 (Training): 100%|██████████| 100/100 [00:08<00:00, 11.39it/s, loss=1.0050, acc=1.0000]\n"
     ]
    },
    {
     "name": "stdout",
     "output_type": "stream",
     "text": [
      "Avg Train Loss: 1.1091, Avg Train Acc: 0.8645 (Best)\n"
     ]
    },
    {
     "name": "stderr",
     "output_type": "stream",
     "text": [
      "Epoch 28/5000 (Validation): 100%|██████████| 100/100 [00:11<00:00,  8.44it/s, loss=1.1185, acc=0.8667]\n"
     ]
    },
    {
     "name": "stdout",
     "output_type": "stream",
     "text": [
      "Avg Val Loss: 1.1085, Avg Val Acc: 0.8894 (Best: 0.8923)\n",
      "Patience: 9/20\n"
     ]
    },
    {
     "name": "stderr",
     "output_type": "stream",
     "text": [
      "Epoch 29/5000 (Training): 100%|██████████| 100/100 [00:09<00:00, 10.56it/s, loss=1.0375, acc=0.9467]\n"
     ]
    },
    {
     "name": "stdout",
     "output_type": "stream",
     "text": [
      "Avg Train Loss: 1.1082, Avg Train Acc: 0.8654 (Best)\n"
     ]
    },
    {
     "name": "stderr",
     "output_type": "stream",
     "text": [
      "Epoch 29/5000 (Validation): 100%|██████████| 100/100 [00:12<00:00,  8.12it/s, loss=1.0752, acc=0.9200]\n"
     ]
    },
    {
     "name": "stdout",
     "output_type": "stream",
     "text": [
      "Avg Val Loss: 1.1089, Avg Val Acc: 0.8883 (Best: 0.8923)\n",
      "Patience: 10/20\n"
     ]
    },
    {
     "name": "stderr",
     "output_type": "stream",
     "text": [
      "Epoch 30/5000 (Training): 100%|██████████| 100/100 [00:09<00:00, 10.07it/s, loss=1.1156, acc=0.9067]\n"
     ]
    },
    {
     "name": "stdout",
     "output_type": "stream",
     "text": [
      "Avg Train Loss: 1.1069, Avg Train Acc: 0.8670 (Best)\n"
     ]
    },
    {
     "name": "stderr",
     "output_type": "stream",
     "text": [
      "Epoch 30/5000 (Validation): 100%|██████████| 100/100 [00:12<00:00,  8.21it/s, loss=1.1545, acc=0.7600]\n"
     ]
    },
    {
     "name": "stdout",
     "output_type": "stream",
     "text": [
      "Avg Val Loss: 1.1107, Avg Val Acc: 0.8844 (Best: 0.8923)\n",
      "Patience: 11/20\n"
     ]
    },
    {
     "name": "stderr",
     "output_type": "stream",
     "text": [
      "Epoch 31/5000 (Training): 100%|██████████| 100/100 [00:08<00:00, 11.13it/s, loss=1.0120, acc=0.9600]\n"
     ]
    },
    {
     "name": "stdout",
     "output_type": "stream",
     "text": [
      "Avg Train Loss: 1.1058, Avg Train Acc: 0.8678 (Best)\n"
     ]
    },
    {
     "name": "stderr",
     "output_type": "stream",
     "text": [
      "Epoch 31/5000 (Validation): 100%|██████████| 100/100 [00:12<00:00,  8.26it/s, loss=1.1464, acc=0.9200]\n"
     ]
    },
    {
     "name": "stdout",
     "output_type": "stream",
     "text": [
      "Avg Val Loss: 1.1096, Avg Val Acc: 0.8854 (Best: 0.8923)\n",
      "Patience: 12/20\n"
     ]
    },
    {
     "name": "stderr",
     "output_type": "stream",
     "text": [
      "Epoch 32/5000 (Training): 100%|██████████| 100/100 [00:09<00:00, 10.32it/s, loss=1.0645, acc=0.8533]\n"
     ]
    },
    {
     "name": "stdout",
     "output_type": "stream",
     "text": [
      "Avg Train Loss: 1.1045, Avg Train Acc: 0.8690 (Best)\n"
     ]
    },
    {
     "name": "stderr",
     "output_type": "stream",
     "text": [
      "Epoch 32/5000 (Validation): 100%|██████████| 100/100 [00:11<00:00,  8.76it/s, loss=1.1275, acc=0.8800]\n"
     ]
    },
    {
     "name": "stdout",
     "output_type": "stream",
     "text": [
      "Avg Val Loss: 1.1091, Avg Val Acc: 0.8848 (Best: 0.8923)\n",
      "Patience: 13/20\n"
     ]
    },
    {
     "name": "stderr",
     "output_type": "stream",
     "text": [
      "Epoch 33/5000 (Training): 100%|██████████| 100/100 [00:08<00:00, 11.94it/s, loss=1.0760, acc=0.9867]\n"
     ]
    },
    {
     "name": "stdout",
     "output_type": "stream",
     "text": [
      "Avg Train Loss: 1.1036, Avg Train Acc: 0.8699 (Best)\n"
     ]
    },
    {
     "name": "stderr",
     "output_type": "stream",
     "text": [
      "Epoch 33/5000 (Validation): 100%|██████████| 100/100 [00:12<00:00,  7.88it/s, loss=1.0082, acc=0.9600]\n"
     ]
    },
    {
     "name": "stdout",
     "output_type": "stream",
     "text": [
      "Avg Val Loss: 1.1101, Avg Val Acc: 0.8834 (Best: 0.8923)\n",
      "Patience: 14/20\n"
     ]
    },
    {
     "name": "stderr",
     "output_type": "stream",
     "text": [
      "Epoch 34/5000 (Training): 100%|██████████| 100/100 [00:09<00:00, 10.69it/s, loss=1.1222, acc=0.7867]\n"
     ]
    },
    {
     "name": "stdout",
     "output_type": "stream",
     "text": [
      "Avg Train Loss: 1.1027, Avg Train Acc: 0.8706 (Best)\n"
     ]
    },
    {
     "name": "stderr",
     "output_type": "stream",
     "text": [
      "Epoch 34/5000 (Validation): 100%|██████████| 100/100 [00:12<00:00,  7.78it/s, loss=1.0899, acc=0.8533]\n"
     ]
    },
    {
     "name": "stdout",
     "output_type": "stream",
     "text": [
      "Avg Val Loss: 1.1098, Avg Val Acc: 0.8832 (Best: 0.8923)\n",
      "Patience: 15/20\n"
     ]
    },
    {
     "name": "stderr",
     "output_type": "stream",
     "text": [
      "Epoch 35/5000 (Training): 100%|██████████| 100/100 [00:09<00:00, 10.19it/s, loss=0.9652, acc=0.9867]\n"
     ]
    },
    {
     "name": "stdout",
     "output_type": "stream",
     "text": [
      "Avg Train Loss: 1.1018, Avg Train Acc: 0.8712 (Best)\n"
     ]
    },
    {
     "name": "stderr",
     "output_type": "stream",
     "text": [
      "Epoch 35/5000 (Validation): 100%|██████████| 100/100 [00:11<00:00,  8.44it/s, loss=1.1193, acc=0.9333]\n"
     ]
    },
    {
     "name": "stdout",
     "output_type": "stream",
     "text": [
      "Avg Val Loss: 1.1124, Avg Val Acc: 0.8801 (Best: 0.8923)\n",
      "Patience: 16/20\n"
     ]
    },
    {
     "name": "stderr",
     "output_type": "stream",
     "text": [
      "Epoch 36/5000 (Training): 100%|██████████| 100/100 [00:10<00:00,  9.94it/s, loss=1.0834, acc=0.9200]\n"
     ]
    },
    {
     "name": "stdout",
     "output_type": "stream",
     "text": [
      "Avg Train Loss: 1.1010, Avg Train Acc: 0.8718 (Best)\n"
     ]
    },
    {
     "name": "stderr",
     "output_type": "stream",
     "text": [
      "Epoch 36/5000 (Validation): 100%|██████████| 100/100 [00:11<00:00,  8.72it/s, loss=1.0472, acc=0.9467]\n"
     ]
    },
    {
     "name": "stdout",
     "output_type": "stream",
     "text": [
      "Avg Val Loss: 1.1122, Avg Val Acc: 0.8796 (Best: 0.8923)\n",
      "Patience: 17/20\n"
     ]
    },
    {
     "name": "stderr",
     "output_type": "stream",
     "text": [
      "Epoch 37/5000 (Training): 100%|██████████| 100/100 [00:09<00:00, 10.30it/s, loss=1.0193, acc=0.9467]\n"
     ]
    },
    {
     "name": "stdout",
     "output_type": "stream",
     "text": [
      "Avg Train Loss: 1.0998, Avg Train Acc: 0.8730 (Best)\n"
     ]
    },
    {
     "name": "stderr",
     "output_type": "stream",
     "text": [
      "Epoch 37/5000 (Validation): 100%|██████████| 100/100 [00:12<00:00,  8.04it/s, loss=1.1118, acc=0.8533]\n"
     ]
    },
    {
     "name": "stdout",
     "output_type": "stream",
     "text": [
      "Avg Val Loss: 1.1116, Avg Val Acc: 0.8794 (Best: 0.8923)\n",
      "Patience: 18/20\n"
     ]
    },
    {
     "name": "stderr",
     "output_type": "stream",
     "text": [
      "Epoch 38/5000 (Training): 100%|██████████| 100/100 [00:09<00:00, 10.19it/s, loss=0.9809, acc=0.9867]\n"
     ]
    },
    {
     "name": "stdout",
     "output_type": "stream",
     "text": [
      "Avg Train Loss: 1.0986, Avg Train Acc: 0.8741 (Best)\n"
     ]
    },
    {
     "name": "stderr",
     "output_type": "stream",
     "text": [
      "Epoch 38/5000 (Validation): 100%|██████████| 100/100 [00:12<00:00,  7.99it/s, loss=1.1085, acc=0.7733]\n"
     ]
    },
    {
     "name": "stdout",
     "output_type": "stream",
     "text": [
      "Avg Val Loss: 1.1130, Avg Val Acc: 0.8769 (Best: 0.8923)\n",
      "Patience: 19/20\n"
     ]
    },
    {
     "name": "stderr",
     "output_type": "stream",
     "text": [
      "Epoch 39/5000 (Training): 100%|██████████| 100/100 [00:10<00:00,  9.53it/s, loss=1.0851, acc=0.8933]\n"
     ]
    },
    {
     "name": "stdout",
     "output_type": "stream",
     "text": [
      "Avg Train Loss: 1.0975, Avg Train Acc: 0.8749 (Best)\n"
     ]
    },
    {
     "name": "stderr",
     "output_type": "stream",
     "text": [
      "Epoch 39/5000 (Validation): 100%|██████████| 100/100 [00:11<00:00,  8.43it/s, loss=1.1523, acc=0.8133]"
     ]
    },
    {
     "name": "stdout",
     "output_type": "stream",
     "text": [
      "Avg Val Loss: 1.1129, Avg Val Acc: 0.8767 (Best: 0.8923)\n",
      "Early stopping\n",
      "Finish training\n"
     ]
    },
    {
     "name": "stderr",
     "output_type": "stream",
     "text": [
      "\n"
     ]
    }
   ],
   "source": [
    "trainModule.train()"
   ]
  },
  {
   "cell_type": "code",
   "execution_count": null,
   "metadata": {},
   "outputs": [],
   "source": [
    "# witout meta learning\n",
    "\n"
   ]
  }
 ],
 "metadata": {
  "kernelspec": {
   "display_name": "prototype",
   "language": "python",
   "name": "python3"
  },
  "language_info": {
   "codemirror_mode": {
    "name": "ipython",
    "version": 3
   },
   "file_extension": ".py",
   "mimetype": "text/x-python",
   "name": "python",
   "nbconvert_exporter": "python",
   "pygments_lexer": "ipython3",
   "version": "3.11.9"
  }
 },
 "nbformat": 4,
 "nbformat_minor": 2
}
