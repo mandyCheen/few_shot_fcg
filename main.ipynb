{
 "cells": [
  {
   "cell_type": "code",
   "execution_count": 6,
   "metadata": {},
   "outputs": [
    {
     "name": "stdout",
     "output_type": "stream",
     "text": [
      "The autoreload extension is already loaded. To reload it, use:\n",
      "  %reload_ext autoreload\n"
     ]
    }
   ],
   "source": [
    "%load_ext autoreload\n",
    "%autoreload 2 "
   ]
  },
  {
   "cell_type": "code",
   "execution_count": 7,
   "metadata": {},
   "outputs": [],
   "source": [
    "from utils import load_config\n",
    "options = load_config(\"./config.json\")"
   ]
  },
  {
   "cell_type": "code",
   "execution_count": 8,
   "metadata": {},
   "outputs": [
    {
     "name": "stdout",
     "output_type": "stream",
     "text": [
      "Loading all datasets...\n",
      "train dataset shape: (1180, 16)\n",
      "train dataset family number: 59\n",
      "test dataset shape: (200, 16)\n",
      "test dataset family number: 10\n",
      "val dataset shape: (200, 16)\n",
      "val dataset family number: 10\n"
     ]
    }
   ],
   "source": [
    "from loadDataset import LoadDataset\n",
    "dataset = LoadDataset(options, pretrain=False)"
   ]
  },
  {
   "cell_type": "code",
   "execution_count": 9,
   "metadata": {},
   "outputs": [
    {
     "name": "stdout",
     "output_type": "stream",
     "text": [
      "Word2vec model exist, load word2vec model...\n",
      "Start to get node embedding...\n"
     ]
    },
    {
     "name": "stderr",
     "output_type": "stream",
     "text": [
      "  0%|          | 0/1580 [00:00<?, ?it/s]"
     ]
    },
    {
     "name": "stderr",
     "output_type": "stream",
     "text": [
      "100%|██████████| 1580/1580 [00:00<00:00, 22232.66it/s]"
     ]
    },
    {
     "name": "stdout",
     "output_type": "stream",
     "text": [
      "Finish getting node embedding\n"
     ]
    },
    {
     "name": "stderr",
     "output_type": "stream",
     "text": [
      "\n"
     ]
    }
   ],
   "source": [
    "from fcgVectorize import FCGVectorize\n",
    "\n",
    "vectorizer = FCGVectorize(options, dataset)\n",
    "# node embedding for raw data\n",
    "vectorizer.node_embedding(dataset.rawDataset)"
   ]
  },
  {
   "cell_type": "code",
   "execution_count": 10,
   "metadata": {},
   "outputs": [
    {
     "name": "stdout",
     "output_type": "stream",
     "text": [
      "Setting up the training module...\n",
      "Loading data from ./embeddings/x86_64_withVal_withPretrain_ghidra/word2vec...\n",
      "Loading training data...\n",
      "Loading data from ./embeddings/x86_64_withVal_withPretrain_ghidra/word2vec/trainData.pkl...\n"
     ]
    },
    {
     "name": "stderr",
     "output_type": "stream",
     "text": [
      "/home/manying/Tools/anaconda3/envs/prototype/lib/python3.11/site-packages/torch/storage.py:414: FutureWarning: You are using `torch.load` with `weights_only=False` (the current default value), which uses the default pickle module implicitly. It is possible to construct malicious pickle data which will execute arbitrary code during unpickling (See https://github.com/pytorch/pytorch/blob/main/SECURITY.md#untrusted-models for more details). In a future release, the default value for `weights_only` will be flipped to `True`. This limits the functions that could be executed during unpickling. Arbitrary objects will no longer be allowed to be loaded via this mode unless they are explicitly allowlisted by the user via `torch.serialization.add_safe_globals`. We recommend you start setting `weights_only=True` for any use case where you don't have full control of the loaded file. Please open an issue on GitHub for any issues related to this experimental feature.\n",
      "  return torch.load(io.BytesIO(b))\n"
     ]
    },
    {
     "name": "stdout",
     "output_type": "stream",
     "text": [
      "Loading validation data...\n",
      "Loading data from ./embeddings/x86_64_withVal_withPretrain_ghidra/word2vec/valData.pkl...\n"
     ]
    },
    {
     "name": "stderr",
     "output_type": "stream",
     "text": [
      "/home/manying/Projects/fcgFewShot/trainModule.py:72: FutureWarning: You are using `torch.load` with `weights_only=False` (the current default value), which uses the default pickle module implicitly. It is possible to construct malicious pickle data which will execute arbitrary code during unpickling (See https://github.com/pytorch/pytorch/blob/main/SECURITY.md#untrusted-models for more details). In a future release, the default value for `weights_only` will be flipped to `True`. This limits the functions that could be executed during unpickling. Arbitrary objects will no longer be allowed to be loaded via this mode unless they are explicitly allowlisted by the user via `torch.serialization.add_safe_globals`. We recommend you start setting `weights_only=True` for any use case where you don't have full control of the loaded file. Please open an issue on GitHub for any issues related to this experimental feature.\n",
      "  checkpoint = torch.load(info[\"load_weights\"])\n"
     ]
    },
    {
     "name": "stdout",
     "output_type": "stream",
     "text": [
      "Model loaded from /home/manying/Projects/fcgFewShot/pretrained/x86_pretrained_20241121_1653/epoch_2056_best_backbone.pth\n",
      "Device: cuda:3\n",
      "Model: GraphSAGE(\n",
      "  (sage_convs): ModuleList(\n",
      "    (0-1): 2 x SAGEConv(128, 128, aggr=mean)\n",
      "  )\n",
      "  (norms): ModuleList(\n",
      "    (0-1): 2 x BatchNorm1d(128, eps=1e-05, momentum=0.1, affine=True, track_running_stats=True)\n",
      "  )\n",
      "  (output_proj): Sequential(\n",
      "    (0): Linear(in_features=128, out_features=128, bias=True)\n",
      "    (1): BatchNorm1d(128, eps=1e-05, momentum=0.1, affine=True, track_running_stats=True)\n",
      "    (2): ReLU()\n",
      "  )\n",
      ")\n",
      "Loss function: <loss.ProtoLoss object at 0x7f06609436d0>\n",
      "Optimizer: Adam (\n",
      "Parameter Group 0\n",
      "    amsgrad: False\n",
      "    betas: (0.9, 0.999)\n",
      "    capturable: False\n",
      "    differentiable: False\n",
      "    eps: 1e-08\n",
      "    foreach: None\n",
      "    fused: None\n",
      "    lr: 0.001\n",
      "    maximize: False\n",
      "    weight_decay: 0\n",
      ")\n",
      "Finish setting up the training module\n"
     ]
    }
   ],
   "source": [
    "from trainModule import TrainModule\n",
    "trainModule = TrainModule(options, dataset)"
   ]
  },
  {
   "cell_type": "code",
   "execution_count": 21,
   "metadata": {},
   "outputs": [
    {
     "name": "stdout",
     "output_type": "stream",
     "text": [
      "Start training...\n"
     ]
    },
    {
     "name": "stderr",
     "output_type": "stream",
     "text": [
      "Epoch 1/5000 (Training):   0%|          | 0/100 [00:00<?, ?it/s]"
     ]
    },
    {
     "name": "stderr",
     "output_type": "stream",
     "text": [
      "Epoch 1/5000 (Training): 100%|██████████| 100/100 [01:19<00:00,  1.27it/s, loss=2.4908, acc=0.7300]\n"
     ]
    },
    {
     "name": "stdout",
     "output_type": "stream",
     "text": [
      "Avg Train Loss: 2.5360, Avg Train Acc: 0.6743 (Best)\n"
     ]
    },
    {
     "name": "stderr",
     "output_type": "stream",
     "text": [
      "Epoch 1/5000 (Validation): 100%|██████████| 100/100 [00:21<00:00,  4.66it/s, loss=1.1578, acc=0.9200]\n"
     ]
    },
    {
     "name": "stdout",
     "output_type": "stream",
     "text": [
      "Avg Val Loss: 1.1977, Avg Val Acc: 0.8229 (Best)\n",
      "Patience: 0/50\n"
     ]
    },
    {
     "name": "stderr",
     "output_type": "stream",
     "text": [
      "Epoch 2/5000 (Training): 100%|██████████| 100/100 [01:21<00:00,  1.23it/s, loss=2.4507, acc=0.7067]\n"
     ]
    },
    {
     "name": "stdout",
     "output_type": "stream",
     "text": [
      "Avg Train Loss: 2.5038, Avg Train Acc: 0.6812 (Best)\n"
     ]
    },
    {
     "name": "stderr",
     "output_type": "stream",
     "text": [
      "Epoch 2/5000 (Validation): 100%|██████████| 100/100 [00:21<00:00,  4.72it/s, loss=1.3294, acc=0.6400]\n"
     ]
    },
    {
     "name": "stdout",
     "output_type": "stream",
     "text": [
      "Avg Val Loss: 1.1825, Avg Val Acc: 0.8347 (Best)\n",
      "Patience: 0/50\n"
     ]
    },
    {
     "name": "stderr",
     "output_type": "stream",
     "text": [
      "Epoch 3/5000 (Training): 100%|██████████| 100/100 [01:18<00:00,  1.27it/s, loss=2.4164, acc=0.7500]\n"
     ]
    },
    {
     "name": "stdout",
     "output_type": "stream",
     "text": [
      "Avg Train Loss: 2.4786, Avg Train Acc: 0.6935 (Best)\n"
     ]
    },
    {
     "name": "stderr",
     "output_type": "stream",
     "text": [
      "Epoch 3/5000 (Validation): 100%|██████████| 100/100 [00:24<00:00,  4.13it/s, loss=1.1455, acc=0.8667]\n"
     ]
    },
    {
     "name": "stdout",
     "output_type": "stream",
     "text": [
      "Avg Val Loss: 1.1730, Avg Val Acc: 0.8417 (Best)\n",
      "Patience: 0/50\n"
     ]
    },
    {
     "name": "stderr",
     "output_type": "stream",
     "text": [
      "Epoch 4/5000 (Training): 100%|██████████| 100/100 [01:26<00:00,  1.15it/s, loss=2.4323, acc=0.6033]\n"
     ]
    },
    {
     "name": "stdout",
     "output_type": "stream",
     "text": [
      "Avg Train Loss: 2.4614, Avg Train Acc: 0.7002 (Best)\n"
     ]
    },
    {
     "name": "stderr",
     "output_type": "stream",
     "text": [
      "Epoch 4/5000 (Validation): 100%|██████████| 100/100 [00:21<00:00,  4.63it/s, loss=1.0926, acc=0.7867]\n"
     ]
    },
    {
     "name": "stdout",
     "output_type": "stream",
     "text": [
      "Avg Val Loss: 1.1632, Avg Val Acc: 0.8479 (Best)\n",
      "Patience: 0/50\n"
     ]
    },
    {
     "name": "stderr",
     "output_type": "stream",
     "text": [
      "Epoch 5/5000 (Training): 100%|██████████| 100/100 [01:24<00:00,  1.19it/s, loss=2.4182, acc=0.6733]\n"
     ]
    },
    {
     "name": "stdout",
     "output_type": "stream",
     "text": [
      "Avg Train Loss: 2.4494, Avg Train Acc: 0.7031 (Best)\n"
     ]
    },
    {
     "name": "stderr",
     "output_type": "stream",
     "text": [
      "Epoch 5/5000 (Validation): 100%|██████████| 100/100 [00:24<00:00,  4.07it/s, loss=1.2000, acc=0.7200]\n"
     ]
    },
    {
     "name": "stdout",
     "output_type": "stream",
     "text": [
      "Avg Val Loss: 1.1524, Avg Val Acc: 0.8480 (Best)\n",
      "Patience: 0/50\n"
     ]
    },
    {
     "name": "stderr",
     "output_type": "stream",
     "text": [
      "Epoch 6/5000 (Training): 100%|██████████| 100/100 [01:16<00:00,  1.31it/s, loss=2.3792, acc=0.7200]\n"
     ]
    },
    {
     "name": "stdout",
     "output_type": "stream",
     "text": [
      "Avg Train Loss: 2.4411, Avg Train Acc: 0.7087 (Best)\n"
     ]
    },
    {
     "name": "stderr",
     "output_type": "stream",
     "text": [
      "Epoch 6/5000 (Validation): 100%|██████████| 100/100 [00:23<00:00,  4.19it/s, loss=1.0610, acc=0.9333]\n"
     ]
    },
    {
     "name": "stdout",
     "output_type": "stream",
     "text": [
      "Avg Val Loss: 1.1449, Avg Val Acc: 0.8539 (Best)\n",
      "Patience: 0/50\n"
     ]
    },
    {
     "name": "stderr",
     "output_type": "stream",
     "text": [
      "Epoch 7/5000 (Training): 100%|██████████| 100/100 [01:18<00:00,  1.27it/s, loss=2.3293, acc=0.7667]\n"
     ]
    },
    {
     "name": "stdout",
     "output_type": "stream",
     "text": [
      "Avg Train Loss: 2.4332, Avg Train Acc: 0.7141 (Best)\n"
     ]
    },
    {
     "name": "stderr",
     "output_type": "stream",
     "text": [
      "Epoch 7/5000 (Validation): 100%|██████████| 100/100 [00:24<00:00,  4.04it/s, loss=1.1492, acc=0.9467]\n"
     ]
    },
    {
     "name": "stdout",
     "output_type": "stream",
     "text": [
      "Avg Val Loss: 1.1394, Avg Val Acc: 0.8577 (Best)\n",
      "Patience: 0/50\n"
     ]
    },
    {
     "name": "stderr",
     "output_type": "stream",
     "text": [
      "Epoch 8/5000 (Training): 100%|██████████| 100/100 [01:20<00:00,  1.24it/s, loss=2.3117, acc=0.8367]\n"
     ]
    },
    {
     "name": "stdout",
     "output_type": "stream",
     "text": [
      "Avg Train Loss: 2.4262, Avg Train Acc: 0.7201 (Best)\n"
     ]
    },
    {
     "name": "stderr",
     "output_type": "stream",
     "text": [
      "Epoch 8/5000 (Validation): 100%|██████████| 100/100 [00:22<00:00,  4.44it/s, loss=1.0870, acc=0.8267]\n"
     ]
    },
    {
     "name": "stdout",
     "output_type": "stream",
     "text": [
      "Avg Val Loss: 1.1336, Avg Val Acc: 0.8630 (Best)\n",
      "Patience: 0/50\n"
     ]
    },
    {
     "name": "stderr",
     "output_type": "stream",
     "text": [
      "Epoch 9/5000 (Training): 100%|██████████| 100/100 [01:26<00:00,  1.16it/s, loss=2.3271, acc=0.7733]\n"
     ]
    },
    {
     "name": "stdout",
     "output_type": "stream",
     "text": [
      "Avg Train Loss: 2.4189, Avg Train Acc: 0.7252 (Best)\n"
     ]
    },
    {
     "name": "stderr",
     "output_type": "stream",
     "text": [
      "Epoch 9/5000 (Validation): 100%|██████████| 100/100 [00:22<00:00,  4.38it/s, loss=1.0971, acc=0.9733]\n"
     ]
    },
    {
     "name": "stdout",
     "output_type": "stream",
     "text": [
      "Avg Val Loss: 1.1302, Avg Val Acc: 0.8629 (Best: 0.8630)\n",
      "Patience: 1/50\n"
     ]
    },
    {
     "name": "stderr",
     "output_type": "stream",
     "text": [
      "Epoch 10/5000 (Training): 100%|██████████| 100/100 [01:19<00:00,  1.26it/s, loss=2.3510, acc=0.7867]\n"
     ]
    },
    {
     "name": "stdout",
     "output_type": "stream",
     "text": [
      "Avg Train Loss: 2.4127, Avg Train Acc: 0.7286 (Best)\n"
     ]
    },
    {
     "name": "stderr",
     "output_type": "stream",
     "text": [
      "Epoch 10/5000 (Validation): 100%|██████████| 100/100 [00:23<00:00,  4.24it/s, loss=1.2831, acc=0.7467]\n"
     ]
    },
    {
     "name": "stdout",
     "output_type": "stream",
     "text": [
      "Avg Val Loss: 1.1239, Avg Val Acc: 0.8677 (Best)\n",
      "Patience: 0/50\n"
     ]
    },
    {
     "name": "stderr",
     "output_type": "stream",
     "text": [
      "Epoch 11/5000 (Training): 100%|██████████| 100/100 [01:14<00:00,  1.34it/s, loss=2.3007, acc=0.8233]\n"
     ]
    },
    {
     "name": "stdout",
     "output_type": "stream",
     "text": [
      "Avg Train Loss: 2.4075, Avg Train Acc: 0.7320 (Best)\n"
     ]
    },
    {
     "name": "stderr",
     "output_type": "stream",
     "text": [
      "Epoch 11/5000 (Validation): 100%|██████████| 100/100 [00:22<00:00,  4.40it/s, loss=1.2443, acc=0.6800]\n"
     ]
    },
    {
     "name": "stdout",
     "output_type": "stream",
     "text": [
      "Avg Val Loss: 1.1188, Avg Val Acc: 0.8716 (Best)\n",
      "Patience: 0/50\n"
     ]
    },
    {
     "name": "stderr",
     "output_type": "stream",
     "text": [
      "Epoch 12/5000 (Training): 100%|██████████| 100/100 [01:19<00:00,  1.26it/s, loss=2.3243, acc=0.6767]\n"
     ]
    },
    {
     "name": "stdout",
     "output_type": "stream",
     "text": [
      "Avg Train Loss: 2.4016, Avg Train Acc: 0.7338 (Best)\n"
     ]
    },
    {
     "name": "stderr",
     "output_type": "stream",
     "text": [
      "Epoch 12/5000 (Validation): 100%|██████████| 100/100 [00:22<00:00,  4.44it/s, loss=1.0743, acc=0.8800]\n"
     ]
    },
    {
     "name": "stdout",
     "output_type": "stream",
     "text": [
      "Avg Val Loss: 1.1144, Avg Val Acc: 0.8736 (Best)\n",
      "Patience: 0/50\n"
     ]
    },
    {
     "name": "stderr",
     "output_type": "stream",
     "text": [
      "Epoch 13/5000 (Training): 100%|██████████| 100/100 [01:15<00:00,  1.33it/s, loss=2.3157, acc=0.7733]\n"
     ]
    },
    {
     "name": "stdout",
     "output_type": "stream",
     "text": [
      "Avg Train Loss: 2.3969, Avg Train Acc: 0.7358 (Best)\n"
     ]
    },
    {
     "name": "stderr",
     "output_type": "stream",
     "text": [
      "Epoch 13/5000 (Validation): 100%|██████████| 100/100 [00:21<00:00,  4.58it/s, loss=1.0753, acc=0.8667]\n"
     ]
    },
    {
     "name": "stdout",
     "output_type": "stream",
     "text": [
      "Avg Val Loss: 1.1109, Avg Val Acc: 0.8759 (Best)\n",
      "Patience: 0/50\n"
     ]
    },
    {
     "name": "stderr",
     "output_type": "stream",
     "text": [
      "Epoch 14/5000 (Training): 100%|██████████| 100/100 [01:28<00:00,  1.12it/s, loss=2.2700, acc=0.7767]\n"
     ]
    },
    {
     "name": "stdout",
     "output_type": "stream",
     "text": [
      "Avg Train Loss: 2.3909, Avg Train Acc: 0.7378 (Best)\n"
     ]
    },
    {
     "name": "stderr",
     "output_type": "stream",
     "text": [
      "Epoch 14/5000 (Validation): 100%|██████████| 100/100 [00:24<00:00,  4.16it/s, loss=0.9553, acc=0.9867]\n"
     ]
    },
    {
     "name": "stdout",
     "output_type": "stream",
     "text": [
      "Avg Val Loss: 1.1069, Avg Val Acc: 0.8779 (Best)\n",
      "Patience: 0/50\n"
     ]
    },
    {
     "name": "stderr",
     "output_type": "stream",
     "text": [
      "Epoch 15/5000 (Training): 100%|██████████| 100/100 [01:19<00:00,  1.26it/s, loss=2.2981, acc=0.7367]\n"
     ]
    },
    {
     "name": "stdout",
     "output_type": "stream",
     "text": [
      "Avg Train Loss: 2.3849, Avg Train Acc: 0.7402 (Best)\n"
     ]
    },
    {
     "name": "stderr",
     "output_type": "stream",
     "text": [
      "Epoch 15/5000 (Validation): 100%|██████████| 100/100 [00:19<00:00,  5.16it/s, loss=0.9524, acc=1.0000]\n"
     ]
    },
    {
     "name": "stdout",
     "output_type": "stream",
     "text": [
      "Avg Val Loss: 1.1033, Avg Val Acc: 0.8790 (Best)\n",
      "Patience: 0/50\n"
     ]
    },
    {
     "name": "stderr",
     "output_type": "stream",
     "text": [
      "Epoch 16/5000 (Training): 100%|██████████| 100/100 [01:15<00:00,  1.33it/s, loss=2.3153, acc=0.7667]\n"
     ]
    },
    {
     "name": "stdout",
     "output_type": "stream",
     "text": [
      "Avg Train Loss: 2.3790, Avg Train Acc: 0.7424 (Best)\n"
     ]
    },
    {
     "name": "stderr",
     "output_type": "stream",
     "text": [
      "Epoch 16/5000 (Validation): 100%|██████████| 100/100 [00:22<00:00,  4.51it/s, loss=1.0617, acc=0.8533]\n"
     ]
    },
    {
     "name": "stdout",
     "output_type": "stream",
     "text": [
      "Avg Val Loss: 1.0987, Avg Val Acc: 0.8817 (Best)\n",
      "Patience: 0/50\n"
     ]
    },
    {
     "name": "stderr",
     "output_type": "stream",
     "text": [
      "Epoch 17/5000 (Training): 100%|██████████| 100/100 [01:25<00:00,  1.17it/s, loss=2.3432, acc=0.6533]\n"
     ]
    },
    {
     "name": "stdout",
     "output_type": "stream",
     "text": [
      "Avg Train Loss: 2.3732, Avg Train Acc: 0.7438 (Best)\n"
     ]
    },
    {
     "name": "stderr",
     "output_type": "stream",
     "text": [
      "Epoch 17/5000 (Validation): 100%|██████████| 100/100 [00:20<00:00,  4.80it/s, loss=1.0517, acc=0.8533]\n"
     ]
    },
    {
     "name": "stdout",
     "output_type": "stream",
     "text": [
      "Avg Val Loss: 1.0955, Avg Val Acc: 0.8824 (Best)\n",
      "Patience: 0/50\n"
     ]
    },
    {
     "name": "stderr",
     "output_type": "stream",
     "text": [
      "Epoch 18/5000 (Training): 100%|██████████| 100/100 [01:22<00:00,  1.21it/s, loss=2.2797, acc=0.7933]\n"
     ]
    },
    {
     "name": "stdout",
     "output_type": "stream",
     "text": [
      "Avg Train Loss: 2.3685, Avg Train Acc: 0.7452 (Best)\n"
     ]
    },
    {
     "name": "stderr",
     "output_type": "stream",
     "text": [
      "Epoch 18/5000 (Validation): 100%|██████████| 100/100 [00:22<00:00,  4.48it/s, loss=1.0734, acc=0.7867]\n"
     ]
    },
    {
     "name": "stdout",
     "output_type": "stream",
     "text": [
      "Avg Val Loss: 1.0920, Avg Val Acc: 0.8833 (Best)\n",
      "Patience: 0/50\n"
     ]
    },
    {
     "name": "stderr",
     "output_type": "stream",
     "text": [
      "Epoch 19/5000 (Training): 100%|██████████| 100/100 [01:19<00:00,  1.25it/s, loss=2.2500, acc=0.8033]\n"
     ]
    },
    {
     "name": "stdout",
     "output_type": "stream",
     "text": [
      "Avg Train Loss: 2.3643, Avg Train Acc: 0.7464 (Best)\n"
     ]
    },
    {
     "name": "stderr",
     "output_type": "stream",
     "text": [
      "Epoch 19/5000 (Validation): 100%|██████████| 100/100 [00:20<00:00,  4.78it/s, loss=1.0592, acc=0.7600]\n"
     ]
    },
    {
     "name": "stdout",
     "output_type": "stream",
     "text": [
      "Avg Val Loss: 1.0894, Avg Val Acc: 0.8842 (Best)\n",
      "Patience: 0/50\n"
     ]
    },
    {
     "name": "stderr",
     "output_type": "stream",
     "text": [
      "Epoch 20/5000 (Training): 100%|██████████| 100/100 [01:19<00:00,  1.26it/s, loss=2.2365, acc=0.8067]\n"
     ]
    },
    {
     "name": "stdout",
     "output_type": "stream",
     "text": [
      "Avg Train Loss: 2.3605, Avg Train Acc: 0.7476 (Best)\n"
     ]
    },
    {
     "name": "stderr",
     "output_type": "stream",
     "text": [
      "Epoch 20/5000 (Validation): 100%|██████████| 100/100 [00:21<00:00,  4.58it/s, loss=0.9875, acc=0.9600]\n"
     ]
    },
    {
     "name": "stdout",
     "output_type": "stream",
     "text": [
      "Avg Val Loss: 1.0879, Avg Val Acc: 0.8843 (Best)\n",
      "Patience: 0/50\n"
     ]
    },
    {
     "name": "stderr",
     "output_type": "stream",
     "text": [
      "Epoch 21/5000 (Training): 100%|██████████| 100/100 [01:18<00:00,  1.27it/s, loss=2.2468, acc=0.7267]\n"
     ]
    },
    {
     "name": "stdout",
     "output_type": "stream",
     "text": [
      "Avg Train Loss: 2.3573, Avg Train Acc: 0.7486 (Best)\n"
     ]
    },
    {
     "name": "stderr",
     "output_type": "stream",
     "text": [
      "Epoch 21/5000 (Validation): 100%|██████████| 100/100 [00:23<00:00,  4.26it/s, loss=0.9984, acc=0.9867]\n"
     ]
    },
    {
     "name": "stdout",
     "output_type": "stream",
     "text": [
      "Avg Val Loss: 1.0857, Avg Val Acc: 0.8840 (Best: 0.8843)\n",
      "Patience: 1/50\n"
     ]
    },
    {
     "name": "stderr",
     "output_type": "stream",
     "text": [
      "Epoch 22/5000 (Training): 100%|██████████| 100/100 [01:14<00:00,  1.35it/s, loss=2.2535, acc=0.7833]\n"
     ]
    },
    {
     "name": "stdout",
     "output_type": "stream",
     "text": [
      "Avg Train Loss: 2.3536, Avg Train Acc: 0.7496 (Best)\n"
     ]
    },
    {
     "name": "stderr",
     "output_type": "stream",
     "text": [
      "Epoch 22/5000 (Validation): 100%|██████████| 100/100 [00:24<00:00,  4.07it/s, loss=0.9448, acc=0.9867]\n"
     ]
    },
    {
     "name": "stdout",
     "output_type": "stream",
     "text": [
      "Avg Val Loss: 1.0835, Avg Val Acc: 0.8839 (Best: 0.8843)\n",
      "Patience: 2/50\n"
     ]
    },
    {
     "name": "stderr",
     "output_type": "stream",
     "text": [
      "Epoch 23/5000 (Training): 100%|██████████| 100/100 [01:17<00:00,  1.29it/s, loss=2.3475, acc=0.8000]\n"
     ]
    },
    {
     "name": "stdout",
     "output_type": "stream",
     "text": [
      "Avg Train Loss: 2.3506, Avg Train Acc: 0.7501 (Best)\n"
     ]
    },
    {
     "name": "stderr",
     "output_type": "stream",
     "text": [
      "Epoch 23/5000 (Validation): 100%|██████████| 100/100 [00:21<00:00,  4.61it/s, loss=1.0261, acc=0.9467]\n"
     ]
    },
    {
     "name": "stdout",
     "output_type": "stream",
     "text": [
      "Avg Val Loss: 1.0824, Avg Val Acc: 0.8828 (Best: 0.8843)\n",
      "Patience: 3/50\n"
     ]
    },
    {
     "name": "stderr",
     "output_type": "stream",
     "text": [
      "Epoch 24/5000 (Training): 100%|██████████| 100/100 [01:18<00:00,  1.27it/s, loss=2.2367, acc=0.8100]\n"
     ]
    },
    {
     "name": "stdout",
     "output_type": "stream",
     "text": [
      "Avg Train Loss: 2.3474, Avg Train Acc: 0.7509 (Best)\n"
     ]
    },
    {
     "name": "stderr",
     "output_type": "stream",
     "text": [
      "Epoch 24/5000 (Validation): 100%|██████████| 100/100 [00:19<00:00,  5.18it/s, loss=1.0162, acc=0.9200]\n"
     ]
    },
    {
     "name": "stdout",
     "output_type": "stream",
     "text": [
      "Avg Val Loss: 1.0818, Avg Val Acc: 0.8815 (Best: 0.8843)\n",
      "Patience: 4/50\n"
     ]
    },
    {
     "name": "stderr",
     "output_type": "stream",
     "text": [
      "Epoch 25/5000 (Training): 100%|██████████| 100/100 [01:17<00:00,  1.28it/s, loss=2.2901, acc=0.6933]\n"
     ]
    },
    {
     "name": "stdout",
     "output_type": "stream",
     "text": [
      "Avg Train Loss: 2.3450, Avg Train Acc: 0.7515 (Best)\n"
     ]
    },
    {
     "name": "stderr",
     "output_type": "stream",
     "text": [
      "Epoch 25/5000 (Validation): 100%|██████████| 100/100 [00:24<00:00,  4.16it/s, loss=1.1784, acc=0.6400]\n"
     ]
    },
    {
     "name": "stdout",
     "output_type": "stream",
     "text": [
      "Avg Val Loss: 1.0808, Avg Val Acc: 0.8805 (Best: 0.8843)\n",
      "Patience: 5/50\n"
     ]
    },
    {
     "name": "stderr",
     "output_type": "stream",
     "text": [
      "Epoch 26/5000 (Training): 100%|██████████| 100/100 [01:25<00:00,  1.17it/s, loss=2.3226, acc=0.6867]\n"
     ]
    },
    {
     "name": "stdout",
     "output_type": "stream",
     "text": [
      "Avg Train Loss: 2.3418, Avg Train Acc: 0.7534 (Best)\n"
     ]
    },
    {
     "name": "stderr",
     "output_type": "stream",
     "text": [
      "Epoch 26/5000 (Validation): 100%|██████████| 100/100 [00:21<00:00,  4.67it/s, loss=1.1673, acc=0.7333]\n"
     ]
    },
    {
     "name": "stdout",
     "output_type": "stream",
     "text": [
      "Avg Val Loss: 1.0797, Avg Val Acc: 0.8805 (Best: 0.8843)\n",
      "Patience: 6/50\n"
     ]
    },
    {
     "name": "stderr",
     "output_type": "stream",
     "text": [
      "Epoch 27/5000 (Training): 100%|██████████| 100/100 [01:16<00:00,  1.30it/s, loss=2.3383, acc=0.7233]\n"
     ]
    },
    {
     "name": "stdout",
     "output_type": "stream",
     "text": [
      "Avg Train Loss: 2.3393, Avg Train Acc: 0.7543 (Best)\n"
     ]
    },
    {
     "name": "stderr",
     "output_type": "stream",
     "text": [
      "Epoch 27/5000 (Validation): 100%|██████████| 100/100 [00:20<00:00,  4.85it/s, loss=1.0479, acc=0.8533]\n"
     ]
    },
    {
     "name": "stdout",
     "output_type": "stream",
     "text": [
      "Avg Val Loss: 1.0786, Avg Val Acc: 0.8812 (Best: 0.8843)\n",
      "Patience: 7/50\n"
     ]
    },
    {
     "name": "stderr",
     "output_type": "stream",
     "text": [
      "Epoch 28/5000 (Training): 100%|██████████| 100/100 [01:23<00:00,  1.19it/s, loss=2.2105, acc=0.8533]\n"
     ]
    },
    {
     "name": "stdout",
     "output_type": "stream",
     "text": [
      "Avg Train Loss: 2.3365, Avg Train Acc: 0.7558 (Best)\n"
     ]
    },
    {
     "name": "stderr",
     "output_type": "stream",
     "text": [
      "Epoch 28/5000 (Validation): 100%|██████████| 100/100 [00:24<00:00,  4.09it/s, loss=1.0122, acc=0.9600]\n"
     ]
    },
    {
     "name": "stdout",
     "output_type": "stream",
     "text": [
      "Avg Val Loss: 1.0763, Avg Val Acc: 0.8827 (Best: 0.8843)\n",
      "Patience: 8/50\n"
     ]
    },
    {
     "name": "stderr",
     "output_type": "stream",
     "text": [
      "Epoch 29/5000 (Training): 100%|██████████| 100/100 [01:23<00:00,  1.19it/s, loss=2.3084, acc=0.7367]\n"
     ]
    },
    {
     "name": "stdout",
     "output_type": "stream",
     "text": [
      "Avg Train Loss: 2.3339, Avg Train Acc: 0.7570 (Best)\n"
     ]
    },
    {
     "name": "stderr",
     "output_type": "stream",
     "text": [
      "Epoch 29/5000 (Validation): 100%|██████████| 100/100 [00:22<00:00,  4.40it/s, loss=1.1267, acc=0.9600]\n"
     ]
    },
    {
     "name": "stdout",
     "output_type": "stream",
     "text": [
      "Avg Val Loss: 1.0739, Avg Val Acc: 0.8845 (Best)\n",
      "Patience: 0/50\n"
     ]
    },
    {
     "name": "stderr",
     "output_type": "stream",
     "text": [
      "Epoch 30/5000 (Training): 100%|██████████| 100/100 [01:16<00:00,  1.31it/s, loss=2.3055, acc=0.6500]\n"
     ]
    },
    {
     "name": "stdout",
     "output_type": "stream",
     "text": [
      "Avg Train Loss: 2.3315, Avg Train Acc: 0.7581 (Best)\n"
     ]
    },
    {
     "name": "stderr",
     "output_type": "stream",
     "text": [
      "Epoch 30/5000 (Validation): 100%|██████████| 100/100 [00:22<00:00,  4.36it/s, loss=0.9557, acc=0.9867]\n"
     ]
    },
    {
     "name": "stdout",
     "output_type": "stream",
     "text": [
      "Avg Val Loss: 1.0725, Avg Val Acc: 0.8853 (Best)\n",
      "Patience: 0/50\n"
     ]
    },
    {
     "name": "stderr",
     "output_type": "stream",
     "text": [
      "Epoch 31/5000 (Training): 100%|██████████| 100/100 [01:21<00:00,  1.23it/s, loss=2.2077, acc=0.7033]\n"
     ]
    },
    {
     "name": "stdout",
     "output_type": "stream",
     "text": [
      "Avg Train Loss: 2.3294, Avg Train Acc: 0.7581 (Best)\n"
     ]
    },
    {
     "name": "stderr",
     "output_type": "stream",
     "text": [
      "Epoch 31/5000 (Validation): 100%|██████████| 100/100 [00:22<00:00,  4.43it/s, loss=1.1090, acc=1.0000]\n"
     ]
    },
    {
     "name": "stdout",
     "output_type": "stream",
     "text": [
      "Avg Val Loss: 1.0710, Avg Val Acc: 0.8852 (Best: 0.8853)\n",
      "Patience: 1/50\n"
     ]
    },
    {
     "name": "stderr",
     "output_type": "stream",
     "text": [
      "Epoch 32/5000 (Training): 100%|██████████| 100/100 [01:19<00:00,  1.25it/s, loss=2.2428, acc=0.8033]\n"
     ]
    },
    {
     "name": "stdout",
     "output_type": "stream",
     "text": [
      "Avg Train Loss: 2.3272, Avg Train Acc: 0.7588 (Best)\n"
     ]
    },
    {
     "name": "stderr",
     "output_type": "stream",
     "text": [
      "Epoch 32/5000 (Validation): 100%|██████████| 100/100 [00:19<00:00,  5.04it/s, loss=1.1246, acc=0.8400]\n"
     ]
    },
    {
     "name": "stdout",
     "output_type": "stream",
     "text": [
      "Avg Val Loss: 1.0696, Avg Val Acc: 0.8858 (Best)\n",
      "Patience: 0/50\n"
     ]
    },
    {
     "name": "stderr",
     "output_type": "stream",
     "text": [
      "Epoch 33/5000 (Training): 100%|██████████| 100/100 [01:15<00:00,  1.33it/s, loss=2.2225, acc=0.8967]\n"
     ]
    },
    {
     "name": "stdout",
     "output_type": "stream",
     "text": [
      "Avg Train Loss: 2.3249, Avg Train Acc: 0.7595 (Best)\n"
     ]
    },
    {
     "name": "stderr",
     "output_type": "stream",
     "text": [
      "Epoch 33/5000 (Validation): 100%|██████████| 100/100 [00:21<00:00,  4.61it/s, loss=0.9248, acc=1.0000]\n"
     ]
    },
    {
     "name": "stdout",
     "output_type": "stream",
     "text": [
      "Avg Val Loss: 1.0678, Avg Val Acc: 0.8866 (Best)\n",
      "Patience: 0/50\n"
     ]
    },
    {
     "name": "stderr",
     "output_type": "stream",
     "text": [
      "Epoch 34/5000 (Training): 100%|██████████| 100/100 [01:25<00:00,  1.17it/s, loss=2.3232, acc=0.7133]\n"
     ]
    },
    {
     "name": "stdout",
     "output_type": "stream",
     "text": [
      "Avg Train Loss: 2.3230, Avg Train Acc: 0.7594 (Best: 0.7595)\n"
     ]
    },
    {
     "name": "stderr",
     "output_type": "stream",
     "text": [
      "Epoch 34/5000 (Validation): 100%|██████████| 100/100 [00:21<00:00,  4.66it/s, loss=0.9301, acc=1.0000]\n"
     ]
    },
    {
     "name": "stdout",
     "output_type": "stream",
     "text": [
      "Avg Val Loss: 1.0672, Avg Val Acc: 0.8857 (Best: 0.8866)\n",
      "Patience: 1/50\n"
     ]
    },
    {
     "name": "stderr",
     "output_type": "stream",
     "text": [
      "Epoch 35/5000 (Training): 100%|██████████| 100/100 [01:20<00:00,  1.24it/s, loss=2.2742, acc=0.6867]\n"
     ]
    },
    {
     "name": "stdout",
     "output_type": "stream",
     "text": [
      "Avg Train Loss: 2.3214, Avg Train Acc: 0.7594 (Best: 0.7595)\n"
     ]
    },
    {
     "name": "stderr",
     "output_type": "stream",
     "text": [
      "Epoch 35/5000 (Validation): 100%|██████████| 100/100 [00:20<00:00,  4.81it/s, loss=1.0961, acc=0.8400]\n"
     ]
    },
    {
     "name": "stdout",
     "output_type": "stream",
     "text": [
      "Avg Val Loss: 1.0662, Avg Val Acc: 0.8856 (Best: 0.8866)\n",
      "Patience: 2/50\n"
     ]
    },
    {
     "name": "stderr",
     "output_type": "stream",
     "text": [
      "Epoch 36/5000 (Training): 100%|██████████| 100/100 [01:22<00:00,  1.21it/s, loss=2.2546, acc=0.8700]\n"
     ]
    },
    {
     "name": "stdout",
     "output_type": "stream",
     "text": [
      "Avg Train Loss: 2.3198, Avg Train Acc: 0.7593 (Best: 0.7595)\n"
     ]
    },
    {
     "name": "stderr",
     "output_type": "stream",
     "text": [
      "Epoch 36/5000 (Validation): 100%|██████████| 100/100 [00:21<00:00,  4.57it/s, loss=1.0039, acc=0.9600]\n"
     ]
    },
    {
     "name": "stdout",
     "output_type": "stream",
     "text": [
      "Avg Val Loss: 1.0650, Avg Val Acc: 0.8857 (Best: 0.8866)\n",
      "Patience: 3/50\n"
     ]
    },
    {
     "name": "stderr",
     "output_type": "stream",
     "text": [
      "Epoch 37/5000 (Training): 100%|██████████| 100/100 [01:18<00:00,  1.28it/s, loss=2.3870, acc=0.6867]\n"
     ]
    },
    {
     "name": "stdout",
     "output_type": "stream",
     "text": [
      "Avg Train Loss: 2.3186, Avg Train Acc: 0.7591 (Best: 0.7595)\n"
     ]
    },
    {
     "name": "stderr",
     "output_type": "stream",
     "text": [
      "Epoch 37/5000 (Validation): 100%|██████████| 100/100 [00:22<00:00,  4.49it/s, loss=0.9429, acc=0.9467]\n"
     ]
    },
    {
     "name": "stdout",
     "output_type": "stream",
     "text": [
      "Avg Val Loss: 1.0647, Avg Val Acc: 0.8848 (Best: 0.8866)\n",
      "Patience: 4/50\n"
     ]
    },
    {
     "name": "stderr",
     "output_type": "stream",
     "text": [
      "Epoch 38/5000 (Training): 100%|██████████| 100/100 [01:26<00:00,  1.16it/s, loss=2.2189, acc=0.8767]\n"
     ]
    },
    {
     "name": "stdout",
     "output_type": "stream",
     "text": [
      "Avg Train Loss: 2.3167, Avg Train Acc: 0.7598 (Best)\n"
     ]
    },
    {
     "name": "stderr",
     "output_type": "stream",
     "text": [
      "Epoch 38/5000 (Validation): 100%|██████████| 100/100 [00:21<00:00,  4.56it/s, loss=1.0484, acc=0.8000]\n"
     ]
    },
    {
     "name": "stdout",
     "output_type": "stream",
     "text": [
      "Avg Val Loss: 1.0633, Avg Val Acc: 0.8856 (Best: 0.8866)\n",
      "Patience: 5/50\n"
     ]
    },
    {
     "name": "stderr",
     "output_type": "stream",
     "text": [
      "Epoch 39/5000 (Training): 100%|██████████| 100/100 [01:22<00:00,  1.21it/s, loss=2.2871, acc=0.8100]\n"
     ]
    },
    {
     "name": "stdout",
     "output_type": "stream",
     "text": [
      "Avg Train Loss: 2.3150, Avg Train Acc: 0.7601 (Best)\n"
     ]
    },
    {
     "name": "stderr",
     "output_type": "stream",
     "text": [
      "Epoch 39/5000 (Validation): 100%|██████████| 100/100 [00:24<00:00,  4.16it/s, loss=0.9070, acc=1.0000]\n"
     ]
    },
    {
     "name": "stdout",
     "output_type": "stream",
     "text": [
      "Avg Val Loss: 1.0627, Avg Val Acc: 0.8852 (Best: 0.8866)\n",
      "Patience: 6/50\n"
     ]
    },
    {
     "name": "stderr",
     "output_type": "stream",
     "text": [
      "Epoch 40/5000 (Training): 100%|██████████| 100/100 [01:22<00:00,  1.21it/s, loss=2.1975, acc=0.7767]\n"
     ]
    },
    {
     "name": "stdout",
     "output_type": "stream",
     "text": [
      "Avg Train Loss: 2.3135, Avg Train Acc: 0.7600 (Best: 0.7601)\n"
     ]
    },
    {
     "name": "stderr",
     "output_type": "stream",
     "text": [
      "Epoch 40/5000 (Validation): 100%|██████████| 100/100 [00:22<00:00,  4.44it/s, loss=0.9757, acc=0.9600]\n"
     ]
    },
    {
     "name": "stdout",
     "output_type": "stream",
     "text": [
      "Avg Val Loss: 1.0620, Avg Val Acc: 0.8844 (Best: 0.8866)\n",
      "Patience: 7/50\n"
     ]
    },
    {
     "name": "stderr",
     "output_type": "stream",
     "text": [
      "Epoch 41/5000 (Training): 100%|██████████| 100/100 [01:24<00:00,  1.18it/s, loss=2.3024, acc=0.7967]\n"
     ]
    },
    {
     "name": "stdout",
     "output_type": "stream",
     "text": [
      "Avg Train Loss: 2.3121, Avg Train Acc: 0.7599 (Best: 0.7601)\n"
     ]
    },
    {
     "name": "stderr",
     "output_type": "stream",
     "text": [
      "Epoch 41/5000 (Validation): 100%|██████████| 100/100 [00:23<00:00,  4.22it/s, loss=0.9132, acc=1.0000]\n"
     ]
    },
    {
     "name": "stdout",
     "output_type": "stream",
     "text": [
      "Avg Val Loss: 1.0612, Avg Val Acc: 0.8841 (Best: 0.8866)\n",
      "Patience: 8/50\n"
     ]
    },
    {
     "name": "stderr",
     "output_type": "stream",
     "text": [
      "Epoch 42/5000 (Training): 100%|██████████| 100/100 [01:26<00:00,  1.16it/s, loss=2.2856, acc=0.7000]\n"
     ]
    },
    {
     "name": "stdout",
     "output_type": "stream",
     "text": [
      "Avg Train Loss: 2.3107, Avg Train Acc: 0.7596 (Best: 0.7601)\n"
     ]
    },
    {
     "name": "stderr",
     "output_type": "stream",
     "text": [
      "Epoch 42/5000 (Validation): 100%|██████████| 100/100 [00:22<00:00,  4.51it/s, loss=1.0827, acc=0.9200]\n"
     ]
    },
    {
     "name": "stdout",
     "output_type": "stream",
     "text": [
      "Avg Val Loss: 1.0608, Avg Val Acc: 0.8833 (Best: 0.8866)\n",
      "Patience: 9/50\n"
     ]
    },
    {
     "name": "stderr",
     "output_type": "stream",
     "text": [
      "Epoch 43/5000 (Training): 100%|██████████| 100/100 [01:11<00:00,  1.39it/s, loss=2.2607, acc=0.7567]\n"
     ]
    },
    {
     "name": "stdout",
     "output_type": "stream",
     "text": [
      "Avg Train Loss: 2.3095, Avg Train Acc: 0.7592 (Best: 0.7601)\n"
     ]
    },
    {
     "name": "stderr",
     "output_type": "stream",
     "text": [
      "Epoch 43/5000 (Validation): 100%|██████████| 100/100 [00:21<00:00,  4.62it/s, loss=0.9333, acc=1.0000]\n"
     ]
    },
    {
     "name": "stdout",
     "output_type": "stream",
     "text": [
      "Avg Val Loss: 1.0606, Avg Val Acc: 0.8825 (Best: 0.8866)\n",
      "Patience: 10/50\n"
     ]
    },
    {
     "name": "stderr",
     "output_type": "stream",
     "text": [
      "Epoch 44/5000 (Training): 100%|██████████| 100/100 [01:18<00:00,  1.27it/s, loss=2.2659, acc=0.7133]\n"
     ]
    },
    {
     "name": "stdout",
     "output_type": "stream",
     "text": [
      "Avg Train Loss: 2.3086, Avg Train Acc: 0.7589 (Best: 0.7601)\n"
     ]
    },
    {
     "name": "stderr",
     "output_type": "stream",
     "text": [
      "Epoch 44/5000 (Validation): 100%|██████████| 100/100 [00:22<00:00,  4.52it/s, loss=0.9709, acc=0.9467]\n"
     ]
    },
    {
     "name": "stdout",
     "output_type": "stream",
     "text": [
      "Avg Val Loss: 1.0603, Avg Val Acc: 0.8817 (Best: 0.8866)\n",
      "Patience: 11/50\n"
     ]
    },
    {
     "name": "stderr",
     "output_type": "stream",
     "text": [
      "Epoch 45/5000 (Training): 100%|██████████| 100/100 [01:17<00:00,  1.30it/s, loss=2.3019, acc=0.6967]\n"
     ]
    },
    {
     "name": "stdout",
     "output_type": "stream",
     "text": [
      "Avg Train Loss: 2.3077, Avg Train Acc: 0.7585 (Best: 0.7601)\n"
     ]
    },
    {
     "name": "stderr",
     "output_type": "stream",
     "text": [
      "Epoch 45/5000 (Validation): 100%|██████████| 100/100 [00:20<00:00,  4.84it/s, loss=1.1165, acc=0.9600]\n"
     ]
    },
    {
     "name": "stdout",
     "output_type": "stream",
     "text": [
      "Avg Val Loss: 1.0597, Avg Val Acc: 0.8813 (Best: 0.8866)\n",
      "Patience: 12/50\n"
     ]
    },
    {
     "name": "stderr",
     "output_type": "stream",
     "text": [
      "Epoch 46/5000 (Training): 100%|██████████| 100/100 [01:18<00:00,  1.27it/s, loss=2.2906, acc=0.7433]\n"
     ]
    },
    {
     "name": "stdout",
     "output_type": "stream",
     "text": [
      "Avg Train Loss: 2.3066, Avg Train Acc: 0.7582 (Best: 0.7601)\n"
     ]
    },
    {
     "name": "stderr",
     "output_type": "stream",
     "text": [
      "Epoch 46/5000 (Validation): 100%|██████████| 100/100 [00:22<00:00,  4.45it/s, loss=0.9699, acc=1.0000]\n"
     ]
    },
    {
     "name": "stdout",
     "output_type": "stream",
     "text": [
      "Avg Val Loss: 1.0591, Avg Val Acc: 0.8811 (Best: 0.8866)\n",
      "Patience: 13/50\n"
     ]
    },
    {
     "name": "stderr",
     "output_type": "stream",
     "text": [
      "Epoch 47/5000 (Training): 100%|██████████| 100/100 [01:20<00:00,  1.24it/s, loss=2.1966, acc=0.8000]\n"
     ]
    },
    {
     "name": "stdout",
     "output_type": "stream",
     "text": [
      "Avg Train Loss: 2.3056, Avg Train Acc: 0.7582 (Best: 0.7601)\n"
     ]
    },
    {
     "name": "stderr",
     "output_type": "stream",
     "text": [
      "Epoch 47/5000 (Validation): 100%|██████████| 100/100 [00:22<00:00,  4.45it/s, loss=1.2690, acc=0.6000]\n"
     ]
    },
    {
     "name": "stdout",
     "output_type": "stream",
     "text": [
      "Avg Val Loss: 1.0589, Avg Val Acc: 0.8805 (Best: 0.8866)\n",
      "Patience: 14/50\n"
     ]
    },
    {
     "name": "stderr",
     "output_type": "stream",
     "text": [
      "Epoch 48/5000 (Training): 100%|██████████| 100/100 [01:21<00:00,  1.22it/s, loss=2.2142, acc=0.6867]\n"
     ]
    },
    {
     "name": "stdout",
     "output_type": "stream",
     "text": [
      "Avg Train Loss: 2.3046, Avg Train Acc: 0.7581 (Best: 0.7601)\n"
     ]
    },
    {
     "name": "stderr",
     "output_type": "stream",
     "text": [
      "Epoch 48/5000 (Validation): 100%|██████████| 100/100 [00:22<00:00,  4.42it/s, loss=0.9526, acc=0.9867]\n"
     ]
    },
    {
     "name": "stdout",
     "output_type": "stream",
     "text": [
      "Avg Val Loss: 1.0583, Avg Val Acc: 0.8804 (Best: 0.8866)\n",
      "Patience: 15/50\n"
     ]
    },
    {
     "name": "stderr",
     "output_type": "stream",
     "text": [
      "Epoch 49/5000 (Training): 100%|██████████| 100/100 [01:23<00:00,  1.20it/s, loss=2.3145, acc=0.6133]\n"
     ]
    },
    {
     "name": "stdout",
     "output_type": "stream",
     "text": [
      "Avg Train Loss: 2.3036, Avg Train Acc: 0.7579 (Best: 0.7601)\n"
     ]
    },
    {
     "name": "stderr",
     "output_type": "stream",
     "text": [
      "Epoch 49/5000 (Validation): 100%|██████████| 100/100 [00:23<00:00,  4.28it/s, loss=1.0482, acc=0.8400]\n"
     ]
    },
    {
     "name": "stdout",
     "output_type": "stream",
     "text": [
      "Avg Val Loss: 1.0580, Avg Val Acc: 0.8799 (Best: 0.8866)\n",
      "Patience: 16/50\n"
     ]
    },
    {
     "name": "stderr",
     "output_type": "stream",
     "text": [
      "Epoch 50/5000 (Training): 100%|██████████| 100/100 [01:19<00:00,  1.25it/s, loss=2.3091, acc=0.7433]\n"
     ]
    },
    {
     "name": "stdout",
     "output_type": "stream",
     "text": [
      "Avg Train Loss: 2.3027, Avg Train Acc: 0.7579 (Best: 0.7601)\n"
     ]
    },
    {
     "name": "stderr",
     "output_type": "stream",
     "text": [
      "Epoch 50/5000 (Validation): 100%|██████████| 100/100 [00:21<00:00,  4.69it/s, loss=1.1157, acc=0.6800]\n"
     ]
    },
    {
     "name": "stdout",
     "output_type": "stream",
     "text": [
      "Avg Val Loss: 1.0572, Avg Val Acc: 0.8800 (Best: 0.8866)\n",
      "Patience: 17/50\n"
     ]
    },
    {
     "name": "stderr",
     "output_type": "stream",
     "text": [
      "Epoch 51/5000 (Training): 100%|██████████| 100/100 [01:22<00:00,  1.21it/s, loss=2.2656, acc=0.7200]\n"
     ]
    },
    {
     "name": "stdout",
     "output_type": "stream",
     "text": [
      "Avg Train Loss: 2.3017, Avg Train Acc: 0.7577 (Best: 0.7601)\n"
     ]
    },
    {
     "name": "stderr",
     "output_type": "stream",
     "text": [
      "Epoch 51/5000 (Validation): 100%|██████████| 100/100 [00:22<00:00,  4.55it/s, loss=1.0699, acc=0.8267]\n"
     ]
    },
    {
     "name": "stdout",
     "output_type": "stream",
     "text": [
      "Avg Val Loss: 1.0566, Avg Val Acc: 0.8798 (Best: 0.8866)\n",
      "Patience: 18/50\n"
     ]
    },
    {
     "name": "stderr",
     "output_type": "stream",
     "text": [
      "Epoch 52/5000 (Training): 100%|██████████| 100/100 [01:17<00:00,  1.28it/s, loss=2.2416, acc=0.8533]\n"
     ]
    },
    {
     "name": "stdout",
     "output_type": "stream",
     "text": [
      "Avg Train Loss: 2.3008, Avg Train Acc: 0.7578 (Best: 0.7601)\n"
     ]
    },
    {
     "name": "stderr",
     "output_type": "stream",
     "text": [
      "Epoch 52/5000 (Validation): 100%|██████████| 100/100 [00:19<00:00,  5.02it/s, loss=0.9816, acc=0.9733]\n"
     ]
    },
    {
     "name": "stdout",
     "output_type": "stream",
     "text": [
      "Avg Val Loss: 1.0560, Avg Val Acc: 0.8797 (Best: 0.8866)\n",
      "Patience: 19/50\n"
     ]
    },
    {
     "name": "stderr",
     "output_type": "stream",
     "text": [
      "Epoch 53/5000 (Training): 100%|██████████| 100/100 [01:29<00:00,  1.12it/s, loss=2.2073, acc=0.8333]\n"
     ]
    },
    {
     "name": "stdout",
     "output_type": "stream",
     "text": [
      "Avg Train Loss: 2.3001, Avg Train Acc: 0.7575 (Best: 0.7601)\n"
     ]
    },
    {
     "name": "stderr",
     "output_type": "stream",
     "text": [
      "Epoch 53/5000 (Validation): 100%|██████████| 100/100 [00:23<00:00,  4.19it/s, loss=1.1974, acc=0.7867]\n"
     ]
    },
    {
     "name": "stdout",
     "output_type": "stream",
     "text": [
      "Avg Val Loss: 1.0559, Avg Val Acc: 0.8790 (Best: 0.8866)\n",
      "Patience: 20/50\n"
     ]
    },
    {
     "name": "stderr",
     "output_type": "stream",
     "text": [
      "Epoch 54/5000 (Training): 100%|██████████| 100/100 [01:21<00:00,  1.23it/s, loss=2.2168, acc=0.7733]\n"
     ]
    },
    {
     "name": "stdout",
     "output_type": "stream",
     "text": [
      "Avg Train Loss: 2.2994, Avg Train Acc: 0.7571 (Best: 0.7601)\n"
     ]
    },
    {
     "name": "stderr",
     "output_type": "stream",
     "text": [
      "Epoch 54/5000 (Validation): 100%|██████████| 100/100 [00:21<00:00,  4.71it/s, loss=1.1155, acc=0.9467]\n"
     ]
    },
    {
     "name": "stdout",
     "output_type": "stream",
     "text": [
      "Avg Val Loss: 1.0557, Avg Val Acc: 0.8788 (Best: 0.8866)\n",
      "Patience: 21/50\n"
     ]
    },
    {
     "name": "stderr",
     "output_type": "stream",
     "text": [
      "Epoch 55/5000 (Training): 100%|██████████| 100/100 [01:21<00:00,  1.22it/s, loss=2.1863, acc=0.8233]\n"
     ]
    },
    {
     "name": "stdout",
     "output_type": "stream",
     "text": [
      "Avg Train Loss: 2.2987, Avg Train Acc: 0.7570 (Best: 0.7601)\n"
     ]
    },
    {
     "name": "stderr",
     "output_type": "stream",
     "text": [
      "Epoch 55/5000 (Validation): 100%|██████████| 100/100 [00:23<00:00,  4.34it/s, loss=1.1670, acc=0.7200]\n"
     ]
    },
    {
     "name": "stdout",
     "output_type": "stream",
     "text": [
      "Avg Val Loss: 1.0553, Avg Val Acc: 0.8791 (Best: 0.8866)\n",
      "Patience: 22/50\n"
     ]
    },
    {
     "name": "stderr",
     "output_type": "stream",
     "text": [
      "Epoch 56/5000 (Training): 100%|██████████| 100/100 [01:18<00:00,  1.28it/s, loss=2.1990, acc=0.8533]\n"
     ]
    },
    {
     "name": "stdout",
     "output_type": "stream",
     "text": [
      "Avg Train Loss: 2.2975, Avg Train Acc: 0.7578 (Best: 0.7601)\n"
     ]
    },
    {
     "name": "stderr",
     "output_type": "stream",
     "text": [
      "Epoch 56/5000 (Validation): 100%|██████████| 100/100 [00:17<00:00,  5.66it/s, loss=0.9410, acc=0.9600]\n"
     ]
    },
    {
     "name": "stdout",
     "output_type": "stream",
     "text": [
      "Avg Val Loss: 1.0545, Avg Val Acc: 0.8795 (Best: 0.8866)\n",
      "Patience: 23/50\n"
     ]
    },
    {
     "name": "stderr",
     "output_type": "stream",
     "text": [
      "Epoch 57/5000 (Training): 100%|██████████| 100/100 [01:21<00:00,  1.23it/s, loss=2.2095, acc=0.7767]\n"
     ]
    },
    {
     "name": "stdout",
     "output_type": "stream",
     "text": [
      "Avg Train Loss: 2.2965, Avg Train Acc: 0.7581 (Best: 0.7601)\n"
     ]
    },
    {
     "name": "stderr",
     "output_type": "stream",
     "text": [
      "Epoch 57/5000 (Validation): 100%|██████████| 100/100 [00:21<00:00,  4.63it/s, loss=1.0682, acc=0.8400]\n"
     ]
    },
    {
     "name": "stdout",
     "output_type": "stream",
     "text": [
      "Avg Val Loss: 1.0540, Avg Val Acc: 0.8796 (Best: 0.8866)\n",
      "Patience: 24/50\n"
     ]
    },
    {
     "name": "stderr",
     "output_type": "stream",
     "text": [
      "Epoch 58/5000 (Training): 100%|██████████| 100/100 [01:18<00:00,  1.28it/s, loss=2.1791, acc=0.7667]\n"
     ]
    },
    {
     "name": "stdout",
     "output_type": "stream",
     "text": [
      "Avg Train Loss: 2.2956, Avg Train Acc: 0.7584 (Best: 0.7601)\n"
     ]
    },
    {
     "name": "stderr",
     "output_type": "stream",
     "text": [
      "Epoch 58/5000 (Validation): 100%|██████████| 100/100 [00:23<00:00,  4.25it/s, loss=0.9484, acc=0.9733]\n"
     ]
    },
    {
     "name": "stdout",
     "output_type": "stream",
     "text": [
      "Avg Val Loss: 1.0534, Avg Val Acc: 0.8798 (Best: 0.8866)\n",
      "Patience: 25/50\n"
     ]
    },
    {
     "name": "stderr",
     "output_type": "stream",
     "text": [
      "Epoch 59/5000 (Training): 100%|██████████| 100/100 [01:22<00:00,  1.22it/s, loss=2.2786, acc=0.7067]\n"
     ]
    },
    {
     "name": "stdout",
     "output_type": "stream",
     "text": [
      "Avg Train Loss: 2.2948, Avg Train Acc: 0.7585 (Best: 0.7601)\n"
     ]
    },
    {
     "name": "stderr",
     "output_type": "stream",
     "text": [
      "Epoch 59/5000 (Validation): 100%|██████████| 100/100 [00:21<00:00,  4.58it/s, loss=1.0193, acc=0.7867]\n"
     ]
    },
    {
     "name": "stdout",
     "output_type": "stream",
     "text": [
      "Avg Val Loss: 1.0531, Avg Val Acc: 0.8799 (Best: 0.8866)\n",
      "Patience: 26/50\n"
     ]
    },
    {
     "name": "stderr",
     "output_type": "stream",
     "text": [
      "Epoch 60/5000 (Training): 100%|██████████| 100/100 [01:28<00:00,  1.13it/s, loss=2.2468, acc=0.7600]\n"
     ]
    },
    {
     "name": "stdout",
     "output_type": "stream",
     "text": [
      "Avg Train Loss: 2.2940, Avg Train Acc: 0.7586 (Best: 0.7601)\n"
     ]
    },
    {
     "name": "stderr",
     "output_type": "stream",
     "text": [
      "Epoch 60/5000 (Validation): 100%|██████████| 100/100 [00:25<00:00,  3.92it/s, loss=1.0308, acc=0.8933]\n"
     ]
    },
    {
     "name": "stdout",
     "output_type": "stream",
     "text": [
      "Avg Val Loss: 1.0524, Avg Val Acc: 0.8804 (Best: 0.8866)\n",
      "Patience: 27/50\n"
     ]
    },
    {
     "name": "stderr",
     "output_type": "stream",
     "text": [
      "Epoch 61/5000 (Training): 100%|██████████| 100/100 [01:29<00:00,  1.12it/s, loss=2.2235, acc=0.7667]\n"
     ]
    },
    {
     "name": "stdout",
     "output_type": "stream",
     "text": [
      "Avg Train Loss: 2.2932, Avg Train Acc: 0.7585 (Best: 0.7601)\n"
     ]
    },
    {
     "name": "stderr",
     "output_type": "stream",
     "text": [
      "Epoch 61/5000 (Validation): 100%|██████████| 100/100 [00:21<00:00,  4.63it/s, loss=1.0966, acc=0.8133]\n"
     ]
    },
    {
     "name": "stdout",
     "output_type": "stream",
     "text": [
      "Avg Val Loss: 1.0521, Avg Val Acc: 0.8803 (Best: 0.8866)\n",
      "Patience: 28/50\n"
     ]
    },
    {
     "name": "stderr",
     "output_type": "stream",
     "text": [
      "Epoch 62/5000 (Training): 100%|██████████| 100/100 [01:22<00:00,  1.22it/s, loss=2.2607, acc=0.7067]\n"
     ]
    },
    {
     "name": "stdout",
     "output_type": "stream",
     "text": [
      "Avg Train Loss: 2.2925, Avg Train Acc: 0.7586 (Best: 0.7601)\n"
     ]
    },
    {
     "name": "stderr",
     "output_type": "stream",
     "text": [
      "Epoch 62/5000 (Validation): 100%|██████████| 100/100 [00:20<00:00,  4.85it/s, loss=1.0239, acc=0.9600]\n"
     ]
    },
    {
     "name": "stdout",
     "output_type": "stream",
     "text": [
      "Avg Val Loss: 1.0517, Avg Val Acc: 0.8803 (Best: 0.8866)\n",
      "Patience: 29/50\n"
     ]
    },
    {
     "name": "stderr",
     "output_type": "stream",
     "text": [
      "Epoch 63/5000 (Training): 100%|██████████| 100/100 [01:18<00:00,  1.27it/s, loss=2.1998, acc=0.8600]\n"
     ]
    },
    {
     "name": "stdout",
     "output_type": "stream",
     "text": [
      "Avg Train Loss: 2.2917, Avg Train Acc: 0.7586 (Best: 0.7601)\n"
     ]
    },
    {
     "name": "stderr",
     "output_type": "stream",
     "text": [
      "Epoch 63/5000 (Validation): 100%|██████████| 100/100 [00:20<00:00,  4.87it/s, loss=1.1034, acc=0.9467]\n"
     ]
    },
    {
     "name": "stdout",
     "output_type": "stream",
     "text": [
      "Avg Val Loss: 1.0516, Avg Val Acc: 0.8799 (Best: 0.8866)\n",
      "Patience: 30/50\n"
     ]
    },
    {
     "name": "stderr",
     "output_type": "stream",
     "text": [
      "Epoch 64/5000 (Training): 100%|██████████| 100/100 [01:22<00:00,  1.22it/s, loss=2.2082, acc=0.8400]\n"
     ]
    },
    {
     "name": "stdout",
     "output_type": "stream",
     "text": [
      "Avg Train Loss: 2.2910, Avg Train Acc: 0.7586 (Best: 0.7601)\n"
     ]
    },
    {
     "name": "stderr",
     "output_type": "stream",
     "text": [
      "Epoch 64/5000 (Validation): 100%|██████████| 100/100 [00:20<00:00,  4.92it/s, loss=0.9257, acc=0.9733]\n"
     ]
    },
    {
     "name": "stdout",
     "output_type": "stream",
     "text": [
      "Avg Val Loss: 1.0510, Avg Val Acc: 0.8801 (Best: 0.8866)\n",
      "Patience: 31/50\n"
     ]
    },
    {
     "name": "stderr",
     "output_type": "stream",
     "text": [
      "Epoch 65/5000 (Training): 100%|██████████| 100/100 [01:19<00:00,  1.26it/s, loss=2.3167, acc=0.8133]\n"
     ]
    },
    {
     "name": "stdout",
     "output_type": "stream",
     "text": [
      "Avg Train Loss: 2.2903, Avg Train Acc: 0.7588 (Best: 0.7601)\n"
     ]
    },
    {
     "name": "stderr",
     "output_type": "stream",
     "text": [
      "Epoch 65/5000 (Validation): 100%|██████████| 100/100 [00:21<00:00,  4.57it/s, loss=1.1589, acc=0.8000]\n"
     ]
    },
    {
     "name": "stdout",
     "output_type": "stream",
     "text": [
      "Avg Val Loss: 1.0508, Avg Val Acc: 0.8797 (Best: 0.8866)\n",
      "Patience: 32/50\n"
     ]
    },
    {
     "name": "stderr",
     "output_type": "stream",
     "text": [
      "Epoch 66/5000 (Training): 100%|██████████| 100/100 [01:24<00:00,  1.19it/s, loss=2.2888, acc=0.6933]\n"
     ]
    },
    {
     "name": "stdout",
     "output_type": "stream",
     "text": [
      "Avg Train Loss: 2.2897, Avg Train Acc: 0.7584 (Best: 0.7601)\n"
     ]
    },
    {
     "name": "stderr",
     "output_type": "stream",
     "text": [
      "Epoch 66/5000 (Validation): 100%|██████████| 100/100 [00:25<00:00,  3.88it/s, loss=1.2141, acc=0.8400]\n"
     ]
    },
    {
     "name": "stdout",
     "output_type": "stream",
     "text": [
      "Avg Val Loss: 1.0503, Avg Val Acc: 0.8801 (Best: 0.8866)\n",
      "Patience: 33/50\n"
     ]
    },
    {
     "name": "stderr",
     "output_type": "stream",
     "text": [
      "Epoch 67/5000 (Training): 100%|██████████| 100/100 [01:24<00:00,  1.18it/s, loss=2.2001, acc=0.7533]\n"
     ]
    },
    {
     "name": "stdout",
     "output_type": "stream",
     "text": [
      "Avg Train Loss: 2.2892, Avg Train Acc: 0.7581 (Best: 0.7601)\n"
     ]
    },
    {
     "name": "stderr",
     "output_type": "stream",
     "text": [
      "Epoch 67/5000 (Validation): 100%|██████████| 100/100 [00:21<00:00,  4.69it/s, loss=1.0365, acc=0.7733]\n"
     ]
    },
    {
     "name": "stdout",
     "output_type": "stream",
     "text": [
      "Avg Val Loss: 1.0502, Avg Val Acc: 0.8799 (Best: 0.8866)\n",
      "Patience: 34/50\n"
     ]
    },
    {
     "name": "stderr",
     "output_type": "stream",
     "text": [
      "Epoch 68/5000 (Training): 100%|██████████| 100/100 [01:22<00:00,  1.21it/s, loss=2.2733, acc=0.7367]\n"
     ]
    },
    {
     "name": "stdout",
     "output_type": "stream",
     "text": [
      "Avg Train Loss: 2.2887, Avg Train Acc: 0.7580 (Best: 0.7601)\n"
     ]
    },
    {
     "name": "stderr",
     "output_type": "stream",
     "text": [
      "Epoch 68/5000 (Validation): 100%|██████████| 100/100 [00:23<00:00,  4.35it/s, loss=1.1958, acc=0.6267]\n"
     ]
    },
    {
     "name": "stdout",
     "output_type": "stream",
     "text": [
      "Avg Val Loss: 1.0500, Avg Val Acc: 0.8797 (Best: 0.8866)\n",
      "Patience: 35/50\n"
     ]
    },
    {
     "name": "stderr",
     "output_type": "stream",
     "text": [
      "Epoch 69/5000 (Training): 100%|██████████| 100/100 [01:20<00:00,  1.24it/s, loss=2.2185, acc=0.8700]\n"
     ]
    },
    {
     "name": "stdout",
     "output_type": "stream",
     "text": [
      "Avg Train Loss: 2.2881, Avg Train Acc: 0.7580 (Best: 0.7601)\n"
     ]
    },
    {
     "name": "stderr",
     "output_type": "stream",
     "text": [
      "Epoch 69/5000 (Validation): 100%|██████████| 100/100 [00:21<00:00,  4.65it/s, loss=0.9881, acc=1.0000]\n"
     ]
    },
    {
     "name": "stdout",
     "output_type": "stream",
     "text": [
      "Avg Val Loss: 1.0497, Avg Val Acc: 0.8797 (Best: 0.8866)\n",
      "Patience: 36/50\n"
     ]
    },
    {
     "name": "stderr",
     "output_type": "stream",
     "text": [
      "Epoch 70/5000 (Training): 100%|██████████| 100/100 [01:23<00:00,  1.20it/s, loss=2.3035, acc=0.7067]\n"
     ]
    },
    {
     "name": "stdout",
     "output_type": "stream",
     "text": [
      "Avg Train Loss: 2.2876, Avg Train Acc: 0.7576 (Best: 0.7601)\n"
     ]
    },
    {
     "name": "stderr",
     "output_type": "stream",
     "text": [
      "Epoch 70/5000 (Validation): 100%|██████████| 100/100 [00:24<00:00,  4.01it/s, loss=1.0198, acc=0.7867]\n"
     ]
    },
    {
     "name": "stdout",
     "output_type": "stream",
     "text": [
      "Avg Val Loss: 1.0497, Avg Val Acc: 0.8795 (Best: 0.8866)\n",
      "Patience: 37/50\n"
     ]
    },
    {
     "name": "stderr",
     "output_type": "stream",
     "text": [
      "Epoch 71/5000 (Training): 100%|██████████| 100/100 [01:28<00:00,  1.13it/s, loss=2.2514, acc=0.8100]\n"
     ]
    },
    {
     "name": "stdout",
     "output_type": "stream",
     "text": [
      "Avg Train Loss: 2.2870, Avg Train Acc: 0.7576 (Best: 0.7601)\n"
     ]
    },
    {
     "name": "stderr",
     "output_type": "stream",
     "text": [
      "Epoch 71/5000 (Validation): 100%|██████████| 100/100 [00:21<00:00,  4.66it/s, loss=1.0466, acc=0.8000]\n"
     ]
    },
    {
     "name": "stdout",
     "output_type": "stream",
     "text": [
      "Avg Val Loss: 1.0495, Avg Val Acc: 0.8791 (Best: 0.8866)\n",
      "Patience: 38/50\n"
     ]
    },
    {
     "name": "stderr",
     "output_type": "stream",
     "text": [
      "Epoch 72/5000 (Training): 100%|██████████| 100/100 [01:19<00:00,  1.26it/s, loss=2.3609, acc=0.6233]\n"
     ]
    },
    {
     "name": "stdout",
     "output_type": "stream",
     "text": [
      "Avg Train Loss: 2.2865, Avg Train Acc: 0.7574 (Best: 0.7601)\n"
     ]
    },
    {
     "name": "stderr",
     "output_type": "stream",
     "text": [
      "Epoch 72/5000 (Validation): 100%|██████████| 100/100 [00:21<00:00,  4.59it/s, loss=0.9741, acc=0.9733]\n"
     ]
    },
    {
     "name": "stdout",
     "output_type": "stream",
     "text": [
      "Avg Val Loss: 1.0492, Avg Val Acc: 0.8790 (Best: 0.8866)\n",
      "Patience: 39/50\n"
     ]
    },
    {
     "name": "stderr",
     "output_type": "stream",
     "text": [
      "Epoch 73/5000 (Training): 100%|██████████| 100/100 [01:28<00:00,  1.13it/s, loss=2.2306, acc=0.7600]\n"
     ]
    },
    {
     "name": "stdout",
     "output_type": "stream",
     "text": [
      "Avg Train Loss: 2.2861, Avg Train Acc: 0.7573 (Best: 0.7601)\n"
     ]
    },
    {
     "name": "stderr",
     "output_type": "stream",
     "text": [
      "Epoch 73/5000 (Validation): 100%|██████████| 100/100 [00:22<00:00,  4.49it/s, loss=1.1086, acc=0.8267]\n"
     ]
    },
    {
     "name": "stdout",
     "output_type": "stream",
     "text": [
      "Avg Val Loss: 1.0492, Avg Val Acc: 0.8787 (Best: 0.8866)\n",
      "Patience: 40/50\n"
     ]
    },
    {
     "name": "stderr",
     "output_type": "stream",
     "text": [
      "Epoch 74/5000 (Training): 100%|██████████| 100/100 [01:25<00:00,  1.17it/s, loss=2.2080, acc=0.8000]\n"
     ]
    },
    {
     "name": "stdout",
     "output_type": "stream",
     "text": [
      "Avg Train Loss: 2.2855, Avg Train Acc: 0.7574 (Best: 0.7601)\n"
     ]
    },
    {
     "name": "stderr",
     "output_type": "stream",
     "text": [
      "Epoch 74/5000 (Validation): 100%|██████████| 100/100 [00:19<00:00,  5.09it/s, loss=1.0591, acc=0.8533]\n"
     ]
    },
    {
     "name": "stdout",
     "output_type": "stream",
     "text": [
      "Avg Val Loss: 1.0491, Avg Val Acc: 0.8783 (Best: 0.8866)\n",
      "Patience: 41/50\n"
     ]
    },
    {
     "name": "stderr",
     "output_type": "stream",
     "text": [
      "Epoch 75/5000 (Training): 100%|██████████| 100/100 [01:17<00:00,  1.29it/s, loss=2.2093, acc=0.7700]\n"
     ]
    },
    {
     "name": "stdout",
     "output_type": "stream",
     "text": [
      "Avg Train Loss: 2.2852, Avg Train Acc: 0.7571 (Best: 0.7601)\n"
     ]
    },
    {
     "name": "stderr",
     "output_type": "stream",
     "text": [
      "Epoch 75/5000 (Validation): 100%|██████████| 100/100 [00:24<00:00,  4.13it/s, loss=0.9447, acc=0.9600]\n"
     ]
    },
    {
     "name": "stdout",
     "output_type": "stream",
     "text": [
      "Avg Val Loss: 1.0489, Avg Val Acc: 0.8781 (Best: 0.8866)\n",
      "Patience: 42/50\n"
     ]
    },
    {
     "name": "stderr",
     "output_type": "stream",
     "text": [
      "Epoch 76/5000 (Training): 100%|██████████| 100/100 [01:21<00:00,  1.22it/s, loss=2.2767, acc=0.6567]\n"
     ]
    },
    {
     "name": "stdout",
     "output_type": "stream",
     "text": [
      "Avg Train Loss: 2.2847, Avg Train Acc: 0.7569 (Best: 0.7601)\n"
     ]
    },
    {
     "name": "stderr",
     "output_type": "stream",
     "text": [
      "Epoch 76/5000 (Validation): 100%|██████████| 100/100 [00:24<00:00,  4.10it/s, loss=1.0469, acc=0.8000]\n"
     ]
    },
    {
     "name": "stdout",
     "output_type": "stream",
     "text": [
      "Avg Val Loss: 1.0488, Avg Val Acc: 0.8779 (Best: 0.8866)\n",
      "Patience: 43/50\n"
     ]
    },
    {
     "name": "stderr",
     "output_type": "stream",
     "text": [
      "Epoch 77/5000 (Training): 100%|██████████| 100/100 [01:31<00:00,  1.09it/s, loss=2.2376, acc=0.7800]\n"
     ]
    },
    {
     "name": "stdout",
     "output_type": "stream",
     "text": [
      "Avg Train Loss: 2.2843, Avg Train Acc: 0.7567 (Best: 0.7601)\n"
     ]
    },
    {
     "name": "stderr",
     "output_type": "stream",
     "text": [
      "Epoch 77/5000 (Validation): 100%|██████████| 100/100 [00:20<00:00,  4.80it/s, loss=0.9257, acc=1.0000]\n"
     ]
    },
    {
     "name": "stdout",
     "output_type": "stream",
     "text": [
      "Avg Val Loss: 1.0486, Avg Val Acc: 0.8777 (Best: 0.8866)\n",
      "Patience: 44/50\n"
     ]
    },
    {
     "name": "stderr",
     "output_type": "stream",
     "text": [
      "Epoch 78/5000 (Training): 100%|██████████| 100/100 [01:30<00:00,  1.11it/s, loss=2.1724, acc=0.7900]\n"
     ]
    },
    {
     "name": "stdout",
     "output_type": "stream",
     "text": [
      "Avg Train Loss: 2.2838, Avg Train Acc: 0.7567 (Best: 0.7601)\n"
     ]
    },
    {
     "name": "stderr",
     "output_type": "stream",
     "text": [
      "Epoch 78/5000 (Validation): 100%|██████████| 100/100 [00:21<00:00,  4.64it/s, loss=0.9507, acc=0.9733]\n"
     ]
    },
    {
     "name": "stdout",
     "output_type": "stream",
     "text": [
      "Avg Val Loss: 1.0486, Avg Val Acc: 0.8773 (Best: 0.8866)\n",
      "Patience: 45/50\n"
     ]
    },
    {
     "name": "stderr",
     "output_type": "stream",
     "text": [
      "Epoch 79/5000 (Training): 100%|██████████| 100/100 [01:26<00:00,  1.15it/s, loss=2.2777, acc=0.7000]\n"
     ]
    },
    {
     "name": "stdout",
     "output_type": "stream",
     "text": [
      "Avg Train Loss: 2.2833, Avg Train Acc: 0.7566 (Best: 0.7601)\n"
     ]
    },
    {
     "name": "stderr",
     "output_type": "stream",
     "text": [
      "Epoch 79/5000 (Validation): 100%|██████████| 100/100 [00:24<00:00,  4.06it/s, loss=1.2434, acc=0.6267]\n"
     ]
    },
    {
     "name": "stdout",
     "output_type": "stream",
     "text": [
      "Avg Val Loss: 1.0483, Avg Val Acc: 0.8772 (Best: 0.8866)\n",
      "Patience: 46/50\n"
     ]
    },
    {
     "name": "stderr",
     "output_type": "stream",
     "text": [
      "Epoch 80/5000 (Training): 100%|██████████| 100/100 [01:34<00:00,  1.06it/s, loss=2.2054, acc=0.7767]\n"
     ]
    },
    {
     "name": "stdout",
     "output_type": "stream",
     "text": [
      "Avg Train Loss: 2.2828, Avg Train Acc: 0.7565 (Best: 0.7601)\n"
     ]
    },
    {
     "name": "stderr",
     "output_type": "stream",
     "text": [
      "Epoch 80/5000 (Validation): 100%|██████████| 100/100 [00:23<00:00,  4.24it/s, loss=0.9384, acc=0.9733]\n"
     ]
    },
    {
     "name": "stdout",
     "output_type": "stream",
     "text": [
      "Avg Val Loss: 1.0482, Avg Val Acc: 0.8772 (Best: 0.8866)\n",
      "Patience: 47/50\n"
     ]
    },
    {
     "name": "stderr",
     "output_type": "stream",
     "text": [
      "Epoch 81/5000 (Training): 100%|██████████| 100/100 [01:30<00:00,  1.10it/s, loss=2.2601, acc=0.6467]\n"
     ]
    },
    {
     "name": "stdout",
     "output_type": "stream",
     "text": [
      "Avg Train Loss: 2.2824, Avg Train Acc: 0.7564 (Best: 0.7601)\n"
     ]
    },
    {
     "name": "stderr",
     "output_type": "stream",
     "text": [
      "Epoch 81/5000 (Validation): 100%|██████████| 100/100 [00:21<00:00,  4.62it/s, loss=1.0237, acc=0.9200]\n"
     ]
    },
    {
     "name": "stdout",
     "output_type": "stream",
     "text": [
      "Avg Val Loss: 1.0482, Avg Val Acc: 0.8768 (Best: 0.8866)\n",
      "Patience: 48/50\n"
     ]
    },
    {
     "name": "stderr",
     "output_type": "stream",
     "text": [
      "Epoch 82/5000 (Training): 100%|██████████| 100/100 [01:31<00:00,  1.10it/s, loss=2.1857, acc=0.9433]\n"
     ]
    },
    {
     "name": "stdout",
     "output_type": "stream",
     "text": [
      "Avg Train Loss: 2.2819, Avg Train Acc: 0.7563 (Best: 0.7601)\n"
     ]
    },
    {
     "name": "stderr",
     "output_type": "stream",
     "text": [
      "Epoch 82/5000 (Validation): 100%|██████████| 100/100 [00:19<00:00,  5.21it/s, loss=0.9188, acc=0.9867]\n"
     ]
    },
    {
     "name": "stdout",
     "output_type": "stream",
     "text": [
      "Avg Val Loss: 1.0480, Avg Val Acc: 0.8767 (Best: 0.8866)\n",
      "Patience: 49/50\n"
     ]
    },
    {
     "name": "stderr",
     "output_type": "stream",
     "text": [
      "Epoch 83/5000 (Training): 100%|██████████| 100/100 [01:27<00:00,  1.14it/s, loss=2.3139, acc=0.5733]\n"
     ]
    },
    {
     "name": "stdout",
     "output_type": "stream",
     "text": [
      "Avg Train Loss: 2.2814, Avg Train Acc: 0.7562 (Best: 0.7601)\n"
     ]
    },
    {
     "name": "stderr",
     "output_type": "stream",
     "text": [
      "Epoch 83/5000 (Validation): 100%|██████████| 100/100 [00:24<00:00,  4.14it/s, loss=1.0551, acc=0.7867]"
     ]
    },
    {
     "name": "stdout",
     "output_type": "stream",
     "text": [
      "Avg Val Loss: 1.0479, Avg Val Acc: 0.8764 (Best: 0.8866)\n",
      "Early stopping\n",
      "Finish training\n"
     ]
    },
    {
     "name": "stderr",
     "output_type": "stream",
     "text": [
      "\n"
     ]
    }
   ],
   "source": [
    "trainModule.train()"
   ]
  },
  {
   "cell_type": "code",
   "execution_count": 17,
   "metadata": {},
   "outputs": [
    {
     "name": "stdout",
     "output_type": "stream",
     "text": [
      "Loading data from ./embeddings/x86_64_withVal_withPretrain_ghidra/word2vec...\n",
      "Loading training data...\n",
      "Loading data from ./embeddings/x86_64_withVal_withPretrain_ghidra/word2vec/testData.pkl...\n",
      "Loading model from /home/manying/Projects/fcgFewShot/models/x86_proto_20241122_1621/epoch_33_best.pth\n",
      "Best model loaded\n",
      "Model: GraphSAGE(\n",
      "  (sage_convs): ModuleList(\n",
      "    (0-1): 2 x SAGEConv(128, 128, aggr=mean)\n",
      "  )\n",
      "  (norms): ModuleList(\n",
      "    (0-1): 2 x BatchNorm1d(128, eps=1e-05, momentum=0.1, affine=True, track_running_stats=True)\n",
      "  )\n",
      "  (output_proj): Sequential(\n",
      "    (0): Linear(in_features=128, out_features=128, bias=True)\n",
      "    (1): BatchNorm1d(128, eps=1e-05, momentum=0.1, affine=True, track_running_stats=True)\n",
      "    (2): ReLU()\n",
      "  )\n",
      ")\n",
      "Start evaluation... (testing dataset)\n"
     ]
    },
    {
     "name": "stderr",
     "output_type": "stream",
     "text": [
      "Testing: 100%|██████████| 100/100 [00:51<00:00,  1.94it/s]\n"
     ]
    },
    {
     "name": "stdout",
     "output_type": "stream",
     "text": [
      "Testing accuracy: 0.8333\n",
      "Start evaluation... (validation dataset)\n"
     ]
    },
    {
     "name": "stderr",
     "output_type": "stream",
     "text": [
      "Testing: 100%|██████████| 100/100 [00:22<00:00,  4.46it/s]\n"
     ]
    },
    {
     "name": "stdout",
     "output_type": "stream",
     "text": [
      "Testing accuracy: 0.8927\n",
      "Finish evaluation\n"
     ]
    }
   ],
   "source": [
    "test_model_path = \"/home/manying/Projects/fcgFewShot/models/x86_proto_20241122_1621/epoch_33_best.pth\"\n",
    "trainModule.eval(test_model_path)"
   ]
  },
  {
   "cell_type": "code",
   "execution_count": 18,
   "metadata": {},
   "outputs": [
    {
     "name": "stdout",
     "output_type": "stream",
     "text": [
      "Loading data from ./embeddings/x86_64_withVal_withPretrain_ghidra/word2vec...\n",
      "Loading training data...\n",
      "Loading data from ./embeddings/x86_64_withVal_withPretrain_ghidra/word2vec/testData.pkl...\n",
      "Loading model from /home/manying/Projects/fcgFewShot/pretrained/x86_pretrained_20241121_1653/epoch_2060_best_backbone.pth\n",
      "Best model loaded\n",
      "Model: GraphSAGE(\n",
      "  (sage_convs): ModuleList(\n",
      "    (0-1): 2 x SAGEConv(128, 128, aggr=mean)\n",
      "  )\n",
      "  (norms): ModuleList(\n",
      "    (0-1): 2 x BatchNorm1d(128, eps=1e-05, momentum=0.1, affine=True, track_running_stats=True)\n",
      "  )\n",
      "  (output_proj): Sequential(\n",
      "    (0): Linear(in_features=128, out_features=128, bias=True)\n",
      "    (1): BatchNorm1d(128, eps=1e-05, momentum=0.1, affine=True, track_running_stats=True)\n",
      "    (2): ReLU()\n",
      "  )\n",
      ")\n",
      "Start evaluation... (testing dataset)\n"
     ]
    },
    {
     "name": "stderr",
     "output_type": "stream",
     "text": [
      "Testing: 100%|██████████| 100/100 [00:51<00:00,  1.94it/s]\n"
     ]
    },
    {
     "name": "stdout",
     "output_type": "stream",
     "text": [
      "Testing accuracy: 0.8045\n",
      "Start evaluation... (validation dataset)\n"
     ]
    },
    {
     "name": "stderr",
     "output_type": "stream",
     "text": [
      "Testing: 100%|██████████| 100/100 [00:24<00:00,  4.00it/s]"
     ]
    },
    {
     "name": "stdout",
     "output_type": "stream",
     "text": [
      "Testing accuracy: 0.8183\n",
      "Finish evaluation\n"
     ]
    },
    {
     "name": "stderr",
     "output_type": "stream",
     "text": [
      "\n"
     ]
    }
   ],
   "source": [
    "# test just using pretrain model results\n",
    "test_model_path = \"/home/manying/Projects/fcgFewShot/pretrained/x86_pretrained_20241121_1653/epoch_2060_best_backbone.pth\"\n",
    "trainModule.eval(test_model_path)"
   ]
  },
  {
   "cell_type": "code",
   "execution_count": null,
   "metadata": {},
   "outputs": [],
   "source": []
  }
 ],
 "metadata": {
  "kernelspec": {
   "display_name": "prototype",
   "language": "python",
   "name": "python3"
  },
  "language_info": {
   "codemirror_mode": {
    "name": "ipython",
    "version": 3
   },
   "file_extension": ".py",
   "mimetype": "text/x-python",
   "name": "python",
   "nbconvert_exporter": "python",
   "pygments_lexer": "ipython3",
   "version": "3.11.9"
  }
 },
 "nbformat": 4,
 "nbformat_minor": 2
}
