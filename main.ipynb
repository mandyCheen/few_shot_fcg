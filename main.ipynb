{
 "cells": [
  {
   "cell_type": "code",
   "execution_count": 1,
   "metadata": {},
   "outputs": [],
   "source": [
    "%load_ext autoreload\n",
    "%autoreload 2 \n",
    "import warnings\n",
    "warnings.filterwarnings(\"ignore\")"
   ]
  },
  {
   "cell_type": "code",
   "execution_count": 2,
   "metadata": {},
   "outputs": [],
   "source": [
    "from utils import load_config, save_config\n",
    "options = load_config(\"./config/config_label_prop.json\")"
   ]
  },
  {
   "cell_type": "code",
   "execution_count": 3,
   "metadata": {},
   "outputs": [
    {
     "name": "stdout",
     "output_type": "stream",
     "text": [
      "Loading all datasets...\n",
      "train dataset shape: (1180, 16)\n",
      "train dataset family number: 59\n",
      "test dataset shape: (200, 16)\n",
      "test dataset family number: 10\n",
      "val dataset shape: (200, 16)\n",
      "val dataset family number: 10\n",
      "Word2vec model exist, load word2vec model...\n",
      "Start to get node embedding...\n"
     ]
    },
    {
     "name": "stderr",
     "output_type": "stream",
     "text": [
      "100%|██████████| 1580/1580 [00:00<00:00, 56258.28it/s]"
     ]
    },
    {
     "name": "stdout",
     "output_type": "stream",
     "text": [
      "Finish getting node embedding\n",
      "Setting up the training module...\n",
      "Loading data from /mnt/ssd2t/mandy/Projects/few_shot_fcg/embeddings/x86_64_withVal_withPretrain_ghidra_42/word2vec...\n",
      "Loading training data...\n",
      "Loading data from /mnt/ssd2t/mandy/Projects/few_shot_fcg/embeddings/x86_64_withVal_withPretrain_ghidra_42/word2vec/trainData.pkl...\n"
     ]
    },
    {
     "name": "stderr",
     "output_type": "stream",
     "text": [
      "\n"
     ]
    },
    {
     "name": "stdout",
     "output_type": "stream",
     "text": [
      "Loading validation data...\n",
      "Loading data from /mnt/ssd2t/mandy/Projects/few_shot_fcg/embeddings/x86_64_withVal_withPretrain_ghidra_42/word2vec/valData.pkl...\n",
      "Device: cuda:0\n",
      "Model: LabelPropagation(\n",
      "  (encoder): GraphSAGELayer(\n",
      "    (sage_convs): ModuleList(\n",
      "      (0-2): 3 x SAGEConv(128, 128, aggr=mean)\n",
      "    )\n",
      "    (norms): ModuleList(\n",
      "      (0-2): 3 x BatchNorm1d(128, eps=1e-05, momentum=0.1, affine=True, track_running_stats=True)\n",
      "    )\n",
      "  )\n",
      "  (relation): GraphRelationNetwork(\n",
      "    (sage): GraphSAGELayer(\n",
      "      (sage_convs): ModuleList(\n",
      "        (0): SAGEConv(128, 64, aggr=mean)\n",
      "        (1): SAGEConv(64, 32, aggr=mean)\n",
      "      )\n",
      "      (norms): ModuleList(\n",
      "        (0): BatchNorm1d(64, eps=1e-05, momentum=0.1, affine=True, track_running_stats=True)\n",
      "        (1): BatchNorm1d(32, eps=1e-05, momentum=0.1, affine=True, track_running_stats=True)\n",
      "      )\n",
      "    )\n",
      "    (fc): Sequential(\n",
      "      (0): Linear(in_features=32, out_features=16, bias=True)\n",
      "      (1): ReLU()\n",
      "      (2): Linear(in_features=16, out_features=1, bias=True)\n",
      "    )\n",
      "  )\n",
      ")\n",
      "Loss function: LabelPropagation(\n",
      "  (encoder): GraphSAGELayer(\n",
      "    (sage_convs): ModuleList(\n",
      "      (0-2): 3 x SAGEConv(128, 128, aggr=mean)\n",
      "    )\n",
      "    (norms): ModuleList(\n",
      "      (0-2): 3 x BatchNorm1d(128, eps=1e-05, momentum=0.1, affine=True, track_running_stats=True)\n",
      "    )\n",
      "  )\n",
      "  (relation): GraphRelationNetwork(\n",
      "    (sage): GraphSAGELayer(\n",
      "      (sage_convs): ModuleList(\n",
      "        (0): SAGEConv(128, 64, aggr=mean)\n",
      "        (1): SAGEConv(64, 32, aggr=mean)\n",
      "      )\n",
      "      (norms): ModuleList(\n",
      "        (0): BatchNorm1d(64, eps=1e-05, momentum=0.1, affine=True, track_running_stats=True)\n",
      "        (1): BatchNorm1d(32, eps=1e-05, momentum=0.1, affine=True, track_running_stats=True)\n",
      "      )\n",
      "    )\n",
      "    (fc): Sequential(\n",
      "      (0): Linear(in_features=32, out_features=16, bias=True)\n",
      "      (1): ReLU()\n",
      "      (2): Linear(in_features=16, out_features=1, bias=True)\n",
      "    )\n",
      "  )\n",
      ")\n",
      "Optimizer: Adam (\n",
      "Parameter Group 0\n",
      "    amsgrad: False\n",
      "    betas: (0.9, 0.999)\n",
      "    capturable: False\n",
      "    differentiable: False\n",
      "    eps: 1e-08\n",
      "    foreach: None\n",
      "    fused: None\n",
      "    lr: 0.001\n",
      "    maximize: False\n",
      "    weight_decay: 0\n",
      ")\n",
      "Finish setting up the training module\n",
      "Copying split files...\n",
      "Finish copying split files\n",
      "Start training...\n",
      "Current learning rate: [0.001]\n"
     ]
    },
    {
     "name": "stderr",
     "output_type": "stream",
     "text": [
      "Epoch 1/200 (Training): 100%|██████████| 100/100 [00:10<00:00,  9.63it/s, loss=0.9503, acc=0.7333]\n"
     ]
    },
    {
     "name": "stdout",
     "output_type": "stream",
     "text": [
      "Avg Train Loss: 1.0114, Avg Train Acc: 0.6161 (Best)\n"
     ]
    },
    {
     "name": "stderr",
     "output_type": "stream",
     "text": [
      "Epoch 1/200 (Validation): 100%|██████████| 100/100 [00:12<00:00,  7.78it/s, loss=1.0785, acc=0.3733]\n"
     ]
    },
    {
     "name": "stdout",
     "output_type": "stream",
     "text": [
      "Avg Val Loss: 1.0905, Avg Val Acc: 0.4055 (Best)\n",
      "Current learning rate: [0.001]\n",
      "Patience: 0/20\n"
     ]
    },
    {
     "name": "stderr",
     "output_type": "stream",
     "text": [
      "Epoch 2/200 (Training): 100%|██████████| 100/100 [00:10<00:00,  9.51it/s, loss=0.8746, acc=0.8800]\n"
     ]
    },
    {
     "name": "stdout",
     "output_type": "stream",
     "text": [
      "Avg Train Loss: 0.9784, Avg Train Acc: 0.6972 (Best)\n"
     ]
    },
    {
     "name": "stderr",
     "output_type": "stream",
     "text": [
      "Epoch 2/200 (Validation): 100%|██████████| 100/100 [00:13<00:00,  7.56it/s, loss=1.1233, acc=0.2667]\n"
     ]
    },
    {
     "name": "stdout",
     "output_type": "stream",
     "text": [
      "Avg Val Loss: 1.1054, Avg Val Acc: 0.3912 (Best: 0.4055)\n",
      "Current learning rate: [0.001]\n",
      "Patience: 1/20\n"
     ]
    },
    {
     "name": "stderr",
     "output_type": "stream",
     "text": [
      "Epoch 3/200 (Training): 100%|██████████| 100/100 [00:10<00:00,  9.21it/s, loss=0.9448, acc=0.7333]\n"
     ]
    },
    {
     "name": "stdout",
     "output_type": "stream",
     "text": [
      "Avg Train Loss: 0.9708, Avg Train Acc: 0.6959 (Best: 0.6972)\n"
     ]
    },
    {
     "name": "stderr",
     "output_type": "stream",
     "text": [
      "Epoch 3/200 (Validation): 100%|██████████| 100/100 [00:12<00:00,  8.12it/s, loss=1.0279, acc=0.5067]\n"
     ]
    },
    {
     "name": "stdout",
     "output_type": "stream",
     "text": [
      "Avg Val Loss: 1.0281, Avg Val Acc: 0.5455 (Best)\n",
      "Current learning rate: [0.001]\n",
      "Patience: 0/20\n"
     ]
    },
    {
     "name": "stderr",
     "output_type": "stream",
     "text": [
      "Epoch 4/200 (Training): 100%|██████████| 100/100 [00:10<00:00,  9.96it/s, loss=0.9447, acc=0.7333]\n"
     ]
    },
    {
     "name": "stdout",
     "output_type": "stream",
     "text": [
      "Avg Train Loss: 0.9837, Avg Train Acc: 0.6781 (Best: 0.6972)\n"
     ]
    },
    {
     "name": "stderr",
     "output_type": "stream",
     "text": [
      "Epoch 4/200 (Validation): 100%|██████████| 100/100 [00:11<00:00,  8.44it/s, loss=0.9206, acc=0.7867]\n"
     ]
    },
    {
     "name": "stdout",
     "output_type": "stream",
     "text": [
      "Avg Val Loss: 1.0309, Avg Val Acc: 0.5595 (Best)\n",
      "Current learning rate: [0.001]\n",
      "Patience: 0/20\n"
     ]
    },
    {
     "name": "stderr",
     "output_type": "stream",
     "text": [
      "Epoch 5/200 (Training): 100%|██████████| 100/100 [00:09<00:00, 10.10it/s, loss=0.9152, acc=0.7733]\n"
     ]
    },
    {
     "name": "stdout",
     "output_type": "stream",
     "text": [
      "Avg Train Loss: 0.9629, Avg Train Acc: 0.7253 (Best)\n"
     ]
    },
    {
     "name": "stderr",
     "output_type": "stream",
     "text": [
      "Epoch 5/200 (Validation): 100%|██████████| 100/100 [00:12<00:00,  8.00it/s, loss=0.9337, acc=0.7600]\n"
     ]
    },
    {
     "name": "stdout",
     "output_type": "stream",
     "text": [
      "Avg Val Loss: 1.0148, Avg Val Acc: 0.5856 (Best)\n",
      "Current learning rate: [0.001]\n",
      "Patience: 0/20\n"
     ]
    },
    {
     "name": "stderr",
     "output_type": "stream",
     "text": [
      "Epoch 6/200 (Training): 100%|██████████| 100/100 [00:10<00:00,  9.68it/s, loss=0.9417, acc=0.7333]\n"
     ]
    },
    {
     "name": "stdout",
     "output_type": "stream",
     "text": [
      "Avg Train Loss: 0.9553, Avg Train Acc: 0.7399 (Best)\n"
     ]
    },
    {
     "name": "stderr",
     "output_type": "stream",
     "text": [
      "Epoch 6/200 (Validation): 100%|██████████| 100/100 [00:12<00:00,  8.26it/s, loss=1.0464, acc=0.5867]\n"
     ]
    },
    {
     "name": "stdout",
     "output_type": "stream",
     "text": [
      "Avg Val Loss: 1.0292, Avg Val Acc: 0.5299 (Best: 0.5856)\n",
      "Current learning rate: [0.001]\n",
      "Patience: 1/20\n"
     ]
    },
    {
     "name": "stderr",
     "output_type": "stream",
     "text": [
      "Epoch 7/200 (Training): 100%|██████████| 100/100 [00:09<00:00, 10.41it/s, loss=0.9562, acc=0.6533]\n"
     ]
    },
    {
     "name": "stdout",
     "output_type": "stream",
     "text": [
      "Avg Train Loss: 0.9400, Avg Train Acc: 0.7567 (Best)\n"
     ]
    },
    {
     "name": "stderr",
     "output_type": "stream",
     "text": [
      "Epoch 7/200 (Validation): 100%|██████████| 100/100 [00:12<00:00,  7.82it/s, loss=0.9952, acc=0.5333]\n"
     ]
    },
    {
     "name": "stdout",
     "output_type": "stream",
     "text": [
      "Avg Val Loss: 1.0411, Avg Val Acc: 0.5279 (Best: 0.5856)\n",
      "Current learning rate: [0.001]\n",
      "Patience: 2/20\n"
     ]
    },
    {
     "name": "stderr",
     "output_type": "stream",
     "text": [
      "Epoch 8/200 (Training): 100%|██████████| 100/100 [00:09<00:00, 10.20it/s, loss=0.8794, acc=0.9600]\n"
     ]
    },
    {
     "name": "stdout",
     "output_type": "stream",
     "text": [
      "Avg Train Loss: 0.9482, Avg Train Acc: 0.7384 (Best: 0.7567)\n"
     ]
    },
    {
     "name": "stderr",
     "output_type": "stream",
     "text": [
      "Epoch 8/200 (Validation): 100%|██████████| 100/100 [00:12<00:00,  7.73it/s, loss=1.0561, acc=0.4000]\n"
     ]
    },
    {
     "name": "stdout",
     "output_type": "stream",
     "text": [
      "Avg Val Loss: 1.0178, Avg Val Acc: 0.5525 (Best: 0.5856)\n",
      "Current learning rate: [0.001]\n",
      "Patience: 3/20\n"
     ]
    },
    {
     "name": "stderr",
     "output_type": "stream",
     "text": [
      "Epoch 9/200 (Training): 100%|██████████| 100/100 [00:10<00:00,  9.43it/s, loss=0.9536, acc=0.6667]\n"
     ]
    },
    {
     "name": "stdout",
     "output_type": "stream",
     "text": [
      "Avg Train Loss: 0.9464, Avg Train Acc: 0.7628 (Best)\n"
     ]
    },
    {
     "name": "stderr",
     "output_type": "stream",
     "text": [
      "Epoch 9/200 (Validation): 100%|██████████| 100/100 [00:12<00:00,  7.91it/s, loss=1.0604, acc=0.4000]\n"
     ]
    },
    {
     "name": "stdout",
     "output_type": "stream",
     "text": [
      "Avg Val Loss: 1.0056, Avg Val Acc: 0.5739 (Best: 0.5856)\n",
      "Current learning rate: [0.001]\n",
      "Patience: 4/20\n"
     ]
    },
    {
     "name": "stderr",
     "output_type": "stream",
     "text": [
      "Epoch 10/200 (Training): 100%|██████████| 100/100 [00:10<00:00,  9.90it/s, loss=0.9626, acc=0.7867]\n"
     ]
    },
    {
     "name": "stdout",
     "output_type": "stream",
     "text": [
      "Avg Train Loss: 0.9376, Avg Train Acc: 0.7828 (Best)\n"
     ]
    },
    {
     "name": "stderr",
     "output_type": "stream",
     "text": [
      "Epoch 10/200 (Validation): 100%|██████████| 100/100 [00:12<00:00,  7.76it/s, loss=1.0752, acc=0.4000]\n"
     ]
    },
    {
     "name": "stdout",
     "output_type": "stream",
     "text": [
      "Avg Val Loss: 1.0075, Avg Val Acc: 0.5812 (Best: 0.5856)\n",
      "Current learning rate: [0.001]\n",
      "Patience: 5/20\n"
     ]
    },
    {
     "name": "stderr",
     "output_type": "stream",
     "text": [
      "Epoch 11/200 (Training): 100%|██████████| 100/100 [00:09<00:00, 10.50it/s, loss=0.9219, acc=0.7733]\n"
     ]
    },
    {
     "name": "stdout",
     "output_type": "stream",
     "text": [
      "Avg Train Loss: 0.9232, Avg Train Acc: 0.7991 (Best)\n"
     ]
    },
    {
     "name": "stderr",
     "output_type": "stream",
     "text": [
      "Epoch 11/200 (Validation): 100%|██████████| 100/100 [00:13<00:00,  7.61it/s, loss=1.0634, acc=0.4000]\n"
     ]
    },
    {
     "name": "stdout",
     "output_type": "stream",
     "text": [
      "Avg Val Loss: 1.0095, Avg Val Acc: 0.5725 (Best: 0.5856)\n",
      "Current learning rate: [0.001]\n",
      "Patience: 6/20\n"
     ]
    },
    {
     "name": "stderr",
     "output_type": "stream",
     "text": [
      "Epoch 12/200 (Training): 100%|██████████| 100/100 [00:10<00:00,  9.96it/s, loss=0.8620, acc=0.8667]\n"
     ]
    },
    {
     "name": "stdout",
     "output_type": "stream",
     "text": [
      "Avg Train Loss: 0.9296, Avg Train Acc: 0.7920 (Best: 0.7991)\n"
     ]
    },
    {
     "name": "stderr",
     "output_type": "stream",
     "text": [
      "Epoch 12/200 (Validation): 100%|██████████| 100/100 [00:12<00:00,  8.11it/s, loss=0.9643, acc=0.6000]\n"
     ]
    },
    {
     "name": "stdout",
     "output_type": "stream",
     "text": [
      "Avg Val Loss: 0.9836, Avg Val Acc: 0.6023 (Best)\n",
      "Current learning rate: [0.001]\n",
      "Patience: 0/20\n"
     ]
    },
    {
     "name": "stderr",
     "output_type": "stream",
     "text": [
      "Epoch 13/200 (Training): 100%|██████████| 100/100 [00:11<00:00,  8.95it/s, loss=0.8968, acc=0.8400]\n"
     ]
    },
    {
     "name": "stdout",
     "output_type": "stream",
     "text": [
      "Avg Train Loss: 0.9246, Avg Train Acc: 0.7871 (Best: 0.7991)\n"
     ]
    },
    {
     "name": "stderr",
     "output_type": "stream",
     "text": [
      "Epoch 13/200 (Validation): 100%|██████████| 100/100 [00:12<00:00,  8.06it/s, loss=0.9566, acc=0.7467]\n"
     ]
    },
    {
     "name": "stdout",
     "output_type": "stream",
     "text": [
      "Avg Val Loss: 0.9507, Avg Val Acc: 0.7157 (Best)\n",
      "Current learning rate: [0.001]\n",
      "Patience: 0/20\n"
     ]
    },
    {
     "name": "stderr",
     "output_type": "stream",
     "text": [
      "Epoch 14/200 (Training): 100%|██████████| 100/100 [00:10<00:00,  9.72it/s, loss=0.9097, acc=0.9600]\n"
     ]
    },
    {
     "name": "stdout",
     "output_type": "stream",
     "text": [
      "Avg Train Loss: 0.9269, Avg Train Acc: 0.7829 (Best: 0.7991)\n"
     ]
    },
    {
     "name": "stderr",
     "output_type": "stream",
     "text": [
      "Epoch 14/200 (Validation): 100%|██████████| 100/100 [00:12<00:00,  7.90it/s, loss=0.9811, acc=0.8933]\n"
     ]
    },
    {
     "name": "stdout",
     "output_type": "stream",
     "text": [
      "Avg Val Loss: 0.9802, Avg Val Acc: 0.6911 (Best: 0.7157)\n",
      "Current learning rate: [0.001]\n",
      "Patience: 1/20\n"
     ]
    },
    {
     "name": "stderr",
     "output_type": "stream",
     "text": [
      "Epoch 15/200 (Training): 100%|██████████| 100/100 [00:10<00:00,  9.87it/s, loss=0.8998, acc=0.7733]\n"
     ]
    },
    {
     "name": "stdout",
     "output_type": "stream",
     "text": [
      "Avg Train Loss: 0.9171, Avg Train Acc: 0.8201 (Best)\n"
     ]
    },
    {
     "name": "stderr",
     "output_type": "stream",
     "text": [
      "Epoch 15/200 (Validation): 100%|██████████| 100/100 [00:11<00:00,  8.68it/s, loss=0.8959, acc=0.7733]\n"
     ]
    },
    {
     "name": "stdout",
     "output_type": "stream",
     "text": [
      "Avg Val Loss: 0.9327, Avg Val Acc: 0.7595 (Best)\n",
      "Current learning rate: [0.001]\n",
      "Patience: 0/20\n"
     ]
    },
    {
     "name": "stderr",
     "output_type": "stream",
     "text": [
      "Epoch 16/200 (Training): 100%|██████████| 100/100 [00:10<00:00,  9.56it/s, loss=0.8775, acc=0.7867]\n"
     ]
    },
    {
     "name": "stdout",
     "output_type": "stream",
     "text": [
      "Avg Train Loss: 0.9286, Avg Train Acc: 0.7807 (Best: 0.8201)\n"
     ]
    },
    {
     "name": "stderr",
     "output_type": "stream",
     "text": [
      "Epoch 16/200 (Validation): 100%|██████████| 100/100 [00:12<00:00,  8.08it/s, loss=0.8467, acc=0.8933]\n"
     ]
    },
    {
     "name": "stdout",
     "output_type": "stream",
     "text": [
      "Avg Val Loss: 0.9651, Avg Val Acc: 0.6857 (Best: 0.7595)\n",
      "Current learning rate: [0.001]\n",
      "Patience: 1/20\n"
     ]
    },
    {
     "name": "stderr",
     "output_type": "stream",
     "text": [
      "Epoch 17/200 (Training): 100%|██████████| 100/100 [00:11<00:00,  8.88it/s, loss=0.8029, acc=0.9200]\n"
     ]
    },
    {
     "name": "stdout",
     "output_type": "stream",
     "text": [
      "Avg Train Loss: 0.9365, Avg Train Acc: 0.7787 (Best: 0.8201)\n"
     ]
    },
    {
     "name": "stderr",
     "output_type": "stream",
     "text": [
      "Epoch 17/200 (Validation): 100%|██████████| 100/100 [00:11<00:00,  8.51it/s, loss=0.9566, acc=0.7333]\n"
     ]
    },
    {
     "name": "stdout",
     "output_type": "stream",
     "text": [
      "Avg Val Loss: 0.9310, Avg Val Acc: 0.7496 (Best: 0.7595)\n",
      "Current learning rate: [0.001]\n",
      "Patience: 2/20\n"
     ]
    },
    {
     "name": "stderr",
     "output_type": "stream",
     "text": [
      "Epoch 18/200 (Training): 100%|██████████| 100/100 [00:10<00:00,  9.32it/s, loss=0.8610, acc=0.9600]\n"
     ]
    },
    {
     "name": "stdout",
     "output_type": "stream",
     "text": [
      "Avg Train Loss: 0.9308, Avg Train Acc: 0.7800 (Best: 0.8201)\n"
     ]
    },
    {
     "name": "stderr",
     "output_type": "stream",
     "text": [
      "Epoch 18/200 (Validation): 100%|██████████| 100/100 [00:12<00:00,  8.27it/s, loss=1.0706, acc=0.3867]\n"
     ]
    },
    {
     "name": "stdout",
     "output_type": "stream",
     "text": [
      "Avg Val Loss: 0.9951, Avg Val Acc: 0.6259 (Best: 0.7595)\n",
      "Current learning rate: [0.001]\n",
      "Patience: 3/20\n"
     ]
    },
    {
     "name": "stderr",
     "output_type": "stream",
     "text": [
      "Epoch 19/200 (Training): 100%|██████████| 100/100 [00:11<00:00,  9.08it/s, loss=0.9227, acc=0.8000]\n"
     ]
    },
    {
     "name": "stdout",
     "output_type": "stream",
     "text": [
      "Avg Train Loss: 0.9288, Avg Train Acc: 0.7811 (Best: 0.8201)\n"
     ]
    },
    {
     "name": "stderr",
     "output_type": "stream",
     "text": [
      "Epoch 19/200 (Validation): 100%|██████████| 100/100 [00:12<00:00,  8.00it/s, loss=0.9664, acc=0.7067]\n"
     ]
    },
    {
     "name": "stdout",
     "output_type": "stream",
     "text": [
      "Avg Val Loss: 0.9805, Avg Val Acc: 0.6699 (Best: 0.7595)\n",
      "Current learning rate: [0.001]\n",
      "Patience: 4/20\n"
     ]
    },
    {
     "name": "stderr",
     "output_type": "stream",
     "text": [
      "Epoch 20/200 (Training): 100%|██████████| 100/100 [00:10<00:00,  9.47it/s, loss=0.9069, acc=0.8400]\n"
     ]
    },
    {
     "name": "stdout",
     "output_type": "stream",
     "text": [
      "Avg Train Loss: 0.9180, Avg Train Acc: 0.8151 (Best: 0.8201)\n"
     ]
    },
    {
     "name": "stderr",
     "output_type": "stream",
     "text": [
      "Epoch 20/200 (Validation): 100%|██████████| 100/100 [00:11<00:00,  8.40it/s, loss=1.0556, acc=0.6000]\n"
     ]
    },
    {
     "name": "stdout",
     "output_type": "stream",
     "text": [
      "Avg Val Loss: 0.9389, Avg Val Acc: 0.7440 (Best: 0.7595)\n",
      "Current learning rate: [0.001]\n",
      "Patience: 5/20\n"
     ]
    },
    {
     "name": "stderr",
     "output_type": "stream",
     "text": [
      "Epoch 21/200 (Training): 100%|██████████| 100/100 [00:11<00:00,  8.99it/s, loss=0.8408, acc=0.9200]\n"
     ]
    },
    {
     "name": "stdout",
     "output_type": "stream",
     "text": [
      "Avg Train Loss: 0.9300, Avg Train Acc: 0.7923 (Best: 0.8201)\n"
     ]
    },
    {
     "name": "stderr",
     "output_type": "stream",
     "text": [
      "Epoch 21/200 (Validation): 100%|██████████| 100/100 [00:11<00:00,  8.47it/s, loss=0.9379, acc=0.7333]\n"
     ]
    },
    {
     "name": "stdout",
     "output_type": "stream",
     "text": [
      "Avg Val Loss: 0.9479, Avg Val Acc: 0.7529 (Best: 0.7595)\n",
      "Current learning rate: [0.001]\n",
      "Patience: 6/20\n"
     ]
    },
    {
     "name": "stderr",
     "output_type": "stream",
     "text": [
      "Epoch 22/200 (Training): 100%|██████████| 100/100 [00:09<00:00, 10.20it/s, loss=0.8439, acc=0.9733]\n"
     ]
    },
    {
     "name": "stdout",
     "output_type": "stream",
     "text": [
      "Avg Train Loss: 0.9051, Avg Train Acc: 0.8421 (Best)\n"
     ]
    },
    {
     "name": "stderr",
     "output_type": "stream",
     "text": [
      "Epoch 22/200 (Validation): 100%|██████████| 100/100 [00:11<00:00,  8.85it/s, loss=1.0244, acc=0.5467]\n"
     ]
    },
    {
     "name": "stdout",
     "output_type": "stream",
     "text": [
      "Avg Val Loss: 0.9575, Avg Val Acc: 0.7376 (Best: 0.7595)\n",
      "Current learning rate: [0.001]\n",
      "Patience: 7/20\n"
     ]
    },
    {
     "name": "stderr",
     "output_type": "stream",
     "text": [
      "Epoch 23/200 (Training): 100%|██████████| 100/100 [00:11<00:00,  8.50it/s, loss=0.8965, acc=0.8533]\n"
     ]
    },
    {
     "name": "stdout",
     "output_type": "stream",
     "text": [
      "Avg Train Loss: 0.9054, Avg Train Acc: 0.8204 (Best: 0.8421)\n"
     ]
    },
    {
     "name": "stderr",
     "output_type": "stream",
     "text": [
      "Epoch 23/200 (Validation): 100%|██████████| 100/100 [00:12<00:00,  8.31it/s, loss=1.0322, acc=0.5600]\n"
     ]
    },
    {
     "name": "stdout",
     "output_type": "stream",
     "text": [
      "Avg Val Loss: 0.9775, Avg Val Acc: 0.6811 (Best: 0.7595)\n",
      "Current learning rate: [0.001]\n",
      "Patience: 8/20\n"
     ]
    },
    {
     "name": "stderr",
     "output_type": "stream",
     "text": [
      "Epoch 24/200 (Training): 100%|██████████| 100/100 [00:09<00:00, 10.95it/s, loss=0.9936, acc=0.7600]\n"
     ]
    },
    {
     "name": "stdout",
     "output_type": "stream",
     "text": [
      "Avg Train Loss: 0.9009, Avg Train Acc: 0.8548 (Best)\n"
     ]
    },
    {
     "name": "stderr",
     "output_type": "stream",
     "text": [
      "Epoch 24/200 (Validation): 100%|██████████| 100/100 [00:12<00:00,  7.80it/s, loss=0.9400, acc=0.7467]\n"
     ]
    },
    {
     "name": "stdout",
     "output_type": "stream",
     "text": [
      "Avg Val Loss: 0.9489, Avg Val Acc: 0.7491 (Best: 0.7595)\n",
      "Current learning rate: [0.001]\n",
      "Patience: 9/20\n"
     ]
    },
    {
     "name": "stderr",
     "output_type": "stream",
     "text": [
      "Epoch 25/200 (Training): 100%|██████████| 100/100 [00:09<00:00, 10.14it/s, loss=0.9742, acc=0.8400]\n"
     ]
    },
    {
     "name": "stdout",
     "output_type": "stream",
     "text": [
      "Avg Train Loss: 0.8852, Avg Train Acc: 0.8684 (Best)\n"
     ]
    },
    {
     "name": "stderr",
     "output_type": "stream",
     "text": [
      "Epoch 25/200 (Validation): 100%|██████████| 100/100 [00:12<00:00,  7.81it/s, loss=0.9067, acc=0.7333]\n"
     ]
    },
    {
     "name": "stdout",
     "output_type": "stream",
     "text": [
      "Avg Val Loss: 0.9488, Avg Val Acc: 0.7423 (Best: 0.7595)\n",
      "Current learning rate: [0.001]\n",
      "Patience: 10/20\n"
     ]
    },
    {
     "name": "stderr",
     "output_type": "stream",
     "text": [
      "Epoch 26/200 (Training): 100%|██████████| 100/100 [00:10<00:00,  9.83it/s, loss=0.9483, acc=0.7200]\n"
     ]
    },
    {
     "name": "stdout",
     "output_type": "stream",
     "text": [
      "Avg Train Loss: 0.8959, Avg Train Acc: 0.8545 (Best: 0.8684)\n"
     ]
    },
    {
     "name": "stderr",
     "output_type": "stream",
     "text": [
      "Epoch 26/200 (Validation): 100%|██████████| 100/100 [00:12<00:00,  7.71it/s, loss=0.9694, acc=0.7200]\n"
     ]
    },
    {
     "name": "stdout",
     "output_type": "stream",
     "text": [
      "Avg Val Loss: 0.9853, Avg Val Acc: 0.6655 (Best: 0.7595)\n",
      "Current learning rate: [0.001]\n",
      "Patience: 11/20\n"
     ]
    },
    {
     "name": "stderr",
     "output_type": "stream",
     "text": [
      "Epoch 27/200 (Training): 100%|██████████| 100/100 [00:11<00:00,  8.76it/s, loss=0.9705, acc=0.9333]\n"
     ]
    },
    {
     "name": "stdout",
     "output_type": "stream",
     "text": [
      "Avg Train Loss: 0.9029, Avg Train Acc: 0.8493 (Best: 0.8684)\n"
     ]
    },
    {
     "name": "stderr",
     "output_type": "stream",
     "text": [
      "Epoch 27/200 (Validation): 100%|██████████| 100/100 [00:12<00:00,  7.82it/s, loss=0.9281, acc=0.7467]\n"
     ]
    },
    {
     "name": "stdout",
     "output_type": "stream",
     "text": [
      "Avg Val Loss: 0.9509, Avg Val Acc: 0.7453 (Best: 0.7595)\n",
      "Current learning rate: [0.001]\n",
      "Patience: 12/20\n"
     ]
    },
    {
     "name": "stderr",
     "output_type": "stream",
     "text": [
      "Epoch 28/200 (Training): 100%|██████████| 100/100 [00:08<00:00, 11.22it/s, loss=0.9556, acc=0.7600]\n"
     ]
    },
    {
     "name": "stdout",
     "output_type": "stream",
     "text": [
      "Avg Train Loss: 0.8937, Avg Train Acc: 0.8599 (Best: 0.8684)\n"
     ]
    },
    {
     "name": "stderr",
     "output_type": "stream",
     "text": [
      "Epoch 28/200 (Validation): 100%|██████████| 100/100 [00:11<00:00,  8.53it/s, loss=1.0013, acc=0.7600]\n"
     ]
    },
    {
     "name": "stdout",
     "output_type": "stream",
     "text": [
      "Avg Val Loss: 0.9480, Avg Val Acc: 0.7604 (Best)\n",
      "Current learning rate: [0.0005]\n",
      "Patience: 0/20\n"
     ]
    },
    {
     "name": "stderr",
     "output_type": "stream",
     "text": [
      "Epoch 29/200 (Training): 100%|██████████| 100/100 [00:10<00:00,  9.72it/s, loss=0.8817, acc=0.9200]\n"
     ]
    },
    {
     "name": "stdout",
     "output_type": "stream",
     "text": [
      "Avg Train Loss: 0.8914, Avg Train Acc: 0.8617 (Best: 0.8684)\n"
     ]
    },
    {
     "name": "stderr",
     "output_type": "stream",
     "text": [
      "Epoch 29/200 (Validation): 100%|██████████| 100/100 [00:12<00:00,  7.95it/s, loss=0.9646, acc=0.7200]\n"
     ]
    },
    {
     "name": "stdout",
     "output_type": "stream",
     "text": [
      "Avg Val Loss: 0.9526, Avg Val Acc: 0.7427 (Best: 0.7604)\n",
      "Current learning rate: [0.0005]\n",
      "Patience: 1/20\n"
     ]
    },
    {
     "name": "stderr",
     "output_type": "stream",
     "text": [
      "Epoch 30/200 (Training): 100%|██████████| 100/100 [00:08<00:00, 12.15it/s, loss=0.9105, acc=0.8267]\n"
     ]
    },
    {
     "name": "stdout",
     "output_type": "stream",
     "text": [
      "Avg Train Loss: 0.8963, Avg Train Acc: 0.8659 (Best: 0.8684)\n"
     ]
    },
    {
     "name": "stderr",
     "output_type": "stream",
     "text": [
      "Epoch 30/200 (Validation): 100%|██████████| 100/100 [00:12<00:00,  7.89it/s, loss=0.9561, acc=0.7733]\n"
     ]
    },
    {
     "name": "stdout",
     "output_type": "stream",
     "text": [
      "Avg Val Loss: 0.9487, Avg Val Acc: 0.7376 (Best: 0.7604)\n",
      "Current learning rate: [0.0005]\n",
      "Patience: 2/20\n"
     ]
    },
    {
     "name": "stderr",
     "output_type": "stream",
     "text": [
      "Epoch 31/200 (Training): 100%|██████████| 100/100 [00:09<00:00, 10.08it/s, loss=1.0083, acc=0.6667]\n"
     ]
    },
    {
     "name": "stdout",
     "output_type": "stream",
     "text": [
      "Avg Train Loss: 0.8805, Avg Train Acc: 0.8795 (Best)\n"
     ]
    },
    {
     "name": "stderr",
     "output_type": "stream",
     "text": [
      "Epoch 31/200 (Validation): 100%|██████████| 100/100 [00:12<00:00,  7.78it/s, loss=0.9624, acc=0.6800]\n"
     ]
    },
    {
     "name": "stdout",
     "output_type": "stream",
     "text": [
      "Avg Val Loss: 0.9805, Avg Val Acc: 0.6677 (Best: 0.7604)\n",
      "Current learning rate: [0.0005]\n",
      "Patience: 3/20\n"
     ]
    },
    {
     "name": "stderr",
     "output_type": "stream",
     "text": [
      "Epoch 32/200 (Training): 100%|██████████| 100/100 [00:09<00:00, 11.00it/s, loss=0.9586, acc=0.7733]\n"
     ]
    },
    {
     "name": "stdout",
     "output_type": "stream",
     "text": [
      "Avg Train Loss: 0.8845, Avg Train Acc: 0.8693 (Best: 0.8795)\n"
     ]
    },
    {
     "name": "stderr",
     "output_type": "stream",
     "text": [
      "Epoch 32/200 (Validation): 100%|██████████| 100/100 [00:12<00:00,  7.93it/s, loss=0.9223, acc=0.7067]\n"
     ]
    },
    {
     "name": "stdout",
     "output_type": "stream",
     "text": [
      "Avg Val Loss: 0.9457, Avg Val Acc: 0.7439 (Best: 0.7604)\n",
      "Current learning rate: [0.0005]\n",
      "Patience: 4/20\n"
     ]
    },
    {
     "name": "stderr",
     "output_type": "stream",
     "text": [
      "Epoch 33/200 (Training): 100%|██████████| 100/100 [00:10<00:00,  9.52it/s, loss=0.8428, acc=0.9467]\n"
     ]
    },
    {
     "name": "stdout",
     "output_type": "stream",
     "text": [
      "Avg Train Loss: 0.8819, Avg Train Acc: 0.8795 (Best: 0.8795)\n"
     ]
    },
    {
     "name": "stderr",
     "output_type": "stream",
     "text": [
      "Epoch 33/200 (Validation): 100%|██████████| 100/100 [00:13<00:00,  7.24it/s, loss=0.9680, acc=0.6533]\n"
     ]
    },
    {
     "name": "stdout",
     "output_type": "stream",
     "text": [
      "Avg Val Loss: 0.9664, Avg Val Acc: 0.6932 (Best: 0.7604)\n",
      "Current learning rate: [0.0005]\n",
      "Patience: 5/20\n"
     ]
    },
    {
     "name": "stderr",
     "output_type": "stream",
     "text": [
      "Epoch 34/200 (Training): 100%|██████████| 100/100 [00:11<00:00,  8.67it/s, loss=0.8834, acc=0.7600]\n"
     ]
    },
    {
     "name": "stdout",
     "output_type": "stream",
     "text": [
      "Avg Train Loss: 0.8829, Avg Train Acc: 0.8664 (Best: 0.8795)\n"
     ]
    },
    {
     "name": "stderr",
     "output_type": "stream",
     "text": [
      "Epoch 34/200 (Validation): 100%|██████████| 100/100 [00:11<00:00,  8.35it/s, loss=0.9398, acc=0.7067]\n"
     ]
    },
    {
     "name": "stdout",
     "output_type": "stream",
     "text": [
      "Avg Val Loss: 0.8976, Avg Val Acc: 0.8513 (Best)\n",
      "Current learning rate: [0.0005]\n",
      "Patience: 0/20\n"
     ]
    },
    {
     "name": "stderr",
     "output_type": "stream",
     "text": [
      "Epoch 35/200 (Training): 100%|██████████| 100/100 [00:10<00:00,  9.28it/s, loss=0.9387, acc=0.6800]\n"
     ]
    },
    {
     "name": "stdout",
     "output_type": "stream",
     "text": [
      "Avg Train Loss: 0.8780, Avg Train Acc: 0.8831 (Best)\n"
     ]
    },
    {
     "name": "stderr",
     "output_type": "stream",
     "text": [
      "Epoch 35/200 (Validation): 100%|██████████| 100/100 [00:12<00:00,  8.10it/s, loss=0.8726, acc=0.9067]\n"
     ]
    },
    {
     "name": "stdout",
     "output_type": "stream",
     "text": [
      "Avg Val Loss: 0.9578, Avg Val Acc: 0.7539 (Best: 0.8513)\n",
      "Current learning rate: [0.0005]\n",
      "Patience: 1/20\n"
     ]
    },
    {
     "name": "stderr",
     "output_type": "stream",
     "text": [
      "Epoch 36/200 (Training): 100%|██████████| 100/100 [00:10<00:00,  9.78it/s, loss=0.8647, acc=0.9333]\n"
     ]
    },
    {
     "name": "stdout",
     "output_type": "stream",
     "text": [
      "Avg Train Loss: 0.8706, Avg Train Acc: 0.8847 (Best)\n"
     ]
    },
    {
     "name": "stderr",
     "output_type": "stream",
     "text": [
      "Epoch 36/200 (Validation): 100%|██████████| 100/100 [00:12<00:00,  7.94it/s, loss=0.9063, acc=0.7733]\n"
     ]
    },
    {
     "name": "stdout",
     "output_type": "stream",
     "text": [
      "Avg Val Loss: 0.8903, Avg Val Acc: 0.8464 (Best: 0.8513)\n",
      "Current learning rate: [0.0005]\n",
      "Patience: 2/20\n"
     ]
    },
    {
     "name": "stderr",
     "output_type": "stream",
     "text": [
      "Epoch 37/200 (Training): 100%|██████████| 100/100 [00:09<00:00, 10.38it/s, loss=0.8101, acc=0.9867]\n"
     ]
    },
    {
     "name": "stdout",
     "output_type": "stream",
     "text": [
      "Avg Train Loss: 0.8697, Avg Train Acc: 0.8973 (Best)\n"
     ]
    },
    {
     "name": "stderr",
     "output_type": "stream",
     "text": [
      "Epoch 37/200 (Validation): 100%|██████████| 100/100 [00:12<00:00,  8.28it/s, loss=0.9112, acc=0.8667]\n"
     ]
    },
    {
     "name": "stdout",
     "output_type": "stream",
     "text": [
      "Avg Val Loss: 0.9303, Avg Val Acc: 0.8044 (Best: 0.8513)\n",
      "Current learning rate: [0.0005]\n",
      "Patience: 3/20\n"
     ]
    },
    {
     "name": "stderr",
     "output_type": "stream",
     "text": [
      "Epoch 38/200 (Training): 100%|██████████| 100/100 [00:10<00:00,  9.41it/s, loss=0.9940, acc=0.8400]\n"
     ]
    },
    {
     "name": "stdout",
     "output_type": "stream",
     "text": [
      "Avg Train Loss: 0.8816, Avg Train Acc: 0.8792 (Best: 0.8973)\n"
     ]
    },
    {
     "name": "stderr",
     "output_type": "stream",
     "text": [
      "Epoch 38/200 (Validation): 100%|██████████| 100/100 [00:12<00:00,  7.69it/s, loss=0.9677, acc=0.6267]\n"
     ]
    },
    {
     "name": "stdout",
     "output_type": "stream",
     "text": [
      "Avg Val Loss: 0.9313, Avg Val Acc: 0.7759 (Best: 0.8513)\n",
      "Current learning rate: [0.0005]\n",
      "Patience: 4/20\n"
     ]
    },
    {
     "name": "stderr",
     "output_type": "stream",
     "text": [
      "Epoch 39/200 (Training): 100%|██████████| 100/100 [00:10<00:00,  9.14it/s, loss=0.8507, acc=0.9467]\n"
     ]
    },
    {
     "name": "stdout",
     "output_type": "stream",
     "text": [
      "Avg Train Loss: 0.8809, Avg Train Acc: 0.8807 (Best: 0.8973)\n"
     ]
    },
    {
     "name": "stderr",
     "output_type": "stream",
     "text": [
      "Epoch 39/200 (Validation): 100%|██████████| 100/100 [00:11<00:00,  8.53it/s, loss=0.9112, acc=0.8667]\n"
     ]
    },
    {
     "name": "stdout",
     "output_type": "stream",
     "text": [
      "Avg Val Loss: 0.8784, Avg Val Acc: 0.9111 (Best)\n",
      "Current learning rate: [0.0005]\n",
      "Patience: 0/20\n"
     ]
    },
    {
     "name": "stderr",
     "output_type": "stream",
     "text": [
      "Epoch 40/200 (Training): 100%|██████████| 100/100 [00:09<00:00, 10.26it/s, loss=0.9778, acc=0.6667]\n"
     ]
    },
    {
     "name": "stdout",
     "output_type": "stream",
     "text": [
      "Avg Train Loss: 0.8778, Avg Train Acc: 0.8863 (Best: 0.8973)\n"
     ]
    },
    {
     "name": "stderr",
     "output_type": "stream",
     "text": [
      "Epoch 40/200 (Validation): 100%|██████████| 100/100 [00:12<00:00,  7.97it/s, loss=0.8562, acc=0.9600]\n"
     ]
    },
    {
     "name": "stdout",
     "output_type": "stream",
     "text": [
      "Avg Val Loss: 0.8817, Avg Val Acc: 0.9048 (Best: 0.9111)\n",
      "Current learning rate: [0.0005]\n",
      "Patience: 1/20\n"
     ]
    },
    {
     "name": "stderr",
     "output_type": "stream",
     "text": [
      "Epoch 41/200 (Training): 100%|██████████| 100/100 [00:10<00:00,  9.34it/s, loss=0.9025, acc=0.8933]\n"
     ]
    },
    {
     "name": "stdout",
     "output_type": "stream",
     "text": [
      "Avg Train Loss: 0.8782, Avg Train Acc: 0.8896 (Best: 0.8973)\n"
     ]
    },
    {
     "name": "stderr",
     "output_type": "stream",
     "text": [
      "Epoch 41/200 (Validation): 100%|██████████| 100/100 [00:12<00:00,  7.82it/s, loss=0.8759, acc=0.9200]\n"
     ]
    },
    {
     "name": "stdout",
     "output_type": "stream",
     "text": [
      "Avg Val Loss: 0.8892, Avg Val Acc: 0.9068 (Best: 0.9111)\n",
      "Current learning rate: [0.0005]\n",
      "Patience: 2/20\n"
     ]
    },
    {
     "name": "stderr",
     "output_type": "stream",
     "text": [
      "Epoch 42/200 (Training): 100%|██████████| 100/100 [00:10<00:00,  9.53it/s, loss=0.9204, acc=0.9067]\n"
     ]
    },
    {
     "name": "stdout",
     "output_type": "stream",
     "text": [
      "Avg Train Loss: 0.8784, Avg Train Acc: 0.8904 (Best: 0.8973)\n"
     ]
    },
    {
     "name": "stderr",
     "output_type": "stream",
     "text": [
      "Epoch 42/200 (Validation): 100%|██████████| 100/100 [00:12<00:00,  7.93it/s, loss=0.9877, acc=0.6933]\n"
     ]
    },
    {
     "name": "stdout",
     "output_type": "stream",
     "text": [
      "Avg Val Loss: 0.9548, Avg Val Acc: 0.7259 (Best: 0.9111)\n",
      "Current learning rate: [0.0005]\n",
      "Patience: 3/20\n"
     ]
    },
    {
     "name": "stderr",
     "output_type": "stream",
     "text": [
      "Epoch 43/200 (Training): 100%|██████████| 100/100 [00:11<00:00,  8.43it/s, loss=0.9014, acc=0.9333]\n"
     ]
    },
    {
     "name": "stdout",
     "output_type": "stream",
     "text": [
      "Avg Train Loss: 0.8744, Avg Train Acc: 0.8907 (Best: 0.8973)\n"
     ]
    },
    {
     "name": "stderr",
     "output_type": "stream",
     "text": [
      "Epoch 43/200 (Validation): 100%|██████████| 100/100 [00:12<00:00,  7.89it/s, loss=0.8617, acc=0.9600]\n"
     ]
    },
    {
     "name": "stdout",
     "output_type": "stream",
     "text": [
      "Avg Val Loss: 0.8926, Avg Val Acc: 0.8580 (Best: 0.9111)\n",
      "Current learning rate: [0.0005]\n",
      "Patience: 4/20\n"
     ]
    },
    {
     "name": "stderr",
     "output_type": "stream",
     "text": [
      "Epoch 44/200 (Training): 100%|██████████| 100/100 [00:09<00:00, 10.37it/s, loss=0.8732, acc=0.9333]\n"
     ]
    },
    {
     "name": "stdout",
     "output_type": "stream",
     "text": [
      "Avg Train Loss: 0.8745, Avg Train Acc: 0.8980 (Best)\n"
     ]
    },
    {
     "name": "stderr",
     "output_type": "stream",
     "text": [
      "Epoch 44/200 (Validation): 100%|██████████| 100/100 [00:12<00:00,  7.97it/s, loss=0.9534, acc=0.8667]\n"
     ]
    },
    {
     "name": "stdout",
     "output_type": "stream",
     "text": [
      "Avg Val Loss: 0.8935, Avg Val Acc: 0.9227 (Best)\n",
      "Current learning rate: [0.0005]\n",
      "Patience: 0/20\n"
     ]
    },
    {
     "name": "stderr",
     "output_type": "stream",
     "text": [
      "Epoch 45/200 (Training): 100%|██████████| 100/100 [00:11<00:00,  8.45it/s, loss=0.8774, acc=0.8667]\n"
     ]
    },
    {
     "name": "stdout",
     "output_type": "stream",
     "text": [
      "Avg Train Loss: 0.8730, Avg Train Acc: 0.9033 (Best)\n"
     ]
    },
    {
     "name": "stderr",
     "output_type": "stream",
     "text": [
      "Epoch 45/200 (Validation): 100%|██████████| 100/100 [00:12<00:00,  7.95it/s, loss=0.8650, acc=0.9200]\n"
     ]
    },
    {
     "name": "stdout",
     "output_type": "stream",
     "text": [
      "Avg Val Loss: 0.8918, Avg Val Acc: 0.9148 (Best: 0.9227)\n",
      "Current learning rate: [0.0005]\n",
      "Patience: 1/20\n"
     ]
    },
    {
     "name": "stderr",
     "output_type": "stream",
     "text": [
      "Epoch 46/200 (Training): 100%|██████████| 100/100 [00:11<00:00,  8.92it/s, loss=0.8486, acc=0.9067]\n"
     ]
    },
    {
     "name": "stdout",
     "output_type": "stream",
     "text": [
      "Avg Train Loss: 0.8690, Avg Train Acc: 0.9107 (Best)\n"
     ]
    },
    {
     "name": "stderr",
     "output_type": "stream",
     "text": [
      "Epoch 46/200 (Validation): 100%|██████████| 100/100 [00:12<00:00,  7.79it/s, loss=0.9049, acc=0.8800]\n"
     ]
    },
    {
     "name": "stdout",
     "output_type": "stream",
     "text": [
      "Avg Val Loss: 0.8836, Avg Val Acc: 0.9136 (Best: 0.9227)\n",
      "Current learning rate: [0.0005]\n",
      "Patience: 2/20\n"
     ]
    },
    {
     "name": "stderr",
     "output_type": "stream",
     "text": [
      "Epoch 47/200 (Training): 100%|██████████| 100/100 [00:09<00:00, 10.17it/s, loss=0.8054, acc=1.0000]\n"
     ]
    },
    {
     "name": "stdout",
     "output_type": "stream",
     "text": [
      "Avg Train Loss: 0.8776, Avg Train Acc: 0.9044 (Best: 0.9107)\n"
     ]
    },
    {
     "name": "stderr",
     "output_type": "stream",
     "text": [
      "Epoch 47/200 (Validation): 100%|██████████| 100/100 [00:13<00:00,  7.37it/s, loss=1.0009, acc=0.8933]\n"
     ]
    },
    {
     "name": "stdout",
     "output_type": "stream",
     "text": [
      "Avg Val Loss: 0.8980, Avg Val Acc: 0.8992 (Best: 0.9227)\n",
      "Current learning rate: [0.0005]\n",
      "Patience: 3/20\n"
     ]
    },
    {
     "name": "stderr",
     "output_type": "stream",
     "text": [
      "Epoch 48/200 (Training): 100%|██████████| 100/100 [00:09<00:00, 10.95it/s, loss=0.8565, acc=0.9200]\n"
     ]
    },
    {
     "name": "stdout",
     "output_type": "stream",
     "text": [
      "Avg Train Loss: 0.8666, Avg Train Acc: 0.9119 (Best)\n"
     ]
    },
    {
     "name": "stderr",
     "output_type": "stream",
     "text": [
      "Epoch 48/200 (Validation): 100%|██████████| 100/100 [00:13<00:00,  7.62it/s, loss=0.9102, acc=0.8133]\n"
     ]
    },
    {
     "name": "stdout",
     "output_type": "stream",
     "text": [
      "Avg Val Loss: 0.8959, Avg Val Acc: 0.8988 (Best: 0.9227)\n",
      "Current learning rate: [0.0005]\n",
      "Patience: 4/20\n"
     ]
    },
    {
     "name": "stderr",
     "output_type": "stream",
     "text": [
      "Epoch 49/200 (Training): 100%|██████████| 100/100 [00:09<00:00, 10.22it/s, loss=0.8583, acc=0.9867]\n"
     ]
    },
    {
     "name": "stdout",
     "output_type": "stream",
     "text": [
      "Avg Train Loss: 0.8708, Avg Train Acc: 0.9109 (Best: 0.9119)\n"
     ]
    },
    {
     "name": "stderr",
     "output_type": "stream",
     "text": [
      "Epoch 49/200 (Validation): 100%|██████████| 100/100 [00:12<00:00,  7.88it/s, loss=0.8591, acc=0.8667]\n"
     ]
    },
    {
     "name": "stdout",
     "output_type": "stream",
     "text": [
      "Avg Val Loss: 0.8927, Avg Val Acc: 0.8711 (Best: 0.9227)\n",
      "Current learning rate: [0.0005]\n",
      "Patience: 5/20\n"
     ]
    },
    {
     "name": "stderr",
     "output_type": "stream",
     "text": [
      "Epoch 50/200 (Training): 100%|██████████| 100/100 [00:09<00:00, 10.83it/s, loss=0.8864, acc=0.9733]\n"
     ]
    },
    {
     "name": "stdout",
     "output_type": "stream",
     "text": [
      "Avg Train Loss: 0.8575, Avg Train Acc: 0.9280 (Best)\n"
     ]
    },
    {
     "name": "stderr",
     "output_type": "stream",
     "text": [
      "Epoch 50/200 (Validation): 100%|██████████| 100/100 [00:12<00:00,  8.14it/s, loss=0.9283, acc=0.8400]\n"
     ]
    },
    {
     "name": "stdout",
     "output_type": "stream",
     "text": [
      "Avg Val Loss: 0.9042, Avg Val Acc: 0.8833 (Best: 0.9227)\n",
      "Current learning rate: [0.00025]\n",
      "Patience: 6/20\n"
     ]
    },
    {
     "name": "stderr",
     "output_type": "stream",
     "text": [
      "Epoch 51/200 (Training): 100%|██████████| 100/100 [00:10<00:00,  9.80it/s, loss=0.8970, acc=0.8533]\n"
     ]
    },
    {
     "name": "stdout",
     "output_type": "stream",
     "text": [
      "Avg Train Loss: 0.8646, Avg Train Acc: 0.9176 (Best: 0.9280)\n"
     ]
    },
    {
     "name": "stderr",
     "output_type": "stream",
     "text": [
      "Epoch 51/200 (Validation): 100%|██████████| 100/100 [00:12<00:00,  8.09it/s, loss=0.8845, acc=0.8933]\n"
     ]
    },
    {
     "name": "stdout",
     "output_type": "stream",
     "text": [
      "Avg Val Loss: 0.8765, Avg Val Acc: 0.9236 (Best)\n",
      "Current learning rate: [0.00025]\n",
      "Patience: 0/20\n"
     ]
    },
    {
     "name": "stderr",
     "output_type": "stream",
     "text": [
      "Epoch 52/200 (Training): 100%|██████████| 100/100 [00:08<00:00, 12.27it/s, loss=0.9015, acc=0.8800]\n"
     ]
    },
    {
     "name": "stdout",
     "output_type": "stream",
     "text": [
      "Avg Train Loss: 0.8629, Avg Train Acc: 0.9239 (Best: 0.9280)\n"
     ]
    },
    {
     "name": "stderr",
     "output_type": "stream",
     "text": [
      "Epoch 52/200 (Validation): 100%|██████████| 100/100 [00:13<00:00,  7.49it/s, loss=0.9480, acc=0.8667]\n"
     ]
    },
    {
     "name": "stdout",
     "output_type": "stream",
     "text": [
      "Avg Val Loss: 0.9119, Avg Val Acc: 0.8573 (Best: 0.9236)\n",
      "Current learning rate: [0.00025]\n",
      "Patience: 1/20\n"
     ]
    },
    {
     "name": "stderr",
     "output_type": "stream",
     "text": [
      "Epoch 53/200 (Training): 100%|██████████| 100/100 [00:09<00:00, 10.06it/s, loss=0.8659, acc=0.8933]\n"
     ]
    },
    {
     "name": "stdout",
     "output_type": "stream",
     "text": [
      "Avg Train Loss: 0.8591, Avg Train Acc: 0.9265 (Best: 0.9280)\n"
     ]
    },
    {
     "name": "stderr",
     "output_type": "stream",
     "text": [
      "Epoch 53/200 (Validation): 100%|██████████| 100/100 [00:13<00:00,  7.69it/s, loss=1.0373, acc=0.7600]\n"
     ]
    },
    {
     "name": "stdout",
     "output_type": "stream",
     "text": [
      "Avg Val Loss: 0.9191, Avg Val Acc: 0.8719 (Best: 0.9236)\n",
      "Current learning rate: [0.00025]\n",
      "Patience: 2/20\n"
     ]
    },
    {
     "name": "stderr",
     "output_type": "stream",
     "text": [
      "Epoch 54/200 (Training): 100%|██████████| 100/100 [00:10<00:00,  9.92it/s, loss=0.8237, acc=0.9867]\n"
     ]
    },
    {
     "name": "stdout",
     "output_type": "stream",
     "text": [
      "Avg Train Loss: 0.8591, Avg Train Acc: 0.9219 (Best: 0.9280)\n"
     ]
    },
    {
     "name": "stderr",
     "output_type": "stream",
     "text": [
      "Epoch 54/200 (Validation): 100%|██████████| 100/100 [00:13<00:00,  7.54it/s, loss=0.9614, acc=0.8933]\n"
     ]
    },
    {
     "name": "stdout",
     "output_type": "stream",
     "text": [
      "Avg Val Loss: 0.9096, Avg Val Acc: 0.8977 (Best: 0.9236)\n",
      "Current learning rate: [0.00025]\n",
      "Patience: 3/20\n"
     ]
    },
    {
     "name": "stderr",
     "output_type": "stream",
     "text": [
      "Epoch 55/200 (Training): 100%|██████████| 100/100 [00:09<00:00, 10.51it/s, loss=0.8575, acc=0.9733]\n"
     ]
    },
    {
     "name": "stdout",
     "output_type": "stream",
     "text": [
      "Avg Train Loss: 0.8591, Avg Train Acc: 0.9191 (Best: 0.9280)\n"
     ]
    },
    {
     "name": "stderr",
     "output_type": "stream",
     "text": [
      "Epoch 55/200 (Validation): 100%|██████████| 100/100 [00:12<00:00,  8.30it/s, loss=1.0278, acc=0.6667]\n"
     ]
    },
    {
     "name": "stdout",
     "output_type": "stream",
     "text": [
      "Avg Val Loss: 0.9264, Avg Val Acc: 0.8245 (Best: 0.9236)\n",
      "Current learning rate: [0.00025]\n",
      "Patience: 4/20\n"
     ]
    },
    {
     "name": "stderr",
     "output_type": "stream",
     "text": [
      "Epoch 56/200 (Training): 100%|██████████| 100/100 [00:08<00:00, 11.22it/s, loss=0.8731, acc=0.8400]\n"
     ]
    },
    {
     "name": "stdout",
     "output_type": "stream",
     "text": [
      "Avg Train Loss: 0.8581, Avg Train Acc: 0.9235 (Best: 0.9280)\n"
     ]
    },
    {
     "name": "stderr",
     "output_type": "stream",
     "text": [
      "Epoch 56/200 (Validation): 100%|██████████| 100/100 [00:12<00:00,  7.88it/s, loss=0.9521, acc=0.9867]\n"
     ]
    },
    {
     "name": "stdout",
     "output_type": "stream",
     "text": [
      "Avg Val Loss: 0.9278, Avg Val Acc: 0.8529 (Best: 0.9236)\n",
      "Current learning rate: [0.00025]\n",
      "Patience: 5/20\n"
     ]
    },
    {
     "name": "stderr",
     "output_type": "stream",
     "text": [
      "Epoch 57/200 (Training): 100%|██████████| 100/100 [00:10<00:00,  9.62it/s, loss=0.8974, acc=0.8400]\n"
     ]
    },
    {
     "name": "stdout",
     "output_type": "stream",
     "text": [
      "Avg Train Loss: 0.8578, Avg Train Acc: 0.9215 (Best: 0.9280)\n"
     ]
    },
    {
     "name": "stderr",
     "output_type": "stream",
     "text": [
      "Epoch 57/200 (Validation): 100%|██████████| 100/100 [00:13<00:00,  7.32it/s, loss=0.9638, acc=0.9600]\n"
     ]
    },
    {
     "name": "stdout",
     "output_type": "stream",
     "text": [
      "Avg Val Loss: 0.9291, Avg Val Acc: 0.8357 (Best: 0.9236)\n",
      "Current learning rate: [0.00025]\n",
      "Patience: 6/20\n"
     ]
    },
    {
     "name": "stderr",
     "output_type": "stream",
     "text": [
      "Epoch 58/200 (Training): 100%|██████████| 100/100 [00:10<00:00,  9.41it/s, loss=0.9034, acc=0.8400]\n"
     ]
    },
    {
     "name": "stdout",
     "output_type": "stream",
     "text": [
      "Avg Train Loss: 0.8553, Avg Train Acc: 0.9228 (Best: 0.9280)\n"
     ]
    },
    {
     "name": "stderr",
     "output_type": "stream",
     "text": [
      "Epoch 58/200 (Validation): 100%|██████████| 100/100 [00:13<00:00,  7.47it/s, loss=0.9435, acc=0.7067]\n"
     ]
    },
    {
     "name": "stdout",
     "output_type": "stream",
     "text": [
      "Avg Val Loss: 0.9148, Avg Val Acc: 0.8647 (Best: 0.9236)\n",
      "Current learning rate: [0.00025]\n",
      "Patience: 7/20\n"
     ]
    },
    {
     "name": "stderr",
     "output_type": "stream",
     "text": [
      "Epoch 59/200 (Training): 100%|██████████| 100/100 [00:11<00:00,  8.71it/s, loss=0.8411, acc=0.9067]\n"
     ]
    },
    {
     "name": "stdout",
     "output_type": "stream",
     "text": [
      "Avg Train Loss: 0.8587, Avg Train Acc: 0.9251 (Best: 0.9280)\n"
     ]
    },
    {
     "name": "stderr",
     "output_type": "stream",
     "text": [
      "Epoch 59/200 (Validation): 100%|██████████| 100/100 [00:12<00:00,  7.79it/s, loss=0.8947, acc=0.8800]\n"
     ]
    },
    {
     "name": "stdout",
     "output_type": "stream",
     "text": [
      "Avg Val Loss: 0.8904, Avg Val Acc: 0.8793 (Best: 0.9236)\n",
      "Current learning rate: [0.00025]\n",
      "Patience: 8/20\n"
     ]
    },
    {
     "name": "stderr",
     "output_type": "stream",
     "text": [
      "Epoch 60/200 (Training): 100%|██████████| 100/100 [00:09<00:00, 10.46it/s, loss=0.8159, acc=0.9467]\n"
     ]
    },
    {
     "name": "stdout",
     "output_type": "stream",
     "text": [
      "Avg Train Loss: 0.8559, Avg Train Acc: 0.9088 (Best: 0.9280)\n"
     ]
    },
    {
     "name": "stderr",
     "output_type": "stream",
     "text": [
      "Epoch 60/200 (Validation): 100%|██████████| 100/100 [00:12<00:00,  8.31it/s, loss=0.9771, acc=0.7867]\n"
     ]
    },
    {
     "name": "stdout",
     "output_type": "stream",
     "text": [
      "Avg Val Loss: 0.9255, Avg Val Acc: 0.8637 (Best: 0.9236)\n",
      "Current learning rate: [0.00025]\n",
      "Patience: 9/20\n"
     ]
    },
    {
     "name": "stderr",
     "output_type": "stream",
     "text": [
      "Epoch 61/200 (Training): 100%|██████████| 100/100 [00:11<00:00,  8.78it/s, loss=0.8194, acc=0.9467]\n"
     ]
    },
    {
     "name": "stdout",
     "output_type": "stream",
     "text": [
      "Avg Train Loss: 0.8606, Avg Train Acc: 0.9269 (Best: 0.9280)\n"
     ]
    },
    {
     "name": "stderr",
     "output_type": "stream",
     "text": [
      "Epoch 61/200 (Validation): 100%|██████████| 100/100 [00:12<00:00,  8.08it/s, loss=0.9172, acc=0.9467]\n"
     ]
    },
    {
     "name": "stdout",
     "output_type": "stream",
     "text": [
      "Avg Val Loss: 0.8944, Avg Val Acc: 0.9029 (Best: 0.9236)\n",
      "Current learning rate: [0.00025]\n",
      "Patience: 10/20\n"
     ]
    },
    {
     "name": "stderr",
     "output_type": "stream",
     "text": [
      "Epoch 62/200 (Training): 100%|██████████| 100/100 [00:10<00:00,  9.51it/s, loss=0.8519, acc=0.9200]\n"
     ]
    },
    {
     "name": "stdout",
     "output_type": "stream",
     "text": [
      "Avg Train Loss: 0.8538, Avg Train Acc: 0.9263 (Best: 0.9280)\n"
     ]
    },
    {
     "name": "stderr",
     "output_type": "stream",
     "text": [
      "Epoch 62/200 (Validation): 100%|██████████| 100/100 [00:12<00:00,  7.86it/s, loss=0.8928, acc=0.8267]\n"
     ]
    },
    {
     "name": "stdout",
     "output_type": "stream",
     "text": [
      "Avg Val Loss: 0.8857, Avg Val Acc: 0.8928 (Best: 0.9236)\n",
      "Current learning rate: [0.000125]\n",
      "Patience: 11/20\n"
     ]
    },
    {
     "name": "stderr",
     "output_type": "stream",
     "text": [
      "Epoch 63/200 (Training): 100%|██████████| 100/100 [00:11<00:00,  8.91it/s, loss=0.8094, acc=1.0000]\n"
     ]
    },
    {
     "name": "stdout",
     "output_type": "stream",
     "text": [
      "Avg Train Loss: 0.8669, Avg Train Acc: 0.9137 (Best: 0.9280)\n"
     ]
    },
    {
     "name": "stderr",
     "output_type": "stream",
     "text": [
      "Epoch 63/200 (Validation): 100%|██████████| 100/100 [00:13<00:00,  7.67it/s, loss=0.8808, acc=0.8667]\n"
     ]
    },
    {
     "name": "stdout",
     "output_type": "stream",
     "text": [
      "Avg Val Loss: 0.8910, Avg Val Acc: 0.9143 (Best: 0.9236)\n",
      "Current learning rate: [0.000125]\n",
      "Patience: 12/20\n"
     ]
    },
    {
     "name": "stderr",
     "output_type": "stream",
     "text": [
      "Epoch 64/200 (Training): 100%|██████████| 100/100 [00:10<00:00,  9.11it/s, loss=0.8188, acc=0.9467]\n"
     ]
    },
    {
     "name": "stdout",
     "output_type": "stream",
     "text": [
      "Avg Train Loss: 0.8547, Avg Train Acc: 0.9217 (Best: 0.9280)\n"
     ]
    },
    {
     "name": "stderr",
     "output_type": "stream",
     "text": [
      "Epoch 64/200 (Validation): 100%|██████████| 100/100 [00:12<00:00,  8.09it/s, loss=0.8666, acc=0.8667]\n"
     ]
    },
    {
     "name": "stdout",
     "output_type": "stream",
     "text": [
      "Avg Val Loss: 0.8773, Avg Val Acc: 0.9191 (Best: 0.9236)\n",
      "Current learning rate: [0.000125]\n",
      "Patience: 13/20\n"
     ]
    },
    {
     "name": "stderr",
     "output_type": "stream",
     "text": [
      "Epoch 65/200 (Training): 100%|██████████| 100/100 [00:10<00:00,  9.58it/s, loss=0.8753, acc=0.8667]\n"
     ]
    },
    {
     "name": "stdout",
     "output_type": "stream",
     "text": [
      "Avg Train Loss: 0.8611, Avg Train Acc: 0.9161 (Best: 0.9280)\n"
     ]
    },
    {
     "name": "stderr",
     "output_type": "stream",
     "text": [
      "Epoch 65/200 (Validation): 100%|██████████| 100/100 [00:12<00:00,  8.00it/s, loss=0.8322, acc=0.9200]\n"
     ]
    },
    {
     "name": "stdout",
     "output_type": "stream",
     "text": [
      "Avg Val Loss: 0.9220, Avg Val Acc: 0.8455 (Best: 0.9236)\n",
      "Current learning rate: [0.000125]\n",
      "Patience: 14/20\n"
     ]
    },
    {
     "name": "stderr",
     "output_type": "stream",
     "text": [
      "Epoch 66/200 (Training): 100%|██████████| 100/100 [00:10<00:00,  9.63it/s, loss=0.8712, acc=0.8667]\n"
     ]
    },
    {
     "name": "stdout",
     "output_type": "stream",
     "text": [
      "Avg Train Loss: 0.8528, Avg Train Acc: 0.9211 (Best: 0.9280)\n"
     ]
    },
    {
     "name": "stderr",
     "output_type": "stream",
     "text": [
      "Epoch 66/200 (Validation): 100%|██████████| 100/100 [00:11<00:00,  8.55it/s, loss=0.9060, acc=0.8267]\n"
     ]
    },
    {
     "name": "stdout",
     "output_type": "stream",
     "text": [
      "Avg Val Loss: 0.9001, Avg Val Acc: 0.8736 (Best: 0.9236)\n",
      "Current learning rate: [0.000125]\n",
      "Patience: 15/20\n"
     ]
    },
    {
     "name": "stderr",
     "output_type": "stream",
     "text": [
      "Epoch 67/200 (Training): 100%|██████████| 100/100 [00:12<00:00,  8.19it/s, loss=0.8302, acc=0.9733]\n"
     ]
    },
    {
     "name": "stdout",
     "output_type": "stream",
     "text": [
      "Avg Train Loss: 0.8552, Avg Train Acc: 0.9233 (Best: 0.9280)\n"
     ]
    },
    {
     "name": "stderr",
     "output_type": "stream",
     "text": [
      "Epoch 67/200 (Validation): 100%|██████████| 100/100 [00:12<00:00,  7.93it/s, loss=0.9141, acc=1.0000]\n"
     ]
    },
    {
     "name": "stdout",
     "output_type": "stream",
     "text": [
      "Avg Val Loss: 0.8992, Avg Val Acc: 0.8597 (Best: 0.9236)\n",
      "Current learning rate: [0.000125]\n",
      "Patience: 16/20\n"
     ]
    },
    {
     "name": "stderr",
     "output_type": "stream",
     "text": [
      "Epoch 68/200 (Training): 100%|██████████| 100/100 [00:09<00:00, 10.88it/s, loss=0.8333, acc=0.9867]\n"
     ]
    },
    {
     "name": "stdout",
     "output_type": "stream",
     "text": [
      "Avg Train Loss: 0.8637, Avg Train Acc: 0.9095 (Best: 0.9280)\n"
     ]
    },
    {
     "name": "stderr",
     "output_type": "stream",
     "text": [
      "Epoch 68/200 (Validation): 100%|██████████| 100/100 [00:13<00:00,  7.58it/s, loss=0.9697, acc=0.7467]\n"
     ]
    },
    {
     "name": "stdout",
     "output_type": "stream",
     "text": [
      "Avg Val Loss: 0.9279, Avg Val Acc: 0.8388 (Best: 0.9236)\n",
      "Current learning rate: [0.000125]\n",
      "Patience: 17/20\n"
     ]
    },
    {
     "name": "stderr",
     "output_type": "stream",
     "text": [
      "Epoch 69/200 (Training): 100%|██████████| 100/100 [00:10<00:00,  9.64it/s, loss=0.8125, acc=0.8933]\n"
     ]
    },
    {
     "name": "stdout",
     "output_type": "stream",
     "text": [
      "Avg Train Loss: 0.8566, Avg Train Acc: 0.9208 (Best: 0.9280)\n"
     ]
    },
    {
     "name": "stderr",
     "output_type": "stream",
     "text": [
      "Epoch 69/200 (Validation): 100%|██████████| 100/100 [00:12<00:00,  7.74it/s, loss=0.8768, acc=0.8400]\n"
     ]
    },
    {
     "name": "stdout",
     "output_type": "stream",
     "text": [
      "Avg Val Loss: 0.8909, Avg Val Acc: 0.8985 (Best: 0.9236)\n",
      "Current learning rate: [0.000125]\n",
      "Patience: 18/20\n"
     ]
    },
    {
     "name": "stderr",
     "output_type": "stream",
     "text": [
      "Epoch 70/200 (Training): 100%|██████████| 100/100 [00:09<00:00, 10.52it/s, loss=0.8214, acc=0.9867]\n"
     ]
    },
    {
     "name": "stdout",
     "output_type": "stream",
     "text": [
      "Avg Train Loss: 0.8478, Avg Train Acc: 0.9295 (Best)\n"
     ]
    },
    {
     "name": "stderr",
     "output_type": "stream",
     "text": [
      "Epoch 70/200 (Validation): 100%|██████████| 100/100 [00:12<00:00,  7.91it/s, loss=0.9042, acc=0.9067]\n"
     ]
    },
    {
     "name": "stdout",
     "output_type": "stream",
     "text": [
      "Avg Val Loss: 0.8905, Avg Val Acc: 0.8841 (Best: 0.9236)\n",
      "Current learning rate: [0.000125]\n",
      "Patience: 19/20\n"
     ]
    },
    {
     "name": "stderr",
     "output_type": "stream",
     "text": [
      "Epoch 71/200 (Training): 100%|██████████| 100/100 [00:10<00:00,  9.70it/s, loss=0.8215, acc=0.9733]\n"
     ]
    },
    {
     "name": "stdout",
     "output_type": "stream",
     "text": [
      "Avg Train Loss: 0.8534, Avg Train Acc: 0.9283 (Best: 0.9295)\n"
     ]
    },
    {
     "name": "stderr",
     "output_type": "stream",
     "text": [
      "Epoch 71/200 (Validation): 100%|██████████| 100/100 [00:12<00:00,  8.00it/s, loss=0.8979, acc=0.8267]"
     ]
    },
    {
     "name": "stdout",
     "output_type": "stream",
     "text": [
      "Avg Val Loss: 0.8972, Avg Val Acc: 0.8781 (Best: 0.9236)\n",
      "Current learning rate: [0.000125]\n",
      "Early stopping\n",
      "Finish training\n"
     ]
    },
    {
     "name": "stderr",
     "output_type": "stream",
     "text": [
      "\n"
     ]
    }
   ],
   "source": [
    "from loadDataset import LoadDataset\n",
    "from fcgVectorize import FCGVectorize\n",
    "from trainModule import TrainModule\n",
    "from trainModule import TestModule\n",
    "import os\n",
    "\n",
    "dataset = LoadDataset(options, pretrain=False)\n",
    "vectorizer = FCGVectorize(options, dataset)\n",
    "vectorizer.node_embedding(dataset.rawDataset)\n",
    "trainModule = TrainModule(options, dataset)\n",
    "trainModule.train()\n"
   ]
  },
  {
   "cell_type": "code",
   "execution_count": 4,
   "metadata": {},
   "outputs": [
    {
     "name": "stdout",
     "output_type": "stream",
     "text": [
      "Setting up the testing module...\n",
      "Loading data from /mnt/ssd2t/mandy/Projects/few_shot_fcg/embeddings/x86_64_withVal_withPretrain_ghidra_42/word2vec...\n",
      "Loading validation data...\n",
      "Loading data from /mnt/ssd2t/mandy/Projects/few_shot_fcg/embeddings/x86_64_withVal_withPretrain_ghidra_42/word2vec/valData.pkl...\n",
      "Loading testing data...\n",
      "Loading data from /mnt/ssd2t/mandy/Projects/few_shot_fcg/embeddings/x86_64_withVal_withPretrain_ghidra_42/word2vec/testData.pkl...\n",
      "Finish setting up the testing module\n",
      "Model path is not provided. Using the best model...\n",
      "Record evaluation log...\n",
      "Loading model from ./checkpoints/x86_64_withVal_withPretrain_ghidra_42_baseline/5way_5shot_LabelPropagation_20250226_144314/epoch_51_0.9236000257730484_best.pth\n",
      "Best model loaded\n",
      "Model: LabelPropagation(\n",
      "  (encoder): GraphSAGELayer(\n",
      "    (sage_convs): ModuleList(\n",
      "      (0-2): 3 x SAGEConv(128, 128, aggr=mean)\n",
      "    )\n",
      "    (norms): ModuleList(\n",
      "      (0-2): 3 x BatchNorm1d(128, eps=1e-05, momentum=0.1, affine=True, track_running_stats=True)\n",
      "    )\n",
      "  )\n",
      "  (relation): GraphRelationNetwork(\n",
      "    (sage): GraphSAGELayer(\n",
      "      (sage_convs): ModuleList(\n",
      "        (0): SAGEConv(128, 64, aggr=mean)\n",
      "        (1): SAGEConv(64, 32, aggr=mean)\n",
      "      )\n",
      "      (norms): ModuleList(\n",
      "        (0): BatchNorm1d(64, eps=1e-05, momentum=0.1, affine=True, track_running_stats=True)\n",
      "        (1): BatchNorm1d(32, eps=1e-05, momentum=0.1, affine=True, track_running_stats=True)\n",
      "      )\n",
      "    )\n",
      "    (fc): Sequential(\n",
      "      (0): Linear(in_features=32, out_features=16, bias=True)\n",
      "      (1): ReLU()\n",
      "      (2): Linear(in_features=16, out_features=1, bias=True)\n",
      "    )\n",
      "  )\n",
      ")\n",
      "Start evaluation... (testing dataset)\n",
      "Epoch 1\n"
     ]
    },
    {
     "name": "stderr",
     "output_type": "stream",
     "text": [
      "Testing: 100%|██████████| 100/100 [00:26<00:00,  3.72it/s]\n"
     ]
    },
    {
     "name": "stdout",
     "output_type": "stream",
     "text": [
      "Epoch 2\n"
     ]
    },
    {
     "name": "stderr",
     "output_type": "stream",
     "text": [
      "Testing: 100%|██████████| 100/100 [00:27<00:00,  3.64it/s]\n"
     ]
    },
    {
     "name": "stdout",
     "output_type": "stream",
     "text": [
      "Epoch 3\n"
     ]
    },
    {
     "name": "stderr",
     "output_type": "stream",
     "text": [
      "Testing: 100%|██████████| 100/100 [00:25<00:00,  3.94it/s]\n"
     ]
    },
    {
     "name": "stdout",
     "output_type": "stream",
     "text": [
      "Epoch 4\n"
     ]
    },
    {
     "name": "stderr",
     "output_type": "stream",
     "text": [
      "Testing: 100%|██████████| 100/100 [00:27<00:00,  3.68it/s]\n"
     ]
    },
    {
     "name": "stdout",
     "output_type": "stream",
     "text": [
      "Epoch 5\n"
     ]
    },
    {
     "name": "stderr",
     "output_type": "stream",
     "text": [
      "Testing: 100%|██████████| 100/100 [00:25<00:00,  3.89it/s]\n"
     ]
    },
    {
     "name": "stdout",
     "output_type": "stream",
     "text": [
      "Epoch 6\n"
     ]
    },
    {
     "name": "stderr",
     "output_type": "stream",
     "text": [
      "Testing: 100%|██████████| 100/100 [00:25<00:00,  3.88it/s]\n"
     ]
    },
    {
     "name": "stdout",
     "output_type": "stream",
     "text": [
      "Epoch 7\n"
     ]
    },
    {
     "name": "stderr",
     "output_type": "stream",
     "text": [
      "Testing: 100%|██████████| 100/100 [00:26<00:00,  3.83it/s]\n"
     ]
    },
    {
     "name": "stdout",
     "output_type": "stream",
     "text": [
      "Epoch 8\n"
     ]
    },
    {
     "name": "stderr",
     "output_type": "stream",
     "text": [
      "Testing: 100%|██████████| 100/100 [00:25<00:00,  3.99it/s]\n"
     ]
    },
    {
     "name": "stdout",
     "output_type": "stream",
     "text": [
      "Epoch 9\n"
     ]
    },
    {
     "name": "stderr",
     "output_type": "stream",
     "text": [
      "Testing: 100%|██████████| 100/100 [00:26<00:00,  3.78it/s]\n"
     ]
    },
    {
     "name": "stdout",
     "output_type": "stream",
     "text": [
      "Epoch 10\n"
     ]
    },
    {
     "name": "stderr",
     "output_type": "stream",
     "text": [
      "Testing: 100%|██████████| 100/100 [00:25<00:00,  3.86it/s]"
     ]
    },
    {
     "name": "stdout",
     "output_type": "stream",
     "text": [
      "Testing accuracy: 0.8734\n",
      "Finish evaluation\n"
     ]
    },
    {
     "name": "stderr",
     "output_type": "stream",
     "text": [
      "\n"
     ]
    }
   ],
   "source": [
    "test = TestModule(os.path.join(trainModule.model_folder, \"config.json\"), dataset, options)\n",
    "test.eval()"
   ]
  }
 ],
 "metadata": {
  "kernelspec": {
   "display_name": "prototype",
   "language": "python",
   "name": "python3"
  },
  "language_info": {
   "codemirror_mode": {
    "name": "ipython",
    "version": 3
   },
   "file_extension": ".py",
   "mimetype": "text/x-python",
   "name": "python",
   "nbconvert_exporter": "python",
   "pygments_lexer": "ipython3",
   "version": "3.11.9"
  }
 },
 "nbformat": 4,
 "nbformat_minor": 2
}
