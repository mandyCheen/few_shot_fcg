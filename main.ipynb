{
 "cells": [
  {
   "cell_type": "code",
   "execution_count": 7,
   "metadata": {},
   "outputs": [
    {
     "name": "stdout",
     "output_type": "stream",
     "text": [
      "The autoreload extension is already loaded. To reload it, use:\n",
      "  %reload_ext autoreload\n"
     ]
    }
   ],
   "source": [
    "%load_ext autoreload\n",
    "%autoreload 2 \n",
    "import warnings\n",
    "warnings.filterwarnings(\"ignore\")"
   ]
  },
  {
   "cell_type": "code",
   "execution_count": 8,
   "metadata": {},
   "outputs": [],
   "source": [
    "from utils import load_config, save_config\n",
    "options = load_config(\"./config/config_label_prop.json\")"
   ]
  },
  {
   "cell_type": "code",
   "execution_count": 9,
   "metadata": {},
   "outputs": [
    {
     "name": "stdout",
     "output_type": "stream",
     "text": [
      "Loading all datasets...\n",
      "train dataset shape: (1180, 16)\n",
      "train dataset family number: 59\n",
      "test dataset shape: (200, 16)\n",
      "test dataset family number: 10\n",
      "val dataset shape: (200, 16)\n",
      "val dataset family number: 10\n",
      "Word2vec model exist, load word2vec model...\n",
      "Start to get node embedding...\n"
     ]
    },
    {
     "name": "stderr",
     "output_type": "stream",
     "text": [
      "100%|██████████| 1580/1580 [00:00<00:00, 55388.86it/s]"
     ]
    },
    {
     "name": "stdout",
     "output_type": "stream",
     "text": [
      "Finish getting node embedding\n",
      "Setting up the training module...\n",
      "Loading data from /mnt/ssd2t/mandy/Projects/few_shot_fcg/embeddings/x86_64_withVal_withPretrain_ghidra_6/word2vec...\n",
      "Loading training data...\n",
      "Loading data from /mnt/ssd2t/mandy/Projects/few_shot_fcg/embeddings/x86_64_withVal_withPretrain_ghidra_6/word2vec/trainData.pkl...\n"
     ]
    },
    {
     "name": "stderr",
     "output_type": "stream",
     "text": [
      "\n"
     ]
    },
    {
     "name": "stdout",
     "output_type": "stream",
     "text": [
      "Loading validation data...\n",
      "Loading data from /mnt/ssd2t/mandy/Projects/few_shot_fcg/embeddings/x86_64_withVal_withPretrain_ghidra_6/word2vec/valData.pkl...\n",
      "Device: cuda:0\n",
      "Model: LabelPropagation(\n",
      "  (relation): GraphRelationNetwork(\n",
      "    (sage): GraphSAGELayer(\n",
      "      (sage_convs): ModuleList(\n",
      "        (0): SAGEConv(128, 64, aggr=mean)\n",
      "      )\n",
      "      (norms): ModuleList(\n",
      "        (0): BatchNorm1d(64, eps=1e-05, momentum=0.1, affine=True, track_running_stats=True)\n",
      "      )\n",
      "    )\n",
      "    (fc): Sequential(\n",
      "      (0): Linear(in_features=64, out_features=32, bias=True)\n",
      "      (1): ReLU()\n",
      "      (2): Linear(in_features=32, out_features=1, bias=True)\n",
      "    )\n",
      "  )\n",
      "  (encoder): GraphSAGELayer(\n",
      "    (sage_convs): ModuleList(\n",
      "      (0-1): 2 x SAGEConv(128, 128, aggr=mean)\n",
      "    )\n",
      "    (norms): ModuleList(\n",
      "      (0-1): 2 x BatchNorm1d(128, eps=1e-05, momentum=0.1, affine=True, track_running_stats=True)\n",
      "    )\n",
      "  )\n",
      ")\n",
      "Loss function: LabelPropagation(\n",
      "  (relation): GraphRelationNetwork(\n",
      "    (sage): GraphSAGELayer(\n",
      "      (sage_convs): ModuleList(\n",
      "        (0): SAGEConv(128, 64, aggr=mean)\n",
      "      )\n",
      "      (norms): ModuleList(\n",
      "        (0): BatchNorm1d(64, eps=1e-05, momentum=0.1, affine=True, track_running_stats=True)\n",
      "      )\n",
      "    )\n",
      "    (fc): Sequential(\n",
      "      (0): Linear(in_features=64, out_features=32, bias=True)\n",
      "      (1): ReLU()\n",
      "      (2): Linear(in_features=32, out_features=1, bias=True)\n",
      "    )\n",
      "  )\n",
      "  (encoder): GraphSAGELayer(\n",
      "    (sage_convs): ModuleList(\n",
      "      (0-1): 2 x SAGEConv(128, 128, aggr=mean)\n",
      "    )\n",
      "    (norms): ModuleList(\n",
      "      (0-1): 2 x BatchNorm1d(128, eps=1e-05, momentum=0.1, affine=True, track_running_stats=True)\n",
      "    )\n",
      "  )\n",
      ")\n",
      "Optimizer: Adam (\n",
      "Parameter Group 0\n",
      "    amsgrad: False\n",
      "    betas: (0.9, 0.999)\n",
      "    capturable: False\n",
      "    differentiable: False\n",
      "    eps: 1e-08\n",
      "    foreach: None\n",
      "    fused: None\n",
      "    lr: 0.001\n",
      "    maximize: False\n",
      "    weight_decay: 0\n",
      ")\n",
      "Finish setting up the training module\n",
      "Copying split files...\n",
      "Finish copying split files\n",
      "Start training...\n",
      "Current learning rate: [0.001]\n"
     ]
    },
    {
     "name": "stderr",
     "output_type": "stream",
     "text": [
      "Epoch 1/200 (Training): 100%|██████████| 100/100 [00:14<00:00,  6.87it/s, loss=0.4184, acc=0.7467]\n"
     ]
    },
    {
     "name": "stdout",
     "output_type": "stream",
     "text": [
      "Avg Train Loss: 0.7116, Avg Train Acc: 0.6339 (Best)\n"
     ]
    },
    {
     "name": "stderr",
     "output_type": "stream",
     "text": [
      "Epoch 1/200 (Validation): 100%|██████████| 100/100 [00:09<00:00, 10.39it/s, loss=0.7323, acc=0.6667]\n"
     ]
    },
    {
     "name": "stdout",
     "output_type": "stream",
     "text": [
      "Avg Val Loss: 0.8018, Avg Val Acc: 0.5416 (Best)\n",
      "Current learning rate: [0.001]\n",
      "Patience: 0/20\n"
     ]
    },
    {
     "name": "stderr",
     "output_type": "stream",
     "text": [
      "Epoch 2/200 (Training): 100%|██████████| 100/100 [00:13<00:00,  7.17it/s, loss=2.3976, acc=0.4533]\n"
     ]
    },
    {
     "name": "stdout",
     "output_type": "stream",
     "text": [
      "Avg Train Loss: 0.5918, Avg Train Acc: 0.7295 (Best)\n"
     ]
    },
    {
     "name": "stderr",
     "output_type": "stream",
     "text": [
      "Epoch 2/200 (Validation): 100%|██████████| 100/100 [00:09<00:00, 10.62it/s, loss=0.6905, acc=0.7733]\n"
     ]
    },
    {
     "name": "stdout",
     "output_type": "stream",
     "text": [
      "Avg Val Loss: 0.8979, Avg Val Acc: 0.7353 (Best)\n",
      "Current learning rate: [0.001]\n",
      "Patience: 0/20\n"
     ]
    },
    {
     "name": "stderr",
     "output_type": "stream",
     "text": [
      "Epoch 3/200 (Training): 100%|██████████| 100/100 [00:15<00:00,  6.53it/s, loss=0.1223, acc=0.9067]\n"
     ]
    },
    {
     "name": "stdout",
     "output_type": "stream",
     "text": [
      "Avg Train Loss: 0.6776, Avg Train Acc: 0.6936 (Best: 0.7295)\n"
     ]
    },
    {
     "name": "stderr",
     "output_type": "stream",
     "text": [
      "Epoch 3/200 (Validation): 100%|██████████| 100/100 [00:09<00:00, 10.33it/s, loss=0.8465, acc=0.4667]\n"
     ]
    },
    {
     "name": "stdout",
     "output_type": "stream",
     "text": [
      "Avg Val Loss: 0.7750, Avg Val Acc: 0.5124 (Best: 0.7353)\n",
      "Current learning rate: [0.001]\n",
      "Patience: 1/20\n"
     ]
    },
    {
     "name": "stderr",
     "output_type": "stream",
     "text": [
      "Epoch 4/200 (Training): 100%|██████████| 100/100 [00:13<00:00,  7.20it/s, loss=0.5438, acc=0.6133]\n"
     ]
    },
    {
     "name": "stdout",
     "output_type": "stream",
     "text": [
      "Avg Train Loss: 0.6314, Avg Train Acc: 0.7035 (Best: 0.7295)\n"
     ]
    },
    {
     "name": "stderr",
     "output_type": "stream",
     "text": [
      "Epoch 4/200 (Validation): 100%|██████████| 100/100 [00:09<00:00, 10.13it/s, loss=0.1264, acc=0.9600]\n"
     ]
    },
    {
     "name": "stdout",
     "output_type": "stream",
     "text": [
      "Avg Val Loss: 0.5701, Avg Val Acc: 0.8004 (Best)\n",
      "Current learning rate: [0.001]\n",
      "Patience: 0/20\n"
     ]
    },
    {
     "name": "stderr",
     "output_type": "stream",
     "text": [
      "Epoch 5/200 (Training): 100%|██████████| 100/100 [00:13<00:00,  7.30it/s, loss=0.6438, acc=0.5067]\n"
     ]
    },
    {
     "name": "stdout",
     "output_type": "stream",
     "text": [
      "Avg Train Loss: 0.5477, Avg Train Acc: 0.7096 (Best: 0.7295)\n"
     ]
    },
    {
     "name": "stderr",
     "output_type": "stream",
     "text": [
      "Epoch 5/200 (Validation): 100%|██████████| 100/100 [00:10<00:00,  9.60it/s, loss=0.6687, acc=0.4667]\n"
     ]
    },
    {
     "name": "stdout",
     "output_type": "stream",
     "text": [
      "Avg Val Loss: 0.7788, Avg Val Acc: 0.4691 (Best: 0.8004)\n",
      "Current learning rate: [0.001]\n",
      "Patience: 1/20\n"
     ]
    },
    {
     "name": "stderr",
     "output_type": "stream",
     "text": [
      "Epoch 6/200 (Training): 100%|██████████| 100/100 [00:13<00:00,  7.58it/s, loss=0.3559, acc=0.7467]\n"
     ]
    },
    {
     "name": "stdout",
     "output_type": "stream",
     "text": [
      "Avg Train Loss: 0.5733, Avg Train Acc: 0.7637 (Best)\n"
     ]
    },
    {
     "name": "stderr",
     "output_type": "stream",
     "text": [
      "Epoch 6/200 (Validation): 100%|██████████| 100/100 [00:09<00:00, 10.53it/s, loss=0.9958, acc=0.4400]\n"
     ]
    },
    {
     "name": "stdout",
     "output_type": "stream",
     "text": [
      "Avg Val Loss: 1.1271, Avg Val Acc: 0.4149 (Best: 0.8004)\n",
      "Current learning rate: [0.001]\n",
      "Patience: 2/20\n"
     ]
    },
    {
     "name": "stderr",
     "output_type": "stream",
     "text": [
      "Epoch 7/200 (Training): 100%|██████████| 100/100 [00:14<00:00,  7.05it/s, loss=0.9483, acc=0.7067]\n"
     ]
    },
    {
     "name": "stdout",
     "output_type": "stream",
     "text": [
      "Avg Train Loss: 0.4997, Avg Train Acc: 0.7729 (Best)\n"
     ]
    },
    {
     "name": "stderr",
     "output_type": "stream",
     "text": [
      "Epoch 7/200 (Validation): 100%|██████████| 100/100 [00:09<00:00, 10.21it/s, loss=0.6083, acc=0.8133]\n"
     ]
    },
    {
     "name": "stdout",
     "output_type": "stream",
     "text": [
      "Avg Val Loss: 0.6134, Avg Val Acc: 0.7201 (Best: 0.8004)\n",
      "Current learning rate: [0.001]\n",
      "Patience: 3/20\n"
     ]
    },
    {
     "name": "stderr",
     "output_type": "stream",
     "text": [
      "Epoch 8/200 (Training): 100%|██████████| 100/100 [00:14<00:00,  6.76it/s, loss=0.2842, acc=0.7867]\n"
     ]
    },
    {
     "name": "stdout",
     "output_type": "stream",
     "text": [
      "Avg Train Loss: 0.4762, Avg Train Acc: 0.7816 (Best)\n"
     ]
    },
    {
     "name": "stderr",
     "output_type": "stream",
     "text": [
      "Epoch 8/200 (Validation): 100%|██████████| 100/100 [00:09<00:00, 10.93it/s, loss=0.7277, acc=0.4800]\n"
     ]
    },
    {
     "name": "stdout",
     "output_type": "stream",
     "text": [
      "Avg Val Loss: 0.8330, Avg Val Acc: 0.4108 (Best: 0.8004)\n",
      "Current learning rate: [0.001]\n",
      "Patience: 4/20\n"
     ]
    },
    {
     "name": "stderr",
     "output_type": "stream",
     "text": [
      "Epoch 9/200 (Training): 100%|██████████| 100/100 [00:15<00:00,  6.59it/s, loss=0.5188, acc=0.6000]\n"
     ]
    },
    {
     "name": "stdout",
     "output_type": "stream",
     "text": [
      "Avg Train Loss: 0.6653, Avg Train Acc: 0.5892 (Best: 0.7816)\n"
     ]
    },
    {
     "name": "stderr",
     "output_type": "stream",
     "text": [
      "Epoch 9/200 (Validation): 100%|██████████| 100/100 [00:09<00:00, 10.01it/s, loss=0.7261, acc=0.5467]\n"
     ]
    },
    {
     "name": "stdout",
     "output_type": "stream",
     "text": [
      "Avg Val Loss: 0.8468, Avg Val Acc: 0.4405 (Best: 0.8004)\n",
      "Current learning rate: [0.001]\n",
      "Patience: 5/20\n"
     ]
    },
    {
     "name": "stderr",
     "output_type": "stream",
     "text": [
      "Epoch 10/200 (Training): 100%|██████████| 100/100 [00:14<00:00,  6.68it/s, loss=0.6555, acc=0.6000]\n"
     ]
    },
    {
     "name": "stdout",
     "output_type": "stream",
     "text": [
      "Avg Train Loss: 0.5860, Avg Train Acc: 0.6481 (Best: 0.7816)\n"
     ]
    },
    {
     "name": "stderr",
     "output_type": "stream",
     "text": [
      "Epoch 10/200 (Validation): 100%|██████████| 100/100 [00:10<00:00,  9.99it/s, loss=0.6838, acc=0.5333]\n"
     ]
    },
    {
     "name": "stdout",
     "output_type": "stream",
     "text": [
      "Avg Val Loss: 0.6131, Avg Val Acc: 0.7443 (Best: 0.8004)\n",
      "Current learning rate: [0.001]\n",
      "Patience: 6/20\n"
     ]
    },
    {
     "name": "stderr",
     "output_type": "stream",
     "text": [
      "Epoch 11/200 (Training): 100%|██████████| 100/100 [00:14<00:00,  7.12it/s, loss=0.7234, acc=0.7600]\n"
     ]
    },
    {
     "name": "stdout",
     "output_type": "stream",
     "text": [
      "Avg Train Loss: 0.5493, Avg Train Acc: 0.7327 (Best: 0.7816)\n"
     ]
    },
    {
     "name": "stderr",
     "output_type": "stream",
     "text": [
      "Epoch 11/200 (Validation): 100%|██████████| 100/100 [00:10<00:00,  9.97it/s, loss=1.4701, acc=0.3867]\n"
     ]
    },
    {
     "name": "stdout",
     "output_type": "stream",
     "text": [
      "Avg Val Loss: 1.2517, Avg Val Acc: 0.4785 (Best: 0.8004)\n",
      "Current learning rate: [0.001]\n",
      "Patience: 7/20\n"
     ]
    },
    {
     "name": "stderr",
     "output_type": "stream",
     "text": [
      "Epoch 12/200 (Training): 100%|██████████| 100/100 [00:13<00:00,  7.44it/s, loss=0.2418, acc=0.8800]\n"
     ]
    },
    {
     "name": "stdout",
     "output_type": "stream",
     "text": [
      "Avg Train Loss: 0.5668, Avg Train Acc: 0.7257 (Best: 0.7816)\n"
     ]
    },
    {
     "name": "stderr",
     "output_type": "stream",
     "text": [
      "Epoch 12/200 (Validation): 100%|██████████| 100/100 [00:09<00:00, 10.13it/s, loss=0.7473, acc=0.4933]\n"
     ]
    },
    {
     "name": "stdout",
     "output_type": "stream",
     "text": [
      "Avg Val Loss: 0.9311, Avg Val Acc: 0.6680 (Best: 0.8004)\n",
      "Current learning rate: [0.001]\n",
      "Patience: 8/20\n"
     ]
    },
    {
     "name": "stderr",
     "output_type": "stream",
     "text": [
      "Epoch 13/200 (Training): 100%|██████████| 100/100 [00:14<00:00,  6.80it/s, loss=1.3721, acc=0.6933]\n"
     ]
    },
    {
     "name": "stdout",
     "output_type": "stream",
     "text": [
      "Avg Train Loss: 0.5613, Avg Train Acc: 0.7721 (Best: 0.7816)\n"
     ]
    },
    {
     "name": "stderr",
     "output_type": "stream",
     "text": [
      "Epoch 13/200 (Validation): 100%|██████████| 100/100 [00:09<00:00, 10.29it/s, loss=0.7325, acc=0.6267]\n"
     ]
    },
    {
     "name": "stdout",
     "output_type": "stream",
     "text": [
      "Avg Val Loss: 0.7036, Avg Val Acc: 0.6255 (Best: 0.8004)\n",
      "Current learning rate: [0.001]\n",
      "Patience: 9/20\n"
     ]
    },
    {
     "name": "stderr",
     "output_type": "stream",
     "text": [
      "Epoch 14/200 (Training): 100%|██████████| 100/100 [00:14<00:00,  7.11it/s, loss=0.4334, acc=0.7333]\n"
     ]
    },
    {
     "name": "stdout",
     "output_type": "stream",
     "text": [
      "Avg Train Loss: 0.5011, Avg Train Acc: 0.7437 (Best: 0.7816)\n"
     ]
    },
    {
     "name": "stderr",
     "output_type": "stream",
     "text": [
      "Epoch 14/200 (Validation): 100%|██████████| 100/100 [00:09<00:00, 10.25it/s, loss=0.7242, acc=0.4267]\n"
     ]
    },
    {
     "name": "stdout",
     "output_type": "stream",
     "text": [
      "Avg Val Loss: 0.7304, Avg Val Acc: 0.5184 (Best: 0.8004)\n",
      "Current learning rate: [0.001]\n",
      "Patience: 10/20\n"
     ]
    },
    {
     "name": "stderr",
     "output_type": "stream",
     "text": [
      "Epoch 15/200 (Training): 100%|██████████| 100/100 [00:15<00:00,  6.44it/s, loss=0.5364, acc=0.6000]\n"
     ]
    },
    {
     "name": "stdout",
     "output_type": "stream",
     "text": [
      "Avg Train Loss: 0.5452, Avg Train Acc: 0.7235 (Best: 0.7816)\n"
     ]
    },
    {
     "name": "stderr",
     "output_type": "stream",
     "text": [
      "Epoch 15/200 (Validation): 100%|██████████| 100/100 [00:09<00:00, 10.09it/s, loss=0.6116, acc=0.5467]\n"
     ]
    },
    {
     "name": "stdout",
     "output_type": "stream",
     "text": [
      "Avg Val Loss: 0.8890, Avg Val Acc: 0.5149 (Best: 0.8004)\n",
      "Current learning rate: [0.0005]\n",
      "Patience: 11/20\n"
     ]
    },
    {
     "name": "stderr",
     "output_type": "stream",
     "text": [
      "Epoch 16/200 (Training): 100%|██████████| 100/100 [00:14<00:00,  6.99it/s, loss=0.4699, acc=0.6800]\n"
     ]
    },
    {
     "name": "stdout",
     "output_type": "stream",
     "text": [
      "Avg Train Loss: 0.4916, Avg Train Acc: 0.7507 (Best: 0.7816)\n"
     ]
    },
    {
     "name": "stderr",
     "output_type": "stream",
     "text": [
      "Epoch 16/200 (Validation): 100%|██████████| 100/100 [00:09<00:00, 10.65it/s, loss=0.6408, acc=0.5600]\n"
     ]
    },
    {
     "name": "stdout",
     "output_type": "stream",
     "text": [
      "Avg Val Loss: 0.4412, Avg Val Acc: 0.7345 (Best: 0.8004)\n",
      "Current learning rate: [0.0005]\n",
      "Patience: 12/20\n"
     ]
    },
    {
     "name": "stderr",
     "output_type": "stream",
     "text": [
      "Epoch 17/200 (Training): 100%|██████████| 100/100 [00:13<00:00,  7.48it/s, loss=0.3060, acc=0.7867]\n"
     ]
    },
    {
     "name": "stdout",
     "output_type": "stream",
     "text": [
      "Avg Train Loss: 0.3996, Avg Train Acc: 0.8156 (Best)\n"
     ]
    },
    {
     "name": "stderr",
     "output_type": "stream",
     "text": [
      "Epoch 17/200 (Validation): 100%|██████████| 100/100 [00:10<00:00,  9.80it/s, loss=0.3567, acc=0.7067]\n"
     ]
    },
    {
     "name": "stdout",
     "output_type": "stream",
     "text": [
      "Avg Val Loss: 0.5068, Avg Val Acc: 0.7135 (Best: 0.8004)\n",
      "Current learning rate: [0.0005]\n",
      "Patience: 13/20\n"
     ]
    },
    {
     "name": "stderr",
     "output_type": "stream",
     "text": [
      "Epoch 18/200 (Training): 100%|██████████| 100/100 [00:12<00:00,  7.89it/s, loss=0.4735, acc=0.7600]\n"
     ]
    },
    {
     "name": "stdout",
     "output_type": "stream",
     "text": [
      "Avg Train Loss: 0.4052, Avg Train Acc: 0.8099 (Best: 0.8156)\n"
     ]
    },
    {
     "name": "stderr",
     "output_type": "stream",
     "text": [
      "Epoch 18/200 (Validation): 100%|██████████| 100/100 [00:09<00:00, 10.82it/s, loss=0.4356, acc=0.7200]\n"
     ]
    },
    {
     "name": "stdout",
     "output_type": "stream",
     "text": [
      "Avg Val Loss: 0.5162, Avg Val Acc: 0.7644 (Best: 0.8004)\n",
      "Current learning rate: [0.0005]\n",
      "Patience: 14/20\n"
     ]
    },
    {
     "name": "stderr",
     "output_type": "stream",
     "text": [
      "Epoch 19/200 (Training): 100%|██████████| 100/100 [00:13<00:00,  7.51it/s, loss=0.1291, acc=0.9600]\n"
     ]
    },
    {
     "name": "stdout",
     "output_type": "stream",
     "text": [
      "Avg Train Loss: 0.3878, Avg Train Acc: 0.8499 (Best)\n"
     ]
    },
    {
     "name": "stderr",
     "output_type": "stream",
     "text": [
      "Epoch 19/200 (Validation): 100%|██████████| 100/100 [00:09<00:00, 10.10it/s, loss=1.2658, acc=0.7200]\n"
     ]
    },
    {
     "name": "stdout",
     "output_type": "stream",
     "text": [
      "Avg Val Loss: 0.5446, Avg Val Acc: 0.7305 (Best: 0.8004)\n",
      "Current learning rate: [0.0005]\n",
      "Patience: 15/20\n"
     ]
    },
    {
     "name": "stderr",
     "output_type": "stream",
     "text": [
      "Epoch 20/200 (Training): 100%|██████████| 100/100 [00:15<00:00,  6.34it/s, loss=0.7455, acc=0.7867]\n"
     ]
    },
    {
     "name": "stdout",
     "output_type": "stream",
     "text": [
      "Avg Train Loss: 0.4684, Avg Train Acc: 0.8223 (Best: 0.8499)\n"
     ]
    },
    {
     "name": "stderr",
     "output_type": "stream",
     "text": [
      "Epoch 20/200 (Validation): 100%|██████████| 100/100 [00:09<00:00, 10.23it/s, loss=0.4294, acc=0.6933]\n"
     ]
    },
    {
     "name": "stdout",
     "output_type": "stream",
     "text": [
      "Avg Val Loss: 0.6007, Avg Val Acc: 0.6868 (Best: 0.8004)\n",
      "Current learning rate: [0.0005]\n",
      "Patience: 16/20\n"
     ]
    },
    {
     "name": "stderr",
     "output_type": "stream",
     "text": [
      "Epoch 21/200 (Training): 100%|██████████| 100/100 [00:15<00:00,  6.47it/s, loss=1.1140, acc=0.8667]\n"
     ]
    },
    {
     "name": "stdout",
     "output_type": "stream",
     "text": [
      "Avg Train Loss: 0.4305, Avg Train Acc: 0.8561 (Best)\n"
     ]
    },
    {
     "name": "stderr",
     "output_type": "stream",
     "text": [
      "Epoch 21/200 (Validation): 100%|██████████| 100/100 [00:09<00:00, 10.89it/s, loss=0.5230, acc=0.7867]\n"
     ]
    },
    {
     "name": "stdout",
     "output_type": "stream",
     "text": [
      "Avg Val Loss: 0.6421, Avg Val Acc: 0.8077 (Best)\n",
      "Current learning rate: [0.0005]\n",
      "Patience: 0/20\n"
     ]
    },
    {
     "name": "stderr",
     "output_type": "stream",
     "text": [
      "Epoch 22/200 (Training): 100%|██████████| 100/100 [00:13<00:00,  7.22it/s, loss=0.7377, acc=0.7733]\n"
     ]
    },
    {
     "name": "stdout",
     "output_type": "stream",
     "text": [
      "Avg Train Loss: 0.3300, Avg Train Acc: 0.8751 (Best)\n"
     ]
    },
    {
     "name": "stderr",
     "output_type": "stream",
     "text": [
      "Epoch 22/200 (Validation): 100%|██████████| 100/100 [00:09<00:00, 10.52it/s, loss=0.4674, acc=0.8267]\n"
     ]
    },
    {
     "name": "stdout",
     "output_type": "stream",
     "text": [
      "Avg Val Loss: 0.6341, Avg Val Acc: 0.8063 (Best: 0.8077)\n",
      "Current learning rate: [0.0005]\n",
      "Patience: 1/20\n"
     ]
    },
    {
     "name": "stderr",
     "output_type": "stream",
     "text": [
      "Epoch 23/200 (Training): 100%|██████████| 100/100 [00:13<00:00,  7.33it/s, loss=0.2025, acc=0.8667]\n"
     ]
    },
    {
     "name": "stdout",
     "output_type": "stream",
     "text": [
      "Avg Train Loss: 0.3940, Avg Train Acc: 0.8537 (Best: 0.8751)\n"
     ]
    },
    {
     "name": "stderr",
     "output_type": "stream",
     "text": [
      "Epoch 23/200 (Validation): 100%|██████████| 100/100 [00:09<00:00, 10.93it/s, loss=0.5594, acc=0.7200]\n"
     ]
    },
    {
     "name": "stdout",
     "output_type": "stream",
     "text": [
      "Avg Val Loss: 0.6264, Avg Val Acc: 0.8008 (Best: 0.8077)\n",
      "Current learning rate: [0.0005]\n",
      "Patience: 2/20\n"
     ]
    },
    {
     "name": "stderr",
     "output_type": "stream",
     "text": [
      "Epoch 24/200 (Training): 100%|██████████| 100/100 [00:15<00:00,  6.44it/s, loss=0.4828, acc=0.6267]\n"
     ]
    },
    {
     "name": "stdout",
     "output_type": "stream",
     "text": [
      "Avg Train Loss: 0.4497, Avg Train Acc: 0.8319 (Best: 0.8751)\n"
     ]
    },
    {
     "name": "stderr",
     "output_type": "stream",
     "text": [
      "Epoch 24/200 (Validation): 100%|██████████| 100/100 [00:09<00:00, 10.58it/s, loss=0.4829, acc=0.6133]\n"
     ]
    },
    {
     "name": "stdout",
     "output_type": "stream",
     "text": [
      "Avg Val Loss: 0.5656, Avg Val Acc: 0.6641 (Best: 0.8077)\n",
      "Current learning rate: [0.0005]\n",
      "Patience: 3/20\n"
     ]
    },
    {
     "name": "stderr",
     "output_type": "stream",
     "text": [
      "Epoch 25/200 (Training): 100%|██████████| 100/100 [00:13<00:00,  7.26it/s, loss=0.3505, acc=0.7600]\n"
     ]
    },
    {
     "name": "stdout",
     "output_type": "stream",
     "text": [
      "Avg Train Loss: 0.3864, Avg Train Acc: 0.8085 (Best: 0.8751)\n"
     ]
    },
    {
     "name": "stderr",
     "output_type": "stream",
     "text": [
      "Epoch 25/200 (Validation): 100%|██████████| 100/100 [00:09<00:00, 10.90it/s, loss=0.6723, acc=0.7067]\n"
     ]
    },
    {
     "name": "stdout",
     "output_type": "stream",
     "text": [
      "Avg Val Loss: 0.7341, Avg Val Acc: 0.7096 (Best: 0.8077)\n",
      "Current learning rate: [0.0005]\n",
      "Patience: 4/20\n"
     ]
    },
    {
     "name": "stderr",
     "output_type": "stream",
     "text": [
      "Epoch 26/200 (Training): 100%|██████████| 100/100 [00:14<00:00,  6.89it/s, loss=0.1460, acc=0.9200]\n"
     ]
    },
    {
     "name": "stdout",
     "output_type": "stream",
     "text": [
      "Avg Train Loss: 0.4093, Avg Train Acc: 0.8167 (Best: 0.8751)\n"
     ]
    },
    {
     "name": "stderr",
     "output_type": "stream",
     "text": [
      "Epoch 26/200 (Validation): 100%|██████████| 100/100 [00:09<00:00, 10.16it/s, loss=0.6411, acc=0.6400]\n"
     ]
    },
    {
     "name": "stdout",
     "output_type": "stream",
     "text": [
      "Avg Val Loss: 0.6045, Avg Val Acc: 0.6640 (Best: 0.8077)\n",
      "Current learning rate: [0.0005]\n",
      "Patience: 5/20\n"
     ]
    },
    {
     "name": "stderr",
     "output_type": "stream",
     "text": [
      "Epoch 27/200 (Training): 100%|██████████| 100/100 [00:14<00:00,  6.73it/s, loss=0.2502, acc=0.8400]\n"
     ]
    },
    {
     "name": "stdout",
     "output_type": "stream",
     "text": [
      "Avg Train Loss: 0.3505, Avg Train Acc: 0.8571 (Best: 0.8751)\n"
     ]
    },
    {
     "name": "stderr",
     "output_type": "stream",
     "text": [
      "Epoch 27/200 (Validation): 100%|██████████| 100/100 [00:09<00:00, 10.46it/s, loss=0.6437, acc=0.5867]\n"
     ]
    },
    {
     "name": "stdout",
     "output_type": "stream",
     "text": [
      "Avg Val Loss: 0.5803, Avg Val Acc: 0.6552 (Best: 0.8077)\n",
      "Current learning rate: [0.0005]\n",
      "Patience: 6/20\n"
     ]
    },
    {
     "name": "stderr",
     "output_type": "stream",
     "text": [
      "Epoch 28/200 (Training): 100%|██████████| 100/100 [00:13<00:00,  7.47it/s, loss=0.1623, acc=0.8800]\n"
     ]
    },
    {
     "name": "stdout",
     "output_type": "stream",
     "text": [
      "Avg Train Loss: 0.3383, Avg Train Acc: 0.8495 (Best: 0.8751)\n"
     ]
    },
    {
     "name": "stderr",
     "output_type": "stream",
     "text": [
      "Epoch 28/200 (Validation): 100%|██████████| 100/100 [00:09<00:00, 10.25it/s, loss=0.4501, acc=0.6800]\n"
     ]
    },
    {
     "name": "stdout",
     "output_type": "stream",
     "text": [
      "Avg Val Loss: 0.5051, Avg Val Acc: 0.7035 (Best: 0.8077)\n",
      "Current learning rate: [0.0005]\n",
      "Patience: 7/20\n"
     ]
    },
    {
     "name": "stderr",
     "output_type": "stream",
     "text": [
      "Epoch 29/200 (Training): 100%|██████████| 100/100 [00:12<00:00,  8.25it/s, loss=0.5222, acc=0.8000]\n"
     ]
    },
    {
     "name": "stdout",
     "output_type": "stream",
     "text": [
      "Avg Train Loss: 0.3666, Avg Train Acc: 0.8637 (Best: 0.8751)\n"
     ]
    },
    {
     "name": "stderr",
     "output_type": "stream",
     "text": [
      "Epoch 29/200 (Validation): 100%|██████████| 100/100 [00:09<00:00, 10.63it/s, loss=1.3249, acc=0.6667]\n"
     ]
    },
    {
     "name": "stdout",
     "output_type": "stream",
     "text": [
      "Avg Val Loss: 0.5488, Avg Val Acc: 0.7428 (Best: 0.8077)\n",
      "Current learning rate: [0.00025]\n",
      "Patience: 8/20\n"
     ]
    },
    {
     "name": "stderr",
     "output_type": "stream",
     "text": [
      "Epoch 30/200 (Training): 100%|██████████| 100/100 [00:14<00:00,  6.98it/s, loss=0.0763, acc=1.0000]\n"
     ]
    },
    {
     "name": "stdout",
     "output_type": "stream",
     "text": [
      "Avg Train Loss: 0.3903, Avg Train Acc: 0.8668 (Best: 0.8751)\n"
     ]
    },
    {
     "name": "stderr",
     "output_type": "stream",
     "text": [
      "Epoch 30/200 (Validation): 100%|██████████| 100/100 [00:10<00:00,  9.80it/s, loss=0.5089, acc=0.7867]\n"
     ]
    },
    {
     "name": "stdout",
     "output_type": "stream",
     "text": [
      "Avg Val Loss: 0.6727, Avg Val Acc: 0.7188 (Best: 0.8077)\n",
      "Current learning rate: [0.00025]\n",
      "Patience: 9/20\n"
     ]
    },
    {
     "name": "stderr",
     "output_type": "stream",
     "text": [
      "Epoch 31/200 (Training): 100%|██████████| 100/100 [00:14<00:00,  7.07it/s, loss=0.3527, acc=0.8000]\n"
     ]
    },
    {
     "name": "stdout",
     "output_type": "stream",
     "text": [
      "Avg Train Loss: 0.3818, Avg Train Acc: 0.8520 (Best: 0.8751)\n"
     ]
    },
    {
     "name": "stderr",
     "output_type": "stream",
     "text": [
      "Epoch 31/200 (Validation): 100%|██████████| 100/100 [00:10<00:00,  9.84it/s, loss=0.3531, acc=0.7467]\n"
     ]
    },
    {
     "name": "stdout",
     "output_type": "stream",
     "text": [
      "Avg Val Loss: 0.4724, Avg Val Acc: 0.7452 (Best: 0.8077)\n",
      "Current learning rate: [0.00025]\n",
      "Patience: 10/20\n"
     ]
    },
    {
     "name": "stderr",
     "output_type": "stream",
     "text": [
      "Epoch 32/200 (Training): 100%|██████████| 100/100 [00:13<00:00,  7.37it/s, loss=0.2071, acc=0.8933]\n"
     ]
    },
    {
     "name": "stdout",
     "output_type": "stream",
     "text": [
      "Avg Train Loss: 0.4665, Avg Train Acc: 0.7935 (Best: 0.8751)\n"
     ]
    },
    {
     "name": "stderr",
     "output_type": "stream",
     "text": [
      "Epoch 32/200 (Validation): 100%|██████████| 100/100 [00:09<00:00, 10.26it/s, loss=0.4822, acc=0.7467]\n"
     ]
    },
    {
     "name": "stdout",
     "output_type": "stream",
     "text": [
      "Avg Val Loss: 0.6220, Avg Val Acc: 0.7268 (Best: 0.8077)\n",
      "Current learning rate: [0.00025]\n",
      "Patience: 11/20\n"
     ]
    },
    {
     "name": "stderr",
     "output_type": "stream",
     "text": [
      "Epoch 33/200 (Training): 100%|██████████| 100/100 [00:14<00:00,  6.84it/s, loss=0.0796, acc=0.9867]\n"
     ]
    },
    {
     "name": "stdout",
     "output_type": "stream",
     "text": [
      "Avg Train Loss: 0.3648, Avg Train Acc: 0.8548 (Best: 0.8751)\n"
     ]
    },
    {
     "name": "stderr",
     "output_type": "stream",
     "text": [
      "Epoch 33/200 (Validation): 100%|██████████| 100/100 [00:09<00:00, 10.43it/s, loss=0.5386, acc=0.7333]\n"
     ]
    },
    {
     "name": "stdout",
     "output_type": "stream",
     "text": [
      "Avg Val Loss: 0.6568, Avg Val Acc: 0.7151 (Best: 0.8077)\n",
      "Current learning rate: [0.00025]\n",
      "Patience: 12/20\n"
     ]
    },
    {
     "name": "stderr",
     "output_type": "stream",
     "text": [
      "Epoch 34/200 (Training): 100%|██████████| 100/100 [00:13<00:00,  7.34it/s, loss=0.1792, acc=0.9600]\n"
     ]
    },
    {
     "name": "stdout",
     "output_type": "stream",
     "text": [
      "Avg Train Loss: 0.3950, Avg Train Acc: 0.8153 (Best: 0.8751)\n"
     ]
    },
    {
     "name": "stderr",
     "output_type": "stream",
     "text": [
      "Epoch 34/200 (Validation): 100%|██████████| 100/100 [00:09<00:00, 10.25it/s, loss=0.7037, acc=0.6133]\n"
     ]
    },
    {
     "name": "stdout",
     "output_type": "stream",
     "text": [
      "Avg Val Loss: 0.4995, Avg Val Acc: 0.7377 (Best: 0.8077)\n",
      "Current learning rate: [0.00025]\n",
      "Patience: 13/20\n"
     ]
    },
    {
     "name": "stderr",
     "output_type": "stream",
     "text": [
      "Epoch 35/200 (Training): 100%|██████████| 100/100 [00:14<00:00,  6.95it/s, loss=0.3835, acc=0.8400]\n"
     ]
    },
    {
     "name": "stdout",
     "output_type": "stream",
     "text": [
      "Avg Train Loss: 0.3963, Avg Train Acc: 0.8468 (Best: 0.8751)\n"
     ]
    },
    {
     "name": "stderr",
     "output_type": "stream",
     "text": [
      "Epoch 35/200 (Validation): 100%|██████████| 100/100 [00:09<00:00, 10.52it/s, loss=0.7010, acc=0.6533]\n"
     ]
    },
    {
     "name": "stdout",
     "output_type": "stream",
     "text": [
      "Avg Val Loss: 0.6304, Avg Val Acc: 0.7241 (Best: 0.8077)\n",
      "Current learning rate: [0.00025]\n",
      "Patience: 14/20\n"
     ]
    },
    {
     "name": "stderr",
     "output_type": "stream",
     "text": [
      "Epoch 36/200 (Training): 100%|██████████| 100/100 [00:14<00:00,  7.07it/s, loss=0.3307, acc=0.8400]\n"
     ]
    },
    {
     "name": "stdout",
     "output_type": "stream",
     "text": [
      "Avg Train Loss: 0.3745, Avg Train Acc: 0.8399 (Best: 0.8751)\n"
     ]
    },
    {
     "name": "stderr",
     "output_type": "stream",
     "text": [
      "Epoch 36/200 (Validation): 100%|██████████| 100/100 [00:09<00:00, 10.30it/s, loss=0.1817, acc=0.8533]\n"
     ]
    },
    {
     "name": "stdout",
     "output_type": "stream",
     "text": [
      "Avg Val Loss: 0.7610, Avg Val Acc: 0.6368 (Best: 0.8077)\n",
      "Current learning rate: [0.00025]\n",
      "Patience: 15/20\n"
     ]
    },
    {
     "name": "stderr",
     "output_type": "stream",
     "text": [
      "Epoch 37/200 (Training): 100%|██████████| 100/100 [00:15<00:00,  6.44it/s, loss=0.0340, acc=0.9867]\n"
     ]
    },
    {
     "name": "stdout",
     "output_type": "stream",
     "text": [
      "Avg Train Loss: 0.3683, Avg Train Acc: 0.8635 (Best: 0.8751)\n"
     ]
    },
    {
     "name": "stderr",
     "output_type": "stream",
     "text": [
      "Epoch 37/200 (Validation): 100%|██████████| 100/100 [00:10<00:00,  9.75it/s, loss=1.3405, acc=0.5867]\n"
     ]
    },
    {
     "name": "stdout",
     "output_type": "stream",
     "text": [
      "Avg Val Loss: 0.5941, Avg Val Acc: 0.7392 (Best: 0.8077)\n",
      "Current learning rate: [0.00025]\n",
      "Patience: 16/20\n"
     ]
    },
    {
     "name": "stderr",
     "output_type": "stream",
     "text": [
      "Epoch 38/200 (Training): 100%|██████████| 100/100 [00:14<00:00,  6.93it/s, loss=0.1775, acc=0.8533]\n"
     ]
    },
    {
     "name": "stdout",
     "output_type": "stream",
     "text": [
      "Avg Train Loss: 0.3559, Avg Train Acc: 0.8660 (Best: 0.8751)\n"
     ]
    },
    {
     "name": "stderr",
     "output_type": "stream",
     "text": [
      "Epoch 38/200 (Validation): 100%|██████████| 100/100 [00:10<00:00,  9.89it/s, loss=0.5711, acc=0.6800]\n"
     ]
    },
    {
     "name": "stdout",
     "output_type": "stream",
     "text": [
      "Avg Val Loss: 0.4966, Avg Val Acc: 0.7680 (Best: 0.8077)\n",
      "Current learning rate: [0.00025]\n",
      "Patience: 17/20\n"
     ]
    },
    {
     "name": "stderr",
     "output_type": "stream",
     "text": [
      "Epoch 39/200 (Training): 100%|██████████| 100/100 [00:16<00:00,  6.24it/s, loss=0.1164, acc=0.9067]\n"
     ]
    },
    {
     "name": "stdout",
     "output_type": "stream",
     "text": [
      "Avg Train Loss: 0.3697, Avg Train Acc: 0.8379 (Best: 0.8751)\n"
     ]
    },
    {
     "name": "stderr",
     "output_type": "stream",
     "text": [
      "Epoch 39/200 (Validation): 100%|██████████| 100/100 [00:09<00:00, 10.80it/s, loss=0.5944, acc=0.6267]\n"
     ]
    },
    {
     "name": "stdout",
     "output_type": "stream",
     "text": [
      "Avg Val Loss: 0.4932, Avg Val Acc: 0.7241 (Best: 0.8077)\n",
      "Current learning rate: [0.00025]\n",
      "Patience: 18/20\n"
     ]
    },
    {
     "name": "stderr",
     "output_type": "stream",
     "text": [
      "Epoch 40/200 (Training): 100%|██████████| 100/100 [00:13<00:00,  7.24it/s, loss=0.4475, acc=0.6667]\n"
     ]
    },
    {
     "name": "stdout",
     "output_type": "stream",
     "text": [
      "Avg Train Loss: 0.3530, Avg Train Acc: 0.8667 (Best: 0.8751)\n"
     ]
    },
    {
     "name": "stderr",
     "output_type": "stream",
     "text": [
      "Epoch 40/200 (Validation): 100%|██████████| 100/100 [00:09<00:00, 10.23it/s, loss=0.1903, acc=0.8800]\n"
     ]
    },
    {
     "name": "stdout",
     "output_type": "stream",
     "text": [
      "Avg Val Loss: 0.5893, Avg Val Acc: 0.7503 (Best: 0.8077)\n",
      "Current learning rate: [0.00025]\n",
      "Patience: 19/20\n"
     ]
    },
    {
     "name": "stderr",
     "output_type": "stream",
     "text": [
      "Epoch 41/200 (Training): 100%|██████████| 100/100 [00:13<00:00,  7.19it/s, loss=0.1126, acc=0.9200]\n"
     ]
    },
    {
     "name": "stdout",
     "output_type": "stream",
     "text": [
      "Avg Train Loss: 0.3561, Avg Train Acc: 0.8592 (Best: 0.8751)\n"
     ]
    },
    {
     "name": "stderr",
     "output_type": "stream",
     "text": [
      "Epoch 41/200 (Validation): 100%|██████████| 100/100 [00:09<00:00, 10.55it/s, loss=0.3432, acc=0.7333]"
     ]
    },
    {
     "name": "stdout",
     "output_type": "stream",
     "text": [
      "Avg Val Loss: 0.5757, Avg Val Acc: 0.7463 (Best: 0.8077)\n",
      "Current learning rate: [0.00025]\n",
      "Early stopping\n",
      "Finish training\n"
     ]
    },
    {
     "name": "stderr",
     "output_type": "stream",
     "text": [
      "\n"
     ]
    }
   ],
   "source": [
    "from loadDataset import LoadDataset\n",
    "from fcgVectorize import FCGVectorize\n",
    "from trainModule import TrainModule\n",
    "from trainModule import TestModule\n",
    "import os\n",
    "\n",
    "dataset = LoadDataset(options, pretrain=False)\n",
    "vectorizer = FCGVectorize(options, dataset)\n",
    "vectorizer.node_embedding(dataset.rawDataset)\n",
    "trainModule = TrainModule(options, dataset)\n",
    "trainModule.train()\n"
   ]
  },
  {
   "cell_type": "code",
   "execution_count": 11,
   "metadata": {},
   "outputs": [
    {
     "name": "stdout",
     "output_type": "stream",
     "text": [
      "Setting up the testing module...\n",
      "Loading data from /mnt/ssd2t/mandy/Projects/few_shot_fcg/embeddings/x86_64_withVal_withPretrain_ghidra_6/word2vec...\n",
      "Loading validation data...\n",
      "Loading data from /mnt/ssd2t/mandy/Projects/few_shot_fcg/embeddings/x86_64_withVal_withPretrain_ghidra_6/word2vec/valData.pkl...\n",
      "Loading testing data...\n",
      "Loading data from /mnt/ssd2t/mandy/Projects/few_shot_fcg/embeddings/x86_64_withVal_withPretrain_ghidra_6/word2vec/testData.pkl...\n",
      "Finish setting up the testing module\n",
      "Model path is not provided. Using the best model...\n",
      "Record evaluation log...\n",
      "Loading model from ./checkpoints/x86_64_withVal_withPretrain_ghidra_6_baseline/5way_5shot_LabelPropagation_20250225_234703/epoch_21_0.8077333563566208_best.pth\n",
      "Best model loaded\n",
      "Model: LabelPropagation(\n",
      "  (relation): GraphRelationNetwork(\n",
      "    (sage): GraphSAGELayer(\n",
      "      (sage_convs): ModuleList(\n",
      "        (0): SAGEConv(128, 64, aggr=mean)\n",
      "      )\n",
      "      (norms): ModuleList(\n",
      "        (0): BatchNorm1d(64, eps=1e-05, momentum=0.1, affine=True, track_running_stats=True)\n",
      "      )\n",
      "    )\n",
      "    (fc): Sequential(\n",
      "      (0): Linear(in_features=64, out_features=32, bias=True)\n",
      "      (1): ReLU()\n",
      "      (2): Linear(in_features=32, out_features=1, bias=True)\n",
      "    )\n",
      "  )\n",
      "  (encoder): GraphSAGELayer(\n",
      "    (sage_convs): ModuleList(\n",
      "      (0-1): 2 x SAGEConv(128, 128, aggr=mean)\n",
      "    )\n",
      "    (norms): ModuleList(\n",
      "      (0-1): 2 x BatchNorm1d(128, eps=1e-05, momentum=0.1, affine=True, track_running_stats=True)\n",
      "    )\n",
      "  )\n",
      ")\n",
      "Start evaluation... (testing dataset)\n",
      "Epoch 1\n"
     ]
    },
    {
     "name": "stderr",
     "output_type": "stream",
     "text": [
      "Testing: 100%|██████████| 100/100 [00:05<00:00, 16.85it/s]\n"
     ]
    },
    {
     "name": "stdout",
     "output_type": "stream",
     "text": [
      "Epoch 2\n"
     ]
    },
    {
     "name": "stderr",
     "output_type": "stream",
     "text": [
      "Testing: 100%|██████████| 100/100 [00:06<00:00, 16.01it/s]\n"
     ]
    },
    {
     "name": "stdout",
     "output_type": "stream",
     "text": [
      "Epoch 3\n"
     ]
    },
    {
     "name": "stderr",
     "output_type": "stream",
     "text": [
      "Testing: 100%|██████████| 100/100 [00:06<00:00, 15.79it/s]\n"
     ]
    },
    {
     "name": "stdout",
     "output_type": "stream",
     "text": [
      "Epoch 4\n"
     ]
    },
    {
     "name": "stderr",
     "output_type": "stream",
     "text": [
      "Testing: 100%|██████████| 100/100 [00:06<00:00, 16.02it/s]\n"
     ]
    },
    {
     "name": "stdout",
     "output_type": "stream",
     "text": [
      "Epoch 5\n"
     ]
    },
    {
     "name": "stderr",
     "output_type": "stream",
     "text": [
      "Testing: 100%|██████████| 100/100 [00:06<00:00, 16.14it/s]\n"
     ]
    },
    {
     "name": "stdout",
     "output_type": "stream",
     "text": [
      "Epoch 6\n"
     ]
    },
    {
     "name": "stderr",
     "output_type": "stream",
     "text": [
      "Testing: 100%|██████████| 100/100 [00:06<00:00, 16.59it/s]\n"
     ]
    },
    {
     "name": "stdout",
     "output_type": "stream",
     "text": [
      "Epoch 7\n"
     ]
    },
    {
     "name": "stderr",
     "output_type": "stream",
     "text": [
      "Testing: 100%|██████████| 100/100 [00:06<00:00, 15.71it/s]\n"
     ]
    },
    {
     "name": "stdout",
     "output_type": "stream",
     "text": [
      "Epoch 8\n"
     ]
    },
    {
     "name": "stderr",
     "output_type": "stream",
     "text": [
      "Testing: 100%|██████████| 100/100 [00:06<00:00, 15.36it/s]\n"
     ]
    },
    {
     "name": "stdout",
     "output_type": "stream",
     "text": [
      "Epoch 9\n"
     ]
    },
    {
     "name": "stderr",
     "output_type": "stream",
     "text": [
      "Testing: 100%|██████████| 100/100 [00:06<00:00, 16.66it/s]\n"
     ]
    },
    {
     "name": "stdout",
     "output_type": "stream",
     "text": [
      "Epoch 10\n"
     ]
    },
    {
     "name": "stderr",
     "output_type": "stream",
     "text": [
      "Testing: 100%|██████████| 100/100 [00:06<00:00, 15.55it/s]"
     ]
    },
    {
     "name": "stdout",
     "output_type": "stream",
     "text": [
      "Testing accuracy: 0.7369\n",
      "Finish evaluation\n"
     ]
    },
    {
     "name": "stderr",
     "output_type": "stream",
     "text": [
      "\n"
     ]
    }
   ],
   "source": [
    "test = TestModule(os.path.join(trainModule.model_folder, \"config.json\"), dataset, options)\n",
    "test.eval()"
   ]
  },
  {
   "cell_type": "code",
   "execution_count": 12,
   "metadata": {},
   "outputs": [
    {
     "name": "stdout",
     "output_type": "stream",
     "text": [
      "Record evaluation log...\n",
      "Loading model from /home/mandy/Projects/few_shot_fcg/checkpoints/x86_64_withVal_withPretrain_ghidra_6_baseline/5way_5shot_LabelPropagation_20250225_234703/epoch_40_0.7502666833996773_checkpoint.pth\n",
      "Best model loaded\n",
      "Model: LabelPropagation(\n",
      "  (relation): GraphRelationNetwork(\n",
      "    (sage): GraphSAGELayer(\n",
      "      (sage_convs): ModuleList(\n",
      "        (0): SAGEConv(128, 64, aggr=mean)\n",
      "      )\n",
      "      (norms): ModuleList(\n",
      "        (0): BatchNorm1d(64, eps=1e-05, momentum=0.1, affine=True, track_running_stats=True)\n",
      "      )\n",
      "    )\n",
      "    (fc): Sequential(\n",
      "      (0): Linear(in_features=64, out_features=32, bias=True)\n",
      "      (1): ReLU()\n",
      "      (2): Linear(in_features=32, out_features=1, bias=True)\n",
      "    )\n",
      "  )\n",
      "  (encoder): GraphSAGELayer(\n",
      "    (sage_convs): ModuleList(\n",
      "      (0-1): 2 x SAGEConv(128, 128, aggr=mean)\n",
      "    )\n",
      "    (norms): ModuleList(\n",
      "      (0-1): 2 x BatchNorm1d(128, eps=1e-05, momentum=0.1, affine=True, track_running_stats=True)\n",
      "    )\n",
      "  )\n",
      ")\n",
      "Start evaluation... (testing dataset)\n",
      "Epoch 1\n"
     ]
    },
    {
     "name": "stderr",
     "output_type": "stream",
     "text": [
      "Testing: 100%|██████████| 100/100 [00:06<00:00, 16.46it/s]\n"
     ]
    },
    {
     "name": "stdout",
     "output_type": "stream",
     "text": [
      "Epoch 2\n"
     ]
    },
    {
     "name": "stderr",
     "output_type": "stream",
     "text": [
      "Testing: 100%|██████████| 100/100 [00:06<00:00, 16.22it/s]\n"
     ]
    },
    {
     "name": "stdout",
     "output_type": "stream",
     "text": [
      "Epoch 3\n"
     ]
    },
    {
     "name": "stderr",
     "output_type": "stream",
     "text": [
      "Testing: 100%|██████████| 100/100 [00:06<00:00, 16.17it/s]\n"
     ]
    },
    {
     "name": "stdout",
     "output_type": "stream",
     "text": [
      "Epoch 4\n"
     ]
    },
    {
     "name": "stderr",
     "output_type": "stream",
     "text": [
      "Testing: 100%|██████████| 100/100 [00:06<00:00, 16.57it/s]\n"
     ]
    },
    {
     "name": "stdout",
     "output_type": "stream",
     "text": [
      "Epoch 5\n"
     ]
    },
    {
     "name": "stderr",
     "output_type": "stream",
     "text": [
      "Testing: 100%|██████████| 100/100 [00:06<00:00, 16.02it/s]\n"
     ]
    },
    {
     "name": "stdout",
     "output_type": "stream",
     "text": [
      "Epoch 6\n"
     ]
    },
    {
     "name": "stderr",
     "output_type": "stream",
     "text": [
      "Testing: 100%|██████████| 100/100 [00:06<00:00, 15.96it/s]\n"
     ]
    },
    {
     "name": "stdout",
     "output_type": "stream",
     "text": [
      "Epoch 7\n"
     ]
    },
    {
     "name": "stderr",
     "output_type": "stream",
     "text": [
      "Testing: 100%|██████████| 100/100 [00:06<00:00, 16.17it/s]\n"
     ]
    },
    {
     "name": "stdout",
     "output_type": "stream",
     "text": [
      "Epoch 8\n"
     ]
    },
    {
     "name": "stderr",
     "output_type": "stream",
     "text": [
      "Testing: 100%|██████████| 100/100 [00:06<00:00, 15.96it/s]\n"
     ]
    },
    {
     "name": "stdout",
     "output_type": "stream",
     "text": [
      "Epoch 9\n"
     ]
    },
    {
     "name": "stderr",
     "output_type": "stream",
     "text": [
      "Testing: 100%|██████████| 100/100 [00:06<00:00, 16.60it/s]\n"
     ]
    },
    {
     "name": "stdout",
     "output_type": "stream",
     "text": [
      "Epoch 10\n"
     ]
    },
    {
     "name": "stderr",
     "output_type": "stream",
     "text": [
      "Testing: 100%|██████████| 100/100 [00:06<00:00, 16.64it/s]"
     ]
    },
    {
     "name": "stdout",
     "output_type": "stream",
     "text": [
      "Testing accuracy: 0.7346\n",
      "Finish evaluation\n"
     ]
    },
    {
     "name": "stderr",
     "output_type": "stream",
     "text": [
      "\n"
     ]
    }
   ],
   "source": [
    "test.eval(\"/home/mandy/Projects/few_shot_fcg/checkpoints/x86_64_withVal_withPretrain_ghidra_6_baseline/5way_5shot_LabelPropagation_20250225_234703/epoch_40_0.7502666833996773_checkpoint.pth\")"
   ]
  }
 ],
 "metadata": {
  "kernelspec": {
   "display_name": "prototype",
   "language": "python",
   "name": "python3"
  },
  "language_info": {
   "codemirror_mode": {
    "name": "ipython",
    "version": 3
   },
   "file_extension": ".py",
   "mimetype": "text/x-python",
   "name": "python",
   "nbconvert_exporter": "python",
   "pygments_lexer": "ipython3",
   "version": "3.11.9"
  }
 },
 "nbformat": 4,
 "nbformat_minor": 2
}
