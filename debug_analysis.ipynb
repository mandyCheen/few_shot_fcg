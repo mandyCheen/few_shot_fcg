{
 "cells": [
  {
   "cell_type": "code",
   "execution_count": null,
   "metadata": {},
   "outputs": [],
   "source": [
    "%load_ext autoreload\n",
    "%autoreload 2 "
   ]
  },
  {
   "cell_type": "markdown",
   "metadata": {},
   "source": [
    "### Check embedding error\n"
   ]
  },
  {
   "cell_type": "code",
   "execution_count": null,
   "metadata": {},
   "outputs": [],
   "source": [
    "path = \"/mnt/ssd2t/mandy/Projects/few_shot_fcg/embeddings/x86_64_withVal_withPretrain_ghidra/word2vec/Advanced Micro Devices X86-64/aidra/81193e9a87778d7899a523adc7949f1a8af267d268e1dd51298165c22b890f4e.gpickle\"\n",
    "\n",
    "import networkx as nx\n",
    "import pickle\n",
    "import torch\n",
    "\n",
    "with open(path, \"rb\") as f:\n",
    "    G = pickle.load(f)\n",
    "    \n",
    "node = \"0x4012f0L\"\n",
    "\n",
    "print(G.nodes[node])\n",
    "G.nodes[node][\"x\"] = []\n",
    "print(G.nodes[node])\n",
    "\n",
    "# with open(path, \"wb\") as f:\n",
    "#     pickle.dump(G, f)"
   ]
  },
  {
   "cell_type": "code",
   "execution_count": null,
   "metadata": {},
   "outputs": [],
   "source": [
    "import torch\n",
    "def check_model_weights(model_path, device):\n",
    "    # 載入模型\n",
    "    checkpoint = torch.load(model_path, map_location=device)\n",
    "    # 1. 檢查state dict是否為空\n",
    "    if not checkpoint[\"model_state_dict\"]:\n",
    "        print(\"Warning: Model state dict is empty!\")\n",
    "        return False\n",
    "        \n",
    "    # 2. 印出模型的所有權重名稱和形狀\n",
    "    for name, param in checkpoint[\"model_state_dict\"].items():\n",
    "        print(f\"Layer: {name} | Shape: {param.shape}\")\n",
    "        print(param)\n",
    "        \n",
    "    # 3. 檢查權重是否包含非零值\n",
    "    for param in checkpoint[\"model_state_dict\"].values():\n",
    "        if torch.all(param == 0):\n",
    "            print(f\"Warning: Found all-zero parameter tensor!\")\n",
    "            \n",
    "    return True"
   ]
  },
  {
   "cell_type": "code",
   "execution_count": null,
   "metadata": {},
   "outputs": [],
   "source": [
    "path = \"pretrained/x86_pretrained_20241122_1616/epoch_1342_best_backbone.pth\"\n",
    "device = torch.device(\"cuda\" if torch.cuda.is_available() else \"cpu\")\n",
    "\n",
    "check_model_weights(path, device)"
   ]
  },
  {
   "cell_type": "markdown",
   "metadata": {},
   "source": [
    "### Check validation dataset & test dataset difference"
   ]
  },
  {
   "cell_type": "code",
   "execution_count": null,
   "metadata": {},
   "outputs": [],
   "source": [
    "import pickle\n",
    "testPath = \"/mnt/ssd2t/mandy/Projects/few_shot_fcg/embeddings/x86_64_withVal_withPretrain_ghidra/word2vec/testData.pkl\"\n",
    "valPath = \"/mnt/ssd2t/mandy/Projects/few_shot_fcg/embeddings/x86_64_withVal_withPretrain_ghidra/word2vec/valData.pkl\"\n",
    "\n",
    "with open(testPath, \"rb\") as f:\n",
    "    test = pickle.load(f)\n",
    "    \n",
    "with open(valPath, \"rb\") as f:\n",
    "    val = pickle.load(f)\n",
    "\n"
   ]
  },
  {
   "cell_type": "code",
   "execution_count": null,
   "metadata": {},
   "outputs": [],
   "source": [
    "print(len(test[0]))\n",
    "print(len(val[0]))"
   ]
  },
  {
   "cell_type": "code",
   "execution_count": null,
   "metadata": {},
   "outputs": [],
   "source": [
    "testAvgLen = sum([len(graph.x) for graph in test[0]]) / len(test[0])\n",
    "valAvgLen = sum([len(graph.x) for graph in val[0]]) / len(val[0])\n",
    "\n",
    "print(testAvgLen)\n",
    "print(valAvgLen)"
   ]
  },
  {
   "cell_type": "markdown",
   "metadata": {},
   "source": [
    "### Get label dictionary data when loading data"
   ]
  },
  {
   "cell_type": "code",
   "execution_count": null,
   "metadata": {},
   "outputs": [],
   "source": [
    "from utils import load_config\n",
    "from loadDataset import LoadDataset\n",
    "from trainModule import TestModule\n",
    "import os\n",
    "\n",
    "seeds = [6, 7, 10, 11, 19, 22, 31, 42, 666, 888]\n",
    "\n",
    "for seed in seeds:\n",
    "    configPath = f\"/home/manying/Projects/fcgFewShot/config/config_NICT_Ghidra_x86_64_{seed}.json\"\n",
    "    options = load_config(configPath)\n",
    "    \n",
    "    options[\"paths\"][\"data\"][\"embedding_folder\"] = \"/home/manying/Projects/fcgFewShot/embeddings\"\n",
    "    dataset = LoadDataset(options)\n",
    "    test = TestModule(configPath, dataset, options)\n"
   ]
  },
  {
   "cell_type": "markdown",
   "metadata": {},
   "source": [
    "### Test: train on 10-way test on 5-way performance\n",
    "Testing on seed_6_baseline: LP 10-way 5-shot"
   ]
  },
  {
   "cell_type": "code",
   "execution_count": null,
   "metadata": {},
   "outputs": [],
   "source": [
    "from utils import load_config, save_config\n",
    "import os\n",
    "from loadDataset import LoadDataset\n",
    "from trainModule import TestModule\n",
    "configPath = \"/home/mandy/Projects/few_shot_fcg/checkpoints/x86_64_withVal_withPretrain_ghidra_6_baseline/10way_5shot_LabelPropagation_alpha0.7_k20_20250315_155140/config.json\"\n",
    "options = load_config(configPath)\n",
    "newConfigPath = os.path.join(os.path.dirname(configPath), \"config_5way.json\")\n",
    "### change settings\n",
    "options[\"settings\"][\"few_shot\"][\"test\"][\"class_per_iter\"] = 5\n",
    "options[\"settings\"][\"train\"][\"distance\"] = \"euclidean\"\n",
    "save_config(options, newConfigPath)\n",
    "\n",
    "dataset = LoadDataset(options)\n",
    "\n",
    "test = TestModule(newConfigPath, dataset)\n",
    "test.eval()"
   ]
  },
  {
   "cell_type": "markdown",
   "metadata": {},
   "source": [
    "### Analysis diff backbone parameters"
   ]
  },
  {
   "cell_type": "code",
   "execution_count": null,
   "metadata": {},
   "outputs": [],
   "source": [
    "from models import GraphSAGELayer, GATLayer, GCNLayer, GINLayer\n",
    "\n",
    "\n",
    "def count_params(model):\n",
    "    return sum(p.numel() for p in model.parameters() if p.requires_grad)\n",
    "\n",
    "dims = dict(dim_in=128, dim_h=128, dim_o=128, num_layers=3)\n",
    "models = {\n",
    "    'GCN'      : GCNLayer(**dims),\n",
    "    'GraphSAGE': GraphSAGELayer(**dims),\n",
    "    'GAT'      : GATLayer(**dims, heads=8),\n",
    "    'GIN'      : GINLayer(**dims)\n",
    "}\n",
    "\n",
    "for name, m in models.items():\n",
    "    print(f'{name}: {count_params(m):,} parameters')\n"
   ]
  },
  {
   "cell_type": "markdown",
   "metadata": {},
   "source": [
    "### Check fcg node without \"x\""
   ]
  },
  {
   "cell_type": "code",
   "execution_count": null,
   "metadata": {},
   "outputs": [],
   "source": [
    "check_path = \"/home/manying/Projects/fcgFewShot/dataset/data_ghidra_fcg_openset/Intel 80386\"\n",
    "\n",
    "import os, pickle\n",
    "\n",
    "for familyFolder in os.listdir(check_path):\n",
    "    familyPath = os.path.join(check_path, familyFolder)\n",
    "    if not os.path.isdir(familyPath):\n",
    "        continue\n",
    "    for file in os.listdir(familyPath):\n",
    "        filePath = os.path.join(familyPath, file)\n",
    "        if not file.endswith(\".gpickle\"):\n",
    "            continue\n",
    "        with open(filePath, \"rb\") as f:\n",
    "            data = pickle.load(f)\n",
    "            for node in data.nodes:\n",
    "                if \"x\" not in data.nodes[node]:\n",
    "                    print(f\"Node {node} in file {filePath} does not have 'x' attribute.\")\n",
    "                    continue"
   ]
  },
  {
   "cell_type": "code",
   "execution_count": null,
   "metadata": {},
   "outputs": [],
   "source": [
    "file_path = \"./dataset/data_ghidra_fcg/Intel 80386/ddostf/000f5bc23812367aecf93ff5d6c96ac644f0ae819096af6eab13eb1993b8dbe4.gpickle\""
   ]
  },
  {
   "cell_type": "markdown",
   "metadata": {},
   "source": [
    "### Check ARM malware"
   ]
  },
  {
   "cell_type": "code",
   "execution_count": null,
   "metadata": {},
   "outputs": [],
   "source": [
    "import networkx as nx\n",
    "import pickle\n",
    "import os\n",
    "\n",
    "familyList = [\"tediss\", \"dowgin\", \"mobidash\", \"helper\", \"sagent\", \"zergrush\", \"zhtrap\", \"rootnik\", \"boqx\", \"mirai\", \"gafgyt\", \"shixot\", \"feejar\", \"gluper\", \"dofloo\", \"dnsamp\", \"sidewalk\", \"wapron\", \"badpac\", \"ngioweb\", \"tekya\", \"monitorminor\", \"meterpreter\"]\n",
    "dataPath = \"/home/manying/Projects/fcgFewShot/dataset/data_ghidra_fcg/ARM\"\n",
    "embedPath = \"/home/manying/Projects/fcgFewShot/embeddings/arm_withVal_ghidra_42/word2vec/ARM\"\n",
    "\n",
    "for familyFolder in familyList:\n",
    "    familyPath = os.path.join(dataPath, familyFolder)\n",
    "    embedFamilyPath = os.path.join(embedPath, familyFolder)\n",
    "    if not os.path.isdir(familyPath):\n",
    "        print(f\"Family folder {familyFolder} does not exist in {dataPath}.\")\n",
    "        continue\n",
    "    for file in os.listdir(familyPath):\n",
    "        filePath = os.path.join(familyPath, file)\n",
    "        print(filePath)\n",
    "        if not file.endswith(\".gpickle\"):\n",
    "            continue\n",
    "        with open(filePath, \"rb\") as f:\n",
    "            data = pickle.load(f)\n",
    "            print(data)\n",
    "            for node in data.nodes:\n",
    "                print(data.nodes[node])\n",
    "    for file in os.listdir(embedFamilyPath):\n",
    "        filePath = os.path.join(embedFamilyPath, file)\n",
    "        if not file.endswith(\".gpickle\"):\n",
    "            continue\n",
    "        with open(filePath, \"rb\") as f:\n",
    "            data = pickle.load(f)\n",
    "            print(data)\n",
    "            for node in data.nodes:\n",
    "                print(data.nodes[node])\n",
    "\n",
    "    break\n"
   ]
  },
  {
   "cell_type": "code",
   "execution_count": null,
   "metadata": {},
   "outputs": [],
   "source": []
  }
 ],
 "metadata": {
  "kernelspec": {
   "display_name": "prototype",
   "language": "python",
   "name": "python3"
  },
  "language_info": {
   "codemirror_mode": {
    "name": "ipython",
    "version": 3
   },
   "file_extension": ".py",
   "mimetype": "text/x-python",
   "name": "python",
   "nbconvert_exporter": "python",
   "pygments_lexer": "ipython3",
   "version": "3.11.9"
  }
 },
 "nbformat": 4,
 "nbformat_minor": 2
}
