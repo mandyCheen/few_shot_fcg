{
 "cells": [
  {
   "cell_type": "code",
   "execution_count": 5,
   "metadata": {},
   "outputs": [
    {
     "name": "stdout",
     "output_type": "stream",
     "text": [
      "1340\n"
     ]
    }
   ],
   "source": [
    "root_data = \"../data_5_9_4_fcg/\"\n",
    "csv_data_path = \"../dataset/raw_csv/malware_diec_x86_64_fcg_dataset.csv\"\n",
    "\n",
    "import os\n",
    "import pandas as pd\n",
    "\n",
    "dataset = pd.read_csv(csv_data_path)   \n",
    "\n",
    "print(len(dataset))"
   ]
  },
  {
   "cell_type": "code",
   "execution_count": 6,
   "metadata": {},
   "outputs": [
    {
     "name": "stderr",
     "output_type": "stream",
     "text": [
      "  2%|▏         | 28/1340 [00:00<00:04, 273.91it/s]"
     ]
    },
    {
     "name": "stderr",
     "output_type": "stream",
     "text": [
      "100%|██████████| 1340/1340 [01:44<00:00, 12.84it/s] "
     ]
    },
    {
     "name": "stdout",
     "output_type": "stream",
     "text": [
      "Total number of opcodes: 766\n"
     ]
    },
    {
     "name": "stderr",
     "output_type": "stream",
     "text": [
      "\n"
     ]
    }
   ],
   "source": [
    "import networkx as nx\n",
    "import pickle\n",
    "opcode_set = set()\n",
    "\n",
    "output_opcode_set = \"./opcode_set.txt\"\n",
    "output_log = \"./log.txt\" \n",
    "from tqdm import tqdm\n",
    "\n",
    "for index, row in tqdm(dataset.iterrows(), total=dataset.shape[0]):\n",
    "    cpu = row['CPU']\n",
    "    name = row['file_name']\n",
    "    family = row['family']\n",
    "    fcg_path = root_data + cpu + \"/\" + family + \"/\" + name + \".gpickle\"\n",
    "    with open(fcg_path, 'rb') as f:\n",
    "        fcg = pickle.load(f)\n",
    "        avg = 0\n",
    "        for node in fcg.nodes():\n",
    "            length = len(fcg.nodes[node]['x'])\n",
    "            opcode_set.update(fcg.nodes[node]['x'])\n",
    "            avg += length\n",
    "        avg /= len(fcg.nodes)\n",
    "        f.close()\n",
    "    with open(output_log, 'a') as f:\n",
    "        f.write(f\"{name}: {fcg}\\n\")\n",
    "        f.write(f\"Average length: {avg}\\n\")\n",
    "        f.close()\n",
    "\n",
    "with open(output_opcode_set, 'w') as f:\n",
    "    for opcode in opcode_set:\n",
    "        f.write(f\"{opcode}\\n\")\n",
    "    f.close()\n",
    "\n",
    "print(f\"Total number of opcodes: {len(opcode_set)}\")\n"
   ]
  },
  {
   "cell_type": "code",
   "execution_count": null,
   "metadata": {},
   "outputs": [],
   "source": [
    "with open(\"../data_5_9_4_fcg/Advanced Micro Devices X86-64/ngioweb/ce80b0bc395ee35f5c6fe08dfeba77cf924d36a382bd0c141e0e3b01bd192e3f.gpickle\", 'rb') as f:\n",
    "\n",
    "    fcg = pickle.load(f)\n",
    "    for node in fcg.nodes():\n",
    "        print(fcg.nodes[node]['x'])\n",
    "\n"
   ]
  },
  {
   "cell_type": "code",
   "execution_count": null,
   "metadata": {},
   "outputs": [],
   "source": []
  }
 ],
 "metadata": {
  "kernelspec": {
   "display_name": "prototype",
   "language": "python",
   "name": "python3"
  },
  "language_info": {
   "codemirror_mode": {
    "name": "ipython",
    "version": 3
   },
   "file_extension": ".py",
   "mimetype": "text/x-python",
   "name": "python",
   "nbconvert_exporter": "python",
   "pygments_lexer": "ipython3",
   "version": "3.11.9"
  }
 },
 "nbformat": 4,
 "nbformat_minor": 2
}
