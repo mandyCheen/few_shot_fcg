{
 "cells": [
  {
   "cell_type": "code",
   "execution_count": 1,
   "metadata": {},
   "outputs": [
    {
     "name": "stdout",
     "output_type": "stream",
     "text": [
      "<class 'list'>\n"
     ]
    }
   ],
   "source": [
    "from gensim.test.utils import common_texts\n",
    "\n",
    "from gensim.models import Word2Vec\n",
    "\n",
    "print(type(common_texts[0]))"
   ]
  },
  {
   "cell_type": "code",
   "execution_count": 3,
   "metadata": {},
   "outputs": [
    {
     "name": "stderr",
     "output_type": "stream",
     "text": [
      "/home/manying/Tools/anaconda3/envs/prototype/lib/python3.11/site-packages/torch_geometric/utils/convert.py:278: UserWarning: Creating a tensor from a list of numpy.ndarrays is extremely slow. Please consider converting the list to a single numpy.ndarray with numpy.array() before converting to a tensor. (Triggered internally at /opt/conda/conda-bld/pytorch_1720538437738/work/torch/csrc/utils/tensor_new.cpp:278.)\n",
      "  data_dict[key] = torch.as_tensor(value)\n"
     ]
    }
   ],
   "source": [
    "from torch_geometric.utils.convert import from_networkx\n",
    "import pickle\n",
    "\n",
    "filePath = \"/home/manying/Projects/fcgFewShot/embeddings/word2vec/Advanced Micro Devices X86-64/adore/9b2f229e504900957812985c538c9984ebb9e1d6194100d5b64751ec9d597115.gpickle\"\n",
    "\n",
    "with open(filePath, \"rb\") as f:\n",
    "    fcg = pickle.load(f)\n",
    "torch_data = from_networkx(fcg)\n",
    "torch_data.y"
   ]
  },
  {
   "cell_type": "code",
   "execution_count": 6,
   "metadata": {},
   "outputs": [
    {
     "name": "stdout",
     "output_type": "stream",
     "text": [
      "[('entry0', 'reloc.__libc_start_main'), ('entry.fini0', 'fcn.00001150'), ('entry.fini0', 'sym.deregister_tm_clones'), ('sym.adore_makeroot', 'sym.imp.open'), ('sym.adore_makeroot', 'sym.imp.close'), ('sym.adore_makeroot', 'sym.imp.unlink'), ('sym.adore_makeroot', 'sym.imp.geteuid'), ('sym.adore_init', 'sym.imp.calloc'), ('sym.adore_init', 'sym.imp.open'), ('sym.adore_init', 'sym.imp.close'), ('sym.adore_init', 'sym.imp.unlink'), ('sym.adore_init', 'sym.imp.getresuid'), ('sym.adore_init', 'sym.imp.printf'), ('sym.adore_init', 'sym.imp.getuid'), ('sym.adore_init', 'sym.imp.fwrite'), ('sym.adore_init', 'sym.imp.__stack_chk_fail'), ('sym.adore_free', 'sym.imp.free'), ('main', 'sym.adore_init'), ('main', 'sym.adore_makeroot'), ('main', 'sym.adore_getvers'), ('main', 'sym.imp.printf'), ('main', 'sym.imp.exit'), ('main', 'sym.imp.fwrite'), ('main', 'sym.imp.puts'), ('main', 'sym.adore_hidefile'), ('main', 'sym.adore_unhidefile'), ('main', 'sym.imp.strtol'), ('main', 'sym.adore_hideproc'), ('main', 'sym.adore_unhideproc'), ('main', 'sym.imp.execvp'), ('main', 'sym.imp.perror'), ('main', 'sym.adore_removeproc'), ('main', 'sym.adore_uninstall'), ('sym.adore_hideproc', 'sym.imp.sprintf'), ('sym.adore_hideproc', 'sym.imp.open'), ('sym.adore_hideproc', 'sym.imp.close'), ('sym.adore_hideproc', 'sym.imp.unlink'), ('sym.adore_hideproc', 'sym.imp.__stack_chk_fail'), ('sym.adore_unhideproc', 'sym.imp.sprintf'), ('sym.adore_unhideproc', 'sym.imp.open'), ('sym.adore_unhideproc', 'sym.imp.close'), ('sym.adore_unhideproc', 'sym.imp.unlink'), ('sym.adore_unhideproc', 'sym.imp.__stack_chk_fail'), ('sym.adore_removeproc', 'sym.imp.puts'), ('sym.adore_uninstall', 'sym.imp.open'), ('sym.adore_uninstall', 'sym.imp.close')]\n"
     ]
    }
   ],
   "source": [
    "print(fcg.edges)"
   ]
  },
  {
   "cell_type": "code",
   "execution_count": null,
   "metadata": {},
   "outputs": [],
   "source": []
  }
 ],
 "metadata": {
  "kernelspec": {
   "display_name": "prototype",
   "language": "python",
   "name": "python3"
  },
  "language_info": {
   "codemirror_mode": {
    "name": "ipython",
    "version": 3
   },
   "file_extension": ".py",
   "mimetype": "text/x-python",
   "name": "python",
   "nbconvert_exporter": "python",
   "pygments_lexer": "ipython3",
   "version": "3.11.9"
  }
 },
 "nbformat": 4,
 "nbformat_minor": 2
}
